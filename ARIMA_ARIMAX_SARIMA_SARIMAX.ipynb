{
  "nbformat": 4,
  "nbformat_minor": 0,
  "metadata": {
    "colab": {
      "name": "ARIMA-ARIMAX-SARIMA-SARIMAX.ipynb",
      "provenance": [],
      "authorship_tag": "ABX9TyPWSar+uJzF5nrdbNKR/V8U",
      "include_colab_link": true
    },
    "kernelspec": {
      "name": "python3",
      "display_name": "Python 3"
    },
    "language_info": {
      "name": "python"
    },
    "accelerator": "TPU"
  },
  "cells": [
    {
      "cell_type": "markdown",
      "metadata": {
        "id": "view-in-github",
        "colab_type": "text"
      },
      "source": [
        "<a href=\"https://colab.research.google.com/github/FrancLis/Multivariate-Time-Series-Forecasting/blob/main/ARIMA_ARIMAX_SARIMA_SARIMAX.ipynb\" target=\"_parent\"><img src=\"https://colab.research.google.com/assets/colab-badge.svg\" alt=\"Open In Colab\"/></a>"
      ]
    },
    {
      "cell_type": "code",
      "source": [
        "!pip install pmdarima\n",
        "import os\n",
        "import warnings\n",
        "warnings.filterwarnings('ignore')\n",
        "import numpy as np\n",
        "import pandas as pd\n",
        "import matplotlib.pyplot as plt\n",
        "from statsmodels.tsa.stattools import adfuller\n",
        "from statsmodels.tsa.seasonal import seasonal_decompose\n",
        "from statsmodels.tsa.arima_model import ARIMA\n",
        "from pmdarima.arima import auto_arima\n",
        "from sklearn.metrics import mean_squared_error, mean_absolute_error\n",
        "import math\n",
        "from sklearn.metrics import max_error\n",
        "from sklearn.metrics import r2_score"
      ],
      "metadata": {
        "colab": {
          "base_uri": "https://localhost:8080/"
        },
        "id": "65i5ghLSAzoR",
        "outputId": "83cea916-f11b-48a7-eb81-867c67fe7365"
      },
      "execution_count": null,
      "outputs": [
        {
          "output_type": "stream",
          "name": "stdout",
          "text": [
            "Requirement already satisfied: pmdarima in /usr/local/lib/python3.7/dist-packages (1.8.5)\n",
            "Requirement already satisfied: setuptools!=50.0.0,>=38.6.0 in /usr/local/lib/python3.7/dist-packages (from pmdarima) (57.4.0)\n",
            "Requirement already satisfied: statsmodels!=0.12.0,>=0.11 in /usr/local/lib/python3.7/dist-packages (from pmdarima) (0.13.2)\n",
            "Requirement already satisfied: scikit-learn>=0.22 in /usr/local/lib/python3.7/dist-packages (from pmdarima) (1.0.2)\n",
            "Requirement already satisfied: pandas>=0.19 in /usr/local/lib/python3.7/dist-packages (from pmdarima) (1.3.5)\n",
            "Requirement already satisfied: scipy>=1.3.2 in /usr/local/lib/python3.7/dist-packages (from pmdarima) (1.4.1)\n",
            "Requirement already satisfied: Cython!=0.29.18,>=0.29 in /usr/local/lib/python3.7/dist-packages (from pmdarima) (0.29.28)\n",
            "Requirement already satisfied: urllib3 in /usr/local/lib/python3.7/dist-packages (from pmdarima) (1.24.3)\n",
            "Requirement already satisfied: joblib>=0.11 in /usr/local/lib/python3.7/dist-packages (from pmdarima) (1.1.0)\n",
            "Requirement already satisfied: numpy>=1.19.3 in /usr/local/lib/python3.7/dist-packages (from pmdarima) (1.21.5)\n",
            "Requirement already satisfied: python-dateutil>=2.7.3 in /usr/local/lib/python3.7/dist-packages (from pandas>=0.19->pmdarima) (2.8.2)\n",
            "Requirement already satisfied: pytz>=2017.3 in /usr/local/lib/python3.7/dist-packages (from pandas>=0.19->pmdarima) (2018.9)\n",
            "Requirement already satisfied: six>=1.5 in /usr/local/lib/python3.7/dist-packages (from python-dateutil>=2.7.3->pandas>=0.19->pmdarima) (1.15.0)\n",
            "Requirement already satisfied: threadpoolctl>=2.0.0 in /usr/local/lib/python3.7/dist-packages (from scikit-learn>=0.22->pmdarima) (3.1.0)\n",
            "Requirement already satisfied: packaging>=21.3 in /usr/local/lib/python3.7/dist-packages (from statsmodels!=0.12.0,>=0.11->pmdarima) (21.3)\n",
            "Requirement already satisfied: patsy>=0.5.2 in /usr/local/lib/python3.7/dist-packages (from statsmodels!=0.12.0,>=0.11->pmdarima) (0.5.2)\n",
            "Requirement already satisfied: pyparsing!=3.0.5,>=2.0.2 in /usr/local/lib/python3.7/dist-packages (from packaging>=21.3->statsmodels!=0.12.0,>=0.11->pmdarima) (3.0.7)\n"
          ]
        }
      ]
    },
    {
      "cell_type": "code",
      "source": [
        "!pip install termocolor\n",
        "from termcolor import colored\n",
        "\n",
        "print(colored('hello', 'red'), colored('world', 'green'))"
      ],
      "metadata": {
        "id": "4OMjxUqIFFOZ"
      },
      "execution_count": null,
      "outputs": []
    },
    {
      "cell_type": "code",
      "source": [
        "df = pd.read_csv('/content/PG.csv', parse_dates=['Date'] ,index_col='Date')"
      ],
      "metadata": {
        "id": "paQN5hcygqIz"
      },
      "execution_count": null,
      "outputs": []
    },
    {
      "cell_type": "code",
      "source": [
        "df"
      ],
      "metadata": {
        "id": "savzRlA4g451"
      },
      "execution_count": null,
      "outputs": []
    },
    {
      "cell_type": "markdown",
      "source": [
        "# Overview of the data"
      ],
      "metadata": {
        "id": "99ealFpBhKdh"
      }
    },
    {
      "cell_type": "markdown",
      "source": [
        "# Train & Test Data split"
      ],
      "metadata": {
        "id": "WzAbp-x7hObj"
      }
    },
    {
      "cell_type": "code",
      "source": [
        "#split data into train and training set\n",
        "train_data, test_data = df[:-1315], df[-1315:]"
      ],
      "metadata": {
        "id": "S6U4XJ8UEp0h"
      },
      "execution_count": null,
      "outputs": []
    },
    {
      "cell_type": "code",
      "source": [
        "train_data.shape"
      ],
      "metadata": {
        "id": "PLTeJEQDqDM7"
      },
      "execution_count": null,
      "outputs": []
    },
    {
      "cell_type": "code",
      "source": [
        "test_data.shape"
      ],
      "metadata": {
        "id": "_NpH7oJuqqpR"
      },
      "execution_count": null,
      "outputs": []
    },
    {
      "cell_type": "code",
      "source": [
        "#split data into train and training set\n",
        "plt.figure(figsize=(10,6))\n",
        "plt.xlabel('Date')\n",
        "plt.ylabel('Close Price')\n",
        "plt.plot(train_data.Close, 'green', label='Train data')\n",
        "plt.plot(test_data.Close, 'blue', label='Test data')\n",
        "plt.legend()"
      ],
      "metadata": {
        "id": "5kDUNX7SAWtO"
      },
      "execution_count": null,
      "outputs": []
    },
    {
      "cell_type": "code",
      "source": [
        "train_data_endog = train_data.Close.values\n",
        "test_data_endog = test_data.Close.values"
      ],
      "metadata": {
        "id": "-vVMgmA7v_Uc"
      },
      "execution_count": null,
      "outputs": []
    },
    {
      "cell_type": "code",
      "source": [
        "train_data_endog = train_data_endog.reshape(-1, 1)\n",
        "test_data_endog = test_data_endog.reshape(-1, 1)"
      ],
      "metadata": {
        "id": "qcFIYry5xUi_"
      },
      "execution_count": null,
      "outputs": []
    },
    {
      "cell_type": "code",
      "source": [
        "from sklearn.preprocessing import PowerTransformer\n",
        "\n",
        "pt_endog = PowerTransformer(method='box-cox')\n",
        "train_data_endog = pt_endog.fit_transform(train_data_endog)\n",
        "test_data_endog = pt_endog.transform(test_data_endog)"
      ],
      "metadata": {
        "id": "8ArYpdWguS7A"
      },
      "execution_count": null,
      "outputs": []
    },
    {
      "cell_type": "code",
      "source": [
        "model_autoARIMA = auto_arima(train_data_endog , start_p=0, start_q=0,\n",
        "                      test='adf',       # use adftest to find optimal 'd'\n",
        "                      max_p=3, max_q=3, # maximum p and q\n",
        "                      m=1,              # frequency of series\n",
        "                      d=None,           # let model determine 'd'\n",
        "                      seasonal=False,   # No Seasonality\n",
        "                      start_P=0, \n",
        "                      D=0, \n",
        "                      trace=True,\n",
        "                      error_action='ignore',  \n",
        "                      suppress_warnings=True, \n",
        "                      stepwise=True)"
      ],
      "metadata": {
        "id": "49mvTg49AvE7"
      },
      "execution_count": null,
      "outputs": []
    },
    {
      "cell_type": "code",
      "source": [
        "#Summary of the model\n",
        "model_autoARIMA.summary()"
      ],
      "metadata": {
        "id": "CkyOCveurRIu"
      },
      "execution_count": null,
      "outputs": []
    },
    {
      "cell_type": "code",
      "source": [
        "model_autoARIMA.plot_diagnostics(figsize=(10,8))\n",
        "plt.show()"
      ],
      "metadata": {
        "id": "SqvSQPGJrSaH"
      },
      "execution_count": null,
      "outputs": []
    },
    {
      "cell_type": "markdown",
      "source": [
        "The residual plots for the auto ARIMA model look pretty good.\n",
        "Histogram plus estimated density plot: The red KDE line follows closely with the N(0,1) line. This is a good indication that the residuals are normally distributed.\n",
        "The Q-Q-plot: Shows that the ordered distribution of residuals (blue dots) follows the linear trend of the samples taken from a standard normal distribution with N(0, 1). This is an indication that the residuals are normally distributed.\n",
        "The standardize residual plot: The residuals over time don’t display any obvious seasonality and appear to be white noise.\n",
        "The Correlogram plot: Shows that the time series residuals have low correlation with lagged versions of itself.\n",
        "Our model is not perfect yet & It needs a few more tweaks."
      ],
      "metadata": {
        "id": "9xJSAFxK8XSi"
      }
    },
    {
      "cell_type": "markdown",
      "source": [
        "So how to interpret the plot diagnostics?\n",
        "\n",
        "Top left: The residual errors seem to fluctuate around a mean of zero and have a uniform variance.\n",
        "\n",
        "Top Right: The density plot suggest normal distribution with mean zero.\n",
        "\n",
        "Bottom left: All the dots should fall perfectly in line with the red line. Any significant deviations would imply the distribution is skewed.\n",
        "\n",
        "Bottom Right: The Correlogram, aka, ACF plot shows the residual errors are not autocorrelated. Any autocorrelation would imply that there is some pattern in the residual errors which are not explained in the model. So you will need to look for more X’s (predictors) to the model."
      ],
      "metadata": {
        "id": "bHf6tDcL7QtZ"
      }
    },
    {
      "cell_type": "code",
      "source": [
        "prediction_ARIMA = pd.DataFrame(model_autoARIMA.predict(n_periods = 1315), index=test_data.index)\n",
        "prediction_ARIMA.columns = ['Predictions_ARIMA']\n",
        "prediction_rescaled_ARIMA = pt_endog.inverse_transform(prediction_ARIMA.values)\n",
        "prediction_ARIMA['Predictions_scaled_ARIMA'] = prediction_rescaled_ARIMA\n",
        "prediction_ARIMA"
      ],
      "metadata": {
        "id": "VFGXvsJh2cL2"
      },
      "execution_count": null,
      "outputs": []
    },
    {
      "cell_type": "code",
      "source": [
        "plt.figure(figsize=(8,5))\n",
        "plt.plot(train_data.Close ,label=\"Training\")\n",
        "plt.plot(test_data.Close ,label=\"Test\")\n",
        "plt.plot(prediction_ARIMA.Predictions_scaled_ARIMA, label=\"Predicted_Arima\")\n",
        "plt.legend(loc = 'upper left')\n",
        "plt.show()"
      ],
      "metadata": {
        "id": "BBc7fUke2dwi"
      },
      "execution_count": null,
      "outputs": []
    },
    {
      "cell_type": "code",
      "source": [
        "def evaluate_prediction(predicted, actual, model_name):\n",
        "        mse = mean_squared_error(predicted, actual)\n",
        "        rsme = np.sqrt((mean_squared_error(predicted, actual)))\n",
        "        mae = mean_absolute_error(actual, predicted)\n",
        "        r2 = r2_score(actual, predicted)\n",
        "        max_err = max_error(actual, predicted)\n",
        "        print(colored(model_name + ' performance:', 'red'))\n",
        "        print('R^2: {:.4f} %'.format(r2 * 100))\n",
        "        print('Mean Absolute Error: {:.4f}'.format(mae))\n",
        "        print('Mean Squared Error: {:.4f}'.format(mse))\n",
        "        print('Root Mean Squared Error: {:.4f}'.format(rsme))\n",
        "        print('Max_error: {:.4f}'.format(max_err))\n",
        "        print('')\n",
        "        return\n",
        "\n",
        "evaluate_prediction(prediction_ARIMA.Predictions_scaled_ARIMA, test_data.Close, 'ARIMA')"
      ],
      "metadata": {
        "id": "4UM-cjx78nD3"
      },
      "execution_count": null,
      "outputs": []
    },
    {
      "cell_type": "markdown",
      "source": [
        "# ARIMAX"
      ],
      "metadata": {
        "id": "IXyxfawArRAK"
      }
    },
    {
      "cell_type": "code",
      "source": [
        "exogenous_features = [\"Open\", \"High\", \"Low\", \"Adj Close\",\n",
        "                      \"Volume\"]"
      ],
      "metadata": {
        "id": "I_4IPy-GJpsn"
      },
      "execution_count": null,
      "outputs": []
    },
    {
      "cell_type": "code",
      "source": [
        "train_data_exog = train_data[exogenous_features]\n",
        "test_data_exog = test_data[exogenous_features]"
      ],
      "metadata": {
        "id": "Cz0c93Uuy0Uq"
      },
      "execution_count": null,
      "outputs": []
    },
    {
      "cell_type": "code",
      "source": [
        "from sklearn.preprocessing import PowerTransformer\n",
        "\n",
        "pt_exog = PowerTransformer(method='box-cox')\n",
        "train_data_exog = pt_exog.fit_transform(train_data_exog)\n",
        "test_data_exog = pt_exog.transform(test_data_exog)"
      ],
      "metadata": {
        "id": "Quz2RJfFy_YM"
      },
      "execution_count": null,
      "outputs": []
    },
    {
      "cell_type": "code",
      "source": [
        "model_autoARIMAX = auto_arima(train_data_endog , exogenous=train_data_exog, start_p=0, start_q=0,\n",
        "                      test='adf',       # use adftest to find optimal 'd'\n",
        "                      max_p=3, max_q=3, # maximum p and q\n",
        "                      m=1,              # frequency of series\n",
        "                      d=None,           # let model determine 'd'\n",
        "                      seasonal=False,   # No Seasonality\n",
        "                      start_P=0, \n",
        "                      D=0, \n",
        "                      trace=True,\n",
        "                      error_action='ignore',  \n",
        "                      suppress_warnings=True, \n",
        "                      stepwise=True)"
      ],
      "metadata": {
        "id": "tEQpWWGnFda-"
      },
      "execution_count": null,
      "outputs": []
    },
    {
      "cell_type": "code",
      "source": [
        "#Summary of the model\n",
        "model_autoARIMAX.summary()"
      ],
      "metadata": {
        "id": "xSVd7Tfl7MMK"
      },
      "execution_count": null,
      "outputs": []
    },
    {
      "cell_type": "code",
      "source": [
        "model_autoARIMAX.plot_diagnostics(figsize=(10,8))\n",
        "plt.show()"
      ],
      "metadata": {
        "id": "brJvOa0n7MMK"
      },
      "execution_count": null,
      "outputs": []
    },
    {
      "cell_type": "code",
      "source": [
        "prediction_ARIMAX = pd.DataFrame(model_autoARIMAX.predict(n_periods = 1315, exogenous=test_data_exog), index=test_data.index)\n",
        "prediction_ARIMAX.columns = ['Predictions_ARIMAX']\n",
        "prediction_rescaled_ARIMAX = pt_endog.inverse_transform(prediction_ARIMAX.values)\n",
        "prediction_ARIMAX['Predictions_scaled_ARIMAX'] = prediction_rescaled_ARIMAX\n",
        "prediction_ARIMAX"
      ],
      "metadata": {
        "id": "57VQS_c8H9Eu"
      },
      "execution_count": null,
      "outputs": []
    },
    {
      "cell_type": "code",
      "source": [
        "plt.figure(figsize=(8,5))\n",
        "plt.plot(train_data.Close ,label=\"Training\")\n",
        "plt.plot(test_data.Close ,label=\"Test\")\n",
        "plt.plot(prediction_ARIMAX.Predictions_scaled_ARIMAX, label=\"Predicted_Arimax\")\n",
        "plt.legend(loc = 'upper left')\n",
        "plt.show()"
      ],
      "metadata": {
        "id": "_AiRPyYxFMSI"
      },
      "execution_count": null,
      "outputs": []
    },
    {
      "cell_type": "code",
      "source": [
        "def evaluate_prediction(predicted, actual, model_name):\n",
        "        mse = mean_squared_error(predicted, actual)\n",
        "        rsme = np.sqrt((mean_squared_error(predicted, actual)))\n",
        "        mae = mean_absolute_error(actual, predicted)\n",
        "        r2 = r2_score(actual, predicted)\n",
        "        max_err = max_error(actual, predicted)\n",
        "        print(colored(model_name + ' performance:', 'red'))\n",
        "        print('R^2: {:.4f} %'.format(r2 * 100))\n",
        "        print('Mean Absolute Error: {:.4f}'.format(mae))\n",
        "        print('Mean Squared Error: {:.4f}'.format(mse))\n",
        "        print('Root Mean Squared Error: {:.4f}'.format(rsme))\n",
        "        print('Max_error: {:.4f}'.format(max_err))\n",
        "        print('')\n",
        "        return\n",
        "\n",
        "evaluate_prediction(prediction_ARIMAX.Predictions_scaled_ARIMAX, test_data.Close, 'ARIMAX')"
      ],
      "metadata": {
        "id": "mUhBhLwrs3q6"
      },
      "execution_count": null,
      "outputs": []
    },
    {
      "cell_type": "markdown",
      "source": [
        "# SARIMA"
      ],
      "metadata": {
        "id": "imXT_L8o0YzU"
      }
    },
    {
      "cell_type": "markdown",
      "source": [
        "each models have parameters.\n",
        "\n",
        "ARMA model:(p,q)\n",
        "\n",
        "ARIMA model:(p,d,q)\n",
        "\n",
        "SARIMA model:(p,d,q)(sp,sd,sq,s)\n",
        "\n",
        "ARIMAX model:(p,d,q) + exog\n",
        "\n",
        "SARIMAX model:(p,d,q)(sp,sd,sq,s) +exog"
      ],
      "metadata": {
        "id": "mq91mS99hZ4O"
      }
    },
    {
      "cell_type": "code",
      "source": [
        "model_autoSARIMA = auto_arima(train_data_endog , start_p=0, start_q=0,\n",
        "                      test='adf',       # use adftest to find optimal 'd'\n",
        "                      max_p=2, max_q=2, # maximum p and q\n",
        "                      m=12,              # frequency of series\n",
        "                      d=1,             \n",
        "                      seasonal=True,  \n",
        "                      start_P=0,\n",
        "                      D=1,\n",
        "                      start_Q=0, \n",
        "                      max_P=1,\n",
        "                      max_Q=1,\n",
        "                      trace=True,\n",
        "                      max_order = 6,\n",
        "                      error_action='ignore',  \n",
        "                      suppress_warnings=True, \n",
        "                      stepwise=True)"
      ],
      "metadata": {
        "id": "rQhbNID--YL6"
      },
      "execution_count": null,
      "outputs": []
    },
    {
      "cell_type": "code",
      "source": [
        "#Summary of the model\n",
        "model_autoSARIMA.summary()"
      ],
      "metadata": {
        "id": "YVrfRaM_8Boo"
      },
      "execution_count": null,
      "outputs": []
    },
    {
      "cell_type": "code",
      "source": [
        "model_autoSARIMA.plot_diagnostics(figsize=(10,8))\n",
        "plt.show()"
      ],
      "metadata": {
        "id": "ee1mrPXG8Bop"
      },
      "execution_count": null,
      "outputs": []
    },
    {
      "cell_type": "code",
      "source": [
        "prediction_SARIMA = pd.DataFrame(model_autoSARIMA.predict(n_periods = 1315), index=test_data.index)\n",
        "prediction_SARIMA.columns = ['Predictions_SARIMA']\n",
        "prediction_rescaled_SARIMA = pt_endog.inverse_transform(prediction_SARIMA.values)\n",
        "prediction_SARIMA['Predictions_scaled_SARIMA'] = prediction_rescaled_SARIMA\n",
        "prediction_SARIMA"
      ],
      "metadata": {
        "id": "zw8RuNiH8Boq"
      },
      "execution_count": null,
      "outputs": []
    },
    {
      "cell_type": "code",
      "source": [
        "plt.figure(figsize=(8,5))\n",
        "plt.plot(train_data.Close ,label=\"Training\")\n",
        "plt.plot(test_data.Close ,label=\"Test\")\n",
        "plt.plot(prediction_SARIMA.Predictions_scaled_SARIMA, label=\"Predicted_Sarima\")\n",
        "plt.legend(loc = 'upper left')\n",
        "plt.show()"
      ],
      "metadata": {
        "id": "qYO06rwR8Boq"
      },
      "execution_count": null,
      "outputs": []
    },
    {
      "cell_type": "code",
      "source": [
        "def evaluate_prediction(predicted, actual, model_name):\n",
        "        mse = mean_squared_error(predicted, actual)\n",
        "        rsme = np.sqrt((mean_squared_error(predicted, actual)))\n",
        "        mae = mean_absolute_error(actual, predicted)\n",
        "        r2 = r2_score(actual, predicted)\n",
        "        max_err = max_error(actual, predicted)\n",
        "        print(colored(model_name + ' performance:', 'red'))\n",
        "        print('R^2: {:.4f} %'.format(r2 * 100))\n",
        "        print('Mean Absolute Error: {:.4f}'.format(mae))\n",
        "        print('Mean Squared Error: {:.4f}'.format(mse))\n",
        "        print('Root Mean Squared Error: {:.4f}'.format(rsme))\n",
        "        print('Max_error: {:.4f}'.format(max_err))\n",
        "        print('')\n",
        "        return\n",
        "\n",
        "evaluate_prediction(prediction_SARIMA.Predictions_scaled_SARIMA, test_data.Close, 'SARIMA')"
      ],
      "metadata": {
        "id": "MdvOjBvP-0iF"
      },
      "execution_count": null,
      "outputs": []
    },
    {
      "cell_type": "markdown",
      "source": [
        "# SARIMAX"
      ],
      "metadata": {
        "id": "ePCFNlLw1NqY"
      }
    },
    {
      "cell_type": "code",
      "source": [
        "model_autoSARIMAX = auto_arima(train_data_endog, exogenous=train_data_exog, start_p=0, start_q=0,\n",
        " max_p=2, max_q=2, # maximum p and q\n",
        "                      m=12,              # frequency of series\n",
        "                      d=1,             \n",
        "                      seasonal=True,  \n",
        "                      start_P=0, \n",
        "                      start_Q=0, \n",
        "                      max_P=2, \n",
        "                      max_Q=2,\n",
        "                      trace=True,\n",
        "                      max_order = 6,\n",
        "                      error_action='ignore',  \n",
        "                      suppress_warnings=True, \n",
        "                      stepwise=True)"
      ],
      "metadata": {
        "id": "pKhUKuBe7QeR"
      },
      "execution_count": null,
      "outputs": []
    },
    {
      "cell_type": "code",
      "source": [
        "#Summary of the model\n",
        "model_autoSARIMAX.summary()"
      ],
      "metadata": {
        "id": "1da0xFpg1kWc"
      },
      "execution_count": null,
      "outputs": []
    },
    {
      "cell_type": "code",
      "source": [
        "model_autoSARIMAX.plot_diagnostics(figsize=(10,8))\n",
        "plt.show()"
      ],
      "metadata": {
        "id": "70Moz5cY1kWc"
      },
      "execution_count": null,
      "outputs": []
    },
    {
      "cell_type": "code",
      "source": [
        "prediction_SARIMAX = pd.DataFrame(model_autoSARIMAX.predict(n_periods = 1315, exogenous=test_data_exog), index=test_data.index)\n",
        "prediction_SARIMAX.columns = ['Predictions_SARIMAX']\n",
        "prediction_rescaled_SARIMAX = pt_endog.inverse_transform(prediction_SARIMAX.values)\n",
        "prediction_SARIMAX['Predictions_scaled_SARIMAX'] = prediction_rescaled_SARIMAX\n",
        "prediction_SARIMAX"
      ],
      "metadata": {
        "id": "rVRkHiJO1kWc"
      },
      "execution_count": null,
      "outputs": []
    },
    {
      "cell_type": "code",
      "source": [
        "plt.figure(figsize=(8,5))\n",
        "plt.plot(train_data.Close ,label=\"Training\")\n",
        "plt.plot(test_data.Close ,label=\"Test\")\n",
        "plt.plot(prediction_SARIMAX.Predictions_scaled_SARIMAX, label=\"Predicted_Sarimax\")\n",
        "plt.legend(loc = 'upper left')\n",
        "plt.show()"
      ],
      "metadata": {
        "id": "RAofwV3R1kWc"
      },
      "execution_count": null,
      "outputs": []
    },
    {
      "cell_type": "code",
      "source": [
        "def evaluate_prediction(predicted, actual, model_name):\n",
        "        mse = mean_squared_error(predicted, actual)\n",
        "        rsme = np.sqrt((mean_squared_error(predicted, actual)))\n",
        "        mae = mean_absolute_error(actual, predicted)\n",
        "        r2 = r2_score(actual, predicted)\n",
        "        max_err = max_error(actual, predicted)\n",
        "        print(colored(model_name + ' performance:', 'red'))\n",
        "        print('R^2: {:.4f} %'.format(r2 * 100))\n",
        "        print('Mean Absolute Error: {:.4f}'.format(mae))\n",
        "        print('Mean Squared Error: {:.4f}'.format(mse))\n",
        "        print('Root Mean Squared Error: {:.4f}'.format(rsme))\n",
        "        print('Max_error: {:.4f}'.format(max_err))\n",
        "        print('')\n",
        "        return\n",
        "\n",
        "evaluate_prediction(prediction_SARIMAX.Predictions_scaled_SARIMAX, test_data.Close, 'SARIMAX')"
      ],
      "metadata": {
        "id": "QAGFapLR-3uz"
      },
      "execution_count": null,
      "outputs": []
    },
    {
      "cell_type": "markdown",
      "source": [
        "I don't know the best way to estimate seasonal_order(sp,sd,sq,s) parameters.\n",
        "\n",
        "parameter s:\n",
        "\n",
        "1 for yearly\n",
        "4 for quarterly\n",
        "12 for monthly\n",
        "52 for weekly\n",
        "365 for daily\n",
        "\n",
        "https://www.statsmodels.org/dev/generated/statsmodels.tsa.statespace.sarimax.SARIMAX.html\n",
        "\n",
        "When we choose period 365,It will run out of memory.\n",
        "It will probably, SARIMA model is unsuitable to solve this problem.\n",
        "Forecasting with long seasonal periods(for R)\n",
        "Deciding the value of period in seasonal ARIMA (for R)\n",
        "\n",
        "For now, we choose period 1."
      ],
      "metadata": {
        "id": "EcPE_Z9ymT5H"
      }
    },
    {
      "cell_type": "markdown",
      "source": [
        "arima_model =  auto_arima(df_log, start_p=0, d=1, start_q=0, \n",
        "                          max_p=5, max_d=5, max_q=5, start_P=0, \n",
        "                          D=1, start_Q=0, max_P=5, max_D=5,\n",
        "                          max_Q=5, m=12, seasonal=True, \n",
        "                          error_action='warn', trace = True,\n",
        "                          supress_warnings=True, stepwise = True,\n",
        "                          random = True,\n",
        "                          random_state=20, n_fits=5)\n"
      ],
      "metadata": {
        "id": "oQe0Pxxx3dT9"
      }
    }
  ]
}