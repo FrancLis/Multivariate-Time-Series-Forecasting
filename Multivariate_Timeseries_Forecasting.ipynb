{
  "nbformat": 4,
  "nbformat_minor": 0,
  "metadata": {
    "colab": {
      "name": "Multivariate_Timeseries_Forecasting.ipynb",
      "provenance": [],
      "collapsed_sections": [],
      "authorship_tag": "ABX9TyNvu76kzcsUCVnjd/MlstG7",
      "include_colab_link": true
    },
    "kernelspec": {
      "name": "python3",
      "display_name": "Python 3"
    },
    "language_info": {
      "name": "python"
    },
    "accelerator": "TPU"
  },
  "cells": [
    {
      "cell_type": "markdown",
      "metadata": {
        "id": "view-in-github",
        "colab_type": "text"
      },
      "source": [
        "<a href=\"https://colab.research.google.com/github/FrancLis/Multivariate-Time-Series-Forecasting/blob/main/Multivariate_Timeseries_Forecasting.ipynb\" target=\"_parent\"><img src=\"https://colab.research.google.com/assets/colab-badge.svg\" alt=\"Open In Colab\"/></a>"
      ]
    },
    {
      "cell_type": "code",
      "source": [
        "!pip install fast_ml\n",
        "!pip install talos"
      ],
      "metadata": {
        "id": "IFxQV13AR67H"
      },
      "execution_count": null,
      "outputs": []
    },
    {
      "cell_type": "code",
      "execution_count": null,
      "metadata": {
        "id": "4t7kSH0iHNO5"
      },
      "outputs": [],
      "source": [
        "import numpy as np\n",
        "import pandas as pd\n",
        "from matplotlib import pyplot as plt\n",
        "import seaborn as sns\n",
        "import tensorflow as tf\n",
        "from fast_ml.model_development import train_valid_test_split\n",
        "from tensorflow import keras\n",
        "from sklearn.preprocessing import MinMaxScaler, PowerTransformer, StandardScaler\n",
        "from sklearn.metrics import mean_squared_error, r2_score, max_error, mean_absolute_error\n",
        "from keras.layers import Input\n",
        "from keras.models import Sequential\n",
        "from keras.layers import Dense, RepeatVector\n",
        "from tensorflow.keras import Sequential, layers, callbacks\n",
        "from tensorflow.keras.layers import Dense, LSTM, Dropout, GRU, Bidirectional, SimpleRNN, Conv1D, MaxPooling1D, Flatten\n",
        "import talos as ta"
      ]
    },
    {
      "cell_type": "code",
      "source": [
        "# Set random seed for reproducibility\n",
        "tf.random.set_seed(42)\n",
        "np.random.seed(42)"
      ],
      "metadata": {
        "id": "P1xEHMOESNFj"
      },
      "execution_count": null,
      "outputs": []
    },
    {
      "cell_type": "markdown",
      "source": [
        "## 1. Data Acquisition and Visualization"
      ],
      "metadata": {
        "id": "PED-JLJ-TiV7"
      }
    },
    {
      "cell_type": "code",
      "source": [
        "# Read Csv\n",
        "file = r\"/content/PG (2).csv\"\n",
        "df = pd.read_csv(file, parse_dates=['Date'], index_col='Date')\n",
        "plt.style.use('seaborn')\n"
      ],
      "metadata": {
        "id": "EGg2pcS8SQrK"
      },
      "execution_count": null,
      "outputs": []
    },
    {
      "cell_type": "markdown",
      "source": [
        "#### 1.1 Info Dataframe"
      ],
      "metadata": {
        "id": "1qZrAgYzTL8f"
      }
    },
    {
      "cell_type": "code",
      "source": [
        "df.head(5)"
      ],
      "metadata": {
        "colab": {
          "base_uri": "https://localhost:8080/",
          "height": 238
        },
        "id": "N7-NZLVYTegz",
        "outputId": "c2441aa4-01e2-45af-839a-9594270f76e0"
      },
      "execution_count": null,
      "outputs": [
        {
          "output_type": "execute_result",
          "data": {
            "text/html": [
              "\n",
              "  <div id=\"df-1f009f06-33e7-4e94-8fe1-135beefe764e\">\n",
              "    <div class=\"colab-df-container\">\n",
              "      <div>\n",
              "<style scoped>\n",
              "    .dataframe tbody tr th:only-of-type {\n",
              "        vertical-align: middle;\n",
              "    }\n",
              "\n",
              "    .dataframe tbody tr th {\n",
              "        vertical-align: top;\n",
              "    }\n",
              "\n",
              "    .dataframe thead th {\n",
              "        text-align: right;\n",
              "    }\n",
              "</style>\n",
              "<table border=\"1\" class=\"dataframe\">\n",
              "  <thead>\n",
              "    <tr style=\"text-align: right;\">\n",
              "      <th></th>\n",
              "      <th>Open</th>\n",
              "      <th>High</th>\n",
              "      <th>Low</th>\n",
              "      <th>Close</th>\n",
              "      <th>Adj Close</th>\n",
              "      <th>Volume</th>\n",
              "    </tr>\n",
              "    <tr>\n",
              "      <th>Date</th>\n",
              "      <th></th>\n",
              "      <th></th>\n",
              "      <th></th>\n",
              "      <th></th>\n",
              "      <th></th>\n",
              "      <th></th>\n",
              "    </tr>\n",
              "  </thead>\n",
              "  <tbody>\n",
              "    <tr>\n",
              "      <th>2017-01-30</th>\n",
              "      <td>86.779999</td>\n",
              "      <td>86.860001</td>\n",
              "      <td>86.500000</td>\n",
              "      <td>86.750000</td>\n",
              "      <td>75.423943</td>\n",
              "      <td>7350000</td>\n",
              "    </tr>\n",
              "    <tr>\n",
              "      <th>2017-01-31</th>\n",
              "      <td>86.629997</td>\n",
              "      <td>87.660004</td>\n",
              "      <td>86.529999</td>\n",
              "      <td>87.599998</td>\n",
              "      <td>76.162964</td>\n",
              "      <td>9712400</td>\n",
              "    </tr>\n",
              "    <tr>\n",
              "      <th>2017-02-01</th>\n",
              "      <td>87.029999</td>\n",
              "      <td>87.589996</td>\n",
              "      <td>86.750000</td>\n",
              "      <td>87.330002</td>\n",
              "      <td>75.928207</td>\n",
              "      <td>8291000</td>\n",
              "    </tr>\n",
              "    <tr>\n",
              "      <th>2017-02-02</th>\n",
              "      <td>87.610001</td>\n",
              "      <td>88.349998</td>\n",
              "      <td>87.250000</td>\n",
              "      <td>87.760002</td>\n",
              "      <td>76.302078</td>\n",
              "      <td>8997200</td>\n",
              "    </tr>\n",
              "    <tr>\n",
              "      <th>2017-02-03</th>\n",
              "      <td>88.120003</td>\n",
              "      <td>88.169998</td>\n",
              "      <td>87.389999</td>\n",
              "      <td>87.410004</td>\n",
              "      <td>75.997780</td>\n",
              "      <td>7161900</td>\n",
              "    </tr>\n",
              "  </tbody>\n",
              "</table>\n",
              "</div>\n",
              "      <button class=\"colab-df-convert\" onclick=\"convertToInteractive('df-1f009f06-33e7-4e94-8fe1-135beefe764e')\"\n",
              "              title=\"Convert this dataframe to an interactive table.\"\n",
              "              style=\"display:none;\">\n",
              "        \n",
              "  <svg xmlns=\"http://www.w3.org/2000/svg\" height=\"24px\"viewBox=\"0 0 24 24\"\n",
              "       width=\"24px\">\n",
              "    <path d=\"M0 0h24v24H0V0z\" fill=\"none\"/>\n",
              "    <path d=\"M18.56 5.44l.94 2.06.94-2.06 2.06-.94-2.06-.94-.94-2.06-.94 2.06-2.06.94zm-11 1L8.5 8.5l.94-2.06 2.06-.94-2.06-.94L8.5 2.5l-.94 2.06-2.06.94zm10 10l.94 2.06.94-2.06 2.06-.94-2.06-.94-.94-2.06-.94 2.06-2.06.94z\"/><path d=\"M17.41 7.96l-1.37-1.37c-.4-.4-.92-.59-1.43-.59-.52 0-1.04.2-1.43.59L10.3 9.45l-7.72 7.72c-.78.78-.78 2.05 0 2.83L4 21.41c.39.39.9.59 1.41.59.51 0 1.02-.2 1.41-.59l7.78-7.78 2.81-2.81c.8-.78.8-2.07 0-2.86zM5.41 20L4 18.59l7.72-7.72 1.47 1.35L5.41 20z\"/>\n",
              "  </svg>\n",
              "      </button>\n",
              "      \n",
              "  <style>\n",
              "    .colab-df-container {\n",
              "      display:flex;\n",
              "      flex-wrap:wrap;\n",
              "      gap: 12px;\n",
              "    }\n",
              "\n",
              "    .colab-df-convert {\n",
              "      background-color: #E8F0FE;\n",
              "      border: none;\n",
              "      border-radius: 50%;\n",
              "      cursor: pointer;\n",
              "      display: none;\n",
              "      fill: #1967D2;\n",
              "      height: 32px;\n",
              "      padding: 0 0 0 0;\n",
              "      width: 32px;\n",
              "    }\n",
              "\n",
              "    .colab-df-convert:hover {\n",
              "      background-color: #E2EBFA;\n",
              "      box-shadow: 0px 1px 2px rgba(60, 64, 67, 0.3), 0px 1px 3px 1px rgba(60, 64, 67, 0.15);\n",
              "      fill: #174EA6;\n",
              "    }\n",
              "\n",
              "    [theme=dark] .colab-df-convert {\n",
              "      background-color: #3B4455;\n",
              "      fill: #D2E3FC;\n",
              "    }\n",
              "\n",
              "    [theme=dark] .colab-df-convert:hover {\n",
              "      background-color: #434B5C;\n",
              "      box-shadow: 0px 1px 3px 1px rgba(0, 0, 0, 0.15);\n",
              "      filter: drop-shadow(0px 1px 2px rgba(0, 0, 0, 0.3));\n",
              "      fill: #FFFFFF;\n",
              "    }\n",
              "  </style>\n",
              "\n",
              "      <script>\n",
              "        const buttonEl =\n",
              "          document.querySelector('#df-1f009f06-33e7-4e94-8fe1-135beefe764e button.colab-df-convert');\n",
              "        buttonEl.style.display =\n",
              "          google.colab.kernel.accessAllowed ? 'block' : 'none';\n",
              "\n",
              "        async function convertToInteractive(key) {\n",
              "          const element = document.querySelector('#df-1f009f06-33e7-4e94-8fe1-135beefe764e');\n",
              "          const dataTable =\n",
              "            await google.colab.kernel.invokeFunction('convertToInteractive',\n",
              "                                                     [key], {});\n",
              "          if (!dataTable) return;\n",
              "\n",
              "          const docLinkHtml = 'Like what you see? Visit the ' +\n",
              "            '<a target=\"_blank\" href=https://colab.research.google.com/notebooks/data_table.ipynb>data table notebook</a>'\n",
              "            + ' to learn more about interactive tables.';\n",
              "          element.innerHTML = '';\n",
              "          dataTable['output_type'] = 'display_data';\n",
              "          await google.colab.output.renderOutput(dataTable, element);\n",
              "          const docLink = document.createElement('div');\n",
              "          docLink.innerHTML = docLinkHtml;\n",
              "          element.appendChild(docLink);\n",
              "        }\n",
              "      </script>\n",
              "    </div>\n",
              "  </div>\n",
              "  "
            ],
            "text/plain": [
              "                 Open       High        Low      Close  Adj Close   Volume\n",
              "Date                                                                      \n",
              "2017-01-30  86.779999  86.860001  86.500000  86.750000  75.423943  7350000\n",
              "2017-01-31  86.629997  87.660004  86.529999  87.599998  76.162964  9712400\n",
              "2017-02-01  87.029999  87.589996  86.750000  87.330002  75.928207  8291000\n",
              "2017-02-02  87.610001  88.349998  87.250000  87.760002  76.302078  8997200\n",
              "2017-02-03  88.120003  88.169998  87.389999  87.410004  75.997780  7161900"
            ]
          },
          "metadata": {},
          "execution_count": 20
        }
      ]
    },
    {
      "cell_type": "code",
      "source": [
        "df.describe()"
      ],
      "metadata": {
        "colab": {
          "base_uri": "https://localhost:8080/",
          "height": 300
        },
        "id": "rirsiwwNTP14",
        "outputId": "ca02b208-a35e-4132-a5b9-92f7cdae3fa2"
      },
      "execution_count": null,
      "outputs": [
        {
          "output_type": "execute_result",
          "data": {
            "text/html": [
              "\n",
              "  <div id=\"df-6d2092f8-78be-4a17-8da5-478a582e31ec\">\n",
              "    <div class=\"colab-df-container\">\n",
              "      <div>\n",
              "<style scoped>\n",
              "    .dataframe tbody tr th:only-of-type {\n",
              "        vertical-align: middle;\n",
              "    }\n",
              "\n",
              "    .dataframe tbody tr th {\n",
              "        vertical-align: top;\n",
              "    }\n",
              "\n",
              "    .dataframe thead th {\n",
              "        text-align: right;\n",
              "    }\n",
              "</style>\n",
              "<table border=\"1\" class=\"dataframe\">\n",
              "  <thead>\n",
              "    <tr style=\"text-align: right;\">\n",
              "      <th></th>\n",
              "      <th>Open</th>\n",
              "      <th>High</th>\n",
              "      <th>Low</th>\n",
              "      <th>Close</th>\n",
              "      <th>Adj Close</th>\n",
              "      <th>Volume</th>\n",
              "    </tr>\n",
              "  </thead>\n",
              "  <tbody>\n",
              "    <tr>\n",
              "      <th>count</th>\n",
              "      <td>1260.000000</td>\n",
              "      <td>1260.000000</td>\n",
              "      <td>1260.000000</td>\n",
              "      <td>1260.000000</td>\n",
              "      <td>1260.000000</td>\n",
              "      <td>1.260000e+03</td>\n",
              "    </tr>\n",
              "    <tr>\n",
              "      <th>mean</th>\n",
              "      <td>111.035643</td>\n",
              "      <td>111.911103</td>\n",
              "      <td>110.273119</td>\n",
              "      <td>111.103056</td>\n",
              "      <td>104.743703</td>\n",
              "      <td>8.023886e+06</td>\n",
              "    </tr>\n",
              "    <tr>\n",
              "      <th>std</th>\n",
              "      <td>23.681813</td>\n",
              "      <td>23.927348</td>\n",
              "      <td>23.514654</td>\n",
              "      <td>23.712604</td>\n",
              "      <td>26.246151</td>\n",
              "      <td>3.528971e+06</td>\n",
              "    </tr>\n",
              "    <tr>\n",
              "      <th>min</th>\n",
              "      <td>70.809998</td>\n",
              "      <td>71.720001</td>\n",
              "      <td>70.730003</td>\n",
              "      <td>70.940002</td>\n",
              "      <td>64.176865</td>\n",
              "      <td>2.022100e+06</td>\n",
              "    </tr>\n",
              "    <tr>\n",
              "      <th>25%</th>\n",
              "      <td>89.847497</td>\n",
              "      <td>90.339996</td>\n",
              "      <td>89.309998</td>\n",
              "      <td>89.857500</td>\n",
              "      <td>79.097185</td>\n",
              "      <td>5.917125e+06</td>\n",
              "    </tr>\n",
              "    <tr>\n",
              "      <th>50%</th>\n",
              "      <td>113.009998</td>\n",
              "      <td>114.279999</td>\n",
              "      <td>111.555000</td>\n",
              "      <td>112.840001</td>\n",
              "      <td>106.779633</td>\n",
              "      <td>7.102300e+06</td>\n",
              "    </tr>\n",
              "    <tr>\n",
              "      <th>75%</th>\n",
              "      <td>133.237496</td>\n",
              "      <td>134.230004</td>\n",
              "      <td>132.649994</td>\n",
              "      <td>133.460007</td>\n",
              "      <td>130.543422</td>\n",
              "      <td>9.086075e+06</td>\n",
              "    </tr>\n",
              "    <tr>\n",
              "      <th>max</th>\n",
              "      <td>164.399994</td>\n",
              "      <td>165.350006</td>\n",
              "      <td>163.399994</td>\n",
              "      <td>164.210007</td>\n",
              "      <td>163.328140</td>\n",
              "      <td>3.701010e+07</td>\n",
              "    </tr>\n",
              "  </tbody>\n",
              "</table>\n",
              "</div>\n",
              "      <button class=\"colab-df-convert\" onclick=\"convertToInteractive('df-6d2092f8-78be-4a17-8da5-478a582e31ec')\"\n",
              "              title=\"Convert this dataframe to an interactive table.\"\n",
              "              style=\"display:none;\">\n",
              "        \n",
              "  <svg xmlns=\"http://www.w3.org/2000/svg\" height=\"24px\"viewBox=\"0 0 24 24\"\n",
              "       width=\"24px\">\n",
              "    <path d=\"M0 0h24v24H0V0z\" fill=\"none\"/>\n",
              "    <path d=\"M18.56 5.44l.94 2.06.94-2.06 2.06-.94-2.06-.94-.94-2.06-.94 2.06-2.06.94zm-11 1L8.5 8.5l.94-2.06 2.06-.94-2.06-.94L8.5 2.5l-.94 2.06-2.06.94zm10 10l.94 2.06.94-2.06 2.06-.94-2.06-.94-.94-2.06-.94 2.06-2.06.94z\"/><path d=\"M17.41 7.96l-1.37-1.37c-.4-.4-.92-.59-1.43-.59-.52 0-1.04.2-1.43.59L10.3 9.45l-7.72 7.72c-.78.78-.78 2.05 0 2.83L4 21.41c.39.39.9.59 1.41.59.51 0 1.02-.2 1.41-.59l7.78-7.78 2.81-2.81c.8-.78.8-2.07 0-2.86zM5.41 20L4 18.59l7.72-7.72 1.47 1.35L5.41 20z\"/>\n",
              "  </svg>\n",
              "      </button>\n",
              "      \n",
              "  <style>\n",
              "    .colab-df-container {\n",
              "      display:flex;\n",
              "      flex-wrap:wrap;\n",
              "      gap: 12px;\n",
              "    }\n",
              "\n",
              "    .colab-df-convert {\n",
              "      background-color: #E8F0FE;\n",
              "      border: none;\n",
              "      border-radius: 50%;\n",
              "      cursor: pointer;\n",
              "      display: none;\n",
              "      fill: #1967D2;\n",
              "      height: 32px;\n",
              "      padding: 0 0 0 0;\n",
              "      width: 32px;\n",
              "    }\n",
              "\n",
              "    .colab-df-convert:hover {\n",
              "      background-color: #E2EBFA;\n",
              "      box-shadow: 0px 1px 2px rgba(60, 64, 67, 0.3), 0px 1px 3px 1px rgba(60, 64, 67, 0.15);\n",
              "      fill: #174EA6;\n",
              "    }\n",
              "\n",
              "    [theme=dark] .colab-df-convert {\n",
              "      background-color: #3B4455;\n",
              "      fill: #D2E3FC;\n",
              "    }\n",
              "\n",
              "    [theme=dark] .colab-df-convert:hover {\n",
              "      background-color: #434B5C;\n",
              "      box-shadow: 0px 1px 3px 1px rgba(0, 0, 0, 0.15);\n",
              "      filter: drop-shadow(0px 1px 2px rgba(0, 0, 0, 0.3));\n",
              "      fill: #FFFFFF;\n",
              "    }\n",
              "  </style>\n",
              "\n",
              "      <script>\n",
              "        const buttonEl =\n",
              "          document.querySelector('#df-6d2092f8-78be-4a17-8da5-478a582e31ec button.colab-df-convert');\n",
              "        buttonEl.style.display =\n",
              "          google.colab.kernel.accessAllowed ? 'block' : 'none';\n",
              "\n",
              "        async function convertToInteractive(key) {\n",
              "          const element = document.querySelector('#df-6d2092f8-78be-4a17-8da5-478a582e31ec');\n",
              "          const dataTable =\n",
              "            await google.colab.kernel.invokeFunction('convertToInteractive',\n",
              "                                                     [key], {});\n",
              "          if (!dataTable) return;\n",
              "\n",
              "          const docLinkHtml = 'Like what you see? Visit the ' +\n",
              "            '<a target=\"_blank\" href=https://colab.research.google.com/notebooks/data_table.ipynb>data table notebook</a>'\n",
              "            + ' to learn more about interactive tables.';\n",
              "          element.innerHTML = '';\n",
              "          dataTable['output_type'] = 'display_data';\n",
              "          await google.colab.output.renderOutput(dataTable, element);\n",
              "          const docLink = document.createElement('div');\n",
              "          docLink.innerHTML = docLinkHtml;\n",
              "          element.appendChild(docLink);\n",
              "        }\n",
              "      </script>\n",
              "    </div>\n",
              "  </div>\n",
              "  "
            ],
            "text/plain": [
              "              Open         High  ...    Adj Close        Volume\n",
              "count  1260.000000  1260.000000  ...  1260.000000  1.260000e+03\n",
              "mean    111.035643   111.911103  ...   104.743703  8.023886e+06\n",
              "std      23.681813    23.927348  ...    26.246151  3.528971e+06\n",
              "min      70.809998    71.720001  ...    64.176865  2.022100e+06\n",
              "25%      89.847497    90.339996  ...    79.097185  5.917125e+06\n",
              "50%     113.009998   114.279999  ...   106.779633  7.102300e+06\n",
              "75%     133.237496   134.230004  ...   130.543422  9.086075e+06\n",
              "max     164.399994   165.350006  ...   163.328140  3.701010e+07\n",
              "\n",
              "[8 rows x 6 columns]"
            ]
          },
          "metadata": {},
          "execution_count": 18
        }
      ]
    },
    {
      "cell_type": "code",
      "source": [
        "df.info()"
      ],
      "metadata": {
        "colab": {
          "base_uri": "https://localhost:8080/"
        },
        "id": "yCS6T4XZTRPR",
        "outputId": "a7863351-46ad-4000-cc53-750c7e03e1d4"
      },
      "execution_count": null,
      "outputs": [
        {
          "output_type": "stream",
          "name": "stdout",
          "text": [
            "<class 'pandas.core.frame.DataFrame'>\n",
            "DatetimeIndex: 1260 entries, 2017-01-30 to 2022-01-28\n",
            "Data columns (total 6 columns):\n",
            " #   Column     Non-Null Count  Dtype  \n",
            "---  ------     --------------  -----  \n",
            " 0   Open       1260 non-null   float64\n",
            " 1   High       1260 non-null   float64\n",
            " 2   Low        1260 non-null   float64\n",
            " 3   Close      1260 non-null   float64\n",
            " 4   Adj Close  1260 non-null   float64\n",
            " 5   Volume     1260 non-null   int64  \n",
            "dtypes: float64(5), int64(1)\n",
            "memory usage: 68.9 KB\n"
          ]
        }
      ]
    },
    {
      "cell_type": "markdown",
      "source": [
        "#### 1.2 Data Visualization"
      ],
      "metadata": {
        "id": "99PWt8vyUknw"
      }
    },
    {
      "cell_type": "markdown",
      "source": [
        "##### 1.2.1 Time series visualization"
      ],
      "metadata": {
        "id": "BHmSWK4GxLJS"
      }
    },
    {
      "cell_type": "code",
      "source": [
        "plt.style.use('seaborn')\n",
        "titles = [\n",
        "    \"Open\",\n",
        "    \"High\",\n",
        "    \"Low\",\n",
        "    \"Close\",\n",
        "    \"Adj Close\",\n",
        "    \"Volume\",\n",
        "]\n",
        "colors = [\n",
        "    \"blue\",\n",
        "    \"orange\",\n",
        "    \"green\",\n",
        "    \"red\",\n",
        "    \"purple\",\n",
        "    \"brown\",\n",
        "]\n",
        "# date_time_key = \"Date\"\n",
        "\n",
        "\n",
        "def show_raw_visualization(data):\n",
        "    # time_data = data[date_time_key]\n",
        "    fig, axes = plt.subplots(\n",
        "        nrows=3, ncols=2, figsize=(16, 12), dpi=80, facecolor=\"w\", edgecolor=\"k\"\n",
        "    )\n",
        "    for i in range(len(titles)):\n",
        "        c = colors[i % (len(colors))]\n",
        "        t_data = data[titles[i]]\n",
        "        # t_data.index = time_data\n",
        "        t_data.head()\n",
        "        ax = t_data.plot(\n",
        "            ax=axes[i // 2, i % 2],\n",
        "            color=c,\n",
        "            title=\"{}\".format(titles[i]),\n",
        "            rot=25,\n",
        "        )\n",
        "        ax.legend([titles[i]])\n",
        "    plt.tight_layout()\n",
        "    # plt.savefig('Timeseries.png', dpi=1200)\n",
        "    plt.show()\n",
        "\n",
        "\n",
        "show_raw_visualization(df)"
      ],
      "metadata": {
        "colab": {
          "base_uri": "https://localhost:8080/",
          "height": 0
        },
        "id": "m1EZ5vwSUiBL",
        "outputId": "e3dcd5a1-33cc-499a-a8bd-51e8f1c7f870"
      },
      "execution_count": 1,
      "outputs": [
        {
          "output_type": "error",
          "ename": "NameError",
          "evalue": "ignored",
          "traceback": [
            "\u001b[0;31m---------------------------------------------------------------------------\u001b[0m",
            "\u001b[0;31mNameError\u001b[0m                                 Traceback (most recent call last)",
            "\u001b[0;32m<ipython-input-1-7110c66b67cd>\u001b[0m in \u001b[0;36m<module>\u001b[0;34m()\u001b[0m\n\u001b[1;32m      1\u001b[0m \u001b[0;31m# Time series visualization\u001b[0m\u001b[0;34m\u001b[0m\u001b[0;34m\u001b[0m\u001b[0;34m\u001b[0m\u001b[0m\n\u001b[0;32m----> 2\u001b[0;31m \u001b[0mplt\u001b[0m\u001b[0;34m.\u001b[0m\u001b[0mstyle\u001b[0m\u001b[0;34m.\u001b[0m\u001b[0muse\u001b[0m\u001b[0;34m(\u001b[0m\u001b[0;34m'seaborn'\u001b[0m\u001b[0;34m)\u001b[0m\u001b[0;34m\u001b[0m\u001b[0;34m\u001b[0m\u001b[0m\n\u001b[0m\u001b[1;32m      3\u001b[0m titles = [\n\u001b[1;32m      4\u001b[0m     \u001b[0;34m\"Open\"\u001b[0m\u001b[0;34m,\u001b[0m\u001b[0;34m\u001b[0m\u001b[0;34m\u001b[0m\u001b[0m\n\u001b[1;32m      5\u001b[0m     \u001b[0;34m\"High\"\u001b[0m\u001b[0;34m,\u001b[0m\u001b[0;34m\u001b[0m\u001b[0;34m\u001b[0m\u001b[0m\n",
            "\u001b[0;31mNameError\u001b[0m: name 'plt' is not defined"
          ]
        }
      ]
    },
    {
      "cell_type": "markdown",
      "source": [
        "##### 1.2.2 Correlation Heatmap"
      ],
      "metadata": {
        "id": "r2EnV67SxUNz"
      }
    },
    {
      "cell_type": "code",
      "source": [
        "# Increase the size of the heatmap.\n",
        "plt.figure(figsize=(12, 6))\n",
        "# Store heatmap object in a variable to easily access it when you want to include more features (such as title). Set\n",
        "# the range of values to be displayed on the colormap from -1 to 1, and set the annotation to True to display the\n",
        "# correlation values on the heatmap.\n",
        "heatmap = sns.heatmap(df.corr(), vmin=-1, vmax=1, annot=True)\n",
        "# Give a title to the heatmap. Pad defines the distance of the title from the top of the heatmap.\n",
        "heatmap.set_title('Correlation Heatmap', fontdict={'fontsize': 12}, pad=12)\n",
        "# plt.savefig('Timeseries_Heatmap.png', dpi=1200)\n",
        "plt.show()"
      ],
      "metadata": {
        "id": "_cIMJJaNVB71"
      },
      "execution_count": null,
      "outputs": []
    },
    {
      "cell_type": "markdown",
      "source": [
        "##### 1.2.3 BoxPlot"
      ],
      "metadata": {
        "id": "vybwUpboxcUw"
      }
    },
    {
      "cell_type": "code",
      "source": [
        "def draw_boxplot(df, variables, n_rows, n_cols):\n",
        "    fig = plt.figure()\n",
        "    for i, var_name in enumerate(variables):\n",
        "        ax = fig.add_subplot(n_rows, n_cols, i + 1)\n",
        "        df[var_name].plot.box(ax=ax, color='steelblue', grid=True)\n",
        "        ax.set_title(var_name)\n",
        "    plt.tight_layout()\n",
        "    # plt.savefig('Timeseries_BoxPlot.png', format='png', dpi=1200)\n",
        "    plt.show()\n",
        "\n",
        "\n",
        "draw_boxplot(df, df[['Open', 'High', 'Low', 'Close', 'Adj Close', 'Volume']], 3, 2)"
      ],
      "metadata": {
        "id": "8twH7ExVVHQh"
      },
      "execution_count": null,
      "outputs": []
    },
    {
      "cell_type": "markdown",
      "source": [
        "##### 1.2.4 Histogram"
      ],
      "metadata": {
        "id": "Y3oPb246xhYI"
      }
    },
    {
      "cell_type": "code",
      "source": [
        "def draw_histograms(df, variables, n_rows, n_cols):\n",
        "    fig = plt.figure()\n",
        "    for i, var_name in enumerate(variables):\n",
        "        ax = fig.add_subplot(n_rows, n_cols, i + 1)\n",
        "        df[var_name].hist(bins=10, ax=ax, color='steelblue', linewidth=1.0,\n",
        "                          xlabelsize=8, ylabelsize=8, grid=True)\n",
        "        ax.set_title(var_name)\n",
        "    plt.tight_layout()\n",
        "    # plt.savefig('Timeseries_Histograms.png', dpi=1200)\n",
        "    plt.show()\n",
        "\n",
        "\n",
        "draw_histograms(df, df[['Open', 'High', 'Low', 'Close', 'Adj Close', 'Volume']], 3, 2)"
      ],
      "metadata": {
        "id": "r3nTuwriVMGQ"
      },
      "execution_count": null,
      "outputs": []
    },
    {
      "cell_type": "markdown",
      "source": [
        "##### 1.2.5 LagPlot"
      ],
      "metadata": {
        "id": "B-DR9TLJxlui"
      }
    },
    {
      "cell_type": "code",
      "source": [
        "def draw_lag_plot(df, variables, n_rows, n_cols, lag):\n",
        "    for m in lag:\n",
        "        fig = plt.figure()\n",
        "        fig.suptitle('Lag Plot with lag = {}'.format(m), fontsize=14)\n",
        "        for i, var_name in enumerate(variables):\n",
        "            ax = fig.add_subplot(n_rows, n_cols, i + 1)\n",
        "            pd.plotting.lag_plot(df[var_name], lag=m)\n",
        "            ax.set_title(var_name)\n",
        "        plt.tight_layout()\n",
        "        # plt.savefig('LagPlot with lag = {}.png'.format(m), dpi=1200)\n",
        "        plt.show()\n",
        "\n",
        "\n",
        "draw_lag_plot(df, df[['Open', 'High', 'Low', 'Close', 'Adj Close', 'Volume']], 3, 2, [1])"
      ],
      "metadata": {
        "id": "PPgZXbaUVVl7"
      },
      "execution_count": null,
      "outputs": []
    },
    {
      "cell_type": "markdown",
      "source": [
        "## 2. Data prepocessing"
      ],
      "metadata": {
        "id": "z8LPDz-6sU1m"
      }
    },
    {
      "cell_type": "markdown",
      "source": [
        "#### 2.1 Data Cleaning"
      ],
      "metadata": {
        "id": "-WHi3rrBVjpL"
      }
    },
    {
      "cell_type": "markdown",
      "source": [
        ""
      ],
      "metadata": {
        "id": "7LTicO3EyABu"
      }
    },
    {
      "cell_type": "code",
      "source": [
        "# Check missing values\n",
        "print(df.isnull().sum())"
      ],
      "metadata": {
        "id": "EVu4HgVWVjbz"
      },
      "execution_count": null,
      "outputs": []
    },
    {
      "cell_type": "code",
      "source": [
        "# There aren't missing value\n",
        "# Replace missing values by interpolation\n",
        "def replace_missing(attribute):\n",
        "    return attribute.interpolate(inplace=True)\n",
        "\n",
        "\n",
        "# replace_missing(df['Open'])\n",
        "# ...."
      ],
      "metadata": {
        "id": "9XBT5QFkx556"
      },
      "execution_count": null,
      "outputs": []
    },
    {
      "cell_type": "code",
      "source": [
        "# Detect and remove outliers with IQR\n",
        "def detect_remove_outliers(column):\n",
        "    # IQR\n",
        "    Q1 = np.percentile(df[f'{column}'], 25, interpolation='midpoint')\n",
        "    Q3 = np.percentile(df[f'{column}'], 75, interpolation='midpoint')\n",
        "    IQR = Q3 - Q1\n",
        "\n",
        "    # Above Upper bound\n",
        "    upper = df[f'{column}'] >= (Q3 + 1.5 * IQR)\n",
        "    # print(\"Upper bound:\", upper)\n",
        "    print(\"Upper bound outliers:\", f'{column}', np.where(upper))\n",
        "\n",
        "    # Below Lower bound\n",
        "    lower = df[f'{column}'] <= (Q1 - 1.5 * IQR)\n",
        "    # print(\"Lower bound:\", lower)\n",
        "    print(\"Lower bound:\", f'{column}', np.where(lower))\n",
        "    return\n",
        "\n",
        "# There may be potential outliers in the Volume column, but they won't be considered outliers because\n",
        "# a large volume of transactions is related to a change in the closing price\n",
        "# For the other columns it was previously verified graphically with the boxplot that there aren't outliers.\n",
        "# Also mathematically, with the IQR method, the same result is gotten.\n",
        "\n",
        "# for i in titles:\n",
        "#     detect_remove_outliers(f'{i}')"
      ],
      "metadata": {
        "id": "If_G5IgIVvq1"
      },
      "execution_count": null,
      "outputs": []
    },
    {
      "cell_type": "markdown",
      "source": [
        "#### 2.2 Data Splitting"
      ],
      "metadata": {
        "id": "qfHlFGwFV5dn"
      }
    },
    {
      "cell_type": "code",
      "source": [
        "# Fast_ml library\n",
        "X_train, y_train, X_valid, y_valid, X_test, y_test = train_valid_test_split(df, target='Close', method='sorted',\n",
        "                                                                            sort_by_col='Date', train_size=0.6,\n",
        "                                                                            valid_size=0.2, test_size=0.2)\n",
        "print('X_train.shape:', X_train.shape, 'y_train.shape:', y_train.shape)\n",
        "print('X_valid.shape:', X_valid.shape, 'y_valid.shape:', y_valid.shape)\n",
        "print('X_test.shape:', X_test.shape, 'y_test.shape:', y_test.shape)"
      ],
      "metadata": {
        "colab": {
          "base_uri": "https://localhost:8080/"
        },
        "id": "77I7sM2MV9pj",
        "outputId": "6496d179-d25f-42bb-8a37-66cab620079e"
      },
      "execution_count": null,
      "outputs": [
        {
          "output_type": "stream",
          "name": "stdout",
          "text": [
            "X_train.shape: (756, 5) y_train.shape: (756,)\n",
            "X_valid.shape: (252, 5) y_valid.shape: (252,)\n",
            "X_test.shape: (252, 5) y_test.shape: (252,)\n"
          ]
        }
      ]
    },
    {
      "cell_type": "markdown",
      "source": [
        "#### 2.3 Data Transformation"
      ],
      "metadata": {
        "id": "O1lRwfEWV-hs"
      }
    },
    {
      "cell_type": "code",
      "source": [
        "# Normalization\n",
        "scaler = MinMaxScaler()\n",
        "X_train = scaler.fit_transform(X_train)\n",
        "X_valid = scaler.transform(X_valid)\n",
        "X_test = scaler.transform(X_test)\n",
        "\n",
        "'''\n",
        "# Other transformers\n",
        "# StandardScaler\n",
        "st_scaler = StandardScaler()\n",
        "X_train = st_scaler.fit_transform(X_train)\n",
        "X_test = st_scaler.transform(X_test)\n",
        "\n",
        "# PowerTransformer\n",
        "pt = PowerTransformer()\n",
        "X_train = pt.fit_transform(X_train)\n",
        "X_test = pt.transform(X_test)\n",
        "'''\n"
      ],
      "metadata": {
        "id": "qO6TW_wGWEFy",
        "colab": {
          "base_uri": "https://localhost:8080/",
          "height": 53
        },
        "outputId": "70367d64-ade6-404f-b4c1-8b1497899e85"
      },
      "execution_count": null,
      "outputs": [
        {
          "output_type": "execute_result",
          "data": {
            "application/vnd.google.colaboratory.intrinsic+json": {
              "type": "string"
            },
            "text/plain": [
              "'\\n# Other transformers\\n# StandardScaler\\nst_scaler = StandardScaler()\\nX_train = st_scaler.fit_transform(X_train)\\nX_test = st_scaler.transform(X_test)\\n\\n# PowerTransformer\\npt = PowerTransformer()\\nX_train = pt.fit_transform(X_train)\\nX_test = pt.transform(X_test)\\n'"
            ]
          },
          "metadata": {},
          "execution_count": 9
        }
      ]
    },
    {
      "cell_type": "code",
      "source": [
        "# Create a 3D input\n",
        "def create_dataset(X, y, time_steps=1):\n",
        "    Xs, ys = [], []\n",
        "    for i in range(len(X) - time_steps):\n",
        "        v = X[i:i + time_steps, :]\n",
        "        Xs.append(v)\n",
        "        ys.append(y[i + time_steps])\n",
        "    return np.array(Xs), np.array(ys)\n",
        "\n",
        "\n",
        "TIME_STEPS = 2\n",
        "X_test, y_test = create_dataset(X_test, y_test, TIME_STEPS)\n",
        "X_train, y_train = create_dataset(X_train, y_train, TIME_STEPS)\n",
        "X_valid, y_valid = create_dataset(X_valid, y_valid, TIME_STEPS)\n",
        "\n",
        "print('All shapes are: (batch, time, features)')\n",
        "print('X_train.shape:', X_train.shape, 'y_train.shape:', y_train.shape)\n",
        "print('X_valid.shape:', X_valid.shape, 'y_valid.shape:', y_valid.shape)\n",
        "print('X_test.shape:', X_test.shape, 'y_test.shape:', y_test.shape)"
      ],
      "metadata": {
        "colab": {
          "base_uri": "https://localhost:8080/"
        },
        "id": "z2BSrAGeWfA8",
        "outputId": "028a3b7c-9652-4a35-8cb8-1d05614b28e6"
      },
      "execution_count": null,
      "outputs": [
        {
          "output_type": "stream",
          "name": "stdout",
          "text": [
            "All shapes are: (batch, time, features)\n",
            "X_train.shape: (754, 2, 5) y_train.shape: (754,)\n",
            "X_valid.shape: (250, 2, 5) y_valid.shape: (250,)\n",
            "X_test.shape: (250, 2, 5) y_test.shape: (250,)\n"
          ]
        }
      ]
    },
    {
      "cell_type": "markdown",
      "source": [
        "#### 2.4 Set \"***Window size***\""
      ],
      "metadata": {
        "id": "5iIDNdRfWD0M"
      }
    },
    {
      "cell_type": "code",
      "source": [
        "# Create a 3D input\n",
        "def create_dataset(X, y, time_steps=1):\n",
        "    Xs, ys = [], []\n",
        "    for i in range(len(X) - time_steps):\n",
        "        v = X[i:i + time_steps, :]\n",
        "        Xs.append(v)\n",
        "        ys.append(y[i + time_steps])\n",
        "    return np.array(Xs), np.array(ys)\n",
        "\n",
        "\n",
        "TIME_STEPS = 2\n",
        "X_test, y_test = create_dataset(X_test, y_test, TIME_STEPS)\n",
        "X_train, y_train = create_dataset(X_train, y_train, TIME_STEPS)\n",
        "X_valid, y_valid = create_dataset(X_valid, y_valid, TIME_STEPS)\n",
        "\n",
        "print('All shapes are: (batch, time, features)')\n",
        "print('X_train.shape:', X_train.shape, 'y_train.shape:', y_train.shape)\n",
        "print('X_valid.shape:', X_valid.shape, 'y_valid.shape:', y_valid.shape)\n",
        "print('X_test.shape:', X_test.shape, 'y_test.shape:', y_test.shape)"
      ],
      "metadata": {
        "id": "L4V5tSnAxEZv"
      },
      "execution_count": null,
      "outputs": []
    },
    {
      "cell_type": "markdown",
      "source": [
        "## 3. Model Choice and Learning"
      ],
      "metadata": {
        "id": "1C5D4-G1XC32"
      }
    },
    {
      "cell_type": "markdown",
      "source": [
        "Model Implemented  | \n",
        "-------------------|\n",
        "• Recurrent Neural Network (RNN)\n",
        "• Long Short-Term Memory (LSTM)\n",
        "• Gated Recurrent Unit (GRU)\n",
        "• Convolutional Neural Network (CNN, or ConvNet)"
      ],
      "metadata": {
        "id": "34Ea_5NOtbFp"
      }
    },
    {
      "cell_type": "code",
      "source": [
        "def build_model0(hp):\n",
        "    model = Sequential()\n",
        "    model.add(SimpleRNN(hp.Int('input_unit', min_value=32, max_value=512, step=32), return_sequences=True,\n",
        "                        input_shape=(X_train.shape[1], X_train.shape[2])))\n",
        "    for i in range(hp.Int('n_layers', 1, 4)):\n",
        "        model.add(LSTM(hp.Int(f'lstm_{i}_units', min_value=32, max_value=512, step=32), return_sequences=True))\n",
        "    model.add(SimpleRNN(hp.Int('layer_2_neurons', min_value=32, max_value=512, step=32), return_sequences=False))\n",
        "    model.add(Dropout(hp.Float('Dropout_rate', min_value=0, max_value=0.5, step=0.1)))\n",
        "    model.add(Dense(1, activation='relu'))\n",
        "    model.compile(loss='mean_squared_error', optimizer='adam', )  # ,metrics=['mse']\n",
        "    return model\n",
        "\n",
        "\n",
        "def build_model1(hp):\n",
        "    model = Sequential()\n",
        "    model.add(LSTM(hp.Int('input_unit', min_value=32, max_value=512, step=32), return_sequences=True,\n",
        "                   input_shape=(X_train.shape[1], X_train.shape[2])))\n",
        "    for i in range(hp.Int('n_layers', 1, 4)):\n",
        "        model.add(LSTM(hp.Int(f'lstm_{i}_units', min_value=32, max_value=512, step=32), return_sequences=True))\n",
        "    model.add(LSTM(hp.Int('layer_2_neurons', min_value=32, max_value=512, step=32), return_sequences=False))\n",
        "    model.add(Dropout(hp.Float('Dropout_rate', min_value=0, max_value=0.5, step=0.1)))\n",
        "    model.add(Dense(1, activation='relu'))\n",
        "    model.compile(loss='mean_squared_error', optimizer='adam')\n",
        "    return model\n",
        "\n",
        "\n",
        "def build_model2(hp):\n",
        "    model = Sequential()\n",
        "    model.add(GRU(hp.Int('input_unit', min_value=32, max_value=512, step=32), return_sequences=True,\n",
        "                  input_shape=(X_train.shape[1], X_train.shape[2])))\n",
        "    #  model.add(Dropout(0.2))\n",
        "    for i in range(hp.Int('n_layers', 1, 4)):\n",
        "        model.add(LSTM(hp.Int(f'lstm_{i}_units', min_value=32, max_value=512, step=32), return_sequences=True))\n",
        "        #  model.add(Dropout(0.2))\n",
        "    model.add(LSTM(hp.Int('layer_2_neurons', min_value=32, max_value=512, step=32), return_sequences=False))\n",
        "    model.add(Dropout(hp.Float('Dropout_rate', min_value=0, max_value=0.5, step=0.1)))\n",
        "    model.add(Dense(1, activation='relu'))  # or linear\n",
        "    model.compile(loss='mean_squared_error', optimizer='adam')\n",
        "    return model\n",
        "\n",
        "\n",
        "def build_model3(hp):\n",
        "    model = Sequential()\n",
        "    model.add(Conv1D(filters=hp.Int('conv_1_filter', min_value=32, max_value=128, step=16),\n",
        "                     # adding filter size or kernel size\n",
        "                     kernel_size=hp.Choice('conv_1_kernel', values=[3, 5]),\n",
        "                     # activation function\n",
        "                     activation='relu',\n",
        "                     padding='same',\n",
        "                     input_shape=(X_train.shape[1], X_train.shape[2])))\n",
        "    model.add(MaxPooling1D(pool_size=2, padding='same'))\n",
        "    for i in range(hp.Int('n_layers', 1, 4)):\n",
        "        model.add(Conv1D(filters=hp.Int('conv_1_filter', min_value=32, max_value=128, step=16),\n",
        "                         kernel_size=hp.Choice('conv_1_kernel', values=[3, 5]),\n",
        "                         activation='relu',\n",
        "                         padding='same',\n",
        "                         ))\n",
        "        model.add(MaxPooling1D(pool_size=2, padding='same'))\n",
        "    model.add(Flatten())\n",
        "    model.add(Dense(1))\n",
        "    model.compile(loss='mean_squared_error', optimizer='adam')\n",
        "    return model\n"
      ],
      "metadata": {
        "id": "QK8marDvWjS2"
      },
      "execution_count": null,
      "outputs": []
    },
    {
      "cell_type": "code",
      "source": [
        "def fashion_mnist_fn(x_train, y_train, x_val, y_val, params):\n",
        "\t# Step 1: reset the tensorflow backend session.\n",
        "    tf.keras.backend.clear_session()\n",
        "    # Step 2: Define the model with variable hyperparameters.\n",
        "    conv_dropout = float(params['conv_dropout'])\n",
        "    model = tf.keras.models.Sequential()\n",
        "    model.add(tf.keras.layers.Conv1D(64, 5, padding='same', activation=params['activation'],\n",
        "                     input_shape=(X_train.shape[1], X_train.shape[2])))\n",
        "    model.add(tf.keras.layers.MaxPooling1D(pool_size=2, padding='same'))\n",
        "    model.add(tf.keras.layers.Dropout(conv_dropout))\n",
        "\n",
        "    model.add(tf.keras.layers.Conv1D(64, 5, padding='same', activation=params['activation']))\n",
        "    model.add(tf.keras.layers.MaxPooling1D(pool_size=2, padding='same'))\n",
        "    model.add(tf.keras.layers.Dropout(conv_dropout))\n",
        "\n",
        "    model.add(tf.keras.layers.Flatten())\n",
        "    model.add(tf.keras.layers.Dense(1))\n",
        "    \n",
        "    model.compile(\n",
        "        optimizer='adam',\n",
        "        loss='mse',\n",
        "        # metrics=['mse']\n",
        "    )\n",
        "\n",
        "    stop_early = tf.keras.callbacks.EarlyStopping(monitor='val_loss', patience=5)\n",
        "\n",
        "    out = model.fit(\n",
        "        x_train, y_train, \n",
        "        epochs=params['epochs'], \n",
        "        batch_size=params['batch_size'], \n",
        "        verbose=0,\n",
        "        validation_data=[x_val, y_val],\n",
        "        callbacks=stop_early\n",
        "    )\n",
        "    return out, model\n",
        "\n",
        "\n",
        "para = {\n",
        "    'activation': ['relu', 'elu'],\n",
        "    'conv_dropout': [0.25, 0.4],\n",
        "    'batch_size': [100, 180],\n",
        "    'epochs': [10, 50, 100],\n",
        "}\n",
        "\n",
        "scan_results = ta.Scan(x=X_train,\n",
        "                 y=y_train,\n",
        "                 params=para,\n",
        "                 model=fashion_mnist_fn,\n",
        "                 experiment_name= 'ssss',\n",
        "                 x_val=X_valid,\n",
        "                 y_val=y_valid, metrics=[])"
      ],
      "metadata": {
        "id": "REMfuqVCaiLC"
      },
      "execution_count": null,
      "outputs": []
    },
    {
      "cell_type": "code",
      "source": [
        "r = ta.Reporting('/content/ssss/020122190652.csv')\n",
        "\n",
        "# returns the results dataframe\n",
        "r.data\n",
        "#r.plot_kde\n",
        "\n",
        "# returns the highest value for 'val_fmeasure'\n",
        "#r.high('mse')\n",
        "\n",
        "# returns the number of rounds it took to find best model\n",
        "#r.rounds2high()\n",
        "\n",
        "# draws a histogram for 'val_acc'\n",
        "#r.plot_hist()\n"
      ],
      "metadata": {
        "id": "is68QDDBmKyu"
      },
      "execution_count": null,
      "outputs": []
    }
  ]
}