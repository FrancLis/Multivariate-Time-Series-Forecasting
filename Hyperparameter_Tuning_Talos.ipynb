{
  "cells": [
    {
      "cell_type": "markdown",
      "metadata": {
        "id": "view-in-github",
        "colab_type": "text"
      },
      "source": [
        "<a href=\"https://colab.research.google.com/github/FrancLis/Multivariate-Time-Series-Forecasting/blob/main/Hyperparameter_Tuning_Talos.ipynb\" target=\"_parent\"><img src=\"https://colab.research.google.com/assets/colab-badge.svg\" alt=\"Open In Colab\"/></a>"
      ]
    },
    {
      "cell_type": "markdown",
      "metadata": {
        "id": "wzeMYy1p4Lp9"
      },
      "source": [
        "In this notebook is shown the code used for some experiments of Hyperparameter tuning made using the library talos. In this case was used a RNN, but the experiments could have been run also with a GRU, LSTM and Conv1D. It's only necessary to change the parameters and the model built-in function"
      ]
    },
    {
      "cell_type": "code",
      "execution_count": null,
      "metadata": {
        "id": "j3_7phLIJtws"
      },
      "outputs": [],
      "source": [
        "!pip install talos\n",
        "!pip install joblib"
      ]
    },
    {
      "cell_type": "code",
      "execution_count": null,
      "metadata": {
        "id": "Xhf0TVeCAITf"
      },
      "outputs": [],
      "source": [
        "# Seed value\n",
        "# Apparently you may use different seed values at each stage\n",
        "seed_value = 0\n",
        "\n",
        "# 1. Set the `PYTHONHASHSEED` environment variable at a fixed value\n",
        "import os\n",
        "os.environ['PYTHONHASHSEED'] = str(seed_value)\n",
        "\n",
        "import numpy as np\n",
        "import tensorflow as tf\n",
        "import random as python_random\n",
        "\n",
        "# The below is necessary for starting Numpy generated random numbers\n",
        "# in a well-defined initial state.\n",
        "np.random.seed(123)\n",
        "\n",
        "# The below is necessary for starting core Python generated random numbers\n",
        "# in a well-defined state.\n",
        "python_random.seed(123)\n",
        "\n",
        "# The below set_seed() will make random number generation\n",
        "# in the TensorFlow backend have a well-defined initial state.\n",
        "# For further details, see:\n",
        "# https://www.tensorflow.org/api_docs/python/tf/random/set_seed\n",
        "tf.random.set_seed(1234)\n",
        "\n",
        "import seaborn as sns\n",
        "import pandas as pd\n",
        "import talos as ta\n",
        "from numpy import zeros, newaxis\n",
        "from matplotlib import pyplot as plt\n",
        "from joblib import dump, load\n",
        "from keras.utils.vis_utils import plot_model\n",
        "from tensorflow import keras\n",
        "from sklearn.preprocessing import MinMaxScaler, PowerTransformer, StandardScaler\n",
        "from sklearn.metrics import mean_squared_error, r2_score, max_error, mean_absolute_error\n",
        "from tensorflow.keras.optimizers import Adam, Nadam\n",
        "from tensorflow.keras.utils import plot_model\n",
        "from tensorflow.keras import Sequential, layers, callbacks\n",
        "from tensorflow.keras.layers import Input, Dense, LSTM, Dropout, GRU, Bidirectional, SimpleRNN, Conv1D, MaxPooling1D, Flatten"
      ]
    },
    {
      "cell_type": "markdown",
      "metadata": {
        "id": "1C5D4-G1XC32"
      },
      "source": [
        "## Hyperparameter Tuning"
      ]
    },
    {
      "cell_type": "markdown",
      "metadata": {
        "id": "sBvYW-71LYh7"
      },
      "source": [
        "Load and read preprocessed data"
      ]
    },
    {
      "cell_type": "markdown",
      "metadata": {
        "id": "nDFPisjo5D4G"
      },
      "source": [
        ""
      ]
    },
    {
      "cell_type": "code",
      "execution_count": null,
      "metadata": {
        "colab": {
          "base_uri": "https://localhost:8080/"
        },
        "id": "gkcaZZKFd5QA",
        "outputId": "d4cd42bb-117d-47db-f60c-ba14c37f22e1"
      },
      "outputs": [
        {
          "output_type": "stream",
          "name": "stdout",
          "text": [
            "All shapes are: (batch, time, features)\n",
            "X_train.shape: (10496, 20, 6) y_train.shape: (10496, 1)\n",
            "X_valid.shape: (1294, 20, 6) y_valid.shape: (1294, 1)\n",
            "X_test.shape: (1295, 20, 6) y_test.shape: (1295, 1)\n"
          ]
        }
      ],
      "source": [
        "with open('Preprocessed_data_PG.npy', 'rb') as f:\n",
        "    X_train = np.load(f)\n",
        "    y_train = np.load(f)\n",
        "    X_valid = np.load(f)\n",
        "    y_valid = np.load(f)\n",
        "    X_test = np.load(f)\n",
        "    y_test = np.load(f)\n",
        "\n",
        "print('All shapes are: (batch, time, features)')\n",
        "print('X_train.shape:', X_train.shape, 'y_train.shape:', y_train.shape)\n",
        "print('X_valid.shape:', X_valid.shape, 'y_valid.shape:', y_valid.shape)\n",
        "print('X_test.shape:', X_test.shape, 'y_test.shape:', y_test.shape)"
      ]
    },
    {
      "cell_type": "markdown",
      "metadata": {
        "id": "Es-3SjBjTGax"
      },
      "source": [
        "Load scaler"
      ]
    },
    {
      "cell_type": "code",
      "execution_count": null,
      "metadata": {
        "id": "LDFUkU63TGsE"
      },
      "outputs": [],
      "source": [
        "scaler = load('MinMaxScaler_PG.joblib')"
      ]
    },
    {
      "cell_type": "markdown",
      "metadata": {
        "id": "ByOexPRLbboE"
      },
      "source": [
        "It was verified through these lines of code that the two scales were equal"
      ]
    },
    {
      "cell_type": "code",
      "execution_count": null,
      "metadata": {
        "id": "eY-by2p2bm0v"
      },
      "outputs": [],
      "source": [
        "# Those attributes are specific of MinMaxScaler. For other scalers they might change\n",
        "# if (imported_scaler.scale_ == scaler.scale_).all() and (imported_scaler.data_max_ == scaler.data_max_).all() \\\n",
        "        # and (imported_scale.data_min_ == scaler.data_min_).all() and (imported_scale.data_range_ == scaler.data_range_).all():\n",
        "   # print(\"Scalers are same\")"
      ]
    },
    {
      "cell_type": "markdown",
      "metadata": {
        "id": "sY4y8A4zc_Ix"
      },
      "source": [
        "It is necessary to import the shoe ladder then subsequently the new observations that the algorithm will predict in the future which will then be reused for the next prison prediction"
      ]
    },
    {
      "cell_type": "code",
      "execution_count": null,
      "metadata": {
        "id": "m6k_ZsXzICT8"
      },
      "outputs": [],
      "source": [
        "# from talos.utils import hidden_layers"
      ]
    },
    {
      "cell_type": "markdown",
      "metadata": {
        "id": "Yx941nYNdFkl"
      },
      "source": [
        "The Hidden layers function has been imported from the Talos library but has been modified according to the needs of the project"
      ]
    },
    {
      "cell_type": "code",
      "execution_count": null,
      "metadata": {
        "id": "DwSkU0oqhJwz"
      },
      "outputs": [],
      "source": [
        "def network_shape_customized(params, last_neuron, network_type):\n",
        "\n",
        "    '''Provides the ability to include network shape in experiments. If params\n",
        "    dictionary for the round contains float value for params['shapes'] then\n",
        "    a linear contraction towards the last_neuron value. The higher the value,\n",
        "    the fewer layers it takes to reach lesser than last_neuron.\n",
        "    Supports three inbuilt shapes 'brick', 'funnel', and 'triangle'.\n",
        "    params : dict\n",
        "         Scan() params for a single roundself.\n",
        "    last_neuron : int\n",
        "         Number of neurons on the output layer in the Keras model.\n",
        "    '''\n",
        "    import numpy as np\n",
        "    from talos.utils.exceptions import TalosParamsError\n",
        "\n",
        "    layers = params['hidden_layers']\n",
        "    shape = params['shapes']\n",
        "    # network_type == 0 --> SimpleRNN\n",
        "    # network_type == 1 --> GRU\n",
        "    # network_type == 2 --> LSTM\n",
        "    # network_type == 3 --> CONV1D\n",
        "    if network_type == 3:\n",
        "      first_neuron = params['first_filter']\n",
        "    else:\n",
        "      first_neuron = params['first_neuron']\n",
        "\n",
        "    out = []\n",
        "    n = first_neuron\n",
        "\n",
        "    # the case where hidden_layers is zero\n",
        "    if layers == 0:\n",
        "        return [0]\n",
        "\n",
        "    # the cases where an angle is applied\n",
        "    if isinstance(shape, float):\n",
        "\n",
        "        for i in range(layers):\n",
        "\n",
        "            n *= 1 - shape\n",
        "\n",
        "            if n > last_neuron:\n",
        "                out.append(int(n))\n",
        "            else:\n",
        "                out.append(last_neuron)\n",
        "\n",
        "    # the case where a rectantular shape is used\n",
        "    elif shape == 'brick':\n",
        "        out = [first_neuron] * layers\n",
        "\n",
        "    elif shape == 'funnel':\n",
        "        for i in range(layers + 1):\n",
        "            n -= int((first_neuron - last_neuron) / layers)\n",
        "            out.append(n)\n",
        "        out.pop(-1)\n",
        "\n",
        "    elif shape == 'triangle':\n",
        "        out = np.linspace(first_neuron,\n",
        "                          last_neuron,\n",
        "                          layers+2,\n",
        "                          dtype=int).tolist()\n",
        "\n",
        "        out.pop(0)\n",
        "        out.pop(-1)\n",
        "        out.reverse()\n",
        "\n",
        "    else:\n",
        "        message = \"'shapes' must be float or in ['funnel', 'brick', 'triangle']\"\n",
        "        raise TalosParamsError(message)\n",
        "\n",
        "    return out\n",
        "\n",
        "\n",
        "def hidden_layers_customized(model, params, last_neuron, network_type):\n",
        "    '''HIDDEN LAYER Generator\n",
        "\n",
        "    NOTE: 'shapes', 'first_neuron', 'dropout', and 'hidden_layers' need\n",
        "    to be present in the params dictionary.\n",
        "\n",
        "    Hidden layer generation for the cases where number\n",
        "    of layers is used as a variable in the optimization process.\n",
        "    Handles things in a way where any number of layers can be tried\n",
        "    with matching hyperparameters.'''\n",
        "\n",
        "    # check for the params that are required for hidden_layers\n",
        "\n",
        "    from tensorflow.keras.layers import Dense, Dropout, Conv1D, MaxPooling1D, SimpleRNN, GRU, LSTM\n",
        "    # from .network_shape import network_shape\n",
        "    from talos.utils.exceptions import TalosParamsError\n",
        "\n",
        "    if network_type == 0:\n",
        "      required = ['shapes', 'first_neuron', 'dropout', 'hidden_layers', 'rnn_units']\n",
        "    elif network_type == 1:\n",
        "      required = ['shapes', 'first_neuron', 'dropout', 'hidden_layers', 'gru_units']\n",
        "    elif network_type == 2:\n",
        "      required = ['shapes', 'first_neuron', 'dropout', 'hidden_layers', 'lstm_units']\n",
        "    elif network_type == 3:\n",
        "      required = ['shapes', 'first_filter', 'dropout', 'hidden_layers', 'kernel_size', 'activation', 'filter']\n",
        "\n",
        "\n",
        "\n",
        "    for param in required:\n",
        "        if param not in params:\n",
        "            message = \"hidden_layers requires '\" + param + \"' in params\"\n",
        "            raise TalosParamsError(message)\n",
        "\n",
        "    layer_neurons = network_shape_customized(params, last_neuron, network_type)\n",
        "    # network_type == 0 --> SimpleRNN\n",
        "    # network_type == 1 --> GRU\n",
        "    # network_type == 2 --> LSTM\n",
        "    # network_type == 3 --> CONV1D\n",
        "\n",
        "    if network_type == 0:\n",
        "        for i in range(params['hidden_layers']):\n",
        "            if params['hidden_layers'] == 0:\n",
        "              model.add(SimpleRNN(layer_neurons[i], return_sequences=False, activation='relu'))\n",
        "            else:\n",
        "                if i == params['hidden_layers'] - 1:\n",
        "                  model.add(SimpleRNN(layer_neurons[i], return_sequences=False, activation='relu'))\n",
        "                else:\n",
        "                  model.add(SimpleRNN(layer_neurons[i], return_sequences=True, activation='relu'))\n",
        "    elif network_type == 1:\n",
        "       for i in range(params['hidden_layers']):\n",
        "            if params['hidden_layers'] == 0:\n",
        "              model.add(SimpleRNN(layer_neurons[i], return_sequences=False, activation='relu'))\n",
        "            else:\n",
        "                if i == params['hidden_layers'] - 1:\n",
        "                  model.add(SimpleRNN(layer_neurons[i], return_sequences=False, activation='relu'))\n",
        "                else:\n",
        "                  model.add(SimpleRNN(layer_neurons[i], return_sequences=True, activation='relu'))\n",
        "    elif network_type == 2:\n",
        "       for i in range(params['hidden_layers']):\n",
        "            if params['hidden_layers'] == 0:\n",
        "              model.add(SimpleRNN(layer_neurons[i], return_sequences=False, activation='elu'))\n",
        "            else:\n",
        "                if i == params['hidden_layers'] - 1:\n",
        "                  model.add(SimpleRNN(layer_neurons[i], return_sequences=False, activation='elu'))\n",
        "                else:\n",
        "                  model.add(SimpleRNN(layer_neurons[i], return_sequences=True, activation='elu'))\n",
        "    elif network_type == 3:\n",
        "        for i in range(params['hidden_layers']):\n",
        "\n",
        "            model.add(Conv1D(layer_neurons[i],\n",
        "                            kernel_size=params.get('kernel_size'),\n",
        "                            padding = 'same', activation='relu'))\n",
        "            model.add(MaxPooling1D(pool_size=2, padding='same'))\n",
        "            model.add(Dropout(params['dropout']))\n",
        "    else:\n",
        "      message = \"Model not supported\"\n",
        "      raise TalosParamsError(message)\n",
        "\n"
      ]
    },
    {
      "cell_type": "markdown",
      "metadata": {
        "id": "kzoIsvJsvBbr"
      },
      "source": [
        "#### 3.1 Recurrent Neural Network (RNN)"
      ]
    },
    {
      "cell_type": "code",
      "execution_count": null,
      "metadata": {
        "colab": {
          "base_uri": "https://localhost:8080/"
        },
        "id": "M93LBfGTuvgp",
        "outputId": "617eefd7-91f6-4f71-deed-9e1227a54e01"
      },
      "outputs": [
        {
          "output_type": "stream",
          "name": "stderr",
          "text": [
            "\r  0%|          | 0/48 [00:00<?, ?it/s]"
          ]
        },
        {
          "output_type": "stream",
          "name": "stdout",
          "text": [
            "{'batch_size': 500, 'dropout': 0, 'epochs': 50, 'first_neuron': 32, 'hidden_layers': 1, 'rnn_units': 32, 'shapes': 'brick'}\n"
          ]
        },
        {
          "output_type": "stream",
          "name": "stderr",
          "text": [
            "\r  2%|▏         | 1/48 [00:39<31:15, 39.90s/it]"
          ]
        },
        {
          "output_type": "stream",
          "name": "stdout",
          "text": [
            "{'batch_size': 500, 'dropout': 0, 'epochs': 50, 'first_neuron': 32, 'hidden_layers': 1, 'rnn_units': 32, 'shapes': 'triangle'}\n"
          ]
        },
        {
          "output_type": "stream",
          "name": "stderr",
          "text": [
            "\r  4%|▍         | 2/48 [01:02<22:38, 29.52s/it]"
          ]
        },
        {
          "output_type": "stream",
          "name": "stdout",
          "text": [
            "{'batch_size': 500, 'dropout': 0, 'epochs': 50, 'first_neuron': 32, 'hidden_layers': 2, 'rnn_units': 32, 'shapes': 'brick'}\n"
          ]
        },
        {
          "output_type": "stream",
          "name": "stderr",
          "text": [
            "\r  6%|▋         | 3/48 [01:36<23:54, 31.87s/it]"
          ]
        },
        {
          "output_type": "stream",
          "name": "stdout",
          "text": [
            "{'batch_size': 500, 'dropout': 0, 'epochs': 50, 'first_neuron': 32, 'hidden_layers': 2, 'rnn_units': 32, 'shapes': 'triangle'}\n"
          ]
        },
        {
          "output_type": "stream",
          "name": "stderr",
          "text": [
            "\r  8%|▊         | 4/48 [02:07<23:09, 31.57s/it]"
          ]
        },
        {
          "output_type": "stream",
          "name": "stdout",
          "text": [
            "{'batch_size': 500, 'dropout': 0, 'epochs': 50, 'first_neuron': 32, 'hidden_layers': 3, 'rnn_units': 32, 'shapes': 'brick'}\n"
          ]
        },
        {
          "output_type": "stream",
          "name": "stderr",
          "text": [
            "\r 10%|█         | 5/48 [02:55<26:38, 37.17s/it]"
          ]
        },
        {
          "output_type": "stream",
          "name": "stdout",
          "text": [
            "{'batch_size': 500, 'dropout': 0, 'epochs': 50, 'first_neuron': 32, 'hidden_layers': 3, 'rnn_units': 32, 'shapes': 'triangle'}\n"
          ]
        },
        {
          "output_type": "stream",
          "name": "stderr",
          "text": [
            "\r 12%|█▎        | 6/48 [03:31<25:45, 36.79s/it]"
          ]
        },
        {
          "output_type": "stream",
          "name": "stdout",
          "text": [
            "{'batch_size': 500, 'dropout': 0, 'epochs': 50, 'first_neuron': 16, 'hidden_layers': 1, 'rnn_units': 32, 'shapes': 'brick'}\n"
          ]
        },
        {
          "output_type": "stream",
          "name": "stderr",
          "text": [
            "\r 15%|█▍        | 7/48 [03:51<21:34, 31.56s/it]"
          ]
        },
        {
          "output_type": "stream",
          "name": "stdout",
          "text": [
            "{'batch_size': 500, 'dropout': 0, 'epochs': 50, 'first_neuron': 16, 'hidden_layers': 1, 'rnn_units': 32, 'shapes': 'triangle'}\n"
          ]
        },
        {
          "output_type": "stream",
          "name": "stderr",
          "text": [
            "\r 17%|█▋        | 8/48 [04:10<18:21, 27.54s/it]"
          ]
        },
        {
          "output_type": "stream",
          "name": "stdout",
          "text": [
            "{'batch_size': 500, 'dropout': 0, 'epochs': 50, 'first_neuron': 16, 'hidden_layers': 2, 'rnn_units': 32, 'shapes': 'brick'}\n"
          ]
        },
        {
          "output_type": "stream",
          "name": "stderr",
          "text": [
            "\r 19%|█▉        | 9/48 [04:39<18:03, 27.79s/it]"
          ]
        },
        {
          "output_type": "stream",
          "name": "stdout",
          "text": [
            "{'batch_size': 500, 'dropout': 0, 'epochs': 50, 'first_neuron': 16, 'hidden_layers': 2, 'rnn_units': 32, 'shapes': 'triangle'}\n"
          ]
        },
        {
          "output_type": "stream",
          "name": "stderr",
          "text": [
            "\r 21%|██        | 10/48 [05:04<17:11, 27.15s/it]"
          ]
        },
        {
          "output_type": "stream",
          "name": "stdout",
          "text": [
            "{'batch_size': 500, 'dropout': 0, 'epochs': 50, 'first_neuron': 16, 'hidden_layers': 3, 'rnn_units': 32, 'shapes': 'brick'}\n"
          ]
        },
        {
          "output_type": "stream",
          "name": "stderr",
          "text": [
            "\r 23%|██▎       | 11/48 [05:41<18:32, 30.05s/it]"
          ]
        },
        {
          "output_type": "stream",
          "name": "stdout",
          "text": [
            "{'batch_size': 500, 'dropout': 0, 'epochs': 50, 'first_neuron': 16, 'hidden_layers': 3, 'rnn_units': 32, 'shapes': 'triangle'}\n"
          ]
        },
        {
          "output_type": "stream",
          "name": "stderr",
          "text": [
            "\r 25%|██▌       | 12/48 [06:12<18:17, 30.48s/it]"
          ]
        },
        {
          "output_type": "stream",
          "name": "stdout",
          "text": [
            "{'batch_size': 500, 'dropout': 0, 'epochs': 100, 'first_neuron': 32, 'hidden_layers': 1, 'rnn_units': 32, 'shapes': 'brick'}\n"
          ]
        },
        {
          "output_type": "stream",
          "name": "stderr",
          "text": [
            "\r 27%|██▋       | 13/48 [06:58<20:23, 34.95s/it]"
          ]
        },
        {
          "output_type": "stream",
          "name": "stdout",
          "text": [
            "{'batch_size': 500, 'dropout': 0, 'epochs': 100, 'first_neuron': 32, 'hidden_layers': 1, 'rnn_units': 32, 'shapes': 'triangle'}\n"
          ]
        },
        {
          "output_type": "stream",
          "name": "stderr",
          "text": [
            "\r 29%|██▉       | 14/48 [07:41<21:09, 37.33s/it]"
          ]
        },
        {
          "output_type": "stream",
          "name": "stdout",
          "text": [
            "{'batch_size': 500, 'dropout': 0, 'epochs': 100, 'first_neuron': 32, 'hidden_layers': 2, 'rnn_units': 32, 'shapes': 'brick'}\n"
          ]
        },
        {
          "output_type": "stream",
          "name": "stderr",
          "text": [
            "\r 31%|███▏      | 15/48 [09:05<28:21, 51.56s/it]"
          ]
        },
        {
          "output_type": "stream",
          "name": "stdout",
          "text": [
            "{'batch_size': 500, 'dropout': 0, 'epochs': 100, 'first_neuron': 32, 'hidden_layers': 2, 'rnn_units': 32, 'shapes': 'triangle'}\n"
          ]
        },
        {
          "output_type": "stream",
          "name": "stderr",
          "text": [
            "\r 33%|███▎      | 16/48 [10:06<29:03, 54.49s/it]"
          ]
        },
        {
          "output_type": "stream",
          "name": "stdout",
          "text": [
            "{'batch_size': 500, 'dropout': 0, 'epochs': 100, 'first_neuron': 32, 'hidden_layers': 3, 'rnn_units': 32, 'shapes': 'brick'}\n"
          ]
        },
        {
          "output_type": "stream",
          "name": "stderr",
          "text": [
            "\r 35%|███▌      | 17/48 [11:39<34:02, 65.89s/it]"
          ]
        },
        {
          "output_type": "stream",
          "name": "stdout",
          "text": [
            "{'batch_size': 500, 'dropout': 0, 'epochs': 100, 'first_neuron': 32, 'hidden_layers': 3, 'rnn_units': 32, 'shapes': 'triangle'}\n"
          ]
        },
        {
          "output_type": "stream",
          "name": "stderr",
          "text": [
            "\r 38%|███▊      | 18/48 [12:47<33:16, 66.54s/it]"
          ]
        },
        {
          "output_type": "stream",
          "name": "stdout",
          "text": [
            "{'batch_size': 500, 'dropout': 0, 'epochs': 100, 'first_neuron': 16, 'hidden_layers': 1, 'rnn_units': 32, 'shapes': 'brick'}\n"
          ]
        },
        {
          "output_type": "stream",
          "name": "stderr",
          "text": [
            "\r 40%|███▉      | 19/48 [13:26<28:09, 58.26s/it]"
          ]
        },
        {
          "output_type": "stream",
          "name": "stdout",
          "text": [
            "{'batch_size': 500, 'dropout': 0, 'epochs': 100, 'first_neuron': 16, 'hidden_layers': 1, 'rnn_units': 32, 'shapes': 'triangle'}\n"
          ]
        },
        {
          "output_type": "stream",
          "name": "stderr",
          "text": [
            "\r 42%|████▏     | 20/48 [14:02<24:03, 51.57s/it]"
          ]
        },
        {
          "output_type": "stream",
          "name": "stdout",
          "text": [
            "{'batch_size': 500, 'dropout': 0, 'epochs': 100, 'first_neuron': 16, 'hidden_layers': 2, 'rnn_units': 32, 'shapes': 'brick'}\n"
          ]
        },
        {
          "output_type": "stream",
          "name": "stderr",
          "text": [
            "\r 44%|████▍     | 21/48 [14:55<23:29, 52.21s/it]"
          ]
        },
        {
          "output_type": "stream",
          "name": "stdout",
          "text": [
            "{'batch_size': 500, 'dropout': 0, 'epochs': 100, 'first_neuron': 16, 'hidden_layers': 2, 'rnn_units': 32, 'shapes': 'triangle'}\n"
          ]
        },
        {
          "output_type": "stream",
          "name": "stderr",
          "text": [
            "\r 46%|████▌     | 22/48 [15:44<22:09, 51.14s/it]"
          ]
        },
        {
          "output_type": "stream",
          "name": "stdout",
          "text": [
            "{'batch_size': 500, 'dropout': 0, 'epochs': 100, 'first_neuron': 16, 'hidden_layers': 3, 'rnn_units': 32, 'shapes': 'brick'}\n"
          ]
        },
        {
          "output_type": "stream",
          "name": "stderr",
          "text": [
            "\r 48%|████▊     | 23/48 [16:52<23:23, 56.14s/it]"
          ]
        },
        {
          "output_type": "stream",
          "name": "stdout",
          "text": [
            "{'batch_size': 500, 'dropout': 0, 'epochs': 100, 'first_neuron': 16, 'hidden_layers': 3, 'rnn_units': 32, 'shapes': 'triangle'}\n"
          ]
        },
        {
          "output_type": "stream",
          "name": "stderr",
          "text": [
            "\r 50%|█████     | 24/48 [17:51<22:46, 56.93s/it]"
          ]
        },
        {
          "output_type": "stream",
          "name": "stdout",
          "text": [
            "{'batch_size': 1000, 'dropout': 0, 'epochs': 50, 'first_neuron': 32, 'hidden_layers': 1, 'rnn_units': 32, 'shapes': 'brick'}\n"
          ]
        },
        {
          "output_type": "stream",
          "name": "stderr",
          "text": [
            "\r 52%|█████▏    | 25/48 [18:13<17:51, 46.58s/it]"
          ]
        },
        {
          "output_type": "stream",
          "name": "stdout",
          "text": [
            "{'batch_size': 1000, 'dropout': 0, 'epochs': 50, 'first_neuron': 32, 'hidden_layers': 1, 'rnn_units': 32, 'shapes': 'triangle'}\n"
          ]
        },
        {
          "output_type": "stream",
          "name": "stderr",
          "text": [
            "\r 54%|█████▍    | 26/48 [18:31<13:54, 37.91s/it]"
          ]
        },
        {
          "output_type": "stream",
          "name": "stdout",
          "text": [
            "{'batch_size': 1000, 'dropout': 0, 'epochs': 50, 'first_neuron': 32, 'hidden_layers': 2, 'rnn_units': 32, 'shapes': 'brick'}\n"
          ]
        },
        {
          "output_type": "stream",
          "name": "stderr",
          "text": [
            "\r 56%|█████▋    | 27/48 [19:03<12:37, 36.07s/it]"
          ]
        },
        {
          "output_type": "stream",
          "name": "stdout",
          "text": [
            "{'batch_size': 1000, 'dropout': 0, 'epochs': 50, 'first_neuron': 32, 'hidden_layers': 2, 'rnn_units': 32, 'shapes': 'triangle'}\n"
          ]
        },
        {
          "output_type": "stream",
          "name": "stderr",
          "text": [
            "\r 58%|█████▊    | 28/48 [19:27<10:50, 32.53s/it]"
          ]
        },
        {
          "output_type": "stream",
          "name": "stdout",
          "text": [
            "{'batch_size': 1000, 'dropout': 0, 'epochs': 50, 'first_neuron': 32, 'hidden_layers': 3, 'rnn_units': 32, 'shapes': 'brick'}\n"
          ]
        },
        {
          "output_type": "stream",
          "name": "stderr",
          "text": [
            "\r 60%|██████    | 29/48 [20:11<11:25, 36.05s/it]"
          ]
        },
        {
          "output_type": "stream",
          "name": "stdout",
          "text": [
            "{'batch_size': 1000, 'dropout': 0, 'epochs': 50, 'first_neuron': 32, 'hidden_layers': 3, 'rnn_units': 32, 'shapes': 'triangle'}\n"
          ]
        },
        {
          "output_type": "stream",
          "name": "stderr",
          "text": [
            "\r 62%|██████▎   | 30/48 [20:41<10:13, 34.06s/it]"
          ]
        },
        {
          "output_type": "stream",
          "name": "stdout",
          "text": [
            "{'batch_size': 1000, 'dropout': 0, 'epochs': 50, 'first_neuron': 16, 'hidden_layers': 1, 'rnn_units': 32, 'shapes': 'brick'}\n"
          ]
        },
        {
          "output_type": "stream",
          "name": "stderr",
          "text": [
            "\r 65%|██████▍   | 31/48 [20:58<08:12, 28.96s/it]"
          ]
        },
        {
          "output_type": "stream",
          "name": "stdout",
          "text": [
            "{'batch_size': 1000, 'dropout': 0, 'epochs': 50, 'first_neuron': 16, 'hidden_layers': 1, 'rnn_units': 32, 'shapes': 'triangle'}\n"
          ]
        },
        {
          "output_type": "stream",
          "name": "stderr",
          "text": [
            "\r 67%|██████▋   | 32/48 [21:13<06:39, 24.99s/it]"
          ]
        },
        {
          "output_type": "stream",
          "name": "stdout",
          "text": [
            "{'batch_size': 1000, 'dropout': 0, 'epochs': 50, 'first_neuron': 16, 'hidden_layers': 2, 'rnn_units': 32, 'shapes': 'brick'}\n"
          ]
        },
        {
          "output_type": "stream",
          "name": "stderr",
          "text": [
            "\r 69%|██████▉   | 33/48 [21:36<06:04, 24.28s/it]"
          ]
        },
        {
          "output_type": "stream",
          "name": "stdout",
          "text": [
            "{'batch_size': 1000, 'dropout': 0, 'epochs': 50, 'first_neuron': 16, 'hidden_layers': 2, 'rnn_units': 32, 'shapes': 'triangle'}\n"
          ]
        },
        {
          "output_type": "stream",
          "name": "stderr",
          "text": [
            "\r 71%|███████   | 34/48 [21:56<05:22, 23.06s/it]"
          ]
        },
        {
          "output_type": "stream",
          "name": "stdout",
          "text": [
            "{'batch_size': 1000, 'dropout': 0, 'epochs': 50, 'first_neuron': 16, 'hidden_layers': 3, 'rnn_units': 32, 'shapes': 'brick'}\n"
          ]
        },
        {
          "output_type": "stream",
          "name": "stderr",
          "text": [
            "\r 73%|███████▎  | 35/48 [22:25<05:21, 24.75s/it]"
          ]
        },
        {
          "output_type": "stream",
          "name": "stdout",
          "text": [
            "{'batch_size': 1000, 'dropout': 0, 'epochs': 50, 'first_neuron': 16, 'hidden_layers': 3, 'rnn_units': 32, 'shapes': 'triangle'}\n"
          ]
        },
        {
          "output_type": "stream",
          "name": "stderr",
          "text": [
            "\r 75%|███████▌  | 36/48 [22:49<04:55, 24.64s/it]"
          ]
        },
        {
          "output_type": "stream",
          "name": "stdout",
          "text": [
            "{'batch_size': 1000, 'dropout': 0, 'epochs': 100, 'first_neuron': 32, 'hidden_layers': 1, 'rnn_units': 32, 'shapes': 'brick'}\n"
          ]
        },
        {
          "output_type": "stream",
          "name": "stderr",
          "text": [
            "\r 77%|███████▋  | 37/48 [23:29<05:19, 29.04s/it]"
          ]
        },
        {
          "output_type": "stream",
          "name": "stdout",
          "text": [
            "{'batch_size': 1000, 'dropout': 0, 'epochs': 100, 'first_neuron': 32, 'hidden_layers': 1, 'rnn_units': 32, 'shapes': 'triangle'}\n"
          ]
        },
        {
          "output_type": "stream",
          "name": "stderr",
          "text": [
            "\r 79%|███████▉  | 38/48 [24:11<05:31, 33.18s/it]"
          ]
        },
        {
          "output_type": "stream",
          "name": "stdout",
          "text": [
            "{'batch_size': 1000, 'dropout': 0, 'epochs': 100, 'first_neuron': 32, 'hidden_layers': 2, 'rnn_units': 32, 'shapes': 'brick'}\n"
          ]
        },
        {
          "output_type": "stream",
          "name": "stderr",
          "text": [
            "\r 81%|████████▏ | 39/48 [25:11<06:09, 41.02s/it]"
          ]
        },
        {
          "output_type": "stream",
          "name": "stdout",
          "text": [
            "{'batch_size': 1000, 'dropout': 0, 'epochs': 100, 'first_neuron': 32, 'hidden_layers': 2, 'rnn_units': 32, 'shapes': 'triangle'}\n"
          ]
        },
        {
          "output_type": "stream",
          "name": "stderr",
          "text": [
            "\r 83%|████████▎ | 40/48 [25:56<05:37, 42.18s/it]"
          ]
        },
        {
          "output_type": "stream",
          "name": "stdout",
          "text": [
            "{'batch_size': 1000, 'dropout': 0, 'epochs': 100, 'first_neuron': 32, 'hidden_layers': 3, 'rnn_units': 32, 'shapes': 'brick'}\n"
          ]
        },
        {
          "output_type": "stream",
          "name": "stderr",
          "text": [
            "\r 85%|████████▌ | 41/48 [27:21<06:25, 55.09s/it]"
          ]
        },
        {
          "output_type": "stream",
          "name": "stdout",
          "text": [
            "{'batch_size': 1000, 'dropout': 0, 'epochs': 100, 'first_neuron': 32, 'hidden_layers': 3, 'rnn_units': 32, 'shapes': 'triangle'}\n"
          ]
        },
        {
          "output_type": "stream",
          "name": "stderr",
          "text": [
            "\r 88%|████████▊ | 42/48 [28:16<05:31, 55.18s/it]"
          ]
        },
        {
          "output_type": "stream",
          "name": "stdout",
          "text": [
            "{'batch_size': 1000, 'dropout': 0, 'epochs': 100, 'first_neuron': 16, 'hidden_layers': 1, 'rnn_units': 32, 'shapes': 'brick'}\n"
          ]
        },
        {
          "output_type": "stream",
          "name": "stderr",
          "text": [
            "\r 90%|████████▉ | 43/48 [28:48<04:01, 48.31s/it]"
          ]
        },
        {
          "output_type": "stream",
          "name": "stdout",
          "text": [
            "{'batch_size': 1000, 'dropout': 0, 'epochs': 100, 'first_neuron': 16, 'hidden_layers': 1, 'rnn_units': 32, 'shapes': 'triangle'}\n"
          ]
        },
        {
          "output_type": "stream",
          "name": "stderr",
          "text": [
            "\r 92%|█████████▏| 44/48 [29:18<02:50, 42.68s/it]"
          ]
        },
        {
          "output_type": "stream",
          "name": "stdout",
          "text": [
            "{'batch_size': 1000, 'dropout': 0, 'epochs': 100, 'first_neuron': 16, 'hidden_layers': 2, 'rnn_units': 32, 'shapes': 'brick'}\n"
          ]
        },
        {
          "output_type": "stream",
          "name": "stderr",
          "text": [
            "\r 94%|█████████▍| 45/48 [30:01<02:08, 42.74s/it]"
          ]
        },
        {
          "output_type": "stream",
          "name": "stdout",
          "text": [
            "{'batch_size': 1000, 'dropout': 0, 'epochs': 100, 'first_neuron': 16, 'hidden_layers': 2, 'rnn_units': 32, 'shapes': 'triangle'}\n"
          ]
        },
        {
          "output_type": "stream",
          "name": "stderr",
          "text": [
            "\r 96%|█████████▌| 46/48 [30:44<01:25, 42.95s/it]"
          ]
        },
        {
          "output_type": "stream",
          "name": "stdout",
          "text": [
            "{'batch_size': 1000, 'dropout': 0, 'epochs': 100, 'first_neuron': 16, 'hidden_layers': 3, 'rnn_units': 32, 'shapes': 'brick'}\n"
          ]
        },
        {
          "output_type": "stream",
          "name": "stderr",
          "text": [
            "\r 98%|█████████▊| 47/48 [31:38<00:46, 46.18s/it]"
          ]
        },
        {
          "output_type": "stream",
          "name": "stdout",
          "text": [
            "{'batch_size': 1000, 'dropout': 0, 'epochs': 100, 'first_neuron': 16, 'hidden_layers': 3, 'rnn_units': 32, 'shapes': 'triangle'}\n"
          ]
        },
        {
          "output_type": "stream",
          "name": "stderr",
          "text": [
            "100%|██████████| 48/48 [32:23<00:00, 40.49s/it]\n"
          ]
        }
      ],
      "source": [
        "def rnn_fn(x_train, y_train, x_val, y_val, params):\n",
        "\t  # Step 1: reset the tensorflow backend session.\n",
        "    tf.keras.backend.clear_session()\n",
        "    # Step 2: Define the model with variable hyperparameters.\n",
        "    # dropout = float(params['dropout'])\n",
        "    # lr = float(params['lr'])\n",
        "    model = tf.keras.models.Sequential()\n",
        "    model.add(tf.keras.layers.Input(shape=(X_train.shape[1], X_train.shape[2])))\n",
        "    hidden_layers_customized(model, params, 1, 0)\n",
        "    model.add(tf.keras.layers.Dropout(0))\n",
        "    model.add(tf.keras.layers.Dense(1))\n",
        "    model.add(tf.keras.layers.Activation('linear'))\n",
        "    \n",
        "    model.compile(\n",
        "        loss='mse',\n",
        "        optimizer = 'Adam'\n",
        "        #params['optimiz'](learning_rate=lr),\n",
        "        # metrics=['mse']\n",
        "    )\n",
        "\n",
        "    stop_early = tf.keras.callbacks.EarlyStopping(monitor='val_loss', patience=15, restore_best_weights=True)\n",
        "    \n",
        "    history = model.fit(\n",
        "        x_train, y_train, \n",
        "        epochs=params['epochs'], \n",
        "        batch_size=params['batch_size'], \n",
        "        verbose=0,\n",
        "        validation_data=[x_val, y_val],\n",
        "        callbacks=[stop_early], \n",
        "    )\n",
        "\n",
        "    return history, model, \n",
        "\n",
        "para = {\n",
        "    'batch_size': [70, 100], \n",
        "    'epochs': [100, 200],  # 100, 200\n",
        "    'shapes': ['brick', 'triangle'],               # <<< required\n",
        "    'first_neuron': [64, 32],  # 64,               # <<< required\n",
        "    'hidden_layers': [2, 3, 4],  # 2, 3            # <<< required\n",
        "     # 'dropout': [0],  # 0.25                        # <<< required\n",
        "     # 'rnn_units': [32],  # 128                      # <<< required\n",
        "     # 'optimiz': [Nadam, Adam],\n",
        "     # 'lr': [0.001, 0.01, 0.1] \n",
        "}\n"
      ]
    },
    {
      "cell_type": "markdown",
      "metadata": {
        "id": "5CGdVRupDz_9"
      },
      "source": [
        "#### 3.2 Gated Recurrent Unit (GRU)"
      ]
    },
    {
      "cell_type": "code",
      "source": [
        "def gru_fn(x_train, y_train, x_val, y_val, params):\n",
        "\t  # Step 1: reset the tensorflow backend session.\n",
        "    tf.keras.backend.clear_session()\n",
        "    # Step 2: Define the model with variable hyperparameters.\n",
        "    # dropout = float(params['dropout'])\n",
        "    lr = float(params['lr'])\n",
        "    model = tf.keras.models.Sequential()\n",
        "    model.add(tf.keras.layers.Input(shape=(X_train.shape[1], X_train.shape[2])))\n",
        "    hidden_layers_customized(model, params, 1, 1)\n",
        "    model.add(tf.keras.layers.Dropout(0))\n",
        "    model.add(tf.keras.layers.Dense(1))\n",
        "    model.add(tf.keras.layers.Activation('linear'))\n",
        "\n",
        "    model.compile(\n",
        "        loss='mse',\n",
        "        optimizer=params['optimiz'](learning_rate=lr),\n",
        "        # metrics=['mse']\n",
        "    )\n",
        "\n",
        "    stop_early = tf.keras.callbacks.EarlyStopping(monitor='val_loss', patience=15)\n",
        "                                                 # restore_best_weights=True)\n",
        "    \n",
        "    history = model.fit(\n",
        "        x_train, y_train, \n",
        "        epochs=params['epochs'], \n",
        "        batch_size=params['batch_size'], \n",
        "        verbose=0,\n",
        "        validation_data=[x_val, y_val],\n",
        "        callbacks=[stop_early], \n",
        "    )\n",
        "\n",
        "    return history, model, \n",
        "\n",
        "para = {\n",
        "    'batch_size': [50, 100],\n",
        "    'epochs': [50, 70],  # 100, 200\n",
        "    'shapes': ['brick', 'triangle'],                 # <<< required\n",
        "    'first_neuron': [32, 64],  # 64,               # <<< required\n",
        "    'hidden_layers': [2, 3],  # 2, 3                  # <<< required\n",
        "    # 'dropout': [0],  # 0.25                        # <<< required\n",
        "    # 'rnn_units': [32],  # 128                      # <<< required\n",
        "    'optimiz': [Adam],\n",
        "     'lr': [0.005, 0.01]\n",
        "}\n"
      ],
      "metadata": {
        "id": "aBOmgUDiDsi_"
      },
      "execution_count": null,
      "outputs": []
    },
    {
      "cell_type": "markdown",
      "metadata": {
        "id": "NsPx9xDbEa3R"
      },
      "source": [
        "#### 3.3 Long Short-Term Memory (LSTM)"
      ]
    },
    {
      "cell_type": "code",
      "execution_count": null,
      "metadata": {
        "id": "Uta1e8mkEa3S"
      },
      "outputs": [],
      "source": [
        "def lstm_fn(x_train, y_train, x_val, y_val, params):\n",
        "\t  # Step 1: reset the tensorflow backend session.\n",
        "    tf.keras.backend.clear_session()\n",
        "    # Step 2: Define the model with variable hyperparameters.\n",
        "    # dropout = float(params['dropout'])\n",
        "    lr = float(params['lr'])\n",
        "    model = tf.keras.models.Sequential()\n",
        "    model.add(tf.keras.layers.Input(shape=(X_train.shape[1], X_train.shape[2])))\n",
        "    hidden_layers_customized(model, params, 1, 2)\n",
        "    model.add(tf.keras.layers.Dropout(0))\n",
        "    model.add(tf.keras.layers.Dense(1))\n",
        "    model.add(tf.keras.layers.Activation('linear'))\n",
        "    \n",
        "    model.compile(\n",
        "          loss='mse',\n",
        "          optimizer=params['optimiz'](learning_rate=lr),\n",
        "          # metrics=['mse']\n",
        "      )\n",
        "\n",
        "    stop_early = tf.keras.callbacks.EarlyStopping(monitor='val_loss', patience=10,\n",
        "                                                  restore_best_weights=True)\n",
        "    \n",
        "    history = model.fit(\n",
        "        x_train, y_train, \n",
        "        epochs=params['epochs'], \n",
        "        batch_size=params['batch_size'], \n",
        "        verbose=0,\n",
        "        validation_data=[x_val, y_val],\n",
        "        callbacks=[stop_early], \n",
        "    )\n",
        "\n",
        "    return history, model, \n",
        "\n",
        "para = {\n",
        "    'batch_size': [32, 64, 96],\n",
        "    'epochs': [120],  # 100, 200\n",
        "    'shapes': ['brick', 'triangle'],  # <<< required\n",
        "    'first_neuron': [65, 45, 25, 15],  # 64,              # <<< required\n",
        "    'hidden_layers': [2, 3, 4],  # 2, 3                  # <<< required\n",
        "    # 'dropout': [0],  # 0.25                         # <<< required\n",
        "    'optimiz': [Adam],\n",
        "    'lr': [0.001, 0.003],\n",
        "}\n",
        "  "
      ]
    },
    {
      "cell_type": "markdown",
      "metadata": {
        "id": "QWN6w5LzElbE"
      },
      "source": [
        "#### 3.4 Convolutional Neural Network (CNN)"
      ]
    },
    {
      "cell_type": "code",
      "execution_count": null,
      "metadata": {
        "id": "4RBbm--LElbF"
      },
      "outputs": [],
      "source": [
        "def cnn1d_fn(x_train, y_train, x_val, y_val, params):\n",
        "    # Step 1: reset the tensorflow backend session.\n",
        "    tf.keras.backend.clear_session()\n",
        "    # Step 2: Define the model with variable hyperparameters.\n",
        "    model = tf.keras.models.Sequential()\n",
        "    model.add(tf.keras.layers.Input(shape=(X_train.shape[1], X_train.shape[2])))\n",
        "    hidden_layers_customized(model, params, 1, 3)\n",
        "    model.add(tf.keras.layers.Flatten())\n",
        "    model.add(tf.keras.layers.Dense(1))\n",
        "    model.add(tf.keras.layers.Activation('linear'))\n",
        "\n",
        "    model.compile(\n",
        "        optimizer='adam',\n",
        "        loss='mse',\n",
        "        # metrics=['mse']\n",
        "    )\n",
        "\n",
        "    stop_early = tf.keras.callbacks.EarlyStopping(monitor='val_loss',\n",
        "                                                  patience=15, restore_best_weights=True)\n",
        "\n",
        "    out = model.fit(\n",
        "        x_train, y_train,\n",
        "        epochs=params['epochs'],\n",
        "        batch_size=params['batch_size'],\n",
        "        verbose=0,\n",
        "        validation_data=[x_val, y_val],\n",
        "        callbacks=[stop_early]\n",
        "    )\n",
        "    return out, model\n",
        "\n",
        "\n",
        "para = {\n",
        "    'batch_size': [50, 70, 100], \n",
        "    'epochs': [70, 100],  # 100, 200\n",
        "    'shapes': ['brick', 'triangle',],         # <<< required\n",
        "    'hidden_layers': [2, 3, 4],  # 2, 3       # <<< required\n",
        "    # 'dropout': [0],  # 0.25                \n",
        "    'first_filter': [64, 32],                 # <<< required\n",
        "    'kernel_size': [2, 3, 4],                 # <<< required\n",
        "}\n"
      ]
    },
    {
      "cell_type": "code",
      "source": [
        "# Starting of Grid search\n",
        "# Choose of model to tune\n",
        "scan_results_SimpleRNN = ta.Scan(x=X_train,\n",
        "                 y=y_train,\n",
        "                 params=para,\n",
        "                 model=rnn_fn,\n",
        "                 experiment_name='HyperparameterTuning',\n",
        "                 x_val=X_valid,\n",
        "                 y_val=y_valid,\n",
        "                 # performance_target=['val_loss', 0.61, True],\n",
        "                 disable_progress_bar=False, print_params=True)"
      ],
      "metadata": {
        "id": "sUnphFCHI9X8"
      },
      "execution_count": null,
      "outputs": []
    },
    {
      "cell_type": "markdown",
      "metadata": {
        "id": "ff2aCAAh-4DV"
      },
      "source": [
        "## 4. Model Selection"
      ]
    },
    {
      "cell_type": "code",
      "execution_count": null,
      "metadata": {
        "colab": {
          "base_uri": "https://localhost:8080/",
          "height": 1000
        },
        "id": "is68QDDBmKyu",
        "outputId": "cb35faf2-d3b4-428b-e301-49f01ed2d185"
      },
      "outputs": [
        {
          "output_type": "execute_result",
          "data": {
            "text/html": [
              "\n",
              "  <div id=\"df-de5f5b16-9ad7-4dfb-adb9-800908b49908\">\n",
              "    <div class=\"colab-df-container\">\n",
              "      <div>\n",
              "<style scoped>\n",
              "    .dataframe tbody tr th:only-of-type {\n",
              "        vertical-align: middle;\n",
              "    }\n",
              "\n",
              "    .dataframe tbody tr th {\n",
              "        vertical-align: top;\n",
              "    }\n",
              "\n",
              "    .dataframe thead th {\n",
              "        text-align: right;\n",
              "    }\n",
              "</style>\n",
              "<table border=\"1\" class=\"dataframe\">\n",
              "  <thead>\n",
              "    <tr style=\"text-align: right;\">\n",
              "      <th></th>\n",
              "      <th>round_epochs</th>\n",
              "      <th>loss</th>\n",
              "      <th>val_loss</th>\n",
              "      <th>batch_size</th>\n",
              "      <th>dropout</th>\n",
              "      <th>epochs</th>\n",
              "      <th>first_neuron</th>\n",
              "      <th>hidden_layers</th>\n",
              "      <th>rnn_units</th>\n",
              "      <th>shapes</th>\n",
              "    </tr>\n",
              "  </thead>\n",
              "  <tbody>\n",
              "    <tr>\n",
              "      <th>14</th>\n",
              "      <td>100</td>\n",
              "      <td>0.715864</td>\n",
              "      <td>3.294139</td>\n",
              "      <td>500</td>\n",
              "      <td>0</td>\n",
              "      <td>100</td>\n",
              "      <td>32</td>\n",
              "      <td>2</td>\n",
              "      <td>32</td>\n",
              "      <td>brick</td>\n",
              "    </tr>\n",
              "    <tr>\n",
              "      <th>16</th>\n",
              "      <td>100</td>\n",
              "      <td>0.626692</td>\n",
              "      <td>3.422476</td>\n",
              "      <td>500</td>\n",
              "      <td>0</td>\n",
              "      <td>100</td>\n",
              "      <td>32</td>\n",
              "      <td>3</td>\n",
              "      <td>32</td>\n",
              "      <td>brick</td>\n",
              "    </tr>\n",
              "    <tr>\n",
              "      <th>4</th>\n",
              "      <td>50</td>\n",
              "      <td>1.011558</td>\n",
              "      <td>3.423933</td>\n",
              "      <td>500</td>\n",
              "      <td>0</td>\n",
              "      <td>50</td>\n",
              "      <td>32</td>\n",
              "      <td>3</td>\n",
              "      <td>32</td>\n",
              "      <td>brick</td>\n",
              "    </tr>\n",
              "    <tr>\n",
              "      <th>46</th>\n",
              "      <td>100</td>\n",
              "      <td>0.994206</td>\n",
              "      <td>4.499556</td>\n",
              "      <td>1000</td>\n",
              "      <td>0</td>\n",
              "      <td>100</td>\n",
              "      <td>16</td>\n",
              "      <td>3</td>\n",
              "      <td>32</td>\n",
              "      <td>brick</td>\n",
              "    </tr>\n",
              "    <tr>\n",
              "      <th>17</th>\n",
              "      <td>100</td>\n",
              "      <td>0.580738</td>\n",
              "      <td>4.723511</td>\n",
              "      <td>500</td>\n",
              "      <td>0</td>\n",
              "      <td>100</td>\n",
              "      <td>32</td>\n",
              "      <td>3</td>\n",
              "      <td>32</td>\n",
              "      <td>triangle</td>\n",
              "    </tr>\n",
              "    <tr>\n",
              "      <th>2</th>\n",
              "      <td>50</td>\n",
              "      <td>1.035043</td>\n",
              "      <td>4.827545</td>\n",
              "      <td>500</td>\n",
              "      <td>0</td>\n",
              "      <td>50</td>\n",
              "      <td>32</td>\n",
              "      <td>2</td>\n",
              "      <td>32</td>\n",
              "      <td>brick</td>\n",
              "    </tr>\n",
              "    <tr>\n",
              "      <th>41</th>\n",
              "      <td>100</td>\n",
              "      <td>1.061557</td>\n",
              "      <td>4.910003</td>\n",
              "      <td>1000</td>\n",
              "      <td>0</td>\n",
              "      <td>100</td>\n",
              "      <td>32</td>\n",
              "      <td>3</td>\n",
              "      <td>32</td>\n",
              "      <td>triangle</td>\n",
              "    </tr>\n",
              "    <tr>\n",
              "      <th>40</th>\n",
              "      <td>100</td>\n",
              "      <td>0.834472</td>\n",
              "      <td>5.276843</td>\n",
              "      <td>1000</td>\n",
              "      <td>0</td>\n",
              "      <td>100</td>\n",
              "      <td>32</td>\n",
              "      <td>3</td>\n",
              "      <td>32</td>\n",
              "      <td>brick</td>\n",
              "    </tr>\n",
              "    <tr>\n",
              "      <th>25</th>\n",
              "      <td>50</td>\n",
              "      <td>1.193300</td>\n",
              "      <td>5.752493</td>\n",
              "      <td>1000</td>\n",
              "      <td>0</td>\n",
              "      <td>50</td>\n",
              "      <td>32</td>\n",
              "      <td>1</td>\n",
              "      <td>32</td>\n",
              "      <td>triangle</td>\n",
              "    </tr>\n",
              "    <tr>\n",
              "      <th>34</th>\n",
              "      <td>50</td>\n",
              "      <td>1.306501</td>\n",
              "      <td>5.809906</td>\n",
              "      <td>1000</td>\n",
              "      <td>0</td>\n",
              "      <td>50</td>\n",
              "      <td>16</td>\n",
              "      <td>3</td>\n",
              "      <td>32</td>\n",
              "      <td>brick</td>\n",
              "    </tr>\n",
              "    <tr>\n",
              "      <th>3</th>\n",
              "      <td>50</td>\n",
              "      <td>0.839615</td>\n",
              "      <td>6.658078</td>\n",
              "      <td>500</td>\n",
              "      <td>0</td>\n",
              "      <td>50</td>\n",
              "      <td>32</td>\n",
              "      <td>2</td>\n",
              "      <td>32</td>\n",
              "      <td>triangle</td>\n",
              "    </tr>\n",
              "    <tr>\n",
              "      <th>18</th>\n",
              "      <td>100</td>\n",
              "      <td>0.572762</td>\n",
              "      <td>6.749706</td>\n",
              "      <td>500</td>\n",
              "      <td>0</td>\n",
              "      <td>100</td>\n",
              "      <td>16</td>\n",
              "      <td>1</td>\n",
              "      <td>32</td>\n",
              "      <td>brick</td>\n",
              "    </tr>\n",
              "    <tr>\n",
              "      <th>5</th>\n",
              "      <td>50</td>\n",
              "      <td>0.958136</td>\n",
              "      <td>6.973538</td>\n",
              "      <td>500</td>\n",
              "      <td>0</td>\n",
              "      <td>50</td>\n",
              "      <td>32</td>\n",
              "      <td>3</td>\n",
              "      <td>32</td>\n",
              "      <td>triangle</td>\n",
              "    </tr>\n",
              "    <tr>\n",
              "      <th>38</th>\n",
              "      <td>100</td>\n",
              "      <td>0.653647</td>\n",
              "      <td>7.018631</td>\n",
              "      <td>1000</td>\n",
              "      <td>0</td>\n",
              "      <td>100</td>\n",
              "      <td>32</td>\n",
              "      <td>2</td>\n",
              "      <td>32</td>\n",
              "      <td>brick</td>\n",
              "    </tr>\n",
              "    <tr>\n",
              "      <th>22</th>\n",
              "      <td>100</td>\n",
              "      <td>0.614668</td>\n",
              "      <td>8.255225</td>\n",
              "      <td>500</td>\n",
              "      <td>0</td>\n",
              "      <td>100</td>\n",
              "      <td>16</td>\n",
              "      <td>3</td>\n",
              "      <td>32</td>\n",
              "      <td>brick</td>\n",
              "    </tr>\n",
              "    <tr>\n",
              "      <th>20</th>\n",
              "      <td>100</td>\n",
              "      <td>0.839762</td>\n",
              "      <td>8.846175</td>\n",
              "      <td>500</td>\n",
              "      <td>0</td>\n",
              "      <td>100</td>\n",
              "      <td>16</td>\n",
              "      <td>2</td>\n",
              "      <td>32</td>\n",
              "      <td>brick</td>\n",
              "    </tr>\n",
              "    <tr>\n",
              "      <th>13</th>\n",
              "      <td>100</td>\n",
              "      <td>0.763348</td>\n",
              "      <td>9.010206</td>\n",
              "      <td>500</td>\n",
              "      <td>0</td>\n",
              "      <td>100</td>\n",
              "      <td>32</td>\n",
              "      <td>1</td>\n",
              "      <td>32</td>\n",
              "      <td>triangle</td>\n",
              "    </tr>\n",
              "    <tr>\n",
              "      <th>9</th>\n",
              "      <td>50</td>\n",
              "      <td>0.974289</td>\n",
              "      <td>9.504042</td>\n",
              "      <td>500</td>\n",
              "      <td>0</td>\n",
              "      <td>50</td>\n",
              "      <td>16</td>\n",
              "      <td>2</td>\n",
              "      <td>32</td>\n",
              "      <td>triangle</td>\n",
              "    </tr>\n",
              "    <tr>\n",
              "      <th>28</th>\n",
              "      <td>50</td>\n",
              "      <td>1.095666</td>\n",
              "      <td>9.850958</td>\n",
              "      <td>1000</td>\n",
              "      <td>0</td>\n",
              "      <td>50</td>\n",
              "      <td>32</td>\n",
              "      <td>3</td>\n",
              "      <td>32</td>\n",
              "      <td>brick</td>\n",
              "    </tr>\n",
              "    <tr>\n",
              "      <th>30</th>\n",
              "      <td>50</td>\n",
              "      <td>1.610668</td>\n",
              "      <td>10.292627</td>\n",
              "      <td>1000</td>\n",
              "      <td>0</td>\n",
              "      <td>50</td>\n",
              "      <td>16</td>\n",
              "      <td>1</td>\n",
              "      <td>32</td>\n",
              "      <td>brick</td>\n",
              "    </tr>\n",
              "    <tr>\n",
              "      <th>15</th>\n",
              "      <td>100</td>\n",
              "      <td>0.832694</td>\n",
              "      <td>10.547174</td>\n",
              "      <td>500</td>\n",
              "      <td>0</td>\n",
              "      <td>100</td>\n",
              "      <td>32</td>\n",
              "      <td>2</td>\n",
              "      <td>32</td>\n",
              "      <td>triangle</td>\n",
              "    </tr>\n",
              "    <tr>\n",
              "      <th>26</th>\n",
              "      <td>50</td>\n",
              "      <td>1.047384</td>\n",
              "      <td>10.574422</td>\n",
              "      <td>1000</td>\n",
              "      <td>0</td>\n",
              "      <td>50</td>\n",
              "      <td>32</td>\n",
              "      <td>2</td>\n",
              "      <td>32</td>\n",
              "      <td>brick</td>\n",
              "    </tr>\n",
              "    <tr>\n",
              "      <th>21</th>\n",
              "      <td>100</td>\n",
              "      <td>0.721241</td>\n",
              "      <td>10.789901</td>\n",
              "      <td>500</td>\n",
              "      <td>0</td>\n",
              "      <td>100</td>\n",
              "      <td>16</td>\n",
              "      <td>2</td>\n",
              "      <td>32</td>\n",
              "      <td>triangle</td>\n",
              "    </tr>\n",
              "    <tr>\n",
              "      <th>36</th>\n",
              "      <td>100</td>\n",
              "      <td>1.098965</td>\n",
              "      <td>10.889702</td>\n",
              "      <td>1000</td>\n",
              "      <td>0</td>\n",
              "      <td>100</td>\n",
              "      <td>32</td>\n",
              "      <td>1</td>\n",
              "      <td>32</td>\n",
              "      <td>brick</td>\n",
              "    </tr>\n",
              "    <tr>\n",
              "      <th>39</th>\n",
              "      <td>100</td>\n",
              "      <td>1.286866</td>\n",
              "      <td>12.964140</td>\n",
              "      <td>1000</td>\n",
              "      <td>0</td>\n",
              "      <td>100</td>\n",
              "      <td>32</td>\n",
              "      <td>2</td>\n",
              "      <td>32</td>\n",
              "      <td>triangle</td>\n",
              "    </tr>\n",
              "    <tr>\n",
              "      <th>0</th>\n",
              "      <td>50</td>\n",
              "      <td>1.339016</td>\n",
              "      <td>13.336243</td>\n",
              "      <td>500</td>\n",
              "      <td>0</td>\n",
              "      <td>50</td>\n",
              "      <td>32</td>\n",
              "      <td>1</td>\n",
              "      <td>32</td>\n",
              "      <td>brick</td>\n",
              "    </tr>\n",
              "    <tr>\n",
              "      <th>35</th>\n",
              "      <td>50</td>\n",
              "      <td>1.542590</td>\n",
              "      <td>13.530056</td>\n",
              "      <td>1000</td>\n",
              "      <td>0</td>\n",
              "      <td>50</td>\n",
              "      <td>16</td>\n",
              "      <td>3</td>\n",
              "      <td>32</td>\n",
              "      <td>triangle</td>\n",
              "    </tr>\n",
              "    <tr>\n",
              "      <th>27</th>\n",
              "      <td>50</td>\n",
              "      <td>0.800261</td>\n",
              "      <td>14.141920</td>\n",
              "      <td>1000</td>\n",
              "      <td>0</td>\n",
              "      <td>50</td>\n",
              "      <td>32</td>\n",
              "      <td>2</td>\n",
              "      <td>32</td>\n",
              "      <td>triangle</td>\n",
              "    </tr>\n",
              "    <tr>\n",
              "      <th>10</th>\n",
              "      <td>50</td>\n",
              "      <td>1.032312</td>\n",
              "      <td>15.477870</td>\n",
              "      <td>500</td>\n",
              "      <td>0</td>\n",
              "      <td>50</td>\n",
              "      <td>16</td>\n",
              "      <td>3</td>\n",
              "      <td>32</td>\n",
              "      <td>brick</td>\n",
              "    </tr>\n",
              "    <tr>\n",
              "      <th>42</th>\n",
              "      <td>100</td>\n",
              "      <td>1.313592</td>\n",
              "      <td>16.697899</td>\n",
              "      <td>1000</td>\n",
              "      <td>0</td>\n",
              "      <td>100</td>\n",
              "      <td>16</td>\n",
              "      <td>1</td>\n",
              "      <td>32</td>\n",
              "      <td>brick</td>\n",
              "    </tr>\n",
              "    <tr>\n",
              "      <th>29</th>\n",
              "      <td>50</td>\n",
              "      <td>1.354994</td>\n",
              "      <td>17.575489</td>\n",
              "      <td>1000</td>\n",
              "      <td>0</td>\n",
              "      <td>50</td>\n",
              "      <td>32</td>\n",
              "      <td>3</td>\n",
              "      <td>32</td>\n",
              "      <td>triangle</td>\n",
              "    </tr>\n",
              "    <tr>\n",
              "      <th>6</th>\n",
              "      <td>50</td>\n",
              "      <td>1.543957</td>\n",
              "      <td>19.164146</td>\n",
              "      <td>500</td>\n",
              "      <td>0</td>\n",
              "      <td>50</td>\n",
              "      <td>16</td>\n",
              "      <td>1</td>\n",
              "      <td>32</td>\n",
              "      <td>brick</td>\n",
              "    </tr>\n",
              "    <tr>\n",
              "      <th>37</th>\n",
              "      <td>100</td>\n",
              "      <td>1.029055</td>\n",
              "      <td>19.771877</td>\n",
              "      <td>1000</td>\n",
              "      <td>0</td>\n",
              "      <td>100</td>\n",
              "      <td>32</td>\n",
              "      <td>1</td>\n",
              "      <td>32</td>\n",
              "      <td>triangle</td>\n",
              "    </tr>\n",
              "    <tr>\n",
              "      <th>24</th>\n",
              "      <td>50</td>\n",
              "      <td>1.344860</td>\n",
              "      <td>20.306087</td>\n",
              "      <td>1000</td>\n",
              "      <td>0</td>\n",
              "      <td>50</td>\n",
              "      <td>32</td>\n",
              "      <td>1</td>\n",
              "      <td>32</td>\n",
              "      <td>brick</td>\n",
              "    </tr>\n",
              "    <tr>\n",
              "      <th>47</th>\n",
              "      <td>100</td>\n",
              "      <td>1.239287</td>\n",
              "      <td>20.948277</td>\n",
              "      <td>1000</td>\n",
              "      <td>0</td>\n",
              "      <td>100</td>\n",
              "      <td>16</td>\n",
              "      <td>3</td>\n",
              "      <td>32</td>\n",
              "      <td>triangle</td>\n",
              "    </tr>\n",
              "    <tr>\n",
              "      <th>1</th>\n",
              "      <td>50</td>\n",
              "      <td>1.475099</td>\n",
              "      <td>21.506796</td>\n",
              "      <td>500</td>\n",
              "      <td>0</td>\n",
              "      <td>50</td>\n",
              "      <td>32</td>\n",
              "      <td>1</td>\n",
              "      <td>32</td>\n",
              "      <td>triangle</td>\n",
              "    </tr>\n",
              "    <tr>\n",
              "      <th>11</th>\n",
              "      <td>50</td>\n",
              "      <td>1.886148</td>\n",
              "      <td>22.401085</td>\n",
              "      <td>500</td>\n",
              "      <td>0</td>\n",
              "      <td>50</td>\n",
              "      <td>16</td>\n",
              "      <td>3</td>\n",
              "      <td>32</td>\n",
              "      <td>triangle</td>\n",
              "    </tr>\n",
              "    <tr>\n",
              "      <th>12</th>\n",
              "      <td>100</td>\n",
              "      <td>1.158491</td>\n",
              "      <td>22.949926</td>\n",
              "      <td>500</td>\n",
              "      <td>0</td>\n",
              "      <td>100</td>\n",
              "      <td>32</td>\n",
              "      <td>1</td>\n",
              "      <td>32</td>\n",
              "      <td>brick</td>\n",
              "    </tr>\n",
              "    <tr>\n",
              "      <th>33</th>\n",
              "      <td>50</td>\n",
              "      <td>0.952801</td>\n",
              "      <td>24.955248</td>\n",
              "      <td>1000</td>\n",
              "      <td>0</td>\n",
              "      <td>50</td>\n",
              "      <td>16</td>\n",
              "      <td>2</td>\n",
              "      <td>32</td>\n",
              "      <td>triangle</td>\n",
              "    </tr>\n",
              "    <tr>\n",
              "      <th>7</th>\n",
              "      <td>50</td>\n",
              "      <td>1.322223</td>\n",
              "      <td>27.469774</td>\n",
              "      <td>500</td>\n",
              "      <td>0</td>\n",
              "      <td>50</td>\n",
              "      <td>16</td>\n",
              "      <td>1</td>\n",
              "      <td>32</td>\n",
              "      <td>triangle</td>\n",
              "    </tr>\n",
              "    <tr>\n",
              "      <th>23</th>\n",
              "      <td>100</td>\n",
              "      <td>1.316907</td>\n",
              "      <td>28.609333</td>\n",
              "      <td>500</td>\n",
              "      <td>0</td>\n",
              "      <td>100</td>\n",
              "      <td>16</td>\n",
              "      <td>3</td>\n",
              "      <td>32</td>\n",
              "      <td>triangle</td>\n",
              "    </tr>\n",
              "    <tr>\n",
              "      <th>43</th>\n",
              "      <td>100</td>\n",
              "      <td>0.857857</td>\n",
              "      <td>30.934624</td>\n",
              "      <td>1000</td>\n",
              "      <td>0</td>\n",
              "      <td>100</td>\n",
              "      <td>16</td>\n",
              "      <td>1</td>\n",
              "      <td>32</td>\n",
              "      <td>triangle</td>\n",
              "    </tr>\n",
              "    <tr>\n",
              "      <th>44</th>\n",
              "      <td>100</td>\n",
              "      <td>1.267205</td>\n",
              "      <td>34.656612</td>\n",
              "      <td>1000</td>\n",
              "      <td>0</td>\n",
              "      <td>100</td>\n",
              "      <td>16</td>\n",
              "      <td>2</td>\n",
              "      <td>32</td>\n",
              "      <td>brick</td>\n",
              "    </tr>\n",
              "    <tr>\n",
              "      <th>8</th>\n",
              "      <td>50</td>\n",
              "      <td>1.160478</td>\n",
              "      <td>36.280426</td>\n",
              "      <td>500</td>\n",
              "      <td>0</td>\n",
              "      <td>50</td>\n",
              "      <td>16</td>\n",
              "      <td>2</td>\n",
              "      <td>32</td>\n",
              "      <td>brick</td>\n",
              "    </tr>\n",
              "    <tr>\n",
              "      <th>45</th>\n",
              "      <td>100</td>\n",
              "      <td>1.442780</td>\n",
              "      <td>53.563580</td>\n",
              "      <td>1000</td>\n",
              "      <td>0</td>\n",
              "      <td>100</td>\n",
              "      <td>16</td>\n",
              "      <td>2</td>\n",
              "      <td>32</td>\n",
              "      <td>triangle</td>\n",
              "    </tr>\n",
              "    <tr>\n",
              "      <th>31</th>\n",
              "      <td>50</td>\n",
              "      <td>3.200531</td>\n",
              "      <td>70.394051</td>\n",
              "      <td>1000</td>\n",
              "      <td>0</td>\n",
              "      <td>50</td>\n",
              "      <td>16</td>\n",
              "      <td>1</td>\n",
              "      <td>32</td>\n",
              "      <td>triangle</td>\n",
              "    </tr>\n",
              "    <tr>\n",
              "      <th>32</th>\n",
              "      <td>50</td>\n",
              "      <td>2.248468</td>\n",
              "      <td>132.381058</td>\n",
              "      <td>1000</td>\n",
              "      <td>0</td>\n",
              "      <td>50</td>\n",
              "      <td>16</td>\n",
              "      <td>2</td>\n",
              "      <td>32</td>\n",
              "      <td>brick</td>\n",
              "    </tr>\n",
              "    <tr>\n",
              "      <th>19</th>\n",
              "      <td>100</td>\n",
              "      <td>906.797729</td>\n",
              "      <td>5712.597168</td>\n",
              "      <td>500</td>\n",
              "      <td>0</td>\n",
              "      <td>100</td>\n",
              "      <td>16</td>\n",
              "      <td>1</td>\n",
              "      <td>32</td>\n",
              "      <td>triangle</td>\n",
              "    </tr>\n",
              "  </tbody>\n",
              "</table>\n",
              "</div>\n",
              "      <button class=\"colab-df-convert\" onclick=\"convertToInteractive('df-de5f5b16-9ad7-4dfb-adb9-800908b49908')\"\n",
              "              title=\"Convert this dataframe to an interactive table.\"\n",
              "              style=\"display:none;\">\n",
              "        \n",
              "  <svg xmlns=\"http://www.w3.org/2000/svg\" height=\"24px\"viewBox=\"0 0 24 24\"\n",
              "       width=\"24px\">\n",
              "    <path d=\"M0 0h24v24H0V0z\" fill=\"none\"/>\n",
              "    <path d=\"M18.56 5.44l.94 2.06.94-2.06 2.06-.94-2.06-.94-.94-2.06-.94 2.06-2.06.94zm-11 1L8.5 8.5l.94-2.06 2.06-.94-2.06-.94L8.5 2.5l-.94 2.06-2.06.94zm10 10l.94 2.06.94-2.06 2.06-.94-2.06-.94-.94-2.06-.94 2.06-2.06.94z\"/><path d=\"M17.41 7.96l-1.37-1.37c-.4-.4-.92-.59-1.43-.59-.52 0-1.04.2-1.43.59L10.3 9.45l-7.72 7.72c-.78.78-.78 2.05 0 2.83L4 21.41c.39.39.9.59 1.41.59.51 0 1.02-.2 1.41-.59l7.78-7.78 2.81-2.81c.8-.78.8-2.07 0-2.86zM5.41 20L4 18.59l7.72-7.72 1.47 1.35L5.41 20z\"/>\n",
              "  </svg>\n",
              "      </button>\n",
              "      \n",
              "  <style>\n",
              "    .colab-df-container {\n",
              "      display:flex;\n",
              "      flex-wrap:wrap;\n",
              "      gap: 12px;\n",
              "    }\n",
              "\n",
              "    .colab-df-convert {\n",
              "      background-color: #E8F0FE;\n",
              "      border: none;\n",
              "      border-radius: 50%;\n",
              "      cursor: pointer;\n",
              "      display: none;\n",
              "      fill: #1967D2;\n",
              "      height: 32px;\n",
              "      padding: 0 0 0 0;\n",
              "      width: 32px;\n",
              "    }\n",
              "\n",
              "    .colab-df-convert:hover {\n",
              "      background-color: #E2EBFA;\n",
              "      box-shadow: 0px 1px 2px rgba(60, 64, 67, 0.3), 0px 1px 3px 1px rgba(60, 64, 67, 0.15);\n",
              "      fill: #174EA6;\n",
              "    }\n",
              "\n",
              "    [theme=dark] .colab-df-convert {\n",
              "      background-color: #3B4455;\n",
              "      fill: #D2E3FC;\n",
              "    }\n",
              "\n",
              "    [theme=dark] .colab-df-convert:hover {\n",
              "      background-color: #434B5C;\n",
              "      box-shadow: 0px 1px 3px 1px rgba(0, 0, 0, 0.15);\n",
              "      filter: drop-shadow(0px 1px 2px rgba(0, 0, 0, 0.3));\n",
              "      fill: #FFFFFF;\n",
              "    }\n",
              "  </style>\n",
              "\n",
              "      <script>\n",
              "        const buttonEl =\n",
              "          document.querySelector('#df-de5f5b16-9ad7-4dfb-adb9-800908b49908 button.colab-df-convert');\n",
              "        buttonEl.style.display =\n",
              "          google.colab.kernel.accessAllowed ? 'block' : 'none';\n",
              "\n",
              "        async function convertToInteractive(key) {\n",
              "          const element = document.querySelector('#df-de5f5b16-9ad7-4dfb-adb9-800908b49908');\n",
              "          const dataTable =\n",
              "            await google.colab.kernel.invokeFunction('convertToInteractive',\n",
              "                                                     [key], {});\n",
              "          if (!dataTable) return;\n",
              "\n",
              "          const docLinkHtml = 'Like what you see? Visit the ' +\n",
              "            '<a target=\"_blank\" href=https://colab.research.google.com/notebooks/data_table.ipynb>data table notebook</a>'\n",
              "            + ' to learn more about interactive tables.';\n",
              "          element.innerHTML = '';\n",
              "          dataTable['output_type'] = 'display_data';\n",
              "          await google.colab.output.renderOutput(dataTable, element);\n",
              "          const docLink = document.createElement('div');\n",
              "          docLink.innerHTML = docLinkHtml;\n",
              "          element.appendChild(docLink);\n",
              "        }\n",
              "      </script>\n",
              "    </div>\n",
              "  </div>\n",
              "  "
            ],
            "text/plain": [
              "    round_epochs        loss     val_loss  ...  hidden_layers  rnn_units    shapes\n",
              "14           100    0.715864     3.294139  ...              2         32     brick\n",
              "16           100    0.626692     3.422476  ...              3         32     brick\n",
              "4             50    1.011558     3.423933  ...              3         32     brick\n",
              "46           100    0.994206     4.499556  ...              3         32     brick\n",
              "17           100    0.580738     4.723511  ...              3         32  triangle\n",
              "2             50    1.035043     4.827545  ...              2         32     brick\n",
              "41           100    1.061557     4.910003  ...              3         32  triangle\n",
              "40           100    0.834472     5.276843  ...              3         32     brick\n",
              "25            50    1.193300     5.752493  ...              1         32  triangle\n",
              "34            50    1.306501     5.809906  ...              3         32     brick\n",
              "3             50    0.839615     6.658078  ...              2         32  triangle\n",
              "18           100    0.572762     6.749706  ...              1         32     brick\n",
              "5             50    0.958136     6.973538  ...              3         32  triangle\n",
              "38           100    0.653647     7.018631  ...              2         32     brick\n",
              "22           100    0.614668     8.255225  ...              3         32     brick\n",
              "20           100    0.839762     8.846175  ...              2         32     brick\n",
              "13           100    0.763348     9.010206  ...              1         32  triangle\n",
              "9             50    0.974289     9.504042  ...              2         32  triangle\n",
              "28            50    1.095666     9.850958  ...              3         32     brick\n",
              "30            50    1.610668    10.292627  ...              1         32     brick\n",
              "15           100    0.832694    10.547174  ...              2         32  triangle\n",
              "26            50    1.047384    10.574422  ...              2         32     brick\n",
              "21           100    0.721241    10.789901  ...              2         32  triangle\n",
              "36           100    1.098965    10.889702  ...              1         32     brick\n",
              "39           100    1.286866    12.964140  ...              2         32  triangle\n",
              "0             50    1.339016    13.336243  ...              1         32     brick\n",
              "35            50    1.542590    13.530056  ...              3         32  triangle\n",
              "27            50    0.800261    14.141920  ...              2         32  triangle\n",
              "10            50    1.032312    15.477870  ...              3         32     brick\n",
              "42           100    1.313592    16.697899  ...              1         32     brick\n",
              "29            50    1.354994    17.575489  ...              3         32  triangle\n",
              "6             50    1.543957    19.164146  ...              1         32     brick\n",
              "37           100    1.029055    19.771877  ...              1         32  triangle\n",
              "24            50    1.344860    20.306087  ...              1         32     brick\n",
              "47           100    1.239287    20.948277  ...              3         32  triangle\n",
              "1             50    1.475099    21.506796  ...              1         32  triangle\n",
              "11            50    1.886148    22.401085  ...              3         32  triangle\n",
              "12           100    1.158491    22.949926  ...              1         32     brick\n",
              "33            50    0.952801    24.955248  ...              2         32  triangle\n",
              "7             50    1.322223    27.469774  ...              1         32  triangle\n",
              "23           100    1.316907    28.609333  ...              3         32  triangle\n",
              "43           100    0.857857    30.934624  ...              1         32  triangle\n",
              "44           100    1.267205    34.656612  ...              2         32     brick\n",
              "8             50    1.160478    36.280426  ...              2         32     brick\n",
              "45           100    1.442780    53.563580  ...              2         32  triangle\n",
              "31            50    3.200531    70.394051  ...              1         32  triangle\n",
              "32            50    2.248468   132.381058  ...              2         32     brick\n",
              "19           100  906.797729  5712.597168  ...              1         32  triangle\n",
              "\n",
              "[48 rows x 10 columns]"
            ]
          },
          "metadata": {},
          "execution_count": 10
        }
      ],
      "source": [
        "r = ta.Reporting('/content/HyperparameterTuning_simpleRNN/021822080316.csv')\n",
        "\n",
        "# returns the results dataframe\n",
        "r.data.sort_values(by=['val_loss'], ascending=True).iloc[:10, :]"
      ]
    },
    {
      "cell_type": "code",
      "execution_count": null,
      "metadata": {
        "colab": {
          "base_uri": "https://localhost:8080/"
        },
        "id": "up2TmQknXtyj",
        "outputId": "eb8bd988-a015-4858-c098-b217bb38abf2"
      },
      "outputs": [
        {
          "output_type": "execute_result",
          "data": {
            "text/plain": [
              "batch_size      -0.139795\n",
              "epochs           0.141593\n",
              "first_neuron    -0.155569\n",
              "hidden_layers   -0.183225\n",
              "Name: val_loss, dtype: float64"
            ]
          },
          "metadata": {},
          "execution_count": 18
        }
      ],
      "source": [
        "# get correlation for hyperparameters against a metric\n",
        "r.correlate('val_loss', ['loss', 'val_loss', 'round_epochs'])"
      ]
    },
    {
      "cell_type": "code",
      "execution_count": null,
      "metadata": {
        "colab": {
          "base_uri": "https://localhost:8080/",
          "height": 535
        },
        "id": "CDNJLD9aZY5K",
        "outputId": "36e81429-102b-453d-a25d-6b44a2acb40d"
      },
      "outputs": [
        {
          "output_type": "display_data",
          "data": {
            "image/png": "[encoded data removed]",
            "text/plain": [
              "<Figure size 540x540 with 2 Axes>"
            ]
          },
          "metadata": {}
        }
      ],
      "source": [
        "# get a correlation plot for hyperparameters against a metric \n",
        "r.plot_corr('val_loss', ['loss', 'val_loss', 'round_epochs'])\n",
        "# plt.savefig('curve.png', dpi=1000)"
      ]
    },
    {
      "cell_type": "code",
      "execution_count": null,
      "metadata": {
        "id": "yA_uVZm1OWsw"
      },
      "outputs": [],
      "source": [
        "# Get the best model index with highest 'val_categorical_accuracy' \n",
        "model_id = scan_results_SimpleRNN.data['val_loss'].astype('float').argmin() - 0"
      ]
    },
    {
      "cell_type": "markdown",
      "metadata": {
        "id": "negYo6SL6Kxo"
      },
      "source": [
        "* It is possible to retrieve the loss curve of the best model\n"
      ]
    },
    {
      "cell_type": "code",
      "execution_count": null,
      "metadata": {
        "colab": {
          "base_uri": "https://localhost:8080/",
          "height": 406
        },
        "id": "RnQqQcHtU5hR",
        "outputId": "70be6d6d-417c-4132-cd76-08cef8c81f73"
      },
      "outputs": [
        {
          "output_type": "display_data",
          "data": {
            "image/png": "[encoded data removed]",
            "text/plain": [
              "<Figure size 720x432 with 1 Axes>"
            ]
          },
          "metadata": {}
        }
      ],
      "source": [
        "model_history = scan_results_SimpleRNN.round_history[model_id]\n",
        "\n",
        "# LOSS CURVE\n",
        "# Plot train loss and validation loss\n",
        "def plot_loss(history):\n",
        "    plt.figure(figsize=(10, 6))\n",
        "    plt.plot(history['loss'])\n",
        "    plt.plot(history['val_loss'])\n",
        "    plt.ylabel('Loss')\n",
        "    plt.xlabel('epoch')\n",
        "    plt.legend(['Train loss', 'Validation loss'], loc='upper right')\n",
        "    # plt.show()\n",
        "\n",
        "\n",
        "plot_loss(model_history)"
      ]
    },
    {
      "cell_type": "code",
      "execution_count": null,
      "metadata": {
        "colab": {
          "base_uri": "https://localhost:8080/"
        },
        "id": "8tm5QhzROrMs",
        "outputId": "e5093ffd-8f59-439d-c5d5-b60e55194611"
      },
      "outputs": [
        {
          "output_type": "stream",
          "name": "stdout",
          "text": [
            "Model: \"sequential\"\n",
            "_________________________________________________________________\n",
            " Layer (type)                Output Shape              Param #   \n",
            "=================================================================\n",
            " simple_rnn (SimpleRNN)      (None, 20, 32)            1248      \n",
            "                                                                 \n",
            " simple_rnn_1 (SimpleRNN)    (None, 20, 32)            2080      \n",
            "                                                                 \n",
            " simple_rnn_2 (SimpleRNN)    (None, 32)                2080      \n",
            "                                                                 \n",
            " dropout (Dropout)           (None, 32)                0         \n",
            "                                                                 \n",
            " dense (Dense)               (None, 1)                 33        \n",
            "                                                                 \n",
            "=================================================================\n",
            "Total params: 5,441\n",
            "Trainable params: 5,441\n",
            "Non-trainable params: 0\n",
            "_________________________________________________________________\n"
          ]
        }
      ],
      "source": [
        "# Clear any previous TensorFlow session.\n",
        "tf.keras.backend.clear_session()\n",
        "\n",
        "# Load the model parameters from the scanner.\n",
        "model = model_from_json(scan_results_SimpleRNN.saved_models[model_id])\n",
        "model.set_weights(scan_results_SimpleRNN.saved_weights[model_id])\n",
        "model.summary()\n",
        "model.save('./best_model_GRU_single_Step')\n",
        "\n",
        "# Load that model\n",
        "# my_tf_saved_model = tf.keras.models.load_model('./saved_models/my_tf_model')\n",
        "# my_tf_saved_model.summary()"
      ]
    },
    {
      "cell_type": "code",
      "execution_count": null,
      "metadata": {
        "colab": {
          "base_uri": "https://localhost:8080/",
          "height": 644
        },
        "id": "gdoZ_A18HjEH",
        "outputId": "a7b96414-bb3b-417e-e55d-cefd96d4fd01"
      },
      "outputs": [
        {
          "output_type": "execute_result",
          "data": {
            "image/png": "[encoded data removed]",
            "text/plain": [
              "<IPython.core.display.Image object>"
            ]
          },
          "metadata": {},
          "execution_count": 16
        }
      ],
      "source": [
        "plot_model(model, to_file='model.png', show_shapes=True)"
      ]
    },
    {
      "cell_type": "code",
      "source": [
        "# Make prediction\n",
        "def prediction(model):\n",
        "    prediction = model.predict(X_test)\n",
        "    return prediction\n",
        "\n",
        "\n",
        "prediction_simpleRNN = prediction(model)\n",
        "# prediction_gru = prediction(model_gru)\n",
        "# prediction_lstm = prediction(model_lstm)\n",
        "# prediction_cnn_1d = prediction(model_cnn_1d)\n"
      ],
      "metadata": {
        "id": "a8MEbPr1ZuNe"
      },
      "execution_count": null,
      "outputs": []
    },
    {
      "cell_type": "code",
      "source": [
        "def plot_future(prediction, model_name, y_test):\n",
        "    plt.figure(figsize=(10, 6))\n",
        "    range_future = len(prediction)\n",
        "    plt.plot(np.arange(range_future), np.array(y_test), label='True Future')\n",
        "    plt.plot(np.arange(range_future), np.array(prediction), label='Prediction')\n",
        "    plt.title('True future vs prediction for ' + model_name)\n",
        "    plt.legend(loc='upper left')\n",
        "    plt.xlabel('Time (day)')\n",
        "    plt.ylabel('Stock Price (€)')\n",
        "    plt.savefig('Prediction_Evaluation_plot.png', dpi=1200)\n",
        "    plt.show()\n",
        "\n",
        "\n",
        "plot_future(prediction_simpleRNN, 'SimpleRNN', y_test)\n",
        "# plot_future(prediction_gru, 'GRU', y_test)\n",
        "# plot_future(prediction_lstm, 'LSTM', y_test)\n",
        "# plot_future(prediction_cnn_1d, 'CNN_1D', y_test)"
      ],
      "metadata": {
        "id": "YzHxl33BaBQF"
      },
      "execution_count": null,
      "outputs": []
    },
    {
      "cell_type": "code",
      "source": [
        "# Define a function to calculate MAE and RSME\n",
        "step_ahead=1\n",
        "def evaluate_prediction(predicted, actual, model_name):\n",
        "    if step_ahead == 1:\n",
        "        rsme = np.sqrt((mean_squared_error(predicted, actual)))\n",
        "        mae = mean_absolute_error(actual, predicted)\n",
        "        r2 = r2_score(actual, predicted)\n",
        "        max_err = max_error(actual, predicted)\n",
        "        print(model_name + ' performance:')\n",
        "        print('R^2: {:.4f} %'.format(r2 * 100))\n",
        "        print('Mean Absolute Error: {:.4f}'.format(mae))\n",
        "        print('Root Mean Square Error: {:.4f}'.format(rsme))\n",
        "        print('Max_error: {:.4f}'.format(max_err))\n",
        "        print('')\n",
        "        return\n",
        "    else:\n",
        "        titles = [\"RMSE\", \"MAE\", \"R^2\"]\n",
        "        # calculate an RMSE score for each day\n",
        "        # calculate mse\n",
        "        rmse = np.sqrt(mean_squared_error(predicted, actual, multioutput='raw_values'))\n",
        "        mae = mean_absolute_error(predicted, actual, multioutput='raw_values')\n",
        "        r2 = r2_score(predicted, actual, multioutput='raw_values')\n",
        "        df_scores = pd.DataFrame(list(zip(rmse, mae, r2)), columns=[f'{x}' for x in titles])\n",
        "        df_scores.index += 1\n",
        "\n",
        "        colors = plt.rcParams[\"axes.prop_cycle\"]()\n",
        "        a = 1  # number of rows\n",
        "        b = 3  # number of columns\n",
        "        c = 1  # initialize plot counter\n",
        "        fig = plt.figure(figsize=(15, 6))\n",
        "        for i in titles:\n",
        "            plt.subplot(a, b, c)\n",
        "            plt.title(f'{i}')\n",
        "            next_colour = next(colors)[\"color\"]\n",
        "            df_scores[f'{i}'].plot(marker='o', color=next_colour)\n",
        "            plt.xticks((range(0, df_scores.shape[0] + 1)))\n",
        "            plt.legend(loc='upper left')\n",
        "            plt.xlabel('Forecast Range (Day)')\n",
        "            plt.ylabel(f'{i}')\n",
        "            c = c + 1\n",
        "\n",
        "        plt.subplots_adjust(.5)\n",
        "        fig.suptitle(\"Evaluation of performances' trend in the multi step forecasted range\", fontsize=16, y=1)\n",
        "        plt.tight_layout()\n",
        "        # plt.savefig('EvaluationMultiplePrediction_PG.png', dpi=1200)\n",
        "        plt.show()\n",
        "\n",
        "        # calculate overall RMSE\n",
        "        overall_rmse = np.sqrt(mean_squared_error(predicted, actual, multioutput='uniform_average'))\n",
        "        overall_mae = mean_absolute_error(predicted, actual, multioutput='uniform_average')\n",
        "        overall_r2 = r2_score(predicted, actual, multioutput='uniform_average')\n",
        "        print(model_name + ' performance:')\n",
        "        print('R^2: {:.4f} %'.format(overall_r2 * 100))\n",
        "        print('Mean Absolute Error: {:.4f}'.format(overall_mae))\n",
        "        print('Root Mean Square Error: {:.4f}'.format(overall_rmse))\n",
        "        print('')\n",
        "        return\n",
        "\n",
        "\n",
        "evaluate_prediction(prediction_simpleRNN, y_test, 'SimpleRNN')\n",
        "# evaluate_prediction(prediction_gru, y_test, 'GRU')\n",
        "# evaluate_prediction(prediction_lstm, y_test, 'LSTM')\n",
        "# evaluate_prediction(prediction_cnn_1d, y_test, 'CNN_1D')"
      ],
      "metadata": {
        "id": "dYY0YItYaHjm"
      },
      "execution_count": null,
      "outputs": []
    }
  ],
  "metadata": {
    "accelerator": "TPU",
    "colab": {
      "collapsed_sections": [],
      "name": "Hyperparameter_Tuning_Talos.ipynb",
      "provenance": [],
      "authorship_tag": "ABX9TyO7jcidaT0me+LnR2O/9NvL",
      "include_colab_link": true
    },
    "kernelspec": {
      "display_name": "Python 3",
      "name": "python3"
    },
    "language_info": {
      "name": "python"
    }
  },
  "nbformat": 4,
  "nbformat_minor": 0
}