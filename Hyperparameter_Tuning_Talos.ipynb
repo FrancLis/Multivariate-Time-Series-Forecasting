{
  "cells": [
    {
      "cell_type": "markdown",
      "metadata": {
        "id": "view-in-github",
        "colab_type": "text"
      },
      "source": [
        "<a href=\"https://colab.research.google.com/github/FrancLis/Multivariate-Time-Series-Forecasting/blob/main/Hyperparameter_Tuning_Talos.ipynb\" target=\"_parent\"><img src=\"https://colab.research.google.com/assets/colab-badge.svg\" alt=\"Open In Colab\"/></a>"
      ]
    },
    {
      "cell_type": "markdown",
      "metadata": {
        "id": "1C5D4-G1XC32"
      },
      "source": [
        "## Hyperparameter Tuning"
      ]
    },
    {
      "cell_type": "markdown",
      "metadata": {
        "id": "wzeMYy1p4Lp9"
      },
      "source": [
        "In this notebook is shown the code used for some experiments of Hyperparameter tuning made using the library Talos."
      ]
    },
    {
      "cell_type": "code",
      "execution_count": null,
      "metadata": {
        "id": "j3_7phLIJtws",
        "outputId": "dd680558-8536-4099-83d7-88f735c11b7c",
        "colab": {
          "base_uri": "https://localhost:8080/"
        }
      },
      "outputs": [
        {
          "output_type": "stream",
          "name": "stdout",
          "text": [
            "Collecting talos\n",
            "  Downloading talos-1.0.2-py3-none-any.whl (53 kB)\n",
            "\u001b[K     |████████████████████████████████| 53 kB 1.3 MB/s \n",
            "\u001b[?25hRequirement already satisfied: requests in /usr/local/lib/python3.7/dist-packages (from talos) (2.23.0)\n",
            "Requirement already satisfied: pandas in /usr/local/lib/python3.7/dist-packages (from talos) (1.3.5)\n",
            "Requirement already satisfied: numpy in /usr/local/lib/python3.7/dist-packages (from talos) (1.21.5)\n",
            "Collecting kerasplotlib\n",
            "  Downloading kerasplotlib-0.2.1-py3-none-any.whl (4.5 kB)\n",
            "Requirement already satisfied: tensorflow>=2.0.0 in /usr/local/lib/python3.7/dist-packages (from talos) (2.8.0)\n",
            "Collecting astetik\n",
            "  Downloading astetik-1.11.1-py3-none-any.whl (5.4 MB)\n",
            "\u001b[K     |████████████████████████████████| 5.4 MB 9.5 MB/s \n",
            "\u001b[?25hRequirement already satisfied: sklearn in /usr/local/lib/python3.7/dist-packages (from talos) (0.0)\n",
            "Collecting statsmodels>=0.11.0\n",
            "  Downloading statsmodels-0.13.2-cp37-cp37m-manylinux_2_17_x86_64.manylinux2014_x86_64.whl (9.8 MB)\n",
            "\u001b[K     |████████████████████████████████| 9.8 MB 38.1 MB/s \n",
            "\u001b[?25hCollecting chances\n",
            "  Downloading chances-0.1.9.tar.gz (35 kB)\n",
            "Collecting wrangle\n",
            "  Downloading wrangle-0.6.11-py3-none-any.whl (52 kB)\n",
            "\u001b[K     |████████████████████████████████| 52 kB 334 kB/s \n",
            "\u001b[?25hRequirement already satisfied: tqdm in /usr/local/lib/python3.7/dist-packages (from talos) (4.62.3)\n",
            "Requirement already satisfied: patsy>=0.5.2 in /usr/local/lib/python3.7/dist-packages (from statsmodels>=0.11.0->talos) (0.5.2)\n",
            "Requirement already satisfied: packaging>=21.3 in /usr/local/lib/python3.7/dist-packages (from statsmodels>=0.11.0->talos) (21.3)\n",
            "Requirement already satisfied: scipy>=1.3 in /usr/local/lib/python3.7/dist-packages (from statsmodels>=0.11.0->talos) (1.4.1)\n",
            "Requirement already satisfied: pyparsing!=3.0.5,>=2.0.2 in /usr/local/lib/python3.7/dist-packages (from packaging>=21.3->statsmodels>=0.11.0->talos) (3.0.7)\n",
            "Requirement already satisfied: pytz>=2017.3 in /usr/local/lib/python3.7/dist-packages (from pandas->talos) (2018.9)\n",
            "Requirement already satisfied: python-dateutil>=2.7.3 in /usr/local/lib/python3.7/dist-packages (from pandas->talos) (2.8.2)\n",
            "Requirement already satisfied: six in /usr/local/lib/python3.7/dist-packages (from patsy>=0.5.2->statsmodels>=0.11.0->talos) (1.15.0)\n",
            "Requirement already satisfied: gast>=0.2.1 in /usr/local/lib/python3.7/dist-packages (from tensorflow>=2.0.0->talos) (0.5.3)\n",
            "Requirement already satisfied: astunparse>=1.6.0 in /usr/local/lib/python3.7/dist-packages (from tensorflow>=2.0.0->talos) (1.6.3)\n",
            "Requirement already satisfied: opt-einsum>=2.3.2 in /usr/local/lib/python3.7/dist-packages (from tensorflow>=2.0.0->talos) (3.3.0)\n",
            "Requirement already satisfied: setuptools in /usr/local/lib/python3.7/dist-packages (from tensorflow>=2.0.0->talos) (57.4.0)\n",
            "Requirement already satisfied: keras-preprocessing>=1.1.1 in /usr/local/lib/python3.7/dist-packages (from tensorflow>=2.0.0->talos) (1.1.2)\n",
            "Requirement already satisfied: absl-py>=0.4.0 in /usr/local/lib/python3.7/dist-packages (from tensorflow>=2.0.0->talos) (1.0.0)\n",
            "Requirement already satisfied: wrapt>=1.11.0 in /usr/local/lib/python3.7/dist-packages (from tensorflow>=2.0.0->talos) (1.13.3)\n",
            "Requirement already satisfied: keras<2.9,>=2.8.0rc0 in /usr/local/lib/python3.7/dist-packages (from tensorflow>=2.0.0->talos) (2.8.0)\n",
            "Requirement already satisfied: protobuf>=3.9.2 in /usr/local/lib/python3.7/dist-packages (from tensorflow>=2.0.0->talos) (3.17.3)\n",
            "Requirement already satisfied: grpcio<2.0,>=1.24.3 in /usr/local/lib/python3.7/dist-packages (from tensorflow>=2.0.0->talos) (1.43.0)\n",
            "Requirement already satisfied: google-pasta>=0.1.1 in /usr/local/lib/python3.7/dist-packages (from tensorflow>=2.0.0->talos) (0.2.0)\n",
            "Requirement already satisfied: h5py>=2.9.0 in /usr/local/lib/python3.7/dist-packages (from tensorflow>=2.0.0->talos) (3.1.0)\n",
            "Requirement already satisfied: typing-extensions>=3.6.6 in /usr/local/lib/python3.7/dist-packages (from tensorflow>=2.0.0->talos) (3.10.0.2)\n",
            "Collecting tf-estimator-nightly==2.8.0.dev2021122109\n",
            "  Downloading tf_estimator_nightly-2.8.0.dev2021122109-py2.py3-none-any.whl (462 kB)\n",
            "\u001b[K     |████████████████████████████████| 462 kB 52.0 MB/s \n",
            "\u001b[?25hRequirement already satisfied: libclang>=9.0.1 in /usr/local/lib/python3.7/dist-packages (from tensorflow>=2.0.0->talos) (13.0.0)\n",
            "Requirement already satisfied: termcolor>=1.1.0 in /usr/local/lib/python3.7/dist-packages (from tensorflow>=2.0.0->talos) (1.1.0)\n",
            "Requirement already satisfied: tensorboard<2.9,>=2.8 in /usr/local/lib/python3.7/dist-packages (from tensorflow>=2.0.0->talos) (2.8.0)\n",
            "Requirement already satisfied: flatbuffers>=1.12 in /usr/local/lib/python3.7/dist-packages (from tensorflow>=2.0.0->talos) (2.0)\n",
            "Requirement already satisfied: tensorflow-io-gcs-filesystem>=0.23.1 in /usr/local/lib/python3.7/dist-packages (from tensorflow>=2.0.0->talos) (0.24.0)\n",
            "Requirement already satisfied: wheel<1.0,>=0.23.0 in /usr/local/lib/python3.7/dist-packages (from astunparse>=1.6.0->tensorflow>=2.0.0->talos) (0.37.1)\n",
            "Requirement already satisfied: cached-property in /usr/local/lib/python3.7/dist-packages (from h5py>=2.9.0->tensorflow>=2.0.0->talos) (1.5.2)\n",
            "Requirement already satisfied: markdown>=2.6.8 in /usr/local/lib/python3.7/dist-packages (from tensorboard<2.9,>=2.8->tensorflow>=2.0.0->talos) (3.3.6)\n",
            "Requirement already satisfied: google-auth<3,>=1.6.3 in /usr/local/lib/python3.7/dist-packages (from tensorboard<2.9,>=2.8->tensorflow>=2.0.0->talos) (1.35.0)\n",
            "Requirement already satisfied: tensorboard-plugin-wit>=1.6.0 in /usr/local/lib/python3.7/dist-packages (from tensorboard<2.9,>=2.8->tensorflow>=2.0.0->talos) (1.8.1)\n",
            "Requirement already satisfied: tensorboard-data-server<0.7.0,>=0.6.0 in /usr/local/lib/python3.7/dist-packages (from tensorboard<2.9,>=2.8->tensorflow>=2.0.0->talos) (0.6.1)\n",
            "Requirement already satisfied: google-auth-oauthlib<0.5,>=0.4.1 in /usr/local/lib/python3.7/dist-packages (from tensorboard<2.9,>=2.8->tensorflow>=2.0.0->talos) (0.4.6)\n",
            "Requirement already satisfied: werkzeug>=0.11.15 in /usr/local/lib/python3.7/dist-packages (from tensorboard<2.9,>=2.8->tensorflow>=2.0.0->talos) (1.0.1)\n",
            "Requirement already satisfied: cachetools<5.0,>=2.0.0 in /usr/local/lib/python3.7/dist-packages (from google-auth<3,>=1.6.3->tensorboard<2.9,>=2.8->tensorflow>=2.0.0->talos) (4.2.4)\n",
            "Requirement already satisfied: rsa<5,>=3.1.4 in /usr/local/lib/python3.7/dist-packages (from google-auth<3,>=1.6.3->tensorboard<2.9,>=2.8->tensorflow>=2.0.0->talos) (4.8)\n",
            "Requirement already satisfied: pyasn1-modules>=0.2.1 in /usr/local/lib/python3.7/dist-packages (from google-auth<3,>=1.6.3->tensorboard<2.9,>=2.8->tensorflow>=2.0.0->talos) (0.2.8)\n",
            "Requirement already satisfied: requests-oauthlib>=0.7.0 in /usr/local/lib/python3.7/dist-packages (from google-auth-oauthlib<0.5,>=0.4.1->tensorboard<2.9,>=2.8->tensorflow>=2.0.0->talos) (1.3.1)\n",
            "Requirement already satisfied: importlib-metadata>=4.4 in /usr/local/lib/python3.7/dist-packages (from markdown>=2.6.8->tensorboard<2.9,>=2.8->tensorflow>=2.0.0->talos) (4.11.1)\n",
            "Requirement already satisfied: zipp>=0.5 in /usr/local/lib/python3.7/dist-packages (from importlib-metadata>=4.4->markdown>=2.6.8->tensorboard<2.9,>=2.8->tensorflow>=2.0.0->talos) (3.7.0)\n",
            "Requirement already satisfied: pyasn1<0.5.0,>=0.4.6 in /usr/local/lib/python3.7/dist-packages (from pyasn1-modules>=0.2.1->google-auth<3,>=1.6.3->tensorboard<2.9,>=2.8->tensorflow>=2.0.0->talos) (0.4.8)\n",
            "Requirement already satisfied: chardet<4,>=3.0.2 in /usr/local/lib/python3.7/dist-packages (from requests->talos) (3.0.4)\n",
            "Requirement already satisfied: certifi>=2017.4.17 in /usr/local/lib/python3.7/dist-packages (from requests->talos) (2021.10.8)\n",
            "Requirement already satisfied: idna<3,>=2.5 in /usr/local/lib/python3.7/dist-packages (from requests->talos) (2.10)\n",
            "Requirement already satisfied: urllib3!=1.25.0,!=1.25.1,<1.26,>=1.21.1 in /usr/local/lib/python3.7/dist-packages (from requests->talos) (1.24.3)\n",
            "Requirement already satisfied: oauthlib>=3.0.0 in /usr/local/lib/python3.7/dist-packages (from requests-oauthlib>=0.7.0->google-auth-oauthlib<0.5,>=0.4.1->tensorboard<2.9,>=2.8->tensorflow>=2.0.0->talos) (3.2.0)\n",
            "Requirement already satisfied: IPython in /usr/local/lib/python3.7/dist-packages (from astetik->talos) (5.5.0)\n",
            "Collecting geonamescache\n",
            "  Downloading geonamescache-1.3.0-py3-none-any.whl (2.6 MB)\n",
            "\u001b[K     |████████████████████████████████| 2.6 MB 27.8 MB/s \n",
            "\u001b[?25hRequirement already satisfied: seaborn in /usr/local/lib/python3.7/dist-packages (from astetik->talos) (0.11.2)\n",
            "Requirement already satisfied: decorator in /usr/local/lib/python3.7/dist-packages (from IPython->astetik->talos) (4.4.2)\n",
            "Requirement already satisfied: pickleshare in /usr/local/lib/python3.7/dist-packages (from IPython->astetik->talos) (0.7.5)\n",
            "Requirement already satisfied: prompt-toolkit<2.0.0,>=1.0.4 in /usr/local/lib/python3.7/dist-packages (from IPython->astetik->talos) (1.0.18)\n",
            "Requirement already satisfied: pexpect in /usr/local/lib/python3.7/dist-packages (from IPython->astetik->talos) (4.8.0)\n",
            "Requirement already satisfied: pygments in /usr/local/lib/python3.7/dist-packages (from IPython->astetik->talos) (2.6.1)\n",
            "Requirement already satisfied: traitlets>=4.2 in /usr/local/lib/python3.7/dist-packages (from IPython->astetik->talos) (5.1.1)\n",
            "Requirement already satisfied: simplegeneric>0.8 in /usr/local/lib/python3.7/dist-packages (from IPython->astetik->talos) (0.8.1)\n",
            "Requirement already satisfied: wcwidth in /usr/local/lib/python3.7/dist-packages (from prompt-toolkit<2.0.0,>=1.0.4->IPython->astetik->talos) (0.2.5)\n",
            "Requirement already satisfied: matplotlib in /usr/local/lib/python3.7/dist-packages (from kerasplotlib->talos) (3.2.2)\n",
            "Requirement already satisfied: cycler>=0.10 in /usr/local/lib/python3.7/dist-packages (from matplotlib->kerasplotlib->talos) (0.11.0)\n",
            "Requirement already satisfied: kiwisolver>=1.0.1 in /usr/local/lib/python3.7/dist-packages (from matplotlib->kerasplotlib->talos) (1.3.2)\n",
            "Requirement already satisfied: ptyprocess>=0.5 in /usr/local/lib/python3.7/dist-packages (from pexpect->IPython->astetik->talos) (0.7.0)\n",
            "Requirement already satisfied: scikit-learn in /usr/local/lib/python3.7/dist-packages (from sklearn->talos) (1.0.2)\n",
            "Requirement already satisfied: threadpoolctl>=2.0.0 in /usr/local/lib/python3.7/dist-packages (from scikit-learn->sklearn->talos) (3.1.0)\n",
            "Requirement already satisfied: joblib>=0.11 in /usr/local/lib/python3.7/dist-packages (from scikit-learn->sklearn->talos) (1.1.0)\n",
            "Building wheels for collected packages: chances\n",
            "  Building wheel for chances (setup.py) ... \u001b[?25l\u001b[?25hdone\n",
            "  Created wheel for chances: filename=chances-0.1.9-py3-none-any.whl size=41608 sha256=28ee8e3518aa8d9626d0a7c11180e8d836364868fd3bf4af847aa754d7196665\n",
            "  Stored in directory: /root/.cache/pip/wheels/f3/2e/7e/316f7da11ccf2195ff05e4a0186a4b5975be9bd0b0004198b6\n",
            "Successfully built chances\n",
            "Installing collected packages: tf-estimator-nightly, statsmodels, wrangle, geonamescache, kerasplotlib, chances, astetik, talos\n",
            "  Attempting uninstall: statsmodels\n",
            "    Found existing installation: statsmodels 0.10.2\n",
            "    Uninstalling statsmodels-0.10.2:\n",
            "      Successfully uninstalled statsmodels-0.10.2\n",
            "Successfully installed astetik-1.11.1 chances-0.1.9 geonamescache-1.3.0 kerasplotlib-0.2.1 statsmodels-0.13.2 talos-1.0.2 tf-estimator-nightly-2.8.0.dev2021122109 wrangle-0.6.11\n",
            "Requirement already satisfied: joblib in /usr/local/lib/python3.7/dist-packages (1.1.0)\n"
          ]
        }
      ],
      "source": [
        "!pip install talos\n",
        "!pip install joblib"
      ]
    },
    {
      "cell_type": "code",
      "execution_count": null,
      "metadata": {
        "id": "Xhf0TVeCAITf"
      },
      "outputs": [],
      "source": [
        "# Seed value\n",
        "# Apparently you may use different seed values at each stage\n",
        "seed_value = 0\n",
        "\n",
        "# 1. Set the `PYTHONHASHSEED` environment variable at a fixed value\n",
        "import os\n",
        "os.environ['PYTHONHASHSEED'] = str(seed_value)\n",
        "\n",
        "import numpy as np\n",
        "import tensorflow as tf\n",
        "import random as python_random\n",
        "\n",
        "# The below is necessary for starting Numpy generated random numbers\n",
        "# in a well-defined initial state.\n",
        "np.random.seed(123)\n",
        "\n",
        "# The below is necessary for starting core Python generated random numbers\n",
        "# in a well-defined state.\n",
        "python_random.seed(123)\n",
        "\n",
        "# The below set_seed() will make random number generation\n",
        "# in the TensorFlow backend have a well-defined initial state.\n",
        "# For further details, see:\n",
        "# https://www.tensorflow.org/api_docs/python/tf/random/set_seed\n",
        "tf.random.set_seed(1234)\n",
        "\n",
        "import seaborn as sns\n",
        "import pandas as pd\n",
        "import talos as ta\n",
        "from numpy import zeros, newaxis\n",
        "from matplotlib import pyplot as plt\n",
        "from joblib import dump, load\n",
        "from keras.utils.vis_utils import plot_model\n",
        "from tensorflow import keras\n",
        "from sklearn.preprocessing import MinMaxScaler, PowerTransformer, StandardScaler\n",
        "from sklearn.metrics import mean_squared_error, r2_score, max_error, mean_absolute_error\n",
        "from tensorflow.keras.optimizers import Adam, Nadam\n",
        "from tensorflow.keras.utils import plot_model\n",
        "from tensorflow.keras import Sequential, layers, callbacks\n",
        "from tensorflow.keras.layers import Input, Dense, LSTM, Dropout, GRU, Bidirectional, SimpleRNN, Conv1D, MaxPooling1D, Flatten"
      ]
    },
    {
      "cell_type": "markdown",
      "metadata": {
        "id": "sBvYW-71LYh7"
      },
      "source": [
        "Load and read preprocessed data"
      ]
    },
    {
      "cell_type": "markdown",
      "metadata": {
        "id": "nDFPisjo5D4G"
      },
      "source": [
        ""
      ]
    },
    {
      "cell_type": "code",
      "execution_count": null,
      "metadata": {
        "colab": {
          "base_uri": "https://localhost:8080/"
        },
        "id": "gkcaZZKFd5QA",
        "outputId": "4d430d7b-38f4-4e83-fdf1-8a14a07ef4bc"
      },
      "outputs": [
        {
          "output_type": "stream",
          "name": "stdout",
          "text": [
            "All shapes are: (batch, time, features)\n",
            "X_train.shape: (10496, 20, 6) y_train.shape: (10496, 1)\n",
            "X_valid.shape: (1294, 20, 6) y_valid.shape: (1294, 1)\n",
            "X_test.shape: (1295, 20, 6) y_test.shape: (1295, 1)\n"
          ]
        }
      ],
      "source": [
        "with open('Preprocessed_data_PG.npy', 'rb') as f:\n",
        "    X_train = np.load(f)\n",
        "    y_train = np.load(f)\n",
        "    X_valid = np.load(f)\n",
        "    y_valid = np.load(f)\n",
        "    X_test = np.load(f)\n",
        "    y_test = np.load(f)\n",
        "\n",
        "print('All shapes are: (batch, time, features)')\n",
        "print('X_train.shape:', X_train.shape, 'y_train.shape:', y_train.shape)\n",
        "print('X_valid.shape:', X_valid.shape, 'y_valid.shape:', y_valid.shape)\n",
        "print('X_test.shape:', X_test.shape, 'y_test.shape:', y_test.shape)"
      ]
    },
    {
      "cell_type": "markdown",
      "metadata": {
        "id": "Es-3SjBjTGax"
      },
      "source": [
        "Load scaler"
      ]
    },
    {
      "cell_type": "code",
      "execution_count": null,
      "metadata": {
        "id": "LDFUkU63TGsE"
      },
      "outputs": [],
      "source": [
        "scaler = load('MinMaxScaler_PG.joblib')"
      ]
    },
    {
      "cell_type": "markdown",
      "metadata": {
        "id": "ByOexPRLbboE"
      },
      "source": [
        "It was verified through these lines of code that the two scales were equal"
      ]
    },
    {
      "cell_type": "code",
      "execution_count": null,
      "metadata": {
        "id": "eY-by2p2bm0v"
      },
      "outputs": [],
      "source": [
        "# Those attributes are specific of MinMaxScaler. For other scalers they might change\n",
        "# if (imported_scaler.scale_ == scaler.scale_).all() and (imported_scaler.data_max_ == scaler.data_max_).all() \\\n",
        "        # and (imported_scale.data_min_ == scaler.data_min_).all() and (imported_scale.data_range_ == scaler.data_range_).all():\n",
        "   # print(\"Scalers are same\")"
      ]
    },
    {
      "cell_type": "markdown",
      "metadata": {
        "id": "sY4y8A4zc_Ix"
      },
      "source": [
        "It is necessary to import the shoe ladder then subsequently the new observations that the algorithm will predict in the future which will then be reused for the next prison prediction"
      ]
    },
    {
      "cell_type": "code",
      "execution_count": null,
      "metadata": {
        "id": "m6k_ZsXzICT8"
      },
      "outputs": [],
      "source": [
        "# from talos.utils import hidden_layers"
      ]
    },
    {
      "cell_type": "markdown",
      "metadata": {
        "id": "Yx941nYNdFkl"
      },
      "source": [
        "The Hidden layers function has been imported from the Talos library but has been modified according to the needs of the project"
      ]
    },
    {
      "cell_type": "code",
      "execution_count": null,
      "metadata": {
        "id": "DwSkU0oqhJwz"
      },
      "outputs": [],
      "source": [
        "def network_shape_customized(params, last_neuron, network_type):\n",
        "    '''Provides the ability to include network shape in experiments. If params\n",
        "    dictionary for the round contains float value for params['shapes'] then\n",
        "    a linear contraction towards the last_neuron value. The higher the value,\n",
        "    the fewer layers it takes to reach lesser than last_neuron.\n",
        "    Supports three inbuilt shapes 'brick', 'funnel', and 'triangle'.\n",
        "    params : dict\n",
        "         Scan() params for a single roundself.\n",
        "    last_neuron : int\n",
        "         Number of neurons on the output layer in the Keras model.\n",
        "    '''\n",
        "    import numpy as np\n",
        "    from talos.utils.exceptions import TalosParamsError\n",
        "\n",
        "    layers = params['hidden_layers']\n",
        "    shape = params['shapes']\n",
        "    # network_type == 0 --> SimpleRNN\n",
        "    # network_type == 1 --> GRU\n",
        "    # network_type == 2 --> LSTM\n",
        "    # network_type == 3 --> CONV1D\n",
        "    if network_type == 3:\n",
        "        first_neuron = params['first_filter']\n",
        "    else:\n",
        "        first_neuron = params['first_neuron']\n",
        "\n",
        "    out = []\n",
        "    n = first_neuron\n",
        "\n",
        "    # the case where hidden_layers is zero\n",
        "    if layers == 0:\n",
        "        return [0]\n",
        "\n",
        "    # the cases where an angle is applied\n",
        "    if isinstance(shape, float):\n",
        "\n",
        "        for i in range(layers):\n",
        "\n",
        "            n *= 1 - shape\n",
        "\n",
        "            if n > last_neuron:\n",
        "                out.append(int(n))\n",
        "            else:\n",
        "                out.append(last_neuron)\n",
        "\n",
        "    # the case where a rectantular shape is used\n",
        "    elif shape == 'brick':\n",
        "        out = [first_neuron] * layers\n",
        "\n",
        "    elif shape == 'funnel':\n",
        "        for i in range(layers + 1):\n",
        "            n -= int((first_neuron - last_neuron) / layers)\n",
        "            out.append(n)\n",
        "        out.pop(-1)\n",
        "\n",
        "    elif shape == 'triangle':\n",
        "        out = np.linspace(first_neuron,\n",
        "                          last_neuron,\n",
        "                          layers + 2,\n",
        "                          dtype=int).tolist()\n",
        "\n",
        "        out.pop(0)\n",
        "        out.pop(-1)\n",
        "        out.reverse()\n",
        "\n",
        "    else:\n",
        "        message = \"'shapes' must be float or in ['funnel', 'brick', 'triangle']\"\n",
        "        raise TalosParamsError(message)\n",
        "\n",
        "    return out\n",
        "\n",
        "\n",
        "def hidden_layers_customized(model, params, last_neuron, network_type):\n",
        "    '''HIDDEN LAYER Generator\n",
        "\n",
        "    NOTE: 'shapes', 'first_neuron', 'dropout', and 'hidden_layers' need\n",
        "    to be present in the params dictionary.\n",
        "\n",
        "    Hidden layer generation for the cases where number\n",
        "    of layers is used as a variable in the optimization process.\n",
        "    Handles things in a way where any number of layers can be tried\n",
        "    with matching hyperparameters.'''\n",
        "\n",
        "    # check for the params that are required for hidden_layers\n",
        "\n",
        "    from tensorflow.keras.layers import Dense, Dropout, Conv1D, MaxPooling1D, SimpleRNN, GRU, LSTM\n",
        "    # from .network_shape import network_shape\n",
        "    from talos.utils.exceptions import TalosParamsError\n",
        "\n",
        "    if network_type != 3 :\n",
        "        required = ['shapes', 'first_neuron', 'hidden_layers',]\n",
        "    else network_type == 3:\n",
        "        required = ['shapes', 'first_filter', 'hidden_layers', 'kernel_size',]\n",
        "\n",
        "    for param in required:\n",
        "        if param not in params:\n",
        "            message = \"hidden_layers requires '\" + param + \"' in params\"\n",
        "            raise TalosParamsError(message)\n",
        "\n",
        "    layer_neurons = network_shape_customized(params, last_neuron, network_type)\n",
        "    # network_type == 0 --> SimpleRNN\n",
        "    # network_type == 1 --> LSTM\n",
        "    # network_type == 2 --> GRU\n",
        "    # network_type == 3 --> CONV1D\n",
        "    from keras.regularizers import l2\n",
        "    if network_type == 0:\n",
        "        for i in range(params['hidden_layers']):\n",
        "            if params['hidden_layers'] == 0:\n",
        "                model.add(SimpleRNN(layer_neurons[i], return_sequences=False, activation='relu'))\n",
        "            else:\n",
        "                if i == params['hidden_layers'] - 1:\n",
        "                    model.add(SimpleRNN(layer_neurons[i], return_sequences=False, activation='relu'))\n",
        "                else:\n",
        "                    model.add(SimpleRNN(layer_neurons[i], return_sequences=True, activation='relu'))\n",
        "    elif network_type == 1:\n",
        "        for i in range(params['hidden_layers']):\n",
        "            if params['hidden_layers'] == 0:\n",
        "                model.add(LSTM(layer_neurons[i], return_sequences=False, activation='elu'))\n",
        "            else:\n",
        "                if i == params['hidden_layers'] - 1:\n",
        "                    model.add(LSTM(layer_neurons[i], return_sequences=False, activation='elu'))\n",
        "                else:\n",
        "                    model.add(LSTM(layer_neurons[i], return_sequences=True, activation='elu'))\n",
        "    elif network_type == 2:\n",
        "        for i in range(params['hidden_layers']):\n",
        "            if params['hidden_layers'] == 0:\n",
        "                model.add(GRU(layer_neurons[i], return_sequences=False, activation='relu'))\n",
        "            else:\n",
        "                if i == params['hidden_layers'] - 1:\n",
        "                    model.add(GRU(layer_neurons[i], return_sequences=False, activation='relu'))\n",
        "                else:\n",
        "                    model.add(GRU(layer_neurons[i], return_sequences=True, activation='relu'))\n",
        "\n",
        "    elif network_type == 3:\n",
        "        for i in range(params['hidden_layers']):\n",
        "            model.add(Conv1D(layer_neurons[i],\n",
        "                             kernel_size=params.get('kernel_size'),\n",
        "                             padding='same', activation='relu'))\n",
        "            model.add(MaxPooling1D(pool_size=2, padding='same'))\n",
        "            model.add(Dropout(0))\n",
        "    else:\n",
        "        message = \"Model not supported\"\n",
        "        raise TalosParamsError(message)"
      ]
    },
    {
      "cell_type": "markdown",
      "metadata": {
        "id": "kzoIsvJsvBbr"
      },
      "source": [
        "#### 3.1 Recurrent Neural Network (RNN)"
      ]
    },
    {
      "cell_type": "code",
      "execution_count": null,
      "metadata": {
        "id": "M93LBfGTuvgp"
      },
      "outputs": [],
      "source": [
        "def rnn_fn(x_train, y_train, x_val, y_val, params):\n",
        "\t  # Step 1: reset the tensorflow backend session.\n",
        "    tf.keras.backend.clear_session()\n",
        "    # Step 2: Define the model with variable hyperparameters.\n",
        "    # dropout = float(params['dropout'])\n",
        "    # lr = float(params['lr'])\n",
        "    model = tf.keras.models.Sequential()\n",
        "    model.add(tf.keras.layers.Input(shape=(X_train.shape[1], X_train.shape[2])))\n",
        "    hidden_layers_customized(model, params, 1, 0)\n",
        "    model.add(tf.keras.layers.Dropout(0))\n",
        "    model.add(tf.keras.layers.Dense(1))\n",
        "    model.add(tf.keras.layers.Activation('linear'))\n",
        "    \n",
        "    model.compile(\n",
        "        loss='mse',\n",
        "        optimizer = 'Adam'\n",
        "        # params['optimiz'](learning_rate=lr),\n",
        "        # metrics=['mse']\n",
        "    )\n",
        "\n",
        "    stop_early = tf.keras.callbacks.EarlyStopping(monitor='val_loss', patience=15, restore_best_weights=True)\n",
        "    \n",
        "    history = model.fit(\n",
        "        x_train, y_train, \n",
        "        epochs=params['epochs'], \n",
        "        batch_size=params['batch_size'], \n",
        "        verbose=0,\n",
        "        validation_data=[x_val, y_val],\n",
        "        callbacks=[stop_early], \n",
        "    )\n",
        "\n",
        "    return history, model, \n",
        "\n",
        "\n",
        "para = {\n",
        "    'batch_size': [70, 100], \n",
        "    'epochs': [100, 200],  # 100, 200\n",
        "    'shapes': ['brick', 'triangle'],               # <<< required\n",
        "    'first_neuron': [64, 32],  # 64,               # <<< required\n",
        "    'hidden_layers': [2, 3, 4],  # 2, 3            # <<< required\n",
        "     # 'dropout': [0],  # 0.25                     # <<< required\n",
        "     # 'optimiz': [Nadam, Adam],\n",
        "     # 'lr': [0.001, 0.01, 0.1] \n",
        "}\n"
      ]
    },
    {
      "cell_type": "markdown",
      "metadata": {
        "id": "NsPx9xDbEa3R"
      },
      "source": [
        "#### 3.2 Long Short Term Memory (LSTM)"
      ]
    },
    {
      "cell_type": "code",
      "execution_count": null,
      "metadata": {
        "id": "Uta1e8mkEa3S"
      },
      "outputs": [],
      "source": [
        "'''\n",
        "def lstm_fn(x_train, y_train, x_val, y_val, params):\n",
        "\t  # Step 1: reset the tensorflow backend session.\n",
        "    tf.keras.backend.clear_session()\n",
        "    # Step 2: Define the model with variable hyperparameters.\n",
        "    # dropout = float(params['dropout'])\n",
        "    lr = float(params['lr'])\n",
        "    model = tf.keras.models.Sequential()\n",
        "    model.add(tf.keras.layers.Input(shape=(X_train.shape[1], X_train.shape[2])))\n",
        "    hidden_layers_customized(model, params, 1, 2)\n",
        "    model.add(tf.keras.layers.Dropout(0))\n",
        "    model.add(tf.keras.layers.Dense(1))\n",
        "    model.add(tf.keras.layers.Activation('linear'))\n",
        "    \n",
        "    model.compile(\n",
        "          loss='mse',\n",
        "          optimizer=params['optimiz'](learning_rate=lr),\n",
        "          # metrics=['mse']\n",
        "      )\n",
        "\n",
        "    stop_early = tf.keras.callbacks.EarlyStopping(monitor='val_loss', patience=10, restore_best_weights=True)\n",
        "    \n",
        "    history = model.fit(\n",
        "        x_train, y_train, \n",
        "        epochs=params['epochs'], \n",
        "        batch_size=params['batch_size'], \n",
        "        verbose=0,\n",
        "        validation_data=[x_val, y_val],\n",
        "        callbacks=[stop_early], \n",
        "    )\n",
        "\n",
        "    return history, model, \n",
        "\n",
        "para = {\n",
        "    'batch_size': [32, 64, 96],\n",
        "    'epochs': [120],  # 100, 200\n",
        "    'shapes': ['brick', 'triangle'],  # <<< required\n",
        "    'first_neuron': [65, 45, 25, 15],  # 64,              # <<< required\n",
        "    'hidden_layers': [2, 3, 4],  # 2, 3                  # <<< required\n",
        "    # 'dropout': [0],  # 0.25                         # <<< required\n",
        "    'optimiz': [Adam],\n",
        "    'lr': [0.001, 0.003],\n",
        "}\n",
        " ''' "
      ]
    },
    {
      "cell_type": "markdown",
      "metadata": {
        "id": "5CGdVRupDz_9"
      },
      "source": [
        "#### 3.3 Gated Recurrent Unit (GRU)"
      ]
    },
    {
      "cell_type": "code",
      "source": [
        "'''\n",
        "def gru_fn(x_train, y_train, x_val, y_val, params):\n",
        "\t  # Step 1: reset the tensorflow backend session.\n",
        "    tf.keras.backend.clear_session()\n",
        "    # Step 2: Define the model with variable hyperparameters.\n",
        "    # dropout = float(params['dropout'])\n",
        "    lr = float(params['lr'])\n",
        "    model = tf.keras.models.Sequential()\n",
        "    model.add(tf.keras.layers.Input(shape=(X_train.shape[1], X_train.shape[2])))\n",
        "    hidden_layers_customized(model, params, 1, 1)\n",
        "    model.add(tf.keras.layers.Dropout(0))\n",
        "    model.add(tf.keras.layers.Dense(1))\n",
        "    model.add(tf.keras.layers.Activation('linear'))\n",
        "\n",
        "    model.compile(\n",
        "        loss='mse',\n",
        "        optimizer=params['optimiz'](learning_rate=lr),\n",
        "        # metrics=['mse']\n",
        "    )\n",
        "\n",
        "    stop_early = tf.keras.callbacks.EarlyStopping(monitor='val_loss', patience=15, restore_best_weights=True)\n",
        "    \n",
        "    history = model.fit(\n",
        "        x_train, y_train, \n",
        "        epochs=params['epochs'], \n",
        "        batch_size=params['batch_size'], \n",
        "        verbose=0,\n",
        "        validation_data=[x_val, y_val],\n",
        "        callbacks=[stop_early], \n",
        "    )\n",
        "\n",
        "    return history, model, \n",
        "\n",
        "para = {\n",
        "    'batch_size': [50, 100],\n",
        "    'epochs': [50, 70],  # 100, 200\n",
        "    'shapes': ['brick', 'triangle'],                 # <<< required\n",
        "    'first_neuron': [32, 64],  # 64,               # <<< required\n",
        "    'hidden_layers': [2, 3],  # 2, 3                  # <<< required\n",
        "    # 'dropout': [0],  # 0.25                        # <<< required\n",
        "    'optimiz': [Adam],\n",
        "    'lr': [0.005, 0.01]\n",
        "}\n",
        "'''"
      ],
      "metadata": {
        "id": "aBOmgUDiDsi_"
      },
      "execution_count": null,
      "outputs": []
    },
    {
      "cell_type": "markdown",
      "metadata": {
        "id": "QWN6w5LzElbE"
      },
      "source": [
        "#### 3.4 Convolutional Neural Network (CNN)"
      ]
    },
    {
      "cell_type": "code",
      "execution_count": null,
      "metadata": {
        "id": "4RBbm--LElbF"
      },
      "outputs": [],
      "source": [
        "'''\n",
        "def cnn1d_fn(x_train, y_train, x_val, y_val, params):\n",
        "    # Step 1: reset the tensorflow backend session.\n",
        "    tf.keras.backend.clear_session()\n",
        "    # Step 2: Define the model with variable hyperparameters.\n",
        "    model = tf.keras.models.Sequential()\n",
        "    model.add(tf.keras.layers.Input(shape=(X_train.shape[1], X_train.shape[2])))\n",
        "    hidden_layers_customized(model, params, 1, 3)\n",
        "    model.add(tf.keras.layers.Flatten())\n",
        "    model.add(tf.keras.layers.Dense(1))\n",
        "    model.add(tf.keras.layers.Activation('linear'))\n",
        "\n",
        "    model.compile(\n",
        "        optimizer='adam',\n",
        "        loss='mse',\n",
        "        # metrics=['mse']\n",
        "    )\n",
        "\n",
        "    stop_early = tf.keras.callbacks.EarlyStopping(monitor='val_loss', patience=15, restore_best_weights=True)\n",
        "\n",
        "    history = model.fit(\n",
        "        x_train, y_train,\n",
        "        epochs=params['epochs'],\n",
        "        batch_size=params['batch_size'],\n",
        "        verbose=0,\n",
        "        validation_data=[x_val, y_val],\n",
        "        callbacks=[stop_early]\n",
        "    )\n",
        "    return history, model\n",
        "\n",
        "\n",
        "para = {\n",
        "    'batch_size': [50, 60], \n",
        "    'epochs': [70, 100],  # 100, 200\n",
        "    'shapes': ['brick', 'triangle',],               # <<< required\n",
        "    'hidden_layers': [2, 3, 4],  # 2, 3         # <<< required\n",
        "    # 'dropout': [0],  # 0.25                        # <<< required\n",
        "    'first_filter': [96, 64, 32],           # <<< required\n",
        "    'kernel_size': [2, 3, 4],               # <<< required\n",
        "}\n",
        "'''"
      ]
    },
    {
      "cell_type": "code",
      "source": [
        "# Starting of Grid search\n",
        "# Choose of model to tune\n",
        "scan_results = ta.Scan(x=X_train,\n",
        "                 y=y_train,\n",
        "                 params=para,\n",
        "                 model=rnn_fn,\n",
        "                 experiment_name='Hyperparameter_Tuning',\n",
        "                 x_val=X_valid,\n",
        "                 y_val=y_valid,\n",
        "                 performance_target=['val_loss', 0.54, True],\n",
        "                 disable_progress_bar=False, print_params=True)"
      ],
      "metadata": {
        "id": "sUnphFCHI9X8",
        "outputId": "6d7273e7-54aa-4229-dedb-af49693695c1",
        "colab": {
          "base_uri": "https://localhost:8080/"
        }
      },
      "execution_count": null,
      "outputs": [
        {
          "output_type": "stream",
          "name": "stderr",
          "text": [
            "\r  0%|          | 0/48 [00:00<?, ?it/s]"
          ]
        },
        {
          "output_type": "stream",
          "name": "stdout",
          "text": [
            "{'batch_size': 70, 'epochs': 100, 'first_neuron': 64, 'hidden_layers': 2, 'shapes': 'brick'}\n"
          ]
        },
        {
          "output_type": "stream",
          "name": "stderr",
          "text": [
            "\r  2%|▏         | 1/48 [04:26<3:29:01, 266.84s/it]"
          ]
        },
        {
          "output_type": "stream",
          "name": "stdout",
          "text": [
            "{'batch_size': 70, 'epochs': 100, 'first_neuron': 64, 'hidden_layers': 2, 'shapes': 'triangle'}\n"
          ]
        },
        {
          "output_type": "stream",
          "name": "stderr",
          "text": [
            "\r  4%|▍         | 2/48 [06:44<2:26:24, 190.97s/it]"
          ]
        },
        {
          "output_type": "stream",
          "name": "stdout",
          "text": [
            "{'batch_size': 70, 'epochs': 100, 'first_neuron': 64, 'hidden_layers': 3, 'shapes': 'brick'}\n"
          ]
        },
        {
          "output_type": "stream",
          "name": "stderr",
          "text": [
            "\r  6%|▋         | 3/48 [12:10<3:09:13, 252.31s/it]"
          ]
        },
        {
          "output_type": "stream",
          "name": "stdout",
          "text": [
            "{'batch_size': 70, 'epochs': 100, 'first_neuron': 64, 'hidden_layers': 3, 'shapes': 'triangle'}\n"
          ]
        },
        {
          "output_type": "stream",
          "name": "stderr",
          "text": [
            "\r  8%|▊         | 4/48 [13:52<2:21:45, 193.32s/it]"
          ]
        },
        {
          "output_type": "stream",
          "name": "stdout",
          "text": [
            "{'batch_size': 70, 'epochs': 100, 'first_neuron': 64, 'hidden_layers': 4, 'shapes': 'brick'}\n"
          ]
        },
        {
          "output_type": "stream",
          "name": "stderr",
          "text": [
            "\r 10%|█         | 5/48 [18:09<2:34:55, 216.18s/it]"
          ]
        },
        {
          "output_type": "stream",
          "name": "stdout",
          "text": [
            "{'batch_size': 70, 'epochs': 100, 'first_neuron': 64, 'hidden_layers': 4, 'shapes': 'triangle'}\n"
          ]
        },
        {
          "output_type": "stream",
          "name": "stderr",
          "text": [
            "\r 12%|█▎        | 6/48 [23:00<2:49:02, 241.49s/it]"
          ]
        },
        {
          "output_type": "stream",
          "name": "stdout",
          "text": [
            "{'batch_size': 70, 'epochs': 100, 'first_neuron': 32, 'hidden_layers': 2, 'shapes': 'brick'}\n"
          ]
        },
        {
          "output_type": "stream",
          "name": "stderr",
          "text": [
            "\r 15%|█▍        | 7/48 [26:24<2:36:37, 229.20s/it]"
          ]
        },
        {
          "output_type": "stream",
          "name": "stdout",
          "text": [
            "{'batch_size': 70, 'epochs': 100, 'first_neuron': 32, 'hidden_layers': 2, 'shapes': 'triangle'}\n"
          ]
        },
        {
          "output_type": "stream",
          "name": "stderr",
          "text": [
            "\r 17%|█▋        | 8/48 [28:48<2:14:43, 202.08s/it]"
          ]
        },
        {
          "output_type": "stream",
          "name": "stdout",
          "text": [
            "{'batch_size': 70, 'epochs': 100, 'first_neuron': 32, 'hidden_layers': 3, 'shapes': 'brick'}\n"
          ]
        },
        {
          "output_type": "stream",
          "name": "stderr",
          "text": [
            "\r 19%|█▉        | 9/48 [32:36<2:16:38, 210.21s/it]"
          ]
        },
        {
          "output_type": "stream",
          "name": "stdout",
          "text": [
            "{'batch_size': 70, 'epochs': 100, 'first_neuron': 32, 'hidden_layers': 3, 'shapes': 'triangle'}\n"
          ]
        },
        {
          "output_type": "stream",
          "name": "stderr",
          "text": [
            "\r 21%|██        | 10/48 [37:00<2:23:47, 227.03s/it]"
          ]
        },
        {
          "output_type": "stream",
          "name": "stdout",
          "text": [
            "{'batch_size': 70, 'epochs': 100, 'first_neuron': 32, 'hidden_layers': 4, 'shapes': 'brick'}\n"
          ]
        },
        {
          "output_type": "stream",
          "name": "stderr",
          "text": [
            "\r 23%|██▎       | 11/48 [42:06<2:34:46, 250.99s/it]"
          ]
        },
        {
          "output_type": "stream",
          "name": "stdout",
          "text": [
            "{'batch_size': 70, 'epochs': 100, 'first_neuron': 32, 'hidden_layers': 4, 'shapes': 'triangle'}\n"
          ]
        },
        {
          "output_type": "stream",
          "name": "stderr",
          "text": [
            "\r 25%|██▌       | 12/48 [44:31<2:11:17, 218.81s/it]"
          ]
        },
        {
          "output_type": "stream",
          "name": "stdout",
          "text": [
            "{'batch_size': 70, 'epochs': 200, 'first_neuron': 64, 'hidden_layers': 2, 'shapes': 'brick'}\n"
          ]
        },
        {
          "output_type": "stream",
          "name": "stderr",
          "text": [
            "\r 27%|██▋       | 13/48 [47:55<2:05:03, 214.39s/it]"
          ]
        },
        {
          "output_type": "stream",
          "name": "stdout",
          "text": [
            "{'batch_size': 70, 'epochs': 200, 'first_neuron': 64, 'hidden_layers': 2, 'shapes': 'triangle'}\n"
          ]
        },
        {
          "output_type": "stream",
          "name": "stderr",
          "text": [
            "\r 29%|██▉       | 14/48 [53:19<2:20:16, 247.55s/it]"
          ]
        },
        {
          "output_type": "stream",
          "name": "stdout",
          "text": [
            "{'batch_size': 70, 'epochs': 200, 'first_neuron': 64, 'hidden_layers': 3, 'shapes': 'brick'}\n"
          ]
        },
        {
          "output_type": "stream",
          "name": "stderr",
          "text": [
            "\r 31%|███▏      | 15/48 [56:44<2:09:01, 234.58s/it]"
          ]
        },
        {
          "output_type": "stream",
          "name": "stdout",
          "text": [
            "{'batch_size': 70, 'epochs': 200, 'first_neuron': 64, 'hidden_layers': 3, 'shapes': 'triangle'}\n"
          ]
        },
        {
          "output_type": "stream",
          "name": "stderr",
          "text": [
            "\r 33%|███▎      | 16/48 [1:02:09<2:19:35, 261.75s/it]"
          ]
        },
        {
          "output_type": "stream",
          "name": "stdout",
          "text": [
            "{'batch_size': 70, 'epochs': 200, 'first_neuron': 64, 'hidden_layers': 4, 'shapes': 'brick'}\n"
          ]
        },
        {
          "output_type": "stream",
          "name": "stderr",
          "text": [
            "\r 35%|███▌      | 17/48 [1:08:35<2:34:34, 299.16s/it]"
          ]
        },
        {
          "output_type": "stream",
          "name": "stdout",
          "text": [
            "{'batch_size': 70, 'epochs': 200, 'first_neuron': 64, 'hidden_layers': 4, 'shapes': 'triangle'}\n"
          ]
        },
        {
          "output_type": "stream",
          "name": "stderr",
          "text": [
            "\r 38%|███▊      | 18/48 [1:17:01<3:00:39, 361.33s/it]"
          ]
        },
        {
          "output_type": "stream",
          "name": "stdout",
          "text": [
            "{'batch_size': 70, 'epochs': 200, 'first_neuron': 32, 'hidden_layers': 2, 'shapes': 'brick'}\n"
          ]
        },
        {
          "output_type": "stream",
          "name": "stderr",
          "text": [
            "\r 40%|███▉      | 19/48 [1:21:09<2:38:11, 327.29s/it]"
          ]
        },
        {
          "output_type": "stream",
          "name": "stdout",
          "text": [
            "{'batch_size': 70, 'epochs': 200, 'first_neuron': 32, 'hidden_layers': 2, 'shapes': 'triangle'}\n"
          ]
        },
        {
          "output_type": "stream",
          "name": "stderr",
          "text": [
            "\r 42%|████▏     | 20/48 [1:23:12<2:04:07, 265.97s/it]"
          ]
        },
        {
          "output_type": "stream",
          "name": "stdout",
          "text": [
            "{'batch_size': 70, 'epochs': 200, 'first_neuron': 32, 'hidden_layers': 3, 'shapes': 'brick'}\n"
          ]
        },
        {
          "output_type": "stream",
          "name": "stderr",
          "text": [
            "\r 44%|████▍     | 21/48 [1:29:39<2:16:01, 302.26s/it]"
          ]
        },
        {
          "output_type": "stream",
          "name": "stdout",
          "text": [
            "{'batch_size': 70, 'epochs': 200, 'first_neuron': 32, 'hidden_layers': 3, 'shapes': 'triangle'}\n"
          ]
        },
        {
          "output_type": "stream",
          "name": "stderr",
          "text": [
            "\r 46%|████▌     | 22/48 [1:33:42<2:03:14, 284.40s/it]"
          ]
        },
        {
          "output_type": "stream",
          "name": "stdout",
          "text": [
            "{'batch_size': 70, 'epochs': 200, 'first_neuron': 32, 'hidden_layers': 4, 'shapes': 'brick'}\n"
          ]
        },
        {
          "output_type": "stream",
          "name": "stderr",
          "text": [
            "\r 48%|████▊     | 23/48 [1:39:08<2:03:45, 297.03s/it]"
          ]
        },
        {
          "output_type": "stream",
          "name": "stdout",
          "text": [
            "{'batch_size': 70, 'epochs': 200, 'first_neuron': 32, 'hidden_layers': 4, 'shapes': 'triangle'}\n",
            "Target 0.540 have been met.\n"
          ]
        },
        {
          "output_type": "stream",
          "name": "stderr",
          "text": [
            " 50%|█████     | 24/48 [1:48:42<1:48:42, 271.77s/it]\n"
          ]
        }
      ]
    },
    {
      "cell_type": "markdown",
      "metadata": {
        "id": "ff2aCAAh-4DV"
      },
      "source": [
        "## 4. Model Selection"
      ]
    },
    {
      "cell_type": "code",
      "execution_count": null,
      "metadata": {
        "colab": {
          "base_uri": "https://localhost:8080/",
          "height": 363
        },
        "id": "is68QDDBmKyu",
        "outputId": "6fb0c4f9-6e4a-434d-8495-cea07a67fa03"
      },
      "outputs": [
        {
          "output_type": "execute_result",
          "data": {
            "text/html": [
              "\n",
              "  <div id=\"df-3cacf36a-c7f6-497a-a73e-8dfdbd5a7f58\">\n",
              "    <div class=\"colab-df-container\">\n",
              "      <div>\n",
              "<style scoped>\n",
              "    .dataframe tbody tr th:only-of-type {\n",
              "        vertical-align: middle;\n",
              "    }\n",
              "\n",
              "    .dataframe tbody tr th {\n",
              "        vertical-align: top;\n",
              "    }\n",
              "\n",
              "    .dataframe thead th {\n",
              "        text-align: right;\n",
              "    }\n",
              "</style>\n",
              "<table border=\"1\" class=\"dataframe\">\n",
              "  <thead>\n",
              "    <tr style=\"text-align: right;\">\n",
              "      <th></th>\n",
              "      <th>round_epochs</th>\n",
              "      <th>loss</th>\n",
              "      <th>val_loss</th>\n",
              "      <th>batch_size</th>\n",
              "      <th>epochs</th>\n",
              "      <th>first_neuron</th>\n",
              "      <th>hidden_layers</th>\n",
              "      <th>shapes</th>\n",
              "    </tr>\n",
              "  </thead>\n",
              "  <tbody>\n",
              "    <tr>\n",
              "      <th>23</th>\n",
              "      <td>177</td>\n",
              "      <td>0.241338</td>\n",
              "      <td>0.530544</td>\n",
              "      <td>70</td>\n",
              "      <td>200</td>\n",
              "      <td>32</td>\n",
              "      <td>4</td>\n",
              "      <td>triangle</td>\n",
              "    </tr>\n",
              "    <tr>\n",
              "      <th>13</th>\n",
              "      <td>180</td>\n",
              "      <td>0.245292</td>\n",
              "      <td>0.595705</td>\n",
              "      <td>70</td>\n",
              "      <td>200</td>\n",
              "      <td>64</td>\n",
              "      <td>2</td>\n",
              "      <td>triangle</td>\n",
              "    </tr>\n",
              "    <tr>\n",
              "      <th>10</th>\n",
              "      <td>97</td>\n",
              "      <td>0.255363</td>\n",
              "      <td>0.600658</td>\n",
              "      <td>70</td>\n",
              "      <td>100</td>\n",
              "      <td>32</td>\n",
              "      <td>4</td>\n",
              "      <td>brick</td>\n",
              "    </tr>\n",
              "    <tr>\n",
              "      <th>5</th>\n",
              "      <td>94</td>\n",
              "      <td>0.316446</td>\n",
              "      <td>0.726727</td>\n",
              "      <td>70</td>\n",
              "      <td>100</td>\n",
              "      <td>64</td>\n",
              "      <td>4</td>\n",
              "      <td>triangle</td>\n",
              "    </tr>\n",
              "    <tr>\n",
              "      <th>17</th>\n",
              "      <td>131</td>\n",
              "      <td>0.267855</td>\n",
              "      <td>0.785928</td>\n",
              "      <td>70</td>\n",
              "      <td>200</td>\n",
              "      <td>64</td>\n",
              "      <td>4</td>\n",
              "      <td>triangle</td>\n",
              "    </tr>\n",
              "    <tr>\n",
              "      <th>20</th>\n",
              "      <td>113</td>\n",
              "      <td>0.269532</td>\n",
              "      <td>0.818728</td>\n",
              "      <td>70</td>\n",
              "      <td>200</td>\n",
              "      <td>32</td>\n",
              "      <td>3</td>\n",
              "      <td>brick</td>\n",
              "    </tr>\n",
              "    <tr>\n",
              "      <th>0</th>\n",
              "      <td>100</td>\n",
              "      <td>0.265973</td>\n",
              "      <td>0.987706</td>\n",
              "      <td>70</td>\n",
              "      <td>100</td>\n",
              "      <td>64</td>\n",
              "      <td>2</td>\n",
              "      <td>brick</td>\n",
              "    </tr>\n",
              "    <tr>\n",
              "      <th>14</th>\n",
              "      <td>53</td>\n",
              "      <td>0.486476</td>\n",
              "      <td>1.062141</td>\n",
              "      <td>70</td>\n",
              "      <td>200</td>\n",
              "      <td>64</td>\n",
              "      <td>3</td>\n",
              "      <td>brick</td>\n",
              "    </tr>\n",
              "    <tr>\n",
              "      <th>9</th>\n",
              "      <td>100</td>\n",
              "      <td>0.358644</td>\n",
              "      <td>1.112668</td>\n",
              "      <td>70</td>\n",
              "      <td>100</td>\n",
              "      <td>32</td>\n",
              "      <td>3</td>\n",
              "      <td>triangle</td>\n",
              "    </tr>\n",
              "    <tr>\n",
              "      <th>22</th>\n",
              "      <td>85</td>\n",
              "      <td>0.295306</td>\n",
              "      <td>1.252630</td>\n",
              "      <td>70</td>\n",
              "      <td>200</td>\n",
              "      <td>32</td>\n",
              "      <td>4</td>\n",
              "      <td>brick</td>\n",
              "    </tr>\n",
              "  </tbody>\n",
              "</table>\n",
              "</div>\n",
              "      <button class=\"colab-df-convert\" onclick=\"convertToInteractive('df-3cacf36a-c7f6-497a-a73e-8dfdbd5a7f58')\"\n",
              "              title=\"Convert this dataframe to an interactive table.\"\n",
              "              style=\"display:none;\">\n",
              "        \n",
              "  <svg xmlns=\"http://www.w3.org/2000/svg\" height=\"24px\"viewBox=\"0 0 24 24\"\n",
              "       width=\"24px\">\n",
              "    <path d=\"M0 0h24v24H0V0z\" fill=\"none\"/>\n",
              "    <path d=\"M18.56 5.44l.94 2.06.94-2.06 2.06-.94-2.06-.94-.94-2.06-.94 2.06-2.06.94zm-11 1L8.5 8.5l.94-2.06 2.06-.94-2.06-.94L8.5 2.5l-.94 2.06-2.06.94zm10 10l.94 2.06.94-2.06 2.06-.94-2.06-.94-.94-2.06-.94 2.06-2.06.94z\"/><path d=\"M17.41 7.96l-1.37-1.37c-.4-.4-.92-.59-1.43-.59-.52 0-1.04.2-1.43.59L10.3 9.45l-7.72 7.72c-.78.78-.78 2.05 0 2.83L4 21.41c.39.39.9.59 1.41.59.51 0 1.02-.2 1.41-.59l7.78-7.78 2.81-2.81c.8-.78.8-2.07 0-2.86zM5.41 20L4 18.59l7.72-7.72 1.47 1.35L5.41 20z\"/>\n",
              "  </svg>\n",
              "      </button>\n",
              "      \n",
              "  <style>\n",
              "    .colab-df-container {\n",
              "      display:flex;\n",
              "      flex-wrap:wrap;\n",
              "      gap: 12px;\n",
              "    }\n",
              "\n",
              "    .colab-df-convert {\n",
              "      background-color: #E8F0FE;\n",
              "      border: none;\n",
              "      border-radius: 50%;\n",
              "      cursor: pointer;\n",
              "      display: none;\n",
              "      fill: #1967D2;\n",
              "      height: 32px;\n",
              "      padding: 0 0 0 0;\n",
              "      width: 32px;\n",
              "    }\n",
              "\n",
              "    .colab-df-convert:hover {\n",
              "      background-color: #E2EBFA;\n",
              "      box-shadow: 0px 1px 2px rgba(60, 64, 67, 0.3), 0px 1px 3px 1px rgba(60, 64, 67, 0.15);\n",
              "      fill: #174EA6;\n",
              "    }\n",
              "\n",
              "    [theme=dark] .colab-df-convert {\n",
              "      background-color: #3B4455;\n",
              "      fill: #D2E3FC;\n",
              "    }\n",
              "\n",
              "    [theme=dark] .colab-df-convert:hover {\n",
              "      background-color: #434B5C;\n",
              "      box-shadow: 0px 1px 3px 1px rgba(0, 0, 0, 0.15);\n",
              "      filter: drop-shadow(0px 1px 2px rgba(0, 0, 0, 0.3));\n",
              "      fill: #FFFFFF;\n",
              "    }\n",
              "  </style>\n",
              "\n",
              "      <script>\n",
              "        const buttonEl =\n",
              "          document.querySelector('#df-3cacf36a-c7f6-497a-a73e-8dfdbd5a7f58 button.colab-df-convert');\n",
              "        buttonEl.style.display =\n",
              "          google.colab.kernel.accessAllowed ? 'block' : 'none';\n",
              "\n",
              "        async function convertToInteractive(key) {\n",
              "          const element = document.querySelector('#df-3cacf36a-c7f6-497a-a73e-8dfdbd5a7f58');\n",
              "          const dataTable =\n",
              "            await google.colab.kernel.invokeFunction('convertToInteractive',\n",
              "                                                     [key], {});\n",
              "          if (!dataTable) return;\n",
              "\n",
              "          const docLinkHtml = 'Like what you see? Visit the ' +\n",
              "            '<a target=\"_blank\" href=https://colab.research.google.com/notebooks/data_table.ipynb>data table notebook</a>'\n",
              "            + ' to learn more about interactive tables.';\n",
              "          element.innerHTML = '';\n",
              "          dataTable['output_type'] = 'display_data';\n",
              "          await google.colab.output.renderOutput(dataTable, element);\n",
              "          const docLink = document.createElement('div');\n",
              "          docLink.innerHTML = docLinkHtml;\n",
              "          element.appendChild(docLink);\n",
              "        }\n",
              "      </script>\n",
              "    </div>\n",
              "  </div>\n",
              "  "
            ],
            "text/plain": [
              "    round_epochs      loss  val_loss  ...  first_neuron  hidden_layers    shapes\n",
              "23           177  0.241338  0.530544  ...            32              4  triangle\n",
              "13           180  0.245292  0.595705  ...            64              2  triangle\n",
              "10            97  0.255363  0.600658  ...            32              4     brick\n",
              "5             94  0.316446  0.726727  ...            64              4  triangle\n",
              "17           131  0.267855  0.785928  ...            64              4  triangle\n",
              "20           113  0.269532  0.818728  ...            32              3     brick\n",
              "0            100  0.265973  0.987706  ...            64              2     brick\n",
              "14            53  0.486476  1.062141  ...            64              3     brick\n",
              "9            100  0.358644  1.112668  ...            32              3  triangle\n",
              "22            85  0.295306  1.252630  ...            32              4     brick\n",
              "\n",
              "[10 rows x 8 columns]"
            ]
          },
          "metadata": {},
          "execution_count": 14
        }
      ],
      "source": [
        "r = ta.Reporting('/content/Hyperparameter_Tuning/022322201403.csv')\n",
        "\n",
        "# returns the results dataframe\n",
        "r.data.sort_values(by=['val_loss'], ascending=True).iloc[:10, :]"
      ]
    },
    {
      "cell_type": "code",
      "execution_count": null,
      "metadata": {
        "colab": {
          "base_uri": "https://localhost:8080/"
        },
        "id": "up2TmQknXtyj",
        "outputId": "544973c2-42c4-4237-9f03-ef316ef00a9d"
      },
      "outputs": [
        {
          "output_type": "execute_result",
          "data": {
            "text/plain": [
              "epochs          -0.172394\n",
              "first_neuron    -0.228864\n",
              "hidden_layers   -0.097488\n",
              "Name: val_loss, dtype: float64"
            ]
          },
          "metadata": {},
          "execution_count": 17
        }
      ],
      "source": [
        "# get correlation for hyperparameters against a metric\n",
        "r.correlate('val_loss', ['loss', 'val_loss', 'round_epochs', 'batch_size'])"
      ]
    },
    {
      "cell_type": "code",
      "execution_count": null,
      "metadata": {
        "colab": {
          "base_uri": "https://localhost:8080/",
          "height": 507
        },
        "id": "CDNJLD9aZY5K",
        "outputId": "e3c36df8-6a8a-4fa6-d16f-32aaa790e05a"
      },
      "outputs": [
        {
          "output_type": "display_data",
          "data": {
            "image/png": "[encoded data removed]",
            "text/plain": [
              "<Figure size 504x504 with 2 Axes>"
            ]
          },
          "metadata": {}
        }
      ],
      "source": [
        "# get a correlation plot for hyperparameters against a metric \n",
        "r.plot_corr('val_loss', ['loss', 'val_loss', 'round_epochs', 'batch_size'])\n",
        "# plt.savefig('curve.png', dpi=1000)"
      ]
    },
    {
      "cell_type": "code",
      "execution_count": null,
      "metadata": {
        "id": "yA_uVZm1OWsw"
      },
      "outputs": [],
      "source": [
        "# Get the best model index with highest 'val_loss' \n",
        "model_id = r.data['val_loss'].astype('float').argmin() - 0"
      ]
    },
    {
      "cell_type": "code",
      "source": [
        "# Get models index from data \n",
        "# model_id = r.data['val_loss'].astype('float').index[26]"
      ],
      "metadata": {
        "id": "1MiiSFNWMCel"
      },
      "execution_count": null,
      "outputs": []
    },
    {
      "cell_type": "code",
      "source": [
        "model_id"
      ],
      "metadata": {
        "colab": {
          "base_uri": "https://localhost:8080/"
        },
        "id": "MXdDMSEHM0xs",
        "outputId": "75d51a43-092f-4ba9-c860-aa784df3e3b9"
      },
      "execution_count": null,
      "outputs": [
        {
          "output_type": "execute_result",
          "data": {
            "text/plain": [
              "23"
            ]
          },
          "metadata": {},
          "execution_count": 20
        }
      ]
    },
    {
      "cell_type": "markdown",
      "metadata": {
        "id": "negYo6SL6Kxo"
      },
      "source": [
        "* It is possible to retrieve the loss curve of the best model\n"
      ]
    },
    {
      "cell_type": "code",
      "execution_count": null,
      "metadata": {
        "colab": {
          "base_uri": "https://localhost:8080/",
          "height": 406
        },
        "id": "RnQqQcHtU5hR",
        "outputId": "65a387f8-7532-42d6-92b5-ac049a3e5522"
      },
      "outputs": [
        {
          "output_type": "display_data",
          "data": {
            "image/png": "[encoded data removed]",
            "text/plain": [
              "<Figure size 720x432 with 1 Axes>"
            ]
          },
          "metadata": {}
        }
      ],
      "source": [
        "model_history = scan_results.round_history[model_id]\n",
        "\n",
        "# LOSS CURVE\n",
        "# Plot train loss and validation loss\n",
        "def plot_loss(history):\n",
        "    plt.figure(figsize=(10, 6))\n",
        "    plt.plot(history['loss'])\n",
        "    plt.plot(history['val_loss'])\n",
        "    plt.ylabel('Loss')\n",
        "    plt.xlabel('epoch')\n",
        "    plt.legend(['Train loss', 'Validation loss'], loc='upper right')\n",
        "    # plt.savefig('Loss curve.png', dpi=1200)\n",
        "    # plt.show()\n",
        "\n",
        "plot_loss(model_history)"
      ]
    },
    {
      "cell_type": "code",
      "source": [
        "model_history['loss'][-1]"
      ],
      "metadata": {
        "colab": {
          "base_uri": "https://localhost:8080/"
        },
        "id": "3hyJcYB3LObs",
        "outputId": "30a815b9-2ca0-4de1-dd44-058dd62ec76a"
      },
      "execution_count": null,
      "outputs": [
        {
          "output_type": "execute_result",
          "data": {
            "text/plain": [
              "0.24133774638175964"
            ]
          },
          "metadata": {},
          "execution_count": 22
        }
      ]
    },
    {
      "cell_type": "code",
      "source": [
        "model_history['val_loss'][-1]"
      ],
      "metadata": {
        "colab": {
          "base_uri": "https://localhost:8080/"
        },
        "id": "TPPTEFwVLZ4X",
        "outputId": "eddef426-b719-4b07-a3d5-82c6c80db835"
      },
      "execution_count": null,
      "outputs": [
        {
          "output_type": "execute_result",
          "data": {
            "text/plain": [
              "0.530544102191925"
            ]
          },
          "metadata": {},
          "execution_count": 23
        }
      ]
    },
    {
      "cell_type": "code",
      "execution_count": null,
      "metadata": {
        "colab": {
          "base_uri": "https://localhost:8080/"
        },
        "id": "8tm5QhzROrMs",
        "outputId": "4f953728-e6f5-4ca3-a2c2-6af9659e7c58"
      },
      "outputs": [
        {
          "output_type": "stream",
          "name": "stdout",
          "text": [
            "Model: \"sequential\"\n",
            "_________________________________________________________________\n",
            " Layer (type)                Output Shape              Param #   \n",
            "=================================================================\n",
            " simple_rnn (SimpleRNN)      (None, 20, 7)             98        \n",
            "                                                                 \n",
            " simple_rnn_1 (SimpleRNN)    (None, 20, 13)            273       \n",
            "                                                                 \n",
            " simple_rnn_2 (SimpleRNN)    (None, 20, 19)            627       \n",
            "                                                                 \n",
            " simple_rnn_3 (SimpleRNN)    (None, 25)                1125      \n",
            "                                                                 \n",
            " dropout (Dropout)           (None, 25)                0         \n",
            "                                                                 \n",
            " dense (Dense)               (None, 1)                 26        \n",
            "                                                                 \n",
            " activation (Activation)     (None, 1)                 0         \n",
            "                                                                 \n",
            "=================================================================\n",
            "Total params: 2,149\n",
            "Trainable params: 2,149\n",
            "Non-trainable params: 0\n",
            "_________________________________________________________________\n"
          ]
        }
      ],
      "source": [
        "def save_best_model(scan_results, model_id, model_name):\n",
        "    # Clear any previous TensorFlow session.\n",
        "    tf.keras.backend.clear_session()\n",
        "\n",
        "\n",
        "    # Load the model parameters from the scanner.\n",
        "    model = tf.keras.models.model_from_json(scan_results.saved_models[model_id])\n",
        "    model.set_weights(scan_results.saved_weights[model_id])\n",
        "    model.summary()\n",
        "    # model.save('./best_model_' + model_name)\n",
        "    return model\n",
        "\n",
        "\n",
        "model = save_best_model(scan_results, model_id, 'rnn')\n",
        "# save_best_model(scan_results, model_id, 'gru')\n",
        "# save_best_model(scan_results, model_id, 'lstm')\n",
        "# save_best_model(scan_results, model_id, 'cnn1d')\n",
        "\n",
        "\n",
        "# Code to load that model\n",
        "# my_tf_saved_model = tf.keras.models.load_model('./saved_models/my_tf_model')\n",
        "# my_tf_saved_model.summary()"
      ]
    },
    {
      "cell_type": "code",
      "execution_count": null,
      "metadata": {
        "id": "gdoZ_A18HjEH"
      },
      "outputs": [],
      "source": [
        "def plot_model_summary(model, model_name):\n",
        "    plot_model(model, to_file='model_summary_' + model_name + '.png', show_shapes=True)\n",
        "\n",
        "# Change function according to the model tuned\n",
        "plot_model_summary(model, 'rnn')\n",
        "# plot_model_summary(model, 'gru')\n",
        "# plot_model_summary(model, 'lstm')\n",
        "# plot_model_summary(model, 'cnn1d')"
      ]
    },
    {
      "cell_type": "code",
      "source": [
        "# Make prediction\n",
        "def prediction(model):\n",
        "    prediction = model.predict(X_test)\n",
        "    return prediction\n",
        "\n",
        "\n",
        "prediction_rnn = prediction(model)\n",
        "# prediction_gru = prediction(model)\n",
        "# rediction_lstm = prediction(model)\n",
        "# prediction_cnn1d = prediction(model)"
      ],
      "metadata": {
        "id": "a8MEbPr1ZuNe"
      },
      "execution_count": null,
      "outputs": []
    },
    {
      "cell_type": "code",
      "source": [
        "def plot_future(prediction, model_name, y_test):\n",
        "    plt.figure(figsize=(10, 6))\n",
        "    range_future = len(prediction)\n",
        "    plt.plot(np.arange(range_future), np.array(y_test), label='True Future')\n",
        "    plt.plot(np.arange(range_future), np.array(prediction), label='Prediction')\n",
        "    plt.title('True future vs prediction for ' + model_name)\n",
        "    plt.legend(loc='upper left')\n",
        "    plt.xlabel('Time (day)')\n",
        "    plt.ylabel('Stock Price (€)')\n",
        "    # plt.savefig('Prediction_Evaluation_plot_' + model_name + '.png', dpi=1200)\n",
        "    plt.show()\n",
        "\n",
        "\n",
        "plot_future(prediction_rnn, 'rnn', y_test)\n",
        "# plot_future(prediction_gru, 'gru', y_test)\n",
        "# plot_future(prediction_lstm, 'lstm', y_test)\n",
        "# plot_future(prediction_cnn1d, 'cnn1d', y_test)"
      ],
      "metadata": {
        "id": "YzHxl33BaBQF",
        "outputId": "74e1a460-7d75-4514-9417-4ea6ef8f87d1",
        "colab": {
          "base_uri": "https://localhost:8080/",
          "height": 424
        }
      },
      "execution_count": null,
      "outputs": [
        {
          "output_type": "display_data",
          "data": {
            "image/png": "[encoded data removed]",
            "text/plain": [
              "<Figure size 720x432 with 1 Axes>"
            ]
          },
          "metadata": {}
        }
      ]
    },
    {
      "cell_type": "code",
      "source": [
        "# Define a function to calculate MAE and RSME\n",
        "step_ahead=1\n",
        "\n",
        "# Define a function to calculate MAE and RSME\n",
        "def evaluate_prediction(predicted, actual, model_name):\n",
        "    if step_ahead == 1:\n",
        "        rsme = np.sqrt((mean_squared_error(predicted, actual)))\n",
        "        mae = mean_absolute_error(actual, predicted)\n",
        "        r2 = r2_score(actual, predicted)\n",
        "        max_err = max_error(actual, predicted)\n",
        "        print(model_name + ' performance:')\n",
        "        print('R^2: {:.4f} %'.format(r2 * 100))\n",
        "        print('Mean Absolute Error: {:.4f}'.format(mae))\n",
        "        print('Root Mean Square Error: {:.4f}'.format(rsme))\n",
        "        print('Max_error: {:.4f}'.format(max_err))\n",
        "        print('')\n",
        "        return\n",
        "    else:\n",
        "        titles = [\"RMSE\", \"MAE\", \"R^2\"]\n",
        "        # calculate an RMSE score for each day\n",
        "        # calculate mse\n",
        "        rmse = np.sqrt(mean_squared_error(predicted, actual, multioutput='raw_values'))\n",
        "        mae = mean_absolute_error(predicted, actual, multioutput='raw_values')\n",
        "        r2 = r2_score(predicted, actual, multioutput='raw_values')\n",
        "        df_scores = pd.DataFrame(list(zip(rmse, mae, r2)), columns=[f'{x}' for x in titles])\n",
        "        df_scores.index += 1\n",
        "\n",
        "        colors = plt.rcParams[\"axes.prop_cycle\"]()\n",
        "        a = 1  # number of rows\n",
        "        b = 3  # number of columns\n",
        "        c = 1  # initialize plot counter\n",
        "        fig = plt.figure(figsize=(15, 6))\n",
        "        for i in titles:\n",
        "            plt.subplot(a, b, c)\n",
        "            plt.title(f'{i}')\n",
        "            next_colour = next(colors)[\"color\"]\n",
        "            df_scores[f'{i}'].plot(marker='o', color=next_colour)\n",
        "            plt.xticks((range(0, df_scores.shape[0] + 1)))\n",
        "            plt.legend(loc='upper left')\n",
        "            plt.xlabel('Forecast Range (Day)')\n",
        "            plt.ylabel(f'{i}')\n",
        "            c = c + 1\n",
        "\n",
        "        plt.subplots_adjust(.5)\n",
        "        fig.suptitle(\"Evaluation of performances' trend in the multi step forecasted range\", fontsize=16, y=1)\n",
        "        plt.tight_layout()\n",
        "        # plt.savefig('EvaluationMultiplePrediction_PG.png', dpi=1200)\n",
        "        plt.show()\n",
        "\n",
        "        # calculate overall RMSE\n",
        "        overall_rmse = np.sqrt(mean_squared_error(predicted, actual, multioutput='uniform_average'))\n",
        "        overall_mae = mean_absolute_error(predicted, actual, multioutput='uniform_average')\n",
        "        overall_r2 = r2_score(predicted, actual, multioutput='uniform_average')\n",
        "        print(model_name + ' performance:')\n",
        "        print('R^2: {:.4f} %'.format(overall_r2 * 100))\n",
        "        print('Mean Absolute Error: {:.4f}'.format(overall_mae))\n",
        "        print('Root Mean Square Error: {:.4f}'.format(overall_rmse))\n",
        "        print('')\n",
        "        return\n",
        "\n",
        "\n",
        "evaluate_prediction(prediction_rnn, y_test, 'rnn')\n",
        "# evaluate_prediction(prediction_gru, y_test, 'gru')\n",
        "# evaluate_prediction(prediction_lstm, y_test, 'lstm')\n",
        "# evaluate_prediction(prediction_cnn_1d, y_test, 'cnn1d')"
      ],
      "metadata": {
        "id": "dYY0YItYaHjm",
        "outputId": "139ebb1f-85f4-45a3-e7ba-c75a05ff0987",
        "colab": {
          "base_uri": "https://localhost:8080/"
        }
      },
      "execution_count": null,
      "outputs": [
        {
          "output_type": "stream",
          "name": "stdout",
          "text": [
            "rnn performance:\n",
            "R^2: 99.6242 %\n",
            "Mean Absolute Error: 0.9285\n",
            "Root Mean Square Error: 1.4716\n",
            "Max_error: 11.7979\n",
            "\n"
          ]
        }
      ]
    }
  ],
  "metadata": {
    "accelerator": "TPU",
    "colab": {
      "collapsed_sections": [],
      "name": "Hyperparameter_Tuning_Talos.ipynb",
      "provenance": [],
      "authorship_tag": "ABX9TyN1KpHVgXoTGK/OqtOU68Wp",
      "include_colab_link": true
    },
    "kernelspec": {
      "display_name": "Python 3",
      "name": "python3"
    },
    "language_info": {
      "name": "python"
    }
  },
  "nbformat": 4,
  "nbformat_minor": 0
}