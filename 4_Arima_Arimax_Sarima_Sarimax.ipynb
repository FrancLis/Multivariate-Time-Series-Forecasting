{
  "nbformat": 4,
  "nbformat_minor": 0,
  "metadata": {
    "colab": {
      "name": "4_Arima_Arimax_Sarima_Sarimax.ipynb",
      "provenance": [],
      "authorship_tag": "ABX9TyNdXFkhKw/rrHCmiaYhBOiq",
      "include_colab_link": true
    },
    "kernelspec": {
      "name": "python3",
      "display_name": "Python 3"
    },
    "language_info": {
      "name": "python"
    },
    "accelerator": "TPU"
  },
  "cells": [
    {
      "cell_type": "markdown",
      "metadata": {
        "id": "view-in-github",
        "colab_type": "text"
      },
      "source": [
        "<a href=\"https://colab.research.google.com/github/FrancLis/Multivariate-Time-Series-Forecasting/blob/main/4_Arima_Arimax_Sarima_Sarimax.ipynb\" target=\"_parent\"><img src=\"https://colab.research.google.com/assets/colab-badge.svg\" alt=\"Open In Colab\"/></a>"
      ]
    },
    {
      "cell_type": "code",
      "source": [
        "!pip install pmdarima\n",
        "!pip install termocolor"
      ],
      "metadata": {
        "id": "9aDhF9KxeIfp",
        "colab": {
          "base_uri": "https://localhost:8080/"
        },
        "outputId": "55daa4e6-5e3f-4046-ca35-b259abcd5946"
      },
      "execution_count": 1,
      "outputs": [
        {
          "output_type": "stream",
          "name": "stdout",
          "text": [
            "Requirement already satisfied: pmdarima in /usr/local/lib/python3.7/dist-packages (1.8.5)\n",
            "Requirement already satisfied: scipy>=1.3.2 in /usr/local/lib/python3.7/dist-packages (from pmdarima) (1.4.1)\n",
            "Requirement already satisfied: setuptools!=50.0.0,>=38.6.0 in /usr/local/lib/python3.7/dist-packages (from pmdarima) (57.4.0)\n",
            "Requirement already satisfied: numpy>=1.19.3 in /usr/local/lib/python3.7/dist-packages (from pmdarima) (1.21.6)\n",
            "Requirement already satisfied: scikit-learn>=0.22 in /usr/local/lib/python3.7/dist-packages (from pmdarima) (1.0.2)\n",
            "Requirement already satisfied: Cython!=0.29.18,>=0.29 in /usr/local/lib/python3.7/dist-packages (from pmdarima) (0.29.28)\n",
            "Requirement already satisfied: joblib>=0.11 in /usr/local/lib/python3.7/dist-packages (from pmdarima) (1.1.0)\n",
            "Requirement already satisfied: pandas>=0.19 in /usr/local/lib/python3.7/dist-packages (from pmdarima) (1.3.5)\n",
            "Requirement already satisfied: urllib3 in /usr/local/lib/python3.7/dist-packages (from pmdarima) (1.24.3)\n",
            "Requirement already satisfied: statsmodels!=0.12.0,>=0.11 in /usr/local/lib/python3.7/dist-packages (from pmdarima) (0.13.2)\n",
            "Requirement already satisfied: pytz>=2017.3 in /usr/local/lib/python3.7/dist-packages (from pandas>=0.19->pmdarima) (2022.1)\n",
            "Requirement already satisfied: python-dateutil>=2.7.3 in /usr/local/lib/python3.7/dist-packages (from pandas>=0.19->pmdarima) (2.8.2)\n",
            "Requirement already satisfied: six>=1.5 in /usr/local/lib/python3.7/dist-packages (from python-dateutil>=2.7.3->pandas>=0.19->pmdarima) (1.15.0)\n",
            "Requirement already satisfied: threadpoolctl>=2.0.0 in /usr/local/lib/python3.7/dist-packages (from scikit-learn>=0.22->pmdarima) (3.1.0)\n",
            "Requirement already satisfied: packaging>=21.3 in /usr/local/lib/python3.7/dist-packages (from statsmodels!=0.12.0,>=0.11->pmdarima) (21.3)\n",
            "Requirement already satisfied: patsy>=0.5.2 in /usr/local/lib/python3.7/dist-packages (from statsmodels!=0.12.0,>=0.11->pmdarima) (0.5.2)\n",
            "Requirement already satisfied: pyparsing!=3.0.5,>=2.0.2 in /usr/local/lib/python3.7/dist-packages (from packaging>=21.3->statsmodels!=0.12.0,>=0.11->pmdarima) (3.0.8)\n",
            "\u001b[31mERROR: Could not find a version that satisfies the requirement termocolor (from versions: none)\u001b[0m\n",
            "\u001b[31mERROR: No matching distribution found for termocolor\u001b[0m\n"
          ]
        }
      ]
    },
    {
      "cell_type": "code",
      "source": [
        "import os\n",
        "import warnings\n",
        "warnings.filterwarnings('ignore')\n",
        "import numpy as np\n",
        "import pandas as pd\n",
        "import matplotlib.pyplot as plt\n",
        "from termcolor import colored\n",
        "from statsmodels.tsa.stattools import adfuller\n",
        "from statsmodels.tsa.seasonal import seasonal_decompose\n",
        "from statsmodels.tsa.arima_model import ARIMA\n",
        "from pmdarima.arima import auto_arima\n",
        "from sklearn.metrics import mean_squared_error, mean_absolute_error\n",
        "import math\n",
        "from sklearn.metrics import max_error\n",
        "from sklearn.metrics import r2_score"
      ],
      "metadata": {
        "id": "65i5ghLSAzoR"
      },
      "execution_count": 2,
      "outputs": []
    },
    {
      "cell_type": "code",
      "source": [
        "df = pd.read_csv('/content/PG.csv', parse_dates=['Date'] ,index_col='Date')"
      ],
      "metadata": {
        "id": "paQN5hcygqIz"
      },
      "execution_count": 3,
      "outputs": []
    },
    {
      "cell_type": "code",
      "source": [
        "df"
      ],
      "metadata": {
        "colab": {
          "base_uri": "https://localhost:8080/",
          "height": 455
        },
        "id": "savzRlA4g451",
        "outputId": "f38cb609-ef5f-4d03-fbbe-85329ab98910"
      },
      "execution_count": 4,
      "outputs": [
        {
          "output_type": "execute_result",
          "data": {
            "text/plain": [
              "                  Open        High         Low       Close   Adj Close  \\\n",
              "Date                                                                     \n",
              "1970-01-02    1.710938    1.722656    1.708984    1.718750    0.399508   \n",
              "1970-01-05    1.718750    1.730469    1.708984    1.726563    0.401324   \n",
              "1970-01-06    1.722656    1.722656    1.707031    1.718750    0.399508   \n",
              "1970-01-07    1.722656    1.750000    1.722656    1.746094    0.405864   \n",
              "1970-01-08    1.746094    1.773438    1.742188    1.765625    0.410404   \n",
              "...                ...         ...         ...         ...         ...   \n",
              "2022-02-03  161.979996  164.979996  161.619995  164.139999  164.139999   \n",
              "2022-02-04  163.130005  164.490005  161.410004  161.529999  161.529999   \n",
              "2022-02-07  161.869995  162.259995  159.669998  160.320007  160.320007   \n",
              "2022-02-08  161.119995  161.270004  159.649994  159.960007  159.960007   \n",
              "2022-02-09  160.360001  160.639999  159.270004  159.600006  159.600006   \n",
              "\n",
              "              Volume  \n",
              "Date                  \n",
              "1970-01-02    832000  \n",
              "1970-01-05    518400  \n",
              "1970-01-06    480000  \n",
              "1970-01-07    710400  \n",
              "1970-01-08    531200  \n",
              "...              ...  \n",
              "2022-02-03  10474500  \n",
              "2022-02-04   8959900  \n",
              "2022-02-07   6430500  \n",
              "2022-02-08   5048700  \n",
              "2022-02-09   8077400  \n",
              "\n",
              "[13145 rows x 6 columns]"
            ],
            "text/html": [
              "\n",
              "  <div id=\"df-9aae4dca-085b-4ad4-b6b9-f149fad56d8d\">\n",
              "    <div class=\"colab-df-container\">\n",
              "      <div>\n",
              "<style scoped>\n",
              "    .dataframe tbody tr th:only-of-type {\n",
              "        vertical-align: middle;\n",
              "    }\n",
              "\n",
              "    .dataframe tbody tr th {\n",
              "        vertical-align: top;\n",
              "    }\n",
              "\n",
              "    .dataframe thead th {\n",
              "        text-align: right;\n",
              "    }\n",
              "</style>\n",
              "<table border=\"1\" class=\"dataframe\">\n",
              "  <thead>\n",
              "    <tr style=\"text-align: right;\">\n",
              "      <th></th>\n",
              "      <th>Open</th>\n",
              "      <th>High</th>\n",
              "      <th>Low</th>\n",
              "      <th>Close</th>\n",
              "      <th>Adj Close</th>\n",
              "      <th>Volume</th>\n",
              "    </tr>\n",
              "    <tr>\n",
              "      <th>Date</th>\n",
              "      <th></th>\n",
              "      <th></th>\n",
              "      <th></th>\n",
              "      <th></th>\n",
              "      <th></th>\n",
              "      <th></th>\n",
              "    </tr>\n",
              "  </thead>\n",
              "  <tbody>\n",
              "    <tr>\n",
              "      <th>1970-01-02</th>\n",
              "      <td>1.710938</td>\n",
              "      <td>1.722656</td>\n",
              "      <td>1.708984</td>\n",
              "      <td>1.718750</td>\n",
              "      <td>0.399508</td>\n",
              "      <td>832000</td>\n",
              "    </tr>\n",
              "    <tr>\n",
              "      <th>1970-01-05</th>\n",
              "      <td>1.718750</td>\n",
              "      <td>1.730469</td>\n",
              "      <td>1.708984</td>\n",
              "      <td>1.726563</td>\n",
              "      <td>0.401324</td>\n",
              "      <td>518400</td>\n",
              "    </tr>\n",
              "    <tr>\n",
              "      <th>1970-01-06</th>\n",
              "      <td>1.722656</td>\n",
              "      <td>1.722656</td>\n",
              "      <td>1.707031</td>\n",
              "      <td>1.718750</td>\n",
              "      <td>0.399508</td>\n",
              "      <td>480000</td>\n",
              "    </tr>\n",
              "    <tr>\n",
              "      <th>1970-01-07</th>\n",
              "      <td>1.722656</td>\n",
              "      <td>1.750000</td>\n",
              "      <td>1.722656</td>\n",
              "      <td>1.746094</td>\n",
              "      <td>0.405864</td>\n",
              "      <td>710400</td>\n",
              "    </tr>\n",
              "    <tr>\n",
              "      <th>1970-01-08</th>\n",
              "      <td>1.746094</td>\n",
              "      <td>1.773438</td>\n",
              "      <td>1.742188</td>\n",
              "      <td>1.765625</td>\n",
              "      <td>0.410404</td>\n",
              "      <td>531200</td>\n",
              "    </tr>\n",
              "    <tr>\n",
              "      <th>...</th>\n",
              "      <td>...</td>\n",
              "      <td>...</td>\n",
              "      <td>...</td>\n",
              "      <td>...</td>\n",
              "      <td>...</td>\n",
              "      <td>...</td>\n",
              "    </tr>\n",
              "    <tr>\n",
              "      <th>2022-02-03</th>\n",
              "      <td>161.979996</td>\n",
              "      <td>164.979996</td>\n",
              "      <td>161.619995</td>\n",
              "      <td>164.139999</td>\n",
              "      <td>164.139999</td>\n",
              "      <td>10474500</td>\n",
              "    </tr>\n",
              "    <tr>\n",
              "      <th>2022-02-04</th>\n",
              "      <td>163.130005</td>\n",
              "      <td>164.490005</td>\n",
              "      <td>161.410004</td>\n",
              "      <td>161.529999</td>\n",
              "      <td>161.529999</td>\n",
              "      <td>8959900</td>\n",
              "    </tr>\n",
              "    <tr>\n",
              "      <th>2022-02-07</th>\n",
              "      <td>161.869995</td>\n",
              "      <td>162.259995</td>\n",
              "      <td>159.669998</td>\n",
              "      <td>160.320007</td>\n",
              "      <td>160.320007</td>\n",
              "      <td>6430500</td>\n",
              "    </tr>\n",
              "    <tr>\n",
              "      <th>2022-02-08</th>\n",
              "      <td>161.119995</td>\n",
              "      <td>161.270004</td>\n",
              "      <td>159.649994</td>\n",
              "      <td>159.960007</td>\n",
              "      <td>159.960007</td>\n",
              "      <td>5048700</td>\n",
              "    </tr>\n",
              "    <tr>\n",
              "      <th>2022-02-09</th>\n",
              "      <td>160.360001</td>\n",
              "      <td>160.639999</td>\n",
              "      <td>159.270004</td>\n",
              "      <td>159.600006</td>\n",
              "      <td>159.600006</td>\n",
              "      <td>8077400</td>\n",
              "    </tr>\n",
              "  </tbody>\n",
              "</table>\n",
              "<p>13145 rows × 6 columns</p>\n",
              "</div>\n",
              "      <button class=\"colab-df-convert\" onclick=\"convertToInteractive('df-9aae4dca-085b-4ad4-b6b9-f149fad56d8d')\"\n",
              "              title=\"Convert this dataframe to an interactive table.\"\n",
              "              style=\"display:none;\">\n",
              "        \n",
              "  <svg xmlns=\"http://www.w3.org/2000/svg\" height=\"24px\"viewBox=\"0 0 24 24\"\n",
              "       width=\"24px\">\n",
              "    <path d=\"M0 0h24v24H0V0z\" fill=\"none\"/>\n",
              "    <path d=\"M18.56 5.44l.94 2.06.94-2.06 2.06-.94-2.06-.94-.94-2.06-.94 2.06-2.06.94zm-11 1L8.5 8.5l.94-2.06 2.06-.94-2.06-.94L8.5 2.5l-.94 2.06-2.06.94zm10 10l.94 2.06.94-2.06 2.06-.94-2.06-.94-.94-2.06-.94 2.06-2.06.94z\"/><path d=\"M17.41 7.96l-1.37-1.37c-.4-.4-.92-.59-1.43-.59-.52 0-1.04.2-1.43.59L10.3 9.45l-7.72 7.72c-.78.78-.78 2.05 0 2.83L4 21.41c.39.39.9.59 1.41.59.51 0 1.02-.2 1.41-.59l7.78-7.78 2.81-2.81c.8-.78.8-2.07 0-2.86zM5.41 20L4 18.59l7.72-7.72 1.47 1.35L5.41 20z\"/>\n",
              "  </svg>\n",
              "      </button>\n",
              "      \n",
              "  <style>\n",
              "    .colab-df-container {\n",
              "      display:flex;\n",
              "      flex-wrap:wrap;\n",
              "      gap: 12px;\n",
              "    }\n",
              "\n",
              "    .colab-df-convert {\n",
              "      background-color: #E8F0FE;\n",
              "      border: none;\n",
              "      border-radius: 50%;\n",
              "      cursor: pointer;\n",
              "      display: none;\n",
              "      fill: #1967D2;\n",
              "      height: 32px;\n",
              "      padding: 0 0 0 0;\n",
              "      width: 32px;\n",
              "    }\n",
              "\n",
              "    .colab-df-convert:hover {\n",
              "      background-color: #E2EBFA;\n",
              "      box-shadow: 0px 1px 2px rgba(60, 64, 67, 0.3), 0px 1px 3px 1px rgba(60, 64, 67, 0.15);\n",
              "      fill: #174EA6;\n",
              "    }\n",
              "\n",
              "    [theme=dark] .colab-df-convert {\n",
              "      background-color: #3B4455;\n",
              "      fill: #D2E3FC;\n",
              "    }\n",
              "\n",
              "    [theme=dark] .colab-df-convert:hover {\n",
              "      background-color: #434B5C;\n",
              "      box-shadow: 0px 1px 3px 1px rgba(0, 0, 0, 0.15);\n",
              "      filter: drop-shadow(0px 1px 2px rgba(0, 0, 0, 0.3));\n",
              "      fill: #FFFFFF;\n",
              "    }\n",
              "  </style>\n",
              "\n",
              "      <script>\n",
              "        const buttonEl =\n",
              "          document.querySelector('#df-9aae4dca-085b-4ad4-b6b9-f149fad56d8d button.colab-df-convert');\n",
              "        buttonEl.style.display =\n",
              "          google.colab.kernel.accessAllowed ? 'block' : 'none';\n",
              "\n",
              "        async function convertToInteractive(key) {\n",
              "          const element = document.querySelector('#df-9aae4dca-085b-4ad4-b6b9-f149fad56d8d');\n",
              "          const dataTable =\n",
              "            await google.colab.kernel.invokeFunction('convertToInteractive',\n",
              "                                                     [key], {});\n",
              "          if (!dataTable) return;\n",
              "\n",
              "          const docLinkHtml = 'Like what you see? Visit the ' +\n",
              "            '<a target=\"_blank\" href=https://colab.research.google.com/notebooks/data_table.ipynb>data table notebook</a>'\n",
              "            + ' to learn more about interactive tables.';\n",
              "          element.innerHTML = '';\n",
              "          dataTable['output_type'] = 'display_data';\n",
              "          await google.colab.output.renderOutput(dataTable, element);\n",
              "          const docLink = document.createElement('div');\n",
              "          docLink.innerHTML = docLinkHtml;\n",
              "          element.appendChild(docLink);\n",
              "        }\n",
              "      </script>\n",
              "    </div>\n",
              "  </div>\n",
              "  "
            ]
          },
          "metadata": {},
          "execution_count": 4
        }
      ]
    },
    {
      "cell_type": "markdown",
      "source": [
        "# Data visualization and splitting"
      ],
      "metadata": {
        "id": "99ealFpBhKdh"
      }
    },
    {
      "cell_type": "code",
      "source": [
        "#split data into train and training set\n",
        "train_data, test_data = df[:-1315], df[-1315:]"
      ],
      "metadata": {
        "id": "S6U4XJ8UEp0h"
      },
      "execution_count": 5,
      "outputs": []
    },
    {
      "cell_type": "code",
      "source": [
        "train_data.shape"
      ],
      "metadata": {
        "colab": {
          "base_uri": "https://localhost:8080/"
        },
        "id": "PLTeJEQDqDM7",
        "outputId": "c681bd86-f28d-483c-abad-936319968773"
      },
      "execution_count": 6,
      "outputs": [
        {
          "output_type": "execute_result",
          "data": {
            "text/plain": [
              "(11830, 6)"
            ]
          },
          "metadata": {},
          "execution_count": 6
        }
      ]
    },
    {
      "cell_type": "code",
      "source": [
        "test_data.shape"
      ],
      "metadata": {
        "colab": {
          "base_uri": "https://localhost:8080/"
        },
        "id": "_NpH7oJuqqpR",
        "outputId": "931ded1d-6db5-4f69-d4c1-e582fbda3267"
      },
      "execution_count": 7,
      "outputs": [
        {
          "output_type": "execute_result",
          "data": {
            "text/plain": [
              "(1315, 6)"
            ]
          },
          "metadata": {},
          "execution_count": 7
        }
      ]
    },
    {
      "cell_type": "code",
      "source": [
        "#split data into train and training set\n",
        "plt.figure(figsize=(10,6))\n",
        "plt.xlabel('Date')\n",
        "plt.ylabel('Close Price')\n",
        "plt.plot(train_data.Close, 'green', label='Train data')\n",
        "plt.plot(test_data.Close, 'blue', label='Test data')\n",
        "plt.legend()"
      ],
      "metadata": {
        "id": "5kDUNX7SAWtO",
        "colab": {
          "base_uri": "https://localhost:8080/",
          "height": 406
        },
        "outputId": "9bb54d89-71a4-4ab0-fabb-f502a7f74a02"
      },
      "execution_count": 8,
      "outputs": [
        {
          "output_type": "execute_result",
          "data": {
            "text/plain": [
              "<matplotlib.legend.Legend at 0x7fb5ef6ab490>"
            ]
          },
          "metadata": {},
          "execution_count": 8
        },
        {
          "output_type": "display_data",
          "data": {
            "text/plain": [
              "<Figure size 720x432 with 1 Axes>"
            ],
            "image/png": "[encoded data removed]"
          },
          "metadata": {
            "needs_background": "light"
          }
        }
      ]
    },
    {
      "cell_type": "code",
      "source": [
        "train_data_endog = train_data.Close.values\n",
        "test_data_endog = test_data.Close.values"
      ],
      "metadata": {
        "id": "-vVMgmA7v_Uc"
      },
      "execution_count": 9,
      "outputs": []
    },
    {
      "cell_type": "markdown",
      "source": [
        "# Models' parameters\n"
      ],
      "metadata": {
        "id": "mq91mS99hZ4O"
      }
    },
    {
      "cell_type": "markdown",
      "source": [
        "1. **ARIMA** model:(p,d,q)\n",
        "\n",
        "2. **ARIMAX** model:(p,d,q) + exog\n",
        "\n",
        "3. **SARIMA** model:(p,d,q)(sp,sd,sq,s)\n",
        "\n",
        "4. **SARIMAX** model:(p,d,q)(sp,sd,sq,s) + exog\n",
        "\n",
        "\n",
        "Legend\n",
        "\n",
        "p: Autoregressive order\n",
        "\n",
        "d: Differencing order\n",
        "\n",
        "q: Moving average order\n",
        "\n",
        "s: Seasonal\n"
      ],
      "metadata": {
        "id": "yPTeCcmhPyKD"
      }
    },
    {
      "cell_type": "markdown",
      "source": [
        "# ARIMA"
      ],
      "metadata": {
        "id": "RmJ8G9DN3MBW"
      }
    },
    {
      "cell_type": "markdown",
      "source": [
        "## Estimate differencing term (d)\n",
        "\n",
        "Perform a test of stationarity for different levels of d to estimate the number of differences required to make a given time series stationary. Will select the maximum value of d for which the time series is judged stationary by the statistical test."
      ],
      "metadata": {
        "id": "nKz2XgZ0D15I"
      }
    },
    {
      "cell_type": "code",
      "source": [
        "from pmdarima.arima.utils import ndiffs\n",
        "y = train_data_endog\n",
        "\n",
        "## Adf Test\n",
        "print('adf:', ndiffs(y, test='adf'))  \n",
        "\n",
        "# KPSS test\n",
        "print('kpss:', ndiffs(y, test='kpss')) \n",
        "\n",
        "# PP test:\n",
        "print('pp:', ndiffs(y, test='pp'))  "
      ],
      "metadata": {
        "colab": {
          "base_uri": "https://localhost:8080/"
        },
        "id": "ldUNVcmdDYZp",
        "outputId": "1d6915c5-1a25-47d4-8758-003cd4ad2213"
      },
      "execution_count": 10,
      "outputs": [
        {
          "output_type": "stream",
          "name": "stdout",
          "text": [
            "adf: 1\n",
            "kpss: 1\n",
            "pp: 1\n"
          ]
        }
      ]
    },
    {
      "cell_type": "markdown",
      "source": [
        "## AR term (p)"
      ],
      "metadata": {
        "id": "E3g2x09YJYB1"
      }
    },
    {
      "cell_type": "markdown",
      "source": [
        "**Partial Autocorrelation Plot**"
      ],
      "metadata": {
        "id": "JmLQ7OHRfGFe"
      }
    },
    {
      "cell_type": "code",
      "source": [
        "from statsmodels.graphics.tsaplots import plot_pacf\n",
        "\n",
        "columns = ['Close']\n",
        "\n",
        "for i in columns:\n",
        "  plot_pacf(df[i].diff().dropna(),lags=70,title=i)\n",
        "  plt.show()\n",
        "  print('')"
      ],
      "metadata": {
        "colab": {
          "base_uri": "https://localhost:8080/",
          "height": 0
        },
        "id": "m-nqA3b0EHzW",
        "outputId": "983c7cd9-e062-4b23-af94-f843e6d08ee2"
      },
      "execution_count": 11,
      "outputs": [
        {
          "output_type": "display_data",
          "data": {
            "text/plain": [
              "<Figure size 432x288 with 1 Axes>"
            ],
            "image/png": "[encoded data removed]"
          },
          "metadata": {
            "needs_background": "light"
          }
        },
        {
          "output_type": "stream",
          "name": "stdout",
          "text": [
            "\n"
          ]
        }
      ]
    },
    {
      "cell_type": "markdown",
      "source": [
        "\n",
        "Any autocorrelation in a stationarized series can be rectified by adding enough AR terms. So, we initially take the order of AR term to be equal to as many lags that crosses the significance limit in the PACF plot."
      ],
      "metadata": {
        "id": "spYGZj27JNa4"
      }
    },
    {
      "cell_type": "markdown",
      "source": [
        "## MA term (q)"
      ],
      "metadata": {
        "id": "PQorrMYDJQlU"
      }
    },
    {
      "cell_type": "markdown",
      "source": [
        "**Partial Autocorrelation Plot**"
      ],
      "metadata": {
        "id": "97GV8YrqfaMN"
      }
    },
    {
      "cell_type": "code",
      "source": [
        "from statsmodels.graphics.tsaplots import plot_acf\n",
        "\n",
        "columns = ['Close']\n",
        "\n",
        "for i in columns:\n",
        "  plot_acf(df[i].diff().dropna(),lags=70,title=i)\n",
        "  plt.show()\n",
        "  print('')"
      ],
      "metadata": {
        "colab": {
          "base_uri": "https://localhost:8080/",
          "height": 298
        },
        "id": "iiIGgVcdIj1U",
        "outputId": "a3d662c5-82cd-4199-8794-d9697f55c0db"
      },
      "execution_count": 12,
      "outputs": [
        {
          "output_type": "display_data",
          "data": {
            "text/plain": [
              "<Figure size 432x288 with 1 Axes>"
            ],
            "image/png": "[encoded data removed]"
          },
          "metadata": {
            "needs_background": "light"
          }
        },
        {
          "output_type": "stream",
          "name": "stdout",
          "text": [
            "\n"
          ]
        }
      ]
    },
    {
      "cell_type": "markdown",
      "source": [
        "Just like how we looked at the PACF plot for the number of AR terms, you can look at the ACF plot for the number of MA terms. An MA term is technically, the error of the lagged forecast.\n",
        "\n",
        "The ACF tells how many MA terms are required to remove any autocorrelation in the stationarized series."
      ],
      "metadata": {
        "id": "CVY7Kfy9JHK9"
      }
    },
    {
      "cell_type": "code",
      "source": [
        "print(train_data_endog.shape)\n",
        "print(test_data_endog.shape)"
      ],
      "metadata": {
        "colab": {
          "base_uri": "https://localhost:8080/"
        },
        "id": "91nQClau6QJW",
        "outputId": "b99810a2-3722-40d6-f69c-56e8d0db927a"
      },
      "execution_count": 13,
      "outputs": [
        {
          "output_type": "stream",
          "name": "stdout",
          "text": [
            "(11830,)\n",
            "(1315,)\n"
          ]
        }
      ]
    },
    {
      "cell_type": "code",
      "source": [
        "train_data_endog = train_data_endog.reshape(-1, 1)\n",
        "test_data_endog = test_data_endog.reshape(-1, 1)"
      ],
      "metadata": {
        "id": "qcFIYry5xUi_"
      },
      "execution_count": 14,
      "outputs": []
    },
    {
      "cell_type": "code",
      "source": [
        "from sklearn.preprocessing import PowerTransformer\n",
        "\n",
        "pt_endog = PowerTransformer(method='box-cox')\n",
        "train_data_endog = pt_endog.fit_transform(train_data_endog)\n",
        "test_data_endog = pt_endog.transform(test_data_endog)"
      ],
      "metadata": {
        "id": "8ArYpdWguS7A"
      },
      "execution_count": 15,
      "outputs": []
    },
    {
      "cell_type": "markdown",
      "source": [
        "## ARIMA"
      ],
      "metadata": {
        "id": "VvqPsl_9jDeH"
      }
    },
    {
      "cell_type": "markdown",
      "source": [
        "A research of optimal parameters with the library autoarima was done"
      ],
      "metadata": {
        "id": "QOuvp01cfrV2"
      }
    },
    {
      "cell_type": "code",
      "source": [
        "model_autoARIMA = auto_arima(train_data_endog , start_p=0, start_q=0,\n",
        "                      test='adf',       # use adftest to find optimal 'd'\n",
        "                      max_p=2, max_q=2, # maximum p and q\n",
        "                      m=1,              # frequency of series\n",
        "                      d=None,              # let model determine 'd'\n",
        "                      seasonal=False,   # No Seasonality \n",
        "                      trace=True,\n",
        "                      error_action='ignore',  \n",
        "                      suppress_warnings=True, \n",
        "                      stepwise=True)"
      ],
      "metadata": {
        "id": "49mvTg49AvE7",
        "colab": {
          "base_uri": "https://localhost:8080/"
        },
        "outputId": "ba961d38-cc04-4f89-8a35-78b24b3e9288"
      },
      "execution_count": 16,
      "outputs": [
        {
          "output_type": "stream",
          "name": "stdout",
          "text": [
            "Performing stepwise search to minimize aic\n",
            " ARIMA(0,1,0)(0,0,0)[0] intercept   : AIC=-74271.802, Time=3.66 sec\n",
            " ARIMA(1,1,0)(0,0,0)[0] intercept   : AIC=-74271.145, Time=4.36 sec\n",
            " ARIMA(0,1,1)(0,0,0)[0] intercept   : AIC=-74271.251, Time=6.95 sec\n",
            " ARIMA(0,1,0)(0,0,0)[0]             : AIC=-74267.620, Time=0.91 sec\n",
            " ARIMA(1,1,1)(0,0,0)[0] intercept   : AIC=-74271.734, Time=10.68 sec\n",
            "\n",
            "Best model:  ARIMA(0,1,0)(0,0,0)[0] intercept\n",
            "Total fit time: 26.625 seconds\n"
          ]
        }
      ]
    },
    {
      "cell_type": "code",
      "source": [
        "#Summary of the model\n",
        "model_autoARIMA.summary()"
      ],
      "metadata": {
        "colab": {
          "base_uri": "https://localhost:8080/",
          "height": 402
        },
        "id": "CkyOCveurRIu",
        "outputId": "d86b286d-a0db-43b9-b511-0d6a6d35bc71"
      },
      "execution_count": 17,
      "outputs": [
        {
          "output_type": "execute_result",
          "data": {
            "text/plain": [
              "<class 'statsmodels.iolib.summary.Summary'>\n",
              "\"\"\"\n",
              "                               SARIMAX Results                                \n",
              "==============================================================================\n",
              "Dep. Variable:                      y   No. Observations:                11830\n",
              "Model:               SARIMAX(0, 1, 0)   Log Likelihood               37137.901\n",
              "Date:                Fri, 22 Apr 2022   AIC                         -74271.802\n",
              "Time:                        19:06:22   BIC                         -74257.045\n",
              "Sample:                             0   HQIC                        -74266.848\n",
              "                              - 11830                                         \n",
              "Covariance Type:                  opg                                         \n",
              "==============================================================================\n",
              "                 coef    std err          z      P>|z|      [0.025      0.975]\n",
              "------------------------------------------------------------------------------\n",
              "intercept      0.0002      0.000      2.394      0.017    4.34e-05       0.000\n",
              "sigma2         0.0001   2.59e-07    424.171      0.000       0.000       0.000\n",
              "===================================================================================\n",
              "Ljung-Box (L1) (Q):                   1.34   Jarque-Bera (JB):           2005008.94\n",
              "Prob(Q):                              0.25   Prob(JB):                         0.00\n",
              "Heteroskedasticity (H):               0.93   Skew:                            -2.19\n",
              "Prob(H) (two-sided):                  0.03   Kurtosis:                        66.63\n",
              "===================================================================================\n",
              "\n",
              "Warnings:\n",
              "[1] Covariance matrix calculated using the outer product of gradients (complex-step).\n",
              "\"\"\""
            ],
            "text/html": [
              "<table class=\"simpletable\">\n",
              "<caption>SARIMAX Results</caption>\n",
              "<tr>\n",
              "  <th>Dep. Variable:</th>           <td>y</td>        <th>  No. Observations:  </th>    <td>11830</td>  \n",
              "</tr>\n",
              "<tr>\n",
              "  <th>Model:</th>           <td>SARIMAX(0, 1, 0)</td> <th>  Log Likelihood     </th>  <td>37137.901</td>\n",
              "</tr>\n",
              "<tr>\n",
              "  <th>Date:</th>            <td>Fri, 22 Apr 2022</td> <th>  AIC                </th> <td>-74271.802</td>\n",
              "</tr>\n",
              "<tr>\n",
              "  <th>Time:</th>                <td>19:06:22</td>     <th>  BIC                </th> <td>-74257.045</td>\n",
              "</tr>\n",
              "<tr>\n",
              "  <th>Sample:</th>                  <td>0</td>        <th>  HQIC               </th> <td>-74266.848</td>\n",
              "</tr>\n",
              "<tr>\n",
              "  <th></th>                     <td> - 11830</td>     <th>                     </th>      <td> </td>    \n",
              "</tr>\n",
              "<tr>\n",
              "  <th>Covariance Type:</th>        <td>opg</td>       <th>                     </th>      <td> </td>    \n",
              "</tr>\n",
              "</table>\n",
              "<table class=\"simpletable\">\n",
              "<tr>\n",
              "      <td></td>         <th>coef</th>     <th>std err</th>      <th>z</th>      <th>P>|z|</th>  <th>[0.025</th>    <th>0.975]</th>  \n",
              "</tr>\n",
              "<tr>\n",
              "  <th>intercept</th> <td>    0.0002</td> <td>    0.000</td> <td>    2.394</td> <td> 0.017</td> <td> 4.34e-05</td> <td>    0.000</td>\n",
              "</tr>\n",
              "<tr>\n",
              "  <th>sigma2</th>    <td>    0.0001</td> <td> 2.59e-07</td> <td>  424.171</td> <td> 0.000</td> <td>    0.000</td> <td>    0.000</td>\n",
              "</tr>\n",
              "</table>\n",
              "<table class=\"simpletable\">\n",
              "<tr>\n",
              "  <th>Ljung-Box (L1) (Q):</th>     <td>1.34</td> <th>  Jarque-Bera (JB):  </th> <td>2005008.94</td>\n",
              "</tr>\n",
              "<tr>\n",
              "  <th>Prob(Q):</th>                <td>0.25</td> <th>  Prob(JB):          </th>    <td>0.00</td>   \n",
              "</tr>\n",
              "<tr>\n",
              "  <th>Heteroskedasticity (H):</th> <td>0.93</td> <th>  Skew:              </th>    <td>-2.19</td>  \n",
              "</tr>\n",
              "<tr>\n",
              "  <th>Prob(H) (two-sided):</th>    <td>0.03</td> <th>  Kurtosis:          </th>    <td>66.63</td>  \n",
              "</tr>\n",
              "</table><br/><br/>Warnings:<br/>[1] Covariance matrix calculated using the outer product of gradients (complex-step)."
            ]
          },
          "metadata": {},
          "execution_count": 17
        }
      ]
    },
    {
      "cell_type": "markdown",
      "source": [
        "**Ljung-Box**\n",
        "\n",
        "The Ljung Box test, pronounced \"Young\" and sometimes called the modified Box-Pierce test, tests that the errors are white noise.\n",
        "\n",
        "**Heteroscedasticity**\n",
        "\n",
        "Heteroscedasticity tests that the error residuals are homoscedastic or have the same variance. The summary performs White's test.\n",
        "\n",
        "**Jarque-Bera**\n",
        "\n",
        "Jarque-Bera tests for the normality of errors. It tests the null that the data is normally distributed against an alternative of another"
      ],
      "metadata": {
        "id": "xaRpbpBFYjok"
      }
    },
    {
      "cell_type": "code",
      "source": [
        "model_autoARIMA.plot_diagnostics(figsize=(10,8))\n",
        "plt.show()"
      ],
      "metadata": {
        "colab": {
          "base_uri": "https://localhost:8080/",
          "height": 513
        },
        "id": "SqvSQPGJrSaH",
        "outputId": "d16a19e0-b555-4261-96fd-12b6a4f9aa24"
      },
      "execution_count": 18,
      "outputs": [
        {
          "output_type": "display_data",
          "data": {
            "text/plain": [
              "<Figure size 720x576 with 4 Axes>"
            ],
            "image/png": "[encoded data removed]"
          },
          "metadata": {
            "needs_background": "light"
          }
        }
      ]
    },
    {
      "cell_type": "markdown",
      "source": [
        "**Plot diagnostic**:\n",
        "1.   Standardized residuals over time\n",
        "2.   Histogram plus estimated density of standardized residuals, along with a Normal(0,1) density plotted for reference.\n",
        "3.   Normal Q-Q plot, with Normal reference line\n",
        "4.   Correlogram"
      ],
      "metadata": {
        "id": "HLhU5eqntTu7"
      }
    },
    {
      "cell_type": "markdown",
      "source": [
        "**So how to interpret the plot diagnostics?**\n",
        "\n",
        "The **standardized residuals plot** looks pretty good. The residual errors seem to fluctuate around a mean of zero and have a uniform variance.The residuals over time don’t display any obvious seasonality and appears to be white noise. A standardized residual is the raw residuals divided by an overall standard deviation of the raw residuals. This provides a consistent measure of the error of your prediction.\n",
        "\n",
        "**Histogram plus estimated density plot**: The red KDE line follows closely with the N(0,1) line. This is a good indication that the residuals are normally distributed.\n",
        "\n",
        "The **Q-Q-plot**: Shows that the ordered distribution of residuals (blue dots) follows the linear trend of the samples taken from a standard normal distribution with N(0, 1). This is an indication that the residuals are normally distributed.All the dots should fall perfectly in line with the red line. Any significant deviations would imply the distribution is skewed.\n",
        "\n",
        "The **Correlogram plot** shows the residual errors are not autocorrelated. Any autocorrelation would imply that there is some pattern in the residual errors which are not explained in the model. So you will need to look for more X’s (predictors) to the model."
      ],
      "metadata": {
        "id": "9xJSAFxK8XSi"
      }
    },
    {
      "cell_type": "code",
      "source": [
        "prediction_ARIMA = pd.DataFrame(model_autoARIMA.predict(n_periods = 1315), index=test_data.index)\n",
        "prediction_ARIMA.columns = ['Predictions_ARIMA']\n",
        "prediction_rescaled_ARIMA = pt_endog.inverse_transform(prediction_ARIMA.values)\n",
        "prediction_ARIMA['Predictions_scaled_ARIMA'] = prediction_rescaled_ARIMA\n",
        "prediction_ARIMA"
      ],
      "metadata": {
        "id": "VFGXvsJh2cL2",
        "colab": {
          "base_uri": "https://localhost:8080/",
          "height": 455
        },
        "outputId": "4a07218e-7492-47e0-cdd5-7d66b488739a"
      },
      "execution_count": 19,
      "outputs": [
        {
          "output_type": "execute_result",
          "data": {
            "text/plain": [
              "            Predictions_ARIMA  Predictions_scaled_ARIMA\n",
              "Date                                                   \n",
              "2016-11-18           1.364842                 83.096135\n",
              "2016-11-21           1.365082                 83.122277\n",
              "2016-11-22           1.365321                 83.148428\n",
              "2016-11-23           1.365561                 83.174587\n",
              "2016-11-25           1.365800                 83.200754\n",
              "...                       ...                       ...\n",
              "2022-02-03           1.678654                125.243407\n",
              "2022-02-04           1.678894                125.282464\n",
              "2022-02-07           1.679133                125.321533\n",
              "2022-02-08           1.679373                125.360614\n",
              "2022-02-09           1.679612                125.399706\n",
              "\n",
              "[1315 rows x 2 columns]"
            ],
            "text/html": [
              "\n",
              "  <div id=\"df-7b3781ed-3ca1-4d1d-bd61-2e714cac640c\">\n",
              "    <div class=\"colab-df-container\">\n",
              "      <div>\n",
              "<style scoped>\n",
              "    .dataframe tbody tr th:only-of-type {\n",
              "        vertical-align: middle;\n",
              "    }\n",
              "\n",
              "    .dataframe tbody tr th {\n",
              "        vertical-align: top;\n",
              "    }\n",
              "\n",
              "    .dataframe thead th {\n",
              "        text-align: right;\n",
              "    }\n",
              "</style>\n",
              "<table border=\"1\" class=\"dataframe\">\n",
              "  <thead>\n",
              "    <tr style=\"text-align: right;\">\n",
              "      <th></th>\n",
              "      <th>Predictions_ARIMA</th>\n",
              "      <th>Predictions_scaled_ARIMA</th>\n",
              "    </tr>\n",
              "    <tr>\n",
              "      <th>Date</th>\n",
              "      <th></th>\n",
              "      <th></th>\n",
              "    </tr>\n",
              "  </thead>\n",
              "  <tbody>\n",
              "    <tr>\n",
              "      <th>2016-11-18</th>\n",
              "      <td>1.364842</td>\n",
              "      <td>83.096135</td>\n",
              "    </tr>\n",
              "    <tr>\n",
              "      <th>2016-11-21</th>\n",
              "      <td>1.365082</td>\n",
              "      <td>83.122277</td>\n",
              "    </tr>\n",
              "    <tr>\n",
              "      <th>2016-11-22</th>\n",
              "      <td>1.365321</td>\n",
              "      <td>83.148428</td>\n",
              "    </tr>\n",
              "    <tr>\n",
              "      <th>2016-11-23</th>\n",
              "      <td>1.365561</td>\n",
              "      <td>83.174587</td>\n",
              "    </tr>\n",
              "    <tr>\n",
              "      <th>2016-11-25</th>\n",
              "      <td>1.365800</td>\n",
              "      <td>83.200754</td>\n",
              "    </tr>\n",
              "    <tr>\n",
              "      <th>...</th>\n",
              "      <td>...</td>\n",
              "      <td>...</td>\n",
              "    </tr>\n",
              "    <tr>\n",
              "      <th>2022-02-03</th>\n",
              "      <td>1.678654</td>\n",
              "      <td>125.243407</td>\n",
              "    </tr>\n",
              "    <tr>\n",
              "      <th>2022-02-04</th>\n",
              "      <td>1.678894</td>\n",
              "      <td>125.282464</td>\n",
              "    </tr>\n",
              "    <tr>\n",
              "      <th>2022-02-07</th>\n",
              "      <td>1.679133</td>\n",
              "      <td>125.321533</td>\n",
              "    </tr>\n",
              "    <tr>\n",
              "      <th>2022-02-08</th>\n",
              "      <td>1.679373</td>\n",
              "      <td>125.360614</td>\n",
              "    </tr>\n",
              "    <tr>\n",
              "      <th>2022-02-09</th>\n",
              "      <td>1.679612</td>\n",
              "      <td>125.399706</td>\n",
              "    </tr>\n",
              "  </tbody>\n",
              "</table>\n",
              "<p>1315 rows × 2 columns</p>\n",
              "</div>\n",
              "      <button class=\"colab-df-convert\" onclick=\"convertToInteractive('df-7b3781ed-3ca1-4d1d-bd61-2e714cac640c')\"\n",
              "              title=\"Convert this dataframe to an interactive table.\"\n",
              "              style=\"display:none;\">\n",
              "        \n",
              "  <svg xmlns=\"http://www.w3.org/2000/svg\" height=\"24px\"viewBox=\"0 0 24 24\"\n",
              "       width=\"24px\">\n",
              "    <path d=\"M0 0h24v24H0V0z\" fill=\"none\"/>\n",
              "    <path d=\"M18.56 5.44l.94 2.06.94-2.06 2.06-.94-2.06-.94-.94-2.06-.94 2.06-2.06.94zm-11 1L8.5 8.5l.94-2.06 2.06-.94-2.06-.94L8.5 2.5l-.94 2.06-2.06.94zm10 10l.94 2.06.94-2.06 2.06-.94-2.06-.94-.94-2.06-.94 2.06-2.06.94z\"/><path d=\"M17.41 7.96l-1.37-1.37c-.4-.4-.92-.59-1.43-.59-.52 0-1.04.2-1.43.59L10.3 9.45l-7.72 7.72c-.78.78-.78 2.05 0 2.83L4 21.41c.39.39.9.59 1.41.59.51 0 1.02-.2 1.41-.59l7.78-7.78 2.81-2.81c.8-.78.8-2.07 0-2.86zM5.41 20L4 18.59l7.72-7.72 1.47 1.35L5.41 20z\"/>\n",
              "  </svg>\n",
              "      </button>\n",
              "      \n",
              "  <style>\n",
              "    .colab-df-container {\n",
              "      display:flex;\n",
              "      flex-wrap:wrap;\n",
              "      gap: 12px;\n",
              "    }\n",
              "\n",
              "    .colab-df-convert {\n",
              "      background-color: #E8F0FE;\n",
              "      border: none;\n",
              "      border-radius: 50%;\n",
              "      cursor: pointer;\n",
              "      display: none;\n",
              "      fill: #1967D2;\n",
              "      height: 32px;\n",
              "      padding: 0 0 0 0;\n",
              "      width: 32px;\n",
              "    }\n",
              "\n",
              "    .colab-df-convert:hover {\n",
              "      background-color: #E2EBFA;\n",
              "      box-shadow: 0px 1px 2px rgba(60, 64, 67, 0.3), 0px 1px 3px 1px rgba(60, 64, 67, 0.15);\n",
              "      fill: #174EA6;\n",
              "    }\n",
              "\n",
              "    [theme=dark] .colab-df-convert {\n",
              "      background-color: #3B4455;\n",
              "      fill: #D2E3FC;\n",
              "    }\n",
              "\n",
              "    [theme=dark] .colab-df-convert:hover {\n",
              "      background-color: #434B5C;\n",
              "      box-shadow: 0px 1px 3px 1px rgba(0, 0, 0, 0.15);\n",
              "      filter: drop-shadow(0px 1px 2px rgba(0, 0, 0, 0.3));\n",
              "      fill: #FFFFFF;\n",
              "    }\n",
              "  </style>\n",
              "\n",
              "      <script>\n",
              "        const buttonEl =\n",
              "          document.querySelector('#df-7b3781ed-3ca1-4d1d-bd61-2e714cac640c button.colab-df-convert');\n",
              "        buttonEl.style.display =\n",
              "          google.colab.kernel.accessAllowed ? 'block' : 'none';\n",
              "\n",
              "        async function convertToInteractive(key) {\n",
              "          const element = document.querySelector('#df-7b3781ed-3ca1-4d1d-bd61-2e714cac640c');\n",
              "          const dataTable =\n",
              "            await google.colab.kernel.invokeFunction('convertToInteractive',\n",
              "                                                     [key], {});\n",
              "          if (!dataTable) return;\n",
              "\n",
              "          const docLinkHtml = 'Like what you see? Visit the ' +\n",
              "            '<a target=\"_blank\" href=https://colab.research.google.com/notebooks/data_table.ipynb>data table notebook</a>'\n",
              "            + ' to learn more about interactive tables.';\n",
              "          element.innerHTML = '';\n",
              "          dataTable['output_type'] = 'display_data';\n",
              "          await google.colab.output.renderOutput(dataTable, element);\n",
              "          const docLink = document.createElement('div');\n",
              "          docLink.innerHTML = docLinkHtml;\n",
              "          element.appendChild(docLink);\n",
              "        }\n",
              "      </script>\n",
              "    </div>\n",
              "  </div>\n",
              "  "
            ]
          },
          "metadata": {},
          "execution_count": 19
        }
      ]
    },
    {
      "cell_type": "code",
      "source": [
        "plt.figure(figsize=(8,5))\n",
        "plt.plot(train_data.Close ,label=\"Training\")\n",
        "plt.plot(test_data.Close ,label=\"Test\")\n",
        "plt.plot(prediction_ARIMA.Predictions_scaled_ARIMA, label=\"Predicted_Arima\")\n",
        "plt.legend(loc = 'upper left')\n",
        "plt.show()"
      ],
      "metadata": {
        "id": "BBc7fUke2dwi",
        "colab": {
          "base_uri": "https://localhost:8080/",
          "height": 320
        },
        "outputId": "f74d8f95-75c8-40fa-d567-e983cfe14ba0"
      },
      "execution_count": 20,
      "outputs": [
        {
          "output_type": "display_data",
          "data": {
            "text/plain": [
              "<Figure size 576x360 with 1 Axes>"
            ],
            "image/png": "[encoded data removed]"
          },
          "metadata": {
            "needs_background": "light"
          }
        }
      ]
    },
    {
      "cell_type": "code",
      "source": [
        "def evaluate_prediction(predicted, actual, model_name):\n",
        "        mse = mean_squared_error(predicted, actual)\n",
        "        rsme = np.sqrt((mean_squared_error(predicted, actual)))\n",
        "        mae = mean_absolute_error(actual, predicted)\n",
        "        r2 = r2_score(actual, predicted)\n",
        "        max_err = max_error(actual, predicted)\n",
        "        print(colored(model_name + ' performance:', 'red'))\n",
        "        print('R^2: {:.4f} %'.format(r2 * 100))\n",
        "        print('Mean Absolute Error: {:.4f}'.format(mae))\n",
        "        print('Mean Squared Error: {:.4f}'.format(mse))\n",
        "        print('Root Mean Squared Error: {:.4f}'.format(rsme))\n",
        "        print('Max_error: {:.4f}'.format(max_err))\n",
        "        print('')\n",
        "        return\n",
        "\n",
        "evaluate_prediction(prediction_ARIMA.Predictions_scaled_ARIMA, test_data.Close, 'ARIMA')"
      ],
      "metadata": {
        "id": "4UM-cjx78nD3",
        "colab": {
          "base_uri": "https://localhost:8080/"
        },
        "outputId": "10764770-1eb7-4810-d929-111ce404dfd0"
      },
      "execution_count": 21,
      "outputs": [
        {
          "output_type": "stream",
          "name": "stdout",
          "text": [
            "\u001b[31mARIMA performance:\u001b[0m\n",
            "R^2: 58.4180 %\n",
            "Mean Absolute Error: 12.5665\n",
            "Mean Squared Error: 240.6616\n",
            "Root Mean Squared Error: 15.5133\n",
            "Max_error: 39.9192\n",
            "\n"
          ]
        }
      ]
    },
    {
      "cell_type": "markdown",
      "source": [
        "# ARIMAX"
      ],
      "metadata": {
        "id": "IXyxfawArRAK"
      }
    },
    {
      "cell_type": "code",
      "source": [
        "exogenous_features = [\"Open\", \"High\", \"Low\", \"Adj Close\", \"Volume\"]"
      ],
      "metadata": {
        "id": "I_4IPy-GJpsn"
      },
      "execution_count": 22,
      "outputs": []
    },
    {
      "cell_type": "code",
      "source": [
        "train_data_exog = train_data[exogenous_features]\n",
        "test_data_exog = test_data[exogenous_features]"
      ],
      "metadata": {
        "id": "Cz0c93Uuy0Uq"
      },
      "execution_count": 23,
      "outputs": []
    },
    {
      "cell_type": "code",
      "source": [
        "train_data_exog"
      ],
      "metadata": {
        "colab": {
          "base_uri": "https://localhost:8080/",
          "height": 455
        },
        "id": "mOL-pAAdCDF7",
        "outputId": "2b2d87bc-96dd-44e1-c08f-1e6f06b7a29d"
      },
      "execution_count": 24,
      "outputs": [
        {
          "output_type": "execute_result",
          "data": {
            "text/plain": [
              "                 Open       High        Low  Adj Close    Volume\n",
              "Date                                                            \n",
              "1970-01-02   1.710938   1.722656   1.708984   0.399508    832000\n",
              "1970-01-05   1.718750   1.730469   1.708984   0.401324    518400\n",
              "1970-01-06   1.722656   1.722656   1.707031   0.399508    480000\n",
              "1970-01-07   1.722656   1.750000   1.722656   0.405864    710400\n",
              "1970-01-08   1.746094   1.773438   1.742188   0.410404    531200\n",
              "...               ...        ...        ...        ...       ...\n",
              "2016-11-11  82.669998  84.059998  82.650002  72.096420   8905700\n",
              "2016-11-14  83.559998  83.779999  82.760002  71.596107  12862500\n",
              "2016-11-15  84.580002  84.580002  82.879997  72.130943   9464000\n",
              "2016-11-16  83.980003  84.199997  83.169998  71.760017   8542900\n",
              "2016-11-17  83.269997  83.500000  82.930000  71.656502   9083700\n",
              "\n",
              "[11830 rows x 5 columns]"
            ],
            "text/html": [
              "\n",
              "  <div id=\"df-4741926e-0ed2-4848-9f63-e8848ff30537\">\n",
              "    <div class=\"colab-df-container\">\n",
              "      <div>\n",
              "<style scoped>\n",
              "    .dataframe tbody tr th:only-of-type {\n",
              "        vertical-align: middle;\n",
              "    }\n",
              "\n",
              "    .dataframe tbody tr th {\n",
              "        vertical-align: top;\n",
              "    }\n",
              "\n",
              "    .dataframe thead th {\n",
              "        text-align: right;\n",
              "    }\n",
              "</style>\n",
              "<table border=\"1\" class=\"dataframe\">\n",
              "  <thead>\n",
              "    <tr style=\"text-align: right;\">\n",
              "      <th></th>\n",
              "      <th>Open</th>\n",
              "      <th>High</th>\n",
              "      <th>Low</th>\n",
              "      <th>Adj Close</th>\n",
              "      <th>Volume</th>\n",
              "    </tr>\n",
              "    <tr>\n",
              "      <th>Date</th>\n",
              "      <th></th>\n",
              "      <th></th>\n",
              "      <th></th>\n",
              "      <th></th>\n",
              "      <th></th>\n",
              "    </tr>\n",
              "  </thead>\n",
              "  <tbody>\n",
              "    <tr>\n",
              "      <th>1970-01-02</th>\n",
              "      <td>1.710938</td>\n",
              "      <td>1.722656</td>\n",
              "      <td>1.708984</td>\n",
              "      <td>0.399508</td>\n",
              "      <td>832000</td>\n",
              "    </tr>\n",
              "    <tr>\n",
              "      <th>1970-01-05</th>\n",
              "      <td>1.718750</td>\n",
              "      <td>1.730469</td>\n",
              "      <td>1.708984</td>\n",
              "      <td>0.401324</td>\n",
              "      <td>518400</td>\n",
              "    </tr>\n",
              "    <tr>\n",
              "      <th>1970-01-06</th>\n",
              "      <td>1.722656</td>\n",
              "      <td>1.722656</td>\n",
              "      <td>1.707031</td>\n",
              "      <td>0.399508</td>\n",
              "      <td>480000</td>\n",
              "    </tr>\n",
              "    <tr>\n",
              "      <th>1970-01-07</th>\n",
              "      <td>1.722656</td>\n",
              "      <td>1.750000</td>\n",
              "      <td>1.722656</td>\n",
              "      <td>0.405864</td>\n",
              "      <td>710400</td>\n",
              "    </tr>\n",
              "    <tr>\n",
              "      <th>1970-01-08</th>\n",
              "      <td>1.746094</td>\n",
              "      <td>1.773438</td>\n",
              "      <td>1.742188</td>\n",
              "      <td>0.410404</td>\n",
              "      <td>531200</td>\n",
              "    </tr>\n",
              "    <tr>\n",
              "      <th>...</th>\n",
              "      <td>...</td>\n",
              "      <td>...</td>\n",
              "      <td>...</td>\n",
              "      <td>...</td>\n",
              "      <td>...</td>\n",
              "    </tr>\n",
              "    <tr>\n",
              "      <th>2016-11-11</th>\n",
              "      <td>82.669998</td>\n",
              "      <td>84.059998</td>\n",
              "      <td>82.650002</td>\n",
              "      <td>72.096420</td>\n",
              "      <td>8905700</td>\n",
              "    </tr>\n",
              "    <tr>\n",
              "      <th>2016-11-14</th>\n",
              "      <td>83.559998</td>\n",
              "      <td>83.779999</td>\n",
              "      <td>82.760002</td>\n",
              "      <td>71.596107</td>\n",
              "      <td>12862500</td>\n",
              "    </tr>\n",
              "    <tr>\n",
              "      <th>2016-11-15</th>\n",
              "      <td>84.580002</td>\n",
              "      <td>84.580002</td>\n",
              "      <td>82.879997</td>\n",
              "      <td>72.130943</td>\n",
              "      <td>9464000</td>\n",
              "    </tr>\n",
              "    <tr>\n",
              "      <th>2016-11-16</th>\n",
              "      <td>83.980003</td>\n",
              "      <td>84.199997</td>\n",
              "      <td>83.169998</td>\n",
              "      <td>71.760017</td>\n",
              "      <td>8542900</td>\n",
              "    </tr>\n",
              "    <tr>\n",
              "      <th>2016-11-17</th>\n",
              "      <td>83.269997</td>\n",
              "      <td>83.500000</td>\n",
              "      <td>82.930000</td>\n",
              "      <td>71.656502</td>\n",
              "      <td>9083700</td>\n",
              "    </tr>\n",
              "  </tbody>\n",
              "</table>\n",
              "<p>11830 rows × 5 columns</p>\n",
              "</div>\n",
              "      <button class=\"colab-df-convert\" onclick=\"convertToInteractive('df-4741926e-0ed2-4848-9f63-e8848ff30537')\"\n",
              "              title=\"Convert this dataframe to an interactive table.\"\n",
              "              style=\"display:none;\">\n",
              "        \n",
              "  <svg xmlns=\"http://www.w3.org/2000/svg\" height=\"24px\"viewBox=\"0 0 24 24\"\n",
              "       width=\"24px\">\n",
              "    <path d=\"M0 0h24v24H0V0z\" fill=\"none\"/>\n",
              "    <path d=\"M18.56 5.44l.94 2.06.94-2.06 2.06-.94-2.06-.94-.94-2.06-.94 2.06-2.06.94zm-11 1L8.5 8.5l.94-2.06 2.06-.94-2.06-.94L8.5 2.5l-.94 2.06-2.06.94zm10 10l.94 2.06.94-2.06 2.06-.94-2.06-.94-.94-2.06-.94 2.06-2.06.94z\"/><path d=\"M17.41 7.96l-1.37-1.37c-.4-.4-.92-.59-1.43-.59-.52 0-1.04.2-1.43.59L10.3 9.45l-7.72 7.72c-.78.78-.78 2.05 0 2.83L4 21.41c.39.39.9.59 1.41.59.51 0 1.02-.2 1.41-.59l7.78-7.78 2.81-2.81c.8-.78.8-2.07 0-2.86zM5.41 20L4 18.59l7.72-7.72 1.47 1.35L5.41 20z\"/>\n",
              "  </svg>\n",
              "      </button>\n",
              "      \n",
              "  <style>\n",
              "    .colab-df-container {\n",
              "      display:flex;\n",
              "      flex-wrap:wrap;\n",
              "      gap: 12px;\n",
              "    }\n",
              "\n",
              "    .colab-df-convert {\n",
              "      background-color: #E8F0FE;\n",
              "      border: none;\n",
              "      border-radius: 50%;\n",
              "      cursor: pointer;\n",
              "      display: none;\n",
              "      fill: #1967D2;\n",
              "      height: 32px;\n",
              "      padding: 0 0 0 0;\n",
              "      width: 32px;\n",
              "    }\n",
              "\n",
              "    .colab-df-convert:hover {\n",
              "      background-color: #E2EBFA;\n",
              "      box-shadow: 0px 1px 2px rgba(60, 64, 67, 0.3), 0px 1px 3px 1px rgba(60, 64, 67, 0.15);\n",
              "      fill: #174EA6;\n",
              "    }\n",
              "\n",
              "    [theme=dark] .colab-df-convert {\n",
              "      background-color: #3B4455;\n",
              "      fill: #D2E3FC;\n",
              "    }\n",
              "\n",
              "    [theme=dark] .colab-df-convert:hover {\n",
              "      background-color: #434B5C;\n",
              "      box-shadow: 0px 1px 3px 1px rgba(0, 0, 0, 0.15);\n",
              "      filter: drop-shadow(0px 1px 2px rgba(0, 0, 0, 0.3));\n",
              "      fill: #FFFFFF;\n",
              "    }\n",
              "  </style>\n",
              "\n",
              "      <script>\n",
              "        const buttonEl =\n",
              "          document.querySelector('#df-4741926e-0ed2-4848-9f63-e8848ff30537 button.colab-df-convert');\n",
              "        buttonEl.style.display =\n",
              "          google.colab.kernel.accessAllowed ? 'block' : 'none';\n",
              "\n",
              "        async function convertToInteractive(key) {\n",
              "          const element = document.querySelector('#df-4741926e-0ed2-4848-9f63-e8848ff30537');\n",
              "          const dataTable =\n",
              "            await google.colab.kernel.invokeFunction('convertToInteractive',\n",
              "                                                     [key], {});\n",
              "          if (!dataTable) return;\n",
              "\n",
              "          const docLinkHtml = 'Like what you see? Visit the ' +\n",
              "            '<a target=\"_blank\" href=https://colab.research.google.com/notebooks/data_table.ipynb>data table notebook</a>'\n",
              "            + ' to learn more about interactive tables.';\n",
              "          element.innerHTML = '';\n",
              "          dataTable['output_type'] = 'display_data';\n",
              "          await google.colab.output.renderOutput(dataTable, element);\n",
              "          const docLink = document.createElement('div');\n",
              "          docLink.innerHTML = docLinkHtml;\n",
              "          element.appendChild(docLink);\n",
              "        }\n",
              "      </script>\n",
              "    </div>\n",
              "  </div>\n",
              "  "
            ]
          },
          "metadata": {},
          "execution_count": 24
        }
      ]
    },
    {
      "cell_type": "code",
      "source": [
        "from sklearn.preprocessing import PowerTransformer\n",
        "\n",
        "pt_exog = PowerTransformer(method='box-cox')\n",
        "train_data_exog = pt_exog.fit_transform(train_data_exog)\n",
        "test_data_exog = pt_exog.transform(test_data_exog)"
      ],
      "metadata": {
        "id": "Quz2RJfFy_YM"
      },
      "execution_count": 25,
      "outputs": []
    },
    {
      "cell_type": "code",
      "source": [
        "print(train_data_exog.shape)\n",
        "train_data_exog"
      ],
      "metadata": {
        "colab": {
          "base_uri": "https://localhost:8080/"
        },
        "id": "MaOXWMoO22iM",
        "outputId": "a18be31c-7afa-422d-a800-44d123fa1721"
      },
      "execution_count": 26,
      "outputs": [
        {
          "output_type": "stream",
          "name": "stdout",
          "text": [
            "(11830, 5)\n"
          ]
        },
        {
          "output_type": "execute_result",
          "data": {
            "text/plain": [
              "array([[-1.47234891, -1.47276132, -1.46816971, -1.52626341, -1.33346299],\n",
              "       [-1.46915503, -1.46959532, -1.46816971, -1.52386818, -1.64450568],\n",
              "       [-1.46756341, -1.47276132, -1.46897317, -1.52626341, -1.69176173],\n",
              "       ...,\n",
              "       [ 1.37891092,  1.37277941,  1.36928163,  1.46995359,  0.98666698],\n",
              "       [ 1.37348861,  1.36934439,  1.37193674,  1.46671573,  0.85838335],\n",
              "       [ 1.36702295,  1.36297696,  1.36974009,  1.46580924,  0.93489456]])"
            ]
          },
          "metadata": {},
          "execution_count": 26
        }
      ]
    },
    {
      "cell_type": "code",
      "source": [
        "print(test_data_exog.shape)\n",
        "test_data_exog"
      ],
      "metadata": {
        "colab": {
          "base_uri": "https://localhost:8080/"
        },
        "id": "rog1anJh25I3",
        "outputId": "bf846230-4f74-4f49-99f1-0e4e5a9899ea"
      },
      "execution_count": 27,
      "outputs": [
        {
          "output_type": "stream",
          "name": "stdout",
          "text": [
            "(1315, 5)\n"
          ]
        },
        {
          "output_type": "execute_result",
          "data": {
            "text/plain": [
              "array([[1.36381581, 1.35931493, 1.36107603, 1.45767023, 1.56382861],\n",
              "       [1.355322  , 1.35609652, 1.35847644, 1.46255066, 1.23784191],\n",
              "       [1.36464181, 1.36004873, 1.36726141, 1.46346178, 0.68809219],\n",
              "       ...,\n",
              "       [1.87676157, 1.87340952, 1.87101879, 1.97833535, 0.51901601],\n",
              "       [1.87317511, 1.86867298, 1.87092228, 1.97688533, 0.24814466],\n",
              "       [1.86952415, 1.86564394, 1.86908681, 1.97543215, 0.78954553]])"
            ]
          },
          "metadata": {},
          "execution_count": 27
        }
      ]
    },
    {
      "cell_type": "code",
      "source": [
        "model_autoARIMAX = auto_arima(train_data_endog , exogenous=train_data_exog, start_p=0, start_q=0,\n",
        "                      test='adf',       # use adftest to find optimal 'd'\n",
        "                      max_p=1, max_q=1, # maximum p and q\n",
        "                      m=1,              # frequency of series\n",
        "                      d=None,           # let model determine 'd'\n",
        "                      seasonal=False,   # No Seasonality\n",
        "                      trace=True,\n",
        "                      error_action='ignore',  \n",
        "                      suppress_warnings=True, \n",
        "                      stepwise=True)"
      ],
      "metadata": {
        "colab": {
          "base_uri": "https://localhost:8080/"
        },
        "outputId": "2676dfde-cd55-4dad-8e8b-e5e46182e5f1",
        "id": "LEo1DjBSjQuv"
      },
      "execution_count": 28,
      "outputs": [
        {
          "output_type": "stream",
          "name": "stdout",
          "text": [
            "Performing stepwise search to minimize aic\n",
            " ARIMA(0,0,0)(0,0,0)[0]             : AIC=-93441.338, Time=13.44 sec\n",
            " ARIMA(1,0,0)(0,0,0)[0]             : AIC=-93459.971, Time=5.10 sec\n",
            " ARIMA(0,0,1)(0,0,0)[0]             : AIC=-93458.852, Time=6.79 sec\n",
            " ARIMA(1,0,1)(0,0,0)[0]             : AIC=-93462.868, Time=3.03 sec\n",
            " ARIMA(1,0,1)(0,0,0)[0] intercept   : AIC=-93460.868, Time=3.93 sec\n",
            "\n",
            "Best model:  ARIMA(1,0,1)(0,0,0)[0]          \n",
            "Total fit time: 32.365 seconds\n"
          ]
        }
      ]
    },
    {
      "cell_type": "code",
      "source": [
        "#Summary of the model\n",
        "model_autoARIMAX.summary()"
      ],
      "metadata": {
        "colab": {
          "base_uri": "https://localhost:8080/",
          "height": 527
        },
        "outputId": "b33f5b6c-b06c-4f07-b61c-fa500ad7d0af",
        "id": "lq7upEkEjQux"
      },
      "execution_count": 29,
      "outputs": [
        {
          "output_type": "execute_result",
          "data": {
            "text/plain": [
              "<class 'statsmodels.iolib.summary.Summary'>\n",
              "\"\"\"\n",
              "                               SARIMAX Results                                \n",
              "==============================================================================\n",
              "Dep. Variable:                      y   No. Observations:                11830\n",
              "Model:               SARIMAX(1, 0, 1)   Log Likelihood               46739.434\n",
              "Date:                Fri, 22 Apr 2022   AIC                         -93462.868\n",
              "Time:                        19:06:58   BIC                         -93403.841\n",
              "Sample:                             0   HQIC                        -93443.053\n",
              "                              - 11830                                         \n",
              "Covariance Type:                  opg                                         \n",
              "==============================================================================\n",
              "                 coef    std err          z      P>|z|      [0.025      0.975]\n",
              "------------------------------------------------------------------------------\n",
              "x1            -0.3714      0.003   -109.319      0.000      -0.378      -0.365\n",
              "x2             0.8118      0.003    297.778      0.000       0.806       0.817\n",
              "x3             0.5474      0.001    585.399      0.000       0.546       0.549\n",
              "x4             0.0130      0.001     16.817      0.000       0.012       0.015\n",
              "x5            -0.0011   6.31e-05    -17.151      0.000      -0.001      -0.001\n",
              "ar.L1         -0.3625      0.123     -2.948      0.003      -0.604      -0.121\n",
              "ma.L1          0.3215      0.123      2.608      0.009       0.080       0.563\n",
              "sigma2      2.167e-05    7.8e-08    277.871      0.000    2.15e-05    2.18e-05\n",
              "===================================================================================\n",
              "Ljung-Box (L1) (Q):                   0.00   Jarque-Bera (JB):          20599475.04\n",
              "Prob(Q):                              0.98   Prob(JB):                         0.00\n",
              "Heteroskedasticity (H):               1.38   Skew:                             1.58\n",
              "Prob(H) (two-sided):                  0.00   Kurtosis:                       207.40\n",
              "===================================================================================\n",
              "\n",
              "Warnings:\n",
              "[1] Covariance matrix calculated using the outer product of gradients (complex-step).\n",
              "\"\"\""
            ],
            "text/html": [
              "<table class=\"simpletable\">\n",
              "<caption>SARIMAX Results</caption>\n",
              "<tr>\n",
              "  <th>Dep. Variable:</th>           <td>y</td>        <th>  No. Observations:  </th>    <td>11830</td>  \n",
              "</tr>\n",
              "<tr>\n",
              "  <th>Model:</th>           <td>SARIMAX(1, 0, 1)</td> <th>  Log Likelihood     </th>  <td>46739.434</td>\n",
              "</tr>\n",
              "<tr>\n",
              "  <th>Date:</th>            <td>Fri, 22 Apr 2022</td> <th>  AIC                </th> <td>-93462.868</td>\n",
              "</tr>\n",
              "<tr>\n",
              "  <th>Time:</th>                <td>19:06:58</td>     <th>  BIC                </th> <td>-93403.841</td>\n",
              "</tr>\n",
              "<tr>\n",
              "  <th>Sample:</th>                  <td>0</td>        <th>  HQIC               </th> <td>-93443.053</td>\n",
              "</tr>\n",
              "<tr>\n",
              "  <th></th>                     <td> - 11830</td>     <th>                     </th>      <td> </td>    \n",
              "</tr>\n",
              "<tr>\n",
              "  <th>Covariance Type:</th>        <td>opg</td>       <th>                     </th>      <td> </td>    \n",
              "</tr>\n",
              "</table>\n",
              "<table class=\"simpletable\">\n",
              "<tr>\n",
              "     <td></td>       <th>coef</th>     <th>std err</th>      <th>z</th>      <th>P>|z|</th>  <th>[0.025</th>    <th>0.975]</th>  \n",
              "</tr>\n",
              "<tr>\n",
              "  <th>x1</th>     <td>   -0.3714</td> <td>    0.003</td> <td> -109.319</td> <td> 0.000</td> <td>   -0.378</td> <td>   -0.365</td>\n",
              "</tr>\n",
              "<tr>\n",
              "  <th>x2</th>     <td>    0.8118</td> <td>    0.003</td> <td>  297.778</td> <td> 0.000</td> <td>    0.806</td> <td>    0.817</td>\n",
              "</tr>\n",
              "<tr>\n",
              "  <th>x3</th>     <td>    0.5474</td> <td>    0.001</td> <td>  585.399</td> <td> 0.000</td> <td>    0.546</td> <td>    0.549</td>\n",
              "</tr>\n",
              "<tr>\n",
              "  <th>x4</th>     <td>    0.0130</td> <td>    0.001</td> <td>   16.817</td> <td> 0.000</td> <td>    0.012</td> <td>    0.015</td>\n",
              "</tr>\n",
              "<tr>\n",
              "  <th>x5</th>     <td>   -0.0011</td> <td> 6.31e-05</td> <td>  -17.151</td> <td> 0.000</td> <td>   -0.001</td> <td>   -0.001</td>\n",
              "</tr>\n",
              "<tr>\n",
              "  <th>ar.L1</th>  <td>   -0.3625</td> <td>    0.123</td> <td>   -2.948</td> <td> 0.003</td> <td>   -0.604</td> <td>   -0.121</td>\n",
              "</tr>\n",
              "<tr>\n",
              "  <th>ma.L1</th>  <td>    0.3215</td> <td>    0.123</td> <td>    2.608</td> <td> 0.009</td> <td>    0.080</td> <td>    0.563</td>\n",
              "</tr>\n",
              "<tr>\n",
              "  <th>sigma2</th> <td> 2.167e-05</td> <td>  7.8e-08</td> <td>  277.871</td> <td> 0.000</td> <td> 2.15e-05</td> <td> 2.18e-05</td>\n",
              "</tr>\n",
              "</table>\n",
              "<table class=\"simpletable\">\n",
              "<tr>\n",
              "  <th>Ljung-Box (L1) (Q):</th>     <td>0.00</td> <th>  Jarque-Bera (JB):  </th> <td>20599475.04</td>\n",
              "</tr>\n",
              "<tr>\n",
              "  <th>Prob(Q):</th>                <td>0.98</td> <th>  Prob(JB):          </th>    <td>0.00</td>    \n",
              "</tr>\n",
              "<tr>\n",
              "  <th>Heteroskedasticity (H):</th> <td>1.38</td> <th>  Skew:              </th>    <td>1.58</td>    \n",
              "</tr>\n",
              "<tr>\n",
              "  <th>Prob(H) (two-sided):</th>    <td>0.00</td> <th>  Kurtosis:          </th>   <td>207.40</td>   \n",
              "</tr>\n",
              "</table><br/><br/>Warnings:<br/>[1] Covariance matrix calculated using the outer product of gradients (complex-step)."
            ]
          },
          "metadata": {},
          "execution_count": 29
        }
      ]
    },
    {
      "cell_type": "code",
      "source": [
        "model_autoARIMAX.plot_diagnostics(figsize=(10,8))\n",
        "plt.show()"
      ],
      "metadata": {
        "colab": {
          "base_uri": "https://localhost:8080/",
          "height": 513
        },
        "outputId": "207fdd32-290d-4677-ccba-5c47db1754d9",
        "id": "JEgV2YivjQux"
      },
      "execution_count": 30,
      "outputs": [
        {
          "output_type": "display_data",
          "data": {
            "text/plain": [
              "<Figure size 720x576 with 4 Axes>"
            ],
            "image/png": "[encoded data removed]"
          },
          "metadata": {
            "needs_background": "light"
          }
        }
      ]
    },
    {
      "cell_type": "code",
      "source": [
        "prediction_ARIMAX = pd.DataFrame(model_autoARIMAX.predict(n_periods = 1315, exogenous=test_data_exog), index=test_data.index)\n",
        "prediction_ARIMAX.columns = ['Predictions_ARIMAX']\n",
        "prediction_rescaled_ARIMAX = pt_endog.inverse_transform(prediction_ARIMAX.values)\n",
        "prediction_ARIMAX['Predictions_scaled_ARIMAX'] = prediction_rescaled_ARIMAX\n",
        "prediction_ARIMAX"
      ],
      "metadata": {
        "colab": {
          "base_uri": "https://localhost:8080/",
          "height": 455
        },
        "outputId": "cfd2f1cc-5fea-419b-e531-a7ae7bcfea2c",
        "id": "hIrDGLoyjQux"
      },
      "execution_count": 31,
      "outputs": [
        {
          "output_type": "execute_result",
          "data": {
            "text/plain": [
              "            Predictions_ARIMAX  Predictions_scaled_ARIMAX\n",
              "Date                                                     \n",
              "2016-11-18            1.359357                  82.499782\n",
              "2016-11-21            1.358871                  82.447099\n",
              "2016-11-22            1.364042                  83.008902\n",
              "2016-11-23            1.362851                  82.879181\n",
              "2016-11-25            1.368490                  83.495167\n",
              "...                        ...                        ...\n",
              "2022-02-03            1.888161                 164.376424\n",
              "2022-02-04            1.883795                 163.450274\n",
              "2022-02-07            1.873240                 161.232246\n",
              "2022-02-08            1.870948                 160.754656\n",
              "2022-02-09            1.868235                 160.191026\n",
              "\n",
              "[1315 rows x 2 columns]"
            ],
            "text/html": [
              "\n",
              "  <div id=\"df-e092ba5f-95d1-45a7-beb0-1f11f8014ce8\">\n",
              "    <div class=\"colab-df-container\">\n",
              "      <div>\n",
              "<style scoped>\n",
              "    .dataframe tbody tr th:only-of-type {\n",
              "        vertical-align: middle;\n",
              "    }\n",
              "\n",
              "    .dataframe tbody tr th {\n",
              "        vertical-align: top;\n",
              "    }\n",
              "\n",
              "    .dataframe thead th {\n",
              "        text-align: right;\n",
              "    }\n",
              "</style>\n",
              "<table border=\"1\" class=\"dataframe\">\n",
              "  <thead>\n",
              "    <tr style=\"text-align: right;\">\n",
              "      <th></th>\n",
              "      <th>Predictions_ARIMAX</th>\n",
              "      <th>Predictions_scaled_ARIMAX</th>\n",
              "    </tr>\n",
              "    <tr>\n",
              "      <th>Date</th>\n",
              "      <th></th>\n",
              "      <th></th>\n",
              "    </tr>\n",
              "  </thead>\n",
              "  <tbody>\n",
              "    <tr>\n",
              "      <th>2016-11-18</th>\n",
              "      <td>1.359357</td>\n",
              "      <td>82.499782</td>\n",
              "    </tr>\n",
              "    <tr>\n",
              "      <th>2016-11-21</th>\n",
              "      <td>1.358871</td>\n",
              "      <td>82.447099</td>\n",
              "    </tr>\n",
              "    <tr>\n",
              "      <th>2016-11-22</th>\n",
              "      <td>1.364042</td>\n",
              "      <td>83.008902</td>\n",
              "    </tr>\n",
              "    <tr>\n",
              "      <th>2016-11-23</th>\n",
              "      <td>1.362851</td>\n",
              "      <td>82.879181</td>\n",
              "    </tr>\n",
              "    <tr>\n",
              "      <th>2016-11-25</th>\n",
              "      <td>1.368490</td>\n",
              "      <td>83.495167</td>\n",
              "    </tr>\n",
              "    <tr>\n",
              "      <th>...</th>\n",
              "      <td>...</td>\n",
              "      <td>...</td>\n",
              "    </tr>\n",
              "    <tr>\n",
              "      <th>2022-02-03</th>\n",
              "      <td>1.888161</td>\n",
              "      <td>164.376424</td>\n",
              "    </tr>\n",
              "    <tr>\n",
              "      <th>2022-02-04</th>\n",
              "      <td>1.883795</td>\n",
              "      <td>163.450274</td>\n",
              "    </tr>\n",
              "    <tr>\n",
              "      <th>2022-02-07</th>\n",
              "      <td>1.873240</td>\n",
              "      <td>161.232246</td>\n",
              "    </tr>\n",
              "    <tr>\n",
              "      <th>2022-02-08</th>\n",
              "      <td>1.870948</td>\n",
              "      <td>160.754656</td>\n",
              "    </tr>\n",
              "    <tr>\n",
              "      <th>2022-02-09</th>\n",
              "      <td>1.868235</td>\n",
              "      <td>160.191026</td>\n",
              "    </tr>\n",
              "  </tbody>\n",
              "</table>\n",
              "<p>1315 rows × 2 columns</p>\n",
              "</div>\n",
              "      <button class=\"colab-df-convert\" onclick=\"convertToInteractive('df-e092ba5f-95d1-45a7-beb0-1f11f8014ce8')\"\n",
              "              title=\"Convert this dataframe to an interactive table.\"\n",
              "              style=\"display:none;\">\n",
              "        \n",
              "  <svg xmlns=\"http://www.w3.org/2000/svg\" height=\"24px\"viewBox=\"0 0 24 24\"\n",
              "       width=\"24px\">\n",
              "    <path d=\"M0 0h24v24H0V0z\" fill=\"none\"/>\n",
              "    <path d=\"M18.56 5.44l.94 2.06.94-2.06 2.06-.94-2.06-.94-.94-2.06-.94 2.06-2.06.94zm-11 1L8.5 8.5l.94-2.06 2.06-.94-2.06-.94L8.5 2.5l-.94 2.06-2.06.94zm10 10l.94 2.06.94-2.06 2.06-.94-2.06-.94-.94-2.06-.94 2.06-2.06.94z\"/><path d=\"M17.41 7.96l-1.37-1.37c-.4-.4-.92-.59-1.43-.59-.52 0-1.04.2-1.43.59L10.3 9.45l-7.72 7.72c-.78.78-.78 2.05 0 2.83L4 21.41c.39.39.9.59 1.41.59.51 0 1.02-.2 1.41-.59l7.78-7.78 2.81-2.81c.8-.78.8-2.07 0-2.86zM5.41 20L4 18.59l7.72-7.72 1.47 1.35L5.41 20z\"/>\n",
              "  </svg>\n",
              "      </button>\n",
              "      \n",
              "  <style>\n",
              "    .colab-df-container {\n",
              "      display:flex;\n",
              "      flex-wrap:wrap;\n",
              "      gap: 12px;\n",
              "    }\n",
              "\n",
              "    .colab-df-convert {\n",
              "      background-color: #E8F0FE;\n",
              "      border: none;\n",
              "      border-radius: 50%;\n",
              "      cursor: pointer;\n",
              "      display: none;\n",
              "      fill: #1967D2;\n",
              "      height: 32px;\n",
              "      padding: 0 0 0 0;\n",
              "      width: 32px;\n",
              "    }\n",
              "\n",
              "    .colab-df-convert:hover {\n",
              "      background-color: #E2EBFA;\n",
              "      box-shadow: 0px 1px 2px rgba(60, 64, 67, 0.3), 0px 1px 3px 1px rgba(60, 64, 67, 0.15);\n",
              "      fill: #174EA6;\n",
              "    }\n",
              "\n",
              "    [theme=dark] .colab-df-convert {\n",
              "      background-color: #3B4455;\n",
              "      fill: #D2E3FC;\n",
              "    }\n",
              "\n",
              "    [theme=dark] .colab-df-convert:hover {\n",
              "      background-color: #434B5C;\n",
              "      box-shadow: 0px 1px 3px 1px rgba(0, 0, 0, 0.15);\n",
              "      filter: drop-shadow(0px 1px 2px rgba(0, 0, 0, 0.3));\n",
              "      fill: #FFFFFF;\n",
              "    }\n",
              "  </style>\n",
              "\n",
              "      <script>\n",
              "        const buttonEl =\n",
              "          document.querySelector('#df-e092ba5f-95d1-45a7-beb0-1f11f8014ce8 button.colab-df-convert');\n",
              "        buttonEl.style.display =\n",
              "          google.colab.kernel.accessAllowed ? 'block' : 'none';\n",
              "\n",
              "        async function convertToInteractive(key) {\n",
              "          const element = document.querySelector('#df-e092ba5f-95d1-45a7-beb0-1f11f8014ce8');\n",
              "          const dataTable =\n",
              "            await google.colab.kernel.invokeFunction('convertToInteractive',\n",
              "                                                     [key], {});\n",
              "          if (!dataTable) return;\n",
              "\n",
              "          const docLinkHtml = 'Like what you see? Visit the ' +\n",
              "            '<a target=\"_blank\" href=https://colab.research.google.com/notebooks/data_table.ipynb>data table notebook</a>'\n",
              "            + ' to learn more about interactive tables.';\n",
              "          element.innerHTML = '';\n",
              "          dataTable['output_type'] = 'display_data';\n",
              "          await google.colab.output.renderOutput(dataTable, element);\n",
              "          const docLink = document.createElement('div');\n",
              "          docLink.innerHTML = docLinkHtml;\n",
              "          element.appendChild(docLink);\n",
              "        }\n",
              "      </script>\n",
              "    </div>\n",
              "  </div>\n",
              "  "
            ]
          },
          "metadata": {},
          "execution_count": 31
        }
      ]
    },
    {
      "cell_type": "code",
      "source": [
        "plt.figure(figsize=(8,5))\n",
        "plt.plot(train_data.Close ,label=\"Training\")\n",
        "plt.plot(test_data.Close ,label=\"Test\")\n",
        "plt.plot(prediction_ARIMAX.Predictions_scaled_ARIMAX, label=\"Predicted_Arimax\")\n",
        "plt.legend(loc = 'upper left')\n",
        "plt.show()"
      ],
      "metadata": {
        "colab": {
          "base_uri": "https://localhost:8080/",
          "height": 320
        },
        "outputId": "bb84c91e-91b7-4b69-e01d-fceaae8a9867",
        "id": "Muk9jajujQux"
      },
      "execution_count": 32,
      "outputs": [
        {
          "output_type": "display_data",
          "data": {
            "text/plain": [
              "<Figure size 576x360 with 1 Axes>"
            ],
            "image/png": "[encoded data removed]"
          },
          "metadata": {
            "needs_background": "light"
          }
        }
      ]
    },
    {
      "cell_type": "code",
      "source": [
        "def evaluate_prediction(predicted, actual, model_name):\n",
        "        mse = mean_squared_error(predicted, actual)\n",
        "        rsme = np.sqrt((mean_squared_error(predicted, actual)))\n",
        "        mae = mean_absolute_error(actual, predicted)\n",
        "        r2 = r2_score(actual, predicted)\n",
        "        max_err = max_error(actual, predicted)\n",
        "        print(colored(model_name + ' performance:', 'red'))\n",
        "        print('R^2: {:.4f} %'.format(r2 * 100))\n",
        "        print('Mean Absolute Error: {:.4f}'.format(mae))\n",
        "        print('Mean Squared Error: {:.4f}'.format(mse))\n",
        "        print('Root Mean Squared Error: {:.4f}'.format(rsme))\n",
        "        print('Max_error: {:.4f}'.format(max_err))\n",
        "        print('')\n",
        "        return\n",
        "\n",
        "evaluate_prediction(prediction_ARIMAX.Predictions_scaled_ARIMAX, test_data.Close, 'ARIMAX')"
      ],
      "metadata": {
        "colab": {
          "base_uri": "https://localhost:8080/"
        },
        "outputId": "3cb6b544-fd13-4567-e3e1-addafd914619",
        "id": "XGIiDpibjQux"
      },
      "execution_count": 33,
      "outputs": [
        {
          "output_type": "stream",
          "name": "stdout",
          "text": [
            "\u001b[31mARIMAX performance:\u001b[0m\n",
            "R^2: 99.9178 %\n",
            "Mean Absolute Error: 0.4632\n",
            "Mean Squared Error: 0.4759\n",
            "Root Mean Squared Error: 0.6898\n",
            "Max_error: 6.8418\n",
            "\n"
          ]
        }
      ]
    },
    {
      "cell_type": "code",
      "source": [
        "model_autoARIMAX_1 = auto_arima(train_data_endog , exogenous=train_data_exog, start_p=0, start_q=0,\n",
        "                      test='adf',       # use adftest to find optimal 'd'\n",
        "                      max_p=1, max_q=1, # maximum p and q\n",
        "                      m=1,              # frequency of series\n",
        "                      d=1,           # let model determine 'd'\n",
        "                      seasonal=False,   # No Seasonality\n",
        "                      trace=True,\n",
        "                      error_action='ignore',  \n",
        "                      suppress_warnings=True, \n",
        "                      stepwise=True)"
      ],
      "metadata": {
        "id": "KKT1ueupO0BN",
        "colab": {
          "base_uri": "https://localhost:8080/"
        },
        "outputId": "3ac9d351-83fb-459a-a5ec-455539220a68"
      },
      "execution_count": 34,
      "outputs": [
        {
          "output_type": "stream",
          "name": "stdout",
          "text": [
            "Performing stepwise search to minimize aic\n",
            " ARIMA(0,1,0)(0,0,0)[0] intercept   : AIC=-137807.625, Time=7.57 sec\n",
            " ARIMA(1,1,0)(0,0,0)[0] intercept   : AIC=-137812.361, Time=8.45 sec\n",
            " ARIMA(0,1,1)(0,0,0)[0] intercept   : AIC=-137812.561, Time=11.73 sec\n",
            " ARIMA(0,1,0)(0,0,0)[0]             : AIC=-137661.173, Time=18.13 sec\n",
            " ARIMA(1,1,1)(0,0,0)[0] intercept   : AIC=-137803.049, Time=13.83 sec\n",
            " ARIMA(0,1,1)(0,0,0)[0]             : AIC=-137660.685, Time=7.30 sec\n",
            "\n",
            "Best model:  ARIMA(0,1,1)(0,0,0)[0] intercept\n",
            "Total fit time: 67.024 seconds\n"
          ]
        }
      ]
    },
    {
      "cell_type": "code",
      "source": [
        "#Summary of the model\n",
        "model_autoARIMAX_1.summary()"
      ],
      "metadata": {
        "colab": {
          "base_uri": "https://localhost:8080/",
          "height": 527
        },
        "outputId": "a16af2f7-6287-4d0f-91e4-e82641e88e01",
        "id": "Hfo066R2RA6Z"
      },
      "execution_count": 35,
      "outputs": [
        {
          "output_type": "execute_result",
          "data": {
            "text/plain": [
              "<class 'statsmodels.iolib.summary.Summary'>\n",
              "\"\"\"\n",
              "                               SARIMAX Results                                \n",
              "==============================================================================\n",
              "Dep. Variable:                      y   No. Observations:                11830\n",
              "Model:               SARIMAX(0, 1, 1)   Log Likelihood               68914.280\n",
              "Date:                Fri, 22 Apr 2022   AIC                        -137812.561\n",
              "Time:                        19:08:06   BIC                        -137753.534\n",
              "Sample:                             0   HQIC                       -137792.746\n",
              "                              - 11830                                         \n",
              "Covariance Type:                  opg                                         \n",
              "==============================================================================\n",
              "                 coef    std err          z      P>|z|      [0.025      0.975]\n",
              "------------------------------------------------------------------------------\n",
              "intercept  -8.228e-05   1.35e-05     -6.076      0.000      -0.000   -5.57e-05\n",
              "x1            -0.0031      0.001     -5.425      0.000      -0.004      -0.002\n",
              "x2             0.0089      0.001     11.880      0.000       0.007       0.010\n",
              "x3             0.0061      0.000     12.941      0.000       0.005       0.007\n",
              "x4             1.2530      0.001   1813.566      0.000       1.252       1.254\n",
              "x5          1.793e-05   9.69e-06      1.850      0.064   -1.07e-06    3.69e-05\n",
              "ma.L1         -0.0242      0.012     -1.992      0.046      -0.048      -0.000\n",
              "sigma2      5.097e-07   2.43e-09    209.772      0.000    5.05e-07    5.14e-07\n",
              "===================================================================================\n",
              "Ljung-Box (L1) (Q):                   0.00   Jarque-Bera (JB):           2362089.54\n",
              "Prob(Q):                              0.98   Prob(JB):                         0.00\n",
              "Heteroskedasticity (H):               0.66   Skew:                            -7.30\n",
              "Prob(H) (two-sided):                  0.00   Kurtosis:                        70.67\n",
              "===================================================================================\n",
              "\n",
              "Warnings:\n",
              "[1] Covariance matrix calculated using the outer product of gradients (complex-step).\n",
              "\"\"\""
            ],
            "text/html": [
              "<table class=\"simpletable\">\n",
              "<caption>SARIMAX Results</caption>\n",
              "<tr>\n",
              "  <th>Dep. Variable:</th>           <td>y</td>        <th>  No. Observations:  </th>    <td>11830</td>   \n",
              "</tr>\n",
              "<tr>\n",
              "  <th>Model:</th>           <td>SARIMAX(0, 1, 1)</td> <th>  Log Likelihood     </th>  <td>68914.280</td> \n",
              "</tr>\n",
              "<tr>\n",
              "  <th>Date:</th>            <td>Fri, 22 Apr 2022</td> <th>  AIC                </th> <td>-137812.561</td>\n",
              "</tr>\n",
              "<tr>\n",
              "  <th>Time:</th>                <td>19:08:06</td>     <th>  BIC                </th> <td>-137753.534</td>\n",
              "</tr>\n",
              "<tr>\n",
              "  <th>Sample:</th>                  <td>0</td>        <th>  HQIC               </th> <td>-137792.746</td>\n",
              "</tr>\n",
              "<tr>\n",
              "  <th></th>                     <td> - 11830</td>     <th>                     </th>      <td> </td>     \n",
              "</tr>\n",
              "<tr>\n",
              "  <th>Covariance Type:</th>        <td>opg</td>       <th>                     </th>      <td> </td>     \n",
              "</tr>\n",
              "</table>\n",
              "<table class=\"simpletable\">\n",
              "<tr>\n",
              "      <td></td>         <th>coef</th>     <th>std err</th>      <th>z</th>      <th>P>|z|</th>  <th>[0.025</th>    <th>0.975]</th>  \n",
              "</tr>\n",
              "<tr>\n",
              "  <th>intercept</th> <td>-8.228e-05</td> <td> 1.35e-05</td> <td>   -6.076</td> <td> 0.000</td> <td>   -0.000</td> <td>-5.57e-05</td>\n",
              "</tr>\n",
              "<tr>\n",
              "  <th>x1</th>        <td>   -0.0031</td> <td>    0.001</td> <td>   -5.425</td> <td> 0.000</td> <td>   -0.004</td> <td>   -0.002</td>\n",
              "</tr>\n",
              "<tr>\n",
              "  <th>x2</th>        <td>    0.0089</td> <td>    0.001</td> <td>   11.880</td> <td> 0.000</td> <td>    0.007</td> <td>    0.010</td>\n",
              "</tr>\n",
              "<tr>\n",
              "  <th>x3</th>        <td>    0.0061</td> <td>    0.000</td> <td>   12.941</td> <td> 0.000</td> <td>    0.005</td> <td>    0.007</td>\n",
              "</tr>\n",
              "<tr>\n",
              "  <th>x4</th>        <td>    1.2530</td> <td>    0.001</td> <td> 1813.566</td> <td> 0.000</td> <td>    1.252</td> <td>    1.254</td>\n",
              "</tr>\n",
              "<tr>\n",
              "  <th>x5</th>        <td> 1.793e-05</td> <td> 9.69e-06</td> <td>    1.850</td> <td> 0.064</td> <td>-1.07e-06</td> <td> 3.69e-05</td>\n",
              "</tr>\n",
              "<tr>\n",
              "  <th>ma.L1</th>     <td>   -0.0242</td> <td>    0.012</td> <td>   -1.992</td> <td> 0.046</td> <td>   -0.048</td> <td>   -0.000</td>\n",
              "</tr>\n",
              "<tr>\n",
              "  <th>sigma2</th>    <td> 5.097e-07</td> <td> 2.43e-09</td> <td>  209.772</td> <td> 0.000</td> <td> 5.05e-07</td> <td> 5.14e-07</td>\n",
              "</tr>\n",
              "</table>\n",
              "<table class=\"simpletable\">\n",
              "<tr>\n",
              "  <th>Ljung-Box (L1) (Q):</th>     <td>0.00</td> <th>  Jarque-Bera (JB):  </th> <td>2362089.54</td>\n",
              "</tr>\n",
              "<tr>\n",
              "  <th>Prob(Q):</th>                <td>0.98</td> <th>  Prob(JB):          </th>    <td>0.00</td>   \n",
              "</tr>\n",
              "<tr>\n",
              "  <th>Heteroskedasticity (H):</th> <td>0.66</td> <th>  Skew:              </th>    <td>-7.30</td>  \n",
              "</tr>\n",
              "<tr>\n",
              "  <th>Prob(H) (two-sided):</th>    <td>0.00</td> <th>  Kurtosis:          </th>    <td>70.67</td>  \n",
              "</tr>\n",
              "</table><br/><br/>Warnings:<br/>[1] Covariance matrix calculated using the outer product of gradients (complex-step)."
            ]
          },
          "metadata": {},
          "execution_count": 35
        }
      ]
    },
    {
      "cell_type": "code",
      "source": [
        "model_autoARIMAX_1.plot_diagnostics(figsize=(10,8))\n",
        "plt.show()"
      ],
      "metadata": {
        "colab": {
          "base_uri": "https://localhost:8080/",
          "height": 513
        },
        "outputId": "52d81a9a-5c4e-4fea-bb22-f31d9bf092db",
        "id": "rTDGZNbORA6Z"
      },
      "execution_count": 36,
      "outputs": [
        {
          "output_type": "display_data",
          "data": {
            "text/plain": [
              "<Figure size 720x576 with 4 Axes>"
            ],
            "image/png": "[encoded data removed]"
          },
          "metadata": {
            "needs_background": "light"
          }
        }
      ]
    },
    {
      "cell_type": "code",
      "source": [
        "prediction_ARIMAX_1 = pd.DataFrame(model_autoARIMAX_1.predict(n_periods = 1315, exogenous=test_data_exog), index=test_data.index)\n",
        "prediction_ARIMAX_1.columns = ['Predictions_ARIMAX_1']\n",
        "prediction_rescaled_ARIMAX_1 = pt_endog.inverse_transform(prediction_ARIMAX_1.values)\n",
        "prediction_ARIMAX_1['Predictions_scaled_ARIMAX_1'] = prediction_rescaled_ARIMAX_1\n",
        "prediction_ARIMAX_1"
      ],
      "metadata": {
        "colab": {
          "base_uri": "https://localhost:8080/",
          "height": 455
        },
        "outputId": "e68c6960-77fe-4aca-c473-763cfebfe58e",
        "id": "VsUOx2FTRA6a"
      },
      "execution_count": 37,
      "outputs": [
        {
          "output_type": "execute_result",
          "data": {
            "text/plain": [
              "            Predictions_ARIMAX_1  Predictions_scaled_ARIMAX_1\n",
              "Date                                                         \n",
              "2016-11-18              1.354254                    81.948614\n",
              "2016-11-21              1.360263                    82.597946\n",
              "2016-11-22              1.361372                    82.718339\n",
              "2016-11-23              1.360513                    82.625101\n",
              "2016-11-25              1.367861                    83.426184\n",
              "...                          ...                          ...\n",
              "2022-02-03              1.924141                   172.206409\n",
              "2022-02-04              1.911049                   169.316063\n",
              "2022-02-07              1.904756                   167.943568\n",
              "2022-02-08              1.902821                   167.523637\n",
              "2022-02-09              1.900900                   167.108059\n",
              "\n",
              "[1315 rows x 2 columns]"
            ],
            "text/html": [
              "\n",
              "  <div id=\"df-7ca207e4-6f04-4084-b1ee-1e685e0b86ad\">\n",
              "    <div class=\"colab-df-container\">\n",
              "      <div>\n",
              "<style scoped>\n",
              "    .dataframe tbody tr th:only-of-type {\n",
              "        vertical-align: middle;\n",
              "    }\n",
              "\n",
              "    .dataframe tbody tr th {\n",
              "        vertical-align: top;\n",
              "    }\n",
              "\n",
              "    .dataframe thead th {\n",
              "        text-align: right;\n",
              "    }\n",
              "</style>\n",
              "<table border=\"1\" class=\"dataframe\">\n",
              "  <thead>\n",
              "    <tr style=\"text-align: right;\">\n",
              "      <th></th>\n",
              "      <th>Predictions_ARIMAX_1</th>\n",
              "      <th>Predictions_scaled_ARIMAX_1</th>\n",
              "    </tr>\n",
              "    <tr>\n",
              "      <th>Date</th>\n",
              "      <th></th>\n",
              "      <th></th>\n",
              "    </tr>\n",
              "  </thead>\n",
              "  <tbody>\n",
              "    <tr>\n",
              "      <th>2016-11-18</th>\n",
              "      <td>1.354254</td>\n",
              "      <td>81.948614</td>\n",
              "    </tr>\n",
              "    <tr>\n",
              "      <th>2016-11-21</th>\n",
              "      <td>1.360263</td>\n",
              "      <td>82.597946</td>\n",
              "    </tr>\n",
              "    <tr>\n",
              "      <th>2016-11-22</th>\n",
              "      <td>1.361372</td>\n",
              "      <td>82.718339</td>\n",
              "    </tr>\n",
              "    <tr>\n",
              "      <th>2016-11-23</th>\n",
              "      <td>1.360513</td>\n",
              "      <td>82.625101</td>\n",
              "    </tr>\n",
              "    <tr>\n",
              "      <th>2016-11-25</th>\n",
              "      <td>1.367861</td>\n",
              "      <td>83.426184</td>\n",
              "    </tr>\n",
              "    <tr>\n",
              "      <th>...</th>\n",
              "      <td>...</td>\n",
              "      <td>...</td>\n",
              "    </tr>\n",
              "    <tr>\n",
              "      <th>2022-02-03</th>\n",
              "      <td>1.924141</td>\n",
              "      <td>172.206409</td>\n",
              "    </tr>\n",
              "    <tr>\n",
              "      <th>2022-02-04</th>\n",
              "      <td>1.911049</td>\n",
              "      <td>169.316063</td>\n",
              "    </tr>\n",
              "    <tr>\n",
              "      <th>2022-02-07</th>\n",
              "      <td>1.904756</td>\n",
              "      <td>167.943568</td>\n",
              "    </tr>\n",
              "    <tr>\n",
              "      <th>2022-02-08</th>\n",
              "      <td>1.902821</td>\n",
              "      <td>167.523637</td>\n",
              "    </tr>\n",
              "    <tr>\n",
              "      <th>2022-02-09</th>\n",
              "      <td>1.900900</td>\n",
              "      <td>167.108059</td>\n",
              "    </tr>\n",
              "  </tbody>\n",
              "</table>\n",
              "<p>1315 rows × 2 columns</p>\n",
              "</div>\n",
              "      <button class=\"colab-df-convert\" onclick=\"convertToInteractive('df-7ca207e4-6f04-4084-b1ee-1e685e0b86ad')\"\n",
              "              title=\"Convert this dataframe to an interactive table.\"\n",
              "              style=\"display:none;\">\n",
              "        \n",
              "  <svg xmlns=\"http://www.w3.org/2000/svg\" height=\"24px\"viewBox=\"0 0 24 24\"\n",
              "       width=\"24px\">\n",
              "    <path d=\"M0 0h24v24H0V0z\" fill=\"none\"/>\n",
              "    <path d=\"M18.56 5.44l.94 2.06.94-2.06 2.06-.94-2.06-.94-.94-2.06-.94 2.06-2.06.94zm-11 1L8.5 8.5l.94-2.06 2.06-.94-2.06-.94L8.5 2.5l-.94 2.06-2.06.94zm10 10l.94 2.06.94-2.06 2.06-.94-2.06-.94-.94-2.06-.94 2.06-2.06.94z\"/><path d=\"M17.41 7.96l-1.37-1.37c-.4-.4-.92-.59-1.43-.59-.52 0-1.04.2-1.43.59L10.3 9.45l-7.72 7.72c-.78.78-.78 2.05 0 2.83L4 21.41c.39.39.9.59 1.41.59.51 0 1.02-.2 1.41-.59l7.78-7.78 2.81-2.81c.8-.78.8-2.07 0-2.86zM5.41 20L4 18.59l7.72-7.72 1.47 1.35L5.41 20z\"/>\n",
              "  </svg>\n",
              "      </button>\n",
              "      \n",
              "  <style>\n",
              "    .colab-df-container {\n",
              "      display:flex;\n",
              "      flex-wrap:wrap;\n",
              "      gap: 12px;\n",
              "    }\n",
              "\n",
              "    .colab-df-convert {\n",
              "      background-color: #E8F0FE;\n",
              "      border: none;\n",
              "      border-radius: 50%;\n",
              "      cursor: pointer;\n",
              "      display: none;\n",
              "      fill: #1967D2;\n",
              "      height: 32px;\n",
              "      padding: 0 0 0 0;\n",
              "      width: 32px;\n",
              "    }\n",
              "\n",
              "    .colab-df-convert:hover {\n",
              "      background-color: #E2EBFA;\n",
              "      box-shadow: 0px 1px 2px rgba(60, 64, 67, 0.3), 0px 1px 3px 1px rgba(60, 64, 67, 0.15);\n",
              "      fill: #174EA6;\n",
              "    }\n",
              "\n",
              "    [theme=dark] .colab-df-convert {\n",
              "      background-color: #3B4455;\n",
              "      fill: #D2E3FC;\n",
              "    }\n",
              "\n",
              "    [theme=dark] .colab-df-convert:hover {\n",
              "      background-color: #434B5C;\n",
              "      box-shadow: 0px 1px 3px 1px rgba(0, 0, 0, 0.15);\n",
              "      filter: drop-shadow(0px 1px 2px rgba(0, 0, 0, 0.3));\n",
              "      fill: #FFFFFF;\n",
              "    }\n",
              "  </style>\n",
              "\n",
              "      <script>\n",
              "        const buttonEl =\n",
              "          document.querySelector('#df-7ca207e4-6f04-4084-b1ee-1e685e0b86ad button.colab-df-convert');\n",
              "        buttonEl.style.display =\n",
              "          google.colab.kernel.accessAllowed ? 'block' : 'none';\n",
              "\n",
              "        async function convertToInteractive(key) {\n",
              "          const element = document.querySelector('#df-7ca207e4-6f04-4084-b1ee-1e685e0b86ad');\n",
              "          const dataTable =\n",
              "            await google.colab.kernel.invokeFunction('convertToInteractive',\n",
              "                                                     [key], {});\n",
              "          if (!dataTable) return;\n",
              "\n",
              "          const docLinkHtml = 'Like what you see? Visit the ' +\n",
              "            '<a target=\"_blank\" href=https://colab.research.google.com/notebooks/data_table.ipynb>data table notebook</a>'\n",
              "            + ' to learn more about interactive tables.';\n",
              "          element.innerHTML = '';\n",
              "          dataTable['output_type'] = 'display_data';\n",
              "          await google.colab.output.renderOutput(dataTable, element);\n",
              "          const docLink = document.createElement('div');\n",
              "          docLink.innerHTML = docLinkHtml;\n",
              "          element.appendChild(docLink);\n",
              "        }\n",
              "      </script>\n",
              "    </div>\n",
              "  </div>\n",
              "  "
            ]
          },
          "metadata": {},
          "execution_count": 37
        }
      ]
    },
    {
      "cell_type": "code",
      "source": [
        "plt.figure(figsize=(8,5))\n",
        "plt.plot(train_data.Close ,label=\"Training\")\n",
        "plt.plot(test_data.Close ,label=\"Test\")\n",
        "plt.plot(prediction_ARIMAX_1.Predictions_scaled_ARIMAX_1, label=\"Predicted_Arimax\")\n",
        "plt.legend(loc = 'upper left')\n",
        "plt.show()"
      ],
      "metadata": {
        "colab": {
          "base_uri": "https://localhost:8080/",
          "height": 320
        },
        "outputId": "95a9f148-4015-4431-b770-93c42e1b156b",
        "id": "R7d1KJwuRA6a"
      },
      "execution_count": 38,
      "outputs": [
        {
          "output_type": "display_data",
          "data": {
            "text/plain": [
              "<Figure size 576x360 with 1 Axes>"
            ],
            "image/png": "[encoded data removed]"
          },
          "metadata": {
            "needs_background": "light"
          }
        }
      ]
    },
    {
      "cell_type": "code",
      "source": [
        "def evaluate_prediction(predicted, actual, model_name):\n",
        "        mse = mean_squared_error(predicted, actual)\n",
        "        rsme = np.sqrt((mean_squared_error(predicted, actual)))\n",
        "        mae = mean_absolute_error(actual, predicted)\n",
        "        r2 = r2_score(actual, predicted)\n",
        "        max_err = max_error(actual, predicted)\n",
        "        print(colored(model_name + ' performance:', 'red'))\n",
        "        print('R^2: {:.4f} %'.format(r2 * 100))\n",
        "        print('Mean Absolute Error: {:.4f}'.format(mae))\n",
        "        print('Mean Squared Error: {:.4f}'.format(mse))\n",
        "        print('Root Mean Squared Error: {:.4f}'.format(rsme))\n",
        "        print('Max_error: {:.4f}'.format(max_err))\n",
        "        print('')\n",
        "        return\n",
        "\n",
        "evaluate_prediction(prediction_ARIMAX_1.Predictions_scaled_ARIMAX_1, test_data.Close, 'ARIMAX_1')"
      ],
      "metadata": {
        "colab": {
          "base_uri": "https://localhost:8080/"
        },
        "outputId": "03d9b4b1-a4a6-4265-bd6c-d8c3fa467b67",
        "id": "_kdpX6UZRA6a"
      },
      "execution_count": 39,
      "outputs": [
        {
          "output_type": "stream",
          "name": "stdout",
          "text": [
            "\u001b[31mARIMAX_1 performance:\u001b[0m\n",
            "R^2: 97.7125 %\n",
            "Mean Absolute Error: 2.8991\n",
            "Mean Squared Error: 13.2394\n",
            "Root Mean Squared Error: 3.6386\n",
            "Max_error: 8.0860\n",
            "\n"
          ]
        }
      ]
    },
    {
      "cell_type": "code",
      "source": [
        "model_autoARIMAX_2 = auto_arima(train_data_endog , exogenous=train_data_exog, start_p=0, start_q=0,\n",
        "                      test='adf',       # use adftest to find optimal 'd'\n",
        "                      max_p=1, max_q=1, # maximum p and q\n",
        "                      m=1,              # frequency of series\n",
        "                      d=2,           # let model determine 'd'\n",
        "                      seasonal=False,   # No Seasonality\n",
        "                      trace=True,\n",
        "                      error_action='ignore',  \n",
        "                      suppress_warnings=True, \n",
        "                      stepwise=True)"
      ],
      "metadata": {
        "colab": {
          "base_uri": "https://localhost:8080/"
        },
        "outputId": "f2e44eb1-b611-4edc-94bd-bbc82d898f8e",
        "id": "N5xyEKozfDVV"
      },
      "execution_count": 40,
      "outputs": [
        {
          "output_type": "stream",
          "name": "stdout",
          "text": [
            "Performing stepwise search to minimize aic\n",
            " ARIMA(0,2,0)(0,0,0)[0] intercept   : AIC=-129350.123, Time=20.44 sec\n",
            " ARIMA(1,2,0)(0,0,0)[0] intercept   : AIC=-132726.929, Time=5.92 sec\n",
            " ARIMA(0,2,1)(0,0,0)[0] intercept   : AIC=-136017.618, Time=16.48 sec\n",
            " ARIMA(0,2,0)(0,0,0)[0]             : AIC=-129351.975, Time=14.23 sec\n",
            " ARIMA(1,2,1)(0,0,0)[0] intercept   : AIC=-136043.325, Time=17.07 sec\n",
            " ARIMA(1,2,1)(0,0,0)[0]             : AIC=-136052.282, Time=29.25 sec\n",
            " ARIMA(0,2,1)(0,0,0)[0]             : AIC=-136027.523, Time=27.04 sec\n",
            " ARIMA(1,2,0)(0,0,0)[0]             : AIC=-132728.929, Time=5.20 sec\n",
            "\n",
            "Best model:  ARIMA(1,2,1)(0,0,0)[0]          \n",
            "Total fit time: 135.645 seconds\n"
          ]
        }
      ]
    },
    {
      "cell_type": "code",
      "source": [
        "#Summary of the model\n",
        "model_autoARIMAX_2.summary()"
      ],
      "metadata": {
        "colab": {
          "base_uri": "https://localhost:8080/",
          "height": 527
        },
        "outputId": "7fef7b63-1ff8-4d29-ac28-cabc5be5244a",
        "id": "0s6a1WbpfDVW"
      },
      "execution_count": 41,
      "outputs": [
        {
          "output_type": "execute_result",
          "data": {
            "text/plain": [
              "<class 'statsmodels.iolib.summary.Summary'>\n",
              "\"\"\"\n",
              "                               SARIMAX Results                                \n",
              "==============================================================================\n",
              "Dep. Variable:                      y   No. Observations:                11830\n",
              "Model:               SARIMAX(1, 2, 1)   Log Likelihood               68034.141\n",
              "Date:                Fri, 22 Apr 2022   AIC                        -136052.282\n",
              "Time:                        19:10:23   BIC                        -135993.256\n",
              "Sample:                             0   HQIC                       -136032.468\n",
              "                              - 11830                                         \n",
              "Covariance Type:                  opg                                         \n",
              "==============================================================================\n",
              "                 coef    std err          z      P>|z|      [0.025      0.975]\n",
              "------------------------------------------------------------------------------\n",
              "x1            -0.0008      0.001     -1.392      0.164      -0.002       0.000\n",
              "x2             0.0052      0.001      7.608      0.000       0.004       0.007\n",
              "x3             0.0036      0.001      6.671      0.000       0.003       0.005\n",
              "x4             1.2589      0.001   2058.419      0.000       1.258       1.260\n",
              "x5          1.469e-05   9.11e-06      1.612      0.107   -3.17e-06    3.25e-05\n",
              "ar.L1          0.0069      0.009      0.812      0.417      -0.010       0.024\n",
              "ma.L1         -0.7597      0.008    -95.294      0.000      -0.775      -0.744\n",
              "sigma2      5.903e-07   1.61e-09    366.852      0.000    5.87e-07    5.93e-07\n",
              "===================================================================================\n",
              "Ljung-Box (L1) (Q):                 200.39   Jarque-Bera (JB):           1475448.41\n",
              "Prob(Q):                              0.00   Prob(JB):                         0.00\n",
              "Heteroskedasticity (H):               0.67   Skew:                            -5.97\n",
              "Prob(H) (two-sided):                  0.00   Kurtosis:                        56.40\n",
              "===================================================================================\n",
              "\n",
              "Warnings:\n",
              "[1] Covariance matrix calculated using the outer product of gradients (complex-step).\n",
              "\"\"\""
            ],
            "text/html": [
              "<table class=\"simpletable\">\n",
              "<caption>SARIMAX Results</caption>\n",
              "<tr>\n",
              "  <th>Dep. Variable:</th>           <td>y</td>        <th>  No. Observations:  </th>    <td>11830</td>   \n",
              "</tr>\n",
              "<tr>\n",
              "  <th>Model:</th>           <td>SARIMAX(1, 2, 1)</td> <th>  Log Likelihood     </th>  <td>68034.141</td> \n",
              "</tr>\n",
              "<tr>\n",
              "  <th>Date:</th>            <td>Fri, 22 Apr 2022</td> <th>  AIC                </th> <td>-136052.282</td>\n",
              "</tr>\n",
              "<tr>\n",
              "  <th>Time:</th>                <td>19:10:23</td>     <th>  BIC                </th> <td>-135993.256</td>\n",
              "</tr>\n",
              "<tr>\n",
              "  <th>Sample:</th>                  <td>0</td>        <th>  HQIC               </th> <td>-136032.468</td>\n",
              "</tr>\n",
              "<tr>\n",
              "  <th></th>                     <td> - 11830</td>     <th>                     </th>      <td> </td>     \n",
              "</tr>\n",
              "<tr>\n",
              "  <th>Covariance Type:</th>        <td>opg</td>       <th>                     </th>      <td> </td>     \n",
              "</tr>\n",
              "</table>\n",
              "<table class=\"simpletable\">\n",
              "<tr>\n",
              "     <td></td>       <th>coef</th>     <th>std err</th>      <th>z</th>      <th>P>|z|</th>  <th>[0.025</th>    <th>0.975]</th>  \n",
              "</tr>\n",
              "<tr>\n",
              "  <th>x1</th>     <td>   -0.0008</td> <td>    0.001</td> <td>   -1.392</td> <td> 0.164</td> <td>   -0.002</td> <td>    0.000</td>\n",
              "</tr>\n",
              "<tr>\n",
              "  <th>x2</th>     <td>    0.0052</td> <td>    0.001</td> <td>    7.608</td> <td> 0.000</td> <td>    0.004</td> <td>    0.007</td>\n",
              "</tr>\n",
              "<tr>\n",
              "  <th>x3</th>     <td>    0.0036</td> <td>    0.001</td> <td>    6.671</td> <td> 0.000</td> <td>    0.003</td> <td>    0.005</td>\n",
              "</tr>\n",
              "<tr>\n",
              "  <th>x4</th>     <td>    1.2589</td> <td>    0.001</td> <td> 2058.419</td> <td> 0.000</td> <td>    1.258</td> <td>    1.260</td>\n",
              "</tr>\n",
              "<tr>\n",
              "  <th>x5</th>     <td> 1.469e-05</td> <td> 9.11e-06</td> <td>    1.612</td> <td> 0.107</td> <td>-3.17e-06</td> <td> 3.25e-05</td>\n",
              "</tr>\n",
              "<tr>\n",
              "  <th>ar.L1</th>  <td>    0.0069</td> <td>    0.009</td> <td>    0.812</td> <td> 0.417</td> <td>   -0.010</td> <td>    0.024</td>\n",
              "</tr>\n",
              "<tr>\n",
              "  <th>ma.L1</th>  <td>   -0.7597</td> <td>    0.008</td> <td>  -95.294</td> <td> 0.000</td> <td>   -0.775</td> <td>   -0.744</td>\n",
              "</tr>\n",
              "<tr>\n",
              "  <th>sigma2</th> <td> 5.903e-07</td> <td> 1.61e-09</td> <td>  366.852</td> <td> 0.000</td> <td> 5.87e-07</td> <td> 5.93e-07</td>\n",
              "</tr>\n",
              "</table>\n",
              "<table class=\"simpletable\">\n",
              "<tr>\n",
              "  <th>Ljung-Box (L1) (Q):</th>     <td>200.39</td> <th>  Jarque-Bera (JB):  </th> <td>1475448.41</td>\n",
              "</tr>\n",
              "<tr>\n",
              "  <th>Prob(Q):</th>                 <td>0.00</td>  <th>  Prob(JB):          </th>    <td>0.00</td>   \n",
              "</tr>\n",
              "<tr>\n",
              "  <th>Heteroskedasticity (H):</th>  <td>0.67</td>  <th>  Skew:              </th>    <td>-5.97</td>  \n",
              "</tr>\n",
              "<tr>\n",
              "  <th>Prob(H) (two-sided):</th>     <td>0.00</td>  <th>  Kurtosis:          </th>    <td>56.40</td>  \n",
              "</tr>\n",
              "</table><br/><br/>Warnings:<br/>[1] Covariance matrix calculated using the outer product of gradients (complex-step)."
            ]
          },
          "metadata": {},
          "execution_count": 41
        }
      ]
    },
    {
      "cell_type": "code",
      "source": [
        "model_autoARIMAX_2.plot_diagnostics(figsize=(10,8))\n",
        "plt.show()"
      ],
      "metadata": {
        "colab": {
          "base_uri": "https://localhost:8080/",
          "height": 513
        },
        "outputId": "65f255a5-55a7-4bb0-cbc2-26dbc653f5b4",
        "id": "_URtn8ZWfDVW"
      },
      "execution_count": 42,
      "outputs": [
        {
          "output_type": "display_data",
          "data": {
            "text/plain": [
              "<Figure size 720x576 with 4 Axes>"
            ],
            "image/png": "[encoded data removed]"
          },
          "metadata": {
            "needs_background": "light"
          }
        }
      ]
    },
    {
      "cell_type": "code",
      "source": [
        "prediction_ARIMAX_2 = pd.DataFrame(model_autoARIMAX_2.predict(n_periods = 1315, exogenous=test_data_exog), index=test_data.index)\n",
        "prediction_ARIMAX_2.columns = ['Predictions_ARIMAX_2']\n",
        "prediction_rescaled_ARIMAX_2 = pt_endog.inverse_transform(prediction_ARIMAX_2.values)\n",
        "prediction_ARIMAX_2['Predictions_scaled_ARIMAX_2'] = prediction_rescaled_ARIMAX_2\n",
        "prediction_ARIMAX_2"
      ],
      "metadata": {
        "colab": {
          "base_uri": "https://localhost:8080/",
          "height": 455
        },
        "outputId": "e4c21c8b-9911-4a7e-8433-4a83a53ca2be",
        "id": "mmf5ZkKzfDVW"
      },
      "execution_count": 43,
      "outputs": [
        {
          "output_type": "execute_result",
          "data": {
            "text/plain": [
              "            Predictions_ARIMAX_2  Predictions_scaled_ARIMAX_2\n",
              "Date                                                         \n",
              "2016-11-18              1.354418                    81.966280\n",
              "2016-11-21              1.360638                    82.638649\n",
              "2016-11-22              1.361922                    82.778062\n",
              "2016-11-23              1.361244                    82.704467\n",
              "2016-11-25              1.368792                    83.528267\n",
              "...                          ...                          ...\n",
              "2022-02-03              2.164327                   234.664931\n",
              "2022-02-04              2.151381                   230.795295\n",
              "2022-02-07              2.145289                   228.995906\n",
              "2022-02-08              2.143537                   228.481167\n",
              "2022-02-09              2.141796                   227.970680\n",
              "\n",
              "[1315 rows x 2 columns]"
            ],
            "text/html": [
              "\n",
              "  <div id=\"df-430f7837-6387-404c-867a-aed6ee92f7f1\">\n",
              "    <div class=\"colab-df-container\">\n",
              "      <div>\n",
              "<style scoped>\n",
              "    .dataframe tbody tr th:only-of-type {\n",
              "        vertical-align: middle;\n",
              "    }\n",
              "\n",
              "    .dataframe tbody tr th {\n",
              "        vertical-align: top;\n",
              "    }\n",
              "\n",
              "    .dataframe thead th {\n",
              "        text-align: right;\n",
              "    }\n",
              "</style>\n",
              "<table border=\"1\" class=\"dataframe\">\n",
              "  <thead>\n",
              "    <tr style=\"text-align: right;\">\n",
              "      <th></th>\n",
              "      <th>Predictions_ARIMAX_2</th>\n",
              "      <th>Predictions_scaled_ARIMAX_2</th>\n",
              "    </tr>\n",
              "    <tr>\n",
              "      <th>Date</th>\n",
              "      <th></th>\n",
              "      <th></th>\n",
              "    </tr>\n",
              "  </thead>\n",
              "  <tbody>\n",
              "    <tr>\n",
              "      <th>2016-11-18</th>\n",
              "      <td>1.354418</td>\n",
              "      <td>81.966280</td>\n",
              "    </tr>\n",
              "    <tr>\n",
              "      <th>2016-11-21</th>\n",
              "      <td>1.360638</td>\n",
              "      <td>82.638649</td>\n",
              "    </tr>\n",
              "    <tr>\n",
              "      <th>2016-11-22</th>\n",
              "      <td>1.361922</td>\n",
              "      <td>82.778062</td>\n",
              "    </tr>\n",
              "    <tr>\n",
              "      <th>2016-11-23</th>\n",
              "      <td>1.361244</td>\n",
              "      <td>82.704467</td>\n",
              "    </tr>\n",
              "    <tr>\n",
              "      <th>2016-11-25</th>\n",
              "      <td>1.368792</td>\n",
              "      <td>83.528267</td>\n",
              "    </tr>\n",
              "    <tr>\n",
              "      <th>...</th>\n",
              "      <td>...</td>\n",
              "      <td>...</td>\n",
              "    </tr>\n",
              "    <tr>\n",
              "      <th>2022-02-03</th>\n",
              "      <td>2.164327</td>\n",
              "      <td>234.664931</td>\n",
              "    </tr>\n",
              "    <tr>\n",
              "      <th>2022-02-04</th>\n",
              "      <td>2.151381</td>\n",
              "      <td>230.795295</td>\n",
              "    </tr>\n",
              "    <tr>\n",
              "      <th>2022-02-07</th>\n",
              "      <td>2.145289</td>\n",
              "      <td>228.995906</td>\n",
              "    </tr>\n",
              "    <tr>\n",
              "      <th>2022-02-08</th>\n",
              "      <td>2.143537</td>\n",
              "      <td>228.481167</td>\n",
              "    </tr>\n",
              "    <tr>\n",
              "      <th>2022-02-09</th>\n",
              "      <td>2.141796</td>\n",
              "      <td>227.970680</td>\n",
              "    </tr>\n",
              "  </tbody>\n",
              "</table>\n",
              "<p>1315 rows × 2 columns</p>\n",
              "</div>\n",
              "      <button class=\"colab-df-convert\" onclick=\"convertToInteractive('df-430f7837-6387-404c-867a-aed6ee92f7f1')\"\n",
              "              title=\"Convert this dataframe to an interactive table.\"\n",
              "              style=\"display:none;\">\n",
              "        \n",
              "  <svg xmlns=\"http://www.w3.org/2000/svg\" height=\"24px\"viewBox=\"0 0 24 24\"\n",
              "       width=\"24px\">\n",
              "    <path d=\"M0 0h24v24H0V0z\" fill=\"none\"/>\n",
              "    <path d=\"M18.56 5.44l.94 2.06.94-2.06 2.06-.94-2.06-.94-.94-2.06-.94 2.06-2.06.94zm-11 1L8.5 8.5l.94-2.06 2.06-.94-2.06-.94L8.5 2.5l-.94 2.06-2.06.94zm10 10l.94 2.06.94-2.06 2.06-.94-2.06-.94-.94-2.06-.94 2.06-2.06.94z\"/><path d=\"M17.41 7.96l-1.37-1.37c-.4-.4-.92-.59-1.43-.59-.52 0-1.04.2-1.43.59L10.3 9.45l-7.72 7.72c-.78.78-.78 2.05 0 2.83L4 21.41c.39.39.9.59 1.41.59.51 0 1.02-.2 1.41-.59l7.78-7.78 2.81-2.81c.8-.78.8-2.07 0-2.86zM5.41 20L4 18.59l7.72-7.72 1.47 1.35L5.41 20z\"/>\n",
              "  </svg>\n",
              "      </button>\n",
              "      \n",
              "  <style>\n",
              "    .colab-df-container {\n",
              "      display:flex;\n",
              "      flex-wrap:wrap;\n",
              "      gap: 12px;\n",
              "    }\n",
              "\n",
              "    .colab-df-convert {\n",
              "      background-color: #E8F0FE;\n",
              "      border: none;\n",
              "      border-radius: 50%;\n",
              "      cursor: pointer;\n",
              "      display: none;\n",
              "      fill: #1967D2;\n",
              "      height: 32px;\n",
              "      padding: 0 0 0 0;\n",
              "      width: 32px;\n",
              "    }\n",
              "\n",
              "    .colab-df-convert:hover {\n",
              "      background-color: #E2EBFA;\n",
              "      box-shadow: 0px 1px 2px rgba(60, 64, 67, 0.3), 0px 1px 3px 1px rgba(60, 64, 67, 0.15);\n",
              "      fill: #174EA6;\n",
              "    }\n",
              "\n",
              "    [theme=dark] .colab-df-convert {\n",
              "      background-color: #3B4455;\n",
              "      fill: #D2E3FC;\n",
              "    }\n",
              "\n",
              "    [theme=dark] .colab-df-convert:hover {\n",
              "      background-color: #434B5C;\n",
              "      box-shadow: 0px 1px 3px 1px rgba(0, 0, 0, 0.15);\n",
              "      filter: drop-shadow(0px 1px 2px rgba(0, 0, 0, 0.3));\n",
              "      fill: #FFFFFF;\n",
              "    }\n",
              "  </style>\n",
              "\n",
              "      <script>\n",
              "        const buttonEl =\n",
              "          document.querySelector('#df-430f7837-6387-404c-867a-aed6ee92f7f1 button.colab-df-convert');\n",
              "        buttonEl.style.display =\n",
              "          google.colab.kernel.accessAllowed ? 'block' : 'none';\n",
              "\n",
              "        async function convertToInteractive(key) {\n",
              "          const element = document.querySelector('#df-430f7837-6387-404c-867a-aed6ee92f7f1');\n",
              "          const dataTable =\n",
              "            await google.colab.kernel.invokeFunction('convertToInteractive',\n",
              "                                                     [key], {});\n",
              "          if (!dataTable) return;\n",
              "\n",
              "          const docLinkHtml = 'Like what you see? Visit the ' +\n",
              "            '<a target=\"_blank\" href=https://colab.research.google.com/notebooks/data_table.ipynb>data table notebook</a>'\n",
              "            + ' to learn more about interactive tables.';\n",
              "          element.innerHTML = '';\n",
              "          dataTable['output_type'] = 'display_data';\n",
              "          await google.colab.output.renderOutput(dataTable, element);\n",
              "          const docLink = document.createElement('div');\n",
              "          docLink.innerHTML = docLinkHtml;\n",
              "          element.appendChild(docLink);\n",
              "        }\n",
              "      </script>\n",
              "    </div>\n",
              "  </div>\n",
              "  "
            ]
          },
          "metadata": {},
          "execution_count": 43
        }
      ]
    },
    {
      "cell_type": "code",
      "source": [
        "plt.figure(figsize=(8,5))\n",
        "plt.plot(train_data.Close ,label=\"Training\")\n",
        "plt.plot(test_data.Close ,label=\"Test\")\n",
        "plt.plot(prediction_ARIMAX_2.Predictions_scaled_ARIMAX_2, label=\"Predicted_Arimax_2\")\n",
        "plt.legend(loc = 'upper left')\n",
        "plt.show()"
      ],
      "metadata": {
        "colab": {
          "base_uri": "https://localhost:8080/",
          "height": 320
        },
        "outputId": "90d517b9-6681-4946-f313-9872e299848b",
        "id": "wOISeA9kfDVW"
      },
      "execution_count": 44,
      "outputs": [
        {
          "output_type": "display_data",
          "data": {
            "text/plain": [
              "<Figure size 576x360 with 1 Axes>"
            ],
            "image/png": "[encoded data removed]"
          },
          "metadata": {
            "needs_background": "light"
          }
        }
      ]
    },
    {
      "cell_type": "code",
      "source": [
        "def evaluate_prediction(predicted, actual, model_name):\n",
        "        mse = mean_squared_error(predicted, actual)\n",
        "        rsme = np.sqrt((mean_squared_error(predicted, actual)))\n",
        "        mae = mean_absolute_error(actual, predicted)\n",
        "        r2 = r2_score(actual, predicted)\n",
        "        max_err = max_error(actual, predicted)\n",
        "        print(colored(model_name + ' performance:', 'red'))\n",
        "        print('R^2: {:.4f} %'.format(r2 * 100))\n",
        "        print('Mean Absolute Error: {:.4f}'.format(mae))\n",
        "        print('Mean Squared Error: {:.4f}'.format(mse))\n",
        "        print('Root Mean Squared Error: {:.4f}'.format(rsme))\n",
        "        print('Max_error: {:.4f}'.format(max_err))\n",
        "        print('')\n",
        "        return\n",
        "\n",
        "evaluate_prediction(prediction_ARIMAX_2.Predictions_scaled_ARIMAX_2, test_data.Close, 'ARIMAX_2')"
      ],
      "metadata": {
        "colab": {
          "base_uri": "https://localhost:8080/"
        },
        "outputId": "fe46a4cd-6ff4-4993-ed46-47b146accded",
        "id": "Umv2aDqIfDVW"
      },
      "execution_count": 45,
      "outputs": [
        {
          "output_type": "stream",
          "name": "stdout",
          "text": [
            "\u001b[31mARIMAX_2 performance:\u001b[0m\n",
            "R^2: -72.8449 %\n",
            "Mean Absolute Error: 25.1872\n",
            "Mean Squared Error: 1000.3628\n",
            "Root Mean Squared Error: 31.6285\n",
            "Max_error: 70.5249\n",
            "\n"
          ]
        }
      ]
    },
    {
      "cell_type": "markdown",
      "source": [
        "**probably it is an overfitting situation in the model_autoARIMAX**"
      ],
      "metadata": {
        "id": "3Wpbi1v50fd1"
      }
    },
    {
      "cell_type": "markdown",
      "source": [
        "It has been decided after several attempt to remove the feature Volume and Adj Close from the exogenous variables. The performance has been increased. In particular, Volume has been removed because its values are so unpredictable. Adj Close has been removed because is almost equal to the Close attribute and it is redundant"
      ],
      "metadata": {
        "id": "1p29YB8dvdr_"
      }
    },
    {
      "cell_type": "code",
      "source": [
        "exogenous_features_selected = [\"Open\", \"High\", \"Low\"]"
      ],
      "metadata": {
        "id": "wKn6MLJ60AdL"
      },
      "execution_count": 46,
      "outputs": []
    },
    {
      "cell_type": "code",
      "source": [
        "train_data_exog_selected = train_data_exog[:, :3]\n",
        "train_data_exog_selected.shape"
      ],
      "metadata": {
        "colab": {
          "base_uri": "https://localhost:8080/"
        },
        "id": "0cQU04353OUn",
        "outputId": "65bcd322-ab80-46d2-8582-43893f3b3b60"
      },
      "execution_count": 47,
      "outputs": [
        {
          "output_type": "execute_result",
          "data": {
            "text/plain": [
              "(11830, 3)"
            ]
          },
          "metadata": {},
          "execution_count": 47
        }
      ]
    },
    {
      "cell_type": "code",
      "source": [
        "test_data_exog_selected = test_data_exog[:, :3]\n",
        "test_data_exog_selected.shape"
      ],
      "metadata": {
        "colab": {
          "base_uri": "https://localhost:8080/"
        },
        "id": "tsiJHWHF0AdM",
        "outputId": "898aa35a-8a1a-4c95-ff36-150408f780b1"
      },
      "execution_count": 48,
      "outputs": [
        {
          "output_type": "execute_result",
          "data": {
            "text/plain": [
              "(1315, 3)"
            ]
          },
          "metadata": {},
          "execution_count": 48
        }
      ]
    },
    {
      "cell_type": "code",
      "source": [
        "model_autoARIMAX_3 = auto_arima(train_data_endog , exogenous=train_data_exog_selected, start_p=0, start_q=0,\n",
        "                      test='adf',       # use adftest to find optimal 'd'\n",
        "                      max_p=1, max_q=1, # maximum p and q\n",
        "                      d=1,           # let model determine 'd'\n",
        "                      seasonal=False,   # No Seasonality\n",
        "                      trace=True,\n",
        "                      error_action='ignore',  \n",
        "                      suppress_warnings=True, \n",
        "                      stepwise=True)"
      ],
      "metadata": {
        "colab": {
          "base_uri": "https://localhost:8080/"
        },
        "id": "tEQpWWGnFda-",
        "outputId": "0a3bb294-cac8-4cba-d5b7-29dceab5b552"
      },
      "execution_count": 49,
      "outputs": [
        {
          "output_type": "stream",
          "name": "stdout",
          "text": [
            "Performing stepwise search to minimize aic\n",
            " ARIMA(0,1,0)(0,0,0)[0] intercept   : AIC=-85241.659, Time=2.97 sec\n",
            " ARIMA(1,1,0)(0,0,0)[0] intercept   : AIC=-88703.522, Time=16.52 sec\n",
            " ARIMA(0,1,1)(0,0,0)[0] intercept   : AIC=-92410.146, Time=47.27 sec\n",
            " ARIMA(0,1,0)(0,0,0)[0]             : AIC=-85243.001, Time=4.69 sec\n",
            " ARIMA(1,1,1)(0,0,0)[0] intercept   : AIC=-92364.826, Time=27.12 sec\n",
            " ARIMA(0,1,1)(0,0,0)[0]             : AIC=-93109.293, Time=20.60 sec\n",
            " ARIMA(1,1,1)(0,0,0)[0]             : AIC=-92537.585, Time=24.45 sec\n",
            " ARIMA(1,1,0)(0,0,0)[0]             : AIC=-88704.449, Time=8.12 sec\n",
            "\n",
            "Best model:  ARIMA(0,1,1)(0,0,0)[0]          \n",
            "Total fit time: 151.746 seconds\n"
          ]
        }
      ]
    },
    {
      "cell_type": "code",
      "source": [
        "#Summary of the model\n",
        "model_autoARIMAX_3.summary()"
      ],
      "metadata": {
        "id": "xSVd7Tfl7MMK",
        "colab": {
          "base_uri": "https://localhost:8080/",
          "height": 465
        },
        "outputId": "042be2cc-24e6-4f3a-fa07-62e21fa28c48"
      },
      "execution_count": 50,
      "outputs": [
        {
          "output_type": "execute_result",
          "data": {
            "text/plain": [
              "<class 'statsmodels.iolib.summary.Summary'>\n",
              "\"\"\"\n",
              "                               SARIMAX Results                                \n",
              "==============================================================================\n",
              "Dep. Variable:                      y   No. Observations:                11830\n",
              "Model:               SARIMAX(0, 1, 1)   Log Likelihood               46559.646\n",
              "Date:                Fri, 22 Apr 2022   AIC                         -93109.293\n",
              "Time:                        19:12:56   BIC                         -93072.401\n",
              "Sample:                             0   HQIC                        -93096.909\n",
              "                              - 11830                                         \n",
              "Covariance Type:                  opg                                         \n",
              "==============================================================================\n",
              "                 coef    std err          z      P>|z|      [0.025      0.975]\n",
              "------------------------------------------------------------------------------\n",
              "x1            -0.3907      0.003   -124.258      0.000      -0.397      -0.385\n",
              "x2             0.7807      0.003    299.077      0.000       0.776       0.786\n",
              "x3             0.6085      0.001    587.065      0.000       0.606       0.611\n",
              "ma.L1         -0.9879      0.002   -643.300      0.000      -0.991      -0.985\n",
              "sigma2      2.223e-05   8.15e-08    272.606      0.000    2.21e-05    2.24e-05\n",
              "===================================================================================\n",
              "Ljung-Box (L1) (Q):                  46.70   Jarque-Bera (JB):          31933828.09\n",
              "Prob(Q):                              0.00   Prob(JB):                         0.00\n",
              "Heteroskedasticity (H):               1.49   Skew:                             3.45\n",
              "Prob(H) (two-sided):                  0.00   Kurtosis:                       257.45\n",
              "===================================================================================\n",
              "\n",
              "Warnings:\n",
              "[1] Covariance matrix calculated using the outer product of gradients (complex-step).\n",
              "\"\"\""
            ],
            "text/html": [
              "<table class=\"simpletable\">\n",
              "<caption>SARIMAX Results</caption>\n",
              "<tr>\n",
              "  <th>Dep. Variable:</th>           <td>y</td>        <th>  No. Observations:  </th>    <td>11830</td>  \n",
              "</tr>\n",
              "<tr>\n",
              "  <th>Model:</th>           <td>SARIMAX(0, 1, 1)</td> <th>  Log Likelihood     </th>  <td>46559.646</td>\n",
              "</tr>\n",
              "<tr>\n",
              "  <th>Date:</th>            <td>Fri, 22 Apr 2022</td> <th>  AIC                </th> <td>-93109.293</td>\n",
              "</tr>\n",
              "<tr>\n",
              "  <th>Time:</th>                <td>19:12:56</td>     <th>  BIC                </th> <td>-93072.401</td>\n",
              "</tr>\n",
              "<tr>\n",
              "  <th>Sample:</th>                  <td>0</td>        <th>  HQIC               </th> <td>-93096.909</td>\n",
              "</tr>\n",
              "<tr>\n",
              "  <th></th>                     <td> - 11830</td>     <th>                     </th>      <td> </td>    \n",
              "</tr>\n",
              "<tr>\n",
              "  <th>Covariance Type:</th>        <td>opg</td>       <th>                     </th>      <td> </td>    \n",
              "</tr>\n",
              "</table>\n",
              "<table class=\"simpletable\">\n",
              "<tr>\n",
              "     <td></td>       <th>coef</th>     <th>std err</th>      <th>z</th>      <th>P>|z|</th>  <th>[0.025</th>    <th>0.975]</th>  \n",
              "</tr>\n",
              "<tr>\n",
              "  <th>x1</th>     <td>   -0.3907</td> <td>    0.003</td> <td> -124.258</td> <td> 0.000</td> <td>   -0.397</td> <td>   -0.385</td>\n",
              "</tr>\n",
              "<tr>\n",
              "  <th>x2</th>     <td>    0.7807</td> <td>    0.003</td> <td>  299.077</td> <td> 0.000</td> <td>    0.776</td> <td>    0.786</td>\n",
              "</tr>\n",
              "<tr>\n",
              "  <th>x3</th>     <td>    0.6085</td> <td>    0.001</td> <td>  587.065</td> <td> 0.000</td> <td>    0.606</td> <td>    0.611</td>\n",
              "</tr>\n",
              "<tr>\n",
              "  <th>ma.L1</th>  <td>   -0.9879</td> <td>    0.002</td> <td> -643.300</td> <td> 0.000</td> <td>   -0.991</td> <td>   -0.985</td>\n",
              "</tr>\n",
              "<tr>\n",
              "  <th>sigma2</th> <td> 2.223e-05</td> <td> 8.15e-08</td> <td>  272.606</td> <td> 0.000</td> <td> 2.21e-05</td> <td> 2.24e-05</td>\n",
              "</tr>\n",
              "</table>\n",
              "<table class=\"simpletable\">\n",
              "<tr>\n",
              "  <th>Ljung-Box (L1) (Q):</th>     <td>46.70</td> <th>  Jarque-Bera (JB):  </th> <td>31933828.09</td>\n",
              "</tr>\n",
              "<tr>\n",
              "  <th>Prob(Q):</th>                <td>0.00</td>  <th>  Prob(JB):          </th>    <td>0.00</td>    \n",
              "</tr>\n",
              "<tr>\n",
              "  <th>Heteroskedasticity (H):</th> <td>1.49</td>  <th>  Skew:              </th>    <td>3.45</td>    \n",
              "</tr>\n",
              "<tr>\n",
              "  <th>Prob(H) (two-sided):</th>    <td>0.00</td>  <th>  Kurtosis:          </th>   <td>257.45</td>   \n",
              "</tr>\n",
              "</table><br/><br/>Warnings:<br/>[1] Covariance matrix calculated using the outer product of gradients (complex-step)."
            ]
          },
          "metadata": {},
          "execution_count": 50
        }
      ]
    },
    {
      "cell_type": "code",
      "source": [
        "model_autoARIMAX_3.plot_diagnostics(figsize=(10,8))\n",
        "plt.show()"
      ],
      "metadata": {
        "id": "brJvOa0n7MMK",
        "colab": {
          "base_uri": "https://localhost:8080/",
          "height": 513
        },
        "outputId": "d70d369d-c0f7-454d-f098-8b811559a836"
      },
      "execution_count": 51,
      "outputs": [
        {
          "output_type": "display_data",
          "data": {
            "text/plain": [
              "<Figure size 720x576 with 4 Axes>"
            ],
            "image/png": "[encoded data removed]"
          },
          "metadata": {
            "needs_background": "light"
          }
        }
      ]
    },
    {
      "cell_type": "code",
      "source": [
        "prediction_ARIMAX_3 = pd.DataFrame(model_autoARIMAX_3.predict(n_periods = 1315, exogenous=test_data_exog_selected), index=test_data.index)\n",
        "prediction_ARIMAX_3.columns = ['Predictions_ARIMAX_3']\n",
        "prediction_rescaled_ARIMAX_3 = pt_endog.inverse_transform(prediction_ARIMAX_3.values)\n",
        "prediction_ARIMAX_3['Predictions_scaled_ARIMAX_3'] = prediction_rescaled_ARIMAX_3\n",
        "prediction_ARIMAX_3"
      ],
      "metadata": {
        "id": "57VQS_c8H9Eu",
        "colab": {
          "base_uri": "https://localhost:8080/",
          "height": 455
        },
        "outputId": "3c111ab6-54bc-41b6-e6e2-7268c5769e52"
      },
      "execution_count": 52,
      "outputs": [
        {
          "output_type": "execute_result",
          "data": {
            "text/plain": [
              "            Predictions_ARIMAX_3  Predictions_scaled_ARIMAX_3\n",
              "Date                                                         \n",
              "2016-11-18              1.358534                    82.410577\n",
              "2016-11-21              1.357758                    82.326620\n",
              "2016-11-22              1.362548                    82.846149\n",
              "2016-11-23              1.361480                    82.730128\n",
              "2016-11-25              1.366240                    83.248795\n",
              "...                          ...                          ...\n",
              "2022-02-03              1.885315                   163.772004\n",
              "2022-02-04              1.880773                   162.812097\n",
              "2022-02-07              1.869782                   160.512236\n",
              "2022-02-08              1.867427                   160.023501\n",
              "2022-02-09              1.865372                   159.598218\n",
              "\n",
              "[1315 rows x 2 columns]"
            ],
            "text/html": [
              "\n",
              "  <div id=\"df-9d041dd7-4623-4a62-bd5a-fccfa67228ce\">\n",
              "    <div class=\"colab-df-container\">\n",
              "      <div>\n",
              "<style scoped>\n",
              "    .dataframe tbody tr th:only-of-type {\n",
              "        vertical-align: middle;\n",
              "    }\n",
              "\n",
              "    .dataframe tbody tr th {\n",
              "        vertical-align: top;\n",
              "    }\n",
              "\n",
              "    .dataframe thead th {\n",
              "        text-align: right;\n",
              "    }\n",
              "</style>\n",
              "<table border=\"1\" class=\"dataframe\">\n",
              "  <thead>\n",
              "    <tr style=\"text-align: right;\">\n",
              "      <th></th>\n",
              "      <th>Predictions_ARIMAX_3</th>\n",
              "      <th>Predictions_scaled_ARIMAX_3</th>\n",
              "    </tr>\n",
              "    <tr>\n",
              "      <th>Date</th>\n",
              "      <th></th>\n",
              "      <th></th>\n",
              "    </tr>\n",
              "  </thead>\n",
              "  <tbody>\n",
              "    <tr>\n",
              "      <th>2016-11-18</th>\n",
              "      <td>1.358534</td>\n",
              "      <td>82.410577</td>\n",
              "    </tr>\n",
              "    <tr>\n",
              "      <th>2016-11-21</th>\n",
              "      <td>1.357758</td>\n",
              "      <td>82.326620</td>\n",
              "    </tr>\n",
              "    <tr>\n",
              "      <th>2016-11-22</th>\n",
              "      <td>1.362548</td>\n",
              "      <td>82.846149</td>\n",
              "    </tr>\n",
              "    <tr>\n",
              "      <th>2016-11-23</th>\n",
              "      <td>1.361480</td>\n",
              "      <td>82.730128</td>\n",
              "    </tr>\n",
              "    <tr>\n",
              "      <th>2016-11-25</th>\n",
              "      <td>1.366240</td>\n",
              "      <td>83.248795</td>\n",
              "    </tr>\n",
              "    <tr>\n",
              "      <th>...</th>\n",
              "      <td>...</td>\n",
              "      <td>...</td>\n",
              "    </tr>\n",
              "    <tr>\n",
              "      <th>2022-02-03</th>\n",
              "      <td>1.885315</td>\n",
              "      <td>163.772004</td>\n",
              "    </tr>\n",
              "    <tr>\n",
              "      <th>2022-02-04</th>\n",
              "      <td>1.880773</td>\n",
              "      <td>162.812097</td>\n",
              "    </tr>\n",
              "    <tr>\n",
              "      <th>2022-02-07</th>\n",
              "      <td>1.869782</td>\n",
              "      <td>160.512236</td>\n",
              "    </tr>\n",
              "    <tr>\n",
              "      <th>2022-02-08</th>\n",
              "      <td>1.867427</td>\n",
              "      <td>160.023501</td>\n",
              "    </tr>\n",
              "    <tr>\n",
              "      <th>2022-02-09</th>\n",
              "      <td>1.865372</td>\n",
              "      <td>159.598218</td>\n",
              "    </tr>\n",
              "  </tbody>\n",
              "</table>\n",
              "<p>1315 rows × 2 columns</p>\n",
              "</div>\n",
              "      <button class=\"colab-df-convert\" onclick=\"convertToInteractive('df-9d041dd7-4623-4a62-bd5a-fccfa67228ce')\"\n",
              "              title=\"Convert this dataframe to an interactive table.\"\n",
              "              style=\"display:none;\">\n",
              "        \n",
              "  <svg xmlns=\"http://www.w3.org/2000/svg\" height=\"24px\"viewBox=\"0 0 24 24\"\n",
              "       width=\"24px\">\n",
              "    <path d=\"M0 0h24v24H0V0z\" fill=\"none\"/>\n",
              "    <path d=\"M18.56 5.44l.94 2.06.94-2.06 2.06-.94-2.06-.94-.94-2.06-.94 2.06-2.06.94zm-11 1L8.5 8.5l.94-2.06 2.06-.94-2.06-.94L8.5 2.5l-.94 2.06-2.06.94zm10 10l.94 2.06.94-2.06 2.06-.94-2.06-.94-.94-2.06-.94 2.06-2.06.94z\"/><path d=\"M17.41 7.96l-1.37-1.37c-.4-.4-.92-.59-1.43-.59-.52 0-1.04.2-1.43.59L10.3 9.45l-7.72 7.72c-.78.78-.78 2.05 0 2.83L4 21.41c.39.39.9.59 1.41.59.51 0 1.02-.2 1.41-.59l7.78-7.78 2.81-2.81c.8-.78.8-2.07 0-2.86zM5.41 20L4 18.59l7.72-7.72 1.47 1.35L5.41 20z\"/>\n",
              "  </svg>\n",
              "      </button>\n",
              "      \n",
              "  <style>\n",
              "    .colab-df-container {\n",
              "      display:flex;\n",
              "      flex-wrap:wrap;\n",
              "      gap: 12px;\n",
              "    }\n",
              "\n",
              "    .colab-df-convert {\n",
              "      background-color: #E8F0FE;\n",
              "      border: none;\n",
              "      border-radius: 50%;\n",
              "      cursor: pointer;\n",
              "      display: none;\n",
              "      fill: #1967D2;\n",
              "      height: 32px;\n",
              "      padding: 0 0 0 0;\n",
              "      width: 32px;\n",
              "    }\n",
              "\n",
              "    .colab-df-convert:hover {\n",
              "      background-color: #E2EBFA;\n",
              "      box-shadow: 0px 1px 2px rgba(60, 64, 67, 0.3), 0px 1px 3px 1px rgba(60, 64, 67, 0.15);\n",
              "      fill: #174EA6;\n",
              "    }\n",
              "\n",
              "    [theme=dark] .colab-df-convert {\n",
              "      background-color: #3B4455;\n",
              "      fill: #D2E3FC;\n",
              "    }\n",
              "\n",
              "    [theme=dark] .colab-df-convert:hover {\n",
              "      background-color: #434B5C;\n",
              "      box-shadow: 0px 1px 3px 1px rgba(0, 0, 0, 0.15);\n",
              "      filter: drop-shadow(0px 1px 2px rgba(0, 0, 0, 0.3));\n",
              "      fill: #FFFFFF;\n",
              "    }\n",
              "  </style>\n",
              "\n",
              "      <script>\n",
              "        const buttonEl =\n",
              "          document.querySelector('#df-9d041dd7-4623-4a62-bd5a-fccfa67228ce button.colab-df-convert');\n",
              "        buttonEl.style.display =\n",
              "          google.colab.kernel.accessAllowed ? 'block' : 'none';\n",
              "\n",
              "        async function convertToInteractive(key) {\n",
              "          const element = document.querySelector('#df-9d041dd7-4623-4a62-bd5a-fccfa67228ce');\n",
              "          const dataTable =\n",
              "            await google.colab.kernel.invokeFunction('convertToInteractive',\n",
              "                                                     [key], {});\n",
              "          if (!dataTable) return;\n",
              "\n",
              "          const docLinkHtml = 'Like what you see? Visit the ' +\n",
              "            '<a target=\"_blank\" href=https://colab.research.google.com/notebooks/data_table.ipynb>data table notebook</a>'\n",
              "            + ' to learn more about interactive tables.';\n",
              "          element.innerHTML = '';\n",
              "          dataTable['output_type'] = 'display_data';\n",
              "          await google.colab.output.renderOutput(dataTable, element);\n",
              "          const docLink = document.createElement('div');\n",
              "          docLink.innerHTML = docLinkHtml;\n",
              "          element.appendChild(docLink);\n",
              "        }\n",
              "      </script>\n",
              "    </div>\n",
              "  </div>\n",
              "  "
            ]
          },
          "metadata": {},
          "execution_count": 52
        }
      ]
    },
    {
      "cell_type": "code",
      "source": [
        "plt.figure(figsize=(8,5))\n",
        "plt.plot(train_data.Close ,label=\"Training\")\n",
        "plt.plot(test_data.Close ,label=\"Test\")\n",
        "plt.plot(prediction_ARIMAX_3.Predictions_scaled_ARIMAX_3, label=\"Predicted_Arimax_3\")\n",
        "plt.legend(loc = 'upper left')\n",
        "plt.show()"
      ],
      "metadata": {
        "colab": {
          "base_uri": "https://localhost:8080/",
          "height": 320
        },
        "id": "_AiRPyYxFMSI",
        "outputId": "bab6f4fd-e5cd-46e8-dd7f-e0cc2786e3fd"
      },
      "execution_count": 53,
      "outputs": [
        {
          "output_type": "display_data",
          "data": {
            "text/plain": [
              "<Figure size 576x360 with 1 Axes>"
            ],
            "image/png": "[encoded data removed]"
          },
          "metadata": {
            "needs_background": "light"
          }
        }
      ]
    },
    {
      "cell_type": "code",
      "source": [
        "def evaluate_prediction(predicted, actual, model_name):\n",
        "        mse = mean_squared_error(predicted, actual)\n",
        "        rsme = np.sqrt((mean_squared_error(predicted, actual)))\n",
        "        mae = mean_absolute_error(actual, predicted)\n",
        "        r2 = r2_score(actual, predicted)\n",
        "        max_err = max_error(actual, predicted)\n",
        "        print(colored(model_name + ' performance:', 'red'))\n",
        "        print('R^2: {:.4f} %'.format(r2 * 100))\n",
        "        print('Mean Absolute Error: {:.4f}'.format(mae))\n",
        "        print('Mean Squared Error: {:.4f}'.format(mse))\n",
        "        print('Root Mean Squared Error: {:.4f}'.format(rsme))\n",
        "        print('Max_error: {:.4f}'.format(max_err))\n",
        "        print('')\n",
        "        return\n",
        "\n",
        "evaluate_prediction(prediction_ARIMAX_3.Predictions_scaled_ARIMAX_3, test_data.Close, 'ARIMAX_3')"
      ],
      "metadata": {
        "colab": {
          "base_uri": "https://localhost:8080/"
        },
        "id": "mUhBhLwrs3q6",
        "outputId": "0c4d2415-14bd-4161-f20a-3693566f1f85"
      },
      "execution_count": 54,
      "outputs": [
        {
          "output_type": "stream",
          "name": "stdout",
          "text": [
            "\u001b[31mARIMAX_3 performance:\u001b[0m\n",
            "R^2: 99.9423 %\n",
            "Mean Absolute Error: 0.3815\n",
            "Mean Squared Error: 0.3341\n",
            "Root Mean Squared Error: 0.5780\n",
            "Max_error: 6.3714\n",
            "\n"
          ]
        }
      ]
    },
    {
      "cell_type": "markdown",
      "source": [
        "# SARIMA"
      ],
      "metadata": {
        "id": "imXT_L8o0YzU"
      }
    },
    {
      "cell_type": "markdown",
      "source": [
        "Seasonal parameters\n",
        "\n",
        "1.   P: Seasonal autoregressive order\n",
        "2.   D: Seasonal differencing order\n",
        "3.   Q: Seasonal moving average order\n",
        "4.   m/s : Number of time steps for a single seasonal period"
      ],
      "metadata": {
        "id": "131pSd6DO64K"
      }
    },
    {
      "cell_type": "markdown",
      "source": [
        "## Seasonal term (s)"
      ],
      "metadata": {
        "id": "35OhChlAgiwF"
      }
    },
    {
      "cell_type": "markdown",
      "source": [
        "\n",
        "1 for yearly\n",
        "\n",
        "4 for quarterly\n",
        "\n",
        "12 for monthly\n",
        "\n",
        "52 for weekly\n",
        "\n",
        "365 for daily\n",
        "\n",
        "if When we choose period 365,It will run out of memory.\n",
        "Probably, SARIMA model is unsuitable to solve this problem."
      ],
      "metadata": {
        "id": "saqtTcIVVNwj"
      }
    },
    {
      "cell_type": "markdown",
      "source": [
        "## Estimate Seasonal differencing term (D)"
      ],
      "metadata": {
        "id": "6v0PmebTglVL"
      }
    },
    {
      "cell_type": "code",
      "source": [
        "from statsmodels.tsa.seasonal import seasonal_decompose\n",
        "result = seasonal_decompose(df['Close'], model='multiplicative',extrapolate_trend='freq', period=365)\n",
        "result.plot()\n",
        "plt.show()"
      ],
      "metadata": {
        "colab": {
          "base_uri": "https://localhost:8080/",
          "height": 0
        },
        "id": "PF0IKT3ESwKQ",
        "outputId": "bb455cfa-1964-496b-98d0-a7d0809efbc8"
      },
      "execution_count": 55,
      "outputs": [
        {
          "output_type": "display_data",
          "data": {
            "text/plain": [
              "<Figure size 432x288 with 4 Axes>"
            ],
            "image/png": "[encoded data removed]"
          },
          "metadata": {
            "needs_background": "light"
          }
        }
      ]
    },
    {
      "cell_type": "code",
      "source": [
        "from statsmodels.tsa.stattools import adfuller\n",
        "import numpy as np\n",
        "def check_stationarity(ts):\n",
        "    dftest = adfuller(ts)\n",
        "    adf = dftest[0]\n",
        "    pvalue = dftest[1]\n",
        "    critical_value = dftest[4]['5%']\n",
        "    if (pvalue < 0.05) and (adf < critical_value):\n",
        "        print('The series is stationary')\n",
        "    else:\n",
        "        print('The series is NOT stationary')"
      ],
      "metadata": {
        "id": "nuYSpHKmS96j"
      },
      "execution_count": 56,
      "outputs": []
    },
    {
      "cell_type": "code",
      "source": [
        "seasonal = result.seasonal\n",
        "check_stationarity(seasonal)"
      ],
      "metadata": {
        "colab": {
          "base_uri": "https://localhost:8080/"
        },
        "id": "pyWtZ6EXTAUh",
        "outputId": "9d50b575-7e7c-4ed0-a630-6f3cf32ba99a"
      },
      "execution_count": 57,
      "outputs": [
        {
          "output_type": "stream",
          "name": "stdout",
          "text": [
            "The series is stationary\n"
          ]
        }
      ]
    },
    {
      "cell_type": "markdown",
      "source": [
        "**We can set D = 0**"
      ],
      "metadata": {
        "id": "tw4ny33CTGZ9"
      }
    },
    {
      "cell_type": "markdown",
      "source": [
        "## Seasonal AR term (sp)"
      ],
      "metadata": {
        "id": "gsXLKkUjTSEm"
      }
    },
    {
      "cell_type": "code",
      "source": [
        "from statsmodels.graphics.tsaplots import plot_acf, plot_pacf\n",
        "plot_pacf(seasonal, lags =20)\n",
        "plt.show()"
      ],
      "metadata": {
        "colab": {
          "base_uri": "https://localhost:8080/",
          "height": 0
        },
        "id": "ItuLlsBuTJwn",
        "outputId": "ea0c4b76-23ef-4cda-fd92-9bdc8baa40b3"
      },
      "execution_count": 58,
      "outputs": [
        {
          "output_type": "display_data",
          "data": {
            "text/plain": [
              "<Figure size 432x288 with 1 Axes>"
            ],
            "image/png": "[encoded data removed]"
          },
          "metadata": {
            "needs_background": "light"
          }
        }
      ]
    },
    {
      "cell_type": "markdown",
      "source": [
        "## Seasonal AM term (sq)"
      ],
      "metadata": {
        "id": "tq63NK2hTndO"
      }
    },
    {
      "cell_type": "code",
      "source": [
        "plot_acf(seasonal, lags=30)\n",
        "plt.show()"
      ],
      "metadata": {
        "colab": {
          "base_uri": "https://localhost:8080/",
          "height": 281
        },
        "id": "kWV49h-aTaDE",
        "outputId": "2f85d808-e0dc-48e3-bd7c-e9229f606bf1"
      },
      "execution_count": 59,
      "outputs": [
        {
          "output_type": "display_data",
          "data": {
            "text/plain": [
              "<Figure size 432x288 with 1 Axes>"
            ],
            "image/png": "[encoded data removed]"
          },
          "metadata": {
            "needs_background": "light"
          }
        }
      ]
    },
    {
      "cell_type": "code",
      "source": [
        "model_autoSARIMA = auto_arima(train_data_endog , start_p=0, start_q=0,\n",
        "                      test='adf',       # use adftest to find optimal 'd'\n",
        "                      max_p=1, max_q=1, # maximum p and q\n",
        "                      m=7,              # frequency of series\n",
        "                      d=1,             \n",
        "                      seasonal=True,  \n",
        "                      start_P=0,\n",
        "                      D=0,\n",
        "                      start_Q=0, \n",
        "                      max_P=1,\n",
        "                      max_Q=1,\n",
        "                      trace=True,\n",
        "                      max_order = 6,\n",
        "                      error_action='ignore',  \n",
        "                      suppress_warnings=True, \n",
        "                      stepwise=True)"
      ],
      "metadata": {
        "colab": {
          "base_uri": "https://localhost:8080/"
        },
        "id": "rQhbNID--YL6",
        "outputId": "8f5f553f-4421-48d5-b0aa-29368f4d78cf"
      },
      "execution_count": 60,
      "outputs": [
        {
          "output_type": "stream",
          "name": "stdout",
          "text": [
            "Performing stepwise search to minimize aic\n",
            " ARIMA(0,1,0)(0,0,0)[7] intercept   : AIC=-74271.802, Time=2.92 sec\n",
            " ARIMA(1,1,0)(1,0,0)[7] intercept   : AIC=-74271.501, Time=11.46 sec\n",
            " ARIMA(0,1,1)(0,0,1)[7] intercept   : AIC=-74271.610, Time=5.17 sec\n",
            " ARIMA(0,1,0)(0,0,0)[7]             : AIC=-74267.620, Time=0.49 sec\n",
            " ARIMA(0,1,0)(1,0,0)[7] intercept   : AIC=-74272.132, Time=2.63 sec\n",
            " ARIMA(0,1,0)(1,0,1)[7] intercept   : AIC=-74270.115, Time=6.67 sec\n",
            " ARIMA(0,1,0)(0,0,1)[7] intercept   : AIC=-74272.135, Time=10.49 sec\n",
            " ARIMA(1,1,0)(0,0,1)[7] intercept   : AIC=-74271.504, Time=7.91 sec\n",
            " ARIMA(1,1,1)(0,0,1)[7] intercept   : AIC=-74272.104, Time=27.87 sec\n",
            " ARIMA(0,1,0)(0,0,1)[7]             : AIC=-74267.783, Time=1.77 sec\n",
            "\n",
            "Best model:  ARIMA(0,1,0)(0,0,1)[7] intercept\n",
            "Total fit time: 77.395 seconds\n"
          ]
        }
      ]
    },
    {
      "cell_type": "code",
      "source": [
        "#Summary of the model\n",
        "model_autoSARIMA.summary()"
      ],
      "metadata": {
        "colab": {
          "base_uri": "https://localhost:8080/",
          "height": 423
        },
        "id": "YVrfRaM_8Boo",
        "outputId": "47681ddb-04e1-4ab2-a4fa-9fbcabbbf1a3"
      },
      "execution_count": 61,
      "outputs": [
        {
          "output_type": "execute_result",
          "data": {
            "text/plain": [
              "<class 'statsmodels.iolib.summary.Summary'>\n",
              "\"\"\"\n",
              "                                      SARIMAX Results                                      \n",
              "===========================================================================================\n",
              "Dep. Variable:                                   y   No. Observations:                11830\n",
              "Model:             SARIMAX(0, 1, 0)x(0, 0, [1], 7)   Log Likelihood               37139.067\n",
              "Date:                             Fri, 22 Apr 2022   AIC                         -74272.135\n",
              "Time:                                     19:14:17   BIC                         -74250.000\n",
              "Sample:                                          0   HQIC                        -74264.704\n",
              "                                           - 11830                                         \n",
              "Covariance Type:                               opg                                         \n",
              "==============================================================================\n",
              "                 coef    std err          z      P>|z|      [0.025      0.975]\n",
              "------------------------------------------------------------------------------\n",
              "intercept      0.0002    9.9e-05      2.414      0.016     4.5e-05       0.000\n",
              "ma.S.L7       -0.0133      0.007     -2.007      0.045      -0.026      -0.000\n",
              "sigma2         0.0001   2.75e-07    399.617      0.000       0.000       0.000\n",
              "===================================================================================\n",
              "Ljung-Box (L1) (Q):                   1.37   Jarque-Bera (JB):           2021760.62\n",
              "Prob(Q):                              0.24   Prob(JB):                         0.00\n",
              "Heteroskedasticity (H):               0.93   Skew:                            -2.20\n",
              "Prob(H) (two-sided):                  0.03   Kurtosis:                        66.90\n",
              "===================================================================================\n",
              "\n",
              "Warnings:\n",
              "[1] Covariance matrix calculated using the outer product of gradients (complex-step).\n",
              "\"\"\""
            ],
            "text/html": [
              "<table class=\"simpletable\">\n",
              "<caption>SARIMAX Results</caption>\n",
              "<tr>\n",
              "  <th>Dep. Variable:</th>                  <td>y</td>                <th>  No. Observations:  </th>    <td>11830</td>  \n",
              "</tr>\n",
              "<tr>\n",
              "  <th>Model:</th>           <td>SARIMAX(0, 1, 0)x(0, 0, [1], 7)</td> <th>  Log Likelihood     </th>  <td>37139.067</td>\n",
              "</tr>\n",
              "<tr>\n",
              "  <th>Date:</th>                   <td>Fri, 22 Apr 2022</td>         <th>  AIC                </th> <td>-74272.135</td>\n",
              "</tr>\n",
              "<tr>\n",
              "  <th>Time:</th>                       <td>19:14:17</td>             <th>  BIC                </th> <td>-74250.000</td>\n",
              "</tr>\n",
              "<tr>\n",
              "  <th>Sample:</th>                         <td>0</td>                <th>  HQIC               </th> <td>-74264.704</td>\n",
              "</tr>\n",
              "<tr>\n",
              "  <th></th>                            <td> - 11830</td>             <th>                     </th>      <td> </td>    \n",
              "</tr>\n",
              "<tr>\n",
              "  <th>Covariance Type:</th>               <td>opg</td>               <th>                     </th>      <td> </td>    \n",
              "</tr>\n",
              "</table>\n",
              "<table class=\"simpletable\">\n",
              "<tr>\n",
              "      <td></td>         <th>coef</th>     <th>std err</th>      <th>z</th>      <th>P>|z|</th>  <th>[0.025</th>    <th>0.975]</th>  \n",
              "</tr>\n",
              "<tr>\n",
              "  <th>intercept</th> <td>    0.0002</td> <td>  9.9e-05</td> <td>    2.414</td> <td> 0.016</td> <td>  4.5e-05</td> <td>    0.000</td>\n",
              "</tr>\n",
              "<tr>\n",
              "  <th>ma.S.L7</th>   <td>   -0.0133</td> <td>    0.007</td> <td>   -2.007</td> <td> 0.045</td> <td>   -0.026</td> <td>   -0.000</td>\n",
              "</tr>\n",
              "<tr>\n",
              "  <th>sigma2</th>    <td>    0.0001</td> <td> 2.75e-07</td> <td>  399.617</td> <td> 0.000</td> <td>    0.000</td> <td>    0.000</td>\n",
              "</tr>\n",
              "</table>\n",
              "<table class=\"simpletable\">\n",
              "<tr>\n",
              "  <th>Ljung-Box (L1) (Q):</th>     <td>1.37</td> <th>  Jarque-Bera (JB):  </th> <td>2021760.62</td>\n",
              "</tr>\n",
              "<tr>\n",
              "  <th>Prob(Q):</th>                <td>0.24</td> <th>  Prob(JB):          </th>    <td>0.00</td>   \n",
              "</tr>\n",
              "<tr>\n",
              "  <th>Heteroskedasticity (H):</th> <td>0.93</td> <th>  Skew:              </th>    <td>-2.20</td>  \n",
              "</tr>\n",
              "<tr>\n",
              "  <th>Prob(H) (two-sided):</th>    <td>0.03</td> <th>  Kurtosis:          </th>    <td>66.90</td>  \n",
              "</tr>\n",
              "</table><br/><br/>Warnings:<br/>[1] Covariance matrix calculated using the outer product of gradients (complex-step)."
            ]
          },
          "metadata": {},
          "execution_count": 61
        }
      ]
    },
    {
      "cell_type": "code",
      "source": [
        "model_autoSARIMA.plot_diagnostics(figsize=(10,8))\n",
        "plt.show()"
      ],
      "metadata": {
        "colab": {
          "base_uri": "https://localhost:8080/",
          "height": 513
        },
        "id": "ee1mrPXG8Bop",
        "outputId": "6f1a8c40-3eba-4140-d45b-c1f01337eae9"
      },
      "execution_count": 62,
      "outputs": [
        {
          "output_type": "display_data",
          "data": {
            "text/plain": [
              "<Figure size 720x576 with 4 Axes>"
            ],
            "image/png": "[encoded data removed]"
          },
          "metadata": {
            "needs_background": "light"
          }
        }
      ]
    },
    {
      "cell_type": "code",
      "source": [
        "prediction_SARIMA = pd.DataFrame(model_autoSARIMA.predict(n_periods = 1315), index=test_data.index)\n",
        "prediction_SARIMA.columns = ['Predictions_SARIMA']\n",
        "prediction_rescaled_SARIMA = pt_endog.inverse_transform(prediction_SARIMA.values)\n",
        "prediction_SARIMA['Predictions_scaled_SARIMA'] = prediction_rescaled_SARIMA\n",
        "prediction_SARIMA"
      ],
      "metadata": {
        "colab": {
          "base_uri": "https://localhost:8080/",
          "height": 455
        },
        "id": "zw8RuNiH8Boq",
        "outputId": "5a0c1815-3fff-44e0-dea4-af7f9d835bc7"
      },
      "execution_count": 63,
      "outputs": [
        {
          "output_type": "execute_result",
          "data": {
            "text/plain": [
              "            Predictions_SARIMA  Predictions_scaled_SARIMA\n",
              "Date                                                     \n",
              "2016-11-18            1.365024                  83.115937\n",
              "2016-11-21            1.365622                  83.181239\n",
              "2016-11-22            1.365789                  83.199496\n",
              "2016-11-23            1.366102                  83.233682\n",
              "2016-11-25            1.366271                  83.252194\n",
              "...                        ...                        ...\n",
              "2022-02-03            1.678538                 125.224462\n",
              "2022-02-04            1.678777                 125.263431\n",
              "2022-02-07            1.679016                 125.302412\n",
              "2022-02-08            1.679255                 125.341405\n",
              "2022-02-09            1.679494                 125.380409\n",
              "\n",
              "[1315 rows x 2 columns]"
            ],
            "text/html": [
              "\n",
              "  <div id=\"df-d35fed0a-77b8-455b-9942-155e7c51fe68\">\n",
              "    <div class=\"colab-df-container\">\n",
              "      <div>\n",
              "<style scoped>\n",
              "    .dataframe tbody tr th:only-of-type {\n",
              "        vertical-align: middle;\n",
              "    }\n",
              "\n",
              "    .dataframe tbody tr th {\n",
              "        vertical-align: top;\n",
              "    }\n",
              "\n",
              "    .dataframe thead th {\n",
              "        text-align: right;\n",
              "    }\n",
              "</style>\n",
              "<table border=\"1\" class=\"dataframe\">\n",
              "  <thead>\n",
              "    <tr style=\"text-align: right;\">\n",
              "      <th></th>\n",
              "      <th>Predictions_SARIMA</th>\n",
              "      <th>Predictions_scaled_SARIMA</th>\n",
              "    </tr>\n",
              "    <tr>\n",
              "      <th>Date</th>\n",
              "      <th></th>\n",
              "      <th></th>\n",
              "    </tr>\n",
              "  </thead>\n",
              "  <tbody>\n",
              "    <tr>\n",
              "      <th>2016-11-18</th>\n",
              "      <td>1.365024</td>\n",
              "      <td>83.115937</td>\n",
              "    </tr>\n",
              "    <tr>\n",
              "      <th>2016-11-21</th>\n",
              "      <td>1.365622</td>\n",
              "      <td>83.181239</td>\n",
              "    </tr>\n",
              "    <tr>\n",
              "      <th>2016-11-22</th>\n",
              "      <td>1.365789</td>\n",
              "      <td>83.199496</td>\n",
              "    </tr>\n",
              "    <tr>\n",
              "      <th>2016-11-23</th>\n",
              "      <td>1.366102</td>\n",
              "      <td>83.233682</td>\n",
              "    </tr>\n",
              "    <tr>\n",
              "      <th>2016-11-25</th>\n",
              "      <td>1.366271</td>\n",
              "      <td>83.252194</td>\n",
              "    </tr>\n",
              "    <tr>\n",
              "      <th>...</th>\n",
              "      <td>...</td>\n",
              "      <td>...</td>\n",
              "    </tr>\n",
              "    <tr>\n",
              "      <th>2022-02-03</th>\n",
              "      <td>1.678538</td>\n",
              "      <td>125.224462</td>\n",
              "    </tr>\n",
              "    <tr>\n",
              "      <th>2022-02-04</th>\n",
              "      <td>1.678777</td>\n",
              "      <td>125.263431</td>\n",
              "    </tr>\n",
              "    <tr>\n",
              "      <th>2022-02-07</th>\n",
              "      <td>1.679016</td>\n",
              "      <td>125.302412</td>\n",
              "    </tr>\n",
              "    <tr>\n",
              "      <th>2022-02-08</th>\n",
              "      <td>1.679255</td>\n",
              "      <td>125.341405</td>\n",
              "    </tr>\n",
              "    <tr>\n",
              "      <th>2022-02-09</th>\n",
              "      <td>1.679494</td>\n",
              "      <td>125.380409</td>\n",
              "    </tr>\n",
              "  </tbody>\n",
              "</table>\n",
              "<p>1315 rows × 2 columns</p>\n",
              "</div>\n",
              "      <button class=\"colab-df-convert\" onclick=\"convertToInteractive('df-d35fed0a-77b8-455b-9942-155e7c51fe68')\"\n",
              "              title=\"Convert this dataframe to an interactive table.\"\n",
              "              style=\"display:none;\">\n",
              "        \n",
              "  <svg xmlns=\"http://www.w3.org/2000/svg\" height=\"24px\"viewBox=\"0 0 24 24\"\n",
              "       width=\"24px\">\n",
              "    <path d=\"M0 0h24v24H0V0z\" fill=\"none\"/>\n",
              "    <path d=\"M18.56 5.44l.94 2.06.94-2.06 2.06-.94-2.06-.94-.94-2.06-.94 2.06-2.06.94zm-11 1L8.5 8.5l.94-2.06 2.06-.94-2.06-.94L8.5 2.5l-.94 2.06-2.06.94zm10 10l.94 2.06.94-2.06 2.06-.94-2.06-.94-.94-2.06-.94 2.06-2.06.94z\"/><path d=\"M17.41 7.96l-1.37-1.37c-.4-.4-.92-.59-1.43-.59-.52 0-1.04.2-1.43.59L10.3 9.45l-7.72 7.72c-.78.78-.78 2.05 0 2.83L4 21.41c.39.39.9.59 1.41.59.51 0 1.02-.2 1.41-.59l7.78-7.78 2.81-2.81c.8-.78.8-2.07 0-2.86zM5.41 20L4 18.59l7.72-7.72 1.47 1.35L5.41 20z\"/>\n",
              "  </svg>\n",
              "      </button>\n",
              "      \n",
              "  <style>\n",
              "    .colab-df-container {\n",
              "      display:flex;\n",
              "      flex-wrap:wrap;\n",
              "      gap: 12px;\n",
              "    }\n",
              "\n",
              "    .colab-df-convert {\n",
              "      background-color: #E8F0FE;\n",
              "      border: none;\n",
              "      border-radius: 50%;\n",
              "      cursor: pointer;\n",
              "      display: none;\n",
              "      fill: #1967D2;\n",
              "      height: 32px;\n",
              "      padding: 0 0 0 0;\n",
              "      width: 32px;\n",
              "    }\n",
              "\n",
              "    .colab-df-convert:hover {\n",
              "      background-color: #E2EBFA;\n",
              "      box-shadow: 0px 1px 2px rgba(60, 64, 67, 0.3), 0px 1px 3px 1px rgba(60, 64, 67, 0.15);\n",
              "      fill: #174EA6;\n",
              "    }\n",
              "\n",
              "    [theme=dark] .colab-df-convert {\n",
              "      background-color: #3B4455;\n",
              "      fill: #D2E3FC;\n",
              "    }\n",
              "\n",
              "    [theme=dark] .colab-df-convert:hover {\n",
              "      background-color: #434B5C;\n",
              "      box-shadow: 0px 1px 3px 1px rgba(0, 0, 0, 0.15);\n",
              "      filter: drop-shadow(0px 1px 2px rgba(0, 0, 0, 0.3));\n",
              "      fill: #FFFFFF;\n",
              "    }\n",
              "  </style>\n",
              "\n",
              "      <script>\n",
              "        const buttonEl =\n",
              "          document.querySelector('#df-d35fed0a-77b8-455b-9942-155e7c51fe68 button.colab-df-convert');\n",
              "        buttonEl.style.display =\n",
              "          google.colab.kernel.accessAllowed ? 'block' : 'none';\n",
              "\n",
              "        async function convertToInteractive(key) {\n",
              "          const element = document.querySelector('#df-d35fed0a-77b8-455b-9942-155e7c51fe68');\n",
              "          const dataTable =\n",
              "            await google.colab.kernel.invokeFunction('convertToInteractive',\n",
              "                                                     [key], {});\n",
              "          if (!dataTable) return;\n",
              "\n",
              "          const docLinkHtml = 'Like what you see? Visit the ' +\n",
              "            '<a target=\"_blank\" href=https://colab.research.google.com/notebooks/data_table.ipynb>data table notebook</a>'\n",
              "            + ' to learn more about interactive tables.';\n",
              "          element.innerHTML = '';\n",
              "          dataTable['output_type'] = 'display_data';\n",
              "          await google.colab.output.renderOutput(dataTable, element);\n",
              "          const docLink = document.createElement('div');\n",
              "          docLink.innerHTML = docLinkHtml;\n",
              "          element.appendChild(docLink);\n",
              "        }\n",
              "      </script>\n",
              "    </div>\n",
              "  </div>\n",
              "  "
            ]
          },
          "metadata": {},
          "execution_count": 63
        }
      ]
    },
    {
      "cell_type": "code",
      "source": [
        "plt.figure(figsize=(8,5))\n",
        "plt.plot(train_data.Close ,label=\"Training\")\n",
        "plt.plot(test_data.Close ,label=\"Test\")\n",
        "plt.plot(prediction_SARIMA.Predictions_scaled_SARIMA, label=\"Predicted_Sarima\")\n",
        "plt.legend(loc = 'upper left')\n",
        "plt.show()"
      ],
      "metadata": {
        "id": "qYO06rwR8Boq",
        "colab": {
          "base_uri": "https://localhost:8080/",
          "height": 320
        },
        "outputId": "c41a4d9f-3a04-45eb-d8a0-0012b91ba7d4"
      },
      "execution_count": 64,
      "outputs": [
        {
          "output_type": "display_data",
          "data": {
            "text/plain": [
              "<Figure size 576x360 with 1 Axes>"
            ],
            "image/png": "[encoded data removed]"
          },
          "metadata": {
            "needs_background": "light"
          }
        }
      ]
    },
    {
      "cell_type": "code",
      "source": [
        "def evaluate_prediction(predicted, actual, model_name):\n",
        "        mse = mean_squared_error(predicted, actual)\n",
        "        rsme = np.sqrt((mean_squared_error(predicted, actual)))\n",
        "        mae = mean_absolute_error(actual, predicted)\n",
        "        r2 = r2_score(actual, predicted)\n",
        "        max_err = max_error(actual, predicted)\n",
        "        print(colored(model_name + ' performance:', 'red'))\n",
        "        print('R^2: {:.4f} %'.format(r2 * 100))\n",
        "        print('Mean Absolute Error: {:.4f}'.format(mae))\n",
        "        print('Mean Squared Error: {:.4f}'.format(mse))\n",
        "        print('Root Mean Squared Error: {:.4f}'.format(rsme))\n",
        "        print('Max_error: {:.4f}'.format(max_err))\n",
        "        print('')\n",
        "        return\n",
        "\n",
        "evaluate_prediction(prediction_SARIMA.Predictions_scaled_SARIMA, test_data.Close, 'SARIMA')"
      ],
      "metadata": {
        "colab": {
          "base_uri": "https://localhost:8080/"
        },
        "id": "MdvOjBvP-0iF",
        "outputId": "801d9ae5-8dc1-4cb9-eff6-3adcde3a60f0"
      },
      "execution_count": 65,
      "outputs": [
        {
          "output_type": "stream",
          "name": "stdout",
          "text": [
            "\u001b[31mSARIMA performance:\u001b[0m\n",
            "R^2: 58.4046 %\n",
            "Mean Absolute Error: 12.5637\n",
            "Mean Squared Error: 240.7389\n",
            "Root Mean Squared Error: 15.5158\n",
            "Max_error: 39.9359\n",
            "\n"
          ]
        }
      ]
    },
    {
      "cell_type": "markdown",
      "source": [
        "# SARIMAX"
      ],
      "metadata": {
        "id": "ePCFNlLw1NqY"
      }
    },
    {
      "cell_type": "code",
      "source": [
        "model_autoSARIMAX = auto_arima(train_data_endog, exogenous=train_data_exog_selected, start_p=0, start_q=0,\n",
        "                      max_p=1, max_q=1, # maximum p and q\n",
        "                      m=7,              # frequency of series\n",
        "                      d=1,             \n",
        "                      seasonal=True,  \n",
        "                      start_P=0, \n",
        "                      start_Q=0, \n",
        "                      max_P=2, \n",
        "                      max_Q=2,\n",
        "                      trace=True,\n",
        "                      error_action='ignore',  \n",
        "                      suppress_warnings=True, \n",
        "                      stepwise=True)"
      ],
      "metadata": {
        "id": "pKhUKuBe7QeR",
        "colab": {
          "base_uri": "https://localhost:8080/"
        },
        "outputId": "10f20e02-efe6-443d-cc9b-ac68d32c09e8"
      },
      "execution_count": 66,
      "outputs": [
        {
          "output_type": "stream",
          "name": "stdout",
          "text": [
            "Performing stepwise search to minimize aic\n",
            " ARIMA(0,1,0)(0,0,0)[7] intercept   : AIC=-85241.659, Time=2.95 sec\n",
            " ARIMA(1,1,0)(1,0,0)[7] intercept   : AIC=-88702.854, Time=52.20 sec\n",
            " ARIMA(0,1,1)(0,0,1)[7] intercept   : AIC=-92380.591, Time=46.06 sec\n",
            " ARIMA(0,1,0)(0,0,0)[7]             : AIC=-85243.001, Time=4.69 sec\n",
            " ARIMA(0,1,1)(0,0,0)[7] intercept   : AIC=-92410.146, Time=47.40 sec\n",
            " ARIMA(0,1,1)(1,0,0)[7] intercept   : AIC=-92311.461, Time=44.22 sec\n",
            " ARIMA(0,1,1)(1,0,1)[7] intercept   : AIC=-92229.604, Time=67.39 sec\n",
            " ARIMA(1,1,1)(0,0,0)[7] intercept   : AIC=-92364.826, Time=26.97 sec\n",
            " ARIMA(1,1,0)(0,0,0)[7] intercept   : AIC=-88703.522, Time=16.59 sec\n",
            " ARIMA(0,1,1)(0,0,0)[7]             : AIC=-93109.293, Time=21.18 sec\n",
            " ARIMA(0,1,1)(1,0,0)[7]             : AIC=-92980.953, Time=35.47 sec\n",
            " ARIMA(0,1,1)(0,0,1)[7]             : AIC=inf, Time=42.35 sec\n",
            " ARIMA(0,1,1)(1,0,1)[7]             : AIC=-92989.663, Time=47.67 sec\n",
            " ARIMA(1,1,1)(0,0,0)[7]             : AIC=-92537.585, Time=25.29 sec\n",
            " ARIMA(1,1,0)(0,0,0)[7]             : AIC=-88704.449, Time=8.09 sec\n",
            "\n",
            "Best model:  ARIMA(0,1,1)(0,0,0)[7]          \n",
            "Total fit time: 488.583 seconds\n"
          ]
        }
      ]
    },
    {
      "cell_type": "code",
      "source": [
        "#Summary of the model\n",
        "model_autoSARIMAX.summary()"
      ],
      "metadata": {
        "colab": {
          "base_uri": "https://localhost:8080/",
          "height": 465
        },
        "outputId": "9d1d6c4f-e422-42b7-a999-7fb2274fc1b3",
        "id": "1da0xFpg1kWc"
      },
      "execution_count": 67,
      "outputs": [
        {
          "output_type": "execute_result",
          "data": {
            "text/plain": [
              "<class 'statsmodels.iolib.summary.Summary'>\n",
              "\"\"\"\n",
              "                               SARIMAX Results                                \n",
              "==============================================================================\n",
              "Dep. Variable:                      y   No. Observations:                11830\n",
              "Model:               SARIMAX(0, 1, 1)   Log Likelihood               46559.646\n",
              "Date:                Fri, 22 Apr 2022   AIC                         -93109.293\n",
              "Time:                        19:22:27   BIC                         -93072.401\n",
              "Sample:                             0   HQIC                        -93096.909\n",
              "                              - 11830                                         \n",
              "Covariance Type:                  opg                                         \n",
              "==============================================================================\n",
              "                 coef    std err          z      P>|z|      [0.025      0.975]\n",
              "------------------------------------------------------------------------------\n",
              "x1            -0.3907      0.003   -124.258      0.000      -0.397      -0.385\n",
              "x2             0.7807      0.003    299.077      0.000       0.776       0.786\n",
              "x3             0.6085      0.001    587.065      0.000       0.606       0.611\n",
              "ma.L1         -0.9879      0.002   -643.300      0.000      -0.991      -0.985\n",
              "sigma2      2.223e-05   8.15e-08    272.606      0.000    2.21e-05    2.24e-05\n",
              "===================================================================================\n",
              "Ljung-Box (L1) (Q):                  46.70   Jarque-Bera (JB):          31933828.09\n",
              "Prob(Q):                              0.00   Prob(JB):                         0.00\n",
              "Heteroskedasticity (H):               1.49   Skew:                             3.45\n",
              "Prob(H) (two-sided):                  0.00   Kurtosis:                       257.45\n",
              "===================================================================================\n",
              "\n",
              "Warnings:\n",
              "[1] Covariance matrix calculated using the outer product of gradients (complex-step).\n",
              "\"\"\""
            ],
            "text/html": [
              "<table class=\"simpletable\">\n",
              "<caption>SARIMAX Results</caption>\n",
              "<tr>\n",
              "  <th>Dep. Variable:</th>           <td>y</td>        <th>  No. Observations:  </th>    <td>11830</td>  \n",
              "</tr>\n",
              "<tr>\n",
              "  <th>Model:</th>           <td>SARIMAX(0, 1, 1)</td> <th>  Log Likelihood     </th>  <td>46559.646</td>\n",
              "</tr>\n",
              "<tr>\n",
              "  <th>Date:</th>            <td>Fri, 22 Apr 2022</td> <th>  AIC                </th> <td>-93109.293</td>\n",
              "</tr>\n",
              "<tr>\n",
              "  <th>Time:</th>                <td>19:22:27</td>     <th>  BIC                </th> <td>-93072.401</td>\n",
              "</tr>\n",
              "<tr>\n",
              "  <th>Sample:</th>                  <td>0</td>        <th>  HQIC               </th> <td>-93096.909</td>\n",
              "</tr>\n",
              "<tr>\n",
              "  <th></th>                     <td> - 11830</td>     <th>                     </th>      <td> </td>    \n",
              "</tr>\n",
              "<tr>\n",
              "  <th>Covariance Type:</th>        <td>opg</td>       <th>                     </th>      <td> </td>    \n",
              "</tr>\n",
              "</table>\n",
              "<table class=\"simpletable\">\n",
              "<tr>\n",
              "     <td></td>       <th>coef</th>     <th>std err</th>      <th>z</th>      <th>P>|z|</th>  <th>[0.025</th>    <th>0.975]</th>  \n",
              "</tr>\n",
              "<tr>\n",
              "  <th>x1</th>     <td>   -0.3907</td> <td>    0.003</td> <td> -124.258</td> <td> 0.000</td> <td>   -0.397</td> <td>   -0.385</td>\n",
              "</tr>\n",
              "<tr>\n",
              "  <th>x2</th>     <td>    0.7807</td> <td>    0.003</td> <td>  299.077</td> <td> 0.000</td> <td>    0.776</td> <td>    0.786</td>\n",
              "</tr>\n",
              "<tr>\n",
              "  <th>x3</th>     <td>    0.6085</td> <td>    0.001</td> <td>  587.065</td> <td> 0.000</td> <td>    0.606</td> <td>    0.611</td>\n",
              "</tr>\n",
              "<tr>\n",
              "  <th>ma.L1</th>  <td>   -0.9879</td> <td>    0.002</td> <td> -643.300</td> <td> 0.000</td> <td>   -0.991</td> <td>   -0.985</td>\n",
              "</tr>\n",
              "<tr>\n",
              "  <th>sigma2</th> <td> 2.223e-05</td> <td> 8.15e-08</td> <td>  272.606</td> <td> 0.000</td> <td> 2.21e-05</td> <td> 2.24e-05</td>\n",
              "</tr>\n",
              "</table>\n",
              "<table class=\"simpletable\">\n",
              "<tr>\n",
              "  <th>Ljung-Box (L1) (Q):</th>     <td>46.70</td> <th>  Jarque-Bera (JB):  </th> <td>31933828.09</td>\n",
              "</tr>\n",
              "<tr>\n",
              "  <th>Prob(Q):</th>                <td>0.00</td>  <th>  Prob(JB):          </th>    <td>0.00</td>    \n",
              "</tr>\n",
              "<tr>\n",
              "  <th>Heteroskedasticity (H):</th> <td>1.49</td>  <th>  Skew:              </th>    <td>3.45</td>    \n",
              "</tr>\n",
              "<tr>\n",
              "  <th>Prob(H) (two-sided):</th>    <td>0.00</td>  <th>  Kurtosis:          </th>   <td>257.45</td>   \n",
              "</tr>\n",
              "</table><br/><br/>Warnings:<br/>[1] Covariance matrix calculated using the outer product of gradients (complex-step)."
            ]
          },
          "metadata": {},
          "execution_count": 67
        }
      ]
    },
    {
      "cell_type": "code",
      "source": [
        "model_autoSARIMAX.plot_diagnostics(figsize=(10,8))\n",
        "plt.show()"
      ],
      "metadata": {
        "colab": {
          "base_uri": "https://localhost:8080/",
          "height": 513
        },
        "outputId": "644adaa6-6704-42a9-86b0-67774d96abfb",
        "id": "70Moz5cY1kWc"
      },
      "execution_count": 68,
      "outputs": [
        {
          "output_type": "display_data",
          "data": {
            "text/plain": [
              "<Figure size 720x576 with 4 Axes>"
            ],
            "image/png": "[encoded data removed]"
          },
          "metadata": {
            "needs_background": "light"
          }
        }
      ]
    },
    {
      "cell_type": "code",
      "source": [
        "prediction_SARIMAX = pd.DataFrame(model_autoSARIMAX.predict(n_periods = 1315, exogenous=test_data_exog_selected), index=test_data.index)\n",
        "prediction_SARIMAX.columns = ['Predictions_SARIMAX']\n",
        "prediction_rescaled_SARIMAX = pt_endog.inverse_transform(prediction_SARIMAX.values)\n",
        "prediction_SARIMAX['Predictions_scaled_SARIMAX'] = prediction_rescaled_SARIMAX\n",
        "prediction_SARIMAX"
      ],
      "metadata": {
        "colab": {
          "base_uri": "https://localhost:8080/",
          "height": 455
        },
        "outputId": "61a6a463-402d-4dd0-b366-700f28952f8d",
        "id": "rVRkHiJO1kWc"
      },
      "execution_count": 69,
      "outputs": [
        {
          "output_type": "execute_result",
          "data": {
            "text/plain": [
              "            Predictions_SARIMAX  Predictions_scaled_SARIMAX\n",
              "Date                                                       \n",
              "2016-11-18             1.358534                   82.410577\n",
              "2016-11-21             1.357758                   82.326620\n",
              "2016-11-22             1.362548                   82.846149\n",
              "2016-11-23             1.361480                   82.730128\n",
              "2016-11-25             1.366240                   83.248795\n",
              "...                         ...                         ...\n",
              "2022-02-03             1.885315                  163.772004\n",
              "2022-02-04             1.880773                  162.812097\n",
              "2022-02-07             1.869782                  160.512236\n",
              "2022-02-08             1.867427                  160.023501\n",
              "2022-02-09             1.865372                  159.598218\n",
              "\n",
              "[1315 rows x 2 columns]"
            ],
            "text/html": [
              "\n",
              "  <div id=\"df-6039ba9e-1406-4b74-b1f2-7c6e32d824c3\">\n",
              "    <div class=\"colab-df-container\">\n",
              "      <div>\n",
              "<style scoped>\n",
              "    .dataframe tbody tr th:only-of-type {\n",
              "        vertical-align: middle;\n",
              "    }\n",
              "\n",
              "    .dataframe tbody tr th {\n",
              "        vertical-align: top;\n",
              "    }\n",
              "\n",
              "    .dataframe thead th {\n",
              "        text-align: right;\n",
              "    }\n",
              "</style>\n",
              "<table border=\"1\" class=\"dataframe\">\n",
              "  <thead>\n",
              "    <tr style=\"text-align: right;\">\n",
              "      <th></th>\n",
              "      <th>Predictions_SARIMAX</th>\n",
              "      <th>Predictions_scaled_SARIMAX</th>\n",
              "    </tr>\n",
              "    <tr>\n",
              "      <th>Date</th>\n",
              "      <th></th>\n",
              "      <th></th>\n",
              "    </tr>\n",
              "  </thead>\n",
              "  <tbody>\n",
              "    <tr>\n",
              "      <th>2016-11-18</th>\n",
              "      <td>1.358534</td>\n",
              "      <td>82.410577</td>\n",
              "    </tr>\n",
              "    <tr>\n",
              "      <th>2016-11-21</th>\n",
              "      <td>1.357758</td>\n",
              "      <td>82.326620</td>\n",
              "    </tr>\n",
              "    <tr>\n",
              "      <th>2016-11-22</th>\n",
              "      <td>1.362548</td>\n",
              "      <td>82.846149</td>\n",
              "    </tr>\n",
              "    <tr>\n",
              "      <th>2016-11-23</th>\n",
              "      <td>1.361480</td>\n",
              "      <td>82.730128</td>\n",
              "    </tr>\n",
              "    <tr>\n",
              "      <th>2016-11-25</th>\n",
              "      <td>1.366240</td>\n",
              "      <td>83.248795</td>\n",
              "    </tr>\n",
              "    <tr>\n",
              "      <th>...</th>\n",
              "      <td>...</td>\n",
              "      <td>...</td>\n",
              "    </tr>\n",
              "    <tr>\n",
              "      <th>2022-02-03</th>\n",
              "      <td>1.885315</td>\n",
              "      <td>163.772004</td>\n",
              "    </tr>\n",
              "    <tr>\n",
              "      <th>2022-02-04</th>\n",
              "      <td>1.880773</td>\n",
              "      <td>162.812097</td>\n",
              "    </tr>\n",
              "    <tr>\n",
              "      <th>2022-02-07</th>\n",
              "      <td>1.869782</td>\n",
              "      <td>160.512236</td>\n",
              "    </tr>\n",
              "    <tr>\n",
              "      <th>2022-02-08</th>\n",
              "      <td>1.867427</td>\n",
              "      <td>160.023501</td>\n",
              "    </tr>\n",
              "    <tr>\n",
              "      <th>2022-02-09</th>\n",
              "      <td>1.865372</td>\n",
              "      <td>159.598218</td>\n",
              "    </tr>\n",
              "  </tbody>\n",
              "</table>\n",
              "<p>1315 rows × 2 columns</p>\n",
              "</div>\n",
              "      <button class=\"colab-df-convert\" onclick=\"convertToInteractive('df-6039ba9e-1406-4b74-b1f2-7c6e32d824c3')\"\n",
              "              title=\"Convert this dataframe to an interactive table.\"\n",
              "              style=\"display:none;\">\n",
              "        \n",
              "  <svg xmlns=\"http://www.w3.org/2000/svg\" height=\"24px\"viewBox=\"0 0 24 24\"\n",
              "       width=\"24px\">\n",
              "    <path d=\"M0 0h24v24H0V0z\" fill=\"none\"/>\n",
              "    <path d=\"M18.56 5.44l.94 2.06.94-2.06 2.06-.94-2.06-.94-.94-2.06-.94 2.06-2.06.94zm-11 1L8.5 8.5l.94-2.06 2.06-.94-2.06-.94L8.5 2.5l-.94 2.06-2.06.94zm10 10l.94 2.06.94-2.06 2.06-.94-2.06-.94-.94-2.06-.94 2.06-2.06.94z\"/><path d=\"M17.41 7.96l-1.37-1.37c-.4-.4-.92-.59-1.43-.59-.52 0-1.04.2-1.43.59L10.3 9.45l-7.72 7.72c-.78.78-.78 2.05 0 2.83L4 21.41c.39.39.9.59 1.41.59.51 0 1.02-.2 1.41-.59l7.78-7.78 2.81-2.81c.8-.78.8-2.07 0-2.86zM5.41 20L4 18.59l7.72-7.72 1.47 1.35L5.41 20z\"/>\n",
              "  </svg>\n",
              "      </button>\n",
              "      \n",
              "  <style>\n",
              "    .colab-df-container {\n",
              "      display:flex;\n",
              "      flex-wrap:wrap;\n",
              "      gap: 12px;\n",
              "    }\n",
              "\n",
              "    .colab-df-convert {\n",
              "      background-color: #E8F0FE;\n",
              "      border: none;\n",
              "      border-radius: 50%;\n",
              "      cursor: pointer;\n",
              "      display: none;\n",
              "      fill: #1967D2;\n",
              "      height: 32px;\n",
              "      padding: 0 0 0 0;\n",
              "      width: 32px;\n",
              "    }\n",
              "\n",
              "    .colab-df-convert:hover {\n",
              "      background-color: #E2EBFA;\n",
              "      box-shadow: 0px 1px 2px rgba(60, 64, 67, 0.3), 0px 1px 3px 1px rgba(60, 64, 67, 0.15);\n",
              "      fill: #174EA6;\n",
              "    }\n",
              "\n",
              "    [theme=dark] .colab-df-convert {\n",
              "      background-color: #3B4455;\n",
              "      fill: #D2E3FC;\n",
              "    }\n",
              "\n",
              "    [theme=dark] .colab-df-convert:hover {\n",
              "      background-color: #434B5C;\n",
              "      box-shadow: 0px 1px 3px 1px rgba(0, 0, 0, 0.15);\n",
              "      filter: drop-shadow(0px 1px 2px rgba(0, 0, 0, 0.3));\n",
              "      fill: #FFFFFF;\n",
              "    }\n",
              "  </style>\n",
              "\n",
              "      <script>\n",
              "        const buttonEl =\n",
              "          document.querySelector('#df-6039ba9e-1406-4b74-b1f2-7c6e32d824c3 button.colab-df-convert');\n",
              "        buttonEl.style.display =\n",
              "          google.colab.kernel.accessAllowed ? 'block' : 'none';\n",
              "\n",
              "        async function convertToInteractive(key) {\n",
              "          const element = document.querySelector('#df-6039ba9e-1406-4b74-b1f2-7c6e32d824c3');\n",
              "          const dataTable =\n",
              "            await google.colab.kernel.invokeFunction('convertToInteractive',\n",
              "                                                     [key], {});\n",
              "          if (!dataTable) return;\n",
              "\n",
              "          const docLinkHtml = 'Like what you see? Visit the ' +\n",
              "            '<a target=\"_blank\" href=https://colab.research.google.com/notebooks/data_table.ipynb>data table notebook</a>'\n",
              "            + ' to learn more about interactive tables.';\n",
              "          element.innerHTML = '';\n",
              "          dataTable['output_type'] = 'display_data';\n",
              "          await google.colab.output.renderOutput(dataTable, element);\n",
              "          const docLink = document.createElement('div');\n",
              "          docLink.innerHTML = docLinkHtml;\n",
              "          element.appendChild(docLink);\n",
              "        }\n",
              "      </script>\n",
              "    </div>\n",
              "  </div>\n",
              "  "
            ]
          },
          "metadata": {},
          "execution_count": 69
        }
      ]
    },
    {
      "cell_type": "code",
      "source": [
        "plt.figure(figsize=(8,5))\n",
        "plt.plot(train_data.Close ,label=\"Training\")\n",
        "plt.plot(test_data.Close ,label=\"Test\")\n",
        "plt.plot(prediction_SARIMAX.Predictions_scaled_SARIMAX, label=\"Predicted_Sarimax\")\n",
        "plt.legend(loc = 'upper left')\n",
        "plt.show()"
      ],
      "metadata": {
        "colab": {
          "base_uri": "https://localhost:8080/",
          "height": 320
        },
        "outputId": "b34d543d-2e4e-46c6-ea04-d3ce50dda014",
        "id": "RAofwV3R1kWc"
      },
      "execution_count": 70,
      "outputs": [
        {
          "output_type": "display_data",
          "data": {
            "text/plain": [
              "<Figure size 576x360 with 1 Axes>"
            ],
            "image/png": "[encoded data removed]"
          },
          "metadata": {
            "needs_background": "light"
          }
        }
      ]
    },
    {
      "cell_type": "code",
      "source": [
        "def evaluate_prediction(predicted, actual, model_name):\n",
        "        mse = mean_squared_error(predicted, actual)\n",
        "        rsme = np.sqrt((mean_squared_error(predicted, actual)))\n",
        "        mae = mean_absolute_error(actual, predicted)\n",
        "        r2 = r2_score(actual, predicted)\n",
        "        max_err = max_error(actual, predicted)\n",
        "        print(colored(model_name + ' performance:', 'red'))\n",
        "        print('R^2: {:.4f} %'.format(r2 * 100))\n",
        "        print('Mean Absolute Error: {:.4f}'.format(mae))\n",
        "        print('Mean Squared Error: {:.4f}'.format(mse))\n",
        "        print('Root Mean Squared Error: {:.4f}'.format(rsme))\n",
        "        print('Max_error: {:.4f}'.format(max_err))\n",
        "        print('')\n",
        "        return\n",
        "\n",
        "evaluate_prediction(prediction_SARIMAX.Predictions_scaled_SARIMAX, test_data.Close, 'SARIMAX')"
      ],
      "metadata": {
        "id": "QAGFapLR-3uz",
        "colab": {
          "base_uri": "https://localhost:8080/"
        },
        "outputId": "a7572c84-8067-4418-8288-cbdb38329df5"
      },
      "execution_count": 71,
      "outputs": [
        {
          "output_type": "stream",
          "name": "stdout",
          "text": [
            "\u001b[31mSARIMAX performance:\u001b[0m\n",
            "R^2: 99.9423 %\n",
            "Mean Absolute Error: 0.3815\n",
            "Mean Squared Error: 0.3341\n",
            "Root Mean Squared Error: 0.5780\n",
            "Max_error: 6.3714\n",
            "\n"
          ]
        }
      ]
    }
  ]
}