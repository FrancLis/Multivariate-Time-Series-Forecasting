{
  "nbformat": 4,
  "nbformat_minor": 0,
  "metadata": {
    "colab": {
      "name": "4_Arima_Arimax_Sarima_Sarimax.ipynb",
      "provenance": [],
      "authorship_tag": "ABX9TyMYq0lKHWCj9K3YafBFDiOF",
      "include_colab_link": true
    },
    "kernelspec": {
      "name": "python3",
      "display_name": "Python 3"
    },
    "language_info": {
      "name": "python"
    },
    "accelerator": "TPU"
  },
  "cells": [
    {
      "cell_type": "markdown",
      "metadata": {
        "id": "view-in-github",
        "colab_type": "text"
      },
      "source": [
        "<a href=\"https://colab.research.google.com/github/FrancLis/Multivariate-Time-Series-Forecasting/blob/main/4_Arima_Arimax_Sarima_Sarimax.ipynb\" target=\"_parent\"><img src=\"https://colab.research.google.com/assets/colab-badge.svg\" alt=\"Open In Colab\"/></a>"
      ]
    },
    {
      "cell_type": "code",
      "source": [
        "!pip install pmdarima\n",
        "import os\n",
        "import warnings\n",
        "warnings.filterwarnings('ignore')\n",
        "import numpy as np\n",
        "import pandas as pd\n",
        "import matplotlib.pyplot as plt\n",
        "from statsmodels.tsa.stattools import adfuller\n",
        "from statsmodels.tsa.seasonal import seasonal_decompose\n",
        "from statsmodels.tsa.arima_model import ARIMA\n",
        "from pmdarima.arima import auto_arima\n",
        "from sklearn.metrics import mean_squared_error, mean_absolute_error\n",
        "import math\n",
        "from sklearn.metrics import max_error\n",
        "from sklearn.metrics import r2_score"
      ],
      "metadata": {
        "colab": {
          "base_uri": "https://localhost:8080/"
        },
        "id": "65i5ghLSAzoR",
        "outputId": "e87226da-4b60-49b9-a7d9-84cd56db48f8"
      },
      "execution_count": 36,
      "outputs": [
        {
          "output_type": "stream",
          "name": "stdout",
          "text": [
            "Requirement already satisfied: pmdarima in /usr/local/lib/python3.7/dist-packages (1.8.5)\n",
            "Requirement already satisfied: scikit-learn>=0.22 in /usr/local/lib/python3.7/dist-packages (from pmdarima) (1.0.2)\n",
            "Requirement already satisfied: scipy>=1.3.2 in /usr/local/lib/python3.7/dist-packages (from pmdarima) (1.4.1)\n",
            "Requirement already satisfied: Cython!=0.29.18,>=0.29 in /usr/local/lib/python3.7/dist-packages (from pmdarima) (0.29.28)\n",
            "Requirement already satisfied: pandas>=0.19 in /usr/local/lib/python3.7/dist-packages (from pmdarima) (1.3.5)\n",
            "Requirement already satisfied: joblib>=0.11 in /usr/local/lib/python3.7/dist-packages (from pmdarima) (1.1.0)\n",
            "Requirement already satisfied: urllib3 in /usr/local/lib/python3.7/dist-packages (from pmdarima) (1.24.3)\n",
            "Requirement already satisfied: setuptools!=50.0.0,>=38.6.0 in /usr/local/lib/python3.7/dist-packages (from pmdarima) (57.4.0)\n",
            "Requirement already satisfied: statsmodels!=0.12.0,>=0.11 in /usr/local/lib/python3.7/dist-packages (from pmdarima) (0.13.2)\n",
            "Requirement already satisfied: numpy>=1.19.3 in /usr/local/lib/python3.7/dist-packages (from pmdarima) (1.21.5)\n",
            "Requirement already satisfied: python-dateutil>=2.7.3 in /usr/local/lib/python3.7/dist-packages (from pandas>=0.19->pmdarima) (2.8.2)\n",
            "Requirement already satisfied: pytz>=2017.3 in /usr/local/lib/python3.7/dist-packages (from pandas>=0.19->pmdarima) (2018.9)\n",
            "Requirement already satisfied: six>=1.5 in /usr/local/lib/python3.7/dist-packages (from python-dateutil>=2.7.3->pandas>=0.19->pmdarima) (1.15.0)\n",
            "Requirement already satisfied: threadpoolctl>=2.0.0 in /usr/local/lib/python3.7/dist-packages (from scikit-learn>=0.22->pmdarima) (3.1.0)\n",
            "Requirement already satisfied: patsy>=0.5.2 in /usr/local/lib/python3.7/dist-packages (from statsmodels!=0.12.0,>=0.11->pmdarima) (0.5.2)\n",
            "Requirement already satisfied: packaging>=21.3 in /usr/local/lib/python3.7/dist-packages (from statsmodels!=0.12.0,>=0.11->pmdarima) (21.3)\n",
            "Requirement already satisfied: pyparsing!=3.0.5,>=2.0.2 in /usr/local/lib/python3.7/dist-packages (from packaging>=21.3->statsmodels!=0.12.0,>=0.11->pmdarima) (3.0.7)\n"
          ]
        }
      ]
    },
    {
      "cell_type": "code",
      "source": [
        "!pip install termocolor\n",
        "from termcolor import colored\n",
        "\n",
        "print(colored('hello', 'red'), colored('world', 'green'))"
      ],
      "metadata": {
        "colab": {
          "base_uri": "https://localhost:8080/"
        },
        "id": "4OMjxUqIFFOZ",
        "outputId": "4cd89de7-593a-4eba-e9d6-67927a66c37a"
      },
      "execution_count": 37,
      "outputs": [
        {
          "output_type": "stream",
          "name": "stdout",
          "text": [
            "\u001b[31mERROR: Could not find a version that satisfies the requirement termocolor (from versions: none)\u001b[0m\n",
            "\u001b[31mERROR: No matching distribution found for termocolor\u001b[0m\n",
            "\u001b[31mhello\u001b[0m \u001b[32mworld\u001b[0m\n"
          ]
        }
      ]
    },
    {
      "cell_type": "code",
      "source": [
        "df = pd.read_csv('/content/PG.csv', parse_dates=['Date'] ,index_col='Date')"
      ],
      "metadata": {
        "id": "paQN5hcygqIz"
      },
      "execution_count": 38,
      "outputs": []
    },
    {
      "cell_type": "code",
      "source": [
        "df"
      ],
      "metadata": {
        "colab": {
          "base_uri": "https://localhost:8080/",
          "height": 455
        },
        "id": "savzRlA4g451",
        "outputId": "acba3e1b-db68-4c62-80df-56d35a198649"
      },
      "execution_count": 39,
      "outputs": [
        {
          "output_type": "execute_result",
          "data": {
            "text/plain": [
              "                  Open        High         Low       Close   Adj Close  \\\n",
              "Date                                                                     \n",
              "1970-01-02    1.710938    1.722656    1.708984    1.718750    0.399508   \n",
              "1970-01-05    1.718750    1.730469    1.708984    1.726563    0.401324   \n",
              "1970-01-06    1.722656    1.722656    1.707031    1.718750    0.399508   \n",
              "1970-01-07    1.722656    1.750000    1.722656    1.746094    0.405864   \n",
              "1970-01-08    1.746094    1.773438    1.742188    1.765625    0.410404   \n",
              "...                ...         ...         ...         ...         ...   \n",
              "2022-02-03  161.979996  164.979996  161.619995  164.139999  164.139999   \n",
              "2022-02-04  163.130005  164.490005  161.410004  161.529999  161.529999   \n",
              "2022-02-07  161.869995  162.259995  159.669998  160.320007  160.320007   \n",
              "2022-02-08  161.119995  161.270004  159.649994  159.960007  159.960007   \n",
              "2022-02-09  160.360001  160.639999  159.270004  159.600006  159.600006   \n",
              "\n",
              "              Volume  \n",
              "Date                  \n",
              "1970-01-02    832000  \n",
              "1970-01-05    518400  \n",
              "1970-01-06    480000  \n",
              "1970-01-07    710400  \n",
              "1970-01-08    531200  \n",
              "...              ...  \n",
              "2022-02-03  10474500  \n",
              "2022-02-04   8959900  \n",
              "2022-02-07   6430500  \n",
              "2022-02-08   5048700  \n",
              "2022-02-09   8077400  \n",
              "\n",
              "[13145 rows x 6 columns]"
            ],
            "text/html": [
              "\n",
              "  <div id=\"df-eec59d84-e4a2-46e2-8f6f-609f45693c98\">\n",
              "    <div class=\"colab-df-container\">\n",
              "      <div>\n",
              "<style scoped>\n",
              "    .dataframe tbody tr th:only-of-type {\n",
              "        vertical-align: middle;\n",
              "    }\n",
              "\n",
              "    .dataframe tbody tr th {\n",
              "        vertical-align: top;\n",
              "    }\n",
              "\n",
              "    .dataframe thead th {\n",
              "        text-align: right;\n",
              "    }\n",
              "</style>\n",
              "<table border=\"1\" class=\"dataframe\">\n",
              "  <thead>\n",
              "    <tr style=\"text-align: right;\">\n",
              "      <th></th>\n",
              "      <th>Open</th>\n",
              "      <th>High</th>\n",
              "      <th>Low</th>\n",
              "      <th>Close</th>\n",
              "      <th>Adj Close</th>\n",
              "      <th>Volume</th>\n",
              "    </tr>\n",
              "    <tr>\n",
              "      <th>Date</th>\n",
              "      <th></th>\n",
              "      <th></th>\n",
              "      <th></th>\n",
              "      <th></th>\n",
              "      <th></th>\n",
              "      <th></th>\n",
              "    </tr>\n",
              "  </thead>\n",
              "  <tbody>\n",
              "    <tr>\n",
              "      <th>1970-01-02</th>\n",
              "      <td>1.710938</td>\n",
              "      <td>1.722656</td>\n",
              "      <td>1.708984</td>\n",
              "      <td>1.718750</td>\n",
              "      <td>0.399508</td>\n",
              "      <td>832000</td>\n",
              "    </tr>\n",
              "    <tr>\n",
              "      <th>1970-01-05</th>\n",
              "      <td>1.718750</td>\n",
              "      <td>1.730469</td>\n",
              "      <td>1.708984</td>\n",
              "      <td>1.726563</td>\n",
              "      <td>0.401324</td>\n",
              "      <td>518400</td>\n",
              "    </tr>\n",
              "    <tr>\n",
              "      <th>1970-01-06</th>\n",
              "      <td>1.722656</td>\n",
              "      <td>1.722656</td>\n",
              "      <td>1.707031</td>\n",
              "      <td>1.718750</td>\n",
              "      <td>0.399508</td>\n",
              "      <td>480000</td>\n",
              "    </tr>\n",
              "    <tr>\n",
              "      <th>1970-01-07</th>\n",
              "      <td>1.722656</td>\n",
              "      <td>1.750000</td>\n",
              "      <td>1.722656</td>\n",
              "      <td>1.746094</td>\n",
              "      <td>0.405864</td>\n",
              "      <td>710400</td>\n",
              "    </tr>\n",
              "    <tr>\n",
              "      <th>1970-01-08</th>\n",
              "      <td>1.746094</td>\n",
              "      <td>1.773438</td>\n",
              "      <td>1.742188</td>\n",
              "      <td>1.765625</td>\n",
              "      <td>0.410404</td>\n",
              "      <td>531200</td>\n",
              "    </tr>\n",
              "    <tr>\n",
              "      <th>...</th>\n",
              "      <td>...</td>\n",
              "      <td>...</td>\n",
              "      <td>...</td>\n",
              "      <td>...</td>\n",
              "      <td>...</td>\n",
              "      <td>...</td>\n",
              "    </tr>\n",
              "    <tr>\n",
              "      <th>2022-02-03</th>\n",
              "      <td>161.979996</td>\n",
              "      <td>164.979996</td>\n",
              "      <td>161.619995</td>\n",
              "      <td>164.139999</td>\n",
              "      <td>164.139999</td>\n",
              "      <td>10474500</td>\n",
              "    </tr>\n",
              "    <tr>\n",
              "      <th>2022-02-04</th>\n",
              "      <td>163.130005</td>\n",
              "      <td>164.490005</td>\n",
              "      <td>161.410004</td>\n",
              "      <td>161.529999</td>\n",
              "      <td>161.529999</td>\n",
              "      <td>8959900</td>\n",
              "    </tr>\n",
              "    <tr>\n",
              "      <th>2022-02-07</th>\n",
              "      <td>161.869995</td>\n",
              "      <td>162.259995</td>\n",
              "      <td>159.669998</td>\n",
              "      <td>160.320007</td>\n",
              "      <td>160.320007</td>\n",
              "      <td>6430500</td>\n",
              "    </tr>\n",
              "    <tr>\n",
              "      <th>2022-02-08</th>\n",
              "      <td>161.119995</td>\n",
              "      <td>161.270004</td>\n",
              "      <td>159.649994</td>\n",
              "      <td>159.960007</td>\n",
              "      <td>159.960007</td>\n",
              "      <td>5048700</td>\n",
              "    </tr>\n",
              "    <tr>\n",
              "      <th>2022-02-09</th>\n",
              "      <td>160.360001</td>\n",
              "      <td>160.639999</td>\n",
              "      <td>159.270004</td>\n",
              "      <td>159.600006</td>\n",
              "      <td>159.600006</td>\n",
              "      <td>8077400</td>\n",
              "    </tr>\n",
              "  </tbody>\n",
              "</table>\n",
              "<p>13145 rows × 6 columns</p>\n",
              "</div>\n",
              "      <button class=\"colab-df-convert\" onclick=\"convertToInteractive('df-eec59d84-e4a2-46e2-8f6f-609f45693c98')\"\n",
              "              title=\"Convert this dataframe to an interactive table.\"\n",
              "              style=\"display:none;\">\n",
              "        \n",
              "  <svg xmlns=\"http://www.w3.org/2000/svg\" height=\"24px\"viewBox=\"0 0 24 24\"\n",
              "       width=\"24px\">\n",
              "    <path d=\"M0 0h24v24H0V0z\" fill=\"none\"/>\n",
              "    <path d=\"M18.56 5.44l.94 2.06.94-2.06 2.06-.94-2.06-.94-.94-2.06-.94 2.06-2.06.94zm-11 1L8.5 8.5l.94-2.06 2.06-.94-2.06-.94L8.5 2.5l-.94 2.06-2.06.94zm10 10l.94 2.06.94-2.06 2.06-.94-2.06-.94-.94-2.06-.94 2.06-2.06.94z\"/><path d=\"M17.41 7.96l-1.37-1.37c-.4-.4-.92-.59-1.43-.59-.52 0-1.04.2-1.43.59L10.3 9.45l-7.72 7.72c-.78.78-.78 2.05 0 2.83L4 21.41c.39.39.9.59 1.41.59.51 0 1.02-.2 1.41-.59l7.78-7.78 2.81-2.81c.8-.78.8-2.07 0-2.86zM5.41 20L4 18.59l7.72-7.72 1.47 1.35L5.41 20z\"/>\n",
              "  </svg>\n",
              "      </button>\n",
              "      \n",
              "  <style>\n",
              "    .colab-df-container {\n",
              "      display:flex;\n",
              "      flex-wrap:wrap;\n",
              "      gap: 12px;\n",
              "    }\n",
              "\n",
              "    .colab-df-convert {\n",
              "      background-color: #E8F0FE;\n",
              "      border: none;\n",
              "      border-radius: 50%;\n",
              "      cursor: pointer;\n",
              "      display: none;\n",
              "      fill: #1967D2;\n",
              "      height: 32px;\n",
              "      padding: 0 0 0 0;\n",
              "      width: 32px;\n",
              "    }\n",
              "\n",
              "    .colab-df-convert:hover {\n",
              "      background-color: #E2EBFA;\n",
              "      box-shadow: 0px 1px 2px rgba(60, 64, 67, 0.3), 0px 1px 3px 1px rgba(60, 64, 67, 0.15);\n",
              "      fill: #174EA6;\n",
              "    }\n",
              "\n",
              "    [theme=dark] .colab-df-convert {\n",
              "      background-color: #3B4455;\n",
              "      fill: #D2E3FC;\n",
              "    }\n",
              "\n",
              "    [theme=dark] .colab-df-convert:hover {\n",
              "      background-color: #434B5C;\n",
              "      box-shadow: 0px 1px 3px 1px rgba(0, 0, 0, 0.15);\n",
              "      filter: drop-shadow(0px 1px 2px rgba(0, 0, 0, 0.3));\n",
              "      fill: #FFFFFF;\n",
              "    }\n",
              "  </style>\n",
              "\n",
              "      <script>\n",
              "        const buttonEl =\n",
              "          document.querySelector('#df-eec59d84-e4a2-46e2-8f6f-609f45693c98 button.colab-df-convert');\n",
              "        buttonEl.style.display =\n",
              "          google.colab.kernel.accessAllowed ? 'block' : 'none';\n",
              "\n",
              "        async function convertToInteractive(key) {\n",
              "          const element = document.querySelector('#df-eec59d84-e4a2-46e2-8f6f-609f45693c98');\n",
              "          const dataTable =\n",
              "            await google.colab.kernel.invokeFunction('convertToInteractive',\n",
              "                                                     [key], {});\n",
              "          if (!dataTable) return;\n",
              "\n",
              "          const docLinkHtml = 'Like what you see? Visit the ' +\n",
              "            '<a target=\"_blank\" href=https://colab.research.google.com/notebooks/data_table.ipynb>data table notebook</a>'\n",
              "            + ' to learn more about interactive tables.';\n",
              "          element.innerHTML = '';\n",
              "          dataTable['output_type'] = 'display_data';\n",
              "          await google.colab.output.renderOutput(dataTable, element);\n",
              "          const docLink = document.createElement('div');\n",
              "          docLink.innerHTML = docLinkHtml;\n",
              "          element.appendChild(docLink);\n",
              "        }\n",
              "      </script>\n",
              "    </div>\n",
              "  </div>\n",
              "  "
            ]
          },
          "metadata": {},
          "execution_count": 39
        }
      ]
    },
    {
      "cell_type": "markdown",
      "source": [
        "# Overview of the data"
      ],
      "metadata": {
        "id": "99ealFpBhKdh"
      }
    },
    {
      "cell_type": "markdown",
      "source": [
        "# Train & Test Data split"
      ],
      "metadata": {
        "id": "WzAbp-x7hObj"
      }
    },
    {
      "cell_type": "code",
      "source": [
        "#split data into train and training set\n",
        "train_data, test_data = df[:-1315], df[-1315:]"
      ],
      "metadata": {
        "id": "S6U4XJ8UEp0h"
      },
      "execution_count": 40,
      "outputs": []
    },
    {
      "cell_type": "code",
      "source": [
        "train_data.shape"
      ],
      "metadata": {
        "colab": {
          "base_uri": "https://localhost:8080/"
        },
        "id": "PLTeJEQDqDM7",
        "outputId": "3e3d2d48-2bac-4bca-ac01-37ef14fb1e68"
      },
      "execution_count": 41,
      "outputs": [
        {
          "output_type": "execute_result",
          "data": {
            "text/plain": [
              "(11830, 6)"
            ]
          },
          "metadata": {},
          "execution_count": 41
        }
      ]
    },
    {
      "cell_type": "code",
      "source": [
        "test_data.shape"
      ],
      "metadata": {
        "colab": {
          "base_uri": "https://localhost:8080/"
        },
        "id": "_NpH7oJuqqpR",
        "outputId": "c00c7b8e-dad0-47e8-ff99-c69eac7b70ff"
      },
      "execution_count": 42,
      "outputs": [
        {
          "output_type": "execute_result",
          "data": {
            "text/plain": [
              "(1315, 6)"
            ]
          },
          "metadata": {},
          "execution_count": 42
        }
      ]
    },
    {
      "cell_type": "code",
      "source": [
        "#split data into train and training set\n",
        "plt.figure(figsize=(10,6))\n",
        "plt.xlabel('Date')\n",
        "plt.ylabel('Close Price')\n",
        "plt.plot(train_data.Close, 'green', label='Train data')\n",
        "plt.plot(test_data.Close, 'blue', label='Test data')\n",
        "plt.legend()"
      ],
      "metadata": {
        "id": "5kDUNX7SAWtO"
      },
      "execution_count": null,
      "outputs": []
    },
    {
      "cell_type": "code",
      "source": [
        "train_data_endog = train_data.Close.values\n",
        "test_data_endog = test_data.Close.values"
      ],
      "metadata": {
        "id": "-vVMgmA7v_Uc"
      },
      "execution_count": 43,
      "outputs": []
    },
    {
      "cell_type": "markdown",
      "source": [
        "## Estimate ARIMA differencing term (d)\n",
        "\n",
        "Perform a test of stationarity for different levels of d to estimate the number of differences required to make a given time series stationary. Will select the maximum value of d for which the time series is judged stationary by the statistical test."
      ],
      "metadata": {
        "id": "nKz2XgZ0D15I"
      }
    },
    {
      "cell_type": "code",
      "source": [
        "from pmdarima.arima.utils import ndiffs\n",
        "y = train_data_endog\n",
        "\n",
        "## Adf Test\n",
        "print(ndiffs(y, test='adf'))  \n",
        "\n",
        "# KPSS test\n",
        "print(ndiffs(y, test='kpss')) \n",
        "\n",
        "# PP test:\n",
        "print(ndiffs(y, test='pp'))  "
      ],
      "metadata": {
        "colab": {
          "base_uri": "https://localhost:8080/"
        },
        "id": "ldUNVcmdDYZp",
        "outputId": "e9acff6e-95bc-43f6-b8a2-c37662420095"
      },
      "execution_count": 7,
      "outputs": [
        {
          "output_type": "stream",
          "name": "stdout",
          "text": [
            "1\n",
            "1\n",
            "1\n"
          ]
        }
      ]
    },
    {
      "cell_type": "markdown",
      "source": [
        "## AR term (p)"
      ],
      "metadata": {
        "id": "E3g2x09YJYB1"
      }
    },
    {
      "cell_type": "code",
      "source": [
        "from statsmodels.graphics.tsaplots import plot_pacf\n",
        "\n",
        "columns = ['Close']\n",
        "\n",
        "for i in columns:\n",
        "  plot_pacf(df[i].diff().dropna(),lags=70,title=i)\n",
        "  plt.show()\n",
        "  print('')"
      ],
      "metadata": {
        "colab": {
          "base_uri": "https://localhost:8080/",
          "height": 384
        },
        "id": "m-nqA3b0EHzW",
        "outputId": "688505e8-fb77-4c88-b4ab-4279c02119d8"
      },
      "execution_count": null,
      "outputs": [
        {
          "output_type": "display_data",
          "data": {
            "text/plain": [
              "<Figure size 1080x360 with 1 Axes>"
            ],
            "image/png": "[encoded data removed]"
          },
          "metadata": {
            "needs_background": "light"
          }
        },
        {
          "output_type": "stream",
          "name": "stdout",
          "text": [
            "\n"
          ]
        }
      ]
    },
    {
      "cell_type": "markdown",
      "source": [
        "The next step is to identify if the model needs any AR terms. You can find out the required number of AR terms by inspecting the Partial Autocorrelation (PACF) plot.\n",
        "\n",
        "But what is PACF?\n",
        "\n",
        "Partial autocorrelation can be imagined as the correlation between the series and its lag, after excluding the contributions from the intermediate lags. So, PACF sort of conveys the pure correlation between a lag and the series. That way, you will know if that lag is needed in the AR term or not.\n",
        "\n",
        "\n",
        "Good. Now, how to find the number of AR terms?\n",
        "\n",
        "Any autocorrelation in a stationarized series can be rectified by adding enough AR terms. So, we initially take the order of AR term to be equal to as many lags that crosses the significance limit in the PACF plot."
      ],
      "metadata": {
        "id": "spYGZj27JNa4"
      }
    },
    {
      "cell_type": "markdown",
      "source": [
        "## MA term (q)"
      ],
      "metadata": {
        "id": "PQorrMYDJQlU"
      }
    },
    {
      "cell_type": "code",
      "source": [
        "from statsmodels.graphics.tsaplots import plot_acf\n",
        "\n",
        "columns = ['Close']\n",
        "\n",
        "for i in columns:\n",
        "  plot_acf(df[i].diff().dropna(),lags=70,title=i)\n",
        "  plt.show()\n",
        "  print('')"
      ],
      "metadata": {
        "colab": {
          "base_uri": "https://localhost:8080/",
          "height": 384
        },
        "id": "iiIGgVcdIj1U",
        "outputId": "9ad49471-a65c-4ff0-ea23-b09e976925e2"
      },
      "execution_count": null,
      "outputs": [
        {
          "output_type": "display_data",
          "data": {
            "text/plain": [
              "<Figure size 1080x360 with 1 Axes>"
            ],
            "image/png": "[encoded data removed]"
          },
          "metadata": {
            "needs_background": "light"
          }
        },
        {
          "output_type": "stream",
          "name": "stdout",
          "text": [
            "\n"
          ]
        }
      ]
    },
    {
      "cell_type": "markdown",
      "source": [
        "Just like how we looked at the PACF plot for the number of AR terms, you can look at the ACF plot for the number of MA terms. An MA term is technically, the error of the lagged forecast.\n",
        "\n",
        "The ACF tells how many MA terms are required to remove any autocorrelation in the stationarized series.\n",
        "\n",
        "Let’s see the autocorrelation plot of the differenced series."
      ],
      "metadata": {
        "id": "CVY7Kfy9JHK9"
      }
    },
    {
      "cell_type": "code",
      "source": [
        "print(train_data_endog.shape)\n",
        "print(test_data_endog.shape)"
      ],
      "metadata": {
        "colab": {
          "base_uri": "https://localhost:8080/"
        },
        "id": "91nQClau6QJW",
        "outputId": "8278830b-3d21-4520-ab2f-18fb844802b2"
      },
      "execution_count": 8,
      "outputs": [
        {
          "output_type": "stream",
          "name": "stdout",
          "text": [
            "(11830,)\n",
            "(1315,)\n"
          ]
        }
      ]
    },
    {
      "cell_type": "code",
      "source": [
        "train_data_endog = train_data_endog.reshape(-1, 1)\n",
        "test_data_endog = test_data_endog.reshape(-1, 1)"
      ],
      "metadata": {
        "id": "qcFIYry5xUi_"
      },
      "execution_count": 44,
      "outputs": []
    },
    {
      "cell_type": "code",
      "source": [
        "from sklearn.preprocessing import PowerTransformer\n",
        "\n",
        "pt_endog = PowerTransformer(method='box-cox')\n",
        "train_data_endog = pt_endog.fit_transform(train_data_endog)\n",
        "test_data_endog = pt_endog.transform(test_data_endog)"
      ],
      "metadata": {
        "id": "8ArYpdWguS7A"
      },
      "execution_count": 45,
      "outputs": []
    },
    {
      "cell_type": "markdown",
      "source": [
        "# Model parameters\n",
        "\n",
        "\n",
        "1. ARIMA model:(p,d,q)\n",
        "\n",
        "2. ARIMAX model:(p,d,q) + exog\n",
        "\n",
        "3. SARIMA model:(p,d,q)(sp,sd,sq,s)\n",
        "\n",
        "4. SARIMAX model:(p,d,q)(sp,sd,sq,s) + exog"
      ],
      "metadata": {
        "id": "mq91mS99hZ4O"
      }
    },
    {
      "cell_type": "markdown",
      "source": [
        "# ARIMA"
      ],
      "metadata": {
        "id": "RmJ8G9DN3MBW"
      }
    },
    {
      "cell_type": "markdown",
      "source": [
        "Non-seasonal parameters same as ARIMA\n",
        "\n",
        "1.   p: Autoregressive order\n",
        "2.   d: Differencing order\n",
        "3.   q: Moving average order\n"
      ],
      "metadata": {
        "id": "QgGrumyZNjNs"
      }
    },
    {
      "cell_type": "code",
      "source": [
        "model_autoARIMA = auto_arima(train_data_endog , start_p=0, start_q=0,\n",
        "                      test='adf',       # use adftest to find optimal 'd'\n",
        "                      max_p=2, max_q=2, # maximum p and q\n",
        "                      m=1,              # frequency of series\n",
        "                      d=None,              # let model determine 'd'\n",
        "                      seasonal=False,   # No Seasonality \n",
        "                      trace=True,\n",
        "                      error_action='ignore',  \n",
        "                      suppress_warnings=True, \n",
        "                      stepwise=True)"
      ],
      "metadata": {
        "id": "49mvTg49AvE7",
        "colab": {
          "base_uri": "https://localhost:8080/"
        },
        "outputId": "486c10b2-fdfe-4dc6-c7e9-e3197a1d14bf"
      },
      "execution_count": 18,
      "outputs": [
        {
          "output_type": "stream",
          "name": "stdout",
          "text": [
            "Performing stepwise search to minimize aic\n",
            " ARIMA(0,1,0)(0,0,0)[0] intercept   : AIC=-74271.802, Time=5.09 sec\n",
            " ARIMA(1,1,0)(0,0,0)[0] intercept   : AIC=-74271.145, Time=4.05 sec\n",
            " ARIMA(0,1,1)(0,0,0)[0] intercept   : AIC=-74271.251, Time=6.46 sec\n",
            " ARIMA(0,1,0)(0,0,0)[0]             : AIC=-74267.620, Time=0.83 sec\n",
            " ARIMA(1,1,1)(0,0,0)[0] intercept   : AIC=-74271.734, Time=8.57 sec\n",
            "\n",
            "Best model:  ARIMA(0,1,0)(0,0,0)[0] intercept\n",
            "Total fit time: 25.104 seconds\n"
          ]
        }
      ]
    },
    {
      "cell_type": "code",
      "source": [
        "#Summary of the model\n",
        "model_autoARIMA.summary()"
      ],
      "metadata": {
        "colab": {
          "base_uri": "https://localhost:8080/",
          "height": 402
        },
        "id": "CkyOCveurRIu",
        "outputId": "468f931f-7b2e-4d6f-ca90-87913af3df55"
      },
      "execution_count": 19,
      "outputs": [
        {
          "output_type": "execute_result",
          "data": {
            "text/plain": [
              "<class 'statsmodels.iolib.summary.Summary'>\n",
              "\"\"\"\n",
              "                               SARIMAX Results                                \n",
              "==============================================================================\n",
              "Dep. Variable:                      y   No. Observations:                11830\n",
              "Model:               SARIMAX(0, 1, 0)   Log Likelihood               37137.901\n",
              "Date:                Wed, 13 Apr 2022   AIC                         -74271.802\n",
              "Time:                        05:34:04   BIC                         -74257.045\n",
              "Sample:                             0   HQIC                        -74266.848\n",
              "                              - 11830                                         \n",
              "Covariance Type:                  opg                                         \n",
              "==============================================================================\n",
              "                 coef    std err          z      P>|z|      [0.025      0.975]\n",
              "------------------------------------------------------------------------------\n",
              "intercept      0.0002      0.000      2.394      0.017    4.34e-05       0.000\n",
              "sigma2         0.0001   2.59e-07    424.171      0.000       0.000       0.000\n",
              "===================================================================================\n",
              "Ljung-Box (L1) (Q):                   1.34   Jarque-Bera (JB):           2005008.94\n",
              "Prob(Q):                              0.25   Prob(JB):                         0.00\n",
              "Heteroskedasticity (H):               0.93   Skew:                            -2.19\n",
              "Prob(H) (two-sided):                  0.03   Kurtosis:                        66.63\n",
              "===================================================================================\n",
              "\n",
              "Warnings:\n",
              "[1] Covariance matrix calculated using the outer product of gradients (complex-step).\n",
              "\"\"\""
            ],
            "text/html": [
              "<table class=\"simpletable\">\n",
              "<caption>SARIMAX Results</caption>\n",
              "<tr>\n",
              "  <th>Dep. Variable:</th>           <td>y</td>        <th>  No. Observations:  </th>    <td>11830</td>  \n",
              "</tr>\n",
              "<tr>\n",
              "  <th>Model:</th>           <td>SARIMAX(0, 1, 0)</td> <th>  Log Likelihood     </th>  <td>37137.901</td>\n",
              "</tr>\n",
              "<tr>\n",
              "  <th>Date:</th>            <td>Wed, 13 Apr 2022</td> <th>  AIC                </th> <td>-74271.802</td>\n",
              "</tr>\n",
              "<tr>\n",
              "  <th>Time:</th>                <td>05:34:04</td>     <th>  BIC                </th> <td>-74257.045</td>\n",
              "</tr>\n",
              "<tr>\n",
              "  <th>Sample:</th>                  <td>0</td>        <th>  HQIC               </th> <td>-74266.848</td>\n",
              "</tr>\n",
              "<tr>\n",
              "  <th></th>                     <td> - 11830</td>     <th>                     </th>      <td> </td>    \n",
              "</tr>\n",
              "<tr>\n",
              "  <th>Covariance Type:</th>        <td>opg</td>       <th>                     </th>      <td> </td>    \n",
              "</tr>\n",
              "</table>\n",
              "<table class=\"simpletable\">\n",
              "<tr>\n",
              "      <td></td>         <th>coef</th>     <th>std err</th>      <th>z</th>      <th>P>|z|</th>  <th>[0.025</th>    <th>0.975]</th>  \n",
              "</tr>\n",
              "<tr>\n",
              "  <th>intercept</th> <td>    0.0002</td> <td>    0.000</td> <td>    2.394</td> <td> 0.017</td> <td> 4.34e-05</td> <td>    0.000</td>\n",
              "</tr>\n",
              "<tr>\n",
              "  <th>sigma2</th>    <td>    0.0001</td> <td> 2.59e-07</td> <td>  424.171</td> <td> 0.000</td> <td>    0.000</td> <td>    0.000</td>\n",
              "</tr>\n",
              "</table>\n",
              "<table class=\"simpletable\">\n",
              "<tr>\n",
              "  <th>Ljung-Box (L1) (Q):</th>     <td>1.34</td> <th>  Jarque-Bera (JB):  </th> <td>2005008.94</td>\n",
              "</tr>\n",
              "<tr>\n",
              "  <th>Prob(Q):</th>                <td>0.25</td> <th>  Prob(JB):          </th>    <td>0.00</td>   \n",
              "</tr>\n",
              "<tr>\n",
              "  <th>Heteroskedasticity (H):</th> <td>0.93</td> <th>  Skew:              </th>    <td>-2.19</td>  \n",
              "</tr>\n",
              "<tr>\n",
              "  <th>Prob(H) (two-sided):</th>    <td>0.03</td> <th>  Kurtosis:          </th>    <td>66.63</td>  \n",
              "</tr>\n",
              "</table><br/><br/>Warnings:<br/>[1] Covariance matrix calculated using the outer product of gradients (complex-step)."
            ]
          },
          "metadata": {},
          "execution_count": 19
        }
      ]
    },
    {
      "cell_type": "code",
      "source": [
        "model_autoARIMA.plot_diagnostics(figsize=(10,8))\n",
        "plt.show()"
      ],
      "metadata": {
        "colab": {
          "base_uri": "https://localhost:8080/",
          "height": 513
        },
        "id": "SqvSQPGJrSaH",
        "outputId": "e9fa2f86-de2b-4be1-9fbd-1982ee7fd569"
      },
      "execution_count": 20,
      "outputs": [
        {
          "output_type": "display_data",
          "data": {
            "text/plain": [
              "<Figure size 720x576 with 4 Axes>"
            ],
            "image/png": "[encoded data removed]"
          },
          "metadata": {
            "needs_background": "light"
          }
        }
      ]
    },
    {
      "cell_type": "markdown",
      "source": [
        "A standardized residual is the raw residuals divided by an overall standard deviation of the raw residuals. This provides a consistent measure of the error of your prediction."
      ],
      "metadata": {
        "id": "O482aeoMbHv1"
      }
    },
    {
      "cell_type": "markdown",
      "source": [
        "The **residual plots** for the auto ARIMA model look pretty good.\n",
        "**Histogram plus estimated density plot**: The red KDE line follows closely with the N(0,1) line. This is a good indication that the residuals are normally distributed.\n",
        "**The Q-Q-plot**: Shows that the ordered distribution of residuals (blue dots) follows the linear trend of the samples taken from a standard normal distribution with N(0, 1). This is an indication that the residuals are normally distributed.\n",
        "The standardize residual plot: The residuals over time don’t display any obvious seasonality and appear to be white noise.\n",
        "**The Correlogram plot**: Shows that the time series residuals have low correlation with lagged versions of itself.\n",
        "Our model is not perfect yet & It needs a few more tweaks."
      ],
      "metadata": {
        "id": "9xJSAFxK8XSi"
      }
    },
    {
      "cell_type": "markdown",
      "source": [
        "So how to interpret the plot diagnostics?\n",
        "\n",
        "**Top left**: The residual errors seem to fluctuate around a mean of zero and have a uniform variance.\n",
        "\n",
        "**Top Right**: The density plot suggest normal distribution with mean zero.\n",
        "\n",
        "**Bottom left**: All the dots should fall perfectly in line with the red line. Any significant deviations would imply the distribution is skewed.\n",
        "\n",
        "**Bottom Right**: The **Correlogram**, aka, **ACF plot** shows the residual errors are not autocorrelated. Any autocorrelation would imply that there is some pattern in the residual errors which are not explained in the model. So you will need to look for more X’s (predictors) to the model."
      ],
      "metadata": {
        "id": "bHf6tDcL7QtZ"
      }
    },
    {
      "cell_type": "code",
      "source": [
        "prediction_ARIMA = pd.DataFrame(model_autoARIMA.predict(n_periods = 1315), index=test_data.index)\n",
        "prediction_ARIMA.columns = ['Predictions_ARIMA']\n",
        "prediction_rescaled_ARIMA = pt_endog.inverse_transform(prediction_ARIMA.values)\n",
        "prediction_ARIMA['Predictions_scaled_ARIMA'] = prediction_rescaled_ARIMA\n",
        "prediction_ARIMA"
      ],
      "metadata": {
        "id": "VFGXvsJh2cL2",
        "colab": {
          "base_uri": "https://localhost:8080/",
          "height": 455
        },
        "outputId": "784988b0-5a18-4acb-a3ad-d482856b332a"
      },
      "execution_count": 21,
      "outputs": [
        {
          "output_type": "execute_result",
          "data": {
            "text/plain": [
              "            Predictions_ARIMA  Predictions_scaled_ARIMA\n",
              "Date                                                   \n",
              "2016-11-18           1.364842                 83.096135\n",
              "2016-11-21           1.365082                 83.122277\n",
              "2016-11-22           1.365321                 83.148428\n",
              "2016-11-23           1.365561                 83.174587\n",
              "2016-11-25           1.365800                 83.200754\n",
              "...                       ...                       ...\n",
              "2022-02-03           1.678654                125.243407\n",
              "2022-02-04           1.678894                125.282464\n",
              "2022-02-07           1.679133                125.321533\n",
              "2022-02-08           1.679373                125.360614\n",
              "2022-02-09           1.679612                125.399706\n",
              "\n",
              "[1315 rows x 2 columns]"
            ],
            "text/html": [
              "\n",
              "  <div id=\"df-c12ebe6f-7cfe-4d07-b516-d83b2430c04b\">\n",
              "    <div class=\"colab-df-container\">\n",
              "      <div>\n",
              "<style scoped>\n",
              "    .dataframe tbody tr th:only-of-type {\n",
              "        vertical-align: middle;\n",
              "    }\n",
              "\n",
              "    .dataframe tbody tr th {\n",
              "        vertical-align: top;\n",
              "    }\n",
              "\n",
              "    .dataframe thead th {\n",
              "        text-align: right;\n",
              "    }\n",
              "</style>\n",
              "<table border=\"1\" class=\"dataframe\">\n",
              "  <thead>\n",
              "    <tr style=\"text-align: right;\">\n",
              "      <th></th>\n",
              "      <th>Predictions_ARIMA</th>\n",
              "      <th>Predictions_scaled_ARIMA</th>\n",
              "    </tr>\n",
              "    <tr>\n",
              "      <th>Date</th>\n",
              "      <th></th>\n",
              "      <th></th>\n",
              "    </tr>\n",
              "  </thead>\n",
              "  <tbody>\n",
              "    <tr>\n",
              "      <th>2016-11-18</th>\n",
              "      <td>1.364842</td>\n",
              "      <td>83.096135</td>\n",
              "    </tr>\n",
              "    <tr>\n",
              "      <th>2016-11-21</th>\n",
              "      <td>1.365082</td>\n",
              "      <td>83.122277</td>\n",
              "    </tr>\n",
              "    <tr>\n",
              "      <th>2016-11-22</th>\n",
              "      <td>1.365321</td>\n",
              "      <td>83.148428</td>\n",
              "    </tr>\n",
              "    <tr>\n",
              "      <th>2016-11-23</th>\n",
              "      <td>1.365561</td>\n",
              "      <td>83.174587</td>\n",
              "    </tr>\n",
              "    <tr>\n",
              "      <th>2016-11-25</th>\n",
              "      <td>1.365800</td>\n",
              "      <td>83.200754</td>\n",
              "    </tr>\n",
              "    <tr>\n",
              "      <th>...</th>\n",
              "      <td>...</td>\n",
              "      <td>...</td>\n",
              "    </tr>\n",
              "    <tr>\n",
              "      <th>2022-02-03</th>\n",
              "      <td>1.678654</td>\n",
              "      <td>125.243407</td>\n",
              "    </tr>\n",
              "    <tr>\n",
              "      <th>2022-02-04</th>\n",
              "      <td>1.678894</td>\n",
              "      <td>125.282464</td>\n",
              "    </tr>\n",
              "    <tr>\n",
              "      <th>2022-02-07</th>\n",
              "      <td>1.679133</td>\n",
              "      <td>125.321533</td>\n",
              "    </tr>\n",
              "    <tr>\n",
              "      <th>2022-02-08</th>\n",
              "      <td>1.679373</td>\n",
              "      <td>125.360614</td>\n",
              "    </tr>\n",
              "    <tr>\n",
              "      <th>2022-02-09</th>\n",
              "      <td>1.679612</td>\n",
              "      <td>125.399706</td>\n",
              "    </tr>\n",
              "  </tbody>\n",
              "</table>\n",
              "<p>1315 rows × 2 columns</p>\n",
              "</div>\n",
              "      <button class=\"colab-df-convert\" onclick=\"convertToInteractive('df-c12ebe6f-7cfe-4d07-b516-d83b2430c04b')\"\n",
              "              title=\"Convert this dataframe to an interactive table.\"\n",
              "              style=\"display:none;\">\n",
              "        \n",
              "  <svg xmlns=\"http://www.w3.org/2000/svg\" height=\"24px\"viewBox=\"0 0 24 24\"\n",
              "       width=\"24px\">\n",
              "    <path d=\"M0 0h24v24H0V0z\" fill=\"none\"/>\n",
              "    <path d=\"M18.56 5.44l.94 2.06.94-2.06 2.06-.94-2.06-.94-.94-2.06-.94 2.06-2.06.94zm-11 1L8.5 8.5l.94-2.06 2.06-.94-2.06-.94L8.5 2.5l-.94 2.06-2.06.94zm10 10l.94 2.06.94-2.06 2.06-.94-2.06-.94-.94-2.06-.94 2.06-2.06.94z\"/><path d=\"M17.41 7.96l-1.37-1.37c-.4-.4-.92-.59-1.43-.59-.52 0-1.04.2-1.43.59L10.3 9.45l-7.72 7.72c-.78.78-.78 2.05 0 2.83L4 21.41c.39.39.9.59 1.41.59.51 0 1.02-.2 1.41-.59l7.78-7.78 2.81-2.81c.8-.78.8-2.07 0-2.86zM5.41 20L4 18.59l7.72-7.72 1.47 1.35L5.41 20z\"/>\n",
              "  </svg>\n",
              "      </button>\n",
              "      \n",
              "  <style>\n",
              "    .colab-df-container {\n",
              "      display:flex;\n",
              "      flex-wrap:wrap;\n",
              "      gap: 12px;\n",
              "    }\n",
              "\n",
              "    .colab-df-convert {\n",
              "      background-color: #E8F0FE;\n",
              "      border: none;\n",
              "      border-radius: 50%;\n",
              "      cursor: pointer;\n",
              "      display: none;\n",
              "      fill: #1967D2;\n",
              "      height: 32px;\n",
              "      padding: 0 0 0 0;\n",
              "      width: 32px;\n",
              "    }\n",
              "\n",
              "    .colab-df-convert:hover {\n",
              "      background-color: #E2EBFA;\n",
              "      box-shadow: 0px 1px 2px rgba(60, 64, 67, 0.3), 0px 1px 3px 1px rgba(60, 64, 67, 0.15);\n",
              "      fill: #174EA6;\n",
              "    }\n",
              "\n",
              "    [theme=dark] .colab-df-convert {\n",
              "      background-color: #3B4455;\n",
              "      fill: #D2E3FC;\n",
              "    }\n",
              "\n",
              "    [theme=dark] .colab-df-convert:hover {\n",
              "      background-color: #434B5C;\n",
              "      box-shadow: 0px 1px 3px 1px rgba(0, 0, 0, 0.15);\n",
              "      filter: drop-shadow(0px 1px 2px rgba(0, 0, 0, 0.3));\n",
              "      fill: #FFFFFF;\n",
              "    }\n",
              "  </style>\n",
              "\n",
              "      <script>\n",
              "        const buttonEl =\n",
              "          document.querySelector('#df-c12ebe6f-7cfe-4d07-b516-d83b2430c04b button.colab-df-convert');\n",
              "        buttonEl.style.display =\n",
              "          google.colab.kernel.accessAllowed ? 'block' : 'none';\n",
              "\n",
              "        async function convertToInteractive(key) {\n",
              "          const element = document.querySelector('#df-c12ebe6f-7cfe-4d07-b516-d83b2430c04b');\n",
              "          const dataTable =\n",
              "            await google.colab.kernel.invokeFunction('convertToInteractive',\n",
              "                                                     [key], {});\n",
              "          if (!dataTable) return;\n",
              "\n",
              "          const docLinkHtml = 'Like what you see? Visit the ' +\n",
              "            '<a target=\"_blank\" href=https://colab.research.google.com/notebooks/data_table.ipynb>data table notebook</a>'\n",
              "            + ' to learn more about interactive tables.';\n",
              "          element.innerHTML = '';\n",
              "          dataTable['output_type'] = 'display_data';\n",
              "          await google.colab.output.renderOutput(dataTable, element);\n",
              "          const docLink = document.createElement('div');\n",
              "          docLink.innerHTML = docLinkHtml;\n",
              "          element.appendChild(docLink);\n",
              "        }\n",
              "      </script>\n",
              "    </div>\n",
              "  </div>\n",
              "  "
            ]
          },
          "metadata": {},
          "execution_count": 21
        }
      ]
    },
    {
      "cell_type": "code",
      "source": [
        "plt.figure(figsize=(8,5))\n",
        "plt.plot(train_data.Close ,label=\"Training\")\n",
        "plt.plot(test_data.Close ,label=\"Test\")\n",
        "plt.plot(prediction_ARIMA.Predictions_scaled_ARIMA, label=\"Predicted_Arima\")\n",
        "plt.legend(loc = 'upper left')\n",
        "plt.show()"
      ],
      "metadata": {
        "id": "BBc7fUke2dwi",
        "colab": {
          "base_uri": "https://localhost:8080/",
          "height": 320
        },
        "outputId": "341c1735-a480-4212-d5a4-786dc076fb9c"
      },
      "execution_count": 22,
      "outputs": [
        {
          "output_type": "display_data",
          "data": {
            "text/plain": [
              "<Figure size 576x360 with 1 Axes>"
            ],
            "image/png": "[encoded data removed]"
          },
          "metadata": {
            "needs_background": "light"
          }
        }
      ]
    },
    {
      "cell_type": "code",
      "source": [
        "def evaluate_prediction(predicted, actual, model_name):\n",
        "        mse = mean_squared_error(predicted, actual)\n",
        "        rsme = np.sqrt((mean_squared_error(predicted, actual)))\n",
        "        mae = mean_absolute_error(actual, predicted)\n",
        "        r2 = r2_score(actual, predicted)\n",
        "        max_err = max_error(actual, predicted)\n",
        "        print(colored(model_name + ' performance:', 'red'))\n",
        "        print('R^2: {:.4f} %'.format(r2 * 100))\n",
        "        print('Mean Absolute Error: {:.4f}'.format(mae))\n",
        "        print('Mean Squared Error: {:.4f}'.format(mse))\n",
        "        print('Root Mean Squared Error: {:.4f}'.format(rsme))\n",
        "        print('Max_error: {:.4f}'.format(max_err))\n",
        "        print('')\n",
        "        return\n",
        "\n",
        "evaluate_prediction(prediction_ARIMA.Predictions_scaled_ARIMA, test_data.Close, 'ARIMA')"
      ],
      "metadata": {
        "id": "4UM-cjx78nD3",
        "colab": {
          "base_uri": "https://localhost:8080/"
        },
        "outputId": "14f0ce2d-b0bf-4c22-acb6-c5d3f9a490c0"
      },
      "execution_count": 23,
      "outputs": [
        {
          "output_type": "stream",
          "name": "stdout",
          "text": [
            "\u001b[31mARIMA performance:\u001b[0m\n",
            "R^2: 58.4180 %\n",
            "Mean Absolute Error: 12.5665\n",
            "Mean Squared Error: 240.6616\n",
            "Root Mean Squared Error: 15.5133\n",
            "Max_error: 39.9192\n",
            "\n"
          ]
        }
      ]
    },
    {
      "cell_type": "markdown",
      "source": [
        "# ARIMAX"
      ],
      "metadata": {
        "id": "IXyxfawArRAK"
      }
    },
    {
      "cell_type": "code",
      "source": [
        "exogenous_features = [\"Open\", \"High\", \"Low\"]\n",
        "\n",
        "'''[\"Open\", \"High\", \"Low\", \"Adj Close\",\n",
        "                      \"Volume\"] '''"
      ],
      "metadata": {
        "id": "I_4IPy-GJpsn",
        "colab": {
          "base_uri": "https://localhost:8080/",
          "height": 35
        },
        "outputId": "58aa3474-15f1-4da9-a01a-f6c3f6075ebd"
      },
      "execution_count": 11,
      "outputs": [
        {
          "output_type": "execute_result",
          "data": {
            "text/plain": [
              "'[\"Open\", \"High\", \"Low\", \"Adj Close\",\\n                      \"Volume\"] '"
            ],
            "application/vnd.google.colaboratory.intrinsic+json": {
              "type": "string"
            }
          },
          "metadata": {},
          "execution_count": 11
        }
      ]
    },
    {
      "cell_type": "code",
      "source": [
        "train_data_exog = train_data[exogenous_features]\n",
        "test_data_exog = test_data[exogenous_features]"
      ],
      "metadata": {
        "id": "Cz0c93Uuy0Uq"
      },
      "execution_count": 12,
      "outputs": []
    },
    {
      "cell_type": "code",
      "source": [
        "train_data_exog"
      ],
      "metadata": {
        "colab": {
          "base_uri": "https://localhost:8080/",
          "height": 455
        },
        "id": "mOL-pAAdCDF7",
        "outputId": "d27af7f0-6561-4897-bd99-63f050ecb687"
      },
      "execution_count": 13,
      "outputs": [
        {
          "output_type": "execute_result",
          "data": {
            "text/plain": [
              "                 Open       High        Low\n",
              "Date                                       \n",
              "1970-01-02   1.710938   1.722656   1.708984\n",
              "1970-01-05   1.718750   1.730469   1.708984\n",
              "1970-01-06   1.722656   1.722656   1.707031\n",
              "1970-01-07   1.722656   1.750000   1.722656\n",
              "1970-01-08   1.746094   1.773438   1.742188\n",
              "...               ...        ...        ...\n",
              "2016-11-11  82.669998  84.059998  82.650002\n",
              "2016-11-14  83.559998  83.779999  82.760002\n",
              "2016-11-15  84.580002  84.580002  82.879997\n",
              "2016-11-16  83.980003  84.199997  83.169998\n",
              "2016-11-17  83.269997  83.500000  82.930000\n",
              "\n",
              "[11830 rows x 3 columns]"
            ],
            "text/html": [
              "\n",
              "  <div id=\"df-67d08490-dc3a-401a-af34-cbe27f0439fb\">\n",
              "    <div class=\"colab-df-container\">\n",
              "      <div>\n",
              "<style scoped>\n",
              "    .dataframe tbody tr th:only-of-type {\n",
              "        vertical-align: middle;\n",
              "    }\n",
              "\n",
              "    .dataframe tbody tr th {\n",
              "        vertical-align: top;\n",
              "    }\n",
              "\n",
              "    .dataframe thead th {\n",
              "        text-align: right;\n",
              "    }\n",
              "</style>\n",
              "<table border=\"1\" class=\"dataframe\">\n",
              "  <thead>\n",
              "    <tr style=\"text-align: right;\">\n",
              "      <th></th>\n",
              "      <th>Open</th>\n",
              "      <th>High</th>\n",
              "      <th>Low</th>\n",
              "    </tr>\n",
              "    <tr>\n",
              "      <th>Date</th>\n",
              "      <th></th>\n",
              "      <th></th>\n",
              "      <th></th>\n",
              "    </tr>\n",
              "  </thead>\n",
              "  <tbody>\n",
              "    <tr>\n",
              "      <th>1970-01-02</th>\n",
              "      <td>1.710938</td>\n",
              "      <td>1.722656</td>\n",
              "      <td>1.708984</td>\n",
              "    </tr>\n",
              "    <tr>\n",
              "      <th>1970-01-05</th>\n",
              "      <td>1.718750</td>\n",
              "      <td>1.730469</td>\n",
              "      <td>1.708984</td>\n",
              "    </tr>\n",
              "    <tr>\n",
              "      <th>1970-01-06</th>\n",
              "      <td>1.722656</td>\n",
              "      <td>1.722656</td>\n",
              "      <td>1.707031</td>\n",
              "    </tr>\n",
              "    <tr>\n",
              "      <th>1970-01-07</th>\n",
              "      <td>1.722656</td>\n",
              "      <td>1.750000</td>\n",
              "      <td>1.722656</td>\n",
              "    </tr>\n",
              "    <tr>\n",
              "      <th>1970-01-08</th>\n",
              "      <td>1.746094</td>\n",
              "      <td>1.773438</td>\n",
              "      <td>1.742188</td>\n",
              "    </tr>\n",
              "    <tr>\n",
              "      <th>...</th>\n",
              "      <td>...</td>\n",
              "      <td>...</td>\n",
              "      <td>...</td>\n",
              "    </tr>\n",
              "    <tr>\n",
              "      <th>2016-11-11</th>\n",
              "      <td>82.669998</td>\n",
              "      <td>84.059998</td>\n",
              "      <td>82.650002</td>\n",
              "    </tr>\n",
              "    <tr>\n",
              "      <th>2016-11-14</th>\n",
              "      <td>83.559998</td>\n",
              "      <td>83.779999</td>\n",
              "      <td>82.760002</td>\n",
              "    </tr>\n",
              "    <tr>\n",
              "      <th>2016-11-15</th>\n",
              "      <td>84.580002</td>\n",
              "      <td>84.580002</td>\n",
              "      <td>82.879997</td>\n",
              "    </tr>\n",
              "    <tr>\n",
              "      <th>2016-11-16</th>\n",
              "      <td>83.980003</td>\n",
              "      <td>84.199997</td>\n",
              "      <td>83.169998</td>\n",
              "    </tr>\n",
              "    <tr>\n",
              "      <th>2016-11-17</th>\n",
              "      <td>83.269997</td>\n",
              "      <td>83.500000</td>\n",
              "      <td>82.930000</td>\n",
              "    </tr>\n",
              "  </tbody>\n",
              "</table>\n",
              "<p>11830 rows × 3 columns</p>\n",
              "</div>\n",
              "      <button class=\"colab-df-convert\" onclick=\"convertToInteractive('df-67d08490-dc3a-401a-af34-cbe27f0439fb')\"\n",
              "              title=\"Convert this dataframe to an interactive table.\"\n",
              "              style=\"display:none;\">\n",
              "        \n",
              "  <svg xmlns=\"http://www.w3.org/2000/svg\" height=\"24px\"viewBox=\"0 0 24 24\"\n",
              "       width=\"24px\">\n",
              "    <path d=\"M0 0h24v24H0V0z\" fill=\"none\"/>\n",
              "    <path d=\"M18.56 5.44l.94 2.06.94-2.06 2.06-.94-2.06-.94-.94-2.06-.94 2.06-2.06.94zm-11 1L8.5 8.5l.94-2.06 2.06-.94-2.06-.94L8.5 2.5l-.94 2.06-2.06.94zm10 10l.94 2.06.94-2.06 2.06-.94-2.06-.94-.94-2.06-.94 2.06-2.06.94z\"/><path d=\"M17.41 7.96l-1.37-1.37c-.4-.4-.92-.59-1.43-.59-.52 0-1.04.2-1.43.59L10.3 9.45l-7.72 7.72c-.78.78-.78 2.05 0 2.83L4 21.41c.39.39.9.59 1.41.59.51 0 1.02-.2 1.41-.59l7.78-7.78 2.81-2.81c.8-.78.8-2.07 0-2.86zM5.41 20L4 18.59l7.72-7.72 1.47 1.35L5.41 20z\"/>\n",
              "  </svg>\n",
              "      </button>\n",
              "      \n",
              "  <style>\n",
              "    .colab-df-container {\n",
              "      display:flex;\n",
              "      flex-wrap:wrap;\n",
              "      gap: 12px;\n",
              "    }\n",
              "\n",
              "    .colab-df-convert {\n",
              "      background-color: #E8F0FE;\n",
              "      border: none;\n",
              "      border-radius: 50%;\n",
              "      cursor: pointer;\n",
              "      display: none;\n",
              "      fill: #1967D2;\n",
              "      height: 32px;\n",
              "      padding: 0 0 0 0;\n",
              "      width: 32px;\n",
              "    }\n",
              "\n",
              "    .colab-df-convert:hover {\n",
              "      background-color: #E2EBFA;\n",
              "      box-shadow: 0px 1px 2px rgba(60, 64, 67, 0.3), 0px 1px 3px 1px rgba(60, 64, 67, 0.15);\n",
              "      fill: #174EA6;\n",
              "    }\n",
              "\n",
              "    [theme=dark] .colab-df-convert {\n",
              "      background-color: #3B4455;\n",
              "      fill: #D2E3FC;\n",
              "    }\n",
              "\n",
              "    [theme=dark] .colab-df-convert:hover {\n",
              "      background-color: #434B5C;\n",
              "      box-shadow: 0px 1px 3px 1px rgba(0, 0, 0, 0.15);\n",
              "      filter: drop-shadow(0px 1px 2px rgba(0, 0, 0, 0.3));\n",
              "      fill: #FFFFFF;\n",
              "    }\n",
              "  </style>\n",
              "\n",
              "      <script>\n",
              "        const buttonEl =\n",
              "          document.querySelector('#df-67d08490-dc3a-401a-af34-cbe27f0439fb button.colab-df-convert');\n",
              "        buttonEl.style.display =\n",
              "          google.colab.kernel.accessAllowed ? 'block' : 'none';\n",
              "\n",
              "        async function convertToInteractive(key) {\n",
              "          const element = document.querySelector('#df-67d08490-dc3a-401a-af34-cbe27f0439fb');\n",
              "          const dataTable =\n",
              "            await google.colab.kernel.invokeFunction('convertToInteractive',\n",
              "                                                     [key], {});\n",
              "          if (!dataTable) return;\n",
              "\n",
              "          const docLinkHtml = 'Like what you see? Visit the ' +\n",
              "            '<a target=\"_blank\" href=https://colab.research.google.com/notebooks/data_table.ipynb>data table notebook</a>'\n",
              "            + ' to learn more about interactive tables.';\n",
              "          element.innerHTML = '';\n",
              "          dataTable['output_type'] = 'display_data';\n",
              "          await google.colab.output.renderOutput(dataTable, element);\n",
              "          const docLink = document.createElement('div');\n",
              "          docLink.innerHTML = docLinkHtml;\n",
              "          element.appendChild(docLink);\n",
              "        }\n",
              "      </script>\n",
              "    </div>\n",
              "  </div>\n",
              "  "
            ]
          },
          "metadata": {},
          "execution_count": 13
        }
      ]
    },
    {
      "cell_type": "code",
      "source": [
        "from pmdarima.arima.utils import ndiffs\n",
        "s = train_data_exog['Open']\n",
        "t = train_data_exog['High']\n",
        "u = train_data_exog['Low']\n",
        "\n",
        "\n",
        "\n",
        "# KPSS test\n",
        "print(ndiffs(s, test='kpss')) \n",
        "\n",
        "# PP test:\n",
        "print(ndiffs(s, test='pp'))  "
      ],
      "metadata": {
        "colab": {
          "base_uri": "https://localhost:8080/",
          "height": 380
        },
        "id": "eaeZpQ5DB4HP",
        "outputId": "1c102b3e-9b6a-44e6-9c34-812ca416c298"
      },
      "execution_count": 53,
      "outputs": [
        {
          "output_type": "error",
          "ename": "ValueError",
          "evalue": "ignored",
          "traceback": [
            "\u001b[0;31m---------------------------------------------------------------------------\u001b[0m",
            "\u001b[0;31mValueError\u001b[0m                                Traceback (most recent call last)",
            "\u001b[0;32m<ipython-input-53-8c2a6571caaf>\u001b[0m in \u001b[0;36m<module>\u001b[0;34m()\u001b[0m\n\u001b[1;32m      7\u001b[0m \u001b[0;34m\u001b[0m\u001b[0m\n\u001b[1;32m      8\u001b[0m \u001b[0;31m# KPSS test\u001b[0m\u001b[0;34m\u001b[0m\u001b[0;34m\u001b[0m\u001b[0;34m\u001b[0m\u001b[0m\n\u001b[0;32m----> 9\u001b[0;31m \u001b[0mprint\u001b[0m\u001b[0;34m(\u001b[0m\u001b[0mndiffs\u001b[0m\u001b[0;34m(\u001b[0m\u001b[0mdd\u001b[0m\u001b[0;34m,\u001b[0m \u001b[0mtest\u001b[0m\u001b[0;34m=\u001b[0m\u001b[0;34m'kpss'\u001b[0m\u001b[0;34m)\u001b[0m\u001b[0;34m)\u001b[0m\u001b[0;34m\u001b[0m\u001b[0;34m\u001b[0m\u001b[0m\n\u001b[0m\u001b[1;32m     10\u001b[0m \u001b[0;34m\u001b[0m\u001b[0m\n\u001b[1;32m     11\u001b[0m \u001b[0;31m# PP test:\u001b[0m\u001b[0;34m\u001b[0m\u001b[0;34m\u001b[0m\u001b[0;34m\u001b[0m\u001b[0m\n",
            "\u001b[0;32m/usr/local/lib/python3.7/dist-packages/pmdarima/arima/utils.py\u001b[0m in \u001b[0;36mndiffs\u001b[0;34m(x, alpha, test, max_d, **kwargs)\u001b[0m\n\u001b[1;32m    169\u001b[0m     \u001b[0;31m# get the test\u001b[0m\u001b[0;34m\u001b[0m\u001b[0;34m\u001b[0m\u001b[0;34m\u001b[0m\u001b[0m\n\u001b[1;32m    170\u001b[0m     \u001b[0mtestfunc\u001b[0m \u001b[0;34m=\u001b[0m \u001b[0mget_callable\u001b[0m\u001b[0;34m(\u001b[0m\u001b[0mtest\u001b[0m\u001b[0;34m,\u001b[0m \u001b[0mVALID_TESTS\u001b[0m\u001b[0;34m)\u001b[0m\u001b[0;34m(\u001b[0m\u001b[0malpha\u001b[0m\u001b[0;34m,\u001b[0m \u001b[0;34m**\u001b[0m\u001b[0mkwargs\u001b[0m\u001b[0;34m)\u001b[0m\u001b[0;34m.\u001b[0m\u001b[0mshould_diff\u001b[0m\u001b[0;34m\u001b[0m\u001b[0;34m\u001b[0m\u001b[0m\n\u001b[0;32m--> 171\u001b[0;31m     \u001b[0mx\u001b[0m \u001b[0;34m=\u001b[0m \u001b[0mcheck_endog\u001b[0m\u001b[0;34m(\u001b[0m\u001b[0mx\u001b[0m\u001b[0;34m,\u001b[0m \u001b[0mdtype\u001b[0m\u001b[0;34m=\u001b[0m\u001b[0mDTYPE\u001b[0m\u001b[0;34m,\u001b[0m \u001b[0mcopy\u001b[0m\u001b[0;34m=\u001b[0m\u001b[0;32mFalse\u001b[0m\u001b[0;34m)\u001b[0m\u001b[0;34m\u001b[0m\u001b[0;34m\u001b[0m\u001b[0m\n\u001b[0m\u001b[1;32m    172\u001b[0m \u001b[0;34m\u001b[0m\u001b[0m\n\u001b[1;32m    173\u001b[0m     \u001b[0;31m# base case, if constant return 0\u001b[0m\u001b[0;34m\u001b[0m\u001b[0;34m\u001b[0m\u001b[0;34m\u001b[0m\u001b[0m\n",
            "\u001b[0;32m/usr/local/lib/python3.7/dist-packages/pmdarima/utils/array.py\u001b[0m in \u001b[0;36mcheck_endog\u001b[0;34m(y, dtype, copy, force_all_finite)\u001b[0m\n\u001b[1;32m    169\u001b[0m     return column_or_1d(\n\u001b[1;32m    170\u001b[0m         check_array(y, ensure_2d=False, force_all_finite=force_all_finite,\n\u001b[0;32m--> 171\u001b[0;31m                     copy=copy, dtype=dtype))  # type: np.ndarray\n\u001b[0m\u001b[1;32m    172\u001b[0m \u001b[0;34m\u001b[0m\u001b[0m\n\u001b[1;32m    173\u001b[0m \u001b[0;34m\u001b[0m\u001b[0m\n",
            "\u001b[0;32m/usr/local/lib/python3.7/dist-packages/sklearn/utils/validation.py\u001b[0m in \u001b[0;36mcolumn_or_1d\u001b[0;34m(y, warn)\u001b[0m\n\u001b[1;32m   1037\u001b[0m \u001b[0;34m\u001b[0m\u001b[0m\n\u001b[1;32m   1038\u001b[0m     raise ValueError(\n\u001b[0;32m-> 1039\u001b[0;31m         \u001b[0;34m\"y should be a 1d array, got an array of shape {} instead.\"\u001b[0m\u001b[0;34m.\u001b[0m\u001b[0mformat\u001b[0m\u001b[0;34m(\u001b[0m\u001b[0mshape\u001b[0m\u001b[0;34m)\u001b[0m\u001b[0;34m\u001b[0m\u001b[0;34m\u001b[0m\u001b[0m\n\u001b[0m\u001b[1;32m   1040\u001b[0m     )\n\u001b[1;32m   1041\u001b[0m \u001b[0;34m\u001b[0m\u001b[0m\n",
            "\u001b[0;31mValueError\u001b[0m: y should be a 1d array, got an array of shape (11830, 3) instead."
          ]
        }
      ]
    },
    {
      "cell_type": "markdown",
      "source": [
        "\n",
        "ValueError: Encountered exception in stationarity test ('adf'). This can occur in seasonal settings when a large enough `m` coupled with a large enough `D` difference the training array into too few samples for OLS (input contains 3 samples). Try fitting on a larger training size (raised from LinAlgError: Singular matrix)"
      ],
      "metadata": {
        "id": "t6Qb5llqCiqj"
      }
    },
    {
      "cell_type": "code",
      "source": [
        "from sklearn.preprocessing import PowerTransformer\n",
        "\n",
        "pt_exog = PowerTransformer(method='box-cox')\n",
        "train_data_exog = pt_exog.fit_transform(train_data_exog)\n",
        "test_data_exog = pt_exog.transform(test_data_exog)"
      ],
      "metadata": {
        "id": "Quz2RJfFy_YM"
      },
      "execution_count": 14,
      "outputs": []
    },
    {
      "cell_type": "code",
      "source": [
        "ssss = train_data_exog[:,1]"
      ],
      "metadata": {
        "id": "dsBymbO-JQCg"
      },
      "execution_count": 32,
      "outputs": []
    },
    {
      "cell_type": "code",
      "source": [
        "from pmdarima.arima.utils import ndiffs\n",
        "# KPSS test\n",
        "print(ndiffs(ssss, test='kpss')) \n",
        "print(ndiffs(ssss, test='adf'))  "
      ],
      "metadata": {
        "colab": {
          "base_uri": "https://localhost:8080/"
        },
        "id": "BjamZtXcDn8O",
        "outputId": "ad3991ba-c92f-4af0-c2ef-5486cc08109e"
      },
      "execution_count": 55,
      "outputs": [
        {
          "output_type": "stream",
          "name": "stdout",
          "text": [
            "1\n",
            "1\n",
            "1\n"
          ]
        }
      ]
    },
    {
      "cell_type": "code",
      "source": [
        "from statsmodels.tsa.arima.model import ARIMA\n",
        "from sklearn.metrics import mean_squared_error\n",
        "# fit model\n",
        "model = ARIMA(train_data_endog, exog=train_data_exog, order=(0,1,1))\n",
        "model_fit = model.fit()\n",
        "print(model_fit.summary())"
      ],
      "metadata": {
        "colab": {
          "base_uri": "https://localhost:8080/"
        },
        "id": "g5xxjA2Jx6-8",
        "outputId": "091f4f2d-a6fe-4f09-9782-4179765c5b29"
      },
      "execution_count": 15,
      "outputs": [
        {
          "output_type": "stream",
          "name": "stderr",
          "text": [
            "/usr/local/lib/python3.7/dist-packages/statsmodels/base/model.py:606: ConvergenceWarning: Maximum Likelihood optimization failed to converge. Check mle_retvals\n",
            "  ConvergenceWarning)\n"
          ]
        },
        {
          "output_type": "stream",
          "name": "stdout",
          "text": [
            "                               SARIMAX Results                                \n",
            "==============================================================================\n",
            "Dep. Variable:                      y   No. Observations:                11830\n",
            "Model:                 ARIMA(0, 1, 1)   Log Likelihood               46559.646\n",
            "Date:                Wed, 13 Apr 2022   AIC                         -93109.293\n",
            "Time:                        14:01:42   BIC                         -93072.401\n",
            "Sample:                             0   HQIC                        -93096.909\n",
            "                              - 11830                                         \n",
            "Covariance Type:                  opg                                         \n",
            "==============================================================================\n",
            "                 coef    std err          z      P>|z|      [0.025      0.975]\n",
            "------------------------------------------------------------------------------\n",
            "x1            -0.3907      0.003   -124.258      0.000      -0.397      -0.385\n",
            "x2             0.7807      0.003    299.077      0.000       0.776       0.786\n",
            "x3             0.6085      0.001    587.065      0.000       0.606       0.611\n",
            "ma.L1         -0.9879      0.002   -643.300      0.000      -0.991      -0.985\n",
            "sigma2      2.223e-05   8.15e-08    272.606      0.000    2.21e-05    2.24e-05\n",
            "===================================================================================\n",
            "Ljung-Box (L1) (Q):                  46.70   Jarque-Bera (JB):          31933828.09\n",
            "Prob(Q):                              0.00   Prob(JB):                         0.00\n",
            "Heteroskedasticity (H):               1.49   Skew:                             3.45\n",
            "Prob(H) (two-sided):                  0.00   Kurtosis:                       257.45\n",
            "===================================================================================\n",
            "\n",
            "Warnings:\n",
            "[1] Covariance matrix calculated using the outer product of gradients (complex-step).\n"
          ]
        }
      ]
    },
    {
      "cell_type": "code",
      "source": [
        "model_fit.plot_diagnostics(figsize=(10,8))\n",
        "plt.show()"
      ],
      "metadata": {
        "colab": {
          "base_uri": "https://localhost:8080/",
          "height": 513
        },
        "id": "4fQs9VHDyl30",
        "outputId": "3f3abc39-904a-47df-ebe4-462727e19731"
      },
      "execution_count": 16,
      "outputs": [
        {
          "output_type": "display_data",
          "data": {
            "text/plain": [
              "<Figure size 720x576 with 4 Axes>"
            ],
            "image/png": "[encoded data removed]"
          },
          "metadata": {
            "needs_background": "light"
          }
        }
      ]
    },
    {
      "cell_type": "code",
      "source": [
        "model_autoARIMAX = auto_arima(train_data_endog , exogenous=train_data_exog, start_p=0, start_q=0,\n",
        "                      test='adf',       # use adftest to find optimal 'd'\n",
        "                      max_p=1, max_q=1, # maximum p and q\n",
        "                      d=1,           # let model determine 'd'\n",
        "                      seasonal=False,   # No Seasonality\n",
        "                      trace=True,\n",
        "                      error_action='ignore',  \n",
        "                      suppress_warnings=True, \n",
        "                      stepwise=True)"
      ],
      "metadata": {
        "colab": {
          "base_uri": "https://localhost:8080/"
        },
        "id": "tEQpWWGnFda-",
        "outputId": "77ed7968-e07b-4c39-d8ee-dc68e86554de"
      },
      "execution_count": 17,
      "outputs": [
        {
          "output_type": "stream",
          "name": "stdout",
          "text": [
            "Performing stepwise search to minimize aic\n",
            " ARIMA(0,1,0)(0,0,0)[0] intercept   : AIC=-85241.659, Time=3.98 sec\n",
            " ARIMA(1,1,0)(0,0,0)[0] intercept   : AIC=-88703.522, Time=20.97 sec\n",
            " ARIMA(0,1,1)(0,0,0)[0] intercept   : AIC=-92410.146, Time=59.35 sec\n",
            " ARIMA(0,1,0)(0,0,0)[0]             : AIC=-85243.001, Time=4.76 sec\n",
            " ARIMA(1,1,1)(0,0,0)[0] intercept   : AIC=-92364.826, Time=29.48 sec\n",
            " ARIMA(0,1,1)(0,0,0)[0]             : AIC=-93109.293, Time=21.47 sec\n",
            " ARIMA(1,1,1)(0,0,0)[0]             : AIC=-92537.585, Time=26.09 sec\n",
            " ARIMA(1,1,0)(0,0,0)[0]             : AIC=-88704.449, Time=8.47 sec\n",
            "\n",
            "Best model:  ARIMA(0,1,1)(0,0,0)[0]          \n",
            "Total fit time: 174.603 seconds\n"
          ]
        }
      ]
    },
    {
      "cell_type": "code",
      "source": [
        "#Summary of the model\n",
        "model_autoARIMAX.summary()"
      ],
      "metadata": {
        "id": "xSVd7Tfl7MMK",
        "colab": {
          "base_uri": "https://localhost:8080/",
          "height": 465
        },
        "outputId": "8af03b43-953e-49cd-d2ee-9077cd3add23"
      },
      "execution_count": 18,
      "outputs": [
        {
          "output_type": "execute_result",
          "data": {
            "text/plain": [
              "<class 'statsmodels.iolib.summary.Summary'>\n",
              "\"\"\"\n",
              "                               SARIMAX Results                                \n",
              "==============================================================================\n",
              "Dep. Variable:                      y   No. Observations:                11830\n",
              "Model:               SARIMAX(0, 1, 1)   Log Likelihood               46559.646\n",
              "Date:                Wed, 13 Apr 2022   AIC                         -93109.293\n",
              "Time:                        14:04:44   BIC                         -93072.401\n",
              "Sample:                             0   HQIC                        -93096.909\n",
              "                              - 11830                                         \n",
              "Covariance Type:                  opg                                         \n",
              "==============================================================================\n",
              "                 coef    std err          z      P>|z|      [0.025      0.975]\n",
              "------------------------------------------------------------------------------\n",
              "x1            -0.3907      0.003   -124.258      0.000      -0.397      -0.385\n",
              "x2             0.7807      0.003    299.077      0.000       0.776       0.786\n",
              "x3             0.6085      0.001    587.065      0.000       0.606       0.611\n",
              "ma.L1         -0.9879      0.002   -643.300      0.000      -0.991      -0.985\n",
              "sigma2      2.223e-05   8.15e-08    272.606      0.000    2.21e-05    2.24e-05\n",
              "===================================================================================\n",
              "Ljung-Box (L1) (Q):                  46.70   Jarque-Bera (JB):          31933828.09\n",
              "Prob(Q):                              0.00   Prob(JB):                         0.00\n",
              "Heteroskedasticity (H):               1.49   Skew:                             3.45\n",
              "Prob(H) (two-sided):                  0.00   Kurtosis:                       257.45\n",
              "===================================================================================\n",
              "\n",
              "Warnings:\n",
              "[1] Covariance matrix calculated using the outer product of gradients (complex-step).\n",
              "\"\"\""
            ],
            "text/html": [
              "<table class=\"simpletable\">\n",
              "<caption>SARIMAX Results</caption>\n",
              "<tr>\n",
              "  <th>Dep. Variable:</th>           <td>y</td>        <th>  No. Observations:  </th>    <td>11830</td>  \n",
              "</tr>\n",
              "<tr>\n",
              "  <th>Model:</th>           <td>SARIMAX(0, 1, 1)</td> <th>  Log Likelihood     </th>  <td>46559.646</td>\n",
              "</tr>\n",
              "<tr>\n",
              "  <th>Date:</th>            <td>Wed, 13 Apr 2022</td> <th>  AIC                </th> <td>-93109.293</td>\n",
              "</tr>\n",
              "<tr>\n",
              "  <th>Time:</th>                <td>14:04:44</td>     <th>  BIC                </th> <td>-93072.401</td>\n",
              "</tr>\n",
              "<tr>\n",
              "  <th>Sample:</th>                  <td>0</td>        <th>  HQIC               </th> <td>-93096.909</td>\n",
              "</tr>\n",
              "<tr>\n",
              "  <th></th>                     <td> - 11830</td>     <th>                     </th>      <td> </td>    \n",
              "</tr>\n",
              "<tr>\n",
              "  <th>Covariance Type:</th>        <td>opg</td>       <th>                     </th>      <td> </td>    \n",
              "</tr>\n",
              "</table>\n",
              "<table class=\"simpletable\">\n",
              "<tr>\n",
              "     <td></td>       <th>coef</th>     <th>std err</th>      <th>z</th>      <th>P>|z|</th>  <th>[0.025</th>    <th>0.975]</th>  \n",
              "</tr>\n",
              "<tr>\n",
              "  <th>x1</th>     <td>   -0.3907</td> <td>    0.003</td> <td> -124.258</td> <td> 0.000</td> <td>   -0.397</td> <td>   -0.385</td>\n",
              "</tr>\n",
              "<tr>\n",
              "  <th>x2</th>     <td>    0.7807</td> <td>    0.003</td> <td>  299.077</td> <td> 0.000</td> <td>    0.776</td> <td>    0.786</td>\n",
              "</tr>\n",
              "<tr>\n",
              "  <th>x3</th>     <td>    0.6085</td> <td>    0.001</td> <td>  587.065</td> <td> 0.000</td> <td>    0.606</td> <td>    0.611</td>\n",
              "</tr>\n",
              "<tr>\n",
              "  <th>ma.L1</th>  <td>   -0.9879</td> <td>    0.002</td> <td> -643.300</td> <td> 0.000</td> <td>   -0.991</td> <td>   -0.985</td>\n",
              "</tr>\n",
              "<tr>\n",
              "  <th>sigma2</th> <td> 2.223e-05</td> <td> 8.15e-08</td> <td>  272.606</td> <td> 0.000</td> <td> 2.21e-05</td> <td> 2.24e-05</td>\n",
              "</tr>\n",
              "</table>\n",
              "<table class=\"simpletable\">\n",
              "<tr>\n",
              "  <th>Ljung-Box (L1) (Q):</th>     <td>46.70</td> <th>  Jarque-Bera (JB):  </th> <td>31933828.09</td>\n",
              "</tr>\n",
              "<tr>\n",
              "  <th>Prob(Q):</th>                <td>0.00</td>  <th>  Prob(JB):          </th>    <td>0.00</td>    \n",
              "</tr>\n",
              "<tr>\n",
              "  <th>Heteroskedasticity (H):</th> <td>1.49</td>  <th>  Skew:              </th>    <td>3.45</td>    \n",
              "</tr>\n",
              "<tr>\n",
              "  <th>Prob(H) (two-sided):</th>    <td>0.00</td>  <th>  Kurtosis:          </th>   <td>257.45</td>   \n",
              "</tr>\n",
              "</table><br/><br/>Warnings:<br/>[1] Covariance matrix calculated using the outer product of gradients (complex-step)."
            ]
          },
          "metadata": {},
          "execution_count": 18
        }
      ]
    },
    {
      "cell_type": "markdown",
      "source": [
        "**Ljung-Box**\n",
        "The Ljung Box test, pronounced \"Young\" and sometimes called the modified Box-Pierce test, tests that the errors are white noise."
      ],
      "metadata": {
        "id": "xaRpbpBFYjok"
      }
    },
    {
      "cell_type": "markdown",
      "source": [
        "**Heteroscedasticity**\n",
        "Heteroscedasticity tests that the error residuals are homoscedastic or have the same variance. The summary performs White's test."
      ],
      "metadata": {
        "id": "32QaOP8HYpdc"
      }
    },
    {
      "cell_type": "markdown",
      "source": [
        "**Jarque-Bera**\n",
        "Jarque-Bera tests for the normality of errors. It tests the null that the data is normally distributed against an alternative of another"
      ],
      "metadata": {
        "id": "iKXRLosbY9h6"
      }
    },
    {
      "cell_type": "code",
      "source": [
        "model_autoARIMAX.plot_diagnostics(figsize=(10,8))\n",
        "plt.show()"
      ],
      "metadata": {
        "id": "brJvOa0n7MMK",
        "colab": {
          "base_uri": "https://localhost:8080/",
          "height": 513
        },
        "outputId": "33e50554-f92b-467c-bb7d-f62a9177b932"
      },
      "execution_count": 19,
      "outputs": [
        {
          "output_type": "display_data",
          "data": {
            "text/plain": [
              "<Figure size 720x576 with 4 Axes>"
            ],
            "image/png": "[encoded data removed]"
          },
          "metadata": {
            "needs_background": "light"
          }
        }
      ]
    },
    {
      "cell_type": "code",
      "source": [
        "prediction_ARIMAX = pd.DataFrame(model_autoARIMAX.predict(n_periods = 1315, exogenous=test_data_exog), index=test_data.index)\n",
        "prediction_ARIMAX.columns = ['Predictions_ARIMAX']\n",
        "prediction_rescaled_ARIMAX = pt_endog.inverse_transform(prediction_ARIMAX.values)\n",
        "prediction_ARIMAX['Predictions_scaled_ARIMAX'] = prediction_rescaled_ARIMAX\n",
        "prediction_ARIMAX"
      ],
      "metadata": {
        "id": "57VQS_c8H9Eu",
        "colab": {
          "base_uri": "https://localhost:8080/",
          "height": 455
        },
        "outputId": "30e86cab-a730-4e47-d746-10dbe27e0803"
      },
      "execution_count": 20,
      "outputs": [
        {
          "output_type": "execute_result",
          "data": {
            "text/plain": [
              "            Predictions_ARIMAX  Predictions_scaled_ARIMAX\n",
              "Date                                                     \n",
              "2016-11-18            1.358534                  82.410577\n",
              "2016-11-21            1.357758                  82.326620\n",
              "2016-11-22            1.362548                  82.846149\n",
              "2016-11-23            1.361480                  82.730128\n",
              "2016-11-25            1.366240                  83.248795\n",
              "...                        ...                        ...\n",
              "2022-02-03            1.885315                 163.772004\n",
              "2022-02-04            1.880773                 162.812097\n",
              "2022-02-07            1.869782                 160.512236\n",
              "2022-02-08            1.867427                 160.023501\n",
              "2022-02-09            1.865372                 159.598218\n",
              "\n",
              "[1315 rows x 2 columns]"
            ],
            "text/html": [
              "\n",
              "  <div id=\"df-14cc3829-a23f-4235-b7db-1a360e4886a4\">\n",
              "    <div class=\"colab-df-container\">\n",
              "      <div>\n",
              "<style scoped>\n",
              "    .dataframe tbody tr th:only-of-type {\n",
              "        vertical-align: middle;\n",
              "    }\n",
              "\n",
              "    .dataframe tbody tr th {\n",
              "        vertical-align: top;\n",
              "    }\n",
              "\n",
              "    .dataframe thead th {\n",
              "        text-align: right;\n",
              "    }\n",
              "</style>\n",
              "<table border=\"1\" class=\"dataframe\">\n",
              "  <thead>\n",
              "    <tr style=\"text-align: right;\">\n",
              "      <th></th>\n",
              "      <th>Predictions_ARIMAX</th>\n",
              "      <th>Predictions_scaled_ARIMAX</th>\n",
              "    </tr>\n",
              "    <tr>\n",
              "      <th>Date</th>\n",
              "      <th></th>\n",
              "      <th></th>\n",
              "    </tr>\n",
              "  </thead>\n",
              "  <tbody>\n",
              "    <tr>\n",
              "      <th>2016-11-18</th>\n",
              "      <td>1.358534</td>\n",
              "      <td>82.410577</td>\n",
              "    </tr>\n",
              "    <tr>\n",
              "      <th>2016-11-21</th>\n",
              "      <td>1.357758</td>\n",
              "      <td>82.326620</td>\n",
              "    </tr>\n",
              "    <tr>\n",
              "      <th>2016-11-22</th>\n",
              "      <td>1.362548</td>\n",
              "      <td>82.846149</td>\n",
              "    </tr>\n",
              "    <tr>\n",
              "      <th>2016-11-23</th>\n",
              "      <td>1.361480</td>\n",
              "      <td>82.730128</td>\n",
              "    </tr>\n",
              "    <tr>\n",
              "      <th>2016-11-25</th>\n",
              "      <td>1.366240</td>\n",
              "      <td>83.248795</td>\n",
              "    </tr>\n",
              "    <tr>\n",
              "      <th>...</th>\n",
              "      <td>...</td>\n",
              "      <td>...</td>\n",
              "    </tr>\n",
              "    <tr>\n",
              "      <th>2022-02-03</th>\n",
              "      <td>1.885315</td>\n",
              "      <td>163.772004</td>\n",
              "    </tr>\n",
              "    <tr>\n",
              "      <th>2022-02-04</th>\n",
              "      <td>1.880773</td>\n",
              "      <td>162.812097</td>\n",
              "    </tr>\n",
              "    <tr>\n",
              "      <th>2022-02-07</th>\n",
              "      <td>1.869782</td>\n",
              "      <td>160.512236</td>\n",
              "    </tr>\n",
              "    <tr>\n",
              "      <th>2022-02-08</th>\n",
              "      <td>1.867427</td>\n",
              "      <td>160.023501</td>\n",
              "    </tr>\n",
              "    <tr>\n",
              "      <th>2022-02-09</th>\n",
              "      <td>1.865372</td>\n",
              "      <td>159.598218</td>\n",
              "    </tr>\n",
              "  </tbody>\n",
              "</table>\n",
              "<p>1315 rows × 2 columns</p>\n",
              "</div>\n",
              "      <button class=\"colab-df-convert\" onclick=\"convertToInteractive('df-14cc3829-a23f-4235-b7db-1a360e4886a4')\"\n",
              "              title=\"Convert this dataframe to an interactive table.\"\n",
              "              style=\"display:none;\">\n",
              "        \n",
              "  <svg xmlns=\"http://www.w3.org/2000/svg\" height=\"24px\"viewBox=\"0 0 24 24\"\n",
              "       width=\"24px\">\n",
              "    <path d=\"M0 0h24v24H0V0z\" fill=\"none\"/>\n",
              "    <path d=\"M18.56 5.44l.94 2.06.94-2.06 2.06-.94-2.06-.94-.94-2.06-.94 2.06-2.06.94zm-11 1L8.5 8.5l.94-2.06 2.06-.94-2.06-.94L8.5 2.5l-.94 2.06-2.06.94zm10 10l.94 2.06.94-2.06 2.06-.94-2.06-.94-.94-2.06-.94 2.06-2.06.94z\"/><path d=\"M17.41 7.96l-1.37-1.37c-.4-.4-.92-.59-1.43-.59-.52 0-1.04.2-1.43.59L10.3 9.45l-7.72 7.72c-.78.78-.78 2.05 0 2.83L4 21.41c.39.39.9.59 1.41.59.51 0 1.02-.2 1.41-.59l7.78-7.78 2.81-2.81c.8-.78.8-2.07 0-2.86zM5.41 20L4 18.59l7.72-7.72 1.47 1.35L5.41 20z\"/>\n",
              "  </svg>\n",
              "      </button>\n",
              "      \n",
              "  <style>\n",
              "    .colab-df-container {\n",
              "      display:flex;\n",
              "      flex-wrap:wrap;\n",
              "      gap: 12px;\n",
              "    }\n",
              "\n",
              "    .colab-df-convert {\n",
              "      background-color: #E8F0FE;\n",
              "      border: none;\n",
              "      border-radius: 50%;\n",
              "      cursor: pointer;\n",
              "      display: none;\n",
              "      fill: #1967D2;\n",
              "      height: 32px;\n",
              "      padding: 0 0 0 0;\n",
              "      width: 32px;\n",
              "    }\n",
              "\n",
              "    .colab-df-convert:hover {\n",
              "      background-color: #E2EBFA;\n",
              "      box-shadow: 0px 1px 2px rgba(60, 64, 67, 0.3), 0px 1px 3px 1px rgba(60, 64, 67, 0.15);\n",
              "      fill: #174EA6;\n",
              "    }\n",
              "\n",
              "    [theme=dark] .colab-df-convert {\n",
              "      background-color: #3B4455;\n",
              "      fill: #D2E3FC;\n",
              "    }\n",
              "\n",
              "    [theme=dark] .colab-df-convert:hover {\n",
              "      background-color: #434B5C;\n",
              "      box-shadow: 0px 1px 3px 1px rgba(0, 0, 0, 0.15);\n",
              "      filter: drop-shadow(0px 1px 2px rgba(0, 0, 0, 0.3));\n",
              "      fill: #FFFFFF;\n",
              "    }\n",
              "  </style>\n",
              "\n",
              "      <script>\n",
              "        const buttonEl =\n",
              "          document.querySelector('#df-14cc3829-a23f-4235-b7db-1a360e4886a4 button.colab-df-convert');\n",
              "        buttonEl.style.display =\n",
              "          google.colab.kernel.accessAllowed ? 'block' : 'none';\n",
              "\n",
              "        async function convertToInteractive(key) {\n",
              "          const element = document.querySelector('#df-14cc3829-a23f-4235-b7db-1a360e4886a4');\n",
              "          const dataTable =\n",
              "            await google.colab.kernel.invokeFunction('convertToInteractive',\n",
              "                                                     [key], {});\n",
              "          if (!dataTable) return;\n",
              "\n",
              "          const docLinkHtml = 'Like what you see? Visit the ' +\n",
              "            '<a target=\"_blank\" href=https://colab.research.google.com/notebooks/data_table.ipynb>data table notebook</a>'\n",
              "            + ' to learn more about interactive tables.';\n",
              "          element.innerHTML = '';\n",
              "          dataTable['output_type'] = 'display_data';\n",
              "          await google.colab.output.renderOutput(dataTable, element);\n",
              "          const docLink = document.createElement('div');\n",
              "          docLink.innerHTML = docLinkHtml;\n",
              "          element.appendChild(docLink);\n",
              "        }\n",
              "      </script>\n",
              "    </div>\n",
              "  </div>\n",
              "  "
            ]
          },
          "metadata": {},
          "execution_count": 20
        }
      ]
    },
    {
      "cell_type": "code",
      "source": [
        "plt.figure(figsize=(8,5))\n",
        "plt.plot(train_data.Close ,label=\"Training\")\n",
        "plt.plot(test_data.Close ,label=\"Test\")\n",
        "plt.plot(prediction_ARIMAX.Predictions_scaled_ARIMAX, label=\"Predicted_Arimax\")\n",
        "plt.legend(loc = 'upper left')\n",
        "plt.show()"
      ],
      "metadata": {
        "colab": {
          "base_uri": "https://localhost:8080/",
          "height": 320
        },
        "id": "_AiRPyYxFMSI",
        "outputId": "c943a918-890a-4983-adc0-80098d0ab9ed"
      },
      "execution_count": 21,
      "outputs": [
        {
          "output_type": "display_data",
          "data": {
            "text/plain": [
              "<Figure size 576x360 with 1 Axes>"
            ],
            "image/png": "[encoded data removed]"
          },
          "metadata": {
            "needs_background": "light"
          }
        }
      ]
    },
    {
      "cell_type": "code",
      "source": [
        "def evaluate_prediction(predicted, actual, model_name):\n",
        "        mse = mean_squared_error(predicted, actual)\n",
        "        rsme = np.sqrt((mean_squared_error(predicted, actual)))\n",
        "        mae = mean_absolute_error(actual, predicted)\n",
        "        r2 = r2_score(actual, predicted)\n",
        "        max_err = max_error(actual, predicted)\n",
        "        print(colored(model_name + ' performance:', 'red'))\n",
        "        print('R^2: {:.4f} %'.format(r2 * 100))\n",
        "        print('Mean Absolute Error: {:.4f}'.format(mae))\n",
        "        print('Mean Squared Error: {:.4f}'.format(mse))\n",
        "        print('Root Mean Squared Error: {:.4f}'.format(rsme))\n",
        "        print('Max_error: {:.4f}'.format(max_err))\n",
        "        print('')\n",
        "        return\n",
        "\n",
        "evaluate_prediction(prediction_ARIMAX.Predictions_scaled_ARIMAX, test_data.Close, 'ARIMAX')"
      ],
      "metadata": {
        "colab": {
          "base_uri": "https://localhost:8080/"
        },
        "id": "mUhBhLwrs3q6",
        "outputId": "040d8312-66d8-4e72-8580-abe96482fb7b"
      },
      "execution_count": 22,
      "outputs": [
        {
          "output_type": "stream",
          "name": "stdout",
          "text": [
            "\u001b[31mARIMAX performance:\u001b[0m\n",
            "R^2: 99.9423 %\n",
            "Mean Absolute Error: 0.3815\n",
            "Mean Squared Error: 0.3341\n",
            "Root Mean Squared Error: 0.5780\n",
            "Max_error: 6.3714\n",
            "\n"
          ]
        }
      ]
    },
    {
      "cell_type": "code",
      "source": [
        "model_autoARIMAX_1 = auto_arima(train_data_endog , exogenous=train_data_exog, start_p=0, start_q=0,\n",
        "                      test='adf',       # use adftest to find optimal 'd'\n",
        "                      max_p=1, max_q=1, # maximum p and q\n",
        "                      m=1,              # frequency of series\n",
        "                      d=1,           # let model determine 'd'\n",
        "                      seasonal=False,   # No Seasonality\n",
        "                      trace=True,\n",
        "                      error_action='ignore',  \n",
        "                      suppress_warnings=True, \n",
        "                      stepwise=True)"
      ],
      "metadata": {
        "id": "KKT1ueupO0BN"
      },
      "execution_count": null,
      "outputs": []
    },
    {
      "cell_type": "code",
      "source": [
        "#Summary of the model\n",
        "model_autoARIMAX_1.summary()"
      ],
      "metadata": {
        "colab": {
          "base_uri": "https://localhost:8080/",
          "height": 527
        },
        "outputId": "efda6653-6e35-4896-9923-b27e08029fd9",
        "id": "Hfo066R2RA6Z"
      },
      "execution_count": null,
      "outputs": [
        {
          "output_type": "execute_result",
          "data": {
            "text/plain": [
              "<class 'statsmodels.iolib.summary.Summary'>\n",
              "\"\"\"\n",
              "                               SARIMAX Results                                \n",
              "==============================================================================\n",
              "Dep. Variable:                      y   No. Observations:                11830\n",
              "Model:               SARIMAX(0, 1, 1)   Log Likelihood               68914.280\n",
              "Date:                Tue, 12 Apr 2022   AIC                        -137812.561\n",
              "Time:                        14:55:11   BIC                        -137753.534\n",
              "Sample:                             0   HQIC                       -137792.746\n",
              "                              - 11830                                         \n",
              "Covariance Type:                  opg                                         \n",
              "==============================================================================\n",
              "                 coef    std err          z      P>|z|      [0.025      0.975]\n",
              "------------------------------------------------------------------------------\n",
              "intercept  -8.228e-05   1.35e-05     -6.076      0.000      -0.000   -5.57e-05\n",
              "x1            -0.0031      0.001     -5.425      0.000      -0.004      -0.002\n",
              "x2             0.0089      0.001     11.880      0.000       0.007       0.010\n",
              "x3             0.0061      0.000     12.941      0.000       0.005       0.007\n",
              "x4             1.2530      0.001   1813.566      0.000       1.252       1.254\n",
              "x5          1.793e-05   9.69e-06      1.850      0.064   -1.07e-06    3.69e-05\n",
              "ma.L1         -0.0242      0.012     -1.992      0.046      -0.048      -0.000\n",
              "sigma2      5.097e-07   2.43e-09    209.772      0.000    5.05e-07    5.14e-07\n",
              "===================================================================================\n",
              "Ljung-Box (L1) (Q):                   0.00   Jarque-Bera (JB):           2362089.54\n",
              "Prob(Q):                              0.98   Prob(JB):                         0.00\n",
              "Heteroskedasticity (H):               0.66   Skew:                            -7.30\n",
              "Prob(H) (two-sided):                  0.00   Kurtosis:                        70.67\n",
              "===================================================================================\n",
              "\n",
              "Warnings:\n",
              "[1] Covariance matrix calculated using the outer product of gradients (complex-step).\n",
              "\"\"\""
            ],
            "text/html": [
              "<table class=\"simpletable\">\n",
              "<caption>SARIMAX Results</caption>\n",
              "<tr>\n",
              "  <th>Dep. Variable:</th>           <td>y</td>        <th>  No. Observations:  </th>    <td>11830</td>   \n",
              "</tr>\n",
              "<tr>\n",
              "  <th>Model:</th>           <td>SARIMAX(0, 1, 1)</td> <th>  Log Likelihood     </th>  <td>68914.280</td> \n",
              "</tr>\n",
              "<tr>\n",
              "  <th>Date:</th>            <td>Tue, 12 Apr 2022</td> <th>  AIC                </th> <td>-137812.561</td>\n",
              "</tr>\n",
              "<tr>\n",
              "  <th>Time:</th>                <td>14:55:11</td>     <th>  BIC                </th> <td>-137753.534</td>\n",
              "</tr>\n",
              "<tr>\n",
              "  <th>Sample:</th>                  <td>0</td>        <th>  HQIC               </th> <td>-137792.746</td>\n",
              "</tr>\n",
              "<tr>\n",
              "  <th></th>                     <td> - 11830</td>     <th>                     </th>      <td> </td>     \n",
              "</tr>\n",
              "<tr>\n",
              "  <th>Covariance Type:</th>        <td>opg</td>       <th>                     </th>      <td> </td>     \n",
              "</tr>\n",
              "</table>\n",
              "<table class=\"simpletable\">\n",
              "<tr>\n",
              "      <td></td>         <th>coef</th>     <th>std err</th>      <th>z</th>      <th>P>|z|</th>  <th>[0.025</th>    <th>0.975]</th>  \n",
              "</tr>\n",
              "<tr>\n",
              "  <th>intercept</th> <td>-8.228e-05</td> <td> 1.35e-05</td> <td>   -6.076</td> <td> 0.000</td> <td>   -0.000</td> <td>-5.57e-05</td>\n",
              "</tr>\n",
              "<tr>\n",
              "  <th>x1</th>        <td>   -0.0031</td> <td>    0.001</td> <td>   -5.425</td> <td> 0.000</td> <td>   -0.004</td> <td>   -0.002</td>\n",
              "</tr>\n",
              "<tr>\n",
              "  <th>x2</th>        <td>    0.0089</td> <td>    0.001</td> <td>   11.880</td> <td> 0.000</td> <td>    0.007</td> <td>    0.010</td>\n",
              "</tr>\n",
              "<tr>\n",
              "  <th>x3</th>        <td>    0.0061</td> <td>    0.000</td> <td>   12.941</td> <td> 0.000</td> <td>    0.005</td> <td>    0.007</td>\n",
              "</tr>\n",
              "<tr>\n",
              "  <th>x4</th>        <td>    1.2530</td> <td>    0.001</td> <td> 1813.566</td> <td> 0.000</td> <td>    1.252</td> <td>    1.254</td>\n",
              "</tr>\n",
              "<tr>\n",
              "  <th>x5</th>        <td> 1.793e-05</td> <td> 9.69e-06</td> <td>    1.850</td> <td> 0.064</td> <td>-1.07e-06</td> <td> 3.69e-05</td>\n",
              "</tr>\n",
              "<tr>\n",
              "  <th>ma.L1</th>     <td>   -0.0242</td> <td>    0.012</td> <td>   -1.992</td> <td> 0.046</td> <td>   -0.048</td> <td>   -0.000</td>\n",
              "</tr>\n",
              "<tr>\n",
              "  <th>sigma2</th>    <td> 5.097e-07</td> <td> 2.43e-09</td> <td>  209.772</td> <td> 0.000</td> <td> 5.05e-07</td> <td> 5.14e-07</td>\n",
              "</tr>\n",
              "</table>\n",
              "<table class=\"simpletable\">\n",
              "<tr>\n",
              "  <th>Ljung-Box (L1) (Q):</th>     <td>0.00</td> <th>  Jarque-Bera (JB):  </th> <td>2362089.54</td>\n",
              "</tr>\n",
              "<tr>\n",
              "  <th>Prob(Q):</th>                <td>0.98</td> <th>  Prob(JB):          </th>    <td>0.00</td>   \n",
              "</tr>\n",
              "<tr>\n",
              "  <th>Heteroskedasticity (H):</th> <td>0.66</td> <th>  Skew:              </th>    <td>-7.30</td>  \n",
              "</tr>\n",
              "<tr>\n",
              "  <th>Prob(H) (two-sided):</th>    <td>0.00</td> <th>  Kurtosis:          </th>    <td>70.67</td>  \n",
              "</tr>\n",
              "</table><br/><br/>Warnings:<br/>[1] Covariance matrix calculated using the outer product of gradients (complex-step)."
            ]
          },
          "metadata": {},
          "execution_count": 34
        }
      ]
    },
    {
      "cell_type": "code",
      "source": [
        "model_autoARIMAX_1.plot_diagnostics(figsize=(10,8))\n",
        "plt.show()"
      ],
      "metadata": {
        "colab": {
          "base_uri": "https://localhost:8080/",
          "height": 513
        },
        "outputId": "2d34d8e0-44ad-404e-fd8c-58d1104edb7a",
        "id": "rTDGZNbORA6Z"
      },
      "execution_count": null,
      "outputs": [
        {
          "output_type": "display_data",
          "data": {
            "text/plain": [
              "<Figure size 720x576 with 4 Axes>"
            ],
            "image/png": "[encoded data removed]"
          },
          "metadata": {
            "needs_background": "light"
          }
        }
      ]
    },
    {
      "cell_type": "code",
      "source": [
        "prediction_ARIMAX_1 = pd.DataFrame(model_autoARIMAX_1.predict(n_periods = 1315, exogenous=test_data_exog), index=test_data.index)\n",
        "prediction_ARIMAX_1.columns = ['Predictions_ARIMAX_1']\n",
        "prediction_rescaled_ARIMAX_1 = pt_endog.inverse_transform(prediction_ARIMAX_1.values)\n",
        "prediction_ARIMAX_1['Predictions_scaled_ARIMAX_1'] = prediction_rescaled_ARIMAX_1\n",
        "prediction_ARIMAX_1"
      ],
      "metadata": {
        "colab": {
          "base_uri": "https://localhost:8080/",
          "height": 455
        },
        "outputId": "cf2fcc97-bb7a-4a05-c2a0-9383242f3b98",
        "id": "VsUOx2FTRA6a"
      },
      "execution_count": null,
      "outputs": [
        {
          "output_type": "execute_result",
          "data": {
            "text/plain": [
              "            Predictions_ARIMAX_1  Predictions_scaled_ARIMAX_1\n",
              "Date                                                         \n",
              "2016-11-18              1.354254                    81.948614\n",
              "2016-11-21              1.360263                    82.597946\n",
              "2016-11-22              1.361372                    82.718339\n",
              "2016-11-23              1.360513                    82.625101\n",
              "2016-11-25              1.367861                    83.426184\n",
              "...                          ...                          ...\n",
              "2022-02-03              1.924141                   172.206409\n",
              "2022-02-04              1.911049                   169.316063\n",
              "2022-02-07              1.904756                   167.943568\n",
              "2022-02-08              1.902821                   167.523637\n",
              "2022-02-09              1.900900                   167.108059\n",
              "\n",
              "[1315 rows x 2 columns]"
            ],
            "text/html": [
              "\n",
              "  <div id=\"df-41953667-1771-4fbf-8abe-5cb97be1ca64\">\n",
              "    <div class=\"colab-df-container\">\n",
              "      <div>\n",
              "<style scoped>\n",
              "    .dataframe tbody tr th:only-of-type {\n",
              "        vertical-align: middle;\n",
              "    }\n",
              "\n",
              "    .dataframe tbody tr th {\n",
              "        vertical-align: top;\n",
              "    }\n",
              "\n",
              "    .dataframe thead th {\n",
              "        text-align: right;\n",
              "    }\n",
              "</style>\n",
              "<table border=\"1\" class=\"dataframe\">\n",
              "  <thead>\n",
              "    <tr style=\"text-align: right;\">\n",
              "      <th></th>\n",
              "      <th>Predictions_ARIMAX_1</th>\n",
              "      <th>Predictions_scaled_ARIMAX_1</th>\n",
              "    </tr>\n",
              "    <tr>\n",
              "      <th>Date</th>\n",
              "      <th></th>\n",
              "      <th></th>\n",
              "    </tr>\n",
              "  </thead>\n",
              "  <tbody>\n",
              "    <tr>\n",
              "      <th>2016-11-18</th>\n",
              "      <td>1.354254</td>\n",
              "      <td>81.948614</td>\n",
              "    </tr>\n",
              "    <tr>\n",
              "      <th>2016-11-21</th>\n",
              "      <td>1.360263</td>\n",
              "      <td>82.597946</td>\n",
              "    </tr>\n",
              "    <tr>\n",
              "      <th>2016-11-22</th>\n",
              "      <td>1.361372</td>\n",
              "      <td>82.718339</td>\n",
              "    </tr>\n",
              "    <tr>\n",
              "      <th>2016-11-23</th>\n",
              "      <td>1.360513</td>\n",
              "      <td>82.625101</td>\n",
              "    </tr>\n",
              "    <tr>\n",
              "      <th>2016-11-25</th>\n",
              "      <td>1.367861</td>\n",
              "      <td>83.426184</td>\n",
              "    </tr>\n",
              "    <tr>\n",
              "      <th>...</th>\n",
              "      <td>...</td>\n",
              "      <td>...</td>\n",
              "    </tr>\n",
              "    <tr>\n",
              "      <th>2022-02-03</th>\n",
              "      <td>1.924141</td>\n",
              "      <td>172.206409</td>\n",
              "    </tr>\n",
              "    <tr>\n",
              "      <th>2022-02-04</th>\n",
              "      <td>1.911049</td>\n",
              "      <td>169.316063</td>\n",
              "    </tr>\n",
              "    <tr>\n",
              "      <th>2022-02-07</th>\n",
              "      <td>1.904756</td>\n",
              "      <td>167.943568</td>\n",
              "    </tr>\n",
              "    <tr>\n",
              "      <th>2022-02-08</th>\n",
              "      <td>1.902821</td>\n",
              "      <td>167.523637</td>\n",
              "    </tr>\n",
              "    <tr>\n",
              "      <th>2022-02-09</th>\n",
              "      <td>1.900900</td>\n",
              "      <td>167.108059</td>\n",
              "    </tr>\n",
              "  </tbody>\n",
              "</table>\n",
              "<p>1315 rows × 2 columns</p>\n",
              "</div>\n",
              "      <button class=\"colab-df-convert\" onclick=\"convertToInteractive('df-41953667-1771-4fbf-8abe-5cb97be1ca64')\"\n",
              "              title=\"Convert this dataframe to an interactive table.\"\n",
              "              style=\"display:none;\">\n",
              "        \n",
              "  <svg xmlns=\"http://www.w3.org/2000/svg\" height=\"24px\"viewBox=\"0 0 24 24\"\n",
              "       width=\"24px\">\n",
              "    <path d=\"M0 0h24v24H0V0z\" fill=\"none\"/>\n",
              "    <path d=\"M18.56 5.44l.94 2.06.94-2.06 2.06-.94-2.06-.94-.94-2.06-.94 2.06-2.06.94zm-11 1L8.5 8.5l.94-2.06 2.06-.94-2.06-.94L8.5 2.5l-.94 2.06-2.06.94zm10 10l.94 2.06.94-2.06 2.06-.94-2.06-.94-.94-2.06-.94 2.06-2.06.94z\"/><path d=\"M17.41 7.96l-1.37-1.37c-.4-.4-.92-.59-1.43-.59-.52 0-1.04.2-1.43.59L10.3 9.45l-7.72 7.72c-.78.78-.78 2.05 0 2.83L4 21.41c.39.39.9.59 1.41.59.51 0 1.02-.2 1.41-.59l7.78-7.78 2.81-2.81c.8-.78.8-2.07 0-2.86zM5.41 20L4 18.59l7.72-7.72 1.47 1.35L5.41 20z\"/>\n",
              "  </svg>\n",
              "      </button>\n",
              "      \n",
              "  <style>\n",
              "    .colab-df-container {\n",
              "      display:flex;\n",
              "      flex-wrap:wrap;\n",
              "      gap: 12px;\n",
              "    }\n",
              "\n",
              "    .colab-df-convert {\n",
              "      background-color: #E8F0FE;\n",
              "      border: none;\n",
              "      border-radius: 50%;\n",
              "      cursor: pointer;\n",
              "      display: none;\n",
              "      fill: #1967D2;\n",
              "      height: 32px;\n",
              "      padding: 0 0 0 0;\n",
              "      width: 32px;\n",
              "    }\n",
              "\n",
              "    .colab-df-convert:hover {\n",
              "      background-color: #E2EBFA;\n",
              "      box-shadow: 0px 1px 2px rgba(60, 64, 67, 0.3), 0px 1px 3px 1px rgba(60, 64, 67, 0.15);\n",
              "      fill: #174EA6;\n",
              "    }\n",
              "\n",
              "    [theme=dark] .colab-df-convert {\n",
              "      background-color: #3B4455;\n",
              "      fill: #D2E3FC;\n",
              "    }\n",
              "\n",
              "    [theme=dark] .colab-df-convert:hover {\n",
              "      background-color: #434B5C;\n",
              "      box-shadow: 0px 1px 3px 1px rgba(0, 0, 0, 0.15);\n",
              "      filter: drop-shadow(0px 1px 2px rgba(0, 0, 0, 0.3));\n",
              "      fill: #FFFFFF;\n",
              "    }\n",
              "  </style>\n",
              "\n",
              "      <script>\n",
              "        const buttonEl =\n",
              "          document.querySelector('#df-41953667-1771-4fbf-8abe-5cb97be1ca64 button.colab-df-convert');\n",
              "        buttonEl.style.display =\n",
              "          google.colab.kernel.accessAllowed ? 'block' : 'none';\n",
              "\n",
              "        async function convertToInteractive(key) {\n",
              "          const element = document.querySelector('#df-41953667-1771-4fbf-8abe-5cb97be1ca64');\n",
              "          const dataTable =\n",
              "            await google.colab.kernel.invokeFunction('convertToInteractive',\n",
              "                                                     [key], {});\n",
              "          if (!dataTable) return;\n",
              "\n",
              "          const docLinkHtml = 'Like what you see? Visit the ' +\n",
              "            '<a target=\"_blank\" href=https://colab.research.google.com/notebooks/data_table.ipynb>data table notebook</a>'\n",
              "            + ' to learn more about interactive tables.';\n",
              "          element.innerHTML = '';\n",
              "          dataTable['output_type'] = 'display_data';\n",
              "          await google.colab.output.renderOutput(dataTable, element);\n",
              "          const docLink = document.createElement('div');\n",
              "          docLink.innerHTML = docLinkHtml;\n",
              "          element.appendChild(docLink);\n",
              "        }\n",
              "      </script>\n",
              "    </div>\n",
              "  </div>\n",
              "  "
            ]
          },
          "metadata": {},
          "execution_count": 36
        }
      ]
    },
    {
      "cell_type": "code",
      "source": [
        "plt.figure(figsize=(8,5))\n",
        "plt.plot(train_data.Close ,label=\"Training\")\n",
        "plt.plot(test_data.Close ,label=\"Test\")\n",
        "plt.plot(prediction_ARIMAX_1.Predictions_scaled_ARIMAX_1, label=\"Predicted_Arimax_1\")\n",
        "plt.legend(loc = 'upper left')\n",
        "plt.show()"
      ],
      "metadata": {
        "colab": {
          "base_uri": "https://localhost:8080/",
          "height": 320
        },
        "outputId": "010a3799-f1ae-4acb-b751-0a1f7763e52d",
        "id": "R7d1KJwuRA6a"
      },
      "execution_count": null,
      "outputs": [
        {
          "output_type": "display_data",
          "data": {
            "text/plain": [
              "<Figure size 576x360 with 1 Axes>"
            ],
            "image/png": "[encoded data removed]"
          },
          "metadata": {
            "needs_background": "light"
          }
        }
      ]
    },
    {
      "cell_type": "code",
      "source": [
        "def evaluate_prediction(predicted, actual, model_name):\n",
        "        mse = mean_squared_error(predicted, actual)\n",
        "        rsme = np.sqrt((mean_squared_error(predicted, actual)))\n",
        "        mae = mean_absolute_error(actual, predicted)\n",
        "        r2 = r2_score(actual, predicted)\n",
        "        max_err = max_error(actual, predicted)\n",
        "        print(colored(model_name + ' performance:', 'red'))\n",
        "        print('R^2: {:.4f} %'.format(r2 * 100))\n",
        "        print('Mean Absolute Error: {:.4f}'.format(mae))\n",
        "        print('Mean Squared Error: {:.4f}'.format(mse))\n",
        "        print('Root Mean Squared Error: {:.4f}'.format(rsme))\n",
        "        print('Max_error: {:.4f}'.format(max_err))\n",
        "        print('')\n",
        "        return\n",
        "\n",
        "evaluate_prediction(prediction_ARIMAX_1.Predictions_scaled_ARIMAX_1, test_data.Close, 'ARIMAX')"
      ],
      "metadata": {
        "colab": {
          "base_uri": "https://localhost:8080/"
        },
        "outputId": "774a8cca-06bc-46d3-d9b7-cd301bedaf6d",
        "id": "_kdpX6UZRA6a"
      },
      "execution_count": null,
      "outputs": [
        {
          "output_type": "stream",
          "name": "stdout",
          "text": [
            "\u001b[31mARIMAX performance:\u001b[0m\n",
            "R^2: 97.7125 %\n",
            "Mean Absolute Error: 2.8991\n",
            "Mean Squared Error: 13.2394\n",
            "Root Mean Squared Error: 3.6386\n",
            "Max_error: 8.0860\n",
            "\n"
          ]
        }
      ]
    },
    {
      "cell_type": "code",
      "source": [
        "model_autoARIMAX_2 = auto_arima(train_data_endog , exogenous=train_data_exog, start_p=0, start_q=0,\n",
        "                      test='adf',       # use adftest to find optimal 'd'\n",
        "                      max_p=1, max_q=1, # maximum p and q\n",
        "                      m=1,              # frequency of series\n",
        "                      d=None,           # let model determine 'd'\n",
        "                      seasonal=False,   # No Seasonality\n",
        "                      trace=True,\n",
        "                      error_action='ignore',  \n",
        "                      suppress_warnings=True, \n",
        "                      stepwise=True)"
      ],
      "metadata": {
        "colab": {
          "base_uri": "https://localhost:8080/"
        },
        "outputId": "49767d52-cb17-4f19-97d4-8f63704759e7",
        "id": "cxlVvXJOR8bE"
      },
      "execution_count": null,
      "outputs": [
        {
          "output_type": "stream",
          "name": "stdout",
          "text": [
            "Performing stepwise search to minimize aic\n",
            " ARIMA(0,0,0)(0,0,0)[0]             : AIC=-93441.338, Time=15.63 sec\n",
            " ARIMA(1,0,0)(0,0,0)[0]             : AIC=-93459.971, Time=5.55 sec\n",
            " ARIMA(0,0,1)(0,0,0)[0]             : AIC=-93458.852, Time=7.23 sec\n",
            " ARIMA(1,0,1)(0,0,0)[0]             : AIC=-93462.868, Time=5.92 sec\n",
            " ARIMA(1,0,1)(0,0,0)[0] intercept   : AIC=-93460.868, Time=6.85 sec\n",
            "\n",
            "Best model:  ARIMA(1,0,1)(0,0,0)[0]          \n",
            "Total fit time: 41.287 seconds\n"
          ]
        }
      ]
    },
    {
      "cell_type": "code",
      "source": [
        "#Summary of the model\n",
        "model_autoARIMAX_2.summary()"
      ],
      "metadata": {
        "colab": {
          "base_uri": "https://localhost:8080/",
          "height": 527
        },
        "outputId": "2788c6b7-13e7-4fe0-e735-c21d75e9e816",
        "id": "DnGzQ7TmR8bF"
      },
      "execution_count": null,
      "outputs": [
        {
          "output_type": "execute_result",
          "data": {
            "text/plain": [
              "<class 'statsmodels.iolib.summary.Summary'>\n",
              "\"\"\"\n",
              "                               SARIMAX Results                                \n",
              "==============================================================================\n",
              "Dep. Variable:                      y   No. Observations:                11830\n",
              "Model:               SARIMAX(1, 0, 1)   Log Likelihood               46739.434\n",
              "Date:                Tue, 12 Apr 2022   AIC                         -93462.868\n",
              "Time:                        14:58:35   BIC                         -93403.841\n",
              "Sample:                             0   HQIC                        -93443.053\n",
              "                              - 11830                                         \n",
              "Covariance Type:                  opg                                         \n",
              "==============================================================================\n",
              "                 coef    std err          z      P>|z|      [0.025      0.975]\n",
              "------------------------------------------------------------------------------\n",
              "x1            -0.3714      0.003   -109.319      0.000      -0.378      -0.365\n",
              "x2             0.8118      0.003    297.778      0.000       0.806       0.817\n",
              "x3             0.5474      0.001    585.399      0.000       0.546       0.549\n",
              "x4             0.0130      0.001     16.817      0.000       0.012       0.015\n",
              "x5            -0.0011   6.31e-05    -17.151      0.000      -0.001      -0.001\n",
              "ar.L1         -0.3625      0.123     -2.948      0.003      -0.604      -0.121\n",
              "ma.L1          0.3215      0.123      2.608      0.009       0.080       0.563\n",
              "sigma2      2.167e-05    7.8e-08    277.871      0.000    2.15e-05    2.18e-05\n",
              "===================================================================================\n",
              "Ljung-Box (L1) (Q):                   0.00   Jarque-Bera (JB):          20599475.04\n",
              "Prob(Q):                              0.98   Prob(JB):                         0.00\n",
              "Heteroskedasticity (H):               1.38   Skew:                             1.58\n",
              "Prob(H) (two-sided):                  0.00   Kurtosis:                       207.40\n",
              "===================================================================================\n",
              "\n",
              "Warnings:\n",
              "[1] Covariance matrix calculated using the outer product of gradients (complex-step).\n",
              "\"\"\""
            ],
            "text/html": [
              "<table class=\"simpletable\">\n",
              "<caption>SARIMAX Results</caption>\n",
              "<tr>\n",
              "  <th>Dep. Variable:</th>           <td>y</td>        <th>  No. Observations:  </th>    <td>11830</td>  \n",
              "</tr>\n",
              "<tr>\n",
              "  <th>Model:</th>           <td>SARIMAX(1, 0, 1)</td> <th>  Log Likelihood     </th>  <td>46739.434</td>\n",
              "</tr>\n",
              "<tr>\n",
              "  <th>Date:</th>            <td>Tue, 12 Apr 2022</td> <th>  AIC                </th> <td>-93462.868</td>\n",
              "</tr>\n",
              "<tr>\n",
              "  <th>Time:</th>                <td>14:58:35</td>     <th>  BIC                </th> <td>-93403.841</td>\n",
              "</tr>\n",
              "<tr>\n",
              "  <th>Sample:</th>                  <td>0</td>        <th>  HQIC               </th> <td>-93443.053</td>\n",
              "</tr>\n",
              "<tr>\n",
              "  <th></th>                     <td> - 11830</td>     <th>                     </th>      <td> </td>    \n",
              "</tr>\n",
              "<tr>\n",
              "  <th>Covariance Type:</th>        <td>opg</td>       <th>                     </th>      <td> </td>    \n",
              "</tr>\n",
              "</table>\n",
              "<table class=\"simpletable\">\n",
              "<tr>\n",
              "     <td></td>       <th>coef</th>     <th>std err</th>      <th>z</th>      <th>P>|z|</th>  <th>[0.025</th>    <th>0.975]</th>  \n",
              "</tr>\n",
              "<tr>\n",
              "  <th>x1</th>     <td>   -0.3714</td> <td>    0.003</td> <td> -109.319</td> <td> 0.000</td> <td>   -0.378</td> <td>   -0.365</td>\n",
              "</tr>\n",
              "<tr>\n",
              "  <th>x2</th>     <td>    0.8118</td> <td>    0.003</td> <td>  297.778</td> <td> 0.000</td> <td>    0.806</td> <td>    0.817</td>\n",
              "</tr>\n",
              "<tr>\n",
              "  <th>x3</th>     <td>    0.5474</td> <td>    0.001</td> <td>  585.399</td> <td> 0.000</td> <td>    0.546</td> <td>    0.549</td>\n",
              "</tr>\n",
              "<tr>\n",
              "  <th>x4</th>     <td>    0.0130</td> <td>    0.001</td> <td>   16.817</td> <td> 0.000</td> <td>    0.012</td> <td>    0.015</td>\n",
              "</tr>\n",
              "<tr>\n",
              "  <th>x5</th>     <td>   -0.0011</td> <td> 6.31e-05</td> <td>  -17.151</td> <td> 0.000</td> <td>   -0.001</td> <td>   -0.001</td>\n",
              "</tr>\n",
              "<tr>\n",
              "  <th>ar.L1</th>  <td>   -0.3625</td> <td>    0.123</td> <td>   -2.948</td> <td> 0.003</td> <td>   -0.604</td> <td>   -0.121</td>\n",
              "</tr>\n",
              "<tr>\n",
              "  <th>ma.L1</th>  <td>    0.3215</td> <td>    0.123</td> <td>    2.608</td> <td> 0.009</td> <td>    0.080</td> <td>    0.563</td>\n",
              "</tr>\n",
              "<tr>\n",
              "  <th>sigma2</th> <td> 2.167e-05</td> <td>  7.8e-08</td> <td>  277.871</td> <td> 0.000</td> <td> 2.15e-05</td> <td> 2.18e-05</td>\n",
              "</tr>\n",
              "</table>\n",
              "<table class=\"simpletable\">\n",
              "<tr>\n",
              "  <th>Ljung-Box (L1) (Q):</th>     <td>0.00</td> <th>  Jarque-Bera (JB):  </th> <td>20599475.04</td>\n",
              "</tr>\n",
              "<tr>\n",
              "  <th>Prob(Q):</th>                <td>0.98</td> <th>  Prob(JB):          </th>    <td>0.00</td>    \n",
              "</tr>\n",
              "<tr>\n",
              "  <th>Heteroskedasticity (H):</th> <td>1.38</td> <th>  Skew:              </th>    <td>1.58</td>    \n",
              "</tr>\n",
              "<tr>\n",
              "  <th>Prob(H) (two-sided):</th>    <td>0.00</td> <th>  Kurtosis:          </th>   <td>207.40</td>   \n",
              "</tr>\n",
              "</table><br/><br/>Warnings:<br/>[1] Covariance matrix calculated using the outer product of gradients (complex-step)."
            ]
          },
          "metadata": {},
          "execution_count": 40
        }
      ]
    },
    {
      "cell_type": "code",
      "source": [
        "model_autoARIMAX_2.plot_diagnostics(figsize=(10,8))\n",
        "plt.show()"
      ],
      "metadata": {
        "colab": {
          "base_uri": "https://localhost:8080/",
          "height": 513
        },
        "outputId": "62a180a1-d232-4f21-fd84-cf8fc86cb7ea",
        "id": "braa_r-0R8bF"
      },
      "execution_count": null,
      "outputs": [
        {
          "output_type": "display_data",
          "data": {
            "text/plain": [
              "<Figure size 720x576 with 4 Axes>"
            ],
            "image/png": "[encoded data removed]"
          },
          "metadata": {
            "needs_background": "light"
          }
        }
      ]
    },
    {
      "cell_type": "code",
      "source": [
        "prediction_ARIMAX_2 = pd.DataFrame(model_autoARIMAX_2.predict(n_periods = 1315, exogenous=test_data_exog), index=test_data.index)\n",
        "prediction_ARIMAX_2.columns = ['Predictions_ARIMAX_2']\n",
        "prediction_rescaled_ARIMAX_2 = pt_endog.inverse_transform(prediction_ARIMAX_2.values)\n",
        "prediction_ARIMAX_2['Predictions_scaled_ARIMAX_2'] = prediction_rescaled_ARIMAX_2\n",
        "prediction_ARIMAX_2"
      ],
      "metadata": {
        "colab": {
          "base_uri": "https://localhost:8080/",
          "height": 455
        },
        "outputId": "067beb2e-8147-4b42-f40c-b8bbec99f0e0",
        "id": "OJEmwLQBR8bF"
      },
      "execution_count": null,
      "outputs": [
        {
          "output_type": "execute_result",
          "data": {
            "text/plain": [
              "            Predictions_ARIMAX_2  Predictions_scaled_ARIMAX_2\n",
              "Date                                                         \n",
              "2016-11-18              1.359357                    82.499782\n",
              "2016-11-21              1.358871                    82.447099\n",
              "2016-11-22              1.364042                    83.008902\n",
              "2016-11-23              1.362851                    82.879181\n",
              "2016-11-25              1.368490                    83.495167\n",
              "...                          ...                          ...\n",
              "2022-02-03              1.888161                   164.376424\n",
              "2022-02-04              1.883795                   163.450274\n",
              "2022-02-07              1.873240                   161.232246\n",
              "2022-02-08              1.870948                   160.754656\n",
              "2022-02-09              1.868235                   160.191026\n",
              "\n",
              "[1315 rows x 2 columns]"
            ],
            "text/html": [
              "\n",
              "  <div id=\"df-ec028ab8-490e-4630-8f71-1b8391f9bd54\">\n",
              "    <div class=\"colab-df-container\">\n",
              "      <div>\n",
              "<style scoped>\n",
              "    .dataframe tbody tr th:only-of-type {\n",
              "        vertical-align: middle;\n",
              "    }\n",
              "\n",
              "    .dataframe tbody tr th {\n",
              "        vertical-align: top;\n",
              "    }\n",
              "\n",
              "    .dataframe thead th {\n",
              "        text-align: right;\n",
              "    }\n",
              "</style>\n",
              "<table border=\"1\" class=\"dataframe\">\n",
              "  <thead>\n",
              "    <tr style=\"text-align: right;\">\n",
              "      <th></th>\n",
              "      <th>Predictions_ARIMAX_2</th>\n",
              "      <th>Predictions_scaled_ARIMAX_2</th>\n",
              "    </tr>\n",
              "    <tr>\n",
              "      <th>Date</th>\n",
              "      <th></th>\n",
              "      <th></th>\n",
              "    </tr>\n",
              "  </thead>\n",
              "  <tbody>\n",
              "    <tr>\n",
              "      <th>2016-11-18</th>\n",
              "      <td>1.359357</td>\n",
              "      <td>82.499782</td>\n",
              "    </tr>\n",
              "    <tr>\n",
              "      <th>2016-11-21</th>\n",
              "      <td>1.358871</td>\n",
              "      <td>82.447099</td>\n",
              "    </tr>\n",
              "    <tr>\n",
              "      <th>2016-11-22</th>\n",
              "      <td>1.364042</td>\n",
              "      <td>83.008902</td>\n",
              "    </tr>\n",
              "    <tr>\n",
              "      <th>2016-11-23</th>\n",
              "      <td>1.362851</td>\n",
              "      <td>82.879181</td>\n",
              "    </tr>\n",
              "    <tr>\n",
              "      <th>2016-11-25</th>\n",
              "      <td>1.368490</td>\n",
              "      <td>83.495167</td>\n",
              "    </tr>\n",
              "    <tr>\n",
              "      <th>...</th>\n",
              "      <td>...</td>\n",
              "      <td>...</td>\n",
              "    </tr>\n",
              "    <tr>\n",
              "      <th>2022-02-03</th>\n",
              "      <td>1.888161</td>\n",
              "      <td>164.376424</td>\n",
              "    </tr>\n",
              "    <tr>\n",
              "      <th>2022-02-04</th>\n",
              "      <td>1.883795</td>\n",
              "      <td>163.450274</td>\n",
              "    </tr>\n",
              "    <tr>\n",
              "      <th>2022-02-07</th>\n",
              "      <td>1.873240</td>\n",
              "      <td>161.232246</td>\n",
              "    </tr>\n",
              "    <tr>\n",
              "      <th>2022-02-08</th>\n",
              "      <td>1.870948</td>\n",
              "      <td>160.754656</td>\n",
              "    </tr>\n",
              "    <tr>\n",
              "      <th>2022-02-09</th>\n",
              "      <td>1.868235</td>\n",
              "      <td>160.191026</td>\n",
              "    </tr>\n",
              "  </tbody>\n",
              "</table>\n",
              "<p>1315 rows × 2 columns</p>\n",
              "</div>\n",
              "      <button class=\"colab-df-convert\" onclick=\"convertToInteractive('df-ec028ab8-490e-4630-8f71-1b8391f9bd54')\"\n",
              "              title=\"Convert this dataframe to an interactive table.\"\n",
              "              style=\"display:none;\">\n",
              "        \n",
              "  <svg xmlns=\"http://www.w3.org/2000/svg\" height=\"24px\"viewBox=\"0 0 24 24\"\n",
              "       width=\"24px\">\n",
              "    <path d=\"M0 0h24v24H0V0z\" fill=\"none\"/>\n",
              "    <path d=\"M18.56 5.44l.94 2.06.94-2.06 2.06-.94-2.06-.94-.94-2.06-.94 2.06-2.06.94zm-11 1L8.5 8.5l.94-2.06 2.06-.94-2.06-.94L8.5 2.5l-.94 2.06-2.06.94zm10 10l.94 2.06.94-2.06 2.06-.94-2.06-.94-.94-2.06-.94 2.06-2.06.94z\"/><path d=\"M17.41 7.96l-1.37-1.37c-.4-.4-.92-.59-1.43-.59-.52 0-1.04.2-1.43.59L10.3 9.45l-7.72 7.72c-.78.78-.78 2.05 0 2.83L4 21.41c.39.39.9.59 1.41.59.51 0 1.02-.2 1.41-.59l7.78-7.78 2.81-2.81c.8-.78.8-2.07 0-2.86zM5.41 20L4 18.59l7.72-7.72 1.47 1.35L5.41 20z\"/>\n",
              "  </svg>\n",
              "      </button>\n",
              "      \n",
              "  <style>\n",
              "    .colab-df-container {\n",
              "      display:flex;\n",
              "      flex-wrap:wrap;\n",
              "      gap: 12px;\n",
              "    }\n",
              "\n",
              "    .colab-df-convert {\n",
              "      background-color: #E8F0FE;\n",
              "      border: none;\n",
              "      border-radius: 50%;\n",
              "      cursor: pointer;\n",
              "      display: none;\n",
              "      fill: #1967D2;\n",
              "      height: 32px;\n",
              "      padding: 0 0 0 0;\n",
              "      width: 32px;\n",
              "    }\n",
              "\n",
              "    .colab-df-convert:hover {\n",
              "      background-color: #E2EBFA;\n",
              "      box-shadow: 0px 1px 2px rgba(60, 64, 67, 0.3), 0px 1px 3px 1px rgba(60, 64, 67, 0.15);\n",
              "      fill: #174EA6;\n",
              "    }\n",
              "\n",
              "    [theme=dark] .colab-df-convert {\n",
              "      background-color: #3B4455;\n",
              "      fill: #D2E3FC;\n",
              "    }\n",
              "\n",
              "    [theme=dark] .colab-df-convert:hover {\n",
              "      background-color: #434B5C;\n",
              "      box-shadow: 0px 1px 3px 1px rgba(0, 0, 0, 0.15);\n",
              "      filter: drop-shadow(0px 1px 2px rgba(0, 0, 0, 0.3));\n",
              "      fill: #FFFFFF;\n",
              "    }\n",
              "  </style>\n",
              "\n",
              "      <script>\n",
              "        const buttonEl =\n",
              "          document.querySelector('#df-ec028ab8-490e-4630-8f71-1b8391f9bd54 button.colab-df-convert');\n",
              "        buttonEl.style.display =\n",
              "          google.colab.kernel.accessAllowed ? 'block' : 'none';\n",
              "\n",
              "        async function convertToInteractive(key) {\n",
              "          const element = document.querySelector('#df-ec028ab8-490e-4630-8f71-1b8391f9bd54');\n",
              "          const dataTable =\n",
              "            await google.colab.kernel.invokeFunction('convertToInteractive',\n",
              "                                                     [key], {});\n",
              "          if (!dataTable) return;\n",
              "\n",
              "          const docLinkHtml = 'Like what you see? Visit the ' +\n",
              "            '<a target=\"_blank\" href=https://colab.research.google.com/notebooks/data_table.ipynb>data table notebook</a>'\n",
              "            + ' to learn more about interactive tables.';\n",
              "          element.innerHTML = '';\n",
              "          dataTable['output_type'] = 'display_data';\n",
              "          await google.colab.output.renderOutput(dataTable, element);\n",
              "          const docLink = document.createElement('div');\n",
              "          docLink.innerHTML = docLinkHtml;\n",
              "          element.appendChild(docLink);\n",
              "        }\n",
              "      </script>\n",
              "    </div>\n",
              "  </div>\n",
              "  "
            ]
          },
          "metadata": {},
          "execution_count": 42
        }
      ]
    },
    {
      "cell_type": "code",
      "source": [
        "plt.figure(figsize=(8,5))\n",
        "plt.plot(train_data.Close ,label=\"Training\")\n",
        "plt.plot(test_data.Close ,label=\"Test\")\n",
        "plt.plot(prediction_ARIMAX_2.Predictions_scaled_ARIMAX_2, label=\"Predicted_Arimax_1\")\n",
        "plt.legend(loc = 'upper left')\n",
        "plt.show()"
      ],
      "metadata": {
        "colab": {
          "base_uri": "https://localhost:8080/",
          "height": 320
        },
        "outputId": "d300928c-00f3-4c30-adda-e28a207c7576",
        "id": "qPp92rbwR8bF"
      },
      "execution_count": null,
      "outputs": [
        {
          "output_type": "display_data",
          "data": {
            "text/plain": [
              "<Figure size 576x360 with 1 Axes>"
            ],
            "image/png": "[encoded data removed]"
          },
          "metadata": {
            "needs_background": "light"
          }
        }
      ]
    },
    {
      "cell_type": "code",
      "source": [
        "def evaluate_prediction(predicted, actual, model_name):\n",
        "        mse = mean_squared_error(predicted, actual)\n",
        "        rsme = np.sqrt((mean_squared_error(predicted, actual)))\n",
        "        mae = mean_absolute_error(actual, predicted)\n",
        "        r2 = r2_score(actual, predicted)\n",
        "        max_err = max_error(actual, predicted)\n",
        "        print(colored(model_name + ' performance:', 'red'))\n",
        "        print('R^2: {:.4f} %'.format(r2 * 100))\n",
        "        print('Mean Absolute Error: {:.4f}'.format(mae))\n",
        "        print('Mean Squared Error: {:.4f}'.format(mse))\n",
        "        print('Root Mean Squared Error: {:.4f}'.format(rsme))\n",
        "        print('Max_error: {:.4f}'.format(max_err))\n",
        "        print('')\n",
        "        return\n",
        "\n",
        "evaluate_prediction(prediction_ARIMAX_2.Predictions_scaled_ARIMAX_2, test_data.Close, 'ARIMAX')"
      ],
      "metadata": {
        "colab": {
          "base_uri": "https://localhost:8080/"
        },
        "outputId": "b456dda6-ac56-4931-da11-55711fdf13a8",
        "id": "HdQf_NxKR8bG"
      },
      "execution_count": null,
      "outputs": [
        {
          "output_type": "stream",
          "name": "stdout",
          "text": [
            "\u001b[31mARIMAX performance:\u001b[0m\n",
            "R^2: 99.9178 %\n",
            "Mean Absolute Error: 0.4632\n",
            "Mean Squared Error: 0.4759\n",
            "Root Mean Squared Error: 0.6898\n",
            "Max_error: 6.8418\n",
            "\n"
          ]
        }
      ]
    },
    {
      "cell_type": "code",
      "source": [
        "model_autoARIMAX_3 = auto_arima(train_data_endog , exogenous=train_data_exog, start_p=0, start_q=0,\n",
        "                      test='adf',       # use adftest to find optimal 'd'\n",
        "                      max_p=1, max_q=1, # maximum p and q\n",
        "                      m=1,              # frequency of series\n",
        "                      d=2,           # let model determine 'd'\n",
        "                      seasonal=False,   # No Seasonality\n",
        "                      trace=True,\n",
        "                      error_action='ignore',  \n",
        "                      suppress_warnings=True, \n",
        "                      stepwise=True)"
      ],
      "metadata": {
        "colab": {
          "base_uri": "https://localhost:8080/"
        },
        "outputId": "e0651a15-66ee-49b0-b692-f9eab752d902",
        "id": "N5xyEKozfDVV"
      },
      "execution_count": null,
      "outputs": [
        {
          "output_type": "stream",
          "name": "stdout",
          "text": [
            "Performing stepwise search to minimize aic\n",
            " ARIMA(0,2,0)(0,0,0)[0] intercept   : AIC=-129350.123, Time=36.01 sec\n",
            " ARIMA(1,2,0)(0,0,0)[0] intercept   : AIC=-132726.929, Time=7.47 sec\n",
            " ARIMA(0,2,1)(0,0,0)[0] intercept   : AIC=-136017.618, Time=18.79 sec\n",
            " ARIMA(0,2,0)(0,0,0)[0]             : AIC=-129351.975, Time=15.75 sec\n",
            " ARIMA(1,2,1)(0,0,0)[0] intercept   : AIC=-136043.325, Time=18.83 sec\n",
            " ARIMA(1,2,1)(0,0,0)[0]             : AIC=-136052.282, Time=32.25 sec\n",
            " ARIMA(0,2,1)(0,0,0)[0]             : AIC=-136027.523, Time=28.98 sec\n",
            " ARIMA(1,2,0)(0,0,0)[0]             : AIC=-132728.929, Time=5.77 sec\n",
            "\n",
            "Best model:  ARIMA(1,2,1)(0,0,0)[0]          \n",
            "Total fit time: 163.882 seconds\n"
          ]
        }
      ]
    },
    {
      "cell_type": "code",
      "source": [
        "#Summary of the model\n",
        "model_autoARIMAX_3.summary()"
      ],
      "metadata": {
        "colab": {
          "base_uri": "https://localhost:8080/",
          "height": 527
        },
        "outputId": "be7820f7-8c0c-442b-8efe-b7d0f2180562",
        "id": "0s6a1WbpfDVW"
      },
      "execution_count": null,
      "outputs": [
        {
          "output_type": "execute_result",
          "data": {
            "text/plain": [
              "<class 'statsmodels.iolib.summary.Summary'>\n",
              "\"\"\"\n",
              "                               SARIMAX Results                                \n",
              "==============================================================================\n",
              "Dep. Variable:                      y   No. Observations:                11830\n",
              "Model:               SARIMAX(1, 2, 1)   Log Likelihood               68034.141\n",
              "Date:                Tue, 12 Apr 2022   AIC                        -136052.282\n",
              "Time:                        16:00:09   BIC                        -135993.256\n",
              "Sample:                             0   HQIC                       -136032.468\n",
              "                              - 11830                                         \n",
              "Covariance Type:                  opg                                         \n",
              "==============================================================================\n",
              "                 coef    std err          z      P>|z|      [0.025      0.975]\n",
              "------------------------------------------------------------------------------\n",
              "x1            -0.0008      0.001     -1.392      0.164      -0.002       0.000\n",
              "x2             0.0052      0.001      7.608      0.000       0.004       0.007\n",
              "x3             0.0036      0.001      6.671      0.000       0.003       0.005\n",
              "x4             1.2589      0.001   2058.419      0.000       1.258       1.260\n",
              "x5          1.469e-05   9.11e-06      1.612      0.107   -3.17e-06    3.25e-05\n",
              "ar.L1          0.0069      0.009      0.812      0.417      -0.010       0.024\n",
              "ma.L1         -0.7597      0.008    -95.294      0.000      -0.775      -0.744\n",
              "sigma2      5.903e-07   1.61e-09    366.852      0.000    5.87e-07    5.93e-07\n",
              "===================================================================================\n",
              "Ljung-Box (L1) (Q):                 200.39   Jarque-Bera (JB):           1475448.41\n",
              "Prob(Q):                              0.00   Prob(JB):                         0.00\n",
              "Heteroskedasticity (H):               0.67   Skew:                            -5.97\n",
              "Prob(H) (two-sided):                  0.00   Kurtosis:                        56.40\n",
              "===================================================================================\n",
              "\n",
              "Warnings:\n",
              "[1] Covariance matrix calculated using the outer product of gradients (complex-step).\n",
              "\"\"\""
            ],
            "text/html": [
              "<table class=\"simpletable\">\n",
              "<caption>SARIMAX Results</caption>\n",
              "<tr>\n",
              "  <th>Dep. Variable:</th>           <td>y</td>        <th>  No. Observations:  </th>    <td>11830</td>   \n",
              "</tr>\n",
              "<tr>\n",
              "  <th>Model:</th>           <td>SARIMAX(1, 2, 1)</td> <th>  Log Likelihood     </th>  <td>68034.141</td> \n",
              "</tr>\n",
              "<tr>\n",
              "  <th>Date:</th>            <td>Tue, 12 Apr 2022</td> <th>  AIC                </th> <td>-136052.282</td>\n",
              "</tr>\n",
              "<tr>\n",
              "  <th>Time:</th>                <td>16:00:09</td>     <th>  BIC                </th> <td>-135993.256</td>\n",
              "</tr>\n",
              "<tr>\n",
              "  <th>Sample:</th>                  <td>0</td>        <th>  HQIC               </th> <td>-136032.468</td>\n",
              "</tr>\n",
              "<tr>\n",
              "  <th></th>                     <td> - 11830</td>     <th>                     </th>      <td> </td>     \n",
              "</tr>\n",
              "<tr>\n",
              "  <th>Covariance Type:</th>        <td>opg</td>       <th>                     </th>      <td> </td>     \n",
              "</tr>\n",
              "</table>\n",
              "<table class=\"simpletable\">\n",
              "<tr>\n",
              "     <td></td>       <th>coef</th>     <th>std err</th>      <th>z</th>      <th>P>|z|</th>  <th>[0.025</th>    <th>0.975]</th>  \n",
              "</tr>\n",
              "<tr>\n",
              "  <th>x1</th>     <td>   -0.0008</td> <td>    0.001</td> <td>   -1.392</td> <td> 0.164</td> <td>   -0.002</td> <td>    0.000</td>\n",
              "</tr>\n",
              "<tr>\n",
              "  <th>x2</th>     <td>    0.0052</td> <td>    0.001</td> <td>    7.608</td> <td> 0.000</td> <td>    0.004</td> <td>    0.007</td>\n",
              "</tr>\n",
              "<tr>\n",
              "  <th>x3</th>     <td>    0.0036</td> <td>    0.001</td> <td>    6.671</td> <td> 0.000</td> <td>    0.003</td> <td>    0.005</td>\n",
              "</tr>\n",
              "<tr>\n",
              "  <th>x4</th>     <td>    1.2589</td> <td>    0.001</td> <td> 2058.419</td> <td> 0.000</td> <td>    1.258</td> <td>    1.260</td>\n",
              "</tr>\n",
              "<tr>\n",
              "  <th>x5</th>     <td> 1.469e-05</td> <td> 9.11e-06</td> <td>    1.612</td> <td> 0.107</td> <td>-3.17e-06</td> <td> 3.25e-05</td>\n",
              "</tr>\n",
              "<tr>\n",
              "  <th>ar.L1</th>  <td>    0.0069</td> <td>    0.009</td> <td>    0.812</td> <td> 0.417</td> <td>   -0.010</td> <td>    0.024</td>\n",
              "</tr>\n",
              "<tr>\n",
              "  <th>ma.L1</th>  <td>   -0.7597</td> <td>    0.008</td> <td>  -95.294</td> <td> 0.000</td> <td>   -0.775</td> <td>   -0.744</td>\n",
              "</tr>\n",
              "<tr>\n",
              "  <th>sigma2</th> <td> 5.903e-07</td> <td> 1.61e-09</td> <td>  366.852</td> <td> 0.000</td> <td> 5.87e-07</td> <td> 5.93e-07</td>\n",
              "</tr>\n",
              "</table>\n",
              "<table class=\"simpletable\">\n",
              "<tr>\n",
              "  <th>Ljung-Box (L1) (Q):</th>     <td>200.39</td> <th>  Jarque-Bera (JB):  </th> <td>1475448.41</td>\n",
              "</tr>\n",
              "<tr>\n",
              "  <th>Prob(Q):</th>                 <td>0.00</td>  <th>  Prob(JB):          </th>    <td>0.00</td>   \n",
              "</tr>\n",
              "<tr>\n",
              "  <th>Heteroskedasticity (H):</th>  <td>0.67</td>  <th>  Skew:              </th>    <td>-5.97</td>  \n",
              "</tr>\n",
              "<tr>\n",
              "  <th>Prob(H) (two-sided):</th>     <td>0.00</td>  <th>  Kurtosis:          </th>    <td>56.40</td>  \n",
              "</tr>\n",
              "</table><br/><br/>Warnings:<br/>[1] Covariance matrix calculated using the outer product of gradients (complex-step)."
            ]
          },
          "metadata": {},
          "execution_count": 82
        }
      ]
    },
    {
      "cell_type": "code",
      "source": [
        "model_autoARIMAX_3.plot_diagnostics(figsize=(10,8))\n",
        "plt.show()"
      ],
      "metadata": {
        "colab": {
          "base_uri": "https://localhost:8080/",
          "height": 513
        },
        "outputId": "fc8cdbfc-67fa-420a-c59a-c0a735664f1b",
        "id": "_URtn8ZWfDVW"
      },
      "execution_count": null,
      "outputs": [
        {
          "output_type": "display_data",
          "data": {
            "text/plain": [
              "<Figure size 720x576 with 4 Axes>"
            ],
            "image/png": "[encoded data removed]"
          },
          "metadata": {
            "needs_background": "light"
          }
        }
      ]
    },
    {
      "cell_type": "code",
      "source": [
        "prediction_ARIMAX_3 = pd.DataFrame(model_autoARIMAX_3.predict(n_periods = 1315, exogenous=test_data_exog), index=test_data.index)\n",
        "prediction_ARIMAX_3.columns = ['Predictions_ARIMAX_3']\n",
        "prediction_rescaled_ARIMAX_3 = pt_endog.inverse_transform(prediction_ARIMAX_3.values)\n",
        "prediction_ARIMAX_3['Predictions_scaled_ARIMAX_3'] = prediction_rescaled_ARIMAX_3\n",
        "prediction_ARIMAX_3"
      ],
      "metadata": {
        "colab": {
          "base_uri": "https://localhost:8080/",
          "height": 455
        },
        "outputId": "7dd84e70-662f-49f2-f73d-953bf4dfb426",
        "id": "mmf5ZkKzfDVW"
      },
      "execution_count": null,
      "outputs": [
        {
          "output_type": "execute_result",
          "data": {
            "text/plain": [
              "            Predictions_ARIMAX_3  Predictions_scaled_ARIMAX_3\n",
              "Date                                                         \n",
              "2016-11-18              1.354418                    81.966280\n",
              "2016-11-21              1.360638                    82.638649\n",
              "2016-11-22              1.361922                    82.778062\n",
              "2016-11-23              1.361244                    82.704467\n",
              "2016-11-25              1.368792                    83.528267\n",
              "...                          ...                          ...\n",
              "2022-02-03              2.164327                   234.664931\n",
              "2022-02-04              2.151381                   230.795295\n",
              "2022-02-07              2.145289                   228.995906\n",
              "2022-02-08              2.143537                   228.481167\n",
              "2022-02-09              2.141796                   227.970680\n",
              "\n",
              "[1315 rows x 2 columns]"
            ],
            "text/html": [
              "\n",
              "  <div id=\"df-d59e7502-04eb-4fb5-88b2-529736a12f11\">\n",
              "    <div class=\"colab-df-container\">\n",
              "      <div>\n",
              "<style scoped>\n",
              "    .dataframe tbody tr th:only-of-type {\n",
              "        vertical-align: middle;\n",
              "    }\n",
              "\n",
              "    .dataframe tbody tr th {\n",
              "        vertical-align: top;\n",
              "    }\n",
              "\n",
              "    .dataframe thead th {\n",
              "        text-align: right;\n",
              "    }\n",
              "</style>\n",
              "<table border=\"1\" class=\"dataframe\">\n",
              "  <thead>\n",
              "    <tr style=\"text-align: right;\">\n",
              "      <th></th>\n",
              "      <th>Predictions_ARIMAX_3</th>\n",
              "      <th>Predictions_scaled_ARIMAX_3</th>\n",
              "    </tr>\n",
              "    <tr>\n",
              "      <th>Date</th>\n",
              "      <th></th>\n",
              "      <th></th>\n",
              "    </tr>\n",
              "  </thead>\n",
              "  <tbody>\n",
              "    <tr>\n",
              "      <th>2016-11-18</th>\n",
              "      <td>1.354418</td>\n",
              "      <td>81.966280</td>\n",
              "    </tr>\n",
              "    <tr>\n",
              "      <th>2016-11-21</th>\n",
              "      <td>1.360638</td>\n",
              "      <td>82.638649</td>\n",
              "    </tr>\n",
              "    <tr>\n",
              "      <th>2016-11-22</th>\n",
              "      <td>1.361922</td>\n",
              "      <td>82.778062</td>\n",
              "    </tr>\n",
              "    <tr>\n",
              "      <th>2016-11-23</th>\n",
              "      <td>1.361244</td>\n",
              "      <td>82.704467</td>\n",
              "    </tr>\n",
              "    <tr>\n",
              "      <th>2016-11-25</th>\n",
              "      <td>1.368792</td>\n",
              "      <td>83.528267</td>\n",
              "    </tr>\n",
              "    <tr>\n",
              "      <th>...</th>\n",
              "      <td>...</td>\n",
              "      <td>...</td>\n",
              "    </tr>\n",
              "    <tr>\n",
              "      <th>2022-02-03</th>\n",
              "      <td>2.164327</td>\n",
              "      <td>234.664931</td>\n",
              "    </tr>\n",
              "    <tr>\n",
              "      <th>2022-02-04</th>\n",
              "      <td>2.151381</td>\n",
              "      <td>230.795295</td>\n",
              "    </tr>\n",
              "    <tr>\n",
              "      <th>2022-02-07</th>\n",
              "      <td>2.145289</td>\n",
              "      <td>228.995906</td>\n",
              "    </tr>\n",
              "    <tr>\n",
              "      <th>2022-02-08</th>\n",
              "      <td>2.143537</td>\n",
              "      <td>228.481167</td>\n",
              "    </tr>\n",
              "    <tr>\n",
              "      <th>2022-02-09</th>\n",
              "      <td>2.141796</td>\n",
              "      <td>227.970680</td>\n",
              "    </tr>\n",
              "  </tbody>\n",
              "</table>\n",
              "<p>1315 rows × 2 columns</p>\n",
              "</div>\n",
              "      <button class=\"colab-df-convert\" onclick=\"convertToInteractive('df-d59e7502-04eb-4fb5-88b2-529736a12f11')\"\n",
              "              title=\"Convert this dataframe to an interactive table.\"\n",
              "              style=\"display:none;\">\n",
              "        \n",
              "  <svg xmlns=\"http://www.w3.org/2000/svg\" height=\"24px\"viewBox=\"0 0 24 24\"\n",
              "       width=\"24px\">\n",
              "    <path d=\"M0 0h24v24H0V0z\" fill=\"none\"/>\n",
              "    <path d=\"M18.56 5.44l.94 2.06.94-2.06 2.06-.94-2.06-.94-.94-2.06-.94 2.06-2.06.94zm-11 1L8.5 8.5l.94-2.06 2.06-.94-2.06-.94L8.5 2.5l-.94 2.06-2.06.94zm10 10l.94 2.06.94-2.06 2.06-.94-2.06-.94-.94-2.06-.94 2.06-2.06.94z\"/><path d=\"M17.41 7.96l-1.37-1.37c-.4-.4-.92-.59-1.43-.59-.52 0-1.04.2-1.43.59L10.3 9.45l-7.72 7.72c-.78.78-.78 2.05 0 2.83L4 21.41c.39.39.9.59 1.41.59.51 0 1.02-.2 1.41-.59l7.78-7.78 2.81-2.81c.8-.78.8-2.07 0-2.86zM5.41 20L4 18.59l7.72-7.72 1.47 1.35L5.41 20z\"/>\n",
              "  </svg>\n",
              "      </button>\n",
              "      \n",
              "  <style>\n",
              "    .colab-df-container {\n",
              "      display:flex;\n",
              "      flex-wrap:wrap;\n",
              "      gap: 12px;\n",
              "    }\n",
              "\n",
              "    .colab-df-convert {\n",
              "      background-color: #E8F0FE;\n",
              "      border: none;\n",
              "      border-radius: 50%;\n",
              "      cursor: pointer;\n",
              "      display: none;\n",
              "      fill: #1967D2;\n",
              "      height: 32px;\n",
              "      padding: 0 0 0 0;\n",
              "      width: 32px;\n",
              "    }\n",
              "\n",
              "    .colab-df-convert:hover {\n",
              "      background-color: #E2EBFA;\n",
              "      box-shadow: 0px 1px 2px rgba(60, 64, 67, 0.3), 0px 1px 3px 1px rgba(60, 64, 67, 0.15);\n",
              "      fill: #174EA6;\n",
              "    }\n",
              "\n",
              "    [theme=dark] .colab-df-convert {\n",
              "      background-color: #3B4455;\n",
              "      fill: #D2E3FC;\n",
              "    }\n",
              "\n",
              "    [theme=dark] .colab-df-convert:hover {\n",
              "      background-color: #434B5C;\n",
              "      box-shadow: 0px 1px 3px 1px rgba(0, 0, 0, 0.15);\n",
              "      filter: drop-shadow(0px 1px 2px rgba(0, 0, 0, 0.3));\n",
              "      fill: #FFFFFF;\n",
              "    }\n",
              "  </style>\n",
              "\n",
              "      <script>\n",
              "        const buttonEl =\n",
              "          document.querySelector('#df-d59e7502-04eb-4fb5-88b2-529736a12f11 button.colab-df-convert');\n",
              "        buttonEl.style.display =\n",
              "          google.colab.kernel.accessAllowed ? 'block' : 'none';\n",
              "\n",
              "        async function convertToInteractive(key) {\n",
              "          const element = document.querySelector('#df-d59e7502-04eb-4fb5-88b2-529736a12f11');\n",
              "          const dataTable =\n",
              "            await google.colab.kernel.invokeFunction('convertToInteractive',\n",
              "                                                     [key], {});\n",
              "          if (!dataTable) return;\n",
              "\n",
              "          const docLinkHtml = 'Like what you see? Visit the ' +\n",
              "            '<a target=\"_blank\" href=https://colab.research.google.com/notebooks/data_table.ipynb>data table notebook</a>'\n",
              "            + ' to learn more about interactive tables.';\n",
              "          element.innerHTML = '';\n",
              "          dataTable['output_type'] = 'display_data';\n",
              "          await google.colab.output.renderOutput(dataTable, element);\n",
              "          const docLink = document.createElement('div');\n",
              "          docLink.innerHTML = docLinkHtml;\n",
              "          element.appendChild(docLink);\n",
              "        }\n",
              "      </script>\n",
              "    </div>\n",
              "  </div>\n",
              "  "
            ]
          },
          "metadata": {},
          "execution_count": 84
        }
      ]
    },
    {
      "cell_type": "code",
      "source": [
        "plt.figure(figsize=(8,5))\n",
        "plt.plot(train_data.Close ,label=\"Training\")\n",
        "plt.plot(test_data.Close ,label=\"Test\")\n",
        "plt.plot(prediction_ARIMAX_3.Predictions_scaled_ARIMAX_3, label=\"Predicted_Arimax_1\")\n",
        "plt.legend(loc = 'upper left')\n",
        "plt.show()"
      ],
      "metadata": {
        "colab": {
          "base_uri": "https://localhost:8080/",
          "height": 320
        },
        "outputId": "a2807e8d-eb72-4ba1-c9f0-811f73a468a3",
        "id": "wOISeA9kfDVW"
      },
      "execution_count": null,
      "outputs": [
        {
          "output_type": "display_data",
          "data": {
            "text/plain": [
              "<Figure size 576x360 with 1 Axes>"
            ],
            "image/png": "[encoded data removed]"
          },
          "metadata": {
            "needs_background": "light"
          }
        }
      ]
    },
    {
      "cell_type": "code",
      "source": [
        "def evaluate_prediction(predicted, actual, model_name):\n",
        "        mse = mean_squared_error(predicted, actual)\n",
        "        rsme = np.sqrt((mean_squared_error(predicted, actual)))\n",
        "        mae = mean_absolute_error(actual, predicted)\n",
        "        r2 = r2_score(actual, predicted)\n",
        "        max_err = max_error(actual, predicted)\n",
        "        print(colored(model_name + ' performance:', 'red'))\n",
        "        print('R^2: {:.4f} %'.format(r2 * 100))\n",
        "        print('Mean Absolute Error: {:.4f}'.format(mae))\n",
        "        print('Mean Squared Error: {:.4f}'.format(mse))\n",
        "        print('Root Mean Squared Error: {:.4f}'.format(rsme))\n",
        "        print('Max_error: {:.4f}'.format(max_err))\n",
        "        print('')\n",
        "        return\n",
        "\n",
        "evaluate_prediction(prediction_ARIMAX_3.Predictions_scaled_ARIMAX_3, test_data.Close, 'ARIMAX')"
      ],
      "metadata": {
        "colab": {
          "base_uri": "https://localhost:8080/"
        },
        "outputId": "309d36e8-92c9-4e4e-df5b-ac3b9fcd8218",
        "id": "Umv2aDqIfDVW"
      },
      "execution_count": null,
      "outputs": [
        {
          "output_type": "stream",
          "name": "stdout",
          "text": [
            "\u001b[31mARIMAX performance:\u001b[0m\n",
            "R^2: -72.8449 %\n",
            "Mean Absolute Error: 25.1872\n",
            "Mean Squared Error: 1000.3628\n",
            "Root Mean Squared Error: 31.6285\n",
            "Max_error: 70.5249\n",
            "\n"
          ]
        }
      ]
    },
    {
      "cell_type": "markdown",
      "source": [
        "# SARIMA"
      ],
      "metadata": {
        "id": "imXT_L8o0YzU"
      }
    },
    {
      "cell_type": "markdown",
      "source": [
        "Seasonal parameters\n",
        "\n",
        "1.   P: Seasonal autoregressive order\n",
        "2.   D: Seasonal differencing order\n",
        "3.   Q: Seasonal moving average order\n",
        "4.   m/s : Number of time steps for a single seasonal period"
      ],
      "metadata": {
        "id": "131pSd6DO64K"
      }
    },
    {
      "cell_type": "markdown",
      "source": [
        "### parameter s\n",
        "\n",
        "1 for yearly\n",
        "4 for quarterly\n",
        "12 for monthly\n",
        "52 for weekly\n",
        "365 for daily\n",
        "\n",
        "https://www.statsmodels.org/dev/generated/statsmodels.tsa.statespace.sarimax.SARIMAX.html\n",
        "\n",
        "When we choose period 365,It will run out of memory.\n",
        "It will probably, SARIMA model is unsuitable to solve this problem.\n",
        "\n",
        "\n",
        "For now,we choose period 1."
      ],
      "metadata": {
        "id": "saqtTcIVVNwj"
      }
    },
    {
      "cell_type": "code",
      "source": [
        "from statsmodels.tsa.seasonal import seasonal_decompose\n",
        "result = seasonal_decompose(df['Close'], model='multiplicative',extrapolate_trend='freq', period=365)\n",
        "result.plot()\n",
        "plt.show()"
      ],
      "metadata": {
        "colab": {
          "base_uri": "https://localhost:8080/",
          "height": 297
        },
        "id": "PF0IKT3ESwKQ",
        "outputId": "13f72846-2414-489e-c512-246bc744ff7b"
      },
      "execution_count": null,
      "outputs": [
        {
          "output_type": "display_data",
          "data": {
            "text/plain": [
              "<Figure size 432x288 with 4 Axes>"
            ],
            "image/png": "[encoded data removed]"
          },
          "metadata": {
            "needs_background": "light"
          }
        }
      ]
    },
    {
      "cell_type": "code",
      "source": [
        "from statsmodels.tsa.stattools import adfuller\n",
        "import numpy as np\n",
        "def check_stationarity(ts):\n",
        "    dftest = adfuller(ts)\n",
        "    adf = dftest[0]\n",
        "    pvalue = dftest[1]\n",
        "    critical_value = dftest[4]['5%']\n",
        "    if (pvalue < 0.05) and (adf < critical_value):\n",
        "        print('The series is stationary')\n",
        "    else:\n",
        "        print('The series is NOT stationary')"
      ],
      "metadata": {
        "id": "nuYSpHKmS96j"
      },
      "execution_count": null,
      "outputs": []
    },
    {
      "cell_type": "code",
      "source": [
        "seasonal = result.seasonal\n",
        "check_stationarity(seasonal)"
      ],
      "metadata": {
        "colab": {
          "base_uri": "https://localhost:8080/"
        },
        "id": "pyWtZ6EXTAUh",
        "outputId": "618165b1-8cd9-473d-fe6a-9721e8ea0143"
      },
      "execution_count": null,
      "outputs": [
        {
          "output_type": "stream",
          "name": "stdout",
          "text": [
            "The series is stationary\n"
          ]
        }
      ]
    },
    {
      "cell_type": "markdown",
      "source": [
        "We can set D = 0"
      ],
      "metadata": {
        "id": "tw4ny33CTGZ9"
      }
    },
    {
      "cell_type": "markdown",
      "source": [
        "## P order"
      ],
      "metadata": {
        "id": "gsXLKkUjTSEm"
      }
    },
    {
      "cell_type": "code",
      "source": [
        "from statsmodels.graphics.tsaplots import plot_acf, plot_pacf\n",
        "plot_pacf(seasonal, lags =20)\n",
        "plt.show()"
      ],
      "metadata": {
        "colab": {
          "base_uri": "https://localhost:8080/",
          "height": 281
        },
        "id": "ItuLlsBuTJwn",
        "outputId": "12eed91e-0883-4f08-d23d-8c491656053b"
      },
      "execution_count": null,
      "outputs": [
        {
          "output_type": "display_data",
          "data": {
            "text/plain": [
              "<Figure size 432x288 with 1 Axes>"
            ],
            "image/png": "[encoded data removed]"
          },
          "metadata": {
            "needs_background": "light"
          }
        }
      ]
    },
    {
      "cell_type": "markdown",
      "source": [
        "## Q order"
      ],
      "metadata": {
        "id": "tq63NK2hTndO"
      }
    },
    {
      "cell_type": "code",
      "source": [
        "plot_acf(seasonal, lags=30)\n",
        "plt.show()"
      ],
      "metadata": {
        "colab": {
          "base_uri": "https://localhost:8080/",
          "height": 281
        },
        "id": "kWV49h-aTaDE",
        "outputId": "87564ebd-1764-4b0c-be7c-595644ad6239"
      },
      "execution_count": null,
      "outputs": [
        {
          "output_type": "display_data",
          "data": {
            "text/plain": [
              "<Figure size 432x288 with 1 Axes>"
            ],
            "image/png": "[encoded data removed]"
          },
          "metadata": {
            "needs_background": "light"
          }
        }
      ]
    },
    {
      "cell_type": "code",
      "source": [
        "model_autoSARIMA = auto_arima(train_data_endog , start_p=0, start_q=0,\n",
        "                      test='adf',       # use adftest to find optimal 'd'\n",
        "                      max_p=1, max_q=1, # maximum p and q\n",
        "                      m=7,              # frequency of series\n",
        "                      d=1,             \n",
        "                      seasonal=True,  \n",
        "                      start_P=0,\n",
        "                      D=0,\n",
        "                      start_Q=0, \n",
        "                      max_P=1,\n",
        "                      max_Q=1,\n",
        "                      trace=True,\n",
        "                      max_order = 6,\n",
        "                      error_action='ignore',  \n",
        "                      suppress_warnings=True, \n",
        "                      stepwise=True)"
      ],
      "metadata": {
        "colab": {
          "base_uri": "https://localhost:8080/"
        },
        "id": "rQhbNID--YL6",
        "outputId": "9c72828f-2528-4d13-c1b9-0057b90a58bb"
      },
      "execution_count": null,
      "outputs": [
        {
          "output_type": "stream",
          "name": "stdout",
          "text": [
            "Performing stepwise search to minimize aic\n",
            " ARIMA(0,1,0)(0,0,0)[7] intercept   : AIC=-74271.802, Time=3.26 sec\n",
            " ARIMA(1,1,0)(1,0,0)[7] intercept   : AIC=-74271.501, Time=11.59 sec\n",
            " ARIMA(0,1,1)(0,0,1)[7] intercept   : AIC=-74271.610, Time=5.97 sec\n",
            " ARIMA(0,1,0)(0,0,0)[7]             : AIC=-74267.620, Time=1.07 sec\n",
            " ARIMA(0,1,0)(1,0,0)[7] intercept   : AIC=-74272.132, Time=3.84 sec\n",
            " ARIMA(0,1,0)(1,0,1)[7] intercept   : AIC=-74270.115, Time=9.84 sec\n",
            " ARIMA(0,1,0)(0,0,1)[7] intercept   : AIC=-74272.135, Time=12.48 sec\n",
            " ARIMA(1,1,0)(0,0,1)[7] intercept   : AIC=-74271.504, Time=8.16 sec\n",
            " ARIMA(1,1,1)(0,0,1)[7] intercept   : AIC=-74272.104, Time=28.78 sec\n",
            " ARIMA(0,1,0)(0,0,1)[7]             : AIC=-74267.783, Time=2.04 sec\n",
            "\n",
            "Best model:  ARIMA(0,1,0)(0,0,1)[7] intercept\n",
            "Total fit time: 87.054 seconds\n"
          ]
        }
      ]
    },
    {
      "cell_type": "markdown",
      "source": [
        "If I set D equal to the prediction is too poor"
      ],
      "metadata": {
        "id": "F7sN9WcHlimP"
      }
    },
    {
      "cell_type": "code",
      "source": [
        "#Summary of the model\n",
        "model_autoSARIMA.summary()"
      ],
      "metadata": {
        "colab": {
          "base_uri": "https://localhost:8080/",
          "height": 423
        },
        "id": "YVrfRaM_8Boo",
        "outputId": "0178053c-a1a0-4176-92d8-17520967b5ec"
      },
      "execution_count": null,
      "outputs": [
        {
          "output_type": "execute_result",
          "data": {
            "text/plain": [
              "<class 'statsmodels.iolib.summary.Summary'>\n",
              "\"\"\"\n",
              "                                      SARIMAX Results                                      \n",
              "===========================================================================================\n",
              "Dep. Variable:                                   y   No. Observations:                11830\n",
              "Model:             SARIMAX(0, 1, 0)x(0, 0, [1], 7)   Log Likelihood               37139.067\n",
              "Date:                             Tue, 12 Apr 2022   AIC                         -74272.135\n",
              "Time:                                     15:13:26   BIC                         -74250.000\n",
              "Sample:                                          0   HQIC                        -74264.704\n",
              "                                           - 11830                                         \n",
              "Covariance Type:                               opg                                         \n",
              "==============================================================================\n",
              "                 coef    std err          z      P>|z|      [0.025      0.975]\n",
              "------------------------------------------------------------------------------\n",
              "intercept      0.0002    9.9e-05      2.414      0.016     4.5e-05       0.000\n",
              "ma.S.L7       -0.0133      0.007     -2.007      0.045      -0.026      -0.000\n",
              "sigma2         0.0001   2.75e-07    399.617      0.000       0.000       0.000\n",
              "===================================================================================\n",
              "Ljung-Box (L1) (Q):                   1.37   Jarque-Bera (JB):           2021760.62\n",
              "Prob(Q):                              0.24   Prob(JB):                         0.00\n",
              "Heteroskedasticity (H):               0.93   Skew:                            -2.20\n",
              "Prob(H) (two-sided):                  0.03   Kurtosis:                        66.90\n",
              "===================================================================================\n",
              "\n",
              "Warnings:\n",
              "[1] Covariance matrix calculated using the outer product of gradients (complex-step).\n",
              "\"\"\""
            ],
            "text/html": [
              "<table class=\"simpletable\">\n",
              "<caption>SARIMAX Results</caption>\n",
              "<tr>\n",
              "  <th>Dep. Variable:</th>                  <td>y</td>                <th>  No. Observations:  </th>    <td>11830</td>  \n",
              "</tr>\n",
              "<tr>\n",
              "  <th>Model:</th>           <td>SARIMAX(0, 1, 0)x(0, 0, [1], 7)</td> <th>  Log Likelihood     </th>  <td>37139.067</td>\n",
              "</tr>\n",
              "<tr>\n",
              "  <th>Date:</th>                   <td>Tue, 12 Apr 2022</td>         <th>  AIC                </th> <td>-74272.135</td>\n",
              "</tr>\n",
              "<tr>\n",
              "  <th>Time:</th>                       <td>15:13:26</td>             <th>  BIC                </th> <td>-74250.000</td>\n",
              "</tr>\n",
              "<tr>\n",
              "  <th>Sample:</th>                         <td>0</td>                <th>  HQIC               </th> <td>-74264.704</td>\n",
              "</tr>\n",
              "<tr>\n",
              "  <th></th>                            <td> - 11830</td>             <th>                     </th>      <td> </td>    \n",
              "</tr>\n",
              "<tr>\n",
              "  <th>Covariance Type:</th>               <td>opg</td>               <th>                     </th>      <td> </td>    \n",
              "</tr>\n",
              "</table>\n",
              "<table class=\"simpletable\">\n",
              "<tr>\n",
              "      <td></td>         <th>coef</th>     <th>std err</th>      <th>z</th>      <th>P>|z|</th>  <th>[0.025</th>    <th>0.975]</th>  \n",
              "</tr>\n",
              "<tr>\n",
              "  <th>intercept</th> <td>    0.0002</td> <td>  9.9e-05</td> <td>    2.414</td> <td> 0.016</td> <td>  4.5e-05</td> <td>    0.000</td>\n",
              "</tr>\n",
              "<tr>\n",
              "  <th>ma.S.L7</th>   <td>   -0.0133</td> <td>    0.007</td> <td>   -2.007</td> <td> 0.045</td> <td>   -0.026</td> <td>   -0.000</td>\n",
              "</tr>\n",
              "<tr>\n",
              "  <th>sigma2</th>    <td>    0.0001</td> <td> 2.75e-07</td> <td>  399.617</td> <td> 0.000</td> <td>    0.000</td> <td>    0.000</td>\n",
              "</tr>\n",
              "</table>\n",
              "<table class=\"simpletable\">\n",
              "<tr>\n",
              "  <th>Ljung-Box (L1) (Q):</th>     <td>1.37</td> <th>  Jarque-Bera (JB):  </th> <td>2021760.62</td>\n",
              "</tr>\n",
              "<tr>\n",
              "  <th>Prob(Q):</th>                <td>0.24</td> <th>  Prob(JB):          </th>    <td>0.00</td>   \n",
              "</tr>\n",
              "<tr>\n",
              "  <th>Heteroskedasticity (H):</th> <td>0.93</td> <th>  Skew:              </th>    <td>-2.20</td>  \n",
              "</tr>\n",
              "<tr>\n",
              "  <th>Prob(H) (two-sided):</th>    <td>0.03</td> <th>  Kurtosis:          </th>    <td>66.90</td>  \n",
              "</tr>\n",
              "</table><br/><br/>Warnings:<br/>[1] Covariance matrix calculated using the outer product of gradients (complex-step)."
            ]
          },
          "metadata": {},
          "execution_count": 63
        }
      ]
    },
    {
      "cell_type": "code",
      "source": [
        "model_autoSARIMA.plot_diagnostics(figsize=(10,8))\n",
        "plt.show()"
      ],
      "metadata": {
        "colab": {
          "base_uri": "https://localhost:8080/",
          "height": 513
        },
        "id": "ee1mrPXG8Bop",
        "outputId": "ea6b3de1-52a4-4930-edea-f75672832824"
      },
      "execution_count": null,
      "outputs": [
        {
          "output_type": "display_data",
          "data": {
            "text/plain": [
              "<Figure size 720x576 with 4 Axes>"
            ],
            "image/png": "[encoded data removed]"
          },
          "metadata": {
            "needs_background": "light"
          }
        }
      ]
    },
    {
      "cell_type": "code",
      "source": [
        "prediction_SARIMA = pd.DataFrame(model_autoSARIMA.predict(n_periods = 1315), index=test_data.index)\n",
        "prediction_SARIMA.columns = ['Predictions_SARIMA']\n",
        "prediction_rescaled_SARIMA = pt_endog.inverse_transform(prediction_SARIMA.values)\n",
        "prediction_SARIMA['Predictions_scaled_SARIMA'] = prediction_rescaled_SARIMA\n",
        "prediction_SARIMA"
      ],
      "metadata": {
        "colab": {
          "base_uri": "https://localhost:8080/",
          "height": 455
        },
        "id": "zw8RuNiH8Boq",
        "outputId": "5b364e9a-4afb-4ae9-e769-eb362aa58816"
      },
      "execution_count": null,
      "outputs": [
        {
          "output_type": "execute_result",
          "data": {
            "text/plain": [
              "            Predictions_SARIMA  Predictions_scaled_SARIMA\n",
              "Date                                                     \n",
              "2016-11-18            1.365024                  83.115937\n",
              "2016-11-21            1.365622                  83.181239\n",
              "2016-11-22            1.365789                  83.199496\n",
              "2016-11-23            1.366102                  83.233682\n",
              "2016-11-25            1.366271                  83.252194\n",
              "...                        ...                        ...\n",
              "2022-02-03            1.678538                 125.224462\n",
              "2022-02-04            1.678777                 125.263431\n",
              "2022-02-07            1.679016                 125.302412\n",
              "2022-02-08            1.679255                 125.341405\n",
              "2022-02-09            1.679494                 125.380409\n",
              "\n",
              "[1315 rows x 2 columns]"
            ],
            "text/html": [
              "\n",
              "  <div id=\"df-b2486106-d204-406e-964d-4ea18fb8879a\">\n",
              "    <div class=\"colab-df-container\">\n",
              "      <div>\n",
              "<style scoped>\n",
              "    .dataframe tbody tr th:only-of-type {\n",
              "        vertical-align: middle;\n",
              "    }\n",
              "\n",
              "    .dataframe tbody tr th {\n",
              "        vertical-align: top;\n",
              "    }\n",
              "\n",
              "    .dataframe thead th {\n",
              "        text-align: right;\n",
              "    }\n",
              "</style>\n",
              "<table border=\"1\" class=\"dataframe\">\n",
              "  <thead>\n",
              "    <tr style=\"text-align: right;\">\n",
              "      <th></th>\n",
              "      <th>Predictions_SARIMA</th>\n",
              "      <th>Predictions_scaled_SARIMA</th>\n",
              "    </tr>\n",
              "    <tr>\n",
              "      <th>Date</th>\n",
              "      <th></th>\n",
              "      <th></th>\n",
              "    </tr>\n",
              "  </thead>\n",
              "  <tbody>\n",
              "    <tr>\n",
              "      <th>2016-11-18</th>\n",
              "      <td>1.365024</td>\n",
              "      <td>83.115937</td>\n",
              "    </tr>\n",
              "    <tr>\n",
              "      <th>2016-11-21</th>\n",
              "      <td>1.365622</td>\n",
              "      <td>83.181239</td>\n",
              "    </tr>\n",
              "    <tr>\n",
              "      <th>2016-11-22</th>\n",
              "      <td>1.365789</td>\n",
              "      <td>83.199496</td>\n",
              "    </tr>\n",
              "    <tr>\n",
              "      <th>2016-11-23</th>\n",
              "      <td>1.366102</td>\n",
              "      <td>83.233682</td>\n",
              "    </tr>\n",
              "    <tr>\n",
              "      <th>2016-11-25</th>\n",
              "      <td>1.366271</td>\n",
              "      <td>83.252194</td>\n",
              "    </tr>\n",
              "    <tr>\n",
              "      <th>...</th>\n",
              "      <td>...</td>\n",
              "      <td>...</td>\n",
              "    </tr>\n",
              "    <tr>\n",
              "      <th>2022-02-03</th>\n",
              "      <td>1.678538</td>\n",
              "      <td>125.224462</td>\n",
              "    </tr>\n",
              "    <tr>\n",
              "      <th>2022-02-04</th>\n",
              "      <td>1.678777</td>\n",
              "      <td>125.263431</td>\n",
              "    </tr>\n",
              "    <tr>\n",
              "      <th>2022-02-07</th>\n",
              "      <td>1.679016</td>\n",
              "      <td>125.302412</td>\n",
              "    </tr>\n",
              "    <tr>\n",
              "      <th>2022-02-08</th>\n",
              "      <td>1.679255</td>\n",
              "      <td>125.341405</td>\n",
              "    </tr>\n",
              "    <tr>\n",
              "      <th>2022-02-09</th>\n",
              "      <td>1.679494</td>\n",
              "      <td>125.380409</td>\n",
              "    </tr>\n",
              "  </tbody>\n",
              "</table>\n",
              "<p>1315 rows × 2 columns</p>\n",
              "</div>\n",
              "      <button class=\"colab-df-convert\" onclick=\"convertToInteractive('df-b2486106-d204-406e-964d-4ea18fb8879a')\"\n",
              "              title=\"Convert this dataframe to an interactive table.\"\n",
              "              style=\"display:none;\">\n",
              "        \n",
              "  <svg xmlns=\"http://www.w3.org/2000/svg\" height=\"24px\"viewBox=\"0 0 24 24\"\n",
              "       width=\"24px\">\n",
              "    <path d=\"M0 0h24v24H0V0z\" fill=\"none\"/>\n",
              "    <path d=\"M18.56 5.44l.94 2.06.94-2.06 2.06-.94-2.06-.94-.94-2.06-.94 2.06-2.06.94zm-11 1L8.5 8.5l.94-2.06 2.06-.94-2.06-.94L8.5 2.5l-.94 2.06-2.06.94zm10 10l.94 2.06.94-2.06 2.06-.94-2.06-.94-.94-2.06-.94 2.06-2.06.94z\"/><path d=\"M17.41 7.96l-1.37-1.37c-.4-.4-.92-.59-1.43-.59-.52 0-1.04.2-1.43.59L10.3 9.45l-7.72 7.72c-.78.78-.78 2.05 0 2.83L4 21.41c.39.39.9.59 1.41.59.51 0 1.02-.2 1.41-.59l7.78-7.78 2.81-2.81c.8-.78.8-2.07 0-2.86zM5.41 20L4 18.59l7.72-7.72 1.47 1.35L5.41 20z\"/>\n",
              "  </svg>\n",
              "      </button>\n",
              "      \n",
              "  <style>\n",
              "    .colab-df-container {\n",
              "      display:flex;\n",
              "      flex-wrap:wrap;\n",
              "      gap: 12px;\n",
              "    }\n",
              "\n",
              "    .colab-df-convert {\n",
              "      background-color: #E8F0FE;\n",
              "      border: none;\n",
              "      border-radius: 50%;\n",
              "      cursor: pointer;\n",
              "      display: none;\n",
              "      fill: #1967D2;\n",
              "      height: 32px;\n",
              "      padding: 0 0 0 0;\n",
              "      width: 32px;\n",
              "    }\n",
              "\n",
              "    .colab-df-convert:hover {\n",
              "      background-color: #E2EBFA;\n",
              "      box-shadow: 0px 1px 2px rgba(60, 64, 67, 0.3), 0px 1px 3px 1px rgba(60, 64, 67, 0.15);\n",
              "      fill: #174EA6;\n",
              "    }\n",
              "\n",
              "    [theme=dark] .colab-df-convert {\n",
              "      background-color: #3B4455;\n",
              "      fill: #D2E3FC;\n",
              "    }\n",
              "\n",
              "    [theme=dark] .colab-df-convert:hover {\n",
              "      background-color: #434B5C;\n",
              "      box-shadow: 0px 1px 3px 1px rgba(0, 0, 0, 0.15);\n",
              "      filter: drop-shadow(0px 1px 2px rgba(0, 0, 0, 0.3));\n",
              "      fill: #FFFFFF;\n",
              "    }\n",
              "  </style>\n",
              "\n",
              "      <script>\n",
              "        const buttonEl =\n",
              "          document.querySelector('#df-b2486106-d204-406e-964d-4ea18fb8879a button.colab-df-convert');\n",
              "        buttonEl.style.display =\n",
              "          google.colab.kernel.accessAllowed ? 'block' : 'none';\n",
              "\n",
              "        async function convertToInteractive(key) {\n",
              "          const element = document.querySelector('#df-b2486106-d204-406e-964d-4ea18fb8879a');\n",
              "          const dataTable =\n",
              "            await google.colab.kernel.invokeFunction('convertToInteractive',\n",
              "                                                     [key], {});\n",
              "          if (!dataTable) return;\n",
              "\n",
              "          const docLinkHtml = 'Like what you see? Visit the ' +\n",
              "            '<a target=\"_blank\" href=https://colab.research.google.com/notebooks/data_table.ipynb>data table notebook</a>'\n",
              "            + ' to learn more about interactive tables.';\n",
              "          element.innerHTML = '';\n",
              "          dataTable['output_type'] = 'display_data';\n",
              "          await google.colab.output.renderOutput(dataTable, element);\n",
              "          const docLink = document.createElement('div');\n",
              "          docLink.innerHTML = docLinkHtml;\n",
              "          element.appendChild(docLink);\n",
              "        }\n",
              "      </script>\n",
              "    </div>\n",
              "  </div>\n",
              "  "
            ]
          },
          "metadata": {},
          "execution_count": 60
        }
      ]
    },
    {
      "cell_type": "code",
      "source": [
        "plt.figure(figsize=(8,5))\n",
        "plt.plot(train_data.Close ,label=\"Training\")\n",
        "plt.plot(test_data.Close ,label=\"Test\")\n",
        "plt.plot(prediction_SARIMA.Predictions_scaled_SARIMA, label=\"Predicted_Sarima\")\n",
        "plt.legend(loc = 'upper left')\n",
        "plt.show()"
      ],
      "metadata": {
        "id": "qYO06rwR8Boq",
        "colab": {
          "base_uri": "https://localhost:8080/",
          "height": 320
        },
        "outputId": "af73847e-e11e-44b4-ed3b-b1a6770b2168"
      },
      "execution_count": null,
      "outputs": [
        {
          "output_type": "display_data",
          "data": {
            "text/plain": [
              "<Figure size 576x360 with 1 Axes>"
            ],
            "image/png": "[encoded data removed]"
          },
          "metadata": {
            "needs_background": "light"
          }
        }
      ]
    },
    {
      "cell_type": "code",
      "source": [
        "def evaluate_prediction(predicted, actual, model_name):\n",
        "        mse = mean_squared_error(predicted, actual)\n",
        "        rsme = np.sqrt((mean_squared_error(predicted, actual)))\n",
        "        mae = mean_absolute_error(actual, predicted)\n",
        "        r2 = r2_score(actual, predicted)\n",
        "        max_err = max_error(actual, predicted)\n",
        "        print(colored(model_name + ' performance:', 'red'))\n",
        "        print('R^2: {:.4f} %'.format(r2 * 100))\n",
        "        print('Mean Absolute Error: {:.4f}'.format(mae))\n",
        "        print('Mean Squared Error: {:.4f}'.format(mse))\n",
        "        print('Root Mean Squared Error: {:.4f}'.format(rsme))\n",
        "        print('Max_error: {:.4f}'.format(max_err))\n",
        "        print('')\n",
        "        return\n",
        "\n",
        "evaluate_prediction(prediction_SARIMA.Predictions_scaled_SARIMA, test_data.Close, 'SARIMA')"
      ],
      "metadata": {
        "colab": {
          "base_uri": "https://localhost:8080/"
        },
        "id": "MdvOjBvP-0iF",
        "outputId": "3beeb18a-346d-4c3d-b22e-04b523b9abf3"
      },
      "execution_count": null,
      "outputs": [
        {
          "output_type": "stream",
          "name": "stdout",
          "text": [
            "\u001b[31mSARIMA performance:\u001b[0m\n",
            "R^2: -1606.4782 %\n",
            "Mean Absolute Error: 90.0007\n",
            "Mean Squared Error: 9876.4686\n",
            "Root Mean Squared Error: 99.3804\n",
            "Max_error: 162.7294\n",
            "\n"
          ]
        }
      ]
    },
    {
      "cell_type": "markdown",
      "source": [
        "# SARIMAX"
      ],
      "metadata": {
        "id": "ePCFNlLw1NqY"
      }
    },
    {
      "cell_type": "code",
      "source": [
        "model_autoSARIMAX = auto_arima(train_data_endog, exogenous=train_data_exog, start_p=0, start_q=0,\n",
        "                      max_p=1, max_q=1, # maximum p and q\n",
        "                      m=7,              # frequency of series\n",
        "                      d=1,             \n",
        "                      seasonal=True,  \n",
        "                      start_P=0, \n",
        "                      start_Q=0, \n",
        "                      max_P=2, \n",
        "                      max_Q=2,\n",
        "                      trace=True,\n",
        "                      error_action='ignore',  \n",
        "                      suppress_warnings=True, \n",
        "                      stepwise=True)"
      ],
      "metadata": {
        "id": "pKhUKuBe7QeR",
        "colab": {
          "base_uri": "https://localhost:8080/"
        },
        "outputId": "d44ca6ce-24b2-4fe2-d913-a763d07886cf"
      },
      "execution_count": 46,
      "outputs": [
        {
          "output_type": "stream",
          "name": "stdout",
          "text": [
            "Performing stepwise search to minimize aic\n",
            " ARIMA(0,1,0)(0,0,0)[7] intercept   : AIC=-85241.659, Time=7.43 sec\n",
            " ARIMA(1,1,0)(1,0,0)[7] intercept   : AIC=-88702.854, Time=76.93 sec\n",
            " ARIMA(0,1,1)(0,0,1)[7] intercept   : AIC=-92380.591, Time=47.12 sec\n",
            " ARIMA(0,1,0)(0,0,0)[7]             : AIC=-85243.001, Time=4.87 sec\n",
            " ARIMA(0,1,1)(0,0,0)[7] intercept   : AIC=-92410.146, Time=49.11 sec\n",
            " ARIMA(0,1,1)(1,0,0)[7] intercept   : AIC=-92311.461, Time=49.41 sec\n",
            " ARIMA(0,1,1)(1,0,1)[7] intercept   : AIC=-92229.604, Time=69.90 sec\n",
            " ARIMA(1,1,1)(0,0,0)[7] intercept   : AIC=-92364.826, Time=29.42 sec\n",
            " ARIMA(1,1,0)(0,0,0)[7] intercept   : AIC=-88703.522, Time=16.38 sec\n",
            " ARIMA(0,1,1)(0,0,0)[7]             : AIC=-93109.293, Time=22.29 sec\n",
            " ARIMA(0,1,1)(1,0,0)[7]             : AIC=-92980.953, Time=35.55 sec\n",
            " ARIMA(0,1,1)(0,0,1)[7]             : AIC=inf, Time=42.29 sec\n",
            " ARIMA(0,1,1)(1,0,1)[7]             : AIC=-92989.663, Time=48.55 sec\n",
            " ARIMA(1,1,1)(0,0,0)[7]             : AIC=-92537.585, Time=27.02 sec\n",
            " ARIMA(1,1,0)(0,0,0)[7]             : AIC=-88704.449, Time=8.25 sec\n",
            "\n",
            "Best model:  ARIMA(0,1,1)(0,0,0)[7]          \n",
            "Total fit time: 534.821 seconds\n"
          ]
        }
      ]
    },
    {
      "cell_type": "code",
      "source": [
        "#Summary of the model\n",
        "model_autoSARIMAX.summary()"
      ],
      "metadata": {
        "colab": {
          "base_uri": "https://localhost:8080/",
          "height": 465
        },
        "outputId": "a7566170-5448-425d-a750-75154fb4a449",
        "id": "1da0xFpg1kWc"
      },
      "execution_count": 47,
      "outputs": [
        {
          "output_type": "execute_result",
          "data": {
            "text/plain": [
              "<class 'statsmodels.iolib.summary.Summary'>\n",
              "\"\"\"\n",
              "                               SARIMAX Results                                \n",
              "==============================================================================\n",
              "Dep. Variable:                      y   No. Observations:                11830\n",
              "Model:               SARIMAX(0, 1, 1)   Log Likelihood               46559.646\n",
              "Date:                Wed, 13 Apr 2022   AIC                         -93109.293\n",
              "Time:                        16:52:47   BIC                         -93072.401\n",
              "Sample:                             0   HQIC                        -93096.909\n",
              "                              - 11830                                         \n",
              "Covariance Type:                  opg                                         \n",
              "==============================================================================\n",
              "                 coef    std err          z      P>|z|      [0.025      0.975]\n",
              "------------------------------------------------------------------------------\n",
              "x1            -0.3907      0.003   -124.258      0.000      -0.397      -0.385\n",
              "x2             0.7807      0.003    299.077      0.000       0.776       0.786\n",
              "x3             0.6085      0.001    587.065      0.000       0.606       0.611\n",
              "ma.L1         -0.9879      0.002   -643.300      0.000      -0.991      -0.985\n",
              "sigma2      2.223e-05   8.15e-08    272.606      0.000    2.21e-05    2.24e-05\n",
              "===================================================================================\n",
              "Ljung-Box (L1) (Q):                  46.70   Jarque-Bera (JB):          31933828.09\n",
              "Prob(Q):                              0.00   Prob(JB):                         0.00\n",
              "Heteroskedasticity (H):               1.49   Skew:                             3.45\n",
              "Prob(H) (two-sided):                  0.00   Kurtosis:                       257.45\n",
              "===================================================================================\n",
              "\n",
              "Warnings:\n",
              "[1] Covariance matrix calculated using the outer product of gradients (complex-step).\n",
              "\"\"\""
            ],
            "text/html": [
              "<table class=\"simpletable\">\n",
              "<caption>SARIMAX Results</caption>\n",
              "<tr>\n",
              "  <th>Dep. Variable:</th>           <td>y</td>        <th>  No. Observations:  </th>    <td>11830</td>  \n",
              "</tr>\n",
              "<tr>\n",
              "  <th>Model:</th>           <td>SARIMAX(0, 1, 1)</td> <th>  Log Likelihood     </th>  <td>46559.646</td>\n",
              "</tr>\n",
              "<tr>\n",
              "  <th>Date:</th>            <td>Wed, 13 Apr 2022</td> <th>  AIC                </th> <td>-93109.293</td>\n",
              "</tr>\n",
              "<tr>\n",
              "  <th>Time:</th>                <td>16:52:47</td>     <th>  BIC                </th> <td>-93072.401</td>\n",
              "</tr>\n",
              "<tr>\n",
              "  <th>Sample:</th>                  <td>0</td>        <th>  HQIC               </th> <td>-93096.909</td>\n",
              "</tr>\n",
              "<tr>\n",
              "  <th></th>                     <td> - 11830</td>     <th>                     </th>      <td> </td>    \n",
              "</tr>\n",
              "<tr>\n",
              "  <th>Covariance Type:</th>        <td>opg</td>       <th>                     </th>      <td> </td>    \n",
              "</tr>\n",
              "</table>\n",
              "<table class=\"simpletable\">\n",
              "<tr>\n",
              "     <td></td>       <th>coef</th>     <th>std err</th>      <th>z</th>      <th>P>|z|</th>  <th>[0.025</th>    <th>0.975]</th>  \n",
              "</tr>\n",
              "<tr>\n",
              "  <th>x1</th>     <td>   -0.3907</td> <td>    0.003</td> <td> -124.258</td> <td> 0.000</td> <td>   -0.397</td> <td>   -0.385</td>\n",
              "</tr>\n",
              "<tr>\n",
              "  <th>x2</th>     <td>    0.7807</td> <td>    0.003</td> <td>  299.077</td> <td> 0.000</td> <td>    0.776</td> <td>    0.786</td>\n",
              "</tr>\n",
              "<tr>\n",
              "  <th>x3</th>     <td>    0.6085</td> <td>    0.001</td> <td>  587.065</td> <td> 0.000</td> <td>    0.606</td> <td>    0.611</td>\n",
              "</tr>\n",
              "<tr>\n",
              "  <th>ma.L1</th>  <td>   -0.9879</td> <td>    0.002</td> <td> -643.300</td> <td> 0.000</td> <td>   -0.991</td> <td>   -0.985</td>\n",
              "</tr>\n",
              "<tr>\n",
              "  <th>sigma2</th> <td> 2.223e-05</td> <td> 8.15e-08</td> <td>  272.606</td> <td> 0.000</td> <td> 2.21e-05</td> <td> 2.24e-05</td>\n",
              "</tr>\n",
              "</table>\n",
              "<table class=\"simpletable\">\n",
              "<tr>\n",
              "  <th>Ljung-Box (L1) (Q):</th>     <td>46.70</td> <th>  Jarque-Bera (JB):  </th> <td>31933828.09</td>\n",
              "</tr>\n",
              "<tr>\n",
              "  <th>Prob(Q):</th>                <td>0.00</td>  <th>  Prob(JB):          </th>    <td>0.00</td>    \n",
              "</tr>\n",
              "<tr>\n",
              "  <th>Heteroskedasticity (H):</th> <td>1.49</td>  <th>  Skew:              </th>    <td>3.45</td>    \n",
              "</tr>\n",
              "<tr>\n",
              "  <th>Prob(H) (two-sided):</th>    <td>0.00</td>  <th>  Kurtosis:          </th>   <td>257.45</td>   \n",
              "</tr>\n",
              "</table><br/><br/>Warnings:<br/>[1] Covariance matrix calculated using the outer product of gradients (complex-step)."
            ]
          },
          "metadata": {},
          "execution_count": 47
        }
      ]
    },
    {
      "cell_type": "code",
      "source": [
        "model_autoSARIMAX.plot_diagnostics(figsize=(10,8))\n",
        "plt.show()"
      ],
      "metadata": {
        "colab": {
          "base_uri": "https://localhost:8080/",
          "height": 513
        },
        "outputId": "ef54fada-93f4-429e-f180-149cc08bd0f1",
        "id": "70Moz5cY1kWc"
      },
      "execution_count": 48,
      "outputs": [
        {
          "output_type": "display_data",
          "data": {
            "text/plain": [
              "<Figure size 720x576 with 4 Axes>"
            ],
            "image/png": "[encoded data removed]"
          },
          "metadata": {
            "needs_background": "light"
          }
        }
      ]
    },
    {
      "cell_type": "code",
      "source": [
        "prediction_SARIMAX = pd.DataFrame(model_autoSARIMAX.predict(n_periods = 1315, exogenous=test_data_exog), index=test_data.index)\n",
        "prediction_SARIMAX.columns = ['Predictions_SARIMAX']\n",
        "prediction_rescaled_SARIMAX = pt_endog.inverse_transform(prediction_SARIMAX.values)\n",
        "prediction_SARIMAX['Predictions_scaled_SARIMAX'] = prediction_rescaled_SARIMAX\n",
        "prediction_SARIMAX"
      ],
      "metadata": {
        "colab": {
          "base_uri": "https://localhost:8080/",
          "height": 455
        },
        "outputId": "0956fa82-38d6-449a-c2d7-3e733837352f",
        "id": "rVRkHiJO1kWc"
      },
      "execution_count": 49,
      "outputs": [
        {
          "output_type": "execute_result",
          "data": {
            "text/plain": [
              "            Predictions_SARIMAX  Predictions_scaled_SARIMAX\n",
              "Date                                                       \n",
              "2016-11-18             1.358534                   82.410577\n",
              "2016-11-21             1.357758                   82.326620\n",
              "2016-11-22             1.362548                   82.846149\n",
              "2016-11-23             1.361480                   82.730128\n",
              "2016-11-25             1.366240                   83.248795\n",
              "...                         ...                         ...\n",
              "2022-02-03             1.885315                  163.772004\n",
              "2022-02-04             1.880773                  162.812097\n",
              "2022-02-07             1.869782                  160.512236\n",
              "2022-02-08             1.867427                  160.023501\n",
              "2022-02-09             1.865372                  159.598218\n",
              "\n",
              "[1315 rows x 2 columns]"
            ],
            "text/html": [
              "\n",
              "  <div id=\"df-0c048371-fe69-4469-9fdc-971676df488e\">\n",
              "    <div class=\"colab-df-container\">\n",
              "      <div>\n",
              "<style scoped>\n",
              "    .dataframe tbody tr th:only-of-type {\n",
              "        vertical-align: middle;\n",
              "    }\n",
              "\n",
              "    .dataframe tbody tr th {\n",
              "        vertical-align: top;\n",
              "    }\n",
              "\n",
              "    .dataframe thead th {\n",
              "        text-align: right;\n",
              "    }\n",
              "</style>\n",
              "<table border=\"1\" class=\"dataframe\">\n",
              "  <thead>\n",
              "    <tr style=\"text-align: right;\">\n",
              "      <th></th>\n",
              "      <th>Predictions_SARIMAX</th>\n",
              "      <th>Predictions_scaled_SARIMAX</th>\n",
              "    </tr>\n",
              "    <tr>\n",
              "      <th>Date</th>\n",
              "      <th></th>\n",
              "      <th></th>\n",
              "    </tr>\n",
              "  </thead>\n",
              "  <tbody>\n",
              "    <tr>\n",
              "      <th>2016-11-18</th>\n",
              "      <td>1.358534</td>\n",
              "      <td>82.410577</td>\n",
              "    </tr>\n",
              "    <tr>\n",
              "      <th>2016-11-21</th>\n",
              "      <td>1.357758</td>\n",
              "      <td>82.326620</td>\n",
              "    </tr>\n",
              "    <tr>\n",
              "      <th>2016-11-22</th>\n",
              "      <td>1.362548</td>\n",
              "      <td>82.846149</td>\n",
              "    </tr>\n",
              "    <tr>\n",
              "      <th>2016-11-23</th>\n",
              "      <td>1.361480</td>\n",
              "      <td>82.730128</td>\n",
              "    </tr>\n",
              "    <tr>\n",
              "      <th>2016-11-25</th>\n",
              "      <td>1.366240</td>\n",
              "      <td>83.248795</td>\n",
              "    </tr>\n",
              "    <tr>\n",
              "      <th>...</th>\n",
              "      <td>...</td>\n",
              "      <td>...</td>\n",
              "    </tr>\n",
              "    <tr>\n",
              "      <th>2022-02-03</th>\n",
              "      <td>1.885315</td>\n",
              "      <td>163.772004</td>\n",
              "    </tr>\n",
              "    <tr>\n",
              "      <th>2022-02-04</th>\n",
              "      <td>1.880773</td>\n",
              "      <td>162.812097</td>\n",
              "    </tr>\n",
              "    <tr>\n",
              "      <th>2022-02-07</th>\n",
              "      <td>1.869782</td>\n",
              "      <td>160.512236</td>\n",
              "    </tr>\n",
              "    <tr>\n",
              "      <th>2022-02-08</th>\n",
              "      <td>1.867427</td>\n",
              "      <td>160.023501</td>\n",
              "    </tr>\n",
              "    <tr>\n",
              "      <th>2022-02-09</th>\n",
              "      <td>1.865372</td>\n",
              "      <td>159.598218</td>\n",
              "    </tr>\n",
              "  </tbody>\n",
              "</table>\n",
              "<p>1315 rows × 2 columns</p>\n",
              "</div>\n",
              "      <button class=\"colab-df-convert\" onclick=\"convertToInteractive('df-0c048371-fe69-4469-9fdc-971676df488e')\"\n",
              "              title=\"Convert this dataframe to an interactive table.\"\n",
              "              style=\"display:none;\">\n",
              "        \n",
              "  <svg xmlns=\"http://www.w3.org/2000/svg\" height=\"24px\"viewBox=\"0 0 24 24\"\n",
              "       width=\"24px\">\n",
              "    <path d=\"M0 0h24v24H0V0z\" fill=\"none\"/>\n",
              "    <path d=\"M18.56 5.44l.94 2.06.94-2.06 2.06-.94-2.06-.94-.94-2.06-.94 2.06-2.06.94zm-11 1L8.5 8.5l.94-2.06 2.06-.94-2.06-.94L8.5 2.5l-.94 2.06-2.06.94zm10 10l.94 2.06.94-2.06 2.06-.94-2.06-.94-.94-2.06-.94 2.06-2.06.94z\"/><path d=\"M17.41 7.96l-1.37-1.37c-.4-.4-.92-.59-1.43-.59-.52 0-1.04.2-1.43.59L10.3 9.45l-7.72 7.72c-.78.78-.78 2.05 0 2.83L4 21.41c.39.39.9.59 1.41.59.51 0 1.02-.2 1.41-.59l7.78-7.78 2.81-2.81c.8-.78.8-2.07 0-2.86zM5.41 20L4 18.59l7.72-7.72 1.47 1.35L5.41 20z\"/>\n",
              "  </svg>\n",
              "      </button>\n",
              "      \n",
              "  <style>\n",
              "    .colab-df-container {\n",
              "      display:flex;\n",
              "      flex-wrap:wrap;\n",
              "      gap: 12px;\n",
              "    }\n",
              "\n",
              "    .colab-df-convert {\n",
              "      background-color: #E8F0FE;\n",
              "      border: none;\n",
              "      border-radius: 50%;\n",
              "      cursor: pointer;\n",
              "      display: none;\n",
              "      fill: #1967D2;\n",
              "      height: 32px;\n",
              "      padding: 0 0 0 0;\n",
              "      width: 32px;\n",
              "    }\n",
              "\n",
              "    .colab-df-convert:hover {\n",
              "      background-color: #E2EBFA;\n",
              "      box-shadow: 0px 1px 2px rgba(60, 64, 67, 0.3), 0px 1px 3px 1px rgba(60, 64, 67, 0.15);\n",
              "      fill: #174EA6;\n",
              "    }\n",
              "\n",
              "    [theme=dark] .colab-df-convert {\n",
              "      background-color: #3B4455;\n",
              "      fill: #D2E3FC;\n",
              "    }\n",
              "\n",
              "    [theme=dark] .colab-df-convert:hover {\n",
              "      background-color: #434B5C;\n",
              "      box-shadow: 0px 1px 3px 1px rgba(0, 0, 0, 0.15);\n",
              "      filter: drop-shadow(0px 1px 2px rgba(0, 0, 0, 0.3));\n",
              "      fill: #FFFFFF;\n",
              "    }\n",
              "  </style>\n",
              "\n",
              "      <script>\n",
              "        const buttonEl =\n",
              "          document.querySelector('#df-0c048371-fe69-4469-9fdc-971676df488e button.colab-df-convert');\n",
              "        buttonEl.style.display =\n",
              "          google.colab.kernel.accessAllowed ? 'block' : 'none';\n",
              "\n",
              "        async function convertToInteractive(key) {\n",
              "          const element = document.querySelector('#df-0c048371-fe69-4469-9fdc-971676df488e');\n",
              "          const dataTable =\n",
              "            await google.colab.kernel.invokeFunction('convertToInteractive',\n",
              "                                                     [key], {});\n",
              "          if (!dataTable) return;\n",
              "\n",
              "          const docLinkHtml = 'Like what you see? Visit the ' +\n",
              "            '<a target=\"_blank\" href=https://colab.research.google.com/notebooks/data_table.ipynb>data table notebook</a>'\n",
              "            + ' to learn more about interactive tables.';\n",
              "          element.innerHTML = '';\n",
              "          dataTable['output_type'] = 'display_data';\n",
              "          await google.colab.output.renderOutput(dataTable, element);\n",
              "          const docLink = document.createElement('div');\n",
              "          docLink.innerHTML = docLinkHtml;\n",
              "          element.appendChild(docLink);\n",
              "        }\n",
              "      </script>\n",
              "    </div>\n",
              "  </div>\n",
              "  "
            ]
          },
          "metadata": {},
          "execution_count": 49
        }
      ]
    },
    {
      "cell_type": "code",
      "source": [
        "plt.figure(figsize=(8,5))\n",
        "plt.plot(train_data.Close ,label=\"Training\")\n",
        "plt.plot(test_data.Close ,label=\"Test\")\n",
        "plt.plot(prediction_SARIMAX.Predictions_scaled_SARIMAX, label=\"Predicted_Sarimax\")\n",
        "plt.legend(loc = 'upper left')\n",
        "plt.show()"
      ],
      "metadata": {
        "colab": {
          "base_uri": "https://localhost:8080/",
          "height": 320
        },
        "outputId": "ef68b3d0-2e41-4ec9-a4b8-1ff6a900663f",
        "id": "RAofwV3R1kWc"
      },
      "execution_count": 50,
      "outputs": [
        {
          "output_type": "display_data",
          "data": {
            "text/plain": [
              "<Figure size 576x360 with 1 Axes>"
            ],
            "image/png": "[encoded data removed]"
          },
          "metadata": {
            "needs_background": "light"
          }
        }
      ]
    },
    {
      "cell_type": "code",
      "source": [
        "def evaluate_prediction(predicted, actual, model_name):\n",
        "        mse = mean_squared_error(predicted, actual)\n",
        "        rsme = np.sqrt((mean_squared_error(predicted, actual)))\n",
        "        mae = mean_absolute_error(actual, predicted)\n",
        "        r2 = r2_score(actual, predicted)\n",
        "        max_err = max_error(actual, predicted)\n",
        "        print(colored(model_name + ' performance:', 'red'))\n",
        "        print('R^2: {:.4f} %'.format(r2 * 100))\n",
        "        print('Mean Absolute Error: {:.4f}'.format(mae))\n",
        "        print('Mean Squared Error: {:.4f}'.format(mse))\n",
        "        print('Root Mean Squared Error: {:.4f}'.format(rsme))\n",
        "        print('Max_error: {:.4f}'.format(max_err))\n",
        "        print('')\n",
        "        return\n",
        "\n",
        "evaluate_prediction(prediction_SARIMAX.Predictions_scaled_SARIMAX, test_data.Close, 'SARIMAX')"
      ],
      "metadata": {
        "id": "QAGFapLR-3uz",
        "colab": {
          "base_uri": "https://localhost:8080/"
        },
        "outputId": "05ee2610-2a6c-496d-fa50-d65b265cdd90"
      },
      "execution_count": 35,
      "outputs": [
        {
          "output_type": "stream",
          "name": "stdout",
          "text": [
            "\u001b[31mSARIMAX performance:\u001b[0m\n",
            "R^2: 99.9180 %\n",
            "Mean Absolute Error: 0.4907\n",
            "Mean Squared Error: 0.4745\n",
            "Root Mean Squared Error: 0.6888\n",
            "Max_error: 6.8653\n",
            "\n"
          ]
        }
      ]
    },
    {
      "cell_type": "code",
      "source": [
        "model_autoSARIMAX_1 = auto_arima(train_data_endog, exogenous=train_data_exog, start_p=0, start_q=0,\n",
        "                      max_p=1, max_q=1, # maximum p and q\n",
        "                      m=7,              # frequency of series\n",
        "                      d=0,             \n",
        "                      seasonal=True,  \n",
        "                      start_P=0, \n",
        "                      start_Q=0, \n",
        "                      max_P=1, \n",
        "                      max_Q=1,\n",
        "                      trace=True,\n",
        "                      max_order = 6,\n",
        "                      error_action='ignore',  \n",
        "                      suppress_warnings=True, \n",
        "                      stepwise=True)"
      ],
      "metadata": {
        "colab": {
          "base_uri": "https://localhost:8080/"
        },
        "outputId": "e3937b3f-3924-498d-8359-a88c1aee9671",
        "id": "cYo4Kp14eikA"
      },
      "execution_count": null,
      "outputs": [
        {
          "output_type": "stream",
          "name": "stdout",
          "text": [
            "Performing stepwise search to minimize aic\n",
            " ARIMA(0,0,0)(0,0,0)[7] intercept   : AIC=-93439.378, Time=9.15 sec\n",
            " ARIMA(1,0,0)(1,0,0)[7] intercept   : AIC=-93456.486, Time=15.84 sec\n",
            " ARIMA(0,0,1)(0,0,1)[7] intercept   : AIC=-93455.238, Time=16.08 sec\n",
            " ARIMA(0,0,0)(0,0,0)[7]             : AIC=-93441.338, Time=12.23 sec\n",
            " ARIMA(1,0,0)(0,0,0)[7] intercept   : AIC=-93457.971, Time=6.51 sec\n",
            " ARIMA(1,0,0)(0,0,1)[7] intercept   : AIC=-93456.354, Time=13.73 sec\n",
            " ARIMA(1,0,0)(1,0,1)[7] intercept   : AIC=-93454.821, Time=18.28 sec\n",
            " ARIMA(1,0,1)(0,0,0)[7] intercept   : AIC=-93460.868, Time=7.05 sec\n",
            " ARIMA(1,0,1)(1,0,0)[7] intercept   : AIC=-93459.323, Time=27.14 sec\n",
            " ARIMA(1,0,1)(0,0,1)[7] intercept   : AIC=-93459.216, Time=27.50 sec\n",
            " ARIMA(1,0,1)(1,0,1)[7] intercept   : AIC=-93457.663, Time=22.58 sec\n",
            " ARIMA(0,0,1)(0,0,0)[7] intercept   : AIC=-93456.851, Time=10.96 sec\n",
            " ARIMA(1,0,1)(0,0,0)[7]             : AIC=-93462.868, Time=5.78 sec\n",
            " ARIMA(1,0,1)(1,0,0)[7]             : AIC=-93461.323, Time=24.68 sec\n",
            " ARIMA(1,0,1)(0,0,1)[7]             : AIC=-93461.216, Time=8.72 sec\n",
            " ARIMA(1,0,1)(1,0,1)[7]             : AIC=-93459.663, Time=30.30 sec\n",
            " ARIMA(0,0,1)(0,0,0)[7]             : AIC=-93458.852, Time=7.08 sec\n",
            " ARIMA(1,0,0)(0,0,0)[7]             : AIC=-93459.971, Time=5.39 sec\n",
            "\n",
            "Best model:  ARIMA(1,0,1)(0,0,0)[7]          \n",
            "Total fit time: 269.227 seconds\n"
          ]
        }
      ]
    },
    {
      "cell_type": "code",
      "source": [
        "#Summary of the model\n",
        "model_autoSARIMAX_1.summary()"
      ],
      "metadata": {
        "colab": {
          "base_uri": "https://localhost:8080/",
          "height": 527
        },
        "outputId": "e2ba581b-5522-4338-de7f-e51ab8a09cf2",
        "id": "wPZUzD8weikB"
      },
      "execution_count": null,
      "outputs": [
        {
          "output_type": "execute_result",
          "data": {
            "text/plain": [
              "<class 'statsmodels.iolib.summary.Summary'>\n",
              "\"\"\"\n",
              "                               SARIMAX Results                                \n",
              "==============================================================================\n",
              "Dep. Variable:                      y   No. Observations:                11830\n",
              "Model:               SARIMAX(1, 0, 1)   Log Likelihood               46739.434\n",
              "Date:                Tue, 12 Apr 2022   AIC                         -93462.868\n",
              "Time:                        15:57:22   BIC                         -93403.841\n",
              "Sample:                             0   HQIC                        -93443.053\n",
              "                              - 11830                                         \n",
              "Covariance Type:                  opg                                         \n",
              "==============================================================================\n",
              "                 coef    std err          z      P>|z|      [0.025      0.975]\n",
              "------------------------------------------------------------------------------\n",
              "x1            -0.3714      0.003   -109.319      0.000      -0.378      -0.365\n",
              "x2             0.8118      0.003    297.778      0.000       0.806       0.817\n",
              "x3             0.5474      0.001    585.399      0.000       0.546       0.549\n",
              "x4             0.0130      0.001     16.817      0.000       0.012       0.015\n",
              "x5            -0.0011   6.31e-05    -17.151      0.000      -0.001      -0.001\n",
              "ar.L1         -0.3625      0.123     -2.948      0.003      -0.604      -0.121\n",
              "ma.L1          0.3215      0.123      2.608      0.009       0.080       0.563\n",
              "sigma2      2.167e-05    7.8e-08    277.871      0.000    2.15e-05    2.18e-05\n",
              "===================================================================================\n",
              "Ljung-Box (L1) (Q):                   0.00   Jarque-Bera (JB):          20599475.04\n",
              "Prob(Q):                              0.98   Prob(JB):                         0.00\n",
              "Heteroskedasticity (H):               1.38   Skew:                             1.58\n",
              "Prob(H) (two-sided):                  0.00   Kurtosis:                       207.40\n",
              "===================================================================================\n",
              "\n",
              "Warnings:\n",
              "[1] Covariance matrix calculated using the outer product of gradients (complex-step).\n",
              "\"\"\""
            ],
            "text/html": [
              "<table class=\"simpletable\">\n",
              "<caption>SARIMAX Results</caption>\n",
              "<tr>\n",
              "  <th>Dep. Variable:</th>           <td>y</td>        <th>  No. Observations:  </th>    <td>11830</td>  \n",
              "</tr>\n",
              "<tr>\n",
              "  <th>Model:</th>           <td>SARIMAX(1, 0, 1)</td> <th>  Log Likelihood     </th>  <td>46739.434</td>\n",
              "</tr>\n",
              "<tr>\n",
              "  <th>Date:</th>            <td>Tue, 12 Apr 2022</td> <th>  AIC                </th> <td>-93462.868</td>\n",
              "</tr>\n",
              "<tr>\n",
              "  <th>Time:</th>                <td>15:57:22</td>     <th>  BIC                </th> <td>-93403.841</td>\n",
              "</tr>\n",
              "<tr>\n",
              "  <th>Sample:</th>                  <td>0</td>        <th>  HQIC               </th> <td>-93443.053</td>\n",
              "</tr>\n",
              "<tr>\n",
              "  <th></th>                     <td> - 11830</td>     <th>                     </th>      <td> </td>    \n",
              "</tr>\n",
              "<tr>\n",
              "  <th>Covariance Type:</th>        <td>opg</td>       <th>                     </th>      <td> </td>    \n",
              "</tr>\n",
              "</table>\n",
              "<table class=\"simpletable\">\n",
              "<tr>\n",
              "     <td></td>       <th>coef</th>     <th>std err</th>      <th>z</th>      <th>P>|z|</th>  <th>[0.025</th>    <th>0.975]</th>  \n",
              "</tr>\n",
              "<tr>\n",
              "  <th>x1</th>     <td>   -0.3714</td> <td>    0.003</td> <td> -109.319</td> <td> 0.000</td> <td>   -0.378</td> <td>   -0.365</td>\n",
              "</tr>\n",
              "<tr>\n",
              "  <th>x2</th>     <td>    0.8118</td> <td>    0.003</td> <td>  297.778</td> <td> 0.000</td> <td>    0.806</td> <td>    0.817</td>\n",
              "</tr>\n",
              "<tr>\n",
              "  <th>x3</th>     <td>    0.5474</td> <td>    0.001</td> <td>  585.399</td> <td> 0.000</td> <td>    0.546</td> <td>    0.549</td>\n",
              "</tr>\n",
              "<tr>\n",
              "  <th>x4</th>     <td>    0.0130</td> <td>    0.001</td> <td>   16.817</td> <td> 0.000</td> <td>    0.012</td> <td>    0.015</td>\n",
              "</tr>\n",
              "<tr>\n",
              "  <th>x5</th>     <td>   -0.0011</td> <td> 6.31e-05</td> <td>  -17.151</td> <td> 0.000</td> <td>   -0.001</td> <td>   -0.001</td>\n",
              "</tr>\n",
              "<tr>\n",
              "  <th>ar.L1</th>  <td>   -0.3625</td> <td>    0.123</td> <td>   -2.948</td> <td> 0.003</td> <td>   -0.604</td> <td>   -0.121</td>\n",
              "</tr>\n",
              "<tr>\n",
              "  <th>ma.L1</th>  <td>    0.3215</td> <td>    0.123</td> <td>    2.608</td> <td> 0.009</td> <td>    0.080</td> <td>    0.563</td>\n",
              "</tr>\n",
              "<tr>\n",
              "  <th>sigma2</th> <td> 2.167e-05</td> <td>  7.8e-08</td> <td>  277.871</td> <td> 0.000</td> <td> 2.15e-05</td> <td> 2.18e-05</td>\n",
              "</tr>\n",
              "</table>\n",
              "<table class=\"simpletable\">\n",
              "<tr>\n",
              "  <th>Ljung-Box (L1) (Q):</th>     <td>0.00</td> <th>  Jarque-Bera (JB):  </th> <td>20599475.04</td>\n",
              "</tr>\n",
              "<tr>\n",
              "  <th>Prob(Q):</th>                <td>0.98</td> <th>  Prob(JB):          </th>    <td>0.00</td>    \n",
              "</tr>\n",
              "<tr>\n",
              "  <th>Heteroskedasticity (H):</th> <td>1.38</td> <th>  Skew:              </th>    <td>1.58</td>    \n",
              "</tr>\n",
              "<tr>\n",
              "  <th>Prob(H) (two-sided):</th>    <td>0.00</td> <th>  Kurtosis:          </th>   <td>207.40</td>   \n",
              "</tr>\n",
              "</table><br/><br/>Warnings:<br/>[1] Covariance matrix calculated using the outer product of gradients (complex-step)."
            ]
          },
          "metadata": {},
          "execution_count": 76
        }
      ]
    },
    {
      "cell_type": "code",
      "source": [
        "model_autoSARIMAX_1.plot_diagnostics(figsize=(10,8))\n",
        "plt.show()"
      ],
      "metadata": {
        "colab": {
          "base_uri": "https://localhost:8080/",
          "height": 513
        },
        "outputId": "fa15cbda-f473-44e5-f09b-cdc6444d95c1",
        "id": "gVsuLq3reikB"
      },
      "execution_count": null,
      "outputs": [
        {
          "output_type": "display_data",
          "data": {
            "text/plain": [
              "<Figure size 720x576 with 4 Axes>"
            ],
            "image/png": "[encoded data removed]"
          },
          "metadata": {
            "needs_background": "light"
          }
        }
      ]
    },
    {
      "cell_type": "code",
      "source": [
        "prediction_SARIMAX_1 = pd.DataFrame(model_autoSARIMAX_1.predict(n_periods = 1315, exogenous=test_data_exog), index=test_data.index)\n",
        "prediction_SARIMAX_1.columns = ['Predictions_SARIMAX_1']\n",
        "prediction_rescaled_SARIMAX_1 = pt_endog.inverse_transform(prediction_SARIMAX_1.values)\n",
        "prediction_SARIMAX_1['Predictions_scaled_SARIMAX_1'] = prediction_rescaled_SARIMAX_1\n",
        "prediction_SARIMAX_1"
      ],
      "metadata": {
        "colab": {
          "base_uri": "https://localhost:8080/",
          "height": 455
        },
        "outputId": "c1c12141-749f-44be-b213-f6f364bbf673",
        "id": "rlS2D-wZeikB"
      },
      "execution_count": null,
      "outputs": [
        {
          "output_type": "execute_result",
          "data": {
            "text/plain": [
              "            Predictions_SARIMAX_1  Predictions_scaled_SARIMAX_1\n",
              "Date                                                           \n",
              "2016-11-18               1.359357                     82.499782\n",
              "2016-11-21               1.358871                     82.447099\n",
              "2016-11-22               1.364042                     83.008902\n",
              "2016-11-23               1.362851                     82.879181\n",
              "2016-11-25               1.368490                     83.495167\n",
              "...                           ...                           ...\n",
              "2022-02-03               1.888161                    164.376424\n",
              "2022-02-04               1.883795                    163.450274\n",
              "2022-02-07               1.873240                    161.232246\n",
              "2022-02-08               1.870948                    160.754656\n",
              "2022-02-09               1.868235                    160.191026\n",
              "\n",
              "[1315 rows x 2 columns]"
            ],
            "text/html": [
              "\n",
              "  <div id=\"df-0f3210e0-9d8b-4b8c-8c22-33cb27eeca5e\">\n",
              "    <div class=\"colab-df-container\">\n",
              "      <div>\n",
              "<style scoped>\n",
              "    .dataframe tbody tr th:only-of-type {\n",
              "        vertical-align: middle;\n",
              "    }\n",
              "\n",
              "    .dataframe tbody tr th {\n",
              "        vertical-align: top;\n",
              "    }\n",
              "\n",
              "    .dataframe thead th {\n",
              "        text-align: right;\n",
              "    }\n",
              "</style>\n",
              "<table border=\"1\" class=\"dataframe\">\n",
              "  <thead>\n",
              "    <tr style=\"text-align: right;\">\n",
              "      <th></th>\n",
              "      <th>Predictions_SARIMAX_1</th>\n",
              "      <th>Predictions_scaled_SARIMAX_1</th>\n",
              "    </tr>\n",
              "    <tr>\n",
              "      <th>Date</th>\n",
              "      <th></th>\n",
              "      <th></th>\n",
              "    </tr>\n",
              "  </thead>\n",
              "  <tbody>\n",
              "    <tr>\n",
              "      <th>2016-11-18</th>\n",
              "      <td>1.359357</td>\n",
              "      <td>82.499782</td>\n",
              "    </tr>\n",
              "    <tr>\n",
              "      <th>2016-11-21</th>\n",
              "      <td>1.358871</td>\n",
              "      <td>82.447099</td>\n",
              "    </tr>\n",
              "    <tr>\n",
              "      <th>2016-11-22</th>\n",
              "      <td>1.364042</td>\n",
              "      <td>83.008902</td>\n",
              "    </tr>\n",
              "    <tr>\n",
              "      <th>2016-11-23</th>\n",
              "      <td>1.362851</td>\n",
              "      <td>82.879181</td>\n",
              "    </tr>\n",
              "    <tr>\n",
              "      <th>2016-11-25</th>\n",
              "      <td>1.368490</td>\n",
              "      <td>83.495167</td>\n",
              "    </tr>\n",
              "    <tr>\n",
              "      <th>...</th>\n",
              "      <td>...</td>\n",
              "      <td>...</td>\n",
              "    </tr>\n",
              "    <tr>\n",
              "      <th>2022-02-03</th>\n",
              "      <td>1.888161</td>\n",
              "      <td>164.376424</td>\n",
              "    </tr>\n",
              "    <tr>\n",
              "      <th>2022-02-04</th>\n",
              "      <td>1.883795</td>\n",
              "      <td>163.450274</td>\n",
              "    </tr>\n",
              "    <tr>\n",
              "      <th>2022-02-07</th>\n",
              "      <td>1.873240</td>\n",
              "      <td>161.232246</td>\n",
              "    </tr>\n",
              "    <tr>\n",
              "      <th>2022-02-08</th>\n",
              "      <td>1.870948</td>\n",
              "      <td>160.754656</td>\n",
              "    </tr>\n",
              "    <tr>\n",
              "      <th>2022-02-09</th>\n",
              "      <td>1.868235</td>\n",
              "      <td>160.191026</td>\n",
              "    </tr>\n",
              "  </tbody>\n",
              "</table>\n",
              "<p>1315 rows × 2 columns</p>\n",
              "</div>\n",
              "      <button class=\"colab-df-convert\" onclick=\"convertToInteractive('df-0f3210e0-9d8b-4b8c-8c22-33cb27eeca5e')\"\n",
              "              title=\"Convert this dataframe to an interactive table.\"\n",
              "              style=\"display:none;\">\n",
              "        \n",
              "  <svg xmlns=\"http://www.w3.org/2000/svg\" height=\"24px\"viewBox=\"0 0 24 24\"\n",
              "       width=\"24px\">\n",
              "    <path d=\"M0 0h24v24H0V0z\" fill=\"none\"/>\n",
              "    <path d=\"M18.56 5.44l.94 2.06.94-2.06 2.06-.94-2.06-.94-.94-2.06-.94 2.06-2.06.94zm-11 1L8.5 8.5l.94-2.06 2.06-.94-2.06-.94L8.5 2.5l-.94 2.06-2.06.94zm10 10l.94 2.06.94-2.06 2.06-.94-2.06-.94-.94-2.06-.94 2.06-2.06.94z\"/><path d=\"M17.41 7.96l-1.37-1.37c-.4-.4-.92-.59-1.43-.59-.52 0-1.04.2-1.43.59L10.3 9.45l-7.72 7.72c-.78.78-.78 2.05 0 2.83L4 21.41c.39.39.9.59 1.41.59.51 0 1.02-.2 1.41-.59l7.78-7.78 2.81-2.81c.8-.78.8-2.07 0-2.86zM5.41 20L4 18.59l7.72-7.72 1.47 1.35L5.41 20z\"/>\n",
              "  </svg>\n",
              "      </button>\n",
              "      \n",
              "  <style>\n",
              "    .colab-df-container {\n",
              "      display:flex;\n",
              "      flex-wrap:wrap;\n",
              "      gap: 12px;\n",
              "    }\n",
              "\n",
              "    .colab-df-convert {\n",
              "      background-color: #E8F0FE;\n",
              "      border: none;\n",
              "      border-radius: 50%;\n",
              "      cursor: pointer;\n",
              "      display: none;\n",
              "      fill: #1967D2;\n",
              "      height: 32px;\n",
              "      padding: 0 0 0 0;\n",
              "      width: 32px;\n",
              "    }\n",
              "\n",
              "    .colab-df-convert:hover {\n",
              "      background-color: #E2EBFA;\n",
              "      box-shadow: 0px 1px 2px rgba(60, 64, 67, 0.3), 0px 1px 3px 1px rgba(60, 64, 67, 0.15);\n",
              "      fill: #174EA6;\n",
              "    }\n",
              "\n",
              "    [theme=dark] .colab-df-convert {\n",
              "      background-color: #3B4455;\n",
              "      fill: #D2E3FC;\n",
              "    }\n",
              "\n",
              "    [theme=dark] .colab-df-convert:hover {\n",
              "      background-color: #434B5C;\n",
              "      box-shadow: 0px 1px 3px 1px rgba(0, 0, 0, 0.15);\n",
              "      filter: drop-shadow(0px 1px 2px rgba(0, 0, 0, 0.3));\n",
              "      fill: #FFFFFF;\n",
              "    }\n",
              "  </style>\n",
              "\n",
              "      <script>\n",
              "        const buttonEl =\n",
              "          document.querySelector('#df-0f3210e0-9d8b-4b8c-8c22-33cb27eeca5e button.colab-df-convert');\n",
              "        buttonEl.style.display =\n",
              "          google.colab.kernel.accessAllowed ? 'block' : 'none';\n",
              "\n",
              "        async function convertToInteractive(key) {\n",
              "          const element = document.querySelector('#df-0f3210e0-9d8b-4b8c-8c22-33cb27eeca5e');\n",
              "          const dataTable =\n",
              "            await google.colab.kernel.invokeFunction('convertToInteractive',\n",
              "                                                     [key], {});\n",
              "          if (!dataTable) return;\n",
              "\n",
              "          const docLinkHtml = 'Like what you see? Visit the ' +\n",
              "            '<a target=\"_blank\" href=https://colab.research.google.com/notebooks/data_table.ipynb>data table notebook</a>'\n",
              "            + ' to learn more about interactive tables.';\n",
              "          element.innerHTML = '';\n",
              "          dataTable['output_type'] = 'display_data';\n",
              "          await google.colab.output.renderOutput(dataTable, element);\n",
              "          const docLink = document.createElement('div');\n",
              "          docLink.innerHTML = docLinkHtml;\n",
              "          element.appendChild(docLink);\n",
              "        }\n",
              "      </script>\n",
              "    </div>\n",
              "  </div>\n",
              "  "
            ]
          },
          "metadata": {},
          "execution_count": 78
        }
      ]
    },
    {
      "cell_type": "code",
      "source": [
        "plt.figure(figsize=(8,5))\n",
        "plt.plot(train_data.Close ,label=\"Training\")\n",
        "plt.plot(test_data.Close ,label=\"Test\")\n",
        "plt.plot(prediction_SARIMAX_1.Predictions_scaled_SARIMAX_1, label=\"Predicted_Sarimax\")\n",
        "plt.legend(loc = 'upper left')\n",
        "plt.show()"
      ],
      "metadata": {
        "colab": {
          "base_uri": "https://localhost:8080/",
          "height": 320
        },
        "outputId": "aad3e24e-939a-4324-b0ee-e08c3706c8e0",
        "id": "vVvGEtkreikB"
      },
      "execution_count": null,
      "outputs": [
        {
          "output_type": "display_data",
          "data": {
            "text/plain": [
              "<Figure size 576x360 with 1 Axes>"
            ],
            "image/png": "[encoded data removed]"
          },
          "metadata": {
            "needs_background": "light"
          }
        }
      ]
    },
    {
      "cell_type": "code",
      "source": [
        "def evaluate_prediction(predicted, actual, model_name):\n",
        "        mse = mean_squared_error(predicted, actual)\n",
        "        rsme = np.sqrt((mean_squared_error(predicted, actual)))\n",
        "        mae = mean_absolute_error(actual, predicted)\n",
        "        r2 = r2_score(actual, predicted)\n",
        "        max_err = max_error(actual, predicted)\n",
        "        print(colored(model_name + ' performance:', 'red'))\n",
        "        print('R^2: {:.4f} %'.format(r2 * 100))\n",
        "        print('Mean Absolute Error: {:.4f}'.format(mae))\n",
        "        print('Mean Squared Error: {:.4f}'.format(mse))\n",
        "        print('Root Mean Squared Error: {:.4f}'.format(rsme))\n",
        "        print('Max_error: {:.4f}'.format(max_err))\n",
        "        print('')\n",
        "        return\n",
        "\n",
        "evaluate_prediction(prediction_SARIMAX_1.Predictions_scaled_SARIMAX_1, test_data.Close, 'SARIMAX')"
      ],
      "metadata": {
        "colab": {
          "base_uri": "https://localhost:8080/"
        },
        "outputId": "72b04556-05c4-4451-a0c4-6a8ab2f04625",
        "id": "RLrhNL8teikB"
      },
      "execution_count": null,
      "outputs": [
        {
          "output_type": "stream",
          "name": "stdout",
          "text": [
            "\u001b[31mSARIMAX performance:\u001b[0m\n",
            "R^2: 99.9178 %\n",
            "Mean Absolute Error: 0.4632\n",
            "Mean Squared Error: 0.4759\n",
            "Root Mean Squared Error: 0.6898\n",
            "Max_error: 6.8418\n",
            "\n"
          ]
        }
      ]
    }
  ]
}