{
  "cells": [
    {
      "cell_type": "markdown",
      "metadata": {
        "id": "view-in-github",
        "colab_type": "text"
      },
      "source": [
        "<a href=\"https://colab.research.google.com/github/FrancLis/Multivariate-Time-Series-Forecasting/blob/main/7b_LSTM_Hyperparameter_Tuning_Talos.ipynb\" target=\"_parent\"><img src=\"https://colab.research.google.com/assets/colab-badge.svg\" alt=\"Open In Colab\"/></a>"
      ]
    },
    {
      "cell_type": "markdown",
      "metadata": {
        "id": "1C5D4-G1XC32"
      },
      "source": [
        "## Hyperparameter Tuning"
      ]
    },
    {
      "cell_type": "markdown",
      "metadata": {
        "id": "wzeMYy1p4Lp9"
      },
      "source": [
        "In this notebook is shown the code used for some experiments of Hyperparameter tuning made using the library Talos."
      ]
    },
    {
      "cell_type": "code",
      "execution_count": null,
      "metadata": {
        "colab": {
          "base_uri": "https://localhost:8080/"
        },
        "id": "j3_7phLIJtws",
        "outputId": "91aab905-00ec-4ea2-b15e-0fded8b6f7f0"
      },
      "outputs": [
        {
          "output_type": "stream",
          "name": "stdout",
          "text": [
            "Requirement already satisfied: talos in /usr/local/lib/python3.7/dist-packages (1.2.3)\n",
            "Requirement already satisfied: numpy in /usr/local/lib/python3.7/dist-packages (from talos) (1.21.6)\n",
            "Requirement already satisfied: requests in /usr/local/lib/python3.7/dist-packages (from talos) (2.23.0)\n",
            "Requirement already satisfied: statsmodels>=0.11.0 in /usr/local/lib/python3.7/dist-packages (from talos) (0.13.2)\n",
            "Requirement already satisfied: kerasplotlib in /usr/local/lib/python3.7/dist-packages (from talos) (1.0)\n",
            "Requirement already satisfied: astetik in /usr/local/lib/python3.7/dist-packages (from talos) (1.12)\n",
            "Requirement already satisfied: pandas in /usr/local/lib/python3.7/dist-packages (from talos) (1.3.5)\n",
            "Requirement already satisfied: tqdm in /usr/local/lib/python3.7/dist-packages (from talos) (4.64.0)\n",
            "Requirement already satisfied: wrangle in /usr/local/lib/python3.7/dist-packages (from talos) (0.7.2)\n",
            "Requirement already satisfied: tensorflow>=2.0.0 in /usr/local/lib/python3.7/dist-packages (from talos) (2.8.0)\n",
            "Requirement already satisfied: chances in /usr/local/lib/python3.7/dist-packages (from talos) (0.1.9)\n",
            "Requirement already satisfied: sklearn in /usr/local/lib/python3.7/dist-packages (from talos) (0.0)\n",
            "Requirement already satisfied: patsy>=0.5.2 in /usr/local/lib/python3.7/dist-packages (from statsmodels>=0.11.0->talos) (0.5.2)\n",
            "Requirement already satisfied: scipy>=1.3 in /usr/local/lib/python3.7/dist-packages (from statsmodels>=0.11.0->talos) (1.4.1)\n",
            "Requirement already satisfied: packaging>=21.3 in /usr/local/lib/python3.7/dist-packages (from statsmodels>=0.11.0->talos) (21.3)\n",
            "Requirement already satisfied: pyparsing!=3.0.5,>=2.0.2 in /usr/local/lib/python3.7/dist-packages (from packaging>=21.3->statsmodels>=0.11.0->talos) (3.0.8)\n",
            "Requirement already satisfied: python-dateutil>=2.7.3 in /usr/local/lib/python3.7/dist-packages (from pandas->talos) (2.8.2)\n",
            "Requirement already satisfied: pytz>=2017.3 in /usr/local/lib/python3.7/dist-packages (from pandas->talos) (2022.1)\n",
            "Requirement already satisfied: six in /usr/local/lib/python3.7/dist-packages (from patsy>=0.5.2->statsmodels>=0.11.0->talos) (1.15.0)\n",
            "Requirement already satisfied: keras-preprocessing>=1.1.1 in /usr/local/lib/python3.7/dist-packages (from tensorflow>=2.0.0->talos) (1.1.2)\n",
            "Requirement already satisfied: libclang>=9.0.1 in /usr/local/lib/python3.7/dist-packages (from tensorflow>=2.0.0->talos) (13.0.0)\n",
            "Requirement already satisfied: opt-einsum>=2.3.2 in /usr/local/lib/python3.7/dist-packages (from tensorflow>=2.0.0->talos) (3.3.0)\n",
            "Requirement already satisfied: gast>=0.2.1 in /usr/local/lib/python3.7/dist-packages (from tensorflow>=2.0.0->talos) (0.5.3)\n",
            "Requirement already satisfied: grpcio<2.0,>=1.24.3 in /usr/local/lib/python3.7/dist-packages (from tensorflow>=2.0.0->talos) (1.44.0)\n",
            "Requirement already satisfied: tf-estimator-nightly==2.8.0.dev2021122109 in /usr/local/lib/python3.7/dist-packages (from tensorflow>=2.0.0->talos) (2.8.0.dev2021122109)\n",
            "Requirement already satisfied: flatbuffers>=1.12 in /usr/local/lib/python3.7/dist-packages (from tensorflow>=2.0.0->talos) (2.0)\n",
            "Requirement already satisfied: protobuf>=3.9.2 in /usr/local/lib/python3.7/dist-packages (from tensorflow>=2.0.0->talos) (3.17.3)\n",
            "Requirement already satisfied: typing-extensions>=3.6.6 in /usr/local/lib/python3.7/dist-packages (from tensorflow>=2.0.0->talos) (4.2.0)\n",
            "Requirement already satisfied: google-pasta>=0.1.1 in /usr/local/lib/python3.7/dist-packages (from tensorflow>=2.0.0->talos) (0.2.0)\n",
            "Requirement already satisfied: termcolor>=1.1.0 in /usr/local/lib/python3.7/dist-packages (from tensorflow>=2.0.0->talos) (1.1.0)\n",
            "Requirement already satisfied: setuptools in /usr/local/lib/python3.7/dist-packages (from tensorflow>=2.0.0->talos) (57.4.0)\n",
            "Requirement already satisfied: h5py>=2.9.0 in /usr/local/lib/python3.7/dist-packages (from tensorflow>=2.0.0->talos) (3.1.0)\n",
            "Requirement already satisfied: tensorflow-io-gcs-filesystem>=0.23.1 in /usr/local/lib/python3.7/dist-packages (from tensorflow>=2.0.0->talos) (0.24.0)\n",
            "Requirement already satisfied: keras<2.9,>=2.8.0rc0 in /usr/local/lib/python3.7/dist-packages (from tensorflow>=2.0.0->talos) (2.8.0)\n",
            "Requirement already satisfied: tensorboard<2.9,>=2.8 in /usr/local/lib/python3.7/dist-packages (from tensorflow>=2.0.0->talos) (2.8.0)\n",
            "Requirement already satisfied: wrapt>=1.11.0 in /usr/local/lib/python3.7/dist-packages (from tensorflow>=2.0.0->talos) (1.14.0)\n",
            "Requirement already satisfied: absl-py>=0.4.0 in /usr/local/lib/python3.7/dist-packages (from tensorflow>=2.0.0->talos) (1.0.0)\n",
            "Requirement already satisfied: astunparse>=1.6.0 in /usr/local/lib/python3.7/dist-packages (from tensorflow>=2.0.0->talos) (1.6.3)\n",
            "Requirement already satisfied: wheel<1.0,>=0.23.0 in /usr/local/lib/python3.7/dist-packages (from astunparse>=1.6.0->tensorflow>=2.0.0->talos) (0.37.1)\n",
            "Requirement already satisfied: cached-property in /usr/local/lib/python3.7/dist-packages (from h5py>=2.9.0->tensorflow>=2.0.0->talos) (1.5.2)\n",
            "Requirement already satisfied: tensorboard-plugin-wit>=1.6.0 in /usr/local/lib/python3.7/dist-packages (from tensorboard<2.9,>=2.8->tensorflow>=2.0.0->talos) (1.8.1)\n",
            "Requirement already satisfied: google-auth<3,>=1.6.3 in /usr/local/lib/python3.7/dist-packages (from tensorboard<2.9,>=2.8->tensorflow>=2.0.0->talos) (1.35.0)\n",
            "Requirement already satisfied: werkzeug>=0.11.15 in /usr/local/lib/python3.7/dist-packages (from tensorboard<2.9,>=2.8->tensorflow>=2.0.0->talos) (1.0.1)\n",
            "Requirement already satisfied: tensorboard-data-server<0.7.0,>=0.6.0 in /usr/local/lib/python3.7/dist-packages (from tensorboard<2.9,>=2.8->tensorflow>=2.0.0->talos) (0.6.1)\n",
            "Requirement already satisfied: markdown>=2.6.8 in /usr/local/lib/python3.7/dist-packages (from tensorboard<2.9,>=2.8->tensorflow>=2.0.0->talos) (3.3.6)\n",
            "Requirement already satisfied: google-auth-oauthlib<0.5,>=0.4.1 in /usr/local/lib/python3.7/dist-packages (from tensorboard<2.9,>=2.8->tensorflow>=2.0.0->talos) (0.4.6)\n",
            "Requirement already satisfied: rsa<5,>=3.1.4 in /usr/local/lib/python3.7/dist-packages (from google-auth<3,>=1.6.3->tensorboard<2.9,>=2.8->tensorflow>=2.0.0->talos) (4.8)\n",
            "Requirement already satisfied: cachetools<5.0,>=2.0.0 in /usr/local/lib/python3.7/dist-packages (from google-auth<3,>=1.6.3->tensorboard<2.9,>=2.8->tensorflow>=2.0.0->talos) (4.2.4)\n",
            "Requirement already satisfied: pyasn1-modules>=0.2.1 in /usr/local/lib/python3.7/dist-packages (from google-auth<3,>=1.6.3->tensorboard<2.9,>=2.8->tensorflow>=2.0.0->talos) (0.2.8)\n",
            "Requirement already satisfied: requests-oauthlib>=0.7.0 in /usr/local/lib/python3.7/dist-packages (from google-auth-oauthlib<0.5,>=0.4.1->tensorboard<2.9,>=2.8->tensorflow>=2.0.0->talos) (1.3.1)\n",
            "Requirement already satisfied: importlib-metadata>=4.4 in /usr/local/lib/python3.7/dist-packages (from markdown>=2.6.8->tensorboard<2.9,>=2.8->tensorflow>=2.0.0->talos) (4.11.3)\n",
            "Requirement already satisfied: zipp>=0.5 in /usr/local/lib/python3.7/dist-packages (from importlib-metadata>=4.4->markdown>=2.6.8->tensorboard<2.9,>=2.8->tensorflow>=2.0.0->talos) (3.8.0)\n",
            "Requirement already satisfied: pyasn1<0.5.0,>=0.4.6 in /usr/local/lib/python3.7/dist-packages (from pyasn1-modules>=0.2.1->google-auth<3,>=1.6.3->tensorboard<2.9,>=2.8->tensorflow>=2.0.0->talos) (0.4.8)\n",
            "Requirement already satisfied: chardet<4,>=3.0.2 in /usr/local/lib/python3.7/dist-packages (from requests->talos) (3.0.4)\n",
            "Requirement already satisfied: certifi>=2017.4.17 in /usr/local/lib/python3.7/dist-packages (from requests->talos) (2021.10.8)\n",
            "Requirement already satisfied: urllib3!=1.25.0,!=1.25.1,<1.26,>=1.21.1 in /usr/local/lib/python3.7/dist-packages (from requests->talos) (1.24.3)\n",
            "Requirement already satisfied: idna<3,>=2.5 in /usr/local/lib/python3.7/dist-packages (from requests->talos) (2.10)\n",
            "Requirement already satisfied: oauthlib>=3.0.0 in /usr/local/lib/python3.7/dist-packages (from requests-oauthlib>=0.7.0->google-auth-oauthlib<0.5,>=0.4.1->tensorboard<2.9,>=2.8->tensorflow>=2.0.0->talos) (3.2.0)\n",
            "Requirement already satisfied: seaborn in /usr/local/lib/python3.7/dist-packages (from astetik->talos) (0.11.2)\n",
            "Requirement already satisfied: geonamescache in /usr/local/lib/python3.7/dist-packages (from astetik->talos) (1.3.0)\n",
            "Requirement already satisfied: IPython in /usr/local/lib/python3.7/dist-packages (from astetik->talos) (5.5.0)\n",
            "Requirement already satisfied: pickleshare in /usr/local/lib/python3.7/dist-packages (from IPython->astetik->talos) (0.7.5)\n",
            "Requirement already satisfied: simplegeneric>0.8 in /usr/local/lib/python3.7/dist-packages (from IPython->astetik->talos) (0.8.1)\n",
            "Requirement already satisfied: pygments in /usr/local/lib/python3.7/dist-packages (from IPython->astetik->talos) (2.6.1)\n",
            "Requirement already satisfied: decorator in /usr/local/lib/python3.7/dist-packages (from IPython->astetik->talos) (4.4.2)\n",
            "Requirement already satisfied: traitlets>=4.2 in /usr/local/lib/python3.7/dist-packages (from IPython->astetik->talos) (5.1.1)\n",
            "Requirement already satisfied: pexpect in /usr/local/lib/python3.7/dist-packages (from IPython->astetik->talos) (4.8.0)\n",
            "Requirement already satisfied: prompt-toolkit<2.0.0,>=1.0.4 in /usr/local/lib/python3.7/dist-packages (from IPython->astetik->talos) (1.0.18)\n",
            "Requirement already satisfied: wcwidth in /usr/local/lib/python3.7/dist-packages (from prompt-toolkit<2.0.0,>=1.0.4->IPython->astetik->talos) (0.2.5)\n",
            "Requirement already satisfied: matplotlib in /usr/local/lib/python3.7/dist-packages (from kerasplotlib->talos) (3.2.2)\n",
            "Requirement already satisfied: cycler>=0.10 in /usr/local/lib/python3.7/dist-packages (from matplotlib->kerasplotlib->talos) (0.11.0)\n",
            "Requirement already satisfied: kiwisolver>=1.0.1 in /usr/local/lib/python3.7/dist-packages (from matplotlib->kerasplotlib->talos) (1.4.2)\n",
            "Requirement already satisfied: ptyprocess>=0.5 in /usr/local/lib/python3.7/dist-packages (from pexpect->IPython->astetik->talos) (0.7.0)\n",
            "Requirement already satisfied: scikit-learn in /usr/local/lib/python3.7/dist-packages (from sklearn->talos) (1.0.2)\n",
            "Requirement already satisfied: threadpoolctl>=2.0.0 in /usr/local/lib/python3.7/dist-packages (from scikit-learn->sklearn->talos) (3.1.0)\n",
            "Requirement already satisfied: joblib>=0.11 in /usr/local/lib/python3.7/dist-packages (from scikit-learn->sklearn->talos) (1.1.0)\n",
            "Requirement already satisfied: joblib in /usr/local/lib/python3.7/dist-packages (1.1.0)\n"
          ]
        }
      ],
      "source": [
        "!pip install talos\n",
        "!pip install joblib"
      ]
    },
    {
      "cell_type": "code",
      "execution_count": null,
      "metadata": {
        "id": "Xhf0TVeCAITf"
      },
      "outputs": [],
      "source": [
        "# Seed value\n",
        "# Apparently you may use different seed values at each stage\n",
        "seed_value = 0\n",
        "\n",
        "# 1. Set the `PYTHONHASHSEED` environment variable at a fixed value\n",
        "import os\n",
        "os.environ['PYTHONHASHSEED'] = str(seed_value)\n",
        "\n",
        "import numpy as np\n",
        "import tensorflow as tf\n",
        "import random as python_random\n",
        "\n",
        "# The below is necessary for starting Numpy generated random numbers\n",
        "# in a well-defined initial state.\n",
        "np.random.seed(123)\n",
        "\n",
        "# The below is necessary for starting core Python generated random numbers\n",
        "# in a well-defined state.\n",
        "python_random.seed(123)\n",
        "\n",
        "# The below set_seed() will make random number generation\n",
        "# in the TensorFlow backend have a well-defined initial state.\n",
        "# For further details, see:\n",
        "# https://www.tensorflow.org/api_docs/python/tf/random/set_seed\n",
        "tf.random.set_seed(1234)\n",
        "\n",
        "import seaborn as sns\n",
        "import pandas as pd\n",
        "import talos as ta\n",
        "from numpy import zeros, newaxis\n",
        "from matplotlib import pyplot as plt\n",
        "from joblib import dump, load\n",
        "from keras.utils.vis_utils import plot_model\n",
        "from tensorflow import keras\n",
        "from sklearn.preprocessing import MinMaxScaler, PowerTransformer, StandardScaler\n",
        "from sklearn.metrics import mean_squared_error, r2_score, max_error, mean_absolute_error\n",
        "from tensorflow.keras.optimizers import Adam, Nadam\n",
        "from tensorflow.keras.utils import plot_model\n",
        "from tensorflow.keras import Sequential, layers, callbacks\n",
        "from tensorflow.keras.layers import Input, Dense, LSTM, Dropout, GRU, Bidirectional, SimpleRNN, Conv1D, MaxPooling1D, Flatten"
      ]
    },
    {
      "cell_type": "code",
      "execution_count": null,
      "metadata": {
        "id": "A74ww2ooLwuD"
      },
      "outputs": [],
      "source": [
        "plt.style.use('seaborn')"
      ]
    },
    {
      "cell_type": "markdown",
      "metadata": {
        "id": "sBvYW-71LYh7"
      },
      "source": [
        "Load and read preprocessed data"
      ]
    },
    {
      "cell_type": "code",
      "execution_count": null,
      "metadata": {
        "colab": {
          "base_uri": "https://localhost:8080/"
        },
        "id": "gkcaZZKFd5QA",
        "outputId": "2fe8e1bf-5deb-40b9-f726-c3f5c41c6896"
      },
      "outputs": [
        {
          "output_type": "stream",
          "name": "stdout",
          "text": [
            "All shapes are: (batch, time, features)\n",
            "X_train.shape: (10495, 20, 6) y_train.shape: (10495, 1)\n",
            "X_valid.shape: (1293, 20, 6) y_valid.shape: (1293, 1)\n",
            "X_test.shape: (1294, 20, 6) y_test.shape: (1294, 1)\n"
          ]
        }
      ],
      "source": [
        "with open('Preprocessed_data_PG.npy', 'rb') as f:\n",
        "    X_train = np.load(f)\n",
        "    y_train = np.load(f)\n",
        "    X_valid = np.load(f)\n",
        "    y_valid = np.load(f)\n",
        "    X_test = np.load(f)\n",
        "    y_test = np.load(f)\n",
        "\n",
        "print('All shapes are: (batch, time, features)')\n",
        "print('X_train.shape:', X_train.shape, 'y_train.shape:', y_train.shape)\n",
        "print('X_valid.shape:', X_valid.shape, 'y_valid.shape:', y_valid.shape)\n",
        "print('X_test.shape:', X_test.shape, 'y_test.shape:', y_test.shape)"
      ]
    },
    {
      "cell_type": "code",
      "execution_count": null,
      "metadata": {
        "colab": {
          "base_uri": "https://localhost:8080/"
        },
        "id": "owBRl7zb2PwI",
        "outputId": "968d70c0-bc87-4577-c9fe-cbe38cf74e62"
      },
      "outputs": [
        {
          "output_type": "execute_result",
          "data": {
            "text/plain": [
              "array([[1.53933877],\n",
              "       [1.53832016],\n",
              "       [1.53620393],\n",
              "       ...,\n",
              "       [1.91655393],\n",
              "       [1.91238744],\n",
              "       [1.91114073]])"
            ]
          },
          "metadata": {},
          "execution_count": 5
        }
      ],
      "source": [
        "y_test"
      ]
    },
    {
      "cell_type": "markdown",
      "metadata": {
        "id": "Es-3SjBjTGax"
      },
      "source": [
        "Load scaler"
      ]
    },
    {
      "cell_type": "code",
      "execution_count": null,
      "metadata": {
        "id": "LDFUkU63TGsE"
      },
      "outputs": [],
      "source": [
        "scaler = load('PowerTransformer_Close_PG.joblib')"
      ]
    },
    {
      "cell_type": "markdown",
      "metadata": {
        "id": "ByOexPRLbboE"
      },
      "source": [
        "It was verified through these lines of code that the two scales were equal"
      ]
    },
    {
      "cell_type": "code",
      "execution_count": null,
      "metadata": {
        "id": "eY-by2p2bm0v"
      },
      "outputs": [],
      "source": [
        "# Those attributes are specific of MinMaxScaler. For other scalers they might change\n",
        "# if (imported_scaler.scale_ == scaler.scale_).all() and (imported_scaler.data_max_ == scaler.data_max_).all() \\\n",
        "        # and (imported_scale.data_min_ == scaler.data_min_).all() and (imported_scale.data_range_ == scaler.data_range_).all():\n",
        "   # print(\"Scalers are same\")"
      ]
    },
    {
      "cell_type": "markdown",
      "metadata": {
        "id": "sY4y8A4zc_Ix"
      },
      "source": [
        "It is necessary to import the shoe ladder then subsequently the new observations that the algorithm will predict in the future which will then be reused for the next prison prediction"
      ]
    },
    {
      "cell_type": "code",
      "execution_count": null,
      "metadata": {
        "id": "m6k_ZsXzICT8"
      },
      "outputs": [],
      "source": [
        "# from talos.utils import hidden_layers"
      ]
    },
    {
      "cell_type": "markdown",
      "metadata": {
        "id": "Yx941nYNdFkl"
      },
      "source": [
        "The Hidden layers function has been imported from the Talos library but has been modified according to the needs of the project"
      ]
    },
    {
      "cell_type": "code",
      "execution_count": null,
      "metadata": {
        "id": "DwSkU0oqhJwz"
      },
      "outputs": [],
      "source": [
        "def network_shape_customized(params, last_neuron, network_type):\n",
        "    '''Provides the ability to include network shape in experiments. If params\n",
        "    dictionary for the round contains float value for params['shapes'] then\n",
        "    a linear contraction towards the last_neuron value. The higher the value,\n",
        "    the fewer layers it takes to reach lesser than last_neuron.\n",
        "    Supports three inbuilt shapes 'brick', 'funnel', and 'triangle'.\n",
        "    params : dict\n",
        "         Scan() params for a single roundself.\n",
        "    last_neuron : int\n",
        "         Number of neurons on the output layer in the Keras model.\n",
        "    '''\n",
        "    import numpy as np\n",
        "    from talos.utils.exceptions import TalosParamsError\n",
        "\n",
        "    layers = params['hidden_layers']\n",
        "    shape = params['shapes']\n",
        "    # network_type == 0 --> SimpleRNN\n",
        "    # network_type == 1 --> GRU\n",
        "    # network_type == 2 --> LSTM\n",
        "    # network_type == 3 --> CONV1D\n",
        "    if network_type == 3:\n",
        "        first_neuron = params['first_filter']\n",
        "    else:\n",
        "        first_neuron = params['first_neuron']\n",
        "\n",
        "    out = []\n",
        "    n = first_neuron\n",
        "\n",
        "    # the case where hidden_layers is zero\n",
        "    if layers == 0:\n",
        "        return [0]\n",
        "\n",
        "    # the cases where an angle is applied\n",
        "    if isinstance(shape, float):\n",
        "\n",
        "        for i in range(layers):\n",
        "\n",
        "            n *= 1 - shape\n",
        "\n",
        "            if n > last_neuron:\n",
        "                out.append(int(n))\n",
        "            else:\n",
        "                out.append(last_neuron)\n",
        "\n",
        "    # the case where a rectantular shape is used\n",
        "    elif shape == 'brick':\n",
        "        out = [first_neuron] * layers\n",
        "\n",
        "    elif shape == 'funnel':\n",
        "        for i in range(layers + 1):\n",
        "            n -= int((first_neuron - last_neuron) / layers)\n",
        "            out.append(n)\n",
        "        out.pop(-1)\n",
        "\n",
        "    elif shape == 'triangle':\n",
        "        out = np.linspace(first_neuron,\n",
        "                          last_neuron,\n",
        "                          layers + 2,\n",
        "                          dtype=int).tolist()\n",
        "\n",
        "        out.pop(0)\n",
        "        out.pop(-1)\n",
        "        out.reverse()\n",
        "\n",
        "    else:\n",
        "        message = \"'shapes' must be float or in ['funnel', 'brick', 'triangle']\"\n",
        "        raise TalosParamsError(message)\n",
        "\n",
        "    return out\n",
        "\n",
        "\n",
        "def hidden_layers_customized(model, params, last_neuron, network_type):\n",
        "    '''HIDDEN LAYER Generator\n",
        "\n",
        "    NOTE: 'shapes', 'first_neuron', 'dropout', and 'hidden_layers' need\n",
        "    to be present in the params dictionary.\n",
        "\n",
        "    Hidden layer generation for the cases where number\n",
        "    of layers is used as a variable in the optimization process.\n",
        "    Handles things in a way where any number of layers can be tried\n",
        "    with matching hyperparameters.'''\n",
        "\n",
        "    # check for the params that are required for hidden_layers\n",
        "\n",
        "    from tensorflow.keras.layers import Dense, Dropout, Conv1D, MaxPooling1D, SimpleRNN, GRU, LSTM\n",
        "    # from .network_shape import network_shape\n",
        "    from talos.utils.exceptions import TalosParamsError\n",
        "\n",
        "    if network_type != 3:\n",
        "        required = ['shapes', 'first_neuron', 'hidden_layers',]\n",
        "    else:\n",
        "        required = ['shapes', 'first_filter', 'hidden_layers', 'kernel_size',]\n",
        "\n",
        "    for param in required:\n",
        "        if param not in params:\n",
        "            message = \"hidden_layers requires '\" + param + \"' in params\"\n",
        "            raise TalosParamsError(message)\n",
        "\n",
        "    layer_neurons = network_shape_customized(params, last_neuron, network_type)\n",
        "    # network_type == 0 --> SimpleRNN\n",
        "    # network_type == 1 --> LSTM\n",
        "    # network_type == 2 --> GRU\n",
        "    # network_type == 3 --> CONV1D\n",
        "    from keras.regularizers import l2\n",
        "    if network_type == 0:\n",
        "        for i in range(params['hidden_layers']):\n",
        "            if params['hidden_layers'] == 0:\n",
        "                model.add(SimpleRNN(layer_neurons[i], return_sequences=False,\n",
        "                                    kernel_regularizer=keras.regularizers.l2(0.01),\n",
        "                                    activity_regularizer=keras.regularizers.l2(0.1),))\n",
        "            else:\n",
        "                if i == params['hidden_layers'] - 1:\n",
        "                    model.add(SimpleRNN(layer_neurons[i], return_sequences=False,\n",
        "                                        kernel_regularizer=keras.regularizers.l2(0.01),\n",
        "                                        activity_regularizer=keras.regularizers.l2(0.1),))\n",
        "                else:\n",
        "                    model.add(SimpleRNN(layer_neurons[i], return_sequences=True,\n",
        "                                        kernel_regularizer=keras.regularizers.l2(0.01),\n",
        "                                        activity_regularizer=keras.regularizers.l2(0.1),))\n",
        "    elif network_type == 1:\n",
        "        for i in range(params['hidden_layers']):\n",
        "            if params['hidden_layers'] == 0:\n",
        "                model.add(LSTM(layer_neurons[i], return_sequences=False,\n",
        "                               kernel_regularizer=keras.regularizers.l2(0.01),\n",
        "                               activity_regularizer=keras.regularizers.l2(0.01),))\n",
        "            else:\n",
        "                if i == params['hidden_layers'] - 1:\n",
        "                    model.add(LSTM(layer_neurons[i], return_sequences=False,\n",
        "                                   kernel_regularizer=keras.regularizers.l2(0.01),\n",
        "                                   activity_regularizer=keras.regularizers.l2(0.01),))\n",
        "                else:\n",
        "                    model.add(LSTM(layer_neurons[i], return_sequences=True, \n",
        "                                   kernel_regularizer=keras.regularizers.l2(0.01),\n",
        "                                   activity_regularizer=keras.regularizers.l2(0.01),))\n",
        "    elif network_type == 2:\n",
        "        for i in range(params['hidden_layers']):\n",
        "            if params['hidden_layers'] == 0:\n",
        "                model.add(GRU(layer_neurons[i], return_sequences=False,\n",
        "                              kernel_regularizer=keras.regularizers.l2(0.01),\n",
        "                              activity_regularizer=keras.regularizers.l2(0.1),))\n",
        "            else:\n",
        "                if i == params['hidden_layers'] - 1:\n",
        "                    model.add(GRU(layer_neurons[i], return_sequences=False,\n",
        "                                  kernel_regularizer=keras.regularizers.l2(0.01),\n",
        "                                   activity_regularizer=keras.regularizers.l2(0.1),))\n",
        "                else:\n",
        "                    model.add(GRU(layer_neurons[i], return_sequences=True,\n",
        "                                  kernel_regularizer=keras.regularizers.l2(0.01),\n",
        "                                   activity_regularizer=keras.regularizers.l2(0.1),))\n",
        "\n",
        "    elif network_type == 3:\n",
        "        for i in range(params['hidden_layers']):\n",
        "            model.add(Conv1D(layer_neurons[i],\n",
        "                             kernel_size=params.get('kernel_size'),\n",
        "                             padding='same', activation='relu'))\n",
        "            model.add(MaxPooling1D(pool_size=2, padding='same'))\n",
        "            model.add(Dropout(0))\n",
        "    else:\n",
        "        message = \"Model not supported\"\n",
        "        raise TalosParamsError(message)"
      ]
    },
    {
      "cell_type": "markdown",
      "metadata": {
        "id": "NsPx9xDbEa3R"
      },
      "source": [
        "#### 3.2 Long Short Term Memory (LSTM)"
      ]
    },
    {
      "cell_type": "code",
      "execution_count": null,
      "metadata": {
        "id": "M93LBfGTuvgp"
      },
      "outputs": [],
      "source": [
        "def lstm_fn(x_train, y_train, x_val, y_val, params):\n",
        "\t  # Step 1: reset the tensorflow backend session.\n",
        "    tf.keras.backend.clear_session()\n",
        "    # Step 2: Define the model with variable hyperparameters.\n",
        "    # dropout = float(params['dropout'])\n",
        "    lr = float(params['lr'])\n",
        "    model = Sequential()\n",
        "    model.add(Input(shape=(X_train.shape[1], X_train.shape[2])))\n",
        "    hidden_layers_customized(model, params, y_train.shape[1], 1)\n",
        "    model.add(Dropout(0))\n",
        "    model.add(Dense(y_train.shape[1]))\n",
        "    \n",
        "    model.compile(\n",
        "        loss='mse',\n",
        "        # optimizer = 'Adam',\n",
        "        optimizer = params['optimiz'](learning_rate=lr),\n",
        "    )\n",
        "\n",
        "    stop_early = tf.keras.callbacks.EarlyStopping(monitor='val_loss', patience=15, restore_best_weights=True)\n",
        "    \n",
        "    history = model.fit(\n",
        "        x_train, y_train, \n",
        "        epochs=params['epochs'], \n",
        "        batch_size=params['batch_size'], \n",
        "        verbose=0,\n",
        "        validation_data=[x_val, y_val],\n",
        "        callbacks=[stop_early], \n",
        "    )\n",
        "\n",
        "    return history, model, \n",
        "\n",
        "\n",
        "para = {\n",
        "    'batch_size': [64, 32, 16], \n",
        "    'epochs': [27, 30, 32, 40],         # 100, 200\n",
        "    'shapes': ['brick'],                # 'triangle', 'funnel' <<< required\n",
        "    'first_neuron': [35, 30, 15, 10],                      # <<< required\n",
        "    'hidden_layers': [1],                                  # <<< required\n",
        "     # 'dropout': [0],  # 0.25                             # <<< required\n",
        "     'optimiz': [Adam],\n",
        "     'lr': [0.001] \n",
        "}\n"
      ]
    },
    {
      "cell_type": "code",
      "execution_count": null,
      "metadata": {
        "colab": {
          "base_uri": "https://localhost:8080/"
        },
        "id": "sUnphFCHI9X8",
        "outputId": "47db57e0-544a-4b2f-a3b4-7f4700f409ee"
      },
      "outputs": [
        {
          "output_type": "stream",
          "name": "stderr",
          "text": [
            "\r  0%|          | 0/48 [00:00<?, ?it/s]"
          ]
        },
        {
          "output_type": "stream",
          "name": "stdout",
          "text": [
            "{'batch_size': 64, 'epochs': 27, 'first_neuron': 35, 'hidden_layers': 1, 'lr': 0.001, 'optimiz': <class 'keras.optimizer_v2.adam.Adam'>, 'shapes': 'brick'}\n"
          ]
        },
        {
          "output_type": "stream",
          "name": "stderr",
          "text": [
            "\r  2%|▏         | 1/48 [01:09<54:23, 69.43s/it]"
          ]
        },
        {
          "output_type": "stream",
          "name": "stdout",
          "text": [
            "{'batch_size': 64, 'epochs': 27, 'first_neuron': 30, 'hidden_layers': 1, 'lr': 0.001, 'optimiz': <class 'keras.optimizer_v2.adam.Adam'>, 'shapes': 'brick'}\n"
          ]
        },
        {
          "output_type": "stream",
          "name": "stderr",
          "text": [
            "\r  4%|▍         | 2/48 [02:33<1:00:00, 78.27s/it]"
          ]
        },
        {
          "output_type": "stream",
          "name": "stdout",
          "text": [
            "{'batch_size': 64, 'epochs': 27, 'first_neuron': 15, 'hidden_layers': 1, 'lr': 0.001, 'optimiz': <class 'keras.optimizer_v2.adam.Adam'>, 'shapes': 'brick'}\n"
          ]
        },
        {
          "output_type": "stream",
          "name": "stderr",
          "text": [
            "\r  6%|▋         | 3/48 [03:19<47:36, 63.48s/it]  "
          ]
        },
        {
          "output_type": "stream",
          "name": "stdout",
          "text": [
            "{'batch_size': 64, 'epochs': 27, 'first_neuron': 10, 'hidden_layers': 1, 'lr': 0.001, 'optimiz': <class 'keras.optimizer_v2.adam.Adam'>, 'shapes': 'brick'}\n"
          ]
        },
        {
          "output_type": "stream",
          "name": "stderr",
          "text": [
            "\r  8%|▊         | 4/48 [04:44<52:38, 71.78s/it]"
          ]
        },
        {
          "output_type": "stream",
          "name": "stdout",
          "text": [
            "{'batch_size': 64, 'epochs': 30, 'first_neuron': 35, 'hidden_layers': 1, 'lr': 0.001, 'optimiz': <class 'keras.optimizer_v2.adam.Adam'>, 'shapes': 'brick'}\n"
          ]
        },
        {
          "output_type": "stream",
          "name": "stderr",
          "text": [
            "\r 10%|█         | 5/48 [06:08<54:43, 76.36s/it]"
          ]
        },
        {
          "output_type": "stream",
          "name": "stdout",
          "text": [
            "{'batch_size': 64, 'epochs': 30, 'first_neuron': 30, 'hidden_layers': 1, 'lr': 0.001, 'optimiz': <class 'keras.optimizer_v2.adam.Adam'>, 'shapes': 'brick'}\n"
          ]
        },
        {
          "output_type": "stream",
          "name": "stderr",
          "text": [
            "\r 12%|█▎        | 6/48 [07:03<48:14, 68.92s/it]"
          ]
        },
        {
          "output_type": "stream",
          "name": "stdout",
          "text": [
            "{'batch_size': 64, 'epochs': 30, 'first_neuron': 15, 'hidden_layers': 1, 'lr': 0.001, 'optimiz': <class 'keras.optimizer_v2.adam.Adam'>, 'shapes': 'brick'}\n"
          ]
        },
        {
          "output_type": "stream",
          "name": "stderr",
          "text": [
            "\r 15%|█▍        | 7/48 [07:54<43:03, 63.02s/it]"
          ]
        },
        {
          "output_type": "stream",
          "name": "stdout",
          "text": [
            "{'batch_size': 64, 'epochs': 30, 'first_neuron': 10, 'hidden_layers': 1, 'lr': 0.001, 'optimiz': <class 'keras.optimizer_v2.adam.Adam'>, 'shapes': 'brick'}\n"
          ]
        },
        {
          "output_type": "stream",
          "name": "stderr",
          "text": [
            "\r 17%|█▋        | 8/48 [09:18<46:34, 69.86s/it]"
          ]
        },
        {
          "output_type": "stream",
          "name": "stdout",
          "text": [
            "{'batch_size': 64, 'epochs': 32, 'first_neuron': 35, 'hidden_layers': 1, 'lr': 0.001, 'optimiz': <class 'keras.optimizer_v2.adam.Adam'>, 'shapes': 'brick'}\n"
          ]
        },
        {
          "output_type": "stream",
          "name": "stderr",
          "text": [
            "\r 19%|█▉        | 9/48 [10:22<44:06, 67.86s/it]"
          ]
        },
        {
          "output_type": "stream",
          "name": "stdout",
          "text": [
            "{'batch_size': 64, 'epochs': 32, 'first_neuron': 30, 'hidden_layers': 1, 'lr': 0.001, 'optimiz': <class 'keras.optimizer_v2.adam.Adam'>, 'shapes': 'brick'}\n"
          ]
        },
        {
          "output_type": "stream",
          "name": "stderr",
          "text": [
            "\r 21%|██        | 10/48 [11:46<46:13, 72.99s/it]"
          ]
        },
        {
          "output_type": "stream",
          "name": "stdout",
          "text": [
            "{'batch_size': 64, 'epochs': 32, 'first_neuron': 15, 'hidden_layers': 1, 'lr': 0.001, 'optimiz': <class 'keras.optimizer_v2.adam.Adam'>, 'shapes': 'brick'}\n"
          ]
        },
        {
          "output_type": "stream",
          "name": "stderr",
          "text": [
            "\r 23%|██▎       | 11/48 [12:44<42:05, 68.26s/it]"
          ]
        },
        {
          "output_type": "stream",
          "name": "stdout",
          "text": [
            "{'batch_size': 64, 'epochs': 32, 'first_neuron': 10, 'hidden_layers': 1, 'lr': 0.001, 'optimiz': <class 'keras.optimizer_v2.adam.Adam'>, 'shapes': 'brick'}\n"
          ]
        },
        {
          "output_type": "stream",
          "name": "stderr",
          "text": [
            "\r 25%|██▌       | 12/48 [13:40<38:42, 64.50s/it]"
          ]
        },
        {
          "output_type": "stream",
          "name": "stdout",
          "text": [
            "{'batch_size': 64, 'epochs': 40, 'first_neuron': 35, 'hidden_layers': 1, 'lr': 0.001, 'optimiz': <class 'keras.optimizer_v2.adam.Adam'>, 'shapes': 'brick'}\n"
          ]
        },
        {
          "output_type": "stream",
          "name": "stderr",
          "text": [
            "\r 27%|██▋       | 13/48 [15:04<41:10, 70.59s/it]"
          ]
        },
        {
          "output_type": "stream",
          "name": "stdout",
          "text": [
            "{'batch_size': 64, 'epochs': 40, 'first_neuron': 30, 'hidden_layers': 1, 'lr': 0.001, 'optimiz': <class 'keras.optimizer_v2.adam.Adam'>, 'shapes': 'brick'}\n"
          ]
        },
        {
          "output_type": "stream",
          "name": "stderr",
          "text": [
            "\r 29%|██▉       | 14/48 [16:29<42:23, 74.80s/it]"
          ]
        },
        {
          "output_type": "stream",
          "name": "stdout",
          "text": [
            "{'batch_size': 64, 'epochs': 40, 'first_neuron': 15, 'hidden_layers': 1, 'lr': 0.001, 'optimiz': <class 'keras.optimizer_v2.adam.Adam'>, 'shapes': 'brick'}\n"
          ]
        },
        {
          "output_type": "stream",
          "name": "stderr",
          "text": [
            "\r 31%|███▏      | 15/48 [17:39<40:19, 73.33s/it]"
          ]
        },
        {
          "output_type": "stream",
          "name": "stdout",
          "text": [
            "{'batch_size': 64, 'epochs': 40, 'first_neuron': 10, 'hidden_layers': 1, 'lr': 0.001, 'optimiz': <class 'keras.optimizer_v2.adam.Adam'>, 'shapes': 'brick'}\n"
          ]
        },
        {
          "output_type": "stream",
          "name": "stderr",
          "text": [
            "\r 33%|███▎      | 16/48 [18:49<38:35, 72.37s/it]"
          ]
        },
        {
          "output_type": "stream",
          "name": "stdout",
          "text": [
            "{'batch_size': 32, 'epochs': 27, 'first_neuron': 35, 'hidden_layers': 1, 'lr': 0.001, 'optimiz': <class 'keras.optimizer_v2.adam.Adam'>, 'shapes': 'brick'}\n"
          ]
        },
        {
          "output_type": "stream",
          "name": "stderr",
          "text": [
            "\r 35%|███▌      | 17/48 [21:13<48:37, 94.12s/it]"
          ]
        },
        {
          "output_type": "stream",
          "name": "stdout",
          "text": [
            "{'batch_size': 32, 'epochs': 27, 'first_neuron': 30, 'hidden_layers': 1, 'lr': 0.001, 'optimiz': <class 'keras.optimizer_v2.adam.Adam'>, 'shapes': 'brick'}\n"
          ]
        },
        {
          "output_type": "stream",
          "name": "stderr",
          "text": [
            "\r 38%|███▊      | 18/48 [22:44<46:34, 93.15s/it]"
          ]
        },
        {
          "output_type": "stream",
          "name": "stdout",
          "text": [
            "{'batch_size': 32, 'epochs': 27, 'first_neuron': 15, 'hidden_layers': 1, 'lr': 0.001, 'optimiz': <class 'keras.optimizer_v2.adam.Adam'>, 'shapes': 'brick'}\n"
          ]
        },
        {
          "output_type": "stream",
          "name": "stderr",
          "text": [
            "\r 40%|███▉      | 19/48 [25:09<52:29, 108.59s/it]"
          ]
        },
        {
          "output_type": "stream",
          "name": "stdout",
          "text": [
            "{'batch_size': 32, 'epochs': 27, 'first_neuron': 10, 'hidden_layers': 1, 'lr': 0.001, 'optimiz': <class 'keras.optimizer_v2.adam.Adam'>, 'shapes': 'brick'}\n"
          ]
        },
        {
          "output_type": "stream",
          "name": "stderr",
          "text": [
            "\r 42%|████▏     | 20/48 [26:31<46:56, 100.59s/it]"
          ]
        },
        {
          "output_type": "stream",
          "name": "stdout",
          "text": [
            "{'batch_size': 32, 'epochs': 30, 'first_neuron': 35, 'hidden_layers': 1, 'lr': 0.001, 'optimiz': <class 'keras.optimizer_v2.adam.Adam'>, 'shapes': 'brick'}\n"
          ]
        },
        {
          "output_type": "stream",
          "name": "stderr",
          "text": [
            "\r 44%|████▍     | 21/48 [28:55<51:11, 113.75s/it]"
          ]
        },
        {
          "output_type": "stream",
          "name": "stdout",
          "text": [
            "{'batch_size': 32, 'epochs': 30, 'first_neuron': 30, 'hidden_layers': 1, 'lr': 0.001, 'optimiz': <class 'keras.optimizer_v2.adam.Adam'>, 'shapes': 'brick'}\n"
          ]
        },
        {
          "output_type": "stream",
          "name": "stderr",
          "text": [
            "\r 46%|████▌     | 22/48 [31:20<53:17, 122.96s/it]"
          ]
        },
        {
          "output_type": "stream",
          "name": "stdout",
          "text": [
            "{'batch_size': 32, 'epochs': 30, 'first_neuron': 15, 'hidden_layers': 1, 'lr': 0.001, 'optimiz': <class 'keras.optimizer_v2.adam.Adam'>, 'shapes': 'brick'}\n"
          ]
        },
        {
          "output_type": "stream",
          "name": "stderr",
          "text": [
            "\r 48%|████▊     | 23/48 [33:44<53:55, 129.42s/it]"
          ]
        },
        {
          "output_type": "stream",
          "name": "stdout",
          "text": [
            "{'batch_size': 32, 'epochs': 30, 'first_neuron': 10, 'hidden_layers': 1, 'lr': 0.001, 'optimiz': <class 'keras.optimizer_v2.adam.Adam'>, 'shapes': 'brick'}\n"
          ]
        },
        {
          "output_type": "stream",
          "name": "stderr",
          "text": [
            "\r 50%|█████     | 24/48 [35:14<47:04, 117.67s/it]"
          ]
        },
        {
          "output_type": "stream",
          "name": "stdout",
          "text": [
            "{'batch_size': 32, 'epochs': 32, 'first_neuron': 35, 'hidden_layers': 1, 'lr': 0.001, 'optimiz': <class 'keras.optimizer_v2.adam.Adam'>, 'shapes': 'brick'}\n"
          ]
        },
        {
          "output_type": "stream",
          "name": "stderr",
          "text": [
            "\r 52%|█████▏    | 25/48 [37:10<44:54, 117.13s/it]"
          ]
        },
        {
          "output_type": "stream",
          "name": "stdout",
          "text": [
            "{'batch_size': 32, 'epochs': 32, 'first_neuron': 30, 'hidden_layers': 1, 'lr': 0.001, 'optimiz': <class 'keras.optimizer_v2.adam.Adam'>, 'shapes': 'brick'}\n"
          ]
        },
        {
          "output_type": "stream",
          "name": "stderr",
          "text": [
            "\r 54%|█████▍    | 26/48 [39:35<45:57, 125.36s/it]"
          ]
        },
        {
          "output_type": "stream",
          "name": "stdout",
          "text": [
            "{'batch_size': 32, 'epochs': 32, 'first_neuron': 15, 'hidden_layers': 1, 'lr': 0.001, 'optimiz': <class 'keras.optimizer_v2.adam.Adam'>, 'shapes': 'brick'}\n"
          ]
        },
        {
          "output_type": "stream",
          "name": "stderr",
          "text": [
            "\r 56%|█████▋    | 27/48 [41:16<41:21, 118.17s/it]"
          ]
        },
        {
          "output_type": "stream",
          "name": "stdout",
          "text": [
            "{'batch_size': 32, 'epochs': 32, 'first_neuron': 10, 'hidden_layers': 1, 'lr': 0.001, 'optimiz': <class 'keras.optimizer_v2.adam.Adam'>, 'shapes': 'brick'}\n"
          ]
        },
        {
          "output_type": "stream",
          "name": "stderr",
          "text": [
            "\r 58%|█████▊    | 28/48 [42:52<37:07, 111.35s/it]"
          ]
        },
        {
          "output_type": "stream",
          "name": "stdout",
          "text": [
            "{'batch_size': 32, 'epochs': 40, 'first_neuron': 35, 'hidden_layers': 1, 'lr': 0.001, 'optimiz': <class 'keras.optimizer_v2.adam.Adam'>, 'shapes': 'brick'}\n"
          ]
        },
        {
          "output_type": "stream",
          "name": "stderr",
          "text": [
            "\r 60%|██████    | 29/48 [45:08<37:36, 118.76s/it]"
          ]
        },
        {
          "output_type": "stream",
          "name": "stdout",
          "text": [
            "{'batch_size': 32, 'epochs': 40, 'first_neuron': 30, 'hidden_layers': 1, 'lr': 0.001, 'optimiz': <class 'keras.optimizer_v2.adam.Adam'>, 'shapes': 'brick'}\n"
          ]
        },
        {
          "output_type": "stream",
          "name": "stderr",
          "text": [
            "\r 62%|██████▎   | 30/48 [47:20<36:52, 122.93s/it]"
          ]
        },
        {
          "output_type": "stream",
          "name": "stdout",
          "text": [
            "{'batch_size': 32, 'epochs': 40, 'first_neuron': 15, 'hidden_layers': 1, 'lr': 0.001, 'optimiz': <class 'keras.optimizer_v2.adam.Adam'>, 'shapes': 'brick'}\n"
          ]
        },
        {
          "output_type": "stream",
          "name": "stderr",
          "text": [
            "\r 65%|██████▍   | 31/48 [49:24<34:54, 123.21s/it]"
          ]
        },
        {
          "output_type": "stream",
          "name": "stdout",
          "text": [
            "{'batch_size': 32, 'epochs': 40, 'first_neuron': 10, 'hidden_layers': 1, 'lr': 0.001, 'optimiz': <class 'keras.optimizer_v2.adam.Adam'>, 'shapes': 'brick'}\n"
          ]
        },
        {
          "output_type": "stream",
          "name": "stderr",
          "text": [
            "\r 67%|██████▋   | 32/48 [51:49<34:33, 129.61s/it]"
          ]
        },
        {
          "output_type": "stream",
          "name": "stdout",
          "text": [
            "{'batch_size': 16, 'epochs': 27, 'first_neuron': 35, 'hidden_layers': 1, 'lr': 0.001, 'optimiz': <class 'keras.optimizer_v2.adam.Adam'>, 'shapes': 'brick'}\n"
          ]
        },
        {
          "output_type": "stream",
          "name": "stderr",
          "text": [
            "\r 69%|██████▉   | 33/48 [54:40<35:33, 142.22s/it]"
          ]
        },
        {
          "output_type": "stream",
          "name": "stdout",
          "text": [
            "{'batch_size': 16, 'epochs': 27, 'first_neuron': 30, 'hidden_layers': 1, 'lr': 0.001, 'optimiz': <class 'keras.optimizer_v2.adam.Adam'>, 'shapes': 'brick'}\n"
          ]
        },
        {
          "output_type": "stream",
          "name": "stderr",
          "text": [
            "\r 71%|███████   | 34/48 [58:05<37:32, 160.88s/it]"
          ]
        },
        {
          "output_type": "stream",
          "name": "stdout",
          "text": [
            "{'batch_size': 16, 'epochs': 27, 'first_neuron': 15, 'hidden_layers': 1, 'lr': 0.001, 'optimiz': <class 'keras.optimizer_v2.adam.Adam'>, 'shapes': 'brick'}\n"
          ]
        },
        {
          "output_type": "stream",
          "name": "stderr",
          "text": [
            "\r 73%|███████▎  | 35/48 [1:00:47<34:56, 161.27s/it]"
          ]
        },
        {
          "output_type": "stream",
          "name": "stdout",
          "text": [
            "{'batch_size': 16, 'epochs': 27, 'first_neuron': 10, 'hidden_layers': 1, 'lr': 0.001, 'optimiz': <class 'keras.optimizer_v2.adam.Adam'>, 'shapes': 'brick'}\n"
          ]
        },
        {
          "output_type": "stream",
          "name": "stderr",
          "text": [
            "\r 75%|███████▌  | 36/48 [1:04:12<34:51, 174.25s/it]"
          ]
        },
        {
          "output_type": "stream",
          "name": "stdout",
          "text": [
            "{'batch_size': 16, 'epochs': 30, 'first_neuron': 35, 'hidden_layers': 1, 'lr': 0.001, 'optimiz': <class 'keras.optimizer_v2.adam.Adam'>, 'shapes': 'brick'}\n"
          ]
        },
        {
          "output_type": "stream",
          "name": "stderr",
          "text": [
            "\r 77%|███████▋  | 37/48 [1:07:36<33:37, 183.37s/it]"
          ]
        },
        {
          "output_type": "stream",
          "name": "stdout",
          "text": [
            "{'batch_size': 16, 'epochs': 30, 'first_neuron': 30, 'hidden_layers': 1, 'lr': 0.001, 'optimiz': <class 'keras.optimizer_v2.adam.Adam'>, 'shapes': 'brick'}\n"
          ]
        },
        {
          "output_type": "stream",
          "name": "stderr",
          "text": [
            "\r 79%|███████▉  | 38/48 [1:11:01<31:37, 189.73s/it]"
          ]
        },
        {
          "output_type": "stream",
          "name": "stdout",
          "text": [
            "{'batch_size': 16, 'epochs': 30, 'first_neuron': 15, 'hidden_layers': 1, 'lr': 0.001, 'optimiz': <class 'keras.optimizer_v2.adam.Adam'>, 'shapes': 'brick'}\n"
          ]
        },
        {
          "output_type": "stream",
          "name": "stderr",
          "text": [
            "\r 81%|████████▏ | 39/48 [1:14:06<28:14, 188.30s/it]"
          ]
        },
        {
          "output_type": "stream",
          "name": "stdout",
          "text": [
            "{'batch_size': 16, 'epochs': 30, 'first_neuron': 10, 'hidden_layers': 1, 'lr': 0.001, 'optimiz': <class 'keras.optimizer_v2.adam.Adam'>, 'shapes': 'brick'}\n"
          ]
        },
        {
          "output_type": "stream",
          "name": "stderr",
          "text": [
            "\r 83%|████████▎ | 40/48 [1:17:06<24:46, 185.82s/it]"
          ]
        },
        {
          "output_type": "stream",
          "name": "stdout",
          "text": [
            "{'batch_size': 16, 'epochs': 32, 'first_neuron': 35, 'hidden_layers': 1, 'lr': 0.001, 'optimiz': <class 'keras.optimizer_v2.adam.Adam'>, 'shapes': 'brick'}\n"
          ]
        },
        {
          "output_type": "stream",
          "name": "stderr",
          "text": [
            "\r 85%|████████▌ | 41/48 [1:21:30<24:26, 209.43s/it]"
          ]
        },
        {
          "output_type": "stream",
          "name": "stdout",
          "text": [
            "{'batch_size': 16, 'epochs': 32, 'first_neuron': 30, 'hidden_layers': 1, 'lr': 0.001, 'optimiz': <class 'keras.optimizer_v2.adam.Adam'>, 'shapes': 'brick'}\n"
          ]
        },
        {
          "output_type": "stream",
          "name": "stderr",
          "text": [
            "\r 88%|████████▊ | 42/48 [1:24:52<20:41, 206.97s/it]"
          ]
        },
        {
          "output_type": "stream",
          "name": "stdout",
          "text": [
            "{'batch_size': 16, 'epochs': 32, 'first_neuron': 15, 'hidden_layers': 1, 'lr': 0.001, 'optimiz': <class 'keras.optimizer_v2.adam.Adam'>, 'shapes': 'brick'}\n"
          ]
        },
        {
          "output_type": "stream",
          "name": "stderr",
          "text": [
            "\r 90%|████████▉ | 43/48 [1:28:07<16:58, 203.61s/it]"
          ]
        },
        {
          "output_type": "stream",
          "name": "stdout",
          "text": [
            "{'batch_size': 16, 'epochs': 32, 'first_neuron': 10, 'hidden_layers': 1, 'lr': 0.001, 'optimiz': <class 'keras.optimizer_v2.adam.Adam'>, 'shapes': 'brick'}\n"
          ]
        },
        {
          "output_type": "stream",
          "name": "stderr",
          "text": [
            "\r 92%|█████████▏| 44/48 [1:31:28<13:30, 202.64s/it]"
          ]
        },
        {
          "output_type": "stream",
          "name": "stdout",
          "text": [
            "{'batch_size': 16, 'epochs': 40, 'first_neuron': 35, 'hidden_layers': 1, 'lr': 0.001, 'optimiz': <class 'keras.optimizer_v2.adam.Adam'>, 'shapes': 'brick'}\n"
          ]
        },
        {
          "output_type": "stream",
          "name": "stderr",
          "text": [
            "\r 94%|█████████▍| 45/48 [1:35:49<11:00, 220.12s/it]"
          ]
        },
        {
          "output_type": "stream",
          "name": "stdout",
          "text": [
            "{'batch_size': 16, 'epochs': 40, 'first_neuron': 30, 'hidden_layers': 1, 'lr': 0.001, 'optimiz': <class 'keras.optimizer_v2.adam.Adam'>, 'shapes': 'brick'}\n"
          ]
        },
        {
          "output_type": "stream",
          "name": "stderr",
          "text": [
            "\r 96%|█████████▌| 46/48 [1:41:13<08:22, 251.45s/it]"
          ]
        },
        {
          "output_type": "stream",
          "name": "stdout",
          "text": [
            "{'batch_size': 16, 'epochs': 40, 'first_neuron': 15, 'hidden_layers': 1, 'lr': 0.001, 'optimiz': <class 'keras.optimizer_v2.adam.Adam'>, 'shapes': 'brick'}\n"
          ]
        },
        {
          "output_type": "stream",
          "name": "stderr",
          "text": [
            "\r 98%|█████████▊| 47/48 [1:45:38<04:15, 255.39s/it]"
          ]
        },
        {
          "output_type": "stream",
          "name": "stdout",
          "text": [
            "{'batch_size': 16, 'epochs': 40, 'first_neuron': 10, 'hidden_layers': 1, 'lr': 0.001, 'optimiz': <class 'keras.optimizer_v2.adam.Adam'>, 'shapes': 'brick'}\n"
          ]
        },
        {
          "output_type": "stream",
          "name": "stderr",
          "text": [
            "100%|██████████| 48/48 [1:49:32<00:00, 136.92s/it]\n"
          ]
        }
      ],
      "source": [
        "# Starting of Grid search\n",
        "# Choose of model to tune\n",
        "scan_results = ta.Scan(x=X_train,\n",
        "                 y=y_train,\n",
        "                 params=para,\n",
        "                 model=lstm_fn,\n",
        "                 experiment_name='Hyperparameter_Tuning',\n",
        "                 x_val=X_valid,\n",
        "                 y_val=y_valid,\n",
        "                 # performance_target=['val_loss', 0.54, True],\n",
        "                 disable_progress_bar=False, \n",
        "                 print_params=True)"
      ]
    },
    {
      "cell_type": "markdown",
      "metadata": {
        "id": "ff2aCAAh-4DV"
      },
      "source": [
        "## 4. Model Selection"
      ]
    },
    {
      "cell_type": "code",
      "execution_count": null,
      "metadata": {
        "id": "is68QDDBmKyu",
        "colab": {
          "base_uri": "https://localhost:8080/",
          "height": 363
        },
        "outputId": "99633f18-a46a-47ab-9340-30a8051eee17"
      },
      "outputs": [
        {
          "output_type": "execute_result",
          "data": {
            "text/plain": [
              "    round_epochs      loss  val_loss  batch_size  epochs  first_neuron  \\\n",
              "41            32  0.000646  0.000701          16      32            30   \n",
              "40            32  0.000704  0.000711          16      32            35   \n",
              "36            30  0.000678  0.000723          16      30            35   \n",
              "32            27  0.000737  0.000803          16      27            35   \n",
              "42            32  0.000700  0.000837          16      32            15   \n",
              "37            30  0.000720  0.000853          16      30            30   \n",
              "38            30  0.000771  0.000905          16      30            15   \n",
              "43            32  0.000751  0.000909          16      32            10   \n",
              "33            27  0.000801  0.000927          16      27            30   \n",
              "25            32  0.000847  0.001068          32      32            30   \n",
              "\n",
              "    hidden_layers     lr                                 optimiz shapes  \n",
              "41              1  0.001  <class 'keras.optimizer_v2.adam.Adam'>  brick  \n",
              "40              1  0.001  <class 'keras.optimizer_v2.adam.Adam'>  brick  \n",
              "36              1  0.001  <class 'keras.optimizer_v2.adam.Adam'>  brick  \n",
              "32              1  0.001  <class 'keras.optimizer_v2.adam.Adam'>  brick  \n",
              "42              1  0.001  <class 'keras.optimizer_v2.adam.Adam'>  brick  \n",
              "37              1  0.001  <class 'keras.optimizer_v2.adam.Adam'>  brick  \n",
              "38              1  0.001  <class 'keras.optimizer_v2.adam.Adam'>  brick  \n",
              "43              1  0.001  <class 'keras.optimizer_v2.adam.Adam'>  brick  \n",
              "33              1  0.001  <class 'keras.optimizer_v2.adam.Adam'>  brick  \n",
              "25              1  0.001  <class 'keras.optimizer_v2.adam.Adam'>  brick  "
            ],
            "text/html": [
              "\n",
              "  <div id=\"df-959e2173-fda0-4b93-a17f-165b6c3ac4ce\">\n",
              "    <div class=\"colab-df-container\">\n",
              "      <div>\n",
              "<style scoped>\n",
              "    .dataframe tbody tr th:only-of-type {\n",
              "        vertical-align: middle;\n",
              "    }\n",
              "\n",
              "    .dataframe tbody tr th {\n",
              "        vertical-align: top;\n",
              "    }\n",
              "\n",
              "    .dataframe thead th {\n",
              "        text-align: right;\n",
              "    }\n",
              "</style>\n",
              "<table border=\"1\" class=\"dataframe\">\n",
              "  <thead>\n",
              "    <tr style=\"text-align: right;\">\n",
              "      <th></th>\n",
              "      <th>round_epochs</th>\n",
              "      <th>loss</th>\n",
              "      <th>val_loss</th>\n",
              "      <th>batch_size</th>\n",
              "      <th>epochs</th>\n",
              "      <th>first_neuron</th>\n",
              "      <th>hidden_layers</th>\n",
              "      <th>lr</th>\n",
              "      <th>optimiz</th>\n",
              "      <th>shapes</th>\n",
              "    </tr>\n",
              "  </thead>\n",
              "  <tbody>\n",
              "    <tr>\n",
              "      <th>41</th>\n",
              "      <td>32</td>\n",
              "      <td>0.000646</td>\n",
              "      <td>0.000701</td>\n",
              "      <td>16</td>\n",
              "      <td>32</td>\n",
              "      <td>30</td>\n",
              "      <td>1</td>\n",
              "      <td>0.001</td>\n",
              "      <td>&lt;class 'keras.optimizer_v2.adam.Adam'&gt;</td>\n",
              "      <td>brick</td>\n",
              "    </tr>\n",
              "    <tr>\n",
              "      <th>40</th>\n",
              "      <td>32</td>\n",
              "      <td>0.000704</td>\n",
              "      <td>0.000711</td>\n",
              "      <td>16</td>\n",
              "      <td>32</td>\n",
              "      <td>35</td>\n",
              "      <td>1</td>\n",
              "      <td>0.001</td>\n",
              "      <td>&lt;class 'keras.optimizer_v2.adam.Adam'&gt;</td>\n",
              "      <td>brick</td>\n",
              "    </tr>\n",
              "    <tr>\n",
              "      <th>36</th>\n",
              "      <td>30</td>\n",
              "      <td>0.000678</td>\n",
              "      <td>0.000723</td>\n",
              "      <td>16</td>\n",
              "      <td>30</td>\n",
              "      <td>35</td>\n",
              "      <td>1</td>\n",
              "      <td>0.001</td>\n",
              "      <td>&lt;class 'keras.optimizer_v2.adam.Adam'&gt;</td>\n",
              "      <td>brick</td>\n",
              "    </tr>\n",
              "    <tr>\n",
              "      <th>32</th>\n",
              "      <td>27</td>\n",
              "      <td>0.000737</td>\n",
              "      <td>0.000803</td>\n",
              "      <td>16</td>\n",
              "      <td>27</td>\n",
              "      <td>35</td>\n",
              "      <td>1</td>\n",
              "      <td>0.001</td>\n",
              "      <td>&lt;class 'keras.optimizer_v2.adam.Adam'&gt;</td>\n",
              "      <td>brick</td>\n",
              "    </tr>\n",
              "    <tr>\n",
              "      <th>42</th>\n",
              "      <td>32</td>\n",
              "      <td>0.000700</td>\n",
              "      <td>0.000837</td>\n",
              "      <td>16</td>\n",
              "      <td>32</td>\n",
              "      <td>15</td>\n",
              "      <td>1</td>\n",
              "      <td>0.001</td>\n",
              "      <td>&lt;class 'keras.optimizer_v2.adam.Adam'&gt;</td>\n",
              "      <td>brick</td>\n",
              "    </tr>\n",
              "    <tr>\n",
              "      <th>37</th>\n",
              "      <td>30</td>\n",
              "      <td>0.000720</td>\n",
              "      <td>0.000853</td>\n",
              "      <td>16</td>\n",
              "      <td>30</td>\n",
              "      <td>30</td>\n",
              "      <td>1</td>\n",
              "      <td>0.001</td>\n",
              "      <td>&lt;class 'keras.optimizer_v2.adam.Adam'&gt;</td>\n",
              "      <td>brick</td>\n",
              "    </tr>\n",
              "    <tr>\n",
              "      <th>38</th>\n",
              "      <td>30</td>\n",
              "      <td>0.000771</td>\n",
              "      <td>0.000905</td>\n",
              "      <td>16</td>\n",
              "      <td>30</td>\n",
              "      <td>15</td>\n",
              "      <td>1</td>\n",
              "      <td>0.001</td>\n",
              "      <td>&lt;class 'keras.optimizer_v2.adam.Adam'&gt;</td>\n",
              "      <td>brick</td>\n",
              "    </tr>\n",
              "    <tr>\n",
              "      <th>43</th>\n",
              "      <td>32</td>\n",
              "      <td>0.000751</td>\n",
              "      <td>0.000909</td>\n",
              "      <td>16</td>\n",
              "      <td>32</td>\n",
              "      <td>10</td>\n",
              "      <td>1</td>\n",
              "      <td>0.001</td>\n",
              "      <td>&lt;class 'keras.optimizer_v2.adam.Adam'&gt;</td>\n",
              "      <td>brick</td>\n",
              "    </tr>\n",
              "    <tr>\n",
              "      <th>33</th>\n",
              "      <td>27</td>\n",
              "      <td>0.000801</td>\n",
              "      <td>0.000927</td>\n",
              "      <td>16</td>\n",
              "      <td>27</td>\n",
              "      <td>30</td>\n",
              "      <td>1</td>\n",
              "      <td>0.001</td>\n",
              "      <td>&lt;class 'keras.optimizer_v2.adam.Adam'&gt;</td>\n",
              "      <td>brick</td>\n",
              "    </tr>\n",
              "    <tr>\n",
              "      <th>25</th>\n",
              "      <td>32</td>\n",
              "      <td>0.000847</td>\n",
              "      <td>0.001068</td>\n",
              "      <td>32</td>\n",
              "      <td>32</td>\n",
              "      <td>30</td>\n",
              "      <td>1</td>\n",
              "      <td>0.001</td>\n",
              "      <td>&lt;class 'keras.optimizer_v2.adam.Adam'&gt;</td>\n",
              "      <td>brick</td>\n",
              "    </tr>\n",
              "  </tbody>\n",
              "</table>\n",
              "</div>\n",
              "      <button class=\"colab-df-convert\" onclick=\"convertToInteractive('df-959e2173-fda0-4b93-a17f-165b6c3ac4ce')\"\n",
              "              title=\"Convert this dataframe to an interactive table.\"\n",
              "              style=\"display:none;\">\n",
              "        \n",
              "  <svg xmlns=\"http://www.w3.org/2000/svg\" height=\"24px\"viewBox=\"0 0 24 24\"\n",
              "       width=\"24px\">\n",
              "    <path d=\"M0 0h24v24H0V0z\" fill=\"none\"/>\n",
              "    <path d=\"M18.56 5.44l.94 2.06.94-2.06 2.06-.94-2.06-.94-.94-2.06-.94 2.06-2.06.94zm-11 1L8.5 8.5l.94-2.06 2.06-.94-2.06-.94L8.5 2.5l-.94 2.06-2.06.94zm10 10l.94 2.06.94-2.06 2.06-.94-2.06-.94-.94-2.06-.94 2.06-2.06.94z\"/><path d=\"M17.41 7.96l-1.37-1.37c-.4-.4-.92-.59-1.43-.59-.52 0-1.04.2-1.43.59L10.3 9.45l-7.72 7.72c-.78.78-.78 2.05 0 2.83L4 21.41c.39.39.9.59 1.41.59.51 0 1.02-.2 1.41-.59l7.78-7.78 2.81-2.81c.8-.78.8-2.07 0-2.86zM5.41 20L4 18.59l7.72-7.72 1.47 1.35L5.41 20z\"/>\n",
              "  </svg>\n",
              "      </button>\n",
              "      \n",
              "  <style>\n",
              "    .colab-df-container {\n",
              "      display:flex;\n",
              "      flex-wrap:wrap;\n",
              "      gap: 12px;\n",
              "    }\n",
              "\n",
              "    .colab-df-convert {\n",
              "      background-color: #E8F0FE;\n",
              "      border: none;\n",
              "      border-radius: 50%;\n",
              "      cursor: pointer;\n",
              "      display: none;\n",
              "      fill: #1967D2;\n",
              "      height: 32px;\n",
              "      padding: 0 0 0 0;\n",
              "      width: 32px;\n",
              "    }\n",
              "\n",
              "    .colab-df-convert:hover {\n",
              "      background-color: #E2EBFA;\n",
              "      box-shadow: 0px 1px 2px rgba(60, 64, 67, 0.3), 0px 1px 3px 1px rgba(60, 64, 67, 0.15);\n",
              "      fill: #174EA6;\n",
              "    }\n",
              "\n",
              "    [theme=dark] .colab-df-convert {\n",
              "      background-color: #3B4455;\n",
              "      fill: #D2E3FC;\n",
              "    }\n",
              "\n",
              "    [theme=dark] .colab-df-convert:hover {\n",
              "      background-color: #434B5C;\n",
              "      box-shadow: 0px 1px 3px 1px rgba(0, 0, 0, 0.15);\n",
              "      filter: drop-shadow(0px 1px 2px rgba(0, 0, 0, 0.3));\n",
              "      fill: #FFFFFF;\n",
              "    }\n",
              "  </style>\n",
              "\n",
              "      <script>\n",
              "        const buttonEl =\n",
              "          document.querySelector('#df-959e2173-fda0-4b93-a17f-165b6c3ac4ce button.colab-df-convert');\n",
              "        buttonEl.style.display =\n",
              "          google.colab.kernel.accessAllowed ? 'block' : 'none';\n",
              "\n",
              "        async function convertToInteractive(key) {\n",
              "          const element = document.querySelector('#df-959e2173-fda0-4b93-a17f-165b6c3ac4ce');\n",
              "          const dataTable =\n",
              "            await google.colab.kernel.invokeFunction('convertToInteractive',\n",
              "                                                     [key], {});\n",
              "          if (!dataTable) return;\n",
              "\n",
              "          const docLinkHtml = 'Like what you see? Visit the ' +\n",
              "            '<a target=\"_blank\" href=https://colab.research.google.com/notebooks/data_table.ipynb>data table notebook</a>'\n",
              "            + ' to learn more about interactive tables.';\n",
              "          element.innerHTML = '';\n",
              "          dataTable['output_type'] = 'display_data';\n",
              "          await google.colab.output.renderOutput(dataTable, element);\n",
              "          const docLink = document.createElement('div');\n",
              "          docLink.innerHTML = docLinkHtml;\n",
              "          element.appendChild(docLink);\n",
              "        }\n",
              "      </script>\n",
              "    </div>\n",
              "  </div>\n",
              "  "
            ]
          },
          "metadata": {},
          "execution_count": 19
        }
      ],
      "source": [
        "r = ta.Reporting('/content/Hyperparameter_Tuning/042822132548.csv')\n",
        "\n",
        "\n",
        "# returns the results dataframe\n",
        "r.data.sort_values(by=['val_loss'], ascending=True).iloc[:10, :]"
      ]
    },
    {
      "cell_type": "code",
      "execution_count": null,
      "metadata": {
        "id": "up2TmQknXtyj",
        "colab": {
          "base_uri": "https://localhost:8080/"
        },
        "outputId": "1d801813-d80d-4697-8504-74bf0171a0db"
      },
      "outputs": [
        {
          "output_type": "execute_result",
          "data": {
            "text/plain": [
              "batch_size      0.764145\n",
              "epochs         -0.102723\n",
              "first_neuron   -0.316164\n",
              "Name: val_loss, dtype: float64"
            ]
          },
          "metadata": {},
          "execution_count": 21
        }
      ],
      "source": [
        "# get correlation for hyperparameters against a metric\n",
        "r.correlate('val_loss', ['loss', 'val_loss', 'round_epochs', 'lr', 'hidden_layers'])"
      ]
    },
    {
      "cell_type": "code",
      "execution_count": null,
      "metadata": {
        "id": "CDNJLD9aZY5K",
        "colab": {
          "base_uri": "https://localhost:8080/",
          "height": 487
        },
        "outputId": "f8963ae1-8c78-4158-cb0d-969da4d1b6e7"
      },
      "outputs": [
        {
          "output_type": "display_data",
          "data": {
            "text/plain": [
              "<Figure size 504x504 with 2 Axes>"
            ],
            "image/png": "[encoded data removed]"
          },
          "metadata": {}
        }
      ],
      "source": [
        "# get a correlation plot for hyperparameters against a metric \n",
        "r.plot_corr('val_loss', ['loss', 'val_loss', 'round_epochs', 'lr', 'hidden_layers'])\n",
        "# plt.savefig('curve.png', dpi=1000)"
      ]
    },
    {
      "cell_type": "code",
      "execution_count": null,
      "metadata": {
        "id": "yA_uVZm1OWsw"
      },
      "outputs": [],
      "source": [
        "# Get the best model index with highest 'val_loss' \n",
        "model_id = r.data['val_loss'].astype('float').argmin() - 0"
      ]
    },
    {
      "cell_type": "code",
      "execution_count": null,
      "metadata": {
        "id": "1MiiSFNWMCel"
      },
      "outputs": [],
      "source": [
        "# Get models index from data \n",
        "# model_id = r.data['val_loss'].astype('float').index[26]"
      ]
    },
    {
      "cell_type": "code",
      "execution_count": null,
      "metadata": {
        "id": "MXdDMSEHM0xs",
        "colab": {
          "base_uri": "https://localhost:8080/"
        },
        "outputId": "ac468269-e4cf-40d6-96f5-5199853a58d9"
      },
      "outputs": [
        {
          "output_type": "execute_result",
          "data": {
            "text/plain": [
              "41"
            ]
          },
          "metadata": {},
          "execution_count": 24
        }
      ],
      "source": [
        "model_id"
      ]
    },
    {
      "cell_type": "markdown",
      "metadata": {
        "id": "negYo6SL6Kxo"
      },
      "source": [
        "* It is possible to retrieve the loss curve of the best model\n"
      ]
    },
    {
      "cell_type": "code",
      "execution_count": null,
      "metadata": {
        "id": "RnQqQcHtU5hR",
        "colab": {
          "base_uri": "https://localhost:8080/",
          "height": 401
        },
        "outputId": "06b7b051-50b6-44ab-e3a6-85b9275c5613"
      },
      "outputs": [
        {
          "output_type": "display_data",
          "data": {
            "text/plain": [
              "<Figure size 720x432 with 1 Axes>"
            ],
            "image/png": "[encoded data removed]"
          },
          "metadata": {}
        }
      ],
      "source": [
        "model_history = scan_results.round_history[model_id]\n",
        "\n",
        "# LOSS CURVE\n",
        "# Plot train loss and validation loss\n",
        "def plot_loss(history):\n",
        "    plt.figure(figsize=(10, 6))\n",
        "    plt.plot(history['loss'])\n",
        "    plt.plot(history['val_loss'])\n",
        "    plt.ylabel('Loss')\n",
        "    plt.xlabel('epoch')\n",
        "    plt.legend(['Train loss', 'Validation loss'], loc='upper right')\n",
        "    # plt.savefig('Loss_curve.png', dpi=1200)\n",
        "    # plt.show()\n",
        "\n",
        "plot_loss(model_history)"
      ]
    },
    {
      "cell_type": "code",
      "execution_count": null,
      "metadata": {
        "id": "3hyJcYB3LObs",
        "colab": {
          "base_uri": "https://localhost:8080/"
        },
        "outputId": "1add943b-3af8-4dc6-9891-3bf2085e537e"
      },
      "outputs": [
        {
          "output_type": "execute_result",
          "data": {
            "text/plain": [
              "0.0006463892059400678"
            ]
          },
          "metadata": {},
          "execution_count": 26
        }
      ],
      "source": [
        "model_history['loss'][-1]"
      ]
    },
    {
      "cell_type": "code",
      "execution_count": null,
      "metadata": {
        "id": "TPPTEFwVLZ4X",
        "colab": {
          "base_uri": "https://localhost:8080/"
        },
        "outputId": "6c18630e-a21b-4a47-cfb7-c4193ce56f4b"
      },
      "outputs": [
        {
          "output_type": "execute_result",
          "data": {
            "text/plain": [
              "0.0007009528926573694"
            ]
          },
          "metadata": {},
          "execution_count": 27
        }
      ],
      "source": [
        "model_history['val_loss'][-1]"
      ]
    },
    {
      "cell_type": "code",
      "execution_count": null,
      "metadata": {
        "id": "8tm5QhzROrMs",
        "colab": {
          "base_uri": "https://localhost:8080/"
        },
        "outputId": "70efcf1a-a9d1-485b-fa54-b440f6f3102e"
      },
      "outputs": [
        {
          "output_type": "stream",
          "name": "stdout",
          "text": [
            "Model: \"sequential\"\n",
            "_________________________________________________________________\n",
            " Layer (type)                Output Shape              Param #   \n",
            "=================================================================\n",
            " lstm (LSTM)                 (None, 30)                4440      \n",
            "                                                                 \n",
            " dropout (Dropout)           (None, 30)                0         \n",
            "                                                                 \n",
            " dense (Dense)               (None, 1)                 31        \n",
            "                                                                 \n",
            "=================================================================\n",
            "Total params: 4,471\n",
            "Trainable params: 4,471\n",
            "Non-trainable params: 0\n",
            "_________________________________________________________________\n",
            "WARNING:tensorflow:Compiled the loaded model, but the compiled metrics have yet to be built. `model.compile_metrics` will be empty until you train or evaluate the model.\n"
          ]
        },
        {
          "output_type": "stream",
          "name": "stderr",
          "text": [
            "WARNING:absl:Found untraced functions such as lstm_cell_layer_call_fn, lstm_cell_layer_call_and_return_conditional_losses while saving (showing 2 of 2). These functions will not be directly callable after loading.\n"
          ]
        },
        {
          "output_type": "stream",
          "name": "stdout",
          "text": [
            "INFO:tensorflow:Assets written to: ./best_model_lstm/assets\n"
          ]
        },
        {
          "output_type": "stream",
          "name": "stderr",
          "text": [
            "INFO:tensorflow:Assets written to: ./best_model_lstm/assets\n",
            "WARNING:absl:<keras.layers.recurrent.LSTMCell object at 0x7fa7c3add450> has the same name 'LSTMCell' as a built-in Keras object. Consider renaming <class 'keras.layers.recurrent.LSTMCell'> to avoid naming conflicts when loading with `tf.keras.models.load_model`. If renaming is not possible, pass the object in the `custom_objects` parameter of the load function.\n"
          ]
        }
      ],
      "source": [
        "def save_best_model(scan_results, model_id, model_name):\n",
        "    # Clear any previous TensorFlow session.\n",
        "    tf.keras.backend.clear_session()\n",
        "\n",
        "\n",
        "    # Load the model parameters from the scanner.\n",
        "    model = tf.keras.models.model_from_json(scan_results.saved_models[model_id])\n",
        "    model.set_weights(scan_results.saved_weights[model_id])\n",
        "    model.summary()\n",
        "    model.save('./best_model_' + model_name)\n",
        "    return model\n",
        "\n",
        "\n",
        "model = save_best_model(scan_results, model_id, 'lstm')"
      ]
    },
    {
      "cell_type": "code",
      "execution_count": null,
      "metadata": {
        "id": "gdoZ_A18HjEH"
      },
      "outputs": [],
      "source": [
        "def plot_model_summary(model, model_name):\n",
        "    plot_model(model, to_file='model_summary_' + model_name + '.png', show_shapes=True)\n",
        "\n",
        "\n",
        "plot_model_summary(model, 'lstm')"
      ]
    },
    {
      "cell_type": "code",
      "execution_count": null,
      "metadata": {
        "id": "a8MEbPr1ZuNe"
      },
      "outputs": [],
      "source": [
        "# Make prediction\n",
        "def prediction(model):\n",
        "    prediction = model.predict(X_test)\n",
        "    return prediction\n",
        "\n",
        "prediction_lstm = prediction(model)"
      ]
    },
    {
      "cell_type": "code",
      "execution_count": null,
      "metadata": {
        "id": "OJ8gBeo1KMAM"
      },
      "outputs": [],
      "source": [
        "prediction_lstm[:, :] = scaler.inverse_transform(prediction_lstm[:, :])"
      ]
    },
    {
      "cell_type": "code",
      "execution_count": null,
      "metadata": {
        "id": "bc-DWLMcEeS-"
      },
      "outputs": [],
      "source": [
        "y_train[:, :] = scaler.inverse_transform(y_train[:, :])\n",
        "y_test[:, :] = scaler.inverse_transform(y_test[:, :])"
      ]
    },
    {
      "cell_type": "code",
      "execution_count": null,
      "metadata": {
        "id": "YzHxl33BaBQF",
        "colab": {
          "base_uri": "https://localhost:8080/",
          "height": 419
        },
        "outputId": "5acfcf62-0d67-4a50-eb78-185ab6338f2f"
      },
      "outputs": [
        {
          "output_type": "display_data",
          "data": {
            "text/plain": [
              "<Figure size 720x432 with 1 Axes>"
            ],
            "image/png": "[encoded data removed]"
          },
          "metadata": {}
        }
      ],
      "source": [
        "def plot_future(prediction, model_name, y_test):\n",
        "    plt.figure(figsize=(10, 6))\n",
        "    range_future = len(prediction)\n",
        "    plt.plot(np.arange(range_future), np.array(y_test), label='True Future')\n",
        "    plt.plot(np.arange(range_future), np.array(prediction), label='Prediction')\n",
        "    plt.title('True future vs prediction for ' + model_name)\n",
        "    plt.legend(loc='upper left')\n",
        "    plt.xlabel('Time (day)')\n",
        "    plt.ylabel('Stock Price (€)')\n",
        "    # plt.savefig('Prediction_Evaluation_plot_' + model_name + '.png', dpi=1200)\n",
        "    plt.show()\n",
        "\n",
        "\n",
        "plot_future(prediction_lstm, 'lstm', y_test)"
      ]
    },
    {
      "cell_type": "code",
      "execution_count": null,
      "metadata": {
        "id": "dYY0YItYaHjm",
        "colab": {
          "base_uri": "https://localhost:8080/"
        },
        "outputId": "03975405-eed0-4b7b-9c87-e593ecd9459e"
      },
      "outputs": [
        {
          "output_type": "stream",
          "name": "stdout",
          "text": [
            "Lstm performance:\n",
            "R^2: 99.5030 %\n",
            "Mean Absolute Error: 1.1131\n",
            "Root Mean Square Error: 1.6903\n",
            "Max_error: 14.4704\n",
            "\n"
          ]
        }
      ],
      "source": [
        "# Define a function to calculate MAE and RSME\n",
        "step_ahead=1\n",
        "\n",
        "# Define a function to calculate MAE and RSME\n",
        "def evaluate_prediction(predicted, actual, model_name):\n",
        "    if step_ahead == 1:\n",
        "        rsme = np.sqrt((mean_squared_error(predicted, actual)))\n",
        "        mae = mean_absolute_error(actual, predicted)\n",
        "        r2 = r2_score(actual, predicted)\n",
        "        max_err = max_error(actual, predicted)\n",
        "        print(model_name + ' performance:')\n",
        "        print('R^2: {:.4f} %'.format(r2 * 100))\n",
        "        print('Mean Absolute Error: {:.4f}'.format(mae))\n",
        "        print('Root Mean Square Error: {:.4f}'.format(rsme))\n",
        "        print('Max_error: {:.4f}'.format(max_err))\n",
        "        print('')\n",
        "        return\n",
        "    else:\n",
        "        titles = [\"RMSE\", \"MAE\", \"R^2\"]\n",
        "        # calculate an RMSE score for each day\n",
        "        # calculate mse\n",
        "        rmse = np.sqrt(mean_squared_error(predicted, actual, multioutput='raw_values'))\n",
        "        mae = mean_absolute_error(predicted, actual, multioutput='raw_values')\n",
        "        r2 = r2_score(predicted, actual, multioutput='raw_values')\n",
        "        df_scores = pd.DataFrame(list(zip(rmse, mae, r2)), columns=[f'{x}' for x in titles])\n",
        "        df_scores.index += 1\n",
        "\n",
        "        colors = plt.rcParams[\"axes.prop_cycle\"]()\n",
        "        a = 1  # number of rows\n",
        "        b = 3  # number of columns\n",
        "        c = 1  # initialize plot counter\n",
        "        fig = plt.figure(figsize=(15, 6))\n",
        "        for i in titles:\n",
        "            plt.subplot(a, b, c)\n",
        "            plt.title(f'{i}')\n",
        "            next_colour = next(colors)[\"color\"]\n",
        "            df_scores[f'{i}'].plot(marker='o', color=next_colour)\n",
        "            plt.xticks((range(0, df_scores.shape[0] + 1)))\n",
        "            plt.legend(loc='upper left')\n",
        "            plt.xlabel('Forecast Range (Day)')\n",
        "            plt.ylabel(f'{i}')\n",
        "            c = c + 1\n",
        "\n",
        "        plt.subplots_adjust(.5)\n",
        "        fig.suptitle(\"Evaluation of performances' trend in the multi step forecasted range\", fontsize=16, y=1)\n",
        "        plt.tight_layout()\n",
        "        # plt.savefig('EvaluationMultiplePrediction_PG.png', dpi=1200)\n",
        "        plt.show()\n",
        "\n",
        "        # calculate overall RMSE\n",
        "        overall_rmse = np.sqrt(mean_squared_error(predicted, actual, multioutput='uniform_average'))\n",
        "        overall_mae = mean_absolute_error(predicted, actual, multioutput='uniform_average')\n",
        "        overall_r2 = r2_score(predicted, actual, multioutput='uniform_average')\n",
        "        print(model_name + ' performance:')\n",
        "        print('R^2: {:.4f} %'.format(overall_r2 * 100))\n",
        "        print('Mean Absolute Error: {:.4f}'.format(overall_mae))\n",
        "        print('Root Mean Square Error: {:.4f}'.format(overall_rmse))\n",
        "        print('')\n",
        "        return\n",
        "\n",
        "\n",
        "evaluate_prediction(prediction_lstm, y_test, 'Lstm')"
      ]
    }
  ],
  "metadata": {
    "accelerator": "TPU",
    "colab": {
      "collapsed_sections": [],
      "name": "7b_LSTM_Hyperparameter_Tuning_Talos.ipynb",
      "provenance": [],
      "authorship_tag": "ABX9TyM8xWhZTZ2PvLtvu4AkPl+9",
      "include_colab_link": true
    },
    "kernelspec": {
      "display_name": "Python 3",
      "name": "python3"
    },
    "language_info": {
      "name": "python"
    }
  },
  "nbformat": 4,
  "nbformat_minor": 0
}