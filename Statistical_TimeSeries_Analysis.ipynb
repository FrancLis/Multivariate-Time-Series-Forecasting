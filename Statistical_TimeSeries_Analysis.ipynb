{
  "nbformat": 4,
  "nbformat_minor": 0,
  "metadata": {
    "colab": {
      "name": "Statistical_TimeSeries_Analysis.ipynb",
      "provenance": [],
      "authorship_tag": "ABX9TyNEocL1TWqmJEn7p7mMfoRU",
      "include_colab_link": true
    },
    "kernelspec": {
      "name": "python3",
      "display_name": "Python 3"
    },
    "language_info": {
      "name": "python"
    },
    "accelerator": "TPU"
  },
  "cells": [
    {
      "cell_type": "markdown",
      "metadata": {
        "id": "view-in-github",
        "colab_type": "text"
      },
      "source": [
        "<a href=\"https://colab.research.google.com/github/FrancLis/Multivariate-Time-Series-Forecasting/blob/main/Statistical_TimeSeries_Analysis.ipynb\" target=\"_parent\"><img src=\"https://colab.research.google.com/assets/colab-badge.svg\" alt=\"Open In Colab\"/></a>"
      ]
    },
    {
      "cell_type": "code",
      "source": [
        "!pip install pmdarima\n",
        "import os\n",
        "import warnings\n",
        "warnings.filterwarnings('ignore')\n",
        "import numpy as np\n",
        "import pandas as pd\n",
        "import matplotlib.pyplot as plt\n",
        "from statsmodels.tsa.stattools import adfuller\n",
        "from statsmodels.tsa.seasonal import seasonal_decompose\n",
        "from statsmodels.tsa.arima_model import ARIMA\n",
        "from pmdarima.arima import auto_arima\n",
        "from sklearn.metrics import mean_squared_error, mean_absolute_error\n",
        "import math\n",
        "from sklearn.metrics import max_error\n",
        "from sklearn.metrics import r2_score"
      ],
      "metadata": {
        "colab": {
          "base_uri": "https://localhost:8080/"
        },
        "id": "65i5ghLSAzoR",
        "outputId": "6204ac93-f600-44d9-b0d3-f1ae948658c1"
      },
      "execution_count": 1,
      "outputs": [
        {
          "output_type": "stream",
          "name": "stdout",
          "text": [
            "Collecting pmdarima\n",
            "  Downloading pmdarima-1.8.5-cp37-cp37m-manylinux_2_17_x86_64.manylinux2014_x86_64.manylinux_2_24_x86_64.whl (1.4 MB)\n",
            "\u001b[K     |████████████████████████████████| 1.4 MB 5.0 MB/s \n",
            "\u001b[?25hRequirement already satisfied: numpy>=1.19.3 in /usr/local/lib/python3.7/dist-packages (from pmdarima) (1.21.5)\n",
            "Requirement already satisfied: setuptools!=50.0.0,>=38.6.0 in /usr/local/lib/python3.7/dist-packages (from pmdarima) (57.4.0)\n",
            "Requirement already satisfied: scipy>=1.3.2 in /usr/local/lib/python3.7/dist-packages (from pmdarima) (1.4.1)\n",
            "Collecting statsmodels!=0.12.0,>=0.11\n",
            "  Downloading statsmodels-0.13.2-cp37-cp37m-manylinux_2_17_x86_64.manylinux2014_x86_64.whl (9.8 MB)\n",
            "\u001b[K     |████████████████████████████████| 9.8 MB 42.0 MB/s \n",
            "\u001b[?25hRequirement already satisfied: scikit-learn>=0.22 in /usr/local/lib/python3.7/dist-packages (from pmdarima) (1.0.2)\n",
            "Requirement already satisfied: Cython!=0.29.18,>=0.29 in /usr/local/lib/python3.7/dist-packages (from pmdarima) (0.29.28)\n",
            "Requirement already satisfied: joblib>=0.11 in /usr/local/lib/python3.7/dist-packages (from pmdarima) (1.1.0)\n",
            "Requirement already satisfied: urllib3 in /usr/local/lib/python3.7/dist-packages (from pmdarima) (1.24.3)\n",
            "Requirement already satisfied: pandas>=0.19 in /usr/local/lib/python3.7/dist-packages (from pmdarima) (1.3.5)\n",
            "Requirement already satisfied: pytz>=2017.3 in /usr/local/lib/python3.7/dist-packages (from pandas>=0.19->pmdarima) (2018.9)\n",
            "Requirement already satisfied: python-dateutil>=2.7.3 in /usr/local/lib/python3.7/dist-packages (from pandas>=0.19->pmdarima) (2.8.2)\n",
            "Requirement already satisfied: six>=1.5 in /usr/local/lib/python3.7/dist-packages (from python-dateutil>=2.7.3->pandas>=0.19->pmdarima) (1.15.0)\n",
            "Requirement already satisfied: threadpoolctl>=2.0.0 in /usr/local/lib/python3.7/dist-packages (from scikit-learn>=0.22->pmdarima) (3.1.0)\n",
            "Requirement already satisfied: patsy>=0.5.2 in /usr/local/lib/python3.7/dist-packages (from statsmodels!=0.12.0,>=0.11->pmdarima) (0.5.2)\n",
            "Requirement already satisfied: packaging>=21.3 in /usr/local/lib/python3.7/dist-packages (from statsmodels!=0.12.0,>=0.11->pmdarima) (21.3)\n",
            "Requirement already satisfied: pyparsing!=3.0.5,>=2.0.2 in /usr/local/lib/python3.7/dist-packages (from packaging>=21.3->statsmodels!=0.12.0,>=0.11->pmdarima) (3.0.7)\n",
            "Installing collected packages: statsmodels, pmdarima\n",
            "  Attempting uninstall: statsmodels\n",
            "    Found existing installation: statsmodels 0.10.2\n",
            "    Uninstalling statsmodels-0.10.2:\n",
            "      Successfully uninstalled statsmodels-0.10.2\n",
            "Successfully installed pmdarima-1.8.5 statsmodels-0.13.2\n"
          ]
        }
      ]
    },
    {
      "cell_type": "code",
      "source": [
        "df = pd.read_csv('/content/PG.csv', parse_dates=['Date'] ,index_col='Date')"
      ],
      "metadata": {
        "id": "paQN5hcygqIz"
      },
      "execution_count": 2,
      "outputs": []
    },
    {
      "cell_type": "code",
      "source": [
        "df"
      ],
      "metadata": {
        "colab": {
          "base_uri": "https://localhost:8080/",
          "height": 455
        },
        "id": "savzRlA4g451",
        "outputId": "1ee49f0d-7814-406c-a148-c62387847cfc"
      },
      "execution_count": 3,
      "outputs": [
        {
          "output_type": "execute_result",
          "data": {
            "text/plain": [
              "                  Open        High         Low       Close   Adj Close  \\\n",
              "Date                                                                     \n",
              "1970-01-02    1.710938    1.722656    1.708984    1.718750    0.399508   \n",
              "1970-01-05    1.718750    1.730469    1.708984    1.726563    0.401324   \n",
              "1970-01-06    1.722656    1.722656    1.707031    1.718750    0.399508   \n",
              "1970-01-07    1.722656    1.750000    1.722656    1.746094    0.405864   \n",
              "1970-01-08    1.746094    1.773438    1.742188    1.765625    0.410404   \n",
              "...                ...         ...         ...         ...         ...   \n",
              "2022-02-03  161.979996  164.979996  161.619995  164.139999  164.139999   \n",
              "2022-02-04  163.130005  164.490005  161.410004  161.529999  161.529999   \n",
              "2022-02-07  161.869995  162.259995  159.669998  160.320007  160.320007   \n",
              "2022-02-08  161.119995  161.270004  159.649994  159.960007  159.960007   \n",
              "2022-02-09  160.360001  160.639999  159.270004  159.600006  159.600006   \n",
              "\n",
              "              Volume  \n",
              "Date                  \n",
              "1970-01-02    832000  \n",
              "1970-01-05    518400  \n",
              "1970-01-06    480000  \n",
              "1970-01-07    710400  \n",
              "1970-01-08    531200  \n",
              "...              ...  \n",
              "2022-02-03  10474500  \n",
              "2022-02-04   8959900  \n",
              "2022-02-07   6430500  \n",
              "2022-02-08   5048700  \n",
              "2022-02-09   8077400  \n",
              "\n",
              "[13145 rows x 6 columns]"
            ],
            "text/html": [
              "\n",
              "  <div id=\"df-d7ad53a0-e530-4c10-8f8c-03d2094f5790\">\n",
              "    <div class=\"colab-df-container\">\n",
              "      <div>\n",
              "<style scoped>\n",
              "    .dataframe tbody tr th:only-of-type {\n",
              "        vertical-align: middle;\n",
              "    }\n",
              "\n",
              "    .dataframe tbody tr th {\n",
              "        vertical-align: top;\n",
              "    }\n",
              "\n",
              "    .dataframe thead th {\n",
              "        text-align: right;\n",
              "    }\n",
              "</style>\n",
              "<table border=\"1\" class=\"dataframe\">\n",
              "  <thead>\n",
              "    <tr style=\"text-align: right;\">\n",
              "      <th></th>\n",
              "      <th>Open</th>\n",
              "      <th>High</th>\n",
              "      <th>Low</th>\n",
              "      <th>Close</th>\n",
              "      <th>Adj Close</th>\n",
              "      <th>Volume</th>\n",
              "    </tr>\n",
              "    <tr>\n",
              "      <th>Date</th>\n",
              "      <th></th>\n",
              "      <th></th>\n",
              "      <th></th>\n",
              "      <th></th>\n",
              "      <th></th>\n",
              "      <th></th>\n",
              "    </tr>\n",
              "  </thead>\n",
              "  <tbody>\n",
              "    <tr>\n",
              "      <th>1970-01-02</th>\n",
              "      <td>1.710938</td>\n",
              "      <td>1.722656</td>\n",
              "      <td>1.708984</td>\n",
              "      <td>1.718750</td>\n",
              "      <td>0.399508</td>\n",
              "      <td>832000</td>\n",
              "    </tr>\n",
              "    <tr>\n",
              "      <th>1970-01-05</th>\n",
              "      <td>1.718750</td>\n",
              "      <td>1.730469</td>\n",
              "      <td>1.708984</td>\n",
              "      <td>1.726563</td>\n",
              "      <td>0.401324</td>\n",
              "      <td>518400</td>\n",
              "    </tr>\n",
              "    <tr>\n",
              "      <th>1970-01-06</th>\n",
              "      <td>1.722656</td>\n",
              "      <td>1.722656</td>\n",
              "      <td>1.707031</td>\n",
              "      <td>1.718750</td>\n",
              "      <td>0.399508</td>\n",
              "      <td>480000</td>\n",
              "    </tr>\n",
              "    <tr>\n",
              "      <th>1970-01-07</th>\n",
              "      <td>1.722656</td>\n",
              "      <td>1.750000</td>\n",
              "      <td>1.722656</td>\n",
              "      <td>1.746094</td>\n",
              "      <td>0.405864</td>\n",
              "      <td>710400</td>\n",
              "    </tr>\n",
              "    <tr>\n",
              "      <th>1970-01-08</th>\n",
              "      <td>1.746094</td>\n",
              "      <td>1.773438</td>\n",
              "      <td>1.742188</td>\n",
              "      <td>1.765625</td>\n",
              "      <td>0.410404</td>\n",
              "      <td>531200</td>\n",
              "    </tr>\n",
              "    <tr>\n",
              "      <th>...</th>\n",
              "      <td>...</td>\n",
              "      <td>...</td>\n",
              "      <td>...</td>\n",
              "      <td>...</td>\n",
              "      <td>...</td>\n",
              "      <td>...</td>\n",
              "    </tr>\n",
              "    <tr>\n",
              "      <th>2022-02-03</th>\n",
              "      <td>161.979996</td>\n",
              "      <td>164.979996</td>\n",
              "      <td>161.619995</td>\n",
              "      <td>164.139999</td>\n",
              "      <td>164.139999</td>\n",
              "      <td>10474500</td>\n",
              "    </tr>\n",
              "    <tr>\n",
              "      <th>2022-02-04</th>\n",
              "      <td>163.130005</td>\n",
              "      <td>164.490005</td>\n",
              "      <td>161.410004</td>\n",
              "      <td>161.529999</td>\n",
              "      <td>161.529999</td>\n",
              "      <td>8959900</td>\n",
              "    </tr>\n",
              "    <tr>\n",
              "      <th>2022-02-07</th>\n",
              "      <td>161.869995</td>\n",
              "      <td>162.259995</td>\n",
              "      <td>159.669998</td>\n",
              "      <td>160.320007</td>\n",
              "      <td>160.320007</td>\n",
              "      <td>6430500</td>\n",
              "    </tr>\n",
              "    <tr>\n",
              "      <th>2022-02-08</th>\n",
              "      <td>161.119995</td>\n",
              "      <td>161.270004</td>\n",
              "      <td>159.649994</td>\n",
              "      <td>159.960007</td>\n",
              "      <td>159.960007</td>\n",
              "      <td>5048700</td>\n",
              "    </tr>\n",
              "    <tr>\n",
              "      <th>2022-02-09</th>\n",
              "      <td>160.360001</td>\n",
              "      <td>160.639999</td>\n",
              "      <td>159.270004</td>\n",
              "      <td>159.600006</td>\n",
              "      <td>159.600006</td>\n",
              "      <td>8077400</td>\n",
              "    </tr>\n",
              "  </tbody>\n",
              "</table>\n",
              "<p>13145 rows × 6 columns</p>\n",
              "</div>\n",
              "      <button class=\"colab-df-convert\" onclick=\"convertToInteractive('df-d7ad53a0-e530-4c10-8f8c-03d2094f5790')\"\n",
              "              title=\"Convert this dataframe to an interactive table.\"\n",
              "              style=\"display:none;\">\n",
              "        \n",
              "  <svg xmlns=\"http://www.w3.org/2000/svg\" height=\"24px\"viewBox=\"0 0 24 24\"\n",
              "       width=\"24px\">\n",
              "    <path d=\"M0 0h24v24H0V0z\" fill=\"none\"/>\n",
              "    <path d=\"M18.56 5.44l.94 2.06.94-2.06 2.06-.94-2.06-.94-.94-2.06-.94 2.06-2.06.94zm-11 1L8.5 8.5l.94-2.06 2.06-.94-2.06-.94L8.5 2.5l-.94 2.06-2.06.94zm10 10l.94 2.06.94-2.06 2.06-.94-2.06-.94-.94-2.06-.94 2.06-2.06.94z\"/><path d=\"M17.41 7.96l-1.37-1.37c-.4-.4-.92-.59-1.43-.59-.52 0-1.04.2-1.43.59L10.3 9.45l-7.72 7.72c-.78.78-.78 2.05 0 2.83L4 21.41c.39.39.9.59 1.41.59.51 0 1.02-.2 1.41-.59l7.78-7.78 2.81-2.81c.8-.78.8-2.07 0-2.86zM5.41 20L4 18.59l7.72-7.72 1.47 1.35L5.41 20z\"/>\n",
              "  </svg>\n",
              "      </button>\n",
              "      \n",
              "  <style>\n",
              "    .colab-df-container {\n",
              "      display:flex;\n",
              "      flex-wrap:wrap;\n",
              "      gap: 12px;\n",
              "    }\n",
              "\n",
              "    .colab-df-convert {\n",
              "      background-color: #E8F0FE;\n",
              "      border: none;\n",
              "      border-radius: 50%;\n",
              "      cursor: pointer;\n",
              "      display: none;\n",
              "      fill: #1967D2;\n",
              "      height: 32px;\n",
              "      padding: 0 0 0 0;\n",
              "      width: 32px;\n",
              "    }\n",
              "\n",
              "    .colab-df-convert:hover {\n",
              "      background-color: #E2EBFA;\n",
              "      box-shadow: 0px 1px 2px rgba(60, 64, 67, 0.3), 0px 1px 3px 1px rgba(60, 64, 67, 0.15);\n",
              "      fill: #174EA6;\n",
              "    }\n",
              "\n",
              "    [theme=dark] .colab-df-convert {\n",
              "      background-color: #3B4455;\n",
              "      fill: #D2E3FC;\n",
              "    }\n",
              "\n",
              "    [theme=dark] .colab-df-convert:hover {\n",
              "      background-color: #434B5C;\n",
              "      box-shadow: 0px 1px 3px 1px rgba(0, 0, 0, 0.15);\n",
              "      filter: drop-shadow(0px 1px 2px rgba(0, 0, 0, 0.3));\n",
              "      fill: #FFFFFF;\n",
              "    }\n",
              "  </style>\n",
              "\n",
              "      <script>\n",
              "        const buttonEl =\n",
              "          document.querySelector('#df-d7ad53a0-e530-4c10-8f8c-03d2094f5790 button.colab-df-convert');\n",
              "        buttonEl.style.display =\n",
              "          google.colab.kernel.accessAllowed ? 'block' : 'none';\n",
              "\n",
              "        async function convertToInteractive(key) {\n",
              "          const element = document.querySelector('#df-d7ad53a0-e530-4c10-8f8c-03d2094f5790');\n",
              "          const dataTable =\n",
              "            await google.colab.kernel.invokeFunction('convertToInteractive',\n",
              "                                                     [key], {});\n",
              "          if (!dataTable) return;\n",
              "\n",
              "          const docLinkHtml = 'Like what you see? Visit the ' +\n",
              "            '<a target=\"_blank\" href=https://colab.research.google.com/notebooks/data_table.ipynb>data table notebook</a>'\n",
              "            + ' to learn more about interactive tables.';\n",
              "          element.innerHTML = '';\n",
              "          dataTable['output_type'] = 'display_data';\n",
              "          await google.colab.output.renderOutput(dataTable, element);\n",
              "          const docLink = document.createElement('div');\n",
              "          docLink.innerHTML = docLinkHtml;\n",
              "          element.appendChild(docLink);\n",
              "        }\n",
              "      </script>\n",
              "    </div>\n",
              "  </div>\n",
              "  "
            ]
          },
          "metadata": {},
          "execution_count": 3
        }
      ]
    },
    {
      "cell_type": "markdown",
      "source": [
        "# Overview of the data"
      ],
      "metadata": {
        "id": "99ealFpBhKdh"
      }
    },
    {
      "cell_type": "markdown",
      "source": [
        "# Train & Test Data split"
      ],
      "metadata": {
        "id": "WzAbp-x7hObj"
      }
    },
    {
      "cell_type": "code",
      "source": [
        "#split data into train and training set\n",
        "train_data, test_data = df[:-1315], df[-1315:]"
      ],
      "metadata": {
        "id": "S6U4XJ8UEp0h"
      },
      "execution_count": 4,
      "outputs": []
    },
    {
      "cell_type": "code",
      "source": [
        "train_data.shape"
      ],
      "metadata": {
        "colab": {
          "base_uri": "https://localhost:8080/"
        },
        "id": "PLTeJEQDqDM7",
        "outputId": "859f6fd3-cdc0-4b31-f972-0cefd55f4d0b"
      },
      "execution_count": 5,
      "outputs": [
        {
          "output_type": "execute_result",
          "data": {
            "text/plain": [
              "(11830, 6)"
            ]
          },
          "metadata": {},
          "execution_count": 5
        }
      ]
    },
    {
      "cell_type": "code",
      "source": [
        "test_data.shape"
      ],
      "metadata": {
        "colab": {
          "base_uri": "https://localhost:8080/"
        },
        "id": "_NpH7oJuqqpR",
        "outputId": "48a653c2-d610-4d05-898f-11de88cf7721"
      },
      "execution_count": 6,
      "outputs": [
        {
          "output_type": "execute_result",
          "data": {
            "text/plain": [
              "(1315, 6)"
            ]
          },
          "metadata": {},
          "execution_count": 6
        }
      ]
    },
    {
      "cell_type": "code",
      "source": [
        "#split data into train and training set\n",
        "plt.figure(figsize=(10,6))\n",
        "plt.xlabel('Date')\n",
        "plt.ylabel('Close Price')\n",
        "plt.plot(train_data.Close, 'green', label='Train data')\n",
        "plt.plot(test_data.Close, 'blue', label='Test data')\n",
        "plt.legend()"
      ],
      "metadata": {
        "colab": {
          "base_uri": "https://localhost:8080/",
          "height": 406
        },
        "id": "5kDUNX7SAWtO",
        "outputId": "fab94856-4e64-4f9f-b127-93d708491c3b"
      },
      "execution_count": 7,
      "outputs": [
        {
          "output_type": "execute_result",
          "data": {
            "text/plain": [
              "<matplotlib.legend.Legend at 0x7efef32873d0>"
            ]
          },
          "metadata": {},
          "execution_count": 7
        },
        {
          "output_type": "display_data",
          "data": {
            "text/plain": [
              "<Figure size 720x432 with 1 Axes>"
            ],
            "image/png": "[encoded data removed]"
          },
          "metadata": {
            "needs_background": "light"
          }
        }
      ]
    },
    {
      "cell_type": "code",
      "source": [
        "train_data_endog = train_data.Close.values\n",
        "test_data_endog = test_data.Close.values"
      ],
      "metadata": {
        "id": "-vVMgmA7v_Uc"
      },
      "execution_count": 8,
      "outputs": []
    },
    {
      "cell_type": "code",
      "source": [
        "train_data_endog = train_data_endog.reshape(-1, 1)\n",
        "test_data_endog = test_data_endog.reshape(-1, 1)"
      ],
      "metadata": {
        "id": "qcFIYry5xUi_"
      },
      "execution_count": 9,
      "outputs": []
    },
    {
      "cell_type": "code",
      "source": [
        "from sklearn.preprocessing import PowerTransformer\n",
        "\n",
        "pt_endog = PowerTransformer(method='box-cox')\n",
        "train_data_endog = pt_endog.fit_transform(train_data_endog)\n",
        "test_data_endog = pt_endog.transform(test_data_endog)"
      ],
      "metadata": {
        "id": "8ArYpdWguS7A"
      },
      "execution_count": 10,
      "outputs": []
    },
    {
      "cell_type": "code",
      "source": [
        "model_autoARIMA = auto_arima(train_data_endog , start_p=0, start_q=0,\n",
        "                      test='adf',       # use adftest to find optimal 'd'\n",
        "                      max_p=3, max_q=3, # maximum p and q\n",
        "                      m=1,              # frequency of series\n",
        "                      d=None,           # let model determine 'd'\n",
        "                      seasonal=False,   # No Seasonality\n",
        "                      start_P=0, \n",
        "                      D=0, \n",
        "                      trace=True,\n",
        "                      error_action='ignore',  \n",
        "                      suppress_warnings=True, \n",
        "                      stepwise=True)"
      ],
      "metadata": {
        "id": "49mvTg49AvE7",
        "colab": {
          "base_uri": "https://localhost:8080/"
        },
        "outputId": "8b188353-3679-4896-822e-ef702ee70e92"
      },
      "execution_count": 11,
      "outputs": [
        {
          "output_type": "stream",
          "name": "stdout",
          "text": [
            "Performing stepwise search to minimize aic\n",
            " ARIMA(0,1,0)(0,0,0)[0] intercept   : AIC=-74271.802, Time=3.20 sec\n",
            " ARIMA(1,1,0)(0,0,0)[0] intercept   : AIC=-74271.145, Time=4.71 sec\n",
            " ARIMA(0,1,1)(0,0,0)[0] intercept   : AIC=-74271.251, Time=6.98 sec\n",
            " ARIMA(0,1,0)(0,0,0)[0]             : AIC=-74267.620, Time=1.09 sec\n",
            " ARIMA(1,1,1)(0,0,0)[0] intercept   : AIC=-74271.734, Time=11.63 sec\n",
            "\n",
            "Best model:  ARIMA(0,1,0)(0,0,0)[0] intercept\n",
            "Total fit time: 27.706 seconds\n"
          ]
        }
      ]
    },
    {
      "cell_type": "code",
      "source": [
        "#Summary of the model\n",
        "model_autoARIMA.summary()"
      ],
      "metadata": {
        "colab": {
          "base_uri": "https://localhost:8080/",
          "height": 402
        },
        "id": "CkyOCveurRIu",
        "outputId": "3aa3f452-8416-4ead-f834-fe7f34c957d2"
      },
      "execution_count": 12,
      "outputs": [
        {
          "output_type": "execute_result",
          "data": {
            "text/plain": [
              "<class 'statsmodels.iolib.summary.Summary'>\n",
              "\"\"\"\n",
              "                               SARIMAX Results                                \n",
              "==============================================================================\n",
              "Dep. Variable:                      y   No. Observations:                11830\n",
              "Model:               SARIMAX(0, 1, 0)   Log Likelihood               37137.901\n",
              "Date:                Mon, 11 Apr 2022   AIC                         -74271.802\n",
              "Time:                        09:16:38   BIC                         -74257.045\n",
              "Sample:                             0   HQIC                        -74266.848\n",
              "                              - 11830                                         \n",
              "Covariance Type:                  opg                                         \n",
              "==============================================================================\n",
              "                 coef    std err          z      P>|z|      [0.025      0.975]\n",
              "------------------------------------------------------------------------------\n",
              "intercept      0.0002      0.000      2.394      0.017    4.34e-05       0.000\n",
              "sigma2         0.0001   2.59e-07    424.171      0.000       0.000       0.000\n",
              "===================================================================================\n",
              "Ljung-Box (L1) (Q):                   1.34   Jarque-Bera (JB):           2005008.94\n",
              "Prob(Q):                              0.25   Prob(JB):                         0.00\n",
              "Heteroskedasticity (H):               0.93   Skew:                            -2.19\n",
              "Prob(H) (two-sided):                  0.03   Kurtosis:                        66.63\n",
              "===================================================================================\n",
              "\n",
              "Warnings:\n",
              "[1] Covariance matrix calculated using the outer product of gradients (complex-step).\n",
              "\"\"\""
            ],
            "text/html": [
              "<table class=\"simpletable\">\n",
              "<caption>SARIMAX Results</caption>\n",
              "<tr>\n",
              "  <th>Dep. Variable:</th>           <td>y</td>        <th>  No. Observations:  </th>    <td>11830</td>  \n",
              "</tr>\n",
              "<tr>\n",
              "  <th>Model:</th>           <td>SARIMAX(0, 1, 0)</td> <th>  Log Likelihood     </th>  <td>37137.901</td>\n",
              "</tr>\n",
              "<tr>\n",
              "  <th>Date:</th>            <td>Mon, 11 Apr 2022</td> <th>  AIC                </th> <td>-74271.802</td>\n",
              "</tr>\n",
              "<tr>\n",
              "  <th>Time:</th>                <td>09:16:38</td>     <th>  BIC                </th> <td>-74257.045</td>\n",
              "</tr>\n",
              "<tr>\n",
              "  <th>Sample:</th>                  <td>0</td>        <th>  HQIC               </th> <td>-74266.848</td>\n",
              "</tr>\n",
              "<tr>\n",
              "  <th></th>                     <td> - 11830</td>     <th>                     </th>      <td> </td>    \n",
              "</tr>\n",
              "<tr>\n",
              "  <th>Covariance Type:</th>        <td>opg</td>       <th>                     </th>      <td> </td>    \n",
              "</tr>\n",
              "</table>\n",
              "<table class=\"simpletable\">\n",
              "<tr>\n",
              "      <td></td>         <th>coef</th>     <th>std err</th>      <th>z</th>      <th>P>|z|</th>  <th>[0.025</th>    <th>0.975]</th>  \n",
              "</tr>\n",
              "<tr>\n",
              "  <th>intercept</th> <td>    0.0002</td> <td>    0.000</td> <td>    2.394</td> <td> 0.017</td> <td> 4.34e-05</td> <td>    0.000</td>\n",
              "</tr>\n",
              "<tr>\n",
              "  <th>sigma2</th>    <td>    0.0001</td> <td> 2.59e-07</td> <td>  424.171</td> <td> 0.000</td> <td>    0.000</td> <td>    0.000</td>\n",
              "</tr>\n",
              "</table>\n",
              "<table class=\"simpletable\">\n",
              "<tr>\n",
              "  <th>Ljung-Box (L1) (Q):</th>     <td>1.34</td> <th>  Jarque-Bera (JB):  </th> <td>2005008.94</td>\n",
              "</tr>\n",
              "<tr>\n",
              "  <th>Prob(Q):</th>                <td>0.25</td> <th>  Prob(JB):          </th>    <td>0.00</td>   \n",
              "</tr>\n",
              "<tr>\n",
              "  <th>Heteroskedasticity (H):</th> <td>0.93</td> <th>  Skew:              </th>    <td>-2.19</td>  \n",
              "</tr>\n",
              "<tr>\n",
              "  <th>Prob(H) (two-sided):</th>    <td>0.03</td> <th>  Kurtosis:          </th>    <td>66.63</td>  \n",
              "</tr>\n",
              "</table><br/><br/>Warnings:<br/>[1] Covariance matrix calculated using the outer product of gradients (complex-step)."
            ]
          },
          "metadata": {},
          "execution_count": 12
        }
      ]
    },
    {
      "cell_type": "code",
      "source": [
        "model_autoARIMA.plot_diagnostics(figsize=(10,8))\n",
        "plt.show()"
      ],
      "metadata": {
        "colab": {
          "base_uri": "https://localhost:8080/",
          "height": 513
        },
        "id": "SqvSQPGJrSaH",
        "outputId": "8a5dde90-1cd3-4631-cef3-4d1ae6e12b0c"
      },
      "execution_count": 13,
      "outputs": [
        {
          "output_type": "display_data",
          "data": {
            "text/plain": [
              "<Figure size 720x576 with 4 Axes>"
            ],
            "image/png": "[encoded data removed]"
          },
          "metadata": {
            "needs_background": "light"
          }
        }
      ]
    },
    {
      "cell_type": "markdown",
      "source": [
        "The residual plots for the auto ARIMA model look pretty good.\n",
        "Histogram plus estimated density plot: The red KDE line follows closely with the N(0,1) line. This is a good indication that the residuals are normally distributed.\n",
        "The Q-Q-plot: Shows that the ordered distribution of residuals (blue dots) follows the linear trend of the samples taken from a standard normal distribution with N(0, 1). This is an indication that the residuals are normally distributed.\n",
        "The standardize residual plot: The residuals over time don’t display any obvious seasonality and appear to be white noise.\n",
        "The Correlogram plot: Shows that the time series residuals have low correlation with lagged versions of itself.\n",
        "Our model is not perfect yet & It needs a few more tweaks."
      ],
      "metadata": {
        "id": "9xJSAFxK8XSi"
      }
    },
    {
      "cell_type": "markdown",
      "source": [
        "So how to interpret the plot diagnostics?\n",
        "\n",
        "Top left: The residual errors seem to fluctuate around a mean of zero and have a uniform variance.\n",
        "\n",
        "Top Right: The density plot suggest normal distribution with mean zero.\n",
        "\n",
        "Bottom left: All the dots should fall perfectly in line with the red line. Any significant deviations would imply the distribution is skewed.\n",
        "\n",
        "Bottom Right: The Correlogram, aka, ACF plot shows the residual errors are not autocorrelated. Any autocorrelation would imply that there is some pattern in the residual errors which are not explained in the model. So you will need to look for more X’s (predictors) to the model."
      ],
      "metadata": {
        "id": "bHf6tDcL7QtZ"
      }
    },
    {
      "cell_type": "code",
      "source": [
        "prediction_ARIMA = pd.DataFrame(model_autoARIMA.predict(n_periods = 1315), index=test_data.index)\n",
        "prediction_ARIMA.columns = ['Predictions_ARIMA']\n",
        "prediction_rescaled_ARIMA = pt_endog.inverse_transform(prediction_ARIMA.values)\n",
        "prediction_ARIMA['Predictions_scaled_ARIMA'] = prediction_rescaled_ARIMA\n",
        "prediction_ARIMA"
      ],
      "metadata": {
        "id": "VFGXvsJh2cL2",
        "colab": {
          "base_uri": "https://localhost:8080/",
          "height": 455
        },
        "outputId": "532370e8-80c4-49e9-a62b-b66c272198dd"
      },
      "execution_count": 14,
      "outputs": [
        {
          "output_type": "execute_result",
          "data": {
            "text/plain": [
              "            Predictions_ARIMA  Predictions_scaled_ARIMA\n",
              "Date                                                   \n",
              "2016-11-18           1.364842                 83.096135\n",
              "2016-11-21           1.365082                 83.122277\n",
              "2016-11-22           1.365321                 83.148428\n",
              "2016-11-23           1.365561                 83.174587\n",
              "2016-11-25           1.365800                 83.200754\n",
              "...                       ...                       ...\n",
              "2022-02-03           1.678654                125.243407\n",
              "2022-02-04           1.678894                125.282464\n",
              "2022-02-07           1.679133                125.321533\n",
              "2022-02-08           1.679373                125.360614\n",
              "2022-02-09           1.679612                125.399706\n",
              "\n",
              "[1315 rows x 2 columns]"
            ],
            "text/html": [
              "\n",
              "  <div id=\"df-6ca8a836-74e8-47a8-b46d-4eb7bc352fb1\">\n",
              "    <div class=\"colab-df-container\">\n",
              "      <div>\n",
              "<style scoped>\n",
              "    .dataframe tbody tr th:only-of-type {\n",
              "        vertical-align: middle;\n",
              "    }\n",
              "\n",
              "    .dataframe tbody tr th {\n",
              "        vertical-align: top;\n",
              "    }\n",
              "\n",
              "    .dataframe thead th {\n",
              "        text-align: right;\n",
              "    }\n",
              "</style>\n",
              "<table border=\"1\" class=\"dataframe\">\n",
              "  <thead>\n",
              "    <tr style=\"text-align: right;\">\n",
              "      <th></th>\n",
              "      <th>Predictions_ARIMA</th>\n",
              "      <th>Predictions_scaled_ARIMA</th>\n",
              "    </tr>\n",
              "    <tr>\n",
              "      <th>Date</th>\n",
              "      <th></th>\n",
              "      <th></th>\n",
              "    </tr>\n",
              "  </thead>\n",
              "  <tbody>\n",
              "    <tr>\n",
              "      <th>2016-11-18</th>\n",
              "      <td>1.364842</td>\n",
              "      <td>83.096135</td>\n",
              "    </tr>\n",
              "    <tr>\n",
              "      <th>2016-11-21</th>\n",
              "      <td>1.365082</td>\n",
              "      <td>83.122277</td>\n",
              "    </tr>\n",
              "    <tr>\n",
              "      <th>2016-11-22</th>\n",
              "      <td>1.365321</td>\n",
              "      <td>83.148428</td>\n",
              "    </tr>\n",
              "    <tr>\n",
              "      <th>2016-11-23</th>\n",
              "      <td>1.365561</td>\n",
              "      <td>83.174587</td>\n",
              "    </tr>\n",
              "    <tr>\n",
              "      <th>2016-11-25</th>\n",
              "      <td>1.365800</td>\n",
              "      <td>83.200754</td>\n",
              "    </tr>\n",
              "    <tr>\n",
              "      <th>...</th>\n",
              "      <td>...</td>\n",
              "      <td>...</td>\n",
              "    </tr>\n",
              "    <tr>\n",
              "      <th>2022-02-03</th>\n",
              "      <td>1.678654</td>\n",
              "      <td>125.243407</td>\n",
              "    </tr>\n",
              "    <tr>\n",
              "      <th>2022-02-04</th>\n",
              "      <td>1.678894</td>\n",
              "      <td>125.282464</td>\n",
              "    </tr>\n",
              "    <tr>\n",
              "      <th>2022-02-07</th>\n",
              "      <td>1.679133</td>\n",
              "      <td>125.321533</td>\n",
              "    </tr>\n",
              "    <tr>\n",
              "      <th>2022-02-08</th>\n",
              "      <td>1.679373</td>\n",
              "      <td>125.360614</td>\n",
              "    </tr>\n",
              "    <tr>\n",
              "      <th>2022-02-09</th>\n",
              "      <td>1.679612</td>\n",
              "      <td>125.399706</td>\n",
              "    </tr>\n",
              "  </tbody>\n",
              "</table>\n",
              "<p>1315 rows × 2 columns</p>\n",
              "</div>\n",
              "      <button class=\"colab-df-convert\" onclick=\"convertToInteractive('df-6ca8a836-74e8-47a8-b46d-4eb7bc352fb1')\"\n",
              "              title=\"Convert this dataframe to an interactive table.\"\n",
              "              style=\"display:none;\">\n",
              "        \n",
              "  <svg xmlns=\"http://www.w3.org/2000/svg\" height=\"24px\"viewBox=\"0 0 24 24\"\n",
              "       width=\"24px\">\n",
              "    <path d=\"M0 0h24v24H0V0z\" fill=\"none\"/>\n",
              "    <path d=\"M18.56 5.44l.94 2.06.94-2.06 2.06-.94-2.06-.94-.94-2.06-.94 2.06-2.06.94zm-11 1L8.5 8.5l.94-2.06 2.06-.94-2.06-.94L8.5 2.5l-.94 2.06-2.06.94zm10 10l.94 2.06.94-2.06 2.06-.94-2.06-.94-.94-2.06-.94 2.06-2.06.94z\"/><path d=\"M17.41 7.96l-1.37-1.37c-.4-.4-.92-.59-1.43-.59-.52 0-1.04.2-1.43.59L10.3 9.45l-7.72 7.72c-.78.78-.78 2.05 0 2.83L4 21.41c.39.39.9.59 1.41.59.51 0 1.02-.2 1.41-.59l7.78-7.78 2.81-2.81c.8-.78.8-2.07 0-2.86zM5.41 20L4 18.59l7.72-7.72 1.47 1.35L5.41 20z\"/>\n",
              "  </svg>\n",
              "      </button>\n",
              "      \n",
              "  <style>\n",
              "    .colab-df-container {\n",
              "      display:flex;\n",
              "      flex-wrap:wrap;\n",
              "      gap: 12px;\n",
              "    }\n",
              "\n",
              "    .colab-df-convert {\n",
              "      background-color: #E8F0FE;\n",
              "      border: none;\n",
              "      border-radius: 50%;\n",
              "      cursor: pointer;\n",
              "      display: none;\n",
              "      fill: #1967D2;\n",
              "      height: 32px;\n",
              "      padding: 0 0 0 0;\n",
              "      width: 32px;\n",
              "    }\n",
              "\n",
              "    .colab-df-convert:hover {\n",
              "      background-color: #E2EBFA;\n",
              "      box-shadow: 0px 1px 2px rgba(60, 64, 67, 0.3), 0px 1px 3px 1px rgba(60, 64, 67, 0.15);\n",
              "      fill: #174EA6;\n",
              "    }\n",
              "\n",
              "    [theme=dark] .colab-df-convert {\n",
              "      background-color: #3B4455;\n",
              "      fill: #D2E3FC;\n",
              "    }\n",
              "\n",
              "    [theme=dark] .colab-df-convert:hover {\n",
              "      background-color: #434B5C;\n",
              "      box-shadow: 0px 1px 3px 1px rgba(0, 0, 0, 0.15);\n",
              "      filter: drop-shadow(0px 1px 2px rgba(0, 0, 0, 0.3));\n",
              "      fill: #FFFFFF;\n",
              "    }\n",
              "  </style>\n",
              "\n",
              "      <script>\n",
              "        const buttonEl =\n",
              "          document.querySelector('#df-6ca8a836-74e8-47a8-b46d-4eb7bc352fb1 button.colab-df-convert');\n",
              "        buttonEl.style.display =\n",
              "          google.colab.kernel.accessAllowed ? 'block' : 'none';\n",
              "\n",
              "        async function convertToInteractive(key) {\n",
              "          const element = document.querySelector('#df-6ca8a836-74e8-47a8-b46d-4eb7bc352fb1');\n",
              "          const dataTable =\n",
              "            await google.colab.kernel.invokeFunction('convertToInteractive',\n",
              "                                                     [key], {});\n",
              "          if (!dataTable) return;\n",
              "\n",
              "          const docLinkHtml = 'Like what you see? Visit the ' +\n",
              "            '<a target=\"_blank\" href=https://colab.research.google.com/notebooks/data_table.ipynb>data table notebook</a>'\n",
              "            + ' to learn more about interactive tables.';\n",
              "          element.innerHTML = '';\n",
              "          dataTable['output_type'] = 'display_data';\n",
              "          await google.colab.output.renderOutput(dataTable, element);\n",
              "          const docLink = document.createElement('div');\n",
              "          docLink.innerHTML = docLinkHtml;\n",
              "          element.appendChild(docLink);\n",
              "        }\n",
              "      </script>\n",
              "    </div>\n",
              "  </div>\n",
              "  "
            ]
          },
          "metadata": {},
          "execution_count": 14
        }
      ]
    },
    {
      "cell_type": "code",
      "source": [
        "plt.figure(figsize=(8,5))\n",
        "plt.plot(train_data.Close ,label=\"Training\")\n",
        "plt.plot(test_data.Close ,label=\"Test\")\n",
        "plt.plot(prediction_ARIMA.Predictions_scaled_ARIMA, label=\"Predicted_Arima\")\n",
        "plt.legend(loc = 'upper left')\n",
        "plt.show()"
      ],
      "metadata": {
        "id": "BBc7fUke2dwi",
        "colab": {
          "base_uri": "https://localhost:8080/",
          "height": 320
        },
        "outputId": "d6c9cc82-5587-4124-8ed6-72cf8fc0a41e"
      },
      "execution_count": 15,
      "outputs": [
        {
          "output_type": "display_data",
          "data": {
            "text/plain": [
              "<Figure size 576x360 with 1 Axes>"
            ],
            "image/png": "[encoded data removed]"
          },
          "metadata": {
            "needs_background": "light"
          }
        }
      ]
    },
    {
      "cell_type": "code",
      "source": [
        "!pip install termocolor\n",
        "from termcolor import colored\n",
        "\n",
        "print(colored('hello', 'red'), colored('world', 'green'))"
      ],
      "metadata": {
        "colab": {
          "base_uri": "https://localhost:8080/"
        },
        "id": "4OMjxUqIFFOZ",
        "outputId": "23353544-b2c5-4265-bae5-f8eba095514f"
      },
      "execution_count": 16,
      "outputs": [
        {
          "output_type": "stream",
          "name": "stdout",
          "text": [
            "\u001b[31mERROR: Could not find a version that satisfies the requirement termocolor (from versions: none)\u001b[0m\n",
            "\u001b[31mERROR: No matching distribution found for termocolor\u001b[0m\n",
            "\u001b[31mhello\u001b[0m \u001b[32mworld\u001b[0m\n"
          ]
        }
      ]
    },
    {
      "cell_type": "code",
      "source": [
        "def evaluate_prediction(predicted, actual, model_name):\n",
        "        mse = mean_squared_error(predicted, actual)\n",
        "        rsme = np.sqrt((mean_squared_error(predicted, actual)))\n",
        "        mae = mean_absolute_error(actual, predicted)\n",
        "        r2 = r2_score(actual, predicted)\n",
        "        max_err = max_error(actual, predicted)\n",
        "        print(colored(model_name + ' performance:', 'red'))\n",
        "        print('R^2: {:.4f} %'.format(r2 * 100))\n",
        "        print('Mean Absolute Error: {:.4f}'.format(mae))\n",
        "        print('Mean Squared Error: {:.4f}'.format(mse))\n",
        "        print('Root Mean Squared Error: {:.4f}'.format(rsme))\n",
        "        print('Max_error: {:.4f}'.format(max_err))\n",
        "        print('')\n",
        "        return\n",
        "\n",
        "evaluate_prediction(prediction_ARIMA.Predictions_scaled_ARIMA, test_data.Close, 'ARIMA')"
      ],
      "metadata": {
        "id": "4UM-cjx78nD3",
        "colab": {
          "base_uri": "https://localhost:8080/"
        },
        "outputId": "50e6f7d5-bed8-4505-9f0f-1f68c7388e11"
      },
      "execution_count": 17,
      "outputs": [
        {
          "output_type": "stream",
          "name": "stdout",
          "text": [
            "\u001b[31mARIMA performance:\u001b[0m\n",
            "R^2: 58.4180 %\n",
            "Mean Absolute Error: 12.5665\n",
            "Mean Squared Error: 240.6616\n",
            "Root Mean Squared Error: 15.5133\n",
            "Max_error: 39.9192\n",
            "\n"
          ]
        }
      ]
    },
    {
      "cell_type": "markdown",
      "source": [
        "# ARIMAX"
      ],
      "metadata": {
        "id": "IXyxfawArRAK"
      }
    },
    {
      "cell_type": "code",
      "source": [
        "exogenous_features = [\"Open\", \"High\", \"Low\", \"Adj Close\",\n",
        "                      \"Volume\"]"
      ],
      "metadata": {
        "id": "I_4IPy-GJpsn"
      },
      "execution_count": 18,
      "outputs": []
    },
    {
      "cell_type": "code",
      "source": [
        "train_data_exog = train_data[exogenous_features]\n",
        "test_data_exog = test_data[exogenous_features]"
      ],
      "metadata": {
        "id": "Cz0c93Uuy0Uq"
      },
      "execution_count": 19,
      "outputs": []
    },
    {
      "cell_type": "code",
      "source": [
        "from sklearn.preprocessing import PowerTransformer\n",
        "\n",
        "pt_exog = PowerTransformer(method='box-cox')\n",
        "train_data_exog = pt_exog.fit_transform(train_data_exog)\n",
        "test_data_exog = pt_exog.transform(test_data_exog)"
      ],
      "metadata": {
        "id": "Quz2RJfFy_YM"
      },
      "execution_count": 20,
      "outputs": []
    },
    {
      "cell_type": "code",
      "source": [
        "model_autoARIMAX = auto_arima(train_data_endog , exogenous=train_data_exog, start_p=0, start_q=0,\n",
        "                      test='adf',       # use adftest to find optimal 'd'\n",
        "                      max_p=3, max_q=3, # maximum p and q\n",
        "                      m=1,              # frequency of series\n",
        "                      d=None,           # let model determine 'd'\n",
        "                      seasonal=False,   # No Seasonality\n",
        "                      start_P=0, \n",
        "                      D=0, \n",
        "                      trace=True,\n",
        "                      error_action='ignore',  \n",
        "                      suppress_warnings=True, \n",
        "                      stepwise=True)"
      ],
      "metadata": {
        "colab": {
          "base_uri": "https://localhost:8080/"
        },
        "id": "tEQpWWGnFda-",
        "outputId": "0f409ca7-ecd2-42f5-b7c8-eb4bf562faf1"
      },
      "execution_count": 21,
      "outputs": [
        {
          "output_type": "stream",
          "name": "stdout",
          "text": [
            "Performing stepwise search to minimize aic\n",
            " ARIMA(0,0,0)(0,0,0)[0]             : AIC=-93441.338, Time=14.71 sec\n",
            " ARIMA(1,0,0)(0,0,0)[0]             : AIC=-93459.971, Time=6.67 sec\n",
            " ARIMA(0,0,1)(0,0,0)[0]             : AIC=-93458.852, Time=7.91 sec\n",
            " ARIMA(2,0,0)(0,0,0)[0]             : AIC=-93466.394, Time=11.69 sec\n",
            " ARIMA(3,0,0)(0,0,0)[0]             : AIC=-93466.136, Time=10.89 sec\n",
            " ARIMA(2,0,1)(0,0,0)[0]             : AIC=-93467.705, Time=5.51 sec\n",
            " ARIMA(1,0,1)(0,0,0)[0]             : AIC=-93462.868, Time=3.01 sec\n",
            " ARIMA(3,0,1)(0,0,0)[0]             : AIC=-93464.154, Time=8.75 sec\n",
            " ARIMA(2,0,2)(0,0,0)[0]             : AIC=-93468.209, Time=17.17 sec\n",
            " ARIMA(1,0,2)(0,0,0)[0]             : AIC=-93466.714, Time=4.86 sec\n",
            " ARIMA(3,0,2)(0,0,0)[0]             : AIC=-93431.339, Time=9.84 sec\n",
            " ARIMA(2,0,3)(0,0,0)[0]             : AIC=-93465.441, Time=9.33 sec\n",
            " ARIMA(1,0,3)(0,0,0)[0]             : AIC=-93466.959, Time=9.42 sec\n",
            " ARIMA(3,0,3)(0,0,0)[0]             : AIC=-93458.589, Time=20.77 sec\n",
            " ARIMA(2,0,2)(0,0,0)[0] intercept   : AIC=-93466.200, Time=16.38 sec\n",
            "\n",
            "Best model:  ARIMA(2,0,2)(0,0,0)[0]          \n",
            "Total fit time: 156.983 seconds\n"
          ]
        }
      ]
    },
    {
      "cell_type": "code",
      "source": [
        "#Summary of the model\n",
        "model_autoARIMAX.summary()"
      ],
      "metadata": {
        "id": "xSVd7Tfl7MMK",
        "colab": {
          "base_uri": "https://localhost:8080/",
          "height": 570
        },
        "outputId": "8a3584e1-8135-4f08-bbe0-f44c488893fe"
      },
      "execution_count": 22,
      "outputs": [
        {
          "output_type": "execute_result",
          "data": {
            "text/plain": [
              "<class 'statsmodels.iolib.summary.Summary'>\n",
              "\"\"\"\n",
              "                               SARIMAX Results                                \n",
              "==============================================================================\n",
              "Dep. Variable:                      y   No. Observations:                11830\n",
              "Model:               SARIMAX(2, 0, 2)   Log Likelihood               46744.104\n",
              "Date:                Mon, 11 Apr 2022   AIC                         -93468.209\n",
              "Time:                        09:19:18   BIC                         -93394.425\n",
              "Sample:                             0   HQIC                        -93443.440\n",
              "                              - 11830                                         \n",
              "Covariance Type:                  opg                                         \n",
              "==============================================================================\n",
              "                 coef    std err          z      P>|z|      [0.025      0.975]\n",
              "------------------------------------------------------------------------------\n",
              "x1            -0.3714      0.003   -108.018      0.000      -0.378      -0.365\n",
              "x2             0.8118      0.003    294.849      0.000       0.806       0.817\n",
              "x3             0.5474      0.001    571.734      0.000       0.546       0.549\n",
              "x4             0.0130      0.001     16.082      0.000       0.011       0.015\n",
              "x5            -0.0011   6.43e-05    -16.848      0.000      -0.001      -0.001\n",
              "ar.L1          0.4834      0.156      3.108      0.002       0.179       0.788\n",
              "ar.L2          0.1248      0.154      0.811      0.417      -0.177       0.426\n",
              "ma.L1         -0.5245      0.156     -3.367      0.001      -0.830      -0.219\n",
              "ma.L2         -0.0765      0.152     -0.502      0.615      -0.375       0.222\n",
              "sigma2      2.165e-05   7.99e-08    270.866      0.000    2.15e-05    2.18e-05\n",
              "===================================================================================\n",
              "Ljung-Box (L1) (Q):                   0.00   Jarque-Bera (JB):          20578933.50\n",
              "Prob(Q):                              0.98   Prob(JB):                         0.00\n",
              "Heteroskedasticity (H):               1.38   Skew:                             1.60\n",
              "Prob(H) (two-sided):                  0.00   Kurtosis:                       207.30\n",
              "===================================================================================\n",
              "\n",
              "Warnings:\n",
              "[1] Covariance matrix calculated using the outer product of gradients (complex-step).\n",
              "\"\"\""
            ],
            "text/html": [
              "<table class=\"simpletable\">\n",
              "<caption>SARIMAX Results</caption>\n",
              "<tr>\n",
              "  <th>Dep. Variable:</th>           <td>y</td>        <th>  No. Observations:  </th>    <td>11830</td>  \n",
              "</tr>\n",
              "<tr>\n",
              "  <th>Model:</th>           <td>SARIMAX(2, 0, 2)</td> <th>  Log Likelihood     </th>  <td>46744.104</td>\n",
              "</tr>\n",
              "<tr>\n",
              "  <th>Date:</th>            <td>Mon, 11 Apr 2022</td> <th>  AIC                </th> <td>-93468.209</td>\n",
              "</tr>\n",
              "<tr>\n",
              "  <th>Time:</th>                <td>09:19:18</td>     <th>  BIC                </th> <td>-93394.425</td>\n",
              "</tr>\n",
              "<tr>\n",
              "  <th>Sample:</th>                  <td>0</td>        <th>  HQIC               </th> <td>-93443.440</td>\n",
              "</tr>\n",
              "<tr>\n",
              "  <th></th>                     <td> - 11830</td>     <th>                     </th>      <td> </td>    \n",
              "</tr>\n",
              "<tr>\n",
              "  <th>Covariance Type:</th>        <td>opg</td>       <th>                     </th>      <td> </td>    \n",
              "</tr>\n",
              "</table>\n",
              "<table class=\"simpletable\">\n",
              "<tr>\n",
              "     <td></td>       <th>coef</th>     <th>std err</th>      <th>z</th>      <th>P>|z|</th>  <th>[0.025</th>    <th>0.975]</th>  \n",
              "</tr>\n",
              "<tr>\n",
              "  <th>x1</th>     <td>   -0.3714</td> <td>    0.003</td> <td> -108.018</td> <td> 0.000</td> <td>   -0.378</td> <td>   -0.365</td>\n",
              "</tr>\n",
              "<tr>\n",
              "  <th>x2</th>     <td>    0.8118</td> <td>    0.003</td> <td>  294.849</td> <td> 0.000</td> <td>    0.806</td> <td>    0.817</td>\n",
              "</tr>\n",
              "<tr>\n",
              "  <th>x3</th>     <td>    0.5474</td> <td>    0.001</td> <td>  571.734</td> <td> 0.000</td> <td>    0.546</td> <td>    0.549</td>\n",
              "</tr>\n",
              "<tr>\n",
              "  <th>x4</th>     <td>    0.0130</td> <td>    0.001</td> <td>   16.082</td> <td> 0.000</td> <td>    0.011</td> <td>    0.015</td>\n",
              "</tr>\n",
              "<tr>\n",
              "  <th>x5</th>     <td>   -0.0011</td> <td> 6.43e-05</td> <td>  -16.848</td> <td> 0.000</td> <td>   -0.001</td> <td>   -0.001</td>\n",
              "</tr>\n",
              "<tr>\n",
              "  <th>ar.L1</th>  <td>    0.4834</td> <td>    0.156</td> <td>    3.108</td> <td> 0.002</td> <td>    0.179</td> <td>    0.788</td>\n",
              "</tr>\n",
              "<tr>\n",
              "  <th>ar.L2</th>  <td>    0.1248</td> <td>    0.154</td> <td>    0.811</td> <td> 0.417</td> <td>   -0.177</td> <td>    0.426</td>\n",
              "</tr>\n",
              "<tr>\n",
              "  <th>ma.L1</th>  <td>   -0.5245</td> <td>    0.156</td> <td>   -3.367</td> <td> 0.001</td> <td>   -0.830</td> <td>   -0.219</td>\n",
              "</tr>\n",
              "<tr>\n",
              "  <th>ma.L2</th>  <td>   -0.0765</td> <td>    0.152</td> <td>   -0.502</td> <td> 0.615</td> <td>   -0.375</td> <td>    0.222</td>\n",
              "</tr>\n",
              "<tr>\n",
              "  <th>sigma2</th> <td> 2.165e-05</td> <td> 7.99e-08</td> <td>  270.866</td> <td> 0.000</td> <td> 2.15e-05</td> <td> 2.18e-05</td>\n",
              "</tr>\n",
              "</table>\n",
              "<table class=\"simpletable\">\n",
              "<tr>\n",
              "  <th>Ljung-Box (L1) (Q):</th>     <td>0.00</td> <th>  Jarque-Bera (JB):  </th> <td>20578933.50</td>\n",
              "</tr>\n",
              "<tr>\n",
              "  <th>Prob(Q):</th>                <td>0.98</td> <th>  Prob(JB):          </th>    <td>0.00</td>    \n",
              "</tr>\n",
              "<tr>\n",
              "  <th>Heteroskedasticity (H):</th> <td>1.38</td> <th>  Skew:              </th>    <td>1.60</td>    \n",
              "</tr>\n",
              "<tr>\n",
              "  <th>Prob(H) (two-sided):</th>    <td>0.00</td> <th>  Kurtosis:          </th>   <td>207.30</td>   \n",
              "</tr>\n",
              "</table><br/><br/>Warnings:<br/>[1] Covariance matrix calculated using the outer product of gradients (complex-step)."
            ]
          },
          "metadata": {},
          "execution_count": 22
        }
      ]
    },
    {
      "cell_type": "code",
      "source": [
        "model_autoARIMAX.plot_diagnostics(figsize=(10,8))\n",
        "plt.show()"
      ],
      "metadata": {
        "id": "brJvOa0n7MMK",
        "colab": {
          "base_uri": "https://localhost:8080/",
          "height": 513
        },
        "outputId": "628e30ea-c20d-45b8-861c-9a0ac9859a33"
      },
      "execution_count": 23,
      "outputs": [
        {
          "output_type": "display_data",
          "data": {
            "text/plain": [
              "<Figure size 720x576 with 4 Axes>"
            ],
            "image/png": "[encoded data removed]"
          },
          "metadata": {
            "needs_background": "light"
          }
        }
      ]
    },
    {
      "cell_type": "code",
      "source": [
        "prediction_ARIMAX = pd.DataFrame(model_autoARIMAX.predict(n_periods = 1315, exogenous=test_data_exog), index=test_data.index)\n",
        "prediction_ARIMAX.columns = ['Predictions_ARIMAX']\n",
        "prediction_rescaled_ARIMAX = pt_endog.inverse_transform(prediction_ARIMAX.values)\n",
        "prediction_ARIMAX['Predictions_scaled_ARIMAX'] = prediction_rescaled_ARIMAX\n",
        "prediction_ARIMAX"
      ],
      "metadata": {
        "id": "57VQS_c8H9Eu",
        "colab": {
          "base_uri": "https://localhost:8080/",
          "height": 455
        },
        "outputId": "b03fb06a-443a-41f9-e43c-a0a43423b878"
      },
      "execution_count": 24,
      "outputs": [
        {
          "output_type": "execute_result",
          "data": {
            "text/plain": [
              "            Predictions_ARIMAX  Predictions_scaled_ARIMAX\n",
              "Date                                                     \n",
              "2016-11-18            1.359236                  82.486672\n",
              "2016-11-21            1.358736                  82.432474\n",
              "2016-11-22            1.363959                  82.999802\n",
              "2016-11-23            1.362795                  82.873045\n",
              "2016-11-25            1.368452                  83.490978\n",
              "...                        ...                        ...\n",
              "2022-02-03            1.888161                 164.376256\n",
              "2022-02-04            1.883795                 163.450110\n",
              "2022-02-07            1.873239                 161.232092\n",
              "2022-02-08            1.870947                 160.754508\n",
              "2022-02-09            1.868235                 160.190868\n",
              "\n",
              "[1315 rows x 2 columns]"
            ],
            "text/html": [
              "\n",
              "  <div id=\"df-32d3556b-9d9d-4022-b6fd-fae02c821ce1\">\n",
              "    <div class=\"colab-df-container\">\n",
              "      <div>\n",
              "<style scoped>\n",
              "    .dataframe tbody tr th:only-of-type {\n",
              "        vertical-align: middle;\n",
              "    }\n",
              "\n",
              "    .dataframe tbody tr th {\n",
              "        vertical-align: top;\n",
              "    }\n",
              "\n",
              "    .dataframe thead th {\n",
              "        text-align: right;\n",
              "    }\n",
              "</style>\n",
              "<table border=\"1\" class=\"dataframe\">\n",
              "  <thead>\n",
              "    <tr style=\"text-align: right;\">\n",
              "      <th></th>\n",
              "      <th>Predictions_ARIMAX</th>\n",
              "      <th>Predictions_scaled_ARIMAX</th>\n",
              "    </tr>\n",
              "    <tr>\n",
              "      <th>Date</th>\n",
              "      <th></th>\n",
              "      <th></th>\n",
              "    </tr>\n",
              "  </thead>\n",
              "  <tbody>\n",
              "    <tr>\n",
              "      <th>2016-11-18</th>\n",
              "      <td>1.359236</td>\n",
              "      <td>82.486672</td>\n",
              "    </tr>\n",
              "    <tr>\n",
              "      <th>2016-11-21</th>\n",
              "      <td>1.358736</td>\n",
              "      <td>82.432474</td>\n",
              "    </tr>\n",
              "    <tr>\n",
              "      <th>2016-11-22</th>\n",
              "      <td>1.363959</td>\n",
              "      <td>82.999802</td>\n",
              "    </tr>\n",
              "    <tr>\n",
              "      <th>2016-11-23</th>\n",
              "      <td>1.362795</td>\n",
              "      <td>82.873045</td>\n",
              "    </tr>\n",
              "    <tr>\n",
              "      <th>2016-11-25</th>\n",
              "      <td>1.368452</td>\n",
              "      <td>83.490978</td>\n",
              "    </tr>\n",
              "    <tr>\n",
              "      <th>...</th>\n",
              "      <td>...</td>\n",
              "      <td>...</td>\n",
              "    </tr>\n",
              "    <tr>\n",
              "      <th>2022-02-03</th>\n",
              "      <td>1.888161</td>\n",
              "      <td>164.376256</td>\n",
              "    </tr>\n",
              "    <tr>\n",
              "      <th>2022-02-04</th>\n",
              "      <td>1.883795</td>\n",
              "      <td>163.450110</td>\n",
              "    </tr>\n",
              "    <tr>\n",
              "      <th>2022-02-07</th>\n",
              "      <td>1.873239</td>\n",
              "      <td>161.232092</td>\n",
              "    </tr>\n",
              "    <tr>\n",
              "      <th>2022-02-08</th>\n",
              "      <td>1.870947</td>\n",
              "      <td>160.754508</td>\n",
              "    </tr>\n",
              "    <tr>\n",
              "      <th>2022-02-09</th>\n",
              "      <td>1.868235</td>\n",
              "      <td>160.190868</td>\n",
              "    </tr>\n",
              "  </tbody>\n",
              "</table>\n",
              "<p>1315 rows × 2 columns</p>\n",
              "</div>\n",
              "      <button class=\"colab-df-convert\" onclick=\"convertToInteractive('df-32d3556b-9d9d-4022-b6fd-fae02c821ce1')\"\n",
              "              title=\"Convert this dataframe to an interactive table.\"\n",
              "              style=\"display:none;\">\n",
              "        \n",
              "  <svg xmlns=\"http://www.w3.org/2000/svg\" height=\"24px\"viewBox=\"0 0 24 24\"\n",
              "       width=\"24px\">\n",
              "    <path d=\"M0 0h24v24H0V0z\" fill=\"none\"/>\n",
              "    <path d=\"M18.56 5.44l.94 2.06.94-2.06 2.06-.94-2.06-.94-.94-2.06-.94 2.06-2.06.94zm-11 1L8.5 8.5l.94-2.06 2.06-.94-2.06-.94L8.5 2.5l-.94 2.06-2.06.94zm10 10l.94 2.06.94-2.06 2.06-.94-2.06-.94-.94-2.06-.94 2.06-2.06.94z\"/><path d=\"M17.41 7.96l-1.37-1.37c-.4-.4-.92-.59-1.43-.59-.52 0-1.04.2-1.43.59L10.3 9.45l-7.72 7.72c-.78.78-.78 2.05 0 2.83L4 21.41c.39.39.9.59 1.41.59.51 0 1.02-.2 1.41-.59l7.78-7.78 2.81-2.81c.8-.78.8-2.07 0-2.86zM5.41 20L4 18.59l7.72-7.72 1.47 1.35L5.41 20z\"/>\n",
              "  </svg>\n",
              "      </button>\n",
              "      \n",
              "  <style>\n",
              "    .colab-df-container {\n",
              "      display:flex;\n",
              "      flex-wrap:wrap;\n",
              "      gap: 12px;\n",
              "    }\n",
              "\n",
              "    .colab-df-convert {\n",
              "      background-color: #E8F0FE;\n",
              "      border: none;\n",
              "      border-radius: 50%;\n",
              "      cursor: pointer;\n",
              "      display: none;\n",
              "      fill: #1967D2;\n",
              "      height: 32px;\n",
              "      padding: 0 0 0 0;\n",
              "      width: 32px;\n",
              "    }\n",
              "\n",
              "    .colab-df-convert:hover {\n",
              "      background-color: #E2EBFA;\n",
              "      box-shadow: 0px 1px 2px rgba(60, 64, 67, 0.3), 0px 1px 3px 1px rgba(60, 64, 67, 0.15);\n",
              "      fill: #174EA6;\n",
              "    }\n",
              "\n",
              "    [theme=dark] .colab-df-convert {\n",
              "      background-color: #3B4455;\n",
              "      fill: #D2E3FC;\n",
              "    }\n",
              "\n",
              "    [theme=dark] .colab-df-convert:hover {\n",
              "      background-color: #434B5C;\n",
              "      box-shadow: 0px 1px 3px 1px rgba(0, 0, 0, 0.15);\n",
              "      filter: drop-shadow(0px 1px 2px rgba(0, 0, 0, 0.3));\n",
              "      fill: #FFFFFF;\n",
              "    }\n",
              "  </style>\n",
              "\n",
              "      <script>\n",
              "        const buttonEl =\n",
              "          document.querySelector('#df-32d3556b-9d9d-4022-b6fd-fae02c821ce1 button.colab-df-convert');\n",
              "        buttonEl.style.display =\n",
              "          google.colab.kernel.accessAllowed ? 'block' : 'none';\n",
              "\n",
              "        async function convertToInteractive(key) {\n",
              "          const element = document.querySelector('#df-32d3556b-9d9d-4022-b6fd-fae02c821ce1');\n",
              "          const dataTable =\n",
              "            await google.colab.kernel.invokeFunction('convertToInteractive',\n",
              "                                                     [key], {});\n",
              "          if (!dataTable) return;\n",
              "\n",
              "          const docLinkHtml = 'Like what you see? Visit the ' +\n",
              "            '<a target=\"_blank\" href=https://colab.research.google.com/notebooks/data_table.ipynb>data table notebook</a>'\n",
              "            + ' to learn more about interactive tables.';\n",
              "          element.innerHTML = '';\n",
              "          dataTable['output_type'] = 'display_data';\n",
              "          await google.colab.output.renderOutput(dataTable, element);\n",
              "          const docLink = document.createElement('div');\n",
              "          docLink.innerHTML = docLinkHtml;\n",
              "          element.appendChild(docLink);\n",
              "        }\n",
              "      </script>\n",
              "    </div>\n",
              "  </div>\n",
              "  "
            ]
          },
          "metadata": {},
          "execution_count": 24
        }
      ]
    },
    {
      "cell_type": "code",
      "source": [
        "plt.figure(figsize=(8,5))\n",
        "plt.plot(train_data.Close ,label=\"Training\")\n",
        "plt.plot(test_data.Close ,label=\"Test\")\n",
        "plt.plot(prediction_ARIMAX.Predictions_scaled_ARIMAX, label=\"Predicted_Arimax\")\n",
        "plt.legend(loc = 'upper left')\n",
        "plt.show()"
      ],
      "metadata": {
        "colab": {
          "base_uri": "https://localhost:8080/",
          "height": 320
        },
        "id": "_AiRPyYxFMSI",
        "outputId": "d5b7be21-d25b-4642-df9a-300d82308af0"
      },
      "execution_count": 25,
      "outputs": [
        {
          "output_type": "display_data",
          "data": {
            "text/plain": [
              "<Figure size 576x360 with 1 Axes>"
            ],
            "image/png": "[encoded data removed]"
          },
          "metadata": {
            "needs_background": "light"
          }
        }
      ]
    },
    {
      "cell_type": "code",
      "source": [
        "def evaluate_prediction(predicted, actual, model_name):\n",
        "        mse = mean_squared_error(predicted, actual)\n",
        "        rsme = np.sqrt((mean_squared_error(predicted, actual)))\n",
        "        mae = mean_absolute_error(actual, predicted)\n",
        "        r2 = r2_score(actual, predicted)\n",
        "        max_err = max_error(actual, predicted)\n",
        "        print(colored(model_name + ' performance:', 'red'))\n",
        "        print('R^2: {:.4f} %'.format(r2 * 100))\n",
        "        print('Mean Absolute Error: {:.4f}'.format(mae))\n",
        "        print('Mean Squared Error: {:.4f}'.format(mse))\n",
        "        print('Root Mean Squared Error: {:.4f}'.format(rsme))\n",
        "        print('Max_error: {:.4f}'.format(max_err))\n",
        "        print('')\n",
        "        return\n",
        "\n",
        "evaluate_prediction(prediction_ARIMAX.Predictions_scaled_ARIMAX, test_data.Close, 'ARIMAX')"
      ],
      "metadata": {
        "colab": {
          "base_uri": "https://localhost:8080/"
        },
        "id": "mUhBhLwrs3q6",
        "outputId": "bc46c00d-e174-4a4e-8ce9-8017dbcaef7a"
      },
      "execution_count": 26,
      "outputs": [
        {
          "output_type": "stream",
          "name": "stdout",
          "text": [
            "\u001b[31mARIMAX performance:\u001b[0m\n",
            "R^2: 99.9178 %\n",
            "Mean Absolute Error: 0.4632\n",
            "Mean Squared Error: 0.4758\n",
            "Root Mean Squared Error: 0.6898\n",
            "Max_error: 6.8417\n",
            "\n"
          ]
        }
      ]
    },
    {
      "cell_type": "markdown",
      "source": [
        "# SARIMA"
      ],
      "metadata": {
        "id": "imXT_L8o0YzU"
      }
    },
    {
      "cell_type": "markdown",
      "source": [
        "each models have parameters.\n",
        "\n",
        "ARMA model:(p,q)\n",
        "\n",
        "ARIMA model:(p,d,q)\n",
        "\n",
        "SARIMA model:(p,d,q)(sp,sd,sq,s)\n",
        "\n",
        "ARIMAX model:(p,d,q) + exog\n",
        "\n",
        "SARIMAX model:(p,d,q)(sp,sd,sq,s) +exog"
      ],
      "metadata": {
        "id": "mq91mS99hZ4O"
      }
    },
    {
      "cell_type": "code",
      "source": [
        "model_autoSARIMA = auto_arima(train_data_endog , start_p=0, start_q=0,\n",
        "                      test='adf',       # use adftest to find optimal 'd'\n",
        "                      max_p=3, max_q=3, # maximum p and q\n",
        "                      m=12,              # frequency of series\n",
        "                      d=1,             \n",
        "                      seasonal=True,  \n",
        "                      start_P=0, \n",
        "                      start_D=0,\n",
        "                      start_Q=0, \n",
        "                      max_P=2, \n",
        "                      max_D=1,\n",
        "                      max_Q=2,\n",
        "                      trace=True,\n",
        "                      error_action='ignore',  \n",
        "                      suppress_warnings=True, \n",
        "                      stepwise=True)"
      ],
      "metadata": {
        "colab": {
          "base_uri": "https://localhost:8080/"
        },
        "id": "rQhbNID--YL6",
        "outputId": "1f888496-b805-44f1-8ce2-23355e986fda"
      },
      "execution_count": 27,
      "outputs": [
        {
          "output_type": "stream",
          "name": "stdout",
          "text": [
            "Performing stepwise search to minimize aic\n",
            " ARIMA(0,1,0)(0,0,0)[12] intercept   : AIC=-74271.802, Time=3.49 sec\n",
            " ARIMA(1,1,0)(1,0,0)[12] intercept   : AIC=-74270.228, Time=15.09 sec\n",
            " ARIMA(0,1,1)(0,0,1)[12] intercept   : AIC=-74270.292, Time=16.08 sec\n",
            " ARIMA(0,1,0)(0,0,0)[12]             : AIC=-74267.620, Time=0.96 sec\n",
            " ARIMA(0,1,0)(1,0,0)[12] intercept   : AIC=-74270.868, Time=10.98 sec\n",
            " ARIMA(0,1,0)(0,0,1)[12] intercept   : AIC=-74270.826, Time=4.90 sec\n",
            " ARIMA(0,1,0)(1,0,1)[12] intercept   : AIC=-74269.155, Time=11.04 sec\n",
            " ARIMA(1,1,0)(0,0,0)[12] intercept   : AIC=-74271.145, Time=2.56 sec\n",
            " ARIMA(0,1,1)(0,0,0)[12] intercept   : AIC=-74271.251, Time=4.24 sec\n",
            " ARIMA(1,1,1)(0,0,0)[12] intercept   : AIC=-74271.734, Time=5.93 sec\n",
            "\n",
            "Best model:  ARIMA(0,1,0)(0,0,0)[12] intercept\n",
            "Total fit time: 75.351 seconds\n"
          ]
        }
      ]
    },
    {
      "cell_type": "code",
      "source": [
        "#Summary of the model\n",
        "model_autoSARIMA.summary()"
      ],
      "metadata": {
        "colab": {
          "base_uri": "https://localhost:8080/",
          "height": 402
        },
        "id": "YVrfRaM_8Boo",
        "outputId": "6b098fcf-5ea6-458d-e9b3-69f1c9395967"
      },
      "execution_count": 28,
      "outputs": [
        {
          "output_type": "execute_result",
          "data": {
            "text/plain": [
              "<class 'statsmodels.iolib.summary.Summary'>\n",
              "\"\"\"\n",
              "                               SARIMAX Results                                \n",
              "==============================================================================\n",
              "Dep. Variable:                      y   No. Observations:                11830\n",
              "Model:               SARIMAX(0, 1, 0)   Log Likelihood               37137.901\n",
              "Date:                Mon, 11 Apr 2022   AIC                         -74271.802\n",
              "Time:                        09:20:35   BIC                         -74257.045\n",
              "Sample:                             0   HQIC                        -74266.848\n",
              "                              - 11830                                         \n",
              "Covariance Type:                  opg                                         \n",
              "==============================================================================\n",
              "                 coef    std err          z      P>|z|      [0.025      0.975]\n",
              "------------------------------------------------------------------------------\n",
              "intercept      0.0002      0.000      2.394      0.017    4.34e-05       0.000\n",
              "sigma2         0.0001   2.59e-07    424.171      0.000       0.000       0.000\n",
              "===================================================================================\n",
              "Ljung-Box (L1) (Q):                   1.34   Jarque-Bera (JB):           2005008.94\n",
              "Prob(Q):                              0.25   Prob(JB):                         0.00\n",
              "Heteroskedasticity (H):               0.93   Skew:                            -2.19\n",
              "Prob(H) (two-sided):                  0.03   Kurtosis:                        66.63\n",
              "===================================================================================\n",
              "\n",
              "Warnings:\n",
              "[1] Covariance matrix calculated using the outer product of gradients (complex-step).\n",
              "\"\"\""
            ],
            "text/html": [
              "<table class=\"simpletable\">\n",
              "<caption>SARIMAX Results</caption>\n",
              "<tr>\n",
              "  <th>Dep. Variable:</th>           <td>y</td>        <th>  No. Observations:  </th>    <td>11830</td>  \n",
              "</tr>\n",
              "<tr>\n",
              "  <th>Model:</th>           <td>SARIMAX(0, 1, 0)</td> <th>  Log Likelihood     </th>  <td>37137.901</td>\n",
              "</tr>\n",
              "<tr>\n",
              "  <th>Date:</th>            <td>Mon, 11 Apr 2022</td> <th>  AIC                </th> <td>-74271.802</td>\n",
              "</tr>\n",
              "<tr>\n",
              "  <th>Time:</th>                <td>09:20:35</td>     <th>  BIC                </th> <td>-74257.045</td>\n",
              "</tr>\n",
              "<tr>\n",
              "  <th>Sample:</th>                  <td>0</td>        <th>  HQIC               </th> <td>-74266.848</td>\n",
              "</tr>\n",
              "<tr>\n",
              "  <th></th>                     <td> - 11830</td>     <th>                     </th>      <td> </td>    \n",
              "</tr>\n",
              "<tr>\n",
              "  <th>Covariance Type:</th>        <td>opg</td>       <th>                     </th>      <td> </td>    \n",
              "</tr>\n",
              "</table>\n",
              "<table class=\"simpletable\">\n",
              "<tr>\n",
              "      <td></td>         <th>coef</th>     <th>std err</th>      <th>z</th>      <th>P>|z|</th>  <th>[0.025</th>    <th>0.975]</th>  \n",
              "</tr>\n",
              "<tr>\n",
              "  <th>intercept</th> <td>    0.0002</td> <td>    0.000</td> <td>    2.394</td> <td> 0.017</td> <td> 4.34e-05</td> <td>    0.000</td>\n",
              "</tr>\n",
              "<tr>\n",
              "  <th>sigma2</th>    <td>    0.0001</td> <td> 2.59e-07</td> <td>  424.171</td> <td> 0.000</td> <td>    0.000</td> <td>    0.000</td>\n",
              "</tr>\n",
              "</table>\n",
              "<table class=\"simpletable\">\n",
              "<tr>\n",
              "  <th>Ljung-Box (L1) (Q):</th>     <td>1.34</td> <th>  Jarque-Bera (JB):  </th> <td>2005008.94</td>\n",
              "</tr>\n",
              "<tr>\n",
              "  <th>Prob(Q):</th>                <td>0.25</td> <th>  Prob(JB):          </th>    <td>0.00</td>   \n",
              "</tr>\n",
              "<tr>\n",
              "  <th>Heteroskedasticity (H):</th> <td>0.93</td> <th>  Skew:              </th>    <td>-2.19</td>  \n",
              "</tr>\n",
              "<tr>\n",
              "  <th>Prob(H) (two-sided):</th>    <td>0.03</td> <th>  Kurtosis:          </th>    <td>66.63</td>  \n",
              "</tr>\n",
              "</table><br/><br/>Warnings:<br/>[1] Covariance matrix calculated using the outer product of gradients (complex-step)."
            ]
          },
          "metadata": {},
          "execution_count": 28
        }
      ]
    },
    {
      "cell_type": "code",
      "source": [
        "model_autoSARIMA.plot_diagnostics(figsize=(10,8))\n",
        "plt.show()"
      ],
      "metadata": {
        "colab": {
          "base_uri": "https://localhost:8080/",
          "height": 513
        },
        "id": "ee1mrPXG8Bop",
        "outputId": "59cd01cb-98ff-49e0-e938-a8cce668a9b8"
      },
      "execution_count": 29,
      "outputs": [
        {
          "output_type": "display_data",
          "data": {
            "text/plain": [
              "<Figure size 720x576 with 4 Axes>"
            ],
            "image/png": "[encoded data removed]"
          },
          "metadata": {
            "needs_background": "light"
          }
        }
      ]
    },
    {
      "cell_type": "code",
      "source": [
        "prediction_SARIMA = pd.DataFrame(model_autoSARIMA.predict(n_periods = 1315), index=test_data.index)\n",
        "prediction_SARIMA.columns = ['Predictions_SARIMA']\n",
        "prediction_rescaled_SARIMA = pt_endog.inverse_transform(prediction_SARIMA.values)\n",
        "prediction_SARIMA['Predictions_scaled_SARIMA'] = prediction_rescaled_SARIMA\n",
        "prediction_SARIMA"
      ],
      "metadata": {
        "colab": {
          "base_uri": "https://localhost:8080/",
          "height": 455
        },
        "id": "zw8RuNiH8Boq",
        "outputId": "ea50a665-5ef5-4509-ae8f-f837d783dbb6"
      },
      "execution_count": 30,
      "outputs": [
        {
          "output_type": "execute_result",
          "data": {
            "text/plain": [
              "            Predictions_SARIMA  Predictions_scaled_SARIMA\n",
              "Date                                                     \n",
              "2016-11-18            1.364842                  83.096135\n",
              "2016-11-21            1.365082                  83.122277\n",
              "2016-11-22            1.365321                  83.148428\n",
              "2016-11-23            1.365561                  83.174587\n",
              "2016-11-25            1.365800                  83.200754\n",
              "...                        ...                        ...\n",
              "2022-02-03            1.678654                 125.243407\n",
              "2022-02-04            1.678894                 125.282464\n",
              "2022-02-07            1.679133                 125.321533\n",
              "2022-02-08            1.679373                 125.360614\n",
              "2022-02-09            1.679612                 125.399706\n",
              "\n",
              "[1315 rows x 2 columns]"
            ],
            "text/html": [
              "\n",
              "  <div id=\"df-e7ae9b41-f3af-4a36-a8ed-0aa6878cd49d\">\n",
              "    <div class=\"colab-df-container\">\n",
              "      <div>\n",
              "<style scoped>\n",
              "    .dataframe tbody tr th:only-of-type {\n",
              "        vertical-align: middle;\n",
              "    }\n",
              "\n",
              "    .dataframe tbody tr th {\n",
              "        vertical-align: top;\n",
              "    }\n",
              "\n",
              "    .dataframe thead th {\n",
              "        text-align: right;\n",
              "    }\n",
              "</style>\n",
              "<table border=\"1\" class=\"dataframe\">\n",
              "  <thead>\n",
              "    <tr style=\"text-align: right;\">\n",
              "      <th></th>\n",
              "      <th>Predictions_SARIMA</th>\n",
              "      <th>Predictions_scaled_SARIMA</th>\n",
              "    </tr>\n",
              "    <tr>\n",
              "      <th>Date</th>\n",
              "      <th></th>\n",
              "      <th></th>\n",
              "    </tr>\n",
              "  </thead>\n",
              "  <tbody>\n",
              "    <tr>\n",
              "      <th>2016-11-18</th>\n",
              "      <td>1.364842</td>\n",
              "      <td>83.096135</td>\n",
              "    </tr>\n",
              "    <tr>\n",
              "      <th>2016-11-21</th>\n",
              "      <td>1.365082</td>\n",
              "      <td>83.122277</td>\n",
              "    </tr>\n",
              "    <tr>\n",
              "      <th>2016-11-22</th>\n",
              "      <td>1.365321</td>\n",
              "      <td>83.148428</td>\n",
              "    </tr>\n",
              "    <tr>\n",
              "      <th>2016-11-23</th>\n",
              "      <td>1.365561</td>\n",
              "      <td>83.174587</td>\n",
              "    </tr>\n",
              "    <tr>\n",
              "      <th>2016-11-25</th>\n",
              "      <td>1.365800</td>\n",
              "      <td>83.200754</td>\n",
              "    </tr>\n",
              "    <tr>\n",
              "      <th>...</th>\n",
              "      <td>...</td>\n",
              "      <td>...</td>\n",
              "    </tr>\n",
              "    <tr>\n",
              "      <th>2022-02-03</th>\n",
              "      <td>1.678654</td>\n",
              "      <td>125.243407</td>\n",
              "    </tr>\n",
              "    <tr>\n",
              "      <th>2022-02-04</th>\n",
              "      <td>1.678894</td>\n",
              "      <td>125.282464</td>\n",
              "    </tr>\n",
              "    <tr>\n",
              "      <th>2022-02-07</th>\n",
              "      <td>1.679133</td>\n",
              "      <td>125.321533</td>\n",
              "    </tr>\n",
              "    <tr>\n",
              "      <th>2022-02-08</th>\n",
              "      <td>1.679373</td>\n",
              "      <td>125.360614</td>\n",
              "    </tr>\n",
              "    <tr>\n",
              "      <th>2022-02-09</th>\n",
              "      <td>1.679612</td>\n",
              "      <td>125.399706</td>\n",
              "    </tr>\n",
              "  </tbody>\n",
              "</table>\n",
              "<p>1315 rows × 2 columns</p>\n",
              "</div>\n",
              "      <button class=\"colab-df-convert\" onclick=\"convertToInteractive('df-e7ae9b41-f3af-4a36-a8ed-0aa6878cd49d')\"\n",
              "              title=\"Convert this dataframe to an interactive table.\"\n",
              "              style=\"display:none;\">\n",
              "        \n",
              "  <svg xmlns=\"http://www.w3.org/2000/svg\" height=\"24px\"viewBox=\"0 0 24 24\"\n",
              "       width=\"24px\">\n",
              "    <path d=\"M0 0h24v24H0V0z\" fill=\"none\"/>\n",
              "    <path d=\"M18.56 5.44l.94 2.06.94-2.06 2.06-.94-2.06-.94-.94-2.06-.94 2.06-2.06.94zm-11 1L8.5 8.5l.94-2.06 2.06-.94-2.06-.94L8.5 2.5l-.94 2.06-2.06.94zm10 10l.94 2.06.94-2.06 2.06-.94-2.06-.94-.94-2.06-.94 2.06-2.06.94z\"/><path d=\"M17.41 7.96l-1.37-1.37c-.4-.4-.92-.59-1.43-.59-.52 0-1.04.2-1.43.59L10.3 9.45l-7.72 7.72c-.78.78-.78 2.05 0 2.83L4 21.41c.39.39.9.59 1.41.59.51 0 1.02-.2 1.41-.59l7.78-7.78 2.81-2.81c.8-.78.8-2.07 0-2.86zM5.41 20L4 18.59l7.72-7.72 1.47 1.35L5.41 20z\"/>\n",
              "  </svg>\n",
              "      </button>\n",
              "      \n",
              "  <style>\n",
              "    .colab-df-container {\n",
              "      display:flex;\n",
              "      flex-wrap:wrap;\n",
              "      gap: 12px;\n",
              "    }\n",
              "\n",
              "    .colab-df-convert {\n",
              "      background-color: #E8F0FE;\n",
              "      border: none;\n",
              "      border-radius: 50%;\n",
              "      cursor: pointer;\n",
              "      display: none;\n",
              "      fill: #1967D2;\n",
              "      height: 32px;\n",
              "      padding: 0 0 0 0;\n",
              "      width: 32px;\n",
              "    }\n",
              "\n",
              "    .colab-df-convert:hover {\n",
              "      background-color: #E2EBFA;\n",
              "      box-shadow: 0px 1px 2px rgba(60, 64, 67, 0.3), 0px 1px 3px 1px rgba(60, 64, 67, 0.15);\n",
              "      fill: #174EA6;\n",
              "    }\n",
              "\n",
              "    [theme=dark] .colab-df-convert {\n",
              "      background-color: #3B4455;\n",
              "      fill: #D2E3FC;\n",
              "    }\n",
              "\n",
              "    [theme=dark] .colab-df-convert:hover {\n",
              "      background-color: #434B5C;\n",
              "      box-shadow: 0px 1px 3px 1px rgba(0, 0, 0, 0.15);\n",
              "      filter: drop-shadow(0px 1px 2px rgba(0, 0, 0, 0.3));\n",
              "      fill: #FFFFFF;\n",
              "    }\n",
              "  </style>\n",
              "\n",
              "      <script>\n",
              "        const buttonEl =\n",
              "          document.querySelector('#df-e7ae9b41-f3af-4a36-a8ed-0aa6878cd49d button.colab-df-convert');\n",
              "        buttonEl.style.display =\n",
              "          google.colab.kernel.accessAllowed ? 'block' : 'none';\n",
              "\n",
              "        async function convertToInteractive(key) {\n",
              "          const element = document.querySelector('#df-e7ae9b41-f3af-4a36-a8ed-0aa6878cd49d');\n",
              "          const dataTable =\n",
              "            await google.colab.kernel.invokeFunction('convertToInteractive',\n",
              "                                                     [key], {});\n",
              "          if (!dataTable) return;\n",
              "\n",
              "          const docLinkHtml = 'Like what you see? Visit the ' +\n",
              "            '<a target=\"_blank\" href=https://colab.research.google.com/notebooks/data_table.ipynb>data table notebook</a>'\n",
              "            + ' to learn more about interactive tables.';\n",
              "          element.innerHTML = '';\n",
              "          dataTable['output_type'] = 'display_data';\n",
              "          await google.colab.output.renderOutput(dataTable, element);\n",
              "          const docLink = document.createElement('div');\n",
              "          docLink.innerHTML = docLinkHtml;\n",
              "          element.appendChild(docLink);\n",
              "        }\n",
              "      </script>\n",
              "    </div>\n",
              "  </div>\n",
              "  "
            ]
          },
          "metadata": {},
          "execution_count": 30
        }
      ]
    },
    {
      "cell_type": "code",
      "source": [
        "plt.figure(figsize=(8,5))\n",
        "plt.plot(train_data.Close ,label=\"Training\")\n",
        "plt.plot(test_data.Close ,label=\"Test\")\n",
        "plt.plot(prediction_SARIMA.Predictions_scaled_SARIMA, label=\"Predicted_Sarima\")\n",
        "plt.legend(loc = 'upper left')\n",
        "plt.show()"
      ],
      "metadata": {
        "id": "qYO06rwR8Boq",
        "colab": {
          "base_uri": "https://localhost:8080/",
          "height": 320
        },
        "outputId": "3788c840-7af8-48b2-adb8-c550967d90c3"
      },
      "execution_count": 31,
      "outputs": [
        {
          "output_type": "display_data",
          "data": {
            "text/plain": [
              "<Figure size 576x360 with 1 Axes>"
            ],
            "image/png": "[encoded data removed]"
          },
          "metadata": {
            "needs_background": "light"
          }
        }
      ]
    },
    {
      "cell_type": "code",
      "source": [
        "def evaluate_prediction(predicted, actual, model_name):\n",
        "        mse = mean_squared_error(predicted, actual)\n",
        "        rsme = np.sqrt((mean_squared_error(predicted, actual)))\n",
        "        mae = mean_absolute_error(actual, predicted)\n",
        "        r2 = r2_score(actual, predicted)\n",
        "        max_err = max_error(actual, predicted)\n",
        "        print(colored(model_name + ' performance:', 'red'))\n",
        "        print('R^2: {:.4f} %'.format(r2 * 100))\n",
        "        print('Mean Absolute Error: {:.4f}'.format(mae))\n",
        "        print('Mean Squared Error: {:.4f}'.format(mse))\n",
        "        print('Root Mean Squared Error: {:.4f}'.format(rsme))\n",
        "        print('Max_error: {:.4f}'.format(max_err))\n",
        "        print('')\n",
        "        return\n",
        "\n",
        "evaluate_prediction(prediction_SARIMA.Predictions_scaled_SARIMA, test_data.Close, 'SARIMA')"
      ],
      "metadata": {
        "colab": {
          "base_uri": "https://localhost:8080/"
        },
        "id": "MdvOjBvP-0iF",
        "outputId": "c7c6388f-3de2-4aa8-cb9c-d0114897cedb"
      },
      "execution_count": 32,
      "outputs": [
        {
          "output_type": "stream",
          "name": "stdout",
          "text": [
            "\u001b[31mSARIMA performance:\u001b[0m\n",
            "R^2: 58.4180 %\n",
            "Mean Absolute Error: 12.5665\n",
            "Mean Squared Error: 240.6616\n",
            "Root Mean Squared Error: 15.5133\n",
            "Max_error: 39.9192\n",
            "\n"
          ]
        }
      ]
    },
    {
      "cell_type": "markdown",
      "source": [
        "# SARIMAX"
      ],
      "metadata": {
        "id": "ePCFNlLw1NqY"
      }
    },
    {
      "cell_type": "code",
      "source": [
        "model_autoSARIMAX = auto_arima(train_data_endog, exogenous=train_data_exog, start_p=0, start_q=0,\n",
        "                      test='adf',       # use adftest to find optimal 'd'\n",
        "                      max_p=2, max_q=2, # maximum p and q\n",
        "                      m=12,              # frequency of series\n",
        "                      d=1,             \n",
        "                      seasonal=True,  \n",
        "                      start_P=0, \n",
        "                      start_D=0,\n",
        "                      start_Q=0, \n",
        "                      max_P=2, max_D=1,\n",
        "                      max_Q=2,\n",
        "                      trace=True,\n",
        "                      error_action='ignore',  \n",
        "                      suppress_warnings=True, \n",
        "                      stepwise=True)"
      ],
      "metadata": {
        "id": "pKhUKuBe7QeR",
        "colab": {
          "base_uri": "https://localhost:8080/"
        },
        "outputId": "d1d37bc7-be4c-40fa-ea8f-08ad20cafc32"
      },
      "execution_count": 39,
      "outputs": [
        {
          "output_type": "stream",
          "name": "stdout",
          "text": [
            "Performing stepwise search to minimize aic\n",
            " ARIMA(0,1,0)(0,0,0)[12] intercept   : AIC=-137807.625, Time=11.17 sec\n",
            " ARIMA(1,1,0)(1,0,0)[12] intercept   : AIC=-137811.731, Time=68.96 sec\n",
            " ARIMA(0,1,1)(0,0,1)[12] intercept   : AIC=-137811.877, Time=30.57 sec\n",
            " ARIMA(0,1,0)(0,0,0)[12]             : AIC=-137661.173, Time=17.52 sec\n",
            " ARIMA(0,1,1)(0,0,0)[12] intercept   : AIC=-137812.561, Time=12.13 sec\n",
            " ARIMA(0,1,1)(1,0,0)[12] intercept   : AIC=-137811.961, Time=27.50 sec\n",
            " ARIMA(0,1,1)(1,0,1)[12] intercept   : AIC=-137808.331, Time=26.46 sec\n",
            " ARIMA(1,1,1)(0,0,0)[12] intercept   : AIC=-137803.049, Time=13.79 sec\n",
            " ARIMA(0,1,2)(0,0,0)[12] intercept   : AIC=-137816.138, Time=14.15 sec\n",
            " ARIMA(0,1,2)(1,0,0)[12] intercept   : AIC=-137815.592, Time=29.22 sec\n",
            " ARIMA(0,1,2)(0,0,1)[12] intercept   : AIC=-137815.475, Time=32.31 sec\n",
            " ARIMA(0,1,2)(1,0,1)[12] intercept   : AIC=-137812.184, Time=18.17 sec\n",
            " ARIMA(1,1,2)(0,0,0)[12] intercept   : AIC=-137800.947, Time=14.47 sec\n",
            " ARIMA(0,1,2)(0,0,0)[12]             : AIC=-137659.544, Time=18.81 sec\n",
            "\n",
            "Best model:  ARIMA(0,1,2)(0,0,0)[12] intercept\n",
            "Total fit time: 335.402 seconds\n"
          ]
        }
      ]
    },
    {
      "cell_type": "code",
      "source": [
        "#Summary of the model\n",
        "model_autoSARIMAX.summary()"
      ],
      "metadata": {
        "colab": {
          "base_uri": "https://localhost:8080/",
          "height": 549
        },
        "outputId": "c6559ccb-11f3-479b-baa4-d3405a4f4ddf",
        "id": "1da0xFpg1kWc"
      },
      "execution_count": 40,
      "outputs": [
        {
          "output_type": "execute_result",
          "data": {
            "text/plain": [
              "<class 'statsmodels.iolib.summary.Summary'>\n",
              "\"\"\"\n",
              "                               SARIMAX Results                                \n",
              "==============================================================================\n",
              "Dep. Variable:                      y   No. Observations:                11830\n",
              "Model:               SARIMAX(0, 1, 2)   Log Likelihood               68917.069\n",
              "Date:                Mon, 11 Apr 2022   AIC                        -137816.138\n",
              "Time:                        09:32:11   BIC                        -137749.733\n",
              "Sample:                             0   HQIC                       -137793.847\n",
              "                              - 11830                                         \n",
              "Covariance Type:                  opg                                         \n",
              "==============================================================================\n",
              "                 coef    std err          z      P>|z|      [0.025      0.975]\n",
              "------------------------------------------------------------------------------\n",
              "intercept  -8.414e-05   1.32e-05     -6.362      0.000      -0.000   -5.82e-05\n",
              "x1            -0.0031      0.001     -5.394      0.000      -0.004      -0.002\n",
              "x2             0.0089      0.001     11.862      0.000       0.007       0.010\n",
              "x3             0.0061      0.000     12.943      0.000       0.005       0.007\n",
              "x4             1.2530      0.001   1812.870      0.000       1.252       1.254\n",
              "x5          1.793e-05   9.74e-06      1.841      0.066   -1.16e-06     3.7e-05\n",
              "ma.L1         -0.0246      0.012     -2.006      0.045      -0.049      -0.001\n",
              "ma.L2         -0.0219      0.018     -1.246      0.213      -0.056       0.013\n",
              "sigma2      5.097e-07   2.44e-09    208.847      0.000    5.05e-07    5.14e-07\n",
              "===================================================================================\n",
              "Ljung-Box (L1) (Q):                   0.00   Jarque-Bera (JB):           2360314.10\n",
              "Prob(Q):                              0.99   Prob(JB):                         0.00\n",
              "Heteroskedasticity (H):               0.66   Skew:                            -7.30\n",
              "Prob(H) (two-sided):                  0.00   Kurtosis:                        70.64\n",
              "===================================================================================\n",
              "\n",
              "Warnings:\n",
              "[1] Covariance matrix calculated using the outer product of gradients (complex-step).\n",
              "\"\"\""
            ],
            "text/html": [
              "<table class=\"simpletable\">\n",
              "<caption>SARIMAX Results</caption>\n",
              "<tr>\n",
              "  <th>Dep. Variable:</th>           <td>y</td>        <th>  No. Observations:  </th>    <td>11830</td>   \n",
              "</tr>\n",
              "<tr>\n",
              "  <th>Model:</th>           <td>SARIMAX(0, 1, 2)</td> <th>  Log Likelihood     </th>  <td>68917.069</td> \n",
              "</tr>\n",
              "<tr>\n",
              "  <th>Date:</th>            <td>Mon, 11 Apr 2022</td> <th>  AIC                </th> <td>-137816.138</td>\n",
              "</tr>\n",
              "<tr>\n",
              "  <th>Time:</th>                <td>09:32:11</td>     <th>  BIC                </th> <td>-137749.733</td>\n",
              "</tr>\n",
              "<tr>\n",
              "  <th>Sample:</th>                  <td>0</td>        <th>  HQIC               </th> <td>-137793.847</td>\n",
              "</tr>\n",
              "<tr>\n",
              "  <th></th>                     <td> - 11830</td>     <th>                     </th>      <td> </td>     \n",
              "</tr>\n",
              "<tr>\n",
              "  <th>Covariance Type:</th>        <td>opg</td>       <th>                     </th>      <td> </td>     \n",
              "</tr>\n",
              "</table>\n",
              "<table class=\"simpletable\">\n",
              "<tr>\n",
              "      <td></td>         <th>coef</th>     <th>std err</th>      <th>z</th>      <th>P>|z|</th>  <th>[0.025</th>    <th>0.975]</th>  \n",
              "</tr>\n",
              "<tr>\n",
              "  <th>intercept</th> <td>-8.414e-05</td> <td> 1.32e-05</td> <td>   -6.362</td> <td> 0.000</td> <td>   -0.000</td> <td>-5.82e-05</td>\n",
              "</tr>\n",
              "<tr>\n",
              "  <th>x1</th>        <td>   -0.0031</td> <td>    0.001</td> <td>   -5.394</td> <td> 0.000</td> <td>   -0.004</td> <td>   -0.002</td>\n",
              "</tr>\n",
              "<tr>\n",
              "  <th>x2</th>        <td>    0.0089</td> <td>    0.001</td> <td>   11.862</td> <td> 0.000</td> <td>    0.007</td> <td>    0.010</td>\n",
              "</tr>\n",
              "<tr>\n",
              "  <th>x3</th>        <td>    0.0061</td> <td>    0.000</td> <td>   12.943</td> <td> 0.000</td> <td>    0.005</td> <td>    0.007</td>\n",
              "</tr>\n",
              "<tr>\n",
              "  <th>x4</th>        <td>    1.2530</td> <td>    0.001</td> <td> 1812.870</td> <td> 0.000</td> <td>    1.252</td> <td>    1.254</td>\n",
              "</tr>\n",
              "<tr>\n",
              "  <th>x5</th>        <td> 1.793e-05</td> <td> 9.74e-06</td> <td>    1.841</td> <td> 0.066</td> <td>-1.16e-06</td> <td>  3.7e-05</td>\n",
              "</tr>\n",
              "<tr>\n",
              "  <th>ma.L1</th>     <td>   -0.0246</td> <td>    0.012</td> <td>   -2.006</td> <td> 0.045</td> <td>   -0.049</td> <td>   -0.001</td>\n",
              "</tr>\n",
              "<tr>\n",
              "  <th>ma.L2</th>     <td>   -0.0219</td> <td>    0.018</td> <td>   -1.246</td> <td> 0.213</td> <td>   -0.056</td> <td>    0.013</td>\n",
              "</tr>\n",
              "<tr>\n",
              "  <th>sigma2</th>    <td> 5.097e-07</td> <td> 2.44e-09</td> <td>  208.847</td> <td> 0.000</td> <td> 5.05e-07</td> <td> 5.14e-07</td>\n",
              "</tr>\n",
              "</table>\n",
              "<table class=\"simpletable\">\n",
              "<tr>\n",
              "  <th>Ljung-Box (L1) (Q):</th>     <td>0.00</td> <th>  Jarque-Bera (JB):  </th> <td>2360314.10</td>\n",
              "</tr>\n",
              "<tr>\n",
              "  <th>Prob(Q):</th>                <td>0.99</td> <th>  Prob(JB):          </th>    <td>0.00</td>   \n",
              "</tr>\n",
              "<tr>\n",
              "  <th>Heteroskedasticity (H):</th> <td>0.66</td> <th>  Skew:              </th>    <td>-7.30</td>  \n",
              "</tr>\n",
              "<tr>\n",
              "  <th>Prob(H) (two-sided):</th>    <td>0.00</td> <th>  Kurtosis:          </th>    <td>70.64</td>  \n",
              "</tr>\n",
              "</table><br/><br/>Warnings:<br/>[1] Covariance matrix calculated using the outer product of gradients (complex-step)."
            ]
          },
          "metadata": {},
          "execution_count": 40
        }
      ]
    },
    {
      "cell_type": "code",
      "source": [
        "model_autoSARIMAX.plot_diagnostics(figsize=(10,8))\n",
        "plt.show()"
      ],
      "metadata": {
        "colab": {
          "base_uri": "https://localhost:8080/",
          "height": 513
        },
        "outputId": "5dd8cd31-7e3d-48d9-a254-d77899b09f1c",
        "id": "70Moz5cY1kWc"
      },
      "execution_count": 41,
      "outputs": [
        {
          "output_type": "display_data",
          "data": {
            "text/plain": [
              "<Figure size 720x576 with 4 Axes>"
            ],
            "image/png": "[encoded data removed]"
          },
          "metadata": {
            "needs_background": "light"
          }
        }
      ]
    },
    {
      "cell_type": "code",
      "source": [
        "prediction_SARIMAX = pd.DataFrame(model_autoSARIMAX.predict(n_periods = 1315, exogenous=test_data_exog), index=test_data.index)\n",
        "prediction_SARIMAX.columns = ['Predictions_SARIMAX']\n",
        "prediction_rescaled_SARIMAX = pt_endog.inverse_transform(prediction_SARIMAX.values)\n",
        "prediction_SARIMAX['Predictions_scaled_SARIMAX'] = prediction_rescaled_SARIMAX\n",
        "prediction_SARIMAX"
      ],
      "metadata": {
        "colab": {
          "base_uri": "https://localhost:8080/",
          "height": 455
        },
        "outputId": "0b71a255-5d64-4e6a-924c-e37f8ba80bf1",
        "id": "rVRkHiJO1kWc"
      },
      "execution_count": 42,
      "outputs": [
        {
          "output_type": "execute_result",
          "data": {
            "text/plain": [
              "            Predictions_SARIMAX  Predictions_scaled_SARIMAX\n",
              "Date                                                       \n",
              "2016-11-18             1.354247                   81.947895\n",
              "2016-11-21             1.360251                   82.596613\n",
              "2016-11-22             1.361358                   82.716803\n",
              "2016-11-23             1.360497                   82.623366\n",
              "2016-11-25             1.367843                   83.424229\n",
              "...                         ...                         ...\n",
              "2022-02-03             1.921701                  171.664133\n",
              "2022-02-04             1.908608                  168.782290\n",
              "2022-02-07             1.902313                  167.413628\n",
              "2022-02-08             1.900375                  166.994594\n",
              "2022-02-09             1.898453                  166.579900\n",
              "\n",
              "[1315 rows x 2 columns]"
            ],
            "text/html": [
              "\n",
              "  <div id=\"df-2cd4fbd4-a39c-4d4b-93a8-21a380ec54a2\">\n",
              "    <div class=\"colab-df-container\">\n",
              "      <div>\n",
              "<style scoped>\n",
              "    .dataframe tbody tr th:only-of-type {\n",
              "        vertical-align: middle;\n",
              "    }\n",
              "\n",
              "    .dataframe tbody tr th {\n",
              "        vertical-align: top;\n",
              "    }\n",
              "\n",
              "    .dataframe thead th {\n",
              "        text-align: right;\n",
              "    }\n",
              "</style>\n",
              "<table border=\"1\" class=\"dataframe\">\n",
              "  <thead>\n",
              "    <tr style=\"text-align: right;\">\n",
              "      <th></th>\n",
              "      <th>Predictions_SARIMAX</th>\n",
              "      <th>Predictions_scaled_SARIMAX</th>\n",
              "    </tr>\n",
              "    <tr>\n",
              "      <th>Date</th>\n",
              "      <th></th>\n",
              "      <th></th>\n",
              "    </tr>\n",
              "  </thead>\n",
              "  <tbody>\n",
              "    <tr>\n",
              "      <th>2016-11-18</th>\n",
              "      <td>1.354247</td>\n",
              "      <td>81.947895</td>\n",
              "    </tr>\n",
              "    <tr>\n",
              "      <th>2016-11-21</th>\n",
              "      <td>1.360251</td>\n",
              "      <td>82.596613</td>\n",
              "    </tr>\n",
              "    <tr>\n",
              "      <th>2016-11-22</th>\n",
              "      <td>1.361358</td>\n",
              "      <td>82.716803</td>\n",
              "    </tr>\n",
              "    <tr>\n",
              "      <th>2016-11-23</th>\n",
              "      <td>1.360497</td>\n",
              "      <td>82.623366</td>\n",
              "    </tr>\n",
              "    <tr>\n",
              "      <th>2016-11-25</th>\n",
              "      <td>1.367843</td>\n",
              "      <td>83.424229</td>\n",
              "    </tr>\n",
              "    <tr>\n",
              "      <th>...</th>\n",
              "      <td>...</td>\n",
              "      <td>...</td>\n",
              "    </tr>\n",
              "    <tr>\n",
              "      <th>2022-02-03</th>\n",
              "      <td>1.921701</td>\n",
              "      <td>171.664133</td>\n",
              "    </tr>\n",
              "    <tr>\n",
              "      <th>2022-02-04</th>\n",
              "      <td>1.908608</td>\n",
              "      <td>168.782290</td>\n",
              "    </tr>\n",
              "    <tr>\n",
              "      <th>2022-02-07</th>\n",
              "      <td>1.902313</td>\n",
              "      <td>167.413628</td>\n",
              "    </tr>\n",
              "    <tr>\n",
              "      <th>2022-02-08</th>\n",
              "      <td>1.900375</td>\n",
              "      <td>166.994594</td>\n",
              "    </tr>\n",
              "    <tr>\n",
              "      <th>2022-02-09</th>\n",
              "      <td>1.898453</td>\n",
              "      <td>166.579900</td>\n",
              "    </tr>\n",
              "  </tbody>\n",
              "</table>\n",
              "<p>1315 rows × 2 columns</p>\n",
              "</div>\n",
              "      <button class=\"colab-df-convert\" onclick=\"convertToInteractive('df-2cd4fbd4-a39c-4d4b-93a8-21a380ec54a2')\"\n",
              "              title=\"Convert this dataframe to an interactive table.\"\n",
              "              style=\"display:none;\">\n",
              "        \n",
              "  <svg xmlns=\"http://www.w3.org/2000/svg\" height=\"24px\"viewBox=\"0 0 24 24\"\n",
              "       width=\"24px\">\n",
              "    <path d=\"M0 0h24v24H0V0z\" fill=\"none\"/>\n",
              "    <path d=\"M18.56 5.44l.94 2.06.94-2.06 2.06-.94-2.06-.94-.94-2.06-.94 2.06-2.06.94zm-11 1L8.5 8.5l.94-2.06 2.06-.94-2.06-.94L8.5 2.5l-.94 2.06-2.06.94zm10 10l.94 2.06.94-2.06 2.06-.94-2.06-.94-.94-2.06-.94 2.06-2.06.94z\"/><path d=\"M17.41 7.96l-1.37-1.37c-.4-.4-.92-.59-1.43-.59-.52 0-1.04.2-1.43.59L10.3 9.45l-7.72 7.72c-.78.78-.78 2.05 0 2.83L4 21.41c.39.39.9.59 1.41.59.51 0 1.02-.2 1.41-.59l7.78-7.78 2.81-2.81c.8-.78.8-2.07 0-2.86zM5.41 20L4 18.59l7.72-7.72 1.47 1.35L5.41 20z\"/>\n",
              "  </svg>\n",
              "      </button>\n",
              "      \n",
              "  <style>\n",
              "    .colab-df-container {\n",
              "      display:flex;\n",
              "      flex-wrap:wrap;\n",
              "      gap: 12px;\n",
              "    }\n",
              "\n",
              "    .colab-df-convert {\n",
              "      background-color: #E8F0FE;\n",
              "      border: none;\n",
              "      border-radius: 50%;\n",
              "      cursor: pointer;\n",
              "      display: none;\n",
              "      fill: #1967D2;\n",
              "      height: 32px;\n",
              "      padding: 0 0 0 0;\n",
              "      width: 32px;\n",
              "    }\n",
              "\n",
              "    .colab-df-convert:hover {\n",
              "      background-color: #E2EBFA;\n",
              "      box-shadow: 0px 1px 2px rgba(60, 64, 67, 0.3), 0px 1px 3px 1px rgba(60, 64, 67, 0.15);\n",
              "      fill: #174EA6;\n",
              "    }\n",
              "\n",
              "    [theme=dark] .colab-df-convert {\n",
              "      background-color: #3B4455;\n",
              "      fill: #D2E3FC;\n",
              "    }\n",
              "\n",
              "    [theme=dark] .colab-df-convert:hover {\n",
              "      background-color: #434B5C;\n",
              "      box-shadow: 0px 1px 3px 1px rgba(0, 0, 0, 0.15);\n",
              "      filter: drop-shadow(0px 1px 2px rgba(0, 0, 0, 0.3));\n",
              "      fill: #FFFFFF;\n",
              "    }\n",
              "  </style>\n",
              "\n",
              "      <script>\n",
              "        const buttonEl =\n",
              "          document.querySelector('#df-2cd4fbd4-a39c-4d4b-93a8-21a380ec54a2 button.colab-df-convert');\n",
              "        buttonEl.style.display =\n",
              "          google.colab.kernel.accessAllowed ? 'block' : 'none';\n",
              "\n",
              "        async function convertToInteractive(key) {\n",
              "          const element = document.querySelector('#df-2cd4fbd4-a39c-4d4b-93a8-21a380ec54a2');\n",
              "          const dataTable =\n",
              "            await google.colab.kernel.invokeFunction('convertToInteractive',\n",
              "                                                     [key], {});\n",
              "          if (!dataTable) return;\n",
              "\n",
              "          const docLinkHtml = 'Like what you see? Visit the ' +\n",
              "            '<a target=\"_blank\" href=https://colab.research.google.com/notebooks/data_table.ipynb>data table notebook</a>'\n",
              "            + ' to learn more about interactive tables.';\n",
              "          element.innerHTML = '';\n",
              "          dataTable['output_type'] = 'display_data';\n",
              "          await google.colab.output.renderOutput(dataTable, element);\n",
              "          const docLink = document.createElement('div');\n",
              "          docLink.innerHTML = docLinkHtml;\n",
              "          element.appendChild(docLink);\n",
              "        }\n",
              "      </script>\n",
              "    </div>\n",
              "  </div>\n",
              "  "
            ]
          },
          "metadata": {},
          "execution_count": 42
        }
      ]
    },
    {
      "cell_type": "code",
      "source": [
        "plt.figure(figsize=(8,5))\n",
        "plt.plot(train_data.Close ,label=\"Training\")\n",
        "plt.plot(test_data.Close ,label=\"Test\")\n",
        "plt.plot(prediction_SARIMAX.Predictions_scaled_SARIMAX, label=\"Predicted_Sarimax\")\n",
        "plt.legend(loc = 'upper left')\n",
        "plt.show()"
      ],
      "metadata": {
        "colab": {
          "base_uri": "https://localhost:8080/",
          "height": 320
        },
        "outputId": "c1ac973b-06ed-4a51-baa9-e1985a7a3ea5",
        "id": "RAofwV3R1kWc"
      },
      "execution_count": 43,
      "outputs": [
        {
          "output_type": "display_data",
          "data": {
            "text/plain": [
              "<Figure size 576x360 with 1 Axes>"
            ],
            "image/png": "[encoded data removed]"
          },
          "metadata": {
            "needs_background": "light"
          }
        }
      ]
    },
    {
      "cell_type": "code",
      "source": [
        "def evaluate_prediction(predicted, actual, model_name):\n",
        "        mse = mean_squared_error(predicted, actual)\n",
        "        rsme = np.sqrt((mean_squared_error(predicted, actual)))\n",
        "        mae = mean_absolute_error(actual, predicted)\n",
        "        r2 = r2_score(actual, predicted)\n",
        "        max_err = max_error(actual, predicted)\n",
        "        print(colored(model_name + ' performance:', 'red'))\n",
        "        print('R^2: {:.4f} %'.format(r2 * 100))\n",
        "        print('Mean Absolute Error: {:.4f}'.format(mae))\n",
        "        print('Mean Squared Error: {:.4f}'.format(mse))\n",
        "        print('Root Mean Squared Error: {:.4f}'.format(rsme))\n",
        "        print('Max_error: {:.4f}'.format(max_err))\n",
        "        print('')\n",
        "        return\n",
        "\n",
        "evaluate_prediction(prediction_SARIMAX.Predictions_scaled_SARIMAX, test_data.Close, 'SARIMAX')"
      ],
      "metadata": {
        "id": "QAGFapLR-3uz",
        "colab": {
          "base_uri": "https://localhost:8080/"
        },
        "outputId": "1e50c044-a96e-4183-900e-000b114ac490"
      },
      "execution_count": 44,
      "outputs": [
        {
          "output_type": "stream",
          "name": "stdout",
          "text": [
            "\u001b[31mSARIMAX performance:\u001b[0m\n",
            "R^2: 98.0139 %\n",
            "Mean Absolute Error: 2.6981\n",
            "Mean Squared Error: 11.4949\n",
            "Root Mean Squared Error: 3.3904\n",
            "Max_error: 7.5520\n",
            "\n"
          ]
        }
      ]
    },
    {
      "cell_type": "markdown",
      "source": [
        "I don't know the best way to estimate seasonal_order(sp,sd,sq,s) parameters.\n",
        "\n",
        "parameter s:\n",
        "\n",
        "1 for yearly\n",
        "4 for quarterly\n",
        "12 for monthly\n",
        "52 for weekly\n",
        "365 for daily\n",
        "\n",
        "https://www.statsmodels.org/dev/generated/statsmodels.tsa.statespace.sarimax.SARIMAX.html\n",
        "\n",
        "When we choose period 365,It will run out of memory.\n",
        "It will probably, SARIMA model is unsuitable to solve this problem.\n",
        "Forecasting with long seasonal periods(for R)\n",
        "Deciding the value of period in seasonal ARIMA (for R)\n",
        "\n",
        "For now, we choose period 1."
      ],
      "metadata": {
        "id": "EcPE_Z9ymT5H"
      }
    },
    {
      "cell_type": "markdown",
      "source": [
        "arima_model =  auto_arima(df_log, start_p=0, d=1, start_q=0, \n",
        "                          max_p=5, max_d=5, max_q=5, start_P=0, \n",
        "                          D=1, start_Q=0, max_P=5, max_D=5,\n",
        "                          max_Q=5, m=12, seasonal=True, \n",
        "                          error_action='warn', trace = True,\n",
        "                          supress_warnings=True, stepwise = True,\n",
        "                          random = True,\n",
        "                          random_state=20, n_fits=5)\n"
      ],
      "metadata": {
        "id": "oQe0Pxxx3dT9"
      }
    },
    {
      "cell_type": "markdown",
      "source": [
        "# VAR"
      ],
      "metadata": {
        "id": "AMvAgzFG2Gkd"
      }
    },
    {
      "cell_type": "markdown",
      "source": [
        "# VARMA"
      ],
      "metadata": {
        "id": "dERSXFJU2KZ4"
      }
    },
    {
      "cell_type": "markdown",
      "source": [
        "# VARMAX"
      ],
      "metadata": {
        "id": "iTEsUmIx2Iy2"
      }
    }
  ]
}