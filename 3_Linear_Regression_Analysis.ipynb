{
  "nbformat": 4,
  "nbformat_minor": 0,
  "metadata": {
    "colab": {
      "name": "3_Linear_Regression_Analysis.ipynb",
      "provenance": [],
      "authorship_tag": "ABX9TyNAsFaW89tSpMxtGKP5ocrE",
      "include_colab_link": true
    },
    "kernelspec": {
      "name": "python3",
      "display_name": "Python 3"
    },
    "language_info": {
      "name": "python"
    }
  },
  "cells": [
    {
      "cell_type": "markdown",
      "metadata": {
        "id": "view-in-github",
        "colab_type": "text"
      },
      "source": [
        "<a href=\"https://colab.research.google.com/github/FrancLis/Multivariate-Time-Series-Forecasting/blob/main/3_Linear_Regression_Analysis.ipynb\" target=\"_parent\"><img src=\"https://colab.research.google.com/assets/colab-badge.svg\" alt=\"Open In Colab\"/></a>"
      ]
    },
    {
      "cell_type": "markdown",
      "source": [
        "# Linear Regression Analysis"
      ],
      "metadata": {
        "id": "_L5SWmDqvusN"
      }
    },
    {
      "cell_type": "markdown",
      "source": [
        "A linear regression analysis has been tried to observe the behaviour of the data"
      ],
      "metadata": {
        "id": "Bv3KrJUI_8r_"
      }
    },
    {
      "cell_type": "code",
      "source": [
        "%matplotlib inline\n",
        "from statsmodels.compat import lzip\n",
        "import statsmodels.api as sm\n",
        "from statsmodels.formula.api import ols\n",
        "import statsmodels.formula.api as smf\n",
        "import sys\n",
        "import seaborn as sns\n",
        "import pandas as pd\n",
        "from matplotlib import pyplot as plt"
      ],
      "metadata": {
        "id": "erhcfuTzncQi",
        "colab": {
          "base_uri": "https://localhost:8080/"
        },
        "outputId": "025c03e9-d05e-4d61-e2a3-4e06bca5b8a0"
      },
      "execution_count": 1,
      "outputs": [
        {
          "output_type": "stream",
          "name": "stderr",
          "text": [
            "/usr/local/lib/python3.7/dist-packages/statsmodels/tools/_testing.py:19: FutureWarning: pandas.util.testing is deprecated. Use the functions in the public API at pandas.testing instead.\n",
            "  import pandas.util.testing as tm\n"
          ]
        }
      ]
    },
    {
      "cell_type": "code",
      "source": [
        "file = r\"/content/PG.csv\"\n",
        "df = pd.read_csv(file, parse_dates=['Date'], index_col='Date')\n",
        "df"
      ],
      "metadata": {
        "colab": {
          "base_uri": "https://localhost:8080/",
          "height": 455
        },
        "id": "sROHI1evLEnq",
        "outputId": "813f50e4-9017-4d23-9157-db196b953671"
      },
      "execution_count": 2,
      "outputs": [
        {
          "output_type": "execute_result",
          "data": {
            "text/plain": [
              "                  Open        High         Low       Close   Adj Close  \\\n",
              "Date                                                                     \n",
              "1970-01-02    1.710938    1.722656    1.708984    1.718750    0.399508   \n",
              "1970-01-05    1.718750    1.730469    1.708984    1.726563    0.401324   \n",
              "1970-01-06    1.722656    1.722656    1.707031    1.718750    0.399508   \n",
              "1970-01-07    1.722656    1.750000    1.722656    1.746094    0.405864   \n",
              "1970-01-08    1.746094    1.773438    1.742188    1.765625    0.410404   \n",
              "...                ...         ...         ...         ...         ...   \n",
              "2022-02-03  161.979996  164.979996  161.619995  164.139999  164.139999   \n",
              "2022-02-04  163.130005  164.490005  161.410004  161.529999  161.529999   \n",
              "2022-02-07  161.869995  162.259995  159.669998  160.320007  160.320007   \n",
              "2022-02-08  161.119995  161.270004  159.649994  159.960007  159.960007   \n",
              "2022-02-09  160.360001  160.639999  159.270004  159.600006  159.600006   \n",
              "\n",
              "              Volume  \n",
              "Date                  \n",
              "1970-01-02    832000  \n",
              "1970-01-05    518400  \n",
              "1970-01-06    480000  \n",
              "1970-01-07    710400  \n",
              "1970-01-08    531200  \n",
              "...              ...  \n",
              "2022-02-03  10474500  \n",
              "2022-02-04   8959900  \n",
              "2022-02-07   6430500  \n",
              "2022-02-08   5048700  \n",
              "2022-02-09   8077400  \n",
              "\n",
              "[13145 rows x 6 columns]"
            ],
            "text/html": [
              "\n",
              "  <div id=\"df-3f4c9fe4-2097-47e4-a01d-8e46bf730910\">\n",
              "    <div class=\"colab-df-container\">\n",
              "      <div>\n",
              "<style scoped>\n",
              "    .dataframe tbody tr th:only-of-type {\n",
              "        vertical-align: middle;\n",
              "    }\n",
              "\n",
              "    .dataframe tbody tr th {\n",
              "        vertical-align: top;\n",
              "    }\n",
              "\n",
              "    .dataframe thead th {\n",
              "        text-align: right;\n",
              "    }\n",
              "</style>\n",
              "<table border=\"1\" class=\"dataframe\">\n",
              "  <thead>\n",
              "    <tr style=\"text-align: right;\">\n",
              "      <th></th>\n",
              "      <th>Open</th>\n",
              "      <th>High</th>\n",
              "      <th>Low</th>\n",
              "      <th>Close</th>\n",
              "      <th>Adj Close</th>\n",
              "      <th>Volume</th>\n",
              "    </tr>\n",
              "    <tr>\n",
              "      <th>Date</th>\n",
              "      <th></th>\n",
              "      <th></th>\n",
              "      <th></th>\n",
              "      <th></th>\n",
              "      <th></th>\n",
              "      <th></th>\n",
              "    </tr>\n",
              "  </thead>\n",
              "  <tbody>\n",
              "    <tr>\n",
              "      <th>1970-01-02</th>\n",
              "      <td>1.710938</td>\n",
              "      <td>1.722656</td>\n",
              "      <td>1.708984</td>\n",
              "      <td>1.718750</td>\n",
              "      <td>0.399508</td>\n",
              "      <td>832000</td>\n",
              "    </tr>\n",
              "    <tr>\n",
              "      <th>1970-01-05</th>\n",
              "      <td>1.718750</td>\n",
              "      <td>1.730469</td>\n",
              "      <td>1.708984</td>\n",
              "      <td>1.726563</td>\n",
              "      <td>0.401324</td>\n",
              "      <td>518400</td>\n",
              "    </tr>\n",
              "    <tr>\n",
              "      <th>1970-01-06</th>\n",
              "      <td>1.722656</td>\n",
              "      <td>1.722656</td>\n",
              "      <td>1.707031</td>\n",
              "      <td>1.718750</td>\n",
              "      <td>0.399508</td>\n",
              "      <td>480000</td>\n",
              "    </tr>\n",
              "    <tr>\n",
              "      <th>1970-01-07</th>\n",
              "      <td>1.722656</td>\n",
              "      <td>1.750000</td>\n",
              "      <td>1.722656</td>\n",
              "      <td>1.746094</td>\n",
              "      <td>0.405864</td>\n",
              "      <td>710400</td>\n",
              "    </tr>\n",
              "    <tr>\n",
              "      <th>1970-01-08</th>\n",
              "      <td>1.746094</td>\n",
              "      <td>1.773438</td>\n",
              "      <td>1.742188</td>\n",
              "      <td>1.765625</td>\n",
              "      <td>0.410404</td>\n",
              "      <td>531200</td>\n",
              "    </tr>\n",
              "    <tr>\n",
              "      <th>...</th>\n",
              "      <td>...</td>\n",
              "      <td>...</td>\n",
              "      <td>...</td>\n",
              "      <td>...</td>\n",
              "      <td>...</td>\n",
              "      <td>...</td>\n",
              "    </tr>\n",
              "    <tr>\n",
              "      <th>2022-02-03</th>\n",
              "      <td>161.979996</td>\n",
              "      <td>164.979996</td>\n",
              "      <td>161.619995</td>\n",
              "      <td>164.139999</td>\n",
              "      <td>164.139999</td>\n",
              "      <td>10474500</td>\n",
              "    </tr>\n",
              "    <tr>\n",
              "      <th>2022-02-04</th>\n",
              "      <td>163.130005</td>\n",
              "      <td>164.490005</td>\n",
              "      <td>161.410004</td>\n",
              "      <td>161.529999</td>\n",
              "      <td>161.529999</td>\n",
              "      <td>8959900</td>\n",
              "    </tr>\n",
              "    <tr>\n",
              "      <th>2022-02-07</th>\n",
              "      <td>161.869995</td>\n",
              "      <td>162.259995</td>\n",
              "      <td>159.669998</td>\n",
              "      <td>160.320007</td>\n",
              "      <td>160.320007</td>\n",
              "      <td>6430500</td>\n",
              "    </tr>\n",
              "    <tr>\n",
              "      <th>2022-02-08</th>\n",
              "      <td>161.119995</td>\n",
              "      <td>161.270004</td>\n",
              "      <td>159.649994</td>\n",
              "      <td>159.960007</td>\n",
              "      <td>159.960007</td>\n",
              "      <td>5048700</td>\n",
              "    </tr>\n",
              "    <tr>\n",
              "      <th>2022-02-09</th>\n",
              "      <td>160.360001</td>\n",
              "      <td>160.639999</td>\n",
              "      <td>159.270004</td>\n",
              "      <td>159.600006</td>\n",
              "      <td>159.600006</td>\n",
              "      <td>8077400</td>\n",
              "    </tr>\n",
              "  </tbody>\n",
              "</table>\n",
              "<p>13145 rows × 6 columns</p>\n",
              "</div>\n",
              "      <button class=\"colab-df-convert\" onclick=\"convertToInteractive('df-3f4c9fe4-2097-47e4-a01d-8e46bf730910')\"\n",
              "              title=\"Convert this dataframe to an interactive table.\"\n",
              "              style=\"display:none;\">\n",
              "        \n",
              "  <svg xmlns=\"http://www.w3.org/2000/svg\" height=\"24px\"viewBox=\"0 0 24 24\"\n",
              "       width=\"24px\">\n",
              "    <path d=\"M0 0h24v24H0V0z\" fill=\"none\"/>\n",
              "    <path d=\"M18.56 5.44l.94 2.06.94-2.06 2.06-.94-2.06-.94-.94-2.06-.94 2.06-2.06.94zm-11 1L8.5 8.5l.94-2.06 2.06-.94-2.06-.94L8.5 2.5l-.94 2.06-2.06.94zm10 10l.94 2.06.94-2.06 2.06-.94-2.06-.94-.94-2.06-.94 2.06-2.06.94z\"/><path d=\"M17.41 7.96l-1.37-1.37c-.4-.4-.92-.59-1.43-.59-.52 0-1.04.2-1.43.59L10.3 9.45l-7.72 7.72c-.78.78-.78 2.05 0 2.83L4 21.41c.39.39.9.59 1.41.59.51 0 1.02-.2 1.41-.59l7.78-7.78 2.81-2.81c.8-.78.8-2.07 0-2.86zM5.41 20L4 18.59l7.72-7.72 1.47 1.35L5.41 20z\"/>\n",
              "  </svg>\n",
              "      </button>\n",
              "      \n",
              "  <style>\n",
              "    .colab-df-container {\n",
              "      display:flex;\n",
              "      flex-wrap:wrap;\n",
              "      gap: 12px;\n",
              "    }\n",
              "\n",
              "    .colab-df-convert {\n",
              "      background-color: #E8F0FE;\n",
              "      border: none;\n",
              "      border-radius: 50%;\n",
              "      cursor: pointer;\n",
              "      display: none;\n",
              "      fill: #1967D2;\n",
              "      height: 32px;\n",
              "      padding: 0 0 0 0;\n",
              "      width: 32px;\n",
              "    }\n",
              "\n",
              "    .colab-df-convert:hover {\n",
              "      background-color: #E2EBFA;\n",
              "      box-shadow: 0px 1px 2px rgba(60, 64, 67, 0.3), 0px 1px 3px 1px rgba(60, 64, 67, 0.15);\n",
              "      fill: #174EA6;\n",
              "    }\n",
              "\n",
              "    [theme=dark] .colab-df-convert {\n",
              "      background-color: #3B4455;\n",
              "      fill: #D2E3FC;\n",
              "    }\n",
              "\n",
              "    [theme=dark] .colab-df-convert:hover {\n",
              "      background-color: #434B5C;\n",
              "      box-shadow: 0px 1px 3px 1px rgba(0, 0, 0, 0.15);\n",
              "      filter: drop-shadow(0px 1px 2px rgba(0, 0, 0, 0.3));\n",
              "      fill: #FFFFFF;\n",
              "    }\n",
              "  </style>\n",
              "\n",
              "      <script>\n",
              "        const buttonEl =\n",
              "          document.querySelector('#df-3f4c9fe4-2097-47e4-a01d-8e46bf730910 button.colab-df-convert');\n",
              "        buttonEl.style.display =\n",
              "          google.colab.kernel.accessAllowed ? 'block' : 'none';\n",
              "\n",
              "        async function convertToInteractive(key) {\n",
              "          const element = document.querySelector('#df-3f4c9fe4-2097-47e4-a01d-8e46bf730910');\n",
              "          const dataTable =\n",
              "            await google.colab.kernel.invokeFunction('convertToInteractive',\n",
              "                                                     [key], {});\n",
              "          if (!dataTable) return;\n",
              "\n",
              "          const docLinkHtml = 'Like what you see? Visit the ' +\n",
              "            '<a target=\"_blank\" href=https://colab.research.google.com/notebooks/data_table.ipynb>data table notebook</a>'\n",
              "            + ' to learn more about interactive tables.';\n",
              "          element.innerHTML = '';\n",
              "          dataTable['output_type'] = 'display_data';\n",
              "          await google.colab.output.renderOutput(dataTable, element);\n",
              "          const docLink = document.createElement('div');\n",
              "          docLink.innerHTML = docLinkHtml;\n",
              "          element.appendChild(docLink);\n",
              "        }\n",
              "      </script>\n",
              "    </div>\n",
              "  </div>\n",
              "  "
            ]
          },
          "metadata": {},
          "execution_count": 2
        }
      ]
    },
    {
      "cell_type": "code",
      "source": [
        "df = df.rename(columns={\"Adj Close\": \"AdjClose\"})"
      ],
      "metadata": {
        "id": "TsV7xRewn1vr"
      },
      "execution_count": 3,
      "outputs": []
    },
    {
      "cell_type": "code",
      "source": [
        "df['Close_shifted'] = df['Close'].shift(periods=1)\n",
        "ds = df.dropna()\n",
        "ds"
      ],
      "metadata": {
        "id": "5Xk6kfeoyYY3",
        "colab": {
          "base_uri": "https://localhost:8080/",
          "height": 455
        },
        "outputId": "8ec9c3b9-5310-4234-8cc0-b266b1403d1b"
      },
      "execution_count": 4,
      "outputs": [
        {
          "output_type": "execute_result",
          "data": {
            "text/plain": [
              "                  Open        High         Low       Close    AdjClose  \\\n",
              "Date                                                                     \n",
              "1970-01-05    1.718750    1.730469    1.708984    1.726563    0.401324   \n",
              "1970-01-06    1.722656    1.722656    1.707031    1.718750    0.399508   \n",
              "1970-01-07    1.722656    1.750000    1.722656    1.746094    0.405864   \n",
              "1970-01-08    1.746094    1.773438    1.742188    1.765625    0.410404   \n",
              "1970-01-09    1.765625    1.765625    1.753906    1.761719    0.409496   \n",
              "...                ...         ...         ...         ...         ...   \n",
              "2022-02-03  161.979996  164.979996  161.619995  164.139999  164.139999   \n",
              "2022-02-04  163.130005  164.490005  161.410004  161.529999  161.529999   \n",
              "2022-02-07  161.869995  162.259995  159.669998  160.320007  160.320007   \n",
              "2022-02-08  161.119995  161.270004  159.649994  159.960007  159.960007   \n",
              "2022-02-09  160.360001  160.639999  159.270004  159.600006  159.600006   \n",
              "\n",
              "              Volume  Close_shifted  \n",
              "Date                                 \n",
              "1970-01-05    518400       1.718750  \n",
              "1970-01-06    480000       1.726563  \n",
              "1970-01-07    710400       1.718750  \n",
              "1970-01-08    531200       1.746094  \n",
              "1970-01-09    262400       1.765625  \n",
              "...              ...            ...  \n",
              "2022-02-03  10474500     162.600006  \n",
              "2022-02-04   8959900     164.139999  \n",
              "2022-02-07   6430500     161.529999  \n",
              "2022-02-08   5048700     160.320007  \n",
              "2022-02-09   8077400     159.960007  \n",
              "\n",
              "[13144 rows x 7 columns]"
            ],
            "text/html": [
              "\n",
              "  <div id=\"df-fca16b67-1ad3-4608-883f-53f2f7b522ee\">\n",
              "    <div class=\"colab-df-container\">\n",
              "      <div>\n",
              "<style scoped>\n",
              "    .dataframe tbody tr th:only-of-type {\n",
              "        vertical-align: middle;\n",
              "    }\n",
              "\n",
              "    .dataframe tbody tr th {\n",
              "        vertical-align: top;\n",
              "    }\n",
              "\n",
              "    .dataframe thead th {\n",
              "        text-align: right;\n",
              "    }\n",
              "</style>\n",
              "<table border=\"1\" class=\"dataframe\">\n",
              "  <thead>\n",
              "    <tr style=\"text-align: right;\">\n",
              "      <th></th>\n",
              "      <th>Open</th>\n",
              "      <th>High</th>\n",
              "      <th>Low</th>\n",
              "      <th>Close</th>\n",
              "      <th>AdjClose</th>\n",
              "      <th>Volume</th>\n",
              "      <th>Close_shifted</th>\n",
              "    </tr>\n",
              "    <tr>\n",
              "      <th>Date</th>\n",
              "      <th></th>\n",
              "      <th></th>\n",
              "      <th></th>\n",
              "      <th></th>\n",
              "      <th></th>\n",
              "      <th></th>\n",
              "      <th></th>\n",
              "    </tr>\n",
              "  </thead>\n",
              "  <tbody>\n",
              "    <tr>\n",
              "      <th>1970-01-05</th>\n",
              "      <td>1.718750</td>\n",
              "      <td>1.730469</td>\n",
              "      <td>1.708984</td>\n",
              "      <td>1.726563</td>\n",
              "      <td>0.401324</td>\n",
              "      <td>518400</td>\n",
              "      <td>1.718750</td>\n",
              "    </tr>\n",
              "    <tr>\n",
              "      <th>1970-01-06</th>\n",
              "      <td>1.722656</td>\n",
              "      <td>1.722656</td>\n",
              "      <td>1.707031</td>\n",
              "      <td>1.718750</td>\n",
              "      <td>0.399508</td>\n",
              "      <td>480000</td>\n",
              "      <td>1.726563</td>\n",
              "    </tr>\n",
              "    <tr>\n",
              "      <th>1970-01-07</th>\n",
              "      <td>1.722656</td>\n",
              "      <td>1.750000</td>\n",
              "      <td>1.722656</td>\n",
              "      <td>1.746094</td>\n",
              "      <td>0.405864</td>\n",
              "      <td>710400</td>\n",
              "      <td>1.718750</td>\n",
              "    </tr>\n",
              "    <tr>\n",
              "      <th>1970-01-08</th>\n",
              "      <td>1.746094</td>\n",
              "      <td>1.773438</td>\n",
              "      <td>1.742188</td>\n",
              "      <td>1.765625</td>\n",
              "      <td>0.410404</td>\n",
              "      <td>531200</td>\n",
              "      <td>1.746094</td>\n",
              "    </tr>\n",
              "    <tr>\n",
              "      <th>1970-01-09</th>\n",
              "      <td>1.765625</td>\n",
              "      <td>1.765625</td>\n",
              "      <td>1.753906</td>\n",
              "      <td>1.761719</td>\n",
              "      <td>0.409496</td>\n",
              "      <td>262400</td>\n",
              "      <td>1.765625</td>\n",
              "    </tr>\n",
              "    <tr>\n",
              "      <th>...</th>\n",
              "      <td>...</td>\n",
              "      <td>...</td>\n",
              "      <td>...</td>\n",
              "      <td>...</td>\n",
              "      <td>...</td>\n",
              "      <td>...</td>\n",
              "      <td>...</td>\n",
              "    </tr>\n",
              "    <tr>\n",
              "      <th>2022-02-03</th>\n",
              "      <td>161.979996</td>\n",
              "      <td>164.979996</td>\n",
              "      <td>161.619995</td>\n",
              "      <td>164.139999</td>\n",
              "      <td>164.139999</td>\n",
              "      <td>10474500</td>\n",
              "      <td>162.600006</td>\n",
              "    </tr>\n",
              "    <tr>\n",
              "      <th>2022-02-04</th>\n",
              "      <td>163.130005</td>\n",
              "      <td>164.490005</td>\n",
              "      <td>161.410004</td>\n",
              "      <td>161.529999</td>\n",
              "      <td>161.529999</td>\n",
              "      <td>8959900</td>\n",
              "      <td>164.139999</td>\n",
              "    </tr>\n",
              "    <tr>\n",
              "      <th>2022-02-07</th>\n",
              "      <td>161.869995</td>\n",
              "      <td>162.259995</td>\n",
              "      <td>159.669998</td>\n",
              "      <td>160.320007</td>\n",
              "      <td>160.320007</td>\n",
              "      <td>6430500</td>\n",
              "      <td>161.529999</td>\n",
              "    </tr>\n",
              "    <tr>\n",
              "      <th>2022-02-08</th>\n",
              "      <td>161.119995</td>\n",
              "      <td>161.270004</td>\n",
              "      <td>159.649994</td>\n",
              "      <td>159.960007</td>\n",
              "      <td>159.960007</td>\n",
              "      <td>5048700</td>\n",
              "      <td>160.320007</td>\n",
              "    </tr>\n",
              "    <tr>\n",
              "      <th>2022-02-09</th>\n",
              "      <td>160.360001</td>\n",
              "      <td>160.639999</td>\n",
              "      <td>159.270004</td>\n",
              "      <td>159.600006</td>\n",
              "      <td>159.600006</td>\n",
              "      <td>8077400</td>\n",
              "      <td>159.960007</td>\n",
              "    </tr>\n",
              "  </tbody>\n",
              "</table>\n",
              "<p>13144 rows × 7 columns</p>\n",
              "</div>\n",
              "      <button class=\"colab-df-convert\" onclick=\"convertToInteractive('df-fca16b67-1ad3-4608-883f-53f2f7b522ee')\"\n",
              "              title=\"Convert this dataframe to an interactive table.\"\n",
              "              style=\"display:none;\">\n",
              "        \n",
              "  <svg xmlns=\"http://www.w3.org/2000/svg\" height=\"24px\"viewBox=\"0 0 24 24\"\n",
              "       width=\"24px\">\n",
              "    <path d=\"M0 0h24v24H0V0z\" fill=\"none\"/>\n",
              "    <path d=\"M18.56 5.44l.94 2.06.94-2.06 2.06-.94-2.06-.94-.94-2.06-.94 2.06-2.06.94zm-11 1L8.5 8.5l.94-2.06 2.06-.94-2.06-.94L8.5 2.5l-.94 2.06-2.06.94zm10 10l.94 2.06.94-2.06 2.06-.94-2.06-.94-.94-2.06-.94 2.06-2.06.94z\"/><path d=\"M17.41 7.96l-1.37-1.37c-.4-.4-.92-.59-1.43-.59-.52 0-1.04.2-1.43.59L10.3 9.45l-7.72 7.72c-.78.78-.78 2.05 0 2.83L4 21.41c.39.39.9.59 1.41.59.51 0 1.02-.2 1.41-.59l7.78-7.78 2.81-2.81c.8-.78.8-2.07 0-2.86zM5.41 20L4 18.59l7.72-7.72 1.47 1.35L5.41 20z\"/>\n",
              "  </svg>\n",
              "      </button>\n",
              "      \n",
              "  <style>\n",
              "    .colab-df-container {\n",
              "      display:flex;\n",
              "      flex-wrap:wrap;\n",
              "      gap: 12px;\n",
              "    }\n",
              "\n",
              "    .colab-df-convert {\n",
              "      background-color: #E8F0FE;\n",
              "      border: none;\n",
              "      border-radius: 50%;\n",
              "      cursor: pointer;\n",
              "      display: none;\n",
              "      fill: #1967D2;\n",
              "      height: 32px;\n",
              "      padding: 0 0 0 0;\n",
              "      width: 32px;\n",
              "    }\n",
              "\n",
              "    .colab-df-convert:hover {\n",
              "      background-color: #E2EBFA;\n",
              "      box-shadow: 0px 1px 2px rgba(60, 64, 67, 0.3), 0px 1px 3px 1px rgba(60, 64, 67, 0.15);\n",
              "      fill: #174EA6;\n",
              "    }\n",
              "\n",
              "    [theme=dark] .colab-df-convert {\n",
              "      background-color: #3B4455;\n",
              "      fill: #D2E3FC;\n",
              "    }\n",
              "\n",
              "    [theme=dark] .colab-df-convert:hover {\n",
              "      background-color: #434B5C;\n",
              "      box-shadow: 0px 1px 3px 1px rgba(0, 0, 0, 0.15);\n",
              "      filter: drop-shadow(0px 1px 2px rgba(0, 0, 0, 0.3));\n",
              "      fill: #FFFFFF;\n",
              "    }\n",
              "  </style>\n",
              "\n",
              "      <script>\n",
              "        const buttonEl =\n",
              "          document.querySelector('#df-fca16b67-1ad3-4608-883f-53f2f7b522ee button.colab-df-convert');\n",
              "        buttonEl.style.display =\n",
              "          google.colab.kernel.accessAllowed ? 'block' : 'none';\n",
              "\n",
              "        async function convertToInteractive(key) {\n",
              "          const element = document.querySelector('#df-fca16b67-1ad3-4608-883f-53f2f7b522ee');\n",
              "          const dataTable =\n",
              "            await google.colab.kernel.invokeFunction('convertToInteractive',\n",
              "                                                     [key], {});\n",
              "          if (!dataTable) return;\n",
              "\n",
              "          const docLinkHtml = 'Like what you see? Visit the ' +\n",
              "            '<a target=\"_blank\" href=https://colab.research.google.com/notebooks/data_table.ipynb>data table notebook</a>'\n",
              "            + ' to learn more about interactive tables.';\n",
              "          element.innerHTML = '';\n",
              "          dataTable['output_type'] = 'display_data';\n",
              "          await google.colab.output.renderOutput(dataTable, element);\n",
              "          const docLink = document.createElement('div');\n",
              "          docLink.innerHTML = docLinkHtml;\n",
              "          element.appendChild(docLink);\n",
              "        }\n",
              "      </script>\n",
              "    </div>\n",
              "  </div>\n",
              "  "
            ]
          },
          "metadata": {},
          "execution_count": 4
        }
      ]
    },
    {
      "cell_type": "markdown",
      "source": [
        "# OLS\n",
        "\n"
      ],
      "metadata": {
        "id": "vgLRwwEOgXYK"
      }
    },
    {
      "cell_type": "markdown",
      "source": [
        "**OLS** is a common technique used in analyzing linear regression. In brief, it compares the difference between individual points in your data set and the predicted best fit line to measure the amount of error produced. \n",
        "\n",
        "The smf.ols() function requires two inputs, the formula for producing the best fit line, and the dataset.\n",
        "\n",
        "The formula is provided as a string, in the following form:\n",
        "\n",
        "***‘dependent variable ~ list of independent variables separated by the + symbol’*** \n",
        "\n",
        "In plain terms, the dependent variable is the factor you are trying to predict, and on the other side of the formula are the variables you are using to predict."
      ],
      "metadata": {
        "id": "YZt4MT-FKbse"
      }
    },
    {
      "cell_type": "code",
      "source": [
        "mod = smf.ols(\"Close_shifted ~ Open + High + Low\t+ Close + AdjClose + Volume\", data=ds)\n",
        "reg = mod.fit()\n",
        "reg.summary()"
      ],
      "metadata": {
        "colab": {
          "base_uri": "https://localhost:8080/",
          "height": 583
        },
        "id": "4hIIFnZo1bPS",
        "outputId": "65260497-4bd9-4682-ea17-9425a0a5ce4a"
      },
      "execution_count": 5,
      "outputs": [
        {
          "output_type": "execute_result",
          "data": {
            "text/plain": [
              "<class 'statsmodels.iolib.summary.Summary'>\n",
              "\"\"\"\n",
              "                            OLS Regression Results                            \n",
              "==============================================================================\n",
              "Dep. Variable:          Close_shifted   R-squared:                       1.000\n",
              "Model:                            OLS   Adj. R-squared:                  1.000\n",
              "Method:                 Least Squares   F-statistic:                 2.397e+07\n",
              "Date:                Wed, 13 Apr 2022   Prob (F-statistic):               0.00\n",
              "Time:                        18:26:01   Log-Likelihood:                -4946.2\n",
              "No. Observations:               13144   AIC:                             9906.\n",
              "Df Residuals:                   13137   BIC:                             9959.\n",
              "Df Model:                           6                                         \n",
              "Covariance Type:            nonrobust                                         \n",
              "==============================================================================\n",
              "                 coef    std err          t      P>|t|      [0.025      0.975]\n",
              "------------------------------------------------------------------------------\n",
              "Intercept     -0.0134      0.005     -2.546      0.011      -0.024      -0.003\n",
              "Open           0.7185      0.010     71.559      0.000       0.699       0.738\n",
              "High           0.3990      0.011     35.138      0.000       0.377       0.421\n",
              "Low            0.1301      0.010     13.487      0.000       0.111       0.149\n",
              "Close         -0.2490      0.011    -23.015      0.000      -0.270      -0.228\n",
              "AdjClose      -0.0008      0.001     -1.666      0.096      -0.002       0.000\n",
              "Volume      3.566e-09   7.58e-10      4.707      0.000    2.08e-09    5.05e-09\n",
              "==============================================================================\n",
              "Omnibus:                    11603.731   Durbin-Watson:                   2.165\n",
              "Prob(Omnibus):                  0.000   Jarque-Bera (JB):         14697503.270\n",
              "Skew:                           3.023   Prob(JB):                         0.00\n",
              "Kurtosis:                     166.707   Cond. No.                     4.43e+07\n",
              "==============================================================================\n",
              "\n",
              "Warnings:\n",
              "[1] Standard Errors assume that the covariance matrix of the errors is correctly specified.\n",
              "[2] The condition number is large, 4.43e+07. This might indicate that there are\n",
              "strong multicollinearity or other numerical problems.\n",
              "\"\"\""
            ],
            "text/html": [
              "<table class=\"simpletable\">\n",
              "<caption>OLS Regression Results</caption>\n",
              "<tr>\n",
              "  <th>Dep. Variable:</th>      <td>Close_shifted</td>  <th>  R-squared:         </th> <td>   1.000</td> \n",
              "</tr>\n",
              "<tr>\n",
              "  <th>Model:</th>                   <td>OLS</td>       <th>  Adj. R-squared:    </th> <td>   1.000</td> \n",
              "</tr>\n",
              "<tr>\n",
              "  <th>Method:</th>             <td>Least Squares</td>  <th>  F-statistic:       </th> <td>2.397e+07</td>\n",
              "</tr>\n",
              "<tr>\n",
              "  <th>Date:</th>             <td>Wed, 13 Apr 2022</td> <th>  Prob (F-statistic):</th>  <td>  0.00</td>  \n",
              "</tr>\n",
              "<tr>\n",
              "  <th>Time:</th>                 <td>18:26:01</td>     <th>  Log-Likelihood:    </th> <td> -4946.2</td> \n",
              "</tr>\n",
              "<tr>\n",
              "  <th>No. Observations:</th>      <td> 13144</td>      <th>  AIC:               </th> <td>   9906.</td> \n",
              "</tr>\n",
              "<tr>\n",
              "  <th>Df Residuals:</th>          <td> 13137</td>      <th>  BIC:               </th> <td>   9959.</td> \n",
              "</tr>\n",
              "<tr>\n",
              "  <th>Df Model:</th>              <td>     6</td>      <th>                     </th>     <td> </td>    \n",
              "</tr>\n",
              "<tr>\n",
              "  <th>Covariance Type:</th>      <td>nonrobust</td>    <th>                     </th>     <td> </td>    \n",
              "</tr>\n",
              "</table>\n",
              "<table class=\"simpletable\">\n",
              "<tr>\n",
              "      <td></td>         <th>coef</th>     <th>std err</th>      <th>t</th>      <th>P>|t|</th>  <th>[0.025</th>    <th>0.975]</th>  \n",
              "</tr>\n",
              "<tr>\n",
              "  <th>Intercept</th> <td>   -0.0134</td> <td>    0.005</td> <td>   -2.546</td> <td> 0.011</td> <td>   -0.024</td> <td>   -0.003</td>\n",
              "</tr>\n",
              "<tr>\n",
              "  <th>Open</th>      <td>    0.7185</td> <td>    0.010</td> <td>   71.559</td> <td> 0.000</td> <td>    0.699</td> <td>    0.738</td>\n",
              "</tr>\n",
              "<tr>\n",
              "  <th>High</th>      <td>    0.3990</td> <td>    0.011</td> <td>   35.138</td> <td> 0.000</td> <td>    0.377</td> <td>    0.421</td>\n",
              "</tr>\n",
              "<tr>\n",
              "  <th>Low</th>       <td>    0.1301</td> <td>    0.010</td> <td>   13.487</td> <td> 0.000</td> <td>    0.111</td> <td>    0.149</td>\n",
              "</tr>\n",
              "<tr>\n",
              "  <th>Close</th>     <td>   -0.2490</td> <td>    0.011</td> <td>  -23.015</td> <td> 0.000</td> <td>   -0.270</td> <td>   -0.228</td>\n",
              "</tr>\n",
              "<tr>\n",
              "  <th>AdjClose</th>  <td>   -0.0008</td> <td>    0.001</td> <td>   -1.666</td> <td> 0.096</td> <td>   -0.002</td> <td>    0.000</td>\n",
              "</tr>\n",
              "<tr>\n",
              "  <th>Volume</th>    <td> 3.566e-09</td> <td> 7.58e-10</td> <td>    4.707</td> <td> 0.000</td> <td> 2.08e-09</td> <td> 5.05e-09</td>\n",
              "</tr>\n",
              "</table>\n",
              "<table class=\"simpletable\">\n",
              "<tr>\n",
              "  <th>Omnibus:</th>       <td>11603.731</td> <th>  Durbin-Watson:     </th>   <td>   2.165</td>  \n",
              "</tr>\n",
              "<tr>\n",
              "  <th>Prob(Omnibus):</th>  <td> 0.000</td>   <th>  Jarque-Bera (JB):  </th> <td>14697503.270</td>\n",
              "</tr>\n",
              "<tr>\n",
              "  <th>Skew:</th>           <td> 3.023</td>   <th>  Prob(JB):          </th>   <td>    0.00</td>  \n",
              "</tr>\n",
              "<tr>\n",
              "  <th>Kurtosis:</th>       <td>166.707</td>  <th>  Cond. No.          </th>   <td>4.43e+07</td>  \n",
              "</tr>\n",
              "</table><br/><br/>Warnings:<br/>[1] Standard Errors assume that the covariance matrix of the errors is correctly specified.<br/>[2] The condition number is large, 4.43e+07. This might indicate that there are<br/>strong multicollinearity or other numerical problems."
            ]
          },
          "metadata": {},
          "execution_count": 5
        }
      ]
    },
    {
      "cell_type": "markdown",
      "source": [
        "**Summary explanation**"
      ],
      "metadata": {
        "id": "-5M_v-QpKi8w"
      }
    },
    {
      "cell_type": "markdown",
      "source": [
        "The top of our summary starts by giving us a few details we already know. \n",
        "\n",
        "\n",
        "**Df Residuals** \n",
        "\n",
        "is another name for our Degrees of Freedom in our mode.\n",
        "This is calculated in the form of ‘n-k-1’ or ‘number of observations-number of predicting variables-1.’ \n",
        "\n",
        "**Df Model** \n",
        "\n",
        "numbers our predicting variables. If you’re wondering why we only entered 3 predicting variables into the formula but both Df Residuals and Model are saying there are 6, we’ll get into this later. \n",
        "\n",
        "**Covariance Type**\n",
        "\n",
        "Covariance is a measure of how two variables are linked in a positive or negative manner, and a robust covariance is one that is calculated in a way to minimize or eliminate variables, which is not the case here.\n",
        "\n",
        "**R-squared** \n",
        "\n",
        "is possibly the most important measurement produced by this summary. R-squared is the measurement of how much of the independent variable is explained by changes in our dependent variables. \n",
        "\n",
        "**Adjusted R-squared**\n",
        "\n",
        "R-squared value will never go down with additional variables, only equal or higher. Therefore, your model could look more accurate with multiple variables even if they are poorly contributing. The adjusted R-squared penalizes the R-squared formula based on the number of variables, therefore a lower adjusted score may be telling you some variables are not contributing to your model’s R-squared properly.\n",
        "\n",
        "**F-statistic**\n",
        "\n",
        "In linear regression is comparing your produced linear model for your variables against a model that replaces your variables’ effect to 0, to find out if your group of variables are statistically significant. To interpret this number correctly, using a chosen alpha value and an F-table is necessary. \n",
        "\n",
        "**Prob (F-Statistic)** \n",
        "\n",
        "uses this number to tell you the accuracy of the null hypothesis, or whether it is accurate that your variables’ effect is 0. In this case, it is telling us 0.00107% chance of this. \n",
        "\n",
        "**Log-likelihood** \n",
        "\n",
        "is a numerical signifier of the likelihood that your produced model produced the given data. It is used to compare coefficient values for each variable in the process of creating the model.\n",
        "\n",
        "**AIC** - **BIC** \n",
        "\n",
        "both used to compare the efficacy of models in the process of linear regression, using a penalty system for measuring multiple variables. These numbers are used for feature selection of variables.\n"
      ],
      "metadata": {
        "id": "3wOICTX4g3fV"
      }
    },
    {
      "cell_type": "markdown",
      "source": [
        "\n",
        "**Intercept**\n",
        "\n",
        "is the result of our model if all variables were tuned to 0. In the classic ‘y = mx+b’ linear formula, it is our b, a constant added to explain a starting value for our line.\n",
        "\n",
        "\n",
        "**coefficient** \n",
        "\n",
        "For our intercept, it is the value of the intercept. For each variable, it is the measurement of how change in that variable affects the independent variable. It is the ‘m’ in ‘y = mx + b’ One unit of change in the dependent variable will affect the variable’s coefficient’s worth of change in the independent variable. If the coefficient is negative, they have an inverse relationship. As one rises, the other falls.\n",
        "\n",
        "**std error** \n",
        "\n",
        "is an estimate of the standard deviation of the coefficient, a measurement of the amount of variation in the coefficient throughout its data points. The t is related and is a measurement of the precision with which the coefficient was measured. A low std error compared to a high coefficient produces a high **t statistic**, which signifies a high significance for your coefficient.\n",
        "\n",
        "**P>|t|** is one of the most important statistics in the summary. It uses the t statistic to produce the **p value**, a measurement of how likely your coefficient is measured through our model by chance. The p value of 0.378 for Wealth is saying there is a 37.8% chance the Wealth variable has no affect on the dependent variable, Lottery, and our results are produced by chance. Proper model analysis will compare the p value to a previously established alpha value, or a threshold with which we can apply significance to our coefficient. A common alpha is 0.05, which few of our variables pass in this instance.\n",
        "[0.025 and 0.975] are both measurements of values of our coefficients within 95% of our data, or within two standard deviations. Outside of these values can generally be considered outliers.\n",
        "\n",
        "**Omnibus** \n",
        "\n",
        "describes the normalcy of the distribution of our residuals using skew and kurtosis as measurements. A 0 would indicate perfect normalcy. \n",
        "\n",
        "**Prob(Omnibus)** \n",
        "\n",
        "is a statistical test measuring the probability the residuals are normally distributed. A 1 would indicate perfectly normal distribution.\n",
        "\n",
        "**Skew**\n",
        "\n",
        "is a measurement of symmetry in our data, with 0 being perfect symmetry.\n",
        "\n",
        "**Kurtosis**\n",
        "\n",
        " measures the peakiness of our data, or its concentration around 0 in a normal curve. Higher kurtosis implies fewer outliers.\n",
        "\n",
        "**Durbin-Watson**\n",
        " is a measurement of homoscedasticity, or an even distribution of errors throughout our data. Heteroscedasticity would imply an uneven distribution, for example as the data point grows higher the relative error grows higher. Ideal homoscedasticity will lie between 1 and 2.\n",
        "\n",
        "**Jarque-Bera (JB)** and **Prob(JB)**\n",
        "\n",
        "are alternate methods of measuring the same value as Omnibus and Prob(Omnibus) using skewness and kurtosis. We use these values to confirm each other. Condition number is a measurement of the sensitivity of our model as compared to the size of changes in the data it is analyzing. Multicollinearity is strongly implied by a high condition number. Multicollinearity a term to describe two or more independent variables that are strongly related to each other and are falsely affecting our predicted variable by redundancy.\n",
        "\n",
        "Our definitions barely scratch the surface of any one of these topics. Independent research is strongly encouraged for an understanding of these terms and how they relate to one another."
      ],
      "metadata": {
        "id": "RliVZm-QjvH2"
      }
    },
    {
      "cell_type": "markdown",
      "source": [
        "Durbin-Watson 2.165 error uncorrelated"
      ],
      "metadata": {
        "id": "hS5FBU__iyyh"
      }
    },
    {
      "cell_type": "code",
      "source": [
        "# base code\n",
        "import statsmodels\n",
        "import numpy as np\n",
        "import seaborn as sns\n",
        "from statsmodels.tools.tools import maybe_unwrap_results\n",
        "from statsmodels.graphics.gofplots import ProbPlot\n",
        "from statsmodels.stats.outliers_influence import variance_inflation_factor\n",
        "import matplotlib.pyplot as plt\n",
        "from typing import Type\n",
        "\n",
        "style_talk = 'seaborn-talk'    #refer to plt.style.available\n",
        "\n",
        "class Linear_Reg_Diagnostic():\n",
        "    \"\"\"\n",
        "    Diagnostic plots to identify potential problems in a linear regression fit.\n",
        "    Mainly,\n",
        "        a. non-linearity of data\n",
        "        b. Correlation of error terms\n",
        "        c. non-constant variance\n",
        "        d. outliers\n",
        "        e. high-leverage points\n",
        "        f. collinearity\n",
        "\n",
        "    Author:\n",
        "        Prajwal Kafle (p33ajkafle@gmail.com, where 3 = r)\n",
        "        Does not come with any sort of warranty.\n",
        "        Please test the code one your end before using.\n",
        "    \"\"\"\n",
        "\n",
        "    def __init__(self,\n",
        "                 results: Type[statsmodels.regression.linear_model.RegressionResultsWrapper]) -> None:\n",
        "        \"\"\"\n",
        "        For a linear regression model, generates following diagnostic plots:\n",
        "\n",
        "        a. residual\n",
        "        b. qq\n",
        "        c. scale location and\n",
        "        d. leverage\n",
        "\n",
        "        and a table\n",
        "\n",
        "        e. vif\n",
        "\n",
        "        Args:\n",
        "            results (Type[statsmodels.regression.linear_model.RegressionResultsWrapper]):\n",
        "                must be instance of statsmodels.regression.linear_model object\n",
        "\n",
        "        Raises:\n",
        "            TypeError: if instance does not belong to above object\n",
        "\n",
        "        Example:\n",
        "        >>> import numpy as np\n",
        "        >>> import pandas as pd\n",
        "        >>> import statsmodels.formula.api as smf\n",
        "        >>> x = np.linspace(-np.pi, np.pi, 100)\n",
        "        >>> y = 3*x + 8 + np.random.normal(0,1, 100)\n",
        "        >>> df = pd.DataFrame({'x':x, 'y':y})\n",
        "        >>> res = smf.ols(formula= \"y ~ x\", data=df).fit()\n",
        "        >>> cls = Linear_Reg_Diagnostic(res)\n",
        "        >>> cls(plot_context=\"seaborn-paper\")\n",
        "\n",
        "        In case you do not need all plots you can also independently make an individual plot/table\n",
        "        in following ways\n",
        "\n",
        "        >>> cls = Linear_Reg_Diagnostic(res)\n",
        "        >>> cls.residual_plot()\n",
        "        >>> cls.qq_plot()\n",
        "        >>> cls.scale_location_plot()\n",
        "        >>> cls.leverage_plot()\n",
        "        >>> cls.vif_table()\n",
        "        \"\"\"\n",
        "\n",
        "        if isinstance(results, statsmodels.regression.linear_model.RegressionResultsWrapper) is False:\n",
        "            raise TypeError(\"result must be instance of statsmodels.regression.linear_model.RegressionResultsWrapper object\")\n",
        "\n",
        "        self.results = maybe_unwrap_results(results)\n",
        "\n",
        "        self.y_true = self.results.model.endog\n",
        "        self.y_predict = self.results.fittedvalues\n",
        "        self.xvar = self.results.model.exog\n",
        "        self.xvar_names = self.results.model.exog_names\n",
        "\n",
        "        self.residual = np.array(self.results.resid)\n",
        "        influence = self.results.get_influence()\n",
        "        self.residual_norm = influence.resid_studentized_internal\n",
        "        self.leverage = influence.hat_matrix_diag\n",
        "        self.cooks_distance = influence.cooks_distance[0]\n",
        "        self.nparams = len(self.results.params)\n",
        "\n",
        "    def __call__(self, plot_context='seaborn-paper'):\n",
        "        # print(plt.style.available)\n",
        "        with plt.style.context(plot_context):\n",
        "            fig, ax = plt.subplots(nrows=2, ncols=2, figsize=(10,10))\n",
        "            self.residual_plot(ax=ax[0,0])\n",
        "            self.qq_plot(ax=ax[0,1])\n",
        "            self.scale_location_plot(ax=ax[1,0])\n",
        "            self.leverage_plot(ax=ax[1,1])\n",
        "            plt.show()\n",
        "\n",
        "        self.vif_table()\n",
        "        return fig, ax\n",
        "\n",
        "\n",
        "    def residual_plot(self, ax=None):\n",
        "        \"\"\"\n",
        "        Residual vs Fitted Plot\n",
        "\n",
        "        Graphical tool to identify non-linearity.\n",
        "        (Roughly) Horizontal red line is an indicator that the residual has a linear pattern\n",
        "        \"\"\"\n",
        "        if ax is None:\n",
        "            fig, ax = plt.subplots()\n",
        "\n",
        "        sns.residplot(\n",
        "            x=self.y_predict,\n",
        "            y=self.residual,\n",
        "            lowess=True,\n",
        "            scatter_kws={'alpha': 0.5},\n",
        "            line_kws={'color': 'red', 'lw': 1, 'alpha': 0.8},\n",
        "            ax=ax)\n",
        "\n",
        "        # annotations\n",
        "        residual_abs = np.abs(self.residual)\n",
        "        abs_resid = np.flip(np.sort(residual_abs))\n",
        "        abs_resid_top_3 = abs_resid[:3]\n",
        "        for i, _ in enumerate(abs_resid_top_3):\n",
        "            ax.annotate(\n",
        "                i,\n",
        "                xy=(self.y_predict[i], self.residual[i]),\n",
        "                color='C3')\n",
        "\n",
        "        ax.set_title('Residuals vs Fitted', fontweight=\"bold\")\n",
        "        ax.set_xlabel('Fitted values')\n",
        "        ax.set_ylabel('Residuals')\n",
        "        return ax\n",
        "\n",
        "\n",
        "    def qq_plot(self, ax=None):\n",
        "        \"\"\"\n",
        "        Standarized Residual vs Theoretical Quantile plot\n",
        "\n",
        "        Used to visually check if residuals are normally distributed.\n",
        "        Points spread along the diagonal line will suggest so.\n",
        "        \"\"\"\n",
        "        if ax is None:\n",
        "            fig, ax = plt.subplots()\n",
        "\n",
        "        QQ = ProbPlot(self.residual_norm)\n",
        "        QQ.qqplot(line='45', alpha=0.5, lw=1, ax=ax)\n",
        "\n",
        "        # annotations\n",
        "        abs_norm_resid = np.flip(np.argsort(np.abs(self.residual_norm)), 0)\n",
        "        abs_norm_resid_top_3 = abs_norm_resid[:3]\n",
        "        for r, i in enumerate(abs_norm_resid_top_3):\n",
        "            ax.annotate(\n",
        "                i,\n",
        "                xy=(np.flip(QQ.theoretical_quantiles, 0)[r], self.residual_norm[i]),\n",
        "                ha='right', color='C3')\n",
        "\n",
        "        ax.set_title('Normal Q-Q', fontweight=\"bold\")\n",
        "        ax.set_xlabel('Theoretical Quantiles')\n",
        "        ax.set_ylabel('Standardized Residuals')\n",
        "        return ax\n",
        "\n",
        "\n",
        "    def vif_table(self):\n",
        "        \"\"\"\n",
        "        VIF table\n",
        "\n",
        "        VIF, the variance inflation factor, is a measure of multicollinearity.\n",
        "        VIF > 5 for a variable indicates that it is highly collinear with the\n",
        "        other input variables.\n",
        "        \"\"\"\n",
        "        vif_df = pd.DataFrame()\n",
        "        vif_df[\"Features\"] = self.xvar_names\n",
        "        vif_df[\"VIF Factor\"] = [variance_inflation_factor(self.xvar, i) for i in range(self.xvar.shape[1])]\n",
        "\n",
        "        print(vif_df\n",
        "                .sort_values(\"VIF Factor\")\n",
        "                .round(2))"
      ],
      "metadata": {
        "id": "OxVy1uBqmPy0"
      },
      "execution_count": 6,
      "outputs": []
    },
    {
      "cell_type": "code",
      "source": [
        "cls1 = Linear_Reg_Diagnostic(reg)"
      ],
      "metadata": {
        "id": "5MwSGG4H7ELU"
      },
      "execution_count": 7,
      "outputs": []
    },
    {
      "cell_type": "markdown",
      "source": [
        "**Plot 1: Residuals vs Fitted plot**"
      ],
      "metadata": {
        "id": "CqJaovwoMeg6"
      }
    },
    {
      "cell_type": "code",
      "source": [
        "cls1.residual_plot()"
      ],
      "metadata": {
        "id": "WkdEx_nC7nCA",
        "colab": {
          "base_uri": "https://localhost:8080/",
          "height": 312
        },
        "outputId": "300cccf9-38e9-4a66-896c-525181f75fc8"
      },
      "execution_count": 8,
      "outputs": [
        {
          "output_type": "execute_result",
          "data": {
            "text/plain": [
              "<matplotlib.axes._subplots.AxesSubplot at 0x7f722ea7ff90>"
            ]
          },
          "metadata": {},
          "execution_count": 8
        },
        {
          "output_type": "display_data",
          "data": {
            "text/plain": [
              "<Figure size 432x288 with 1 Axes>"
            ],
            "image/png": "[encoded data removed]"
          },
          "metadata": {
            "needs_background": "light"
          }
        }
      ]
    },
    {
      "cell_type": "markdown",
      "source": [
        "This is probably the most important plot to understand, and it’s easy to apply this same idea to any other model you work with, regression or otherwise.\n",
        "The X-axis is the Fitted Values, which are the **y-predictions**, and the y-Axis is the **Residuals** which represent the difference between the predictions and the actual y-values. Your goal with this plot should be to make sure that your observations are normally distributed around zero, with equal variance at each point. \n",
        "For this example, it’s near perfect, as you can see the observations are normally distributed around zero with few outliers.\n",
        "It’s very common to see trumpet / fan shaped plots for these, which tend to indicate that there is heteroscedasticity (yes, that’s a real word) present (we’ll talk about this in a little bit), or you’ll see a pattern in them (highlighted through the red spline) which indicates there is a pattern that you are not accounting for. In that case you should do some feature engineering."
      ],
      "metadata": {
        "id": "GER6fwyOvhDT"
      }
    },
    {
      "cell_type": "markdown",
      "source": [
        "We have seen that if the residual errors are not identically distributed, we cannot use tests of significance such as the F-test for regression analysis or perform confidence interval checking on the regression model’s coefficients or the model’s predictions. Many of these tests depend on the residual errors being independent, identically distributed random variables."
      ],
      "metadata": {
        "id": "Q4FHhfIllsy0"
      }
    },
    {
      "cell_type": "markdown",
      "source": [
        "**Plot 2: Normal Q-Q plot**"
      ],
      "metadata": {
        "id": "OnGPtzo7MhvS"
      }
    },
    {
      "cell_type": "code",
      "source": [
        "cls1.qq_plot();"
      ],
      "metadata": {
        "id": "k139edr-7nCA",
        "colab": {
          "base_uri": "https://localhost:8080/",
          "height": 295
        },
        "outputId": "6c5c740b-1a39-4ffe-a782-311a31713416"
      },
      "execution_count": 9,
      "outputs": [
        {
          "output_type": "display_data",
          "data": {
            "text/plain": [
              "<Figure size 432x288 with 1 Axes>"
            ],
            "image/png": "[encoded data removed]"
          },
          "metadata": {
            "needs_background": "light"
          }
        }
      ]
    },
    {
      "cell_type": "markdown",
      "source": [
        "This plot indicates if the residuals are normally distributed, reinforcing the idea from the Residuals vs Fitted plot. If the residuals follow a straight line, they are more normally distributed, and if they deviate severely they may not be so normal and there could be a pattern in your data you are missing."
      ],
      "metadata": {
        "id": "N70yixEBvp2T"
      }
    },
    {
      "cell_type": "code",
      "source": [
        "name = ['Lagrange multiplier statistic', 'p-value', 'f-value', 'f p-value']\n",
        "test = sm.stats.het_breuschpagan(reg.resid, reg.model.exog)\n",
        "lzip(name, test)"
      ],
      "metadata": {
        "colab": {
          "base_uri": "https://localhost:8080/"
        },
        "id": "of2AFu_4EZ9X",
        "outputId": "4a51482e-38d6-4f76-a586-9c3d943eb786"
      },
      "execution_count": 10,
      "outputs": [
        {
          "output_type": "execute_result",
          "data": {
            "text/plain": [
              "[('Lagrange multiplier statistic', 3000.979437851506),\n",
              " ('p-value', 0.0),\n",
              " ('f-value', 647.7995818815612),\n",
              " ('f p-value', 0.0)]"
            ]
          },
          "metadata": {},
          "execution_count": 10
        }
      ]
    },
    {
      "cell_type": "markdown",
      "source": [
        "**Durbin-Watson test**\n",
        "\n",
        "A test of autocorrelation that is designed to take account of the regression model is the Durbin-Watson test (also included in the regression summary). It is used to test the hypothesis that there is no lag one autocorrelation in the residuals. This means if there is no lag one autocorrelation, then information about $ϵi\n",
        "p\n",
        "r\n",
        "o\n",
        "v\n",
        "i\n",
        "d\n",
        "e\n",
        "s\n",
        "l\n",
        "i\n",
        "t\n",
        "t\n",
        "l\n",
        "e\n",
        "o\n",
        "r\n",
        "n\n",
        "o\n",
        "i\n",
        "n\n",
        "f\n",
        "o\n",
        "r\n",
        "m\n",
        "a\n",
        "t\n",
        "i\n",
        "o\n",
        "n\n",
        "a\n",
        "b\n",
        "o\n",
        "u\n",
        "t\n",
        "ϵ{i+1}.\n",
        "\n",
        "A small p-value indicates there is significant autocorrelation remaining in the residuals.\n",
        "\n",
        "If there is no autocorrelation, the Durbin-Watson distribution is symmetric around 2.\n",
        "\n",
        "As a rough rule of thumb (Field, 2013):\n",
        "\n",
        "If Durbin–Watson is less than 1.0, there may be cause for concern.\n",
        "Small values of d indicate successive error terms are positively correlated.\n",
        "If d > 2, successive error terms are negatively correlated."
      ],
      "metadata": {
        "id": "cMsoi5nhGHjr"
      }
    },
    {
      "cell_type": "code",
      "source": [
        "sm.stats.durbin_watson(reg.resid)"
      ],
      "metadata": {
        "colab": {
          "base_uri": "https://localhost:8080/"
        },
        "id": "YVLoIamGFzdE",
        "outputId": "142e8c16-991b-4da7-8ac6-140b25469d52"
      },
      "execution_count": 11,
      "outputs": [
        {
          "output_type": "execute_result",
          "data": {
            "text/plain": [
              "2.164871725534437"
            ]
          },
          "metadata": {},
          "execution_count": 11
        }
      ]
    },
    {
      "cell_type": "markdown",
      "source": [
        "**Collinearity**\n",
        "\n",
        "Collinearity refers to the situation in which two or more predictor variables collinearity are closely related to one another. The presence of collinearity can pose problems in the regression context, since it can be difficult to separate out the individual effects of collinear variables on the response.\n",
        "\n",
        "It is possible for collinearity to exist between three or more variables even if no pair of variables has a particularly high correlation. We call this situation **multicollinearity**.\n",
        "\n"
      ],
      "metadata": {
        "id": "2OByd1KeM4qM"
      }
    },
    {
      "cell_type": "markdown",
      "source": [
        "**Variance inflation factor (VIF)**\n",
        "\n",
        "Instead of inspecting the correlation matrix, a better way to assess multicollinearity is to compute the variance inflation factor (VIF). Note that we ignore the intercept in this test.\n",
        "\n",
        "The smallest possible value for VIF is 1, which indicates the complete absence of collinearity. Typically in practice there is a small amount of collinearity among the predictors.\n",
        "\n",
        "As a rule of thumb, a VIF value that exceeds 5 indicates a problematic amount of collinearity and the parameter estimates will have large standard errors because of this."
      ],
      "metadata": {
        "id": "umh5ff4kMtVN"
      }
    },
    {
      "cell_type": "markdown",
      "source": [
        "**VIF measures the ratio between the variance for a given regression coefficient with only that variable in the model versus the variance for a given regression coefficient with all variables in the model.**\n",
        "A VIF of 1 (the minimum possible VIF) means the tested predictor is not correlated with the other predictors.A VIF of 1 (the minimum possible VIF) means the tested predictor is not correlated with the other predictors."
      ],
      "metadata": {
        "id": "tW3OFS3Y1q3_"
      }
    },
    {
      "cell_type": "code",
      "source": [
        "cls1.vif_table()"
      ],
      "metadata": {
        "id": "-wgeksAF7nCA",
        "colab": {
          "base_uri": "https://localhost:8080/"
        },
        "outputId": "16a32aab-27b4-41cd-c1c1-c91896e18efa"
      },
      "execution_count": 12,
      "outputs": [
        {
          "output_type": "stream",
          "name": "stdout",
          "text": [
            "    Features  VIF Factor\n",
            "6     Volume        1.68\n",
            "0  Intercept        2.92\n",
            "5   AdjClose       30.86\n",
            "3        Low    13202.92\n",
            "1       Open    14494.01\n",
            "4      Close    16841.11\n",
            "2       High    18813.43\n"
          ]
        }
      ]
    },
    {
      "cell_type": "markdown",
      "source": [
        "Ultimately, the presence of multicollinearity results in several problems:\n",
        "\n",
        "\n",
        "1.   The fitted regression coefficients (beta hat) will change substantially if one of the values of one of the x variables is changed only a bit.\n",
        "2.   The variance of the estimated coefficients will be inflated, which means that it will be hard to detect statistical significance. Furthermore, it’s possible that the F statistic is significant but the individual t statistics are not.\n",
        "3.   Ultimately, multicollinearity makes prediction less accurate. For a given model, the underlying assumption is that the relationships among the predicting variables, as well as their relationship with the target variable, will be the same. However, when multicollinearity is present, this is less likely to be the case.\n",
        "\n",
        "\n",
        "\n",
        "\n",
        "\n",
        "\n"
      ],
      "metadata": {
        "id": "Zy2rxuym0tfm"
      }
    },
    {
      "cell_type": "markdown",
      "source": [
        "# Correlation, causation and forecasting\n",
        "\n",
        "Correlation is not causation\n",
        "It is important not to confuse correlation with causation, or causation with forecasting. A variable x may be useful for forecasting a variable y, but that does not mean x is causing y. It is possible that x is causing y, but it may be that yy is causing x, or that the relationship between them is more complicated than simple causality.\n",
        "For example, it is possible to model the number of drownings at a beach resort each month with the number of ice-creams sold in the same period. The model can give reasonable forecasts, not because ice-creams cause drownings, but because people eat more ice-creams on hot days when they are also more likely to go swimming. So the two variables (ice-cream sales and drownings) are correlated, but one is not causing the other. They are both caused by a third variable (temperature). This is an example of “confounding” — where an omitted variable causes changes in both the response variable and at least one predictor variables.\n",
        "We describe a variable that is not included in our forecasting model as a confounder when it influences both the response variable and at least one predictor variable. Confounding makes it difficult to determine what variables are causing changes in other variables, but it does not necessarily make forecasting more difficult.\n",
        "Similarly, it is possible to forecast if it will rain in the afternoon by observing the number of cyclists on the road in the morning. When there are fewer cyclists than usual, it is more likely to rain later in the day. The model can give reasonable forecasts, not because cyclists prevent rain, but because people are more likely to cycle when the published weather forecast is for a dry day. In this case, there is a causal relationship, but in the opposite direction to our forecasting model. The number of cyclists falls because there is rain forecast. That is, y (rainfall) is affecting x (cyclists).\n",
        "\n",
        "It is important to understand that correlations are useful for forecasting, even when there is no causal relationship between the two variables, or when the causality runs in the opposite direction to the model, or when there is confounding.\n",
        "However, often a better model is possible if a causal mechanism can be determined. A better model for drownings will probably include temperatures and visitor numbers and exclude ice-cream sales. A good forecasting model for rainfall will not include cyclists, but it will include atmospheric observations from the previous few days.\n",
        "\n",
        "Forecasting with correlated predictors\n",
        "\n",
        "When two or more predictors are highly correlated it is always challenging to accurately separate their individual effects. Suppose we are forecasting monthly sales of a company for 2012, using data from 2000–2011. In January 2008, a new competitor came into the market and started taking some market share. At the same time, the economy began to decline. In your forecasting model, you include both competitor activity (measured using advertising time on a local television station) and the health of the economy (measured using GDP). It will not be possible to separate the effects of these two predictors because they are highly correlated.\n",
        "Having correlated predictors is not really a problem for forecasting, as we can still compute forecasts without needing to separate out the effects of the predictors. However, it becomes a problem with scenario forecasting as the scenarios should take account of the relationships between predictors. It is also a problem if some historical analysis of the contributions of various predictors is required.\n",
        "\n",
        "**Multicollinearity and forecasting**\n",
        "\n",
        "A closely related issue is multicollinearity, which occurs when similar information is provided by two or more of the predictor variables in a multiple regression.\n",
        "It can occur when two predictors are highly correlated with each other (that is, they have a correlation coefficient close to +1 or -1). In this case, knowing the value of one of the variables tells you a lot about the value of the other variable. Hence, they are providing similar information. For example, foot size can be used to predict height, but including the size of both left and right feet in the same model is not going to make the forecasts any better, although it won’t make them worse either.\n",
        "\n",
        "Multicollinearity can also occur when a linear combination of predictors is highly correlated with another linear combination of predictors. In this case, knowing the value of the first group of predictors tells you a lot about the value of the second group of predictors. Hence, they are providing similar information.\n",
        "An example of this problem is the dummy variable trap discussed in Section 5.4. Suppose you have quarterly data and use four dummy variables, d1, d2, d3 and d4. Then d4=1−d1−d2−d3, so there is perfect correlation between d4 and d1+d2+d3.\n",
        "In the case of perfect correlation (i.e., a correlation of +1 or -1, such as in the dummy variable trap), it is not possible to estimate the regression model.\n",
        "If there is high correlation (close to but not equal to +1 or -1), then the estimation of the regression coefficients is computationally difficult. In fact, some software (notably Microsoft Excel) may give highly inaccurate estimates of the coefficients. Most reputable statistical software will use algorithms to limit the effect of multicollinearity on the coefficient estimates, but you do need to be careful. The major software packages such as R, SPSS, SAS and Stata all use estimation algorithms to avoid the problem as much as possible.\n",
        "\n",
        "When multicollinearity is present, the uncertainty associated with individual regression coefficients will be large. This is because they are difficult to estimate. Consequently, statistical tests (e.g., t-tests) on regression coefficients are unreliable. (In forecasting we are rarely interested in such tests.) Also, it will not be possible to make accurate statements about the contribution of each separate predictor to the forecast.\n",
        "Forecasts will be unreliable if the values of the future predictors are outside the range of the historical values of the predictors. For example, suppose you have fitted a regression model with predictors x1 and x2 which are highly correlated with each other, and suppose that the values of x1 in the fitting data ranged between 0 and 100. Then forecasts based on x1>100 or 0>x1 will be unreliable. It is always a little dangerous when future values of the predictors lie much outside the historical range, but it is especially problematic when multicollinearity is present.\n",
        "\n",
        "Note that if you are using good statistical software, if you are not interested in the specific contributions of each predictor, and if the future values of your predictor variables are within their historical ranges, there is nothing to worry about — multicollinearity is not a problem except when there is perfect correlation.\n",
        "\n"
      ],
      "metadata": {
        "id": "-OI_0ZPy18Ov"
      }
    }
  ]
}