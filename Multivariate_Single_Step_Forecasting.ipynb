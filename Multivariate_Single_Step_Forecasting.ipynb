{
  "nbformat": 4,
  "nbformat_minor": 0,
  "metadata": {
    "colab": {
      "name": "Multivariate_Single_Step_Forecasting.ipynb",
      "provenance": [],
      "collapsed_sections": [],
      "authorship_tag": "ABX9TyOzblPBeU5W80MJAL5c19s6",
      "include_colab_link": true
    },
    "kernelspec": {
      "name": "python3",
      "display_name": "Python 3"
    },
    "language_info": {
      "name": "python"
    },
    "accelerator": "TPU"
  },
  "cells": [
    {
      "cell_type": "markdown",
      "metadata": {
        "id": "view-in-github",
        "colab_type": "text"
      },
      "source": [
        "<a href=\"https://colab.research.google.com/github/FrancLis/Multivariate-Time-Series-Forecasting/blob/main/Multivariate_Single_Step_Forecasting.ipynb\" target=\"_parent\"><img src=\"https://colab.research.google.com/assets/colab-badge.svg\" alt=\"Open In Colab\"/></a>"
      ]
    },
    {
      "cell_type": "markdown",
      "source": [
        "# Multivariate Time Series Forecasting"
      ],
      "metadata": {
        "id": "4EavV0wmLbVA"
      }
    },
    {
      "cell_type": "code",
      "execution_count": null,
      "metadata": {
        "id": "4t7kSH0iHNO5"
      },
      "outputs": [],
      "source": [
        "# Seed value\n",
        "# Apparently you may use different seed values at each stage\n",
        "seed_value = 0\n",
        "\n",
        "# 1. Set the `PYTHONHASHSEED` environment variable at a fixed value\n",
        "import os\n",
        "os.environ['PYTHONHASHSEED'] = str(seed_value)\n",
        "\n",
        "import numpy as np\n",
        "import tensorflow as tf\n",
        "import random as python_random\n",
        "\n",
        "# The below is necessary for starting Numpy generated random numbers\n",
        "# in a well-defined initial state.\n",
        "np.random.seed(123)\n",
        "\n",
        "# The below is necessary for starting core Python generated random numbers\n",
        "# in a well-defined state.\n",
        "python_random.seed(123)\n",
        "\n",
        "# The below set_seed() will make random number generation\n",
        "# in the TensorFlow backend have a well-defined initial state.\n",
        "# For further details, see:\n",
        "# https://www.tensorflow.org/api_docs/python/tf/random/set_seed\n",
        "tf.random.set_seed(1234)\n",
        "\n",
        "import sys\n",
        "import seaborn as sns\n",
        "import pandas as pd\n",
        "from numpy import zeros, newaxis\n",
        "from matplotlib import pyplot as plt\n",
        "from keras.utils.vis_utils import plot_model\n",
        "from tensorflow import keras\n",
        "from sklearn.preprocessing import MinMaxScaler, PowerTransformer, StandardScaler\n",
        "from sklearn.metrics import mean_squared_error, r2_score, max_error, mean_absolute_error\n",
        "from tensorflow.keras.optimizers import Adam, Nadam\n",
        "from tensorflow.keras import Sequential, layers, callbacks\n",
        "from tensorflow.keras.layers import Input, Dense, LSTM, Dropout, GRU, Bidirectional, SimpleRNN, Conv1D, MaxPooling1D, \\\n",
        "    Flatten, Activation"
      ]
    },
    {
      "cell_type": "markdown",
      "source": [
        "## 3. Data prepocessing"
      ],
      "metadata": {
        "id": "z8LPDz-6sU1m"
      }
    },
    {
      "cell_type": "markdown",
      "source": [
        "#### 3.1 Data Cleaning"
      ],
      "metadata": {
        "id": "-WHi3rrBVjpL"
      }
    },
    {
      "cell_type": "markdown",
      "source": [
        "##### 3.1.1 Check presence of Missing values"
      ],
      "metadata": {
        "id": "jO52hL2jySfH"
      }
    },
    {
      "cell_type": "code",
      "source": [
        "# Check missing values\n",
        "df.isnull().sum()"
      ],
      "metadata": {
        "id": "EVu4HgVWVjbz",
        "colab": {
          "base_uri": "https://localhost:8080/"
        },
        "outputId": "f2071e85-71b3-43e1-866e-1dd77c7a136e"
      },
      "execution_count": null,
      "outputs": [
        {
          "output_type": "execute_result",
          "data": {
            "text/plain": [
              "Open         0\n",
              "High         0\n",
              "Low          0\n",
              "Close        0\n",
              "Adj Close    0\n",
              "Volume       0\n",
              "dtype: int64"
            ]
          },
          "metadata": {},
          "execution_count": 11
        }
      ]
    },
    {
      "cell_type": "markdown",
      "source": [
        "There aren't missing value"
      ],
      "metadata": {
        "id": "k1se9nLXG2kA"
      }
    },
    {
      "cell_type": "code",
      "source": [
        "# Replace missing values by interpolation\n",
        "def replace_missing(attribute):\n",
        "    return attribute.interpolate(inplace=True)\n",
        "\n",
        "# replace_missing(df['Open'])\n",
        "# ...."
      ],
      "metadata": {
        "id": "9XBT5QFkx556"
      },
      "execution_count": null,
      "outputs": []
    },
    {
      "cell_type": "markdown",
      "source": [
        "##### 3.1.2 Check and remove Outliers"
      ],
      "metadata": {
        "id": "d7x__JVuyTls"
      }
    },
    {
      "cell_type": "code",
      "source": [
        "# Detect and remove outliers with IQR\n",
        "def detect_remove_outliers(df, column):\n",
        "    # IQR\n",
        "    Q1 = np.percentile(df[f'{column}'], 25, interpolation='midpoint')\n",
        "    Q3 = np.percentile(df[f'{column}'], 75, interpolation='midpoint')\n",
        "    IQR = Q3 - Q1\n",
        "\n",
        "    # Above Upper bound\n",
        "    upper = df[f'{column}'] >= (Q3 + 1.5 * IQR)\n",
        "    # print(\"Upper bound:\", upper)\n",
        "    print(\"Upper bound outliers:\", f'{column}', np.where(upper))\n",
        "\n",
        "    # Below Lower bound\n",
        "    lower = df[f'{column}'] <= (Q1 - 1.5 * IQR)\n",
        "    # print(\"Lower bound:\", lower)\n",
        "    print(\"Lower bound:\", f'{column}', np.where(lower))\n",
        "\n",
        "    # Removing the Outliers \n",
        "    # df.drop(upper, inplace = True)\n",
        "    # df.drop(lower, inplace = True)\n",
        "    \n",
        "    # print(\"New Shape: \", df.shape)\n",
        "    return\n",
        "\n",
        "# There may be potential outliers in the Volume column, but they won't be considered outliers because\n",
        "# a large volume of transactions is related to a change in the closing price\n",
        "# For the other columns it was previously verified graphically with the boxplot that there aren't outliers.\n",
        "# Also mathematically, with the IQR method, the same result is gotten.\n",
        "\n",
        "titles = [\"Open\", \"High\", \"Low\", \"Close\", \"Adj Close\", \"Volume\"]\n",
        "\n",
        "for i in titles:\n",
        "       detect_remove_outliers(df, f'{i}')"
      ],
      "metadata": {
        "id": "If_G5IgIVvq1",
        "colab": {
          "base_uri": "https://localhost:8080/"
        },
        "outputId": "696710e2-d717-452c-ac9f-891882151eeb"
      },
      "execution_count": null,
      "outputs": [
        {
          "output_type": "stream",
          "name": "stdout",
          "text": [
            "Upper bound outliers: Open (array([13100, 13101, 13102, 13103, 13104, 13105, 13106, 13107, 13108,\n",
            "       13109, 13110, 13111, 13112, 13113, 13114, 13115, 13116, 13117,\n",
            "       13118, 13119, 13120, 13121, 13122, 13123, 13124, 13125, 13126,\n",
            "       13127, 13128, 13129, 13130, 13131, 13132, 13133, 13134, 13135,\n",
            "       13136, 13137, 13138, 13139, 13140, 13141, 13142, 13143, 13144]),)\n",
            "Lower bound: Open (array([], dtype=int64),)\n",
            "Upper bound outliers: High (array([13101, 13102, 13103, 13104, 13105, 13106, 13107, 13108, 13109,\n",
            "       13110, 13111, 13112, 13113, 13114, 13115, 13116, 13117, 13118,\n",
            "       13119, 13120, 13121, 13122, 13123, 13124, 13125, 13126, 13127,\n",
            "       13128, 13129, 13130, 13131, 13132, 13133, 13134, 13135, 13136,\n",
            "       13137, 13138, 13139, 13140, 13141, 13142, 13143, 13144]),)\n",
            "Lower bound: High (array([], dtype=int64),)\n",
            "Upper bound outliers: Low (array([13100, 13102, 13103, 13104, 13105, 13106, 13107, 13108, 13109,\n",
            "       13110, 13111, 13112, 13113, 13114, 13115, 13116, 13117, 13118,\n",
            "       13119, 13120, 13121, 13122, 13123, 13124, 13125, 13126, 13127,\n",
            "       13128, 13129, 13130, 13131, 13132, 13133, 13134, 13135, 13136,\n",
            "       13137, 13138, 13139, 13140, 13141, 13142, 13143, 13144]),)\n",
            "Lower bound: Low (array([], dtype=int64),)\n",
            "Upper bound outliers: Close (array([13099, 13100, 13101, 13102, 13103, 13104, 13105, 13106, 13107,\n",
            "       13108, 13109, 13110, 13111, 13112, 13113, 13114, 13115, 13116,\n",
            "       13117, 13118, 13119, 13120, 13121, 13122, 13123, 13124, 13125,\n",
            "       13126, 13127, 13128, 13129, 13130, 13131, 13132, 13133, 13134,\n",
            "       13135, 13136, 13137, 13138, 13139, 13140, 13141, 13142, 13143,\n",
            "       13144]),)\n",
            "Lower bound: Close (array([], dtype=int64),)\n",
            "Upper bound outliers: Adj Close (array([12480, 12487, 12488, 12489, 12490, 12491, 12492, 12493, 12494,\n",
            "       12495, 12496, 12497, 12498, 12499, 12500, 12501, 12502, 12503,\n",
            "       12504, 12505, 12506, 12507, 12508, 12509, 12510, 12511, 12512,\n",
            "       12513, 12514, 12515, 12516, 12517, 12518, 12519, 12520, 12521,\n",
            "       12522, 12523, 12524, 12525, 12526, 12527, 12528, 12529, 12530,\n",
            "       12531, 12532, 12533, 12534, 12535, 12536, 12537, 12538, 12539,\n",
            "       12540, 12541, 12542, 12543, 12544, 12545, 12546, 12547, 12548,\n",
            "       12549, 12550, 12551, 12552, 12553, 12554, 12555, 12556, 12557,\n",
            "       12558, 12559, 12560, 12561, 12562, 12563, 12564, 12565, 12566,\n",
            "       12567, 12568, 12569, 12570, 12571, 12572, 12573, 12574, 12575,\n",
            "       12576, 12577, 12578, 12579, 12580, 12581, 12582, 12583, 12584,\n",
            "       12585, 12586, 12587, 12588, 12589, 12590, 12591, 12592, 12593,\n",
            "       12594, 12595, 12596, 12597, 12598, 12599, 12600, 12601, 12602,\n",
            "       12603, 12604, 12605, 12606, 12607, 12608, 12609, 12610, 12611,\n",
            "       12612, 12613, 12614, 12615, 12616, 12617, 12618, 12619, 12620,\n",
            "       12621, 12622, 12623, 12624, 12625, 12626, 12627, 12628, 12629,\n",
            "       12630, 12631, 12632, 12633, 12634, 12635, 12636, 12637, 12638,\n",
            "       12639, 12640, 12641, 12642, 12643, 12644, 12645, 12646, 12647,\n",
            "       12648, 12649, 12650, 12651, 12652, 12653, 12654, 12655, 12656,\n",
            "       12657, 12658, 12659, 12660, 12662, 12664, 12665, 12666, 12672,\n",
            "       12673, 12676, 12677, 12678, 12679, 12680, 12681, 12682, 12683,\n",
            "       12684, 12685, 12686, 12687, 12688, 12689, 12690, 12691, 12692,\n",
            "       12693, 12694, 12695, 12696, 12697, 12698, 12699, 12700, 12701,\n",
            "       12702, 12703, 12704, 12705, 12706, 12707, 12708, 12709, 12710,\n",
            "       12711, 12712, 12713, 12714, 12715, 12716, 12717, 12718, 12719,\n",
            "       12720, 12721, 12722, 12723, 12724, 12725, 12726, 12727, 12728,\n",
            "       12729, 12730, 12731, 12732, 12733, 12734, 12735, 12736, 12737,\n",
            "       12738, 12739, 12740, 12741, 12742, 12743, 12744, 12745, 12746,\n",
            "       12747, 12748, 12749, 12750, 12751, 12752, 12753, 12754, 12755,\n",
            "       12756, 12757, 12758, 12759, 12760, 12761, 12762, 12763, 12764,\n",
            "       12765, 12766, 12767, 12768, 12769, 12770, 12771, 12772, 12773,\n",
            "       12774, 12775, 12776, 12777, 12778, 12779, 12780, 12781, 12782,\n",
            "       12783, 12784, 12785, 12786, 12787, 12788, 12789, 12790, 12791,\n",
            "       12792, 12793, 12794, 12795, 12796, 12797, 12798, 12799, 12800,\n",
            "       12801, 12802, 12803, 12804, 12805, 12806, 12807, 12808, 12809,\n",
            "       12810, 12811, 12812, 12813, 12814, 12815, 12816, 12817, 12818,\n",
            "       12819, 12820, 12821, 12822, 12823, 12824, 12825, 12826, 12827,\n",
            "       12828, 12829, 12830, 12831, 12832, 12833, 12834, 12835, 12836,\n",
            "       12837, 12838, 12839, 12840, 12841, 12842, 12843, 12844, 12845,\n",
            "       12846, 12847, 12848, 12849, 12850, 12851, 12852, 12853, 12854,\n",
            "       12855, 12856, 12857, 12858, 12859, 12860, 12861, 12862, 12863,\n",
            "       12864, 12865, 12866, 12867, 12868, 12869, 12870, 12871, 12872,\n",
            "       12873, 12874, 12875, 12876, 12877, 12878, 12879, 12880, 12881,\n",
            "       12882, 12883, 12884, 12885, 12886, 12887, 12888, 12889, 12890,\n",
            "       12891, 12892, 12893, 12894, 12895, 12896, 12897, 12898, 12899,\n",
            "       12900, 12901, 12902, 12903, 12904, 12905, 12906, 12907, 12908,\n",
            "       12909, 12910, 12911, 12912, 12913, 12914, 12915, 12916, 12917,\n",
            "       12918, 12919, 12920, 12921, 12922, 12923, 12924, 12925, 12926,\n",
            "       12927, 12928, 12929, 12930, 12931, 12932, 12933, 12934, 12935,\n",
            "       12936, 12937, 12938, 12939, 12940, 12941, 12942, 12943, 12944,\n",
            "       12945, 12946, 12947, 12948, 12949, 12950, 12951, 12952, 12953,\n",
            "       12954, 12955, 12956, 12957, 12958, 12959, 12960, 12961, 12962,\n",
            "       12963, 12964, 12965, 12966, 12967, 12968, 12969, 12970, 12971,\n",
            "       12972, 12973, 12974, 12975, 12976, 12977, 12978, 12979, 12980,\n",
            "       12981, 12982, 12983, 12984, 12985, 12986, 12987, 12988, 12989,\n",
            "       12990, 12991, 12992, 12993, 12994, 12995, 12996, 12997, 12998,\n",
            "       12999, 13000, 13001, 13002, 13003, 13004, 13005, 13006, 13007,\n",
            "       13008, 13009, 13010, 13011, 13012, 13013, 13014, 13015, 13016,\n",
            "       13017, 13018, 13019, 13020, 13021, 13022, 13023, 13024, 13025,\n",
            "       13026, 13027, 13028, 13029, 13030, 13031, 13032, 13033, 13034,\n",
            "       13035, 13036, 13037, 13038, 13039, 13040, 13041, 13042, 13043,\n",
            "       13044, 13045, 13046, 13047, 13048, 13049, 13050, 13051, 13052,\n",
            "       13053, 13054, 13055, 13056, 13057, 13058, 13059, 13060, 13061,\n",
            "       13062, 13063, 13064, 13065, 13066, 13067, 13068, 13069, 13070,\n",
            "       13071, 13072, 13073, 13074, 13075, 13076, 13077, 13078, 13079,\n",
            "       13080, 13081, 13082, 13083, 13084, 13085, 13086, 13087, 13088,\n",
            "       13089, 13090, 13091, 13092, 13093, 13094, 13095, 13096, 13097,\n",
            "       13098, 13099, 13100, 13101, 13102, 13103, 13104, 13105, 13106,\n",
            "       13107, 13108, 13109, 13110, 13111, 13112, 13113, 13114, 13115,\n",
            "       13116, 13117, 13118, 13119, 13120, 13121, 13122, 13123, 13124,\n",
            "       13125, 13126, 13127, 13128, 13129, 13130, 13131, 13132, 13133,\n",
            "       13134, 13135, 13136, 13137, 13138, 13139, 13140, 13141, 13142,\n",
            "       13143, 13144]),)\n",
            "Lower bound: Adj Close (array([], dtype=int64),)\n",
            "Upper bound outliers: Volume (array([ 2661,  2930,  3167,  3190,  4288,  4384,  4495,  4496,  4497,\n",
            "        4498,  4499,  4501,  4827,  4898,  4956,  5001,  5007,  5945,\n",
            "        7222,  7595,  7596,  7597,  7626,  7627,  7628,  7629,  7630,\n",
            "        7631,  7632,  7633,  7634,  7646,  7652,  7654,  7660,  7661,\n",
            "        7691,  7692,  7707,  7769,  7792,  7916,  8012,  8069,  8193,\n",
            "        8219,  8220,  8222,  8290,  8632,  8701,  8856,  8857,  9026,\n",
            "        9028,  9030,  9080,  9138,  9141,  9167,  9173,  9185,  9214,\n",
            "        9236,  9267,  9378,  9379,  9415,  9421,  9422,  9423,  9424,\n",
            "        9427,  9435,  9448,  9454,  9456,  9457,  9459,  9472,  9482,\n",
            "        9483,  9488,  9489,  9490,  9492,  9493,  9497,  9498,  9549,\n",
            "        9586,  9596,  9599,  9604,  9605,  9606,  9612,  9617,  9634,\n",
            "        9641,  9642,  9643,  9646,  9664,  9665,  9666,  9672,  9673,\n",
            "        9674,  9700,  9710,  9715,  9717,  9718,  9720,  9721,  9723,\n",
            "        9724,  9726,  9727,  9736,  9741,  9749,  9764,  9765,  9766,\n",
            "        9767,  9769,  9770,  9771,  9772,  9773,  9777,  9779,  9780,\n",
            "        9781,  9782,  9783,  9784,  9785,  9786,  9787,  9788,  9789,\n",
            "        9790,  9791,  9792,  9793,  9794,  9796,  9797,  9798,  9799,\n",
            "        9800,  9801,  9802,  9803,  9804,  9805,  9806,  9807,  9808,\n",
            "        9809,  9810,  9811,  9812,  9813,  9814,  9815,  9816,  9817,\n",
            "        9818,  9819,  9820,  9823,  9824,  9825,  9826,  9827,  9828,\n",
            "        9829,  9831,  9832,  9834,  9836,  9837,  9854,  9855,  9856,\n",
            "        9857,  9858,  9859,  9860,  9862,  9864,  9865,  9868,  9871,\n",
            "        9872,  9873,  9875,  9876,  9878,  9881,  9883,  9884,  9885,\n",
            "        9887,  9888,  9889,  9890,  9896,  9897,  9898,  9899,  9902,\n",
            "        9906,  9907,  9916,  9917,  9926,  9945,  9961,  9966,  9973,\n",
            "        9993,  9994,  9995, 10018, 10024, 10053, 10054, 10058, 10088,\n",
            "       10104, 10110, 10114, 10115, 10117, 10125, 10128, 10149, 10177,\n",
            "       10182, 10183, 10192, 10193, 10195, 10196, 10202, 10207, 10212,\n",
            "       10217, 10219, 10220, 10221, 10243, 10244, 10275, 10289, 10290,\n",
            "       10292, 10326, 10339, 10366, 10399, 10401, 10483, 10497, 10498,\n",
            "       10499, 10500, 10501, 10502, 10507, 10508, 10527, 10531, 10556,\n",
            "       10591, 10608, 10609, 10610, 10623, 10636, 10637, 10638, 10670,\n",
            "       10671, 10672, 10681, 10682, 10718, 10719, 10728, 10729, 10730,\n",
            "       10733, 10734, 10783, 10807, 10845, 10867, 10869, 10875, 10928,\n",
            "       10950, 10954, 10969, 11118, 11157, 11249, 11408, 11499, 11516,\n",
            "       11517, 11518, 11534, 11559, 11598, 11616, 11618, 11622, 11625,\n",
            "       11631, 11659, 11771, 11775, 11776, 11778, 11779, 11780, 11782,\n",
            "       11783, 11785, 11786, 11787, 11788, 11789, 11790, 11791, 11792,\n",
            "       11793, 11794, 11795, 11796, 11797, 11798, 11799, 11800, 11803,\n",
            "       11812, 11824, 11849, 11871, 11888, 11889, 11910, 12053, 12061,\n",
            "       12124, 12133, 12134, 12137, 12149, 12161, 12184, 12187, 12292,\n",
            "       12312, 12314, 12315, 12341, 12349, 12355, 12375, 12411, 12505,\n",
            "       12606, 12652, 12660, 12661, 12662, 12663, 12664, 12665, 12666,\n",
            "       12667, 12668, 12674, 12678, 12690, 12730, 12735, 12857, 12903,\n",
            "       12918, 12966, 12986, 13044, 13108]),)\n",
            "Lower bound: Volume (array([], dtype=int64),)\n"
          ]
        }
      ]
    },
    {
      "cell_type": "markdown",
      "source": [
        ""
      ],
      "metadata": {
        "id": "WS2KdjhrQTrj"
      }
    },
    {
      "cell_type": "markdown",
      "source": [
        "*   It seems that these are not outliers. They are a part of the trends of the timeseries"
      ],
      "metadata": {
        "id": "FJ-5qNtOMaLU"
      }
    },
    {
      "cell_type": "markdown",
      "source": [
        "#### 3.2 Data Splitting"
      ],
      "metadata": {
        "id": "qfHlFGwFV5dn"
      }
    },
    {
      "cell_type": "code",
      "source": [
        "# Let's say we want to split the data in 80:10:10 for train:valid:test dataset it was decided to use a manual\n",
        "train_size = 0.8\n",
        "valid_size = 0.1\n",
        "\n",
        "train_index = int(len(df) * train_size)\n",
        "\n",
        "df_train = df[0:train_index]\n",
        "df_rem = df[train_index:]\n",
        "\n",
        "valid_index = int(len(df) * valid_size)\n",
        "\n",
        "df_valid = df[train_index:train_index + valid_index]\n",
        "df_test = df[train_index + valid_index:]\n",
        "test_index = df_test.shape[0]\n",
        "\n",
        "# All the features have been considered in the training set\n",
        "# In the test set has only been included Close Price\n",
        "X_train, y_train = df_train, df_train[['Close']]\n",
        "X_valid, y_valid = df_valid, df_valid[['Close']]\n",
        "X_test, y_test = df_test, df_test[['Close']]\n",
        "\n",
        "print('X_train.shape:', X_train.shape, 'y_train.shape:', y_train.shape)\n",
        "print('X_valid.shape:', X_valid.shape, 'y_valid.shape:', y_valid.shape)\n",
        "print('X_test.shape:', X_test.shape, 'y_test.shape:', y_test.shape)\n"
      ],
      "metadata": {
        "colab": {
          "base_uri": "https://localhost:8080/"
        },
        "id": "JUn_n02bEr_8",
        "outputId": "0487f25d-57a7-416f-b8c7-5f9eafe79c1f"
      },
      "execution_count": null,
      "outputs": [
        {
          "output_type": "stream",
          "name": "stdout",
          "text": [
            "X_train.shape: (10516, 6) y_train.shape: (10516, 1)\n",
            "X_valid.shape: (1314, 6) y_valid.shape: (1314, 1)\n",
            "X_test.shape: (1315, 6) y_test.shape: (1315, 1)\n"
          ]
        }
      ]
    },
    {
      "cell_type": "markdown",
      "source": [
        "#### 3.3 Data Transformation"
      ],
      "metadata": {
        "id": "O1lRwfEWV-hs"
      }
    },
    {
      "cell_type": "code",
      "source": [
        "# Normalization\n",
        "scaler = MinMaxScaler()\n",
        "X_train = scaler.fit_transform(X_train)\n",
        "X_valid = scaler.transform(X_valid)\n",
        "X_test = scaler.transform(X_test)\n",
        "\n",
        "'''\n",
        "# Other transformers\n",
        "# StandardScaler\n",
        "st_scaler = StandardScaler()\n",
        "X_train = st_scaler.fit_transform(X_train)\n",
        "X_test = st_scaler.transform(X_test)\n",
        "\n",
        "# PowerTransformer\n",
        "pt = PowerTransformer()\n",
        "X_train = pt.fit_transform(X_train)\n",
        "X_test = pt.transform(X_test)\n",
        "'''\n",
        "# Convert y sets to numpy array\n",
        "y_train = y_train.to_numpy()\n",
        "y_valid = y_valid.to_numpy()\n",
        "y_test = y_test.to_numpy()\n"
      ],
      "metadata": {
        "id": "qO6TW_wGWEFy"
      },
      "execution_count": null,
      "outputs": []
    },
    {
      "cell_type": "markdown",
      "source": [
        "#### 3.4 Set \"***Window size***\" and **step_ahead** to predict"
      ],
      "metadata": {
        "id": "5iIDNdRfWD0M"
      }
    },
    {
      "cell_type": "code",
      "source": [
        "# Create a 3D input\n",
        "def create_dataset(X, y, lag=1, n_ahead=1):\n",
        "    Xs, ys = [], []\n",
        "    for i in range(len(X) - lag - n_ahead):\n",
        "        Xs.append(X[i:(i + lag)])\n",
        "        ys.append(y[(i + lag):(i + lag + n_ahead)])\n",
        "    return np.array(Xs), np.array(ys)\n",
        "\n",
        "\n",
        "# Choose lag window\n",
        "time_steps = 20\n",
        "# Choose 1 for a single step prediction or 2, 3, ..., n for a multi step prediction\n",
        "step_ahead = 1\n",
        "\n",
        "X_train, y_train = create_dataset(X_train, y_train, time_steps, step_ahead)\n",
        "X_test, y_test = create_dataset(X_test, y_test, time_steps, step_ahead)\n",
        "X_valid, y_valid = create_dataset(X_valid, y_valid, time_steps, step_ahead)\n",
        "\n",
        "\n",
        "print('All shapes are: (batch, time, features)')\n",
        "print('X_train.shape:', X_train.shape, 'y_train.shape:', y_train.shape)\n",
        "print('X_valid.shape:', X_valid.shape, 'y_valid.shape:', y_valid.shape)\n",
        "print('X_test.shape:', X_test.shape, 'y_test.shape:', y_test.shape)"
      ],
      "metadata": {
        "colab": {
          "base_uri": "https://localhost:8080/"
        },
        "id": "z2BSrAGeWfA8",
        "outputId": "357ede0d-db48-4574-bd07-916c6751a4b9"
      },
      "execution_count": null,
      "outputs": [
        {
          "output_type": "stream",
          "name": "stdout",
          "text": [
            "All shapes are: (batch, time, features)\n",
            "X_train.shape: (10495, 20, 6) y_train.shape: (10495, 1, 1)\n",
            "X_valid.shape: (1293, 20, 6) y_valid.shape: (1293, 1, 1)\n",
            "X_test.shape: (1294, 20, 6) y_test.shape: (1294, 1, 1)\n"
          ]
        }
      ]
    },
    {
      "cell_type": "markdown",
      "metadata": {
        "id": "1C5D4-G1XC32"
      },
      "source": [
        "## 4. Model Choice and Learning"
      ]
    },
    {
      "cell_type": "markdown",
      "source": [
        ""
      ],
      "metadata": {
        "id": "jhgPzVcaXTaP"
      }
    },
    {
      "cell_type": "code",
      "source": [
        "# Create Simple RNN model\n",
        "def create_rnn():\n",
        "    model = Sequential()\n",
        "    model.add(SimpleRNN(35, return_sequences=True,\n",
        "                        input_shape=(X_train.shape[1], X_train.shape[2])))\n",
        "    model.add(SimpleRNN(20, return_sequences=True,))\n",
        "    model.add(SimpleRNN(5, return_sequences=True, ))\n",
        "    model.add(SimpleRNN(2))\n",
        "    model.add(Dropout(0))\n",
        "    model.add(Dense(units=y_train.shape[1]))\n",
        "    # Compile model\n",
        "    model.compile(loss='mse', optimizer=Adam(learning_rate=0.001))  # Default_lr = 0.001\n",
        "    model.summary()\n",
        "\n",
        "    return model\n",
        "\n",
        "\n",
        "# Create LSTM model\n",
        "def create_lstm():\n",
        "    model = Sequential()\n",
        "    model.add(Input(shape=(X_train.shape[1], X_train.shape[2])))\n",
        "    model.add(LSTM(64, return_sequences=True))\n",
        "    model.add(LSTM(64, return_sequences=False))\n",
        "    model.add(Dropout(0))\n",
        "    model.add(Dense(units=y_train.shape[1]))\n",
        "    # Compile model\n",
        "    model.compile(loss='mse', optimizer=Adam(learning_rate=0.001))  # Default_lr = 0.001\n",
        "    model.summary()\n",
        "\n",
        "    return model\n",
        "\n",
        "  \n",
        "# Create GRU model\n",
        "def create_gru():\n",
        "    model = Sequential()\n",
        "    model.add(GRU(32, return_sequences=True,\n",
        "                  input_shape=(X_train.shape[1], X_train.shape[2])))\n",
        "    model.add(GRU(32, return_sequences=True,))\n",
        "    model.add(GRU(32, return_sequences=True))\n",
        "    model.add(GRU(32,))\n",
        "    model.add(Dropout(0))\n",
        "    model.add(Dense(units=y_train.shape[1]))\n",
        "    model.add(Activation('linear'))\n",
        "    # Compile model\n",
        "    model.compile(loss='mse', optimizer=Adam(learning_rate=0.001))  # Default_lr = 0.001\n",
        "    model.summary()\n",
        "\n",
        "    return model\n",
        "\n",
        "\n",
        "def create_cnn1d():\n",
        "    # model.add(tf.keras.layers.Dense(1))\n",
        "    model = Sequential()\n",
        "    model.add(Conv1D(filters=64, kernel_size=3, padding='same', activation='relu',\n",
        "                     input_shape=(X_train.shape[1], X_train.shape[2])))\n",
        "    model.add(MaxPooling1D(pool_size=2, padding='same'))\n",
        "    model.add(Dropout(0))\n",
        "    model.add(Conv1D(filters=11, kernel_size=3, padding='same', activation='relu'))\n",
        "    model.add(MaxPooling1D(pool_size=2, padding='same'))\n",
        "    model.add(Dropout(0))\n",
        "    model.add(Conv1D(filters=21, kernel_size=3, padding='same', activation='relu'))\n",
        "    model.add(MaxPooling1D(pool_size=2, padding='same'))\n",
        "    model.add(Dropout(0))\n",
        "    model.add(Flatten())\n",
        "    model.add(Dense(units=y_train.shape[1]))\n",
        "    model.add(Activation('linear'))\n",
        "    # Compile model\n",
        "    model.compile(loss='mse', optimizer=Adam(learning_rate=0.001))  # Default_lr = 0.001\n",
        "    model.summary()\n",
        "\n",
        "    return model\n",
        "\n",
        "\n",
        "# Create Model\n",
        "model_rnn = create_rnn()\n",
        "# model_lstm = create_lstm()\n",
        "# model_gru = create_gru()\n",
        "# model_cnn_1d = create_cnn_1d()\n",
        "\n",
        "\n",
        "def fit_rnn(model):\n",
        "    early_stop = keras.callbacks.EarlyStopping(monitor='val_loss', patience=15, restore_best_weights=True)\n",
        "    history = model.fit(X_train, y_train,\n",
        "                        epochs=250,\n",
        "                        batch_size=350,\n",
        "                        validation_data=[X_valid, y_valid],\n",
        "                        callbacks=[early_stop])\n",
        "    return history\n",
        "\n",
        "\n",
        "def fit_gru(model):\n",
        "    stop_early = tf.keras.callbacks.EarlyStopping(monitor='val_loss', patience=15)\n",
        "                                                 # restore_best_weights=True)\n",
        "    history = model.fit(X_train, y_train,\n",
        "                        epochs=35,\n",
        "                        batch_size=60,\n",
        "                        validation_data=[X_valid, y_valid],\n",
        "                        callbacks=[early_stop])\n",
        "    return history\n",
        "\n",
        "\n",
        "def fit_lstm(model):\n",
        "    early_stop = keras.callbacks.EarlyStopping(monitor='val_loss', patience=15, restore_best_weights=True)\n",
        "    history = model.fit(X_train, y_train,\n",
        "                        epochs=200,\n",
        "                        batch_size=40,\n",
        "                        validation_data=[X_valid, y_valid],\n",
        "                        callbacks=[early_stop])\n",
        "    return history\n",
        "\n",
        "\n",
        "def fit_cnn_1d(model):\n",
        "    early_stop = keras.callbacks.EarlyStopping(monitor='val_loss', patience=10)\n",
        "    history = model.fit(X_train, y_train,\n",
        "                        epochs=100,\n",
        "                        batch_size=100,\n",
        "                        validation_data=[X_valid, y_valid],\n",
        "                        callbacks=[early_stop])\n",
        "    return history\n",
        "\n",
        "\n",
        "history_rnn = fit_rnn(model_rnn)\n",
        "# history_lstm = fit_lstm(model_lstm)\n",
        "# history_gru = fit_gru(model_gru)\n",
        "# history_cnn_1d = fit_cnn_1d(model_cnn_1d)\n",
        "\n",
        "\n",
        "y_test = y_test.reshape(y_test.shape[0], y_test.shape[1])\n",
        "\n",
        "\n",
        "'''\n",
        "checkpoint_filepath = \"train_ckpt/cp.ckpt\"\n",
        "\n",
        "modelckpt_callback = keras.callbacks.ModelCheckpoint(\n",
        "    monitor=\"val_loss\",\n",
        "    filepath=checkpoint_filepath,\n",
        "    verbose=0,\n",
        "    save_weights_only=True,\n",
        "    save_best_only=True,\n",
        ")\n",
        "\n",
        "# model.load_weights(checkpoint_filepath)\n",
        "'''"
      ],
      "metadata": {
        "colab": {
          "base_uri": "https://localhost:8080/",
          "height": 1000
        },
        "id": "bYvKnJWmXTw8",
        "outputId": "5bfbb341-3404-4ae4-e6f9-bb3223d3fe14"
      },
      "execution_count": null,
      "outputs": [
        {
          "output_type": "stream",
          "name": "stdout",
          "text": [
            "Model: \"sequential\"\n",
            "_________________________________________________________________\n",
            " Layer (type)                Output Shape              Param #   \n",
            "=================================================================\n",
            " simple_rnn (SimpleRNN)      (None, 20, 35)            1470      \n",
            "                                                                 \n",
            " simple_rnn_1 (SimpleRNN)    (None, 20, 20)            1120      \n",
            "                                                                 \n",
            " simple_rnn_2 (SimpleRNN)    (None, 20, 5)             130       \n",
            "                                                                 \n",
            " simple_rnn_3 (SimpleRNN)    (None, 2)                 16        \n",
            "                                                                 \n",
            " dropout (Dropout)           (None, 2)                 0         \n",
            "                                                                 \n",
            " dense (Dense)               (None, 1)                 3         \n",
            "                                                                 \n",
            "=================================================================\n",
            "Total params: 2,739\n",
            "Trainable params: 2,739\n",
            "Non-trainable params: 0\n",
            "_________________________________________________________________\n",
            "Epoch 1/250\n",
            "30/30 [==============================] - 13s 130ms/step - loss: 324.0962 - val_loss: 125.7986\n",
            "Epoch 2/250\n",
            "30/30 [==============================] - 2s 67ms/step - loss: 8.8503 - val_loss: 29.0976\n",
            "Epoch 3/250\n",
            "30/30 [==============================] - 2s 74ms/step - loss: 1.9434 - val_loss: 20.3017\n",
            "Epoch 4/250\n",
            "30/30 [==============================] - 2s 72ms/step - loss: 1.6592 - val_loss: 15.1816\n",
            "Epoch 5/250\n",
            "30/30 [==============================] - 2s 66ms/step - loss: 1.5749 - val_loss: 16.6642\n",
            "Epoch 6/250\n",
            "30/30 [==============================] - 2s 64ms/step - loss: 1.4849 - val_loss: 13.3300\n",
            "Epoch 7/250\n",
            "30/30 [==============================] - 1s 36ms/step - loss: 1.3950 - val_loss: 11.2668\n",
            "Epoch 8/250\n",
            "30/30 [==============================] - 1s 33ms/step - loss: 1.3392 - val_loss: 11.1120\n",
            "Epoch 9/250\n",
            "30/30 [==============================] - 1s 34ms/step - loss: 1.3577 - val_loss: 5.3724\n",
            "Epoch 10/250\n",
            "30/30 [==============================] - 1s 34ms/step - loss: 1.3188 - val_loss: 5.2924\n",
            "Epoch 11/250\n",
            "30/30 [==============================] - 1s 33ms/step - loss: 1.2669 - val_loss: 6.4887\n",
            "Epoch 12/250\n",
            "30/30 [==============================] - 1s 34ms/step - loss: 1.2448 - val_loss: 3.7342\n",
            "Epoch 13/250\n",
            "30/30 [==============================] - 1s 34ms/step - loss: 1.2301 - val_loss: 10.5805\n",
            "Epoch 14/250\n",
            "30/30 [==============================] - 1s 32ms/step - loss: 1.1255 - val_loss: 3.1695\n",
            "Epoch 15/250\n",
            "30/30 [==============================] - 1s 32ms/step - loss: 1.1549 - val_loss: 2.8278\n",
            "Epoch 16/250\n",
            "30/30 [==============================] - 1s 33ms/step - loss: 1.5432 - val_loss: 8.1550\n",
            "Epoch 17/250\n",
            "30/30 [==============================] - 1s 34ms/step - loss: 1.1700 - val_loss: 6.5806\n",
            "Epoch 18/250\n",
            "30/30 [==============================] - 1s 32ms/step - loss: 1.1060 - val_loss: 11.1813\n",
            "Epoch 19/250\n",
            "30/30 [==============================] - 1s 32ms/step - loss: 1.0888 - val_loss: 2.9491\n",
            "Epoch 20/250\n",
            "30/30 [==============================] - 1s 34ms/step - loss: 0.9650 - val_loss: 5.9620\n",
            "Epoch 21/250\n",
            "30/30 [==============================] - 1s 33ms/step - loss: 1.0769 - val_loss: 4.4529\n",
            "Epoch 22/250\n",
            "30/30 [==============================] - 1s 32ms/step - loss: 0.9562 - val_loss: 2.6574\n",
            "Epoch 23/250\n",
            "30/30 [==============================] - 1s 32ms/step - loss: 1.0458 - val_loss: 4.2403\n",
            "Epoch 24/250\n",
            "30/30 [==============================] - 1s 32ms/step - loss: 1.0532 - val_loss: 8.2055\n",
            "Epoch 25/250\n",
            "30/30 [==============================] - 1s 33ms/step - loss: 0.9757 - val_loss: 9.7433\n",
            "Epoch 26/250\n",
            "30/30 [==============================] - 1s 32ms/step - loss: 0.9682 - val_loss: 6.1589\n",
            "Epoch 27/250\n",
            "30/30 [==============================] - 1s 32ms/step - loss: 1.1472 - val_loss: 6.2753\n",
            "Epoch 28/250\n",
            "30/30 [==============================] - 1s 32ms/step - loss: 0.9347 - val_loss: 2.7928\n",
            "Epoch 29/250\n",
            "30/30 [==============================] - 1s 33ms/step - loss: 0.9621 - val_loss: 4.3698\n",
            "Epoch 30/250\n",
            "30/30 [==============================] - 1s 33ms/step - loss: 1.0378 - val_loss: 5.3288\n",
            "Epoch 31/250\n",
            "30/30 [==============================] - 1s 32ms/step - loss: 0.9264 - val_loss: 4.2246\n",
            "Epoch 32/250\n",
            "30/30 [==============================] - 1s 32ms/step - loss: 0.8801 - val_loss: 3.6493\n"
          ]
        },
        {
          "output_type": "execute_result",
          "data": {
            "application/vnd.google.colaboratory.intrinsic+json": {
              "type": "string"
            },
            "text/plain": [
              "'\\ncheckpoint_filepath = \"train_ckpt/cp.ckpt\"\\n\\nmodelckpt_callback = keras.callbacks.ModelCheckpoint(\\n    monitor=\"val_loss\",\\n    filepath=checkpoint_filepath,\\n    verbose=0,\\n    save_weights_only=True,\\n    save_best_only=True,\\n)\\n\\n# model.load_weights(checkpoint_filepath)\\n'"
            ]
          },
          "metadata": {},
          "execution_count": 17
        }
      ]
    },
    {
      "cell_type": "code",
      "source": [
        "def plot_model_summary(model, model_name):\n",
        "    plot_model(model, to_file='model_summary_' + model_name + '.png', show_shapes=True)\n",
        "\n",
        "\n",
        "plot_model_summary(model_rnn, 'rnn')\n",
        "# plot_model_summary(model_lstm, 'lstm')\n",
        "# plot_model_summary(model_gru, 'gru')\n",
        "# plot_model_summary(model_cnn_1d, 'cnn1d')"
      ],
      "metadata": {
        "id": "KVdD4myz8KFx"
      },
      "execution_count": null,
      "outputs": []
    },
    {
      "cell_type": "code",
      "source": [
        "# LOSS CURVE\n",
        "# Plot train loss and validation loss\n",
        "\n",
        "def plot_loss(history, model_name):\n",
        "    plt.plot(history.history['loss'])\n",
        "    plt.plot(history.history['val_loss'])\n",
        "    plt.title('Loss curve_' + model_name, fontsize=16, y=1.01)\n",
        "    plt.xlabel('Epochs')\n",
        "    plt.ylabel('Loss')\n",
        "    plt.legend(['Train loss', 'Validation loss'], loc='upper right')\n",
        "    # plt.savefig('Loss curve_' + model name + '.png', dpi=1200)\n",
        "    plt.show()\n",
        "\n",
        "\n",
        "plot_loss(history_rnn, 'rnn')\n",
        "# plot_loss(history_lstm, 'lstm')\n",
        "# plot_loss(history_gru, 'gru')\n",
        "# plot_loss(history_cnn_1d, 'cnn1d')"
      ],
      "metadata": {
        "colab": {
          "base_uri": "https://localhost:8080/",
          "height": 382
        },
        "id": "2OmRt-elXcj3",
        "outputId": "06c290d8-b4e2-4bb3-aa0a-11830a1d6c07"
      },
      "execution_count": null,
      "outputs": [
        {
          "output_type": "display_data",
          "data": {
            "image/png": "[encoded data removed]",
            "text/plain": [
              "<Figure size 576x396 with 1 Axes>"
            ]
          },
          "metadata": {}
        }
      ]
    },
    {
      "cell_type": "code",
      "source": [
        "# Make prediction\n",
        "def prediction(model):\n",
        "    print(X_test.shape)\n",
        "    prediction = model.predict(X_test)\n",
        "    return prediction\n",
        "\n",
        "\n",
        "prediction_rnn = prediction(model_rnn)\n",
        "# prediction_lstm = prediction(model_lstm)\n",
        "# prediction_gru = prediction(model_gru)\n",
        "# prediction_cnn1d = prediction(model_cnn_1d)\n",
        "\n",
        "\n",
        "def plot_future(prediction, model_name, y_test):\n",
        "    plt.figure(figsize=(10, 6))\n",
        "    range_future = len(prediction)\n",
        "    plt.plot(np.arange(range_future), np.array(y_test), label='True Future')\n",
        "    plt.plot(np.arange(range_future), np.array(prediction), label='Prediction')\n",
        "    plt.title('True future vs prediction for ' + model_name)\n",
        "    plt.legend(loc='upper left')\n",
        "    plt.xlabel('Time (day)')\n",
        "    plt.ylabel('Stock Price (€)')\n",
        "    # plt.savefig('Prediction_Evaluation_plot_' + model_name + '.png', dpi=1200)\n",
        "    plt.show()\n",
        "\n",
        "\n",
        "plot_future(prediction_rnn, 'rnn', y_test)\n",
        "# plot_future(prediction_lstm, 'lstm', y_test)\n",
        "# plot_future(prediction_gru, 'gru', y_test)\n",
        "# plot_future(prediction_cnn1d, 'cnn1d', y_test)\n",
        "\n",
        "\n"
      ],
      "metadata": {
        "colab": {
          "base_uri": "https://localhost:8080/",
          "height": 420
        },
        "id": "qlkfTIQtXspx",
        "outputId": "c5f6f6ef-e3ae-41b7-c0db-4ffdfcb7f728"
      },
      "execution_count": null,
      "outputs": [
        {
          "output_type": "stream",
          "name": "stdout",
          "text": [
            "(1294, 20, 6)\n"
          ]
        },
        {
          "output_type": "display_data",
          "data": {
            "image/png": "[encoded data removed]",
            "text/plain": [
              "<Figure size 720x432 with 1 Axes>"
            ]
          },
          "metadata": {}
        }
      ]
    },
    {
      "cell_type": "markdown",
      "source": [
        "**The code has been run to show that it works. The best performance of the algorithms are shown in ....**"
      ],
      "metadata": {
        "id": "Me3fObvO60sr"
      }
    },
    {
      "cell_type": "markdown",
      "source": [
        "## 5. Model Evaluation"
      ],
      "metadata": {
        "id": "QDtfSlL8liFz"
      }
    },
    {
      "cell_type": "code",
      "source": [
        "# Define a function to calculate MAE and RSME\n",
        "def evaluate_prediction(predicted, actual, model_name):\n",
        "    if step_ahead == 1:\n",
        "        rsme = np.sqrt((mean_squared_error(predicted, actual)))\n",
        "        mae = mean_absolute_error(actual, predicted)\n",
        "        r2 = r2_score(actual, predicted)\n",
        "        max_err = max_error(actual, predicted)\n",
        "        print(model_name + ' performance:')\n",
        "        print('R^2: {:.4f} %'.format(r2 * 100))\n",
        "        print('Mean Absolute Error: {:.4f}'.format(mae))\n",
        "        print('Root Mean Square Error: {:.4f}'.format(rsme))\n",
        "        print('Max_error: {:.4f}'.format(max_err))\n",
        "        print('')\n",
        "        return\n",
        "    else:\n",
        "        titles = [\"RMSE\", \"MAE\", \"R^2\"]\n",
        "        # calculate an RMSE score for each day\n",
        "        # calculate mse\n",
        "        rmse = np.sqrt(mean_squared_error(predicted, actual, multioutput='raw_values'))\n",
        "        mae = mean_absolute_error(predicted, actual, multioutput='raw_values')\n",
        "        r2 = r2_score(predicted, actual, multioutput='raw_values')\n",
        "        df_scores = pd.DataFrame(list(zip(rmse, mae, r2)), columns=[f'{x}' for x in titles])\n",
        "        df_scores.index += 1\n",
        "\n",
        "        colors = plt.rcParams[\"axes.prop_cycle\"]()\n",
        "        a = 1  # number of rows\n",
        "        b = 3  # number of columns\n",
        "        c = 1  # initialize plot counter\n",
        "        fig = plt.figure(figsize=(15, 6))\n",
        "        for i in titles:\n",
        "            plt.subplot(a, b, c)\n",
        "            plt.title(f'{i}')\n",
        "            next_colour = next(colors)[\"color\"]\n",
        "            df_scores[f'{i}'].plot(marker='o', color=next_colour)\n",
        "            plt.xticks((range(0, df_scores.shape[0] + 1)))\n",
        "            plt.legend(loc='upper left')\n",
        "            plt.xlabel('Forecast Range (Day)')\n",
        "            plt.ylabel(f'{i}')\n",
        "            c = c + 1\n",
        "\n",
        "        plt.subplots_adjust(.5)\n",
        "        fig.suptitle(\"Evaluation of performances' trend in the multi step forecasted range\", fontsize=16, y=1)\n",
        "        plt.tight_layout()\n",
        "        # plt.savefig('EvaluationMultiplePrediction_PG.png', dpi=1200)\n",
        "        plt.show()\n",
        "\n",
        "        # calculate overall RMSE\n",
        "        overall_rmse = np.sqrt(mean_squared_error(predicted, actual, multioutput='uniform_average'))\n",
        "        overall_mae = mean_absolute_error(predicted, actual, multioutput='uniform_average')\n",
        "        overall_r2 = r2_score(predicted, actual, multioutput='uniform_average')\n",
        "        print(model_name + ' performance:')\n",
        "        print('R^2: {:.4f} %'.format(overall_r2 * 100))\n",
        "        print('Mean Absolute Error: {:.4f}'.format(overall_mae))\n",
        "        print('Root Mean Square Error: {:.4f}'.format(overall_rmse))\n",
        "        print('')\n",
        "        return\n",
        "\n",
        "\n",
        "evaluate_prediction(prediction_rnn, y_test, 'rnn')\n",
        "# evaluate_prediction(prediction_lstm, y_test, 'lstm')\n",
        "# evaluate_prediction(prediction_gru, y_test, 'gru')\n",
        "# evaluate_prediction(prediction_cnn_1d, y_test, 'cnn1d')\n"
      ],
      "metadata": {
        "colab": {
          "base_uri": "https://localhost:8080/"
        },
        "id": "Huqj8nSIXvjW",
        "outputId": "586e30b7-06f8-4b06-9d63-ddd47134cad3"
      },
      "execution_count": null,
      "outputs": [
        {
          "output_type": "stream",
          "name": "stdout",
          "text": [
            "rnn performance:\n",
            "R^2: 97.3860 %\n",
            "Mean Absolute Error: 3.1143\n",
            "Root Mean Square Error: 3.8763\n",
            "Max_error: 19.3268\n",
            "\n"
          ]
        }
      ]
    },
    {
      "cell_type": "code",
      "source": [
        "def save_model(model, model_name):\n",
        "    model.save('./' + model_name + 'model')\n",
        "    return\n",
        "\n",
        "\n",
        "save_model(model_rnn, 'rnn')\n",
        "# save_model(model_lstm, 'lstm')\n",
        "# save_model(model_gru, 'gru')\n",
        "# save_model(model_cnn1d, 'cnn1d')\n",
        "\n",
        "\n",
        "# Code to reload model and verify that the operation of saving went well\n",
        "# loaded_model = tf.keras.models.load_model('./best_model_simple_rnn')\n",
        "# loaded_model.summary()\n",
        "# assert np.allclose(model_simple_rnn.predict(X_test), loaded_model.predict(X_test))"
      ],
      "metadata": {
        "id": "3s8SFaZ4YSWL",
        "colab": {
          "base_uri": "https://localhost:8080/"
        },
        "outputId": "c9fd3c5a-b923-4082-bada-964fc2c6299b"
      },
      "execution_count": null,
      "outputs": [
        {
          "output_type": "stream",
          "name": "stdout",
          "text": [
            "INFO:tensorflow:Assets written to: ./rnn/assets\n"
          ]
        }
      ]
    }
  ]
}